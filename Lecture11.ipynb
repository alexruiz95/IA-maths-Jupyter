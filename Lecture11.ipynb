{
 "cells": [
  {
   "cell_type": "markdown",
   "metadata": {},
   "source": [
    "# Lecture 11 - diagonalising matrices\n",
    "\n",
    "By an appropriate transformation, most matrices can be made diagonal. The diagonal form of a matrix can be convenient for a number of purposes. For one, it is easy to interpret the action of a diagonal matrix on a vector - it simply rescales the $i$th vector component by the $(i, i)$ component of the matrix. Some operations, such as raising a matrix to a power or computing the determinant, are trivial for diagonal matrices.\n",
    "\n",
    "## Diagonalisation\n",
    "\n",
    "Most matrices can be diagonalised. It is shown in the lecture notes that\n",
    "\n",
    "$$\n",
    "\\boldsymbol{A} = \\boldsymbol{U} \\boldsymbol{\\Lambda} \\boldsymbol{U}^{-1}\n",
    "$$\n",
    "\n",
    "where the $i$th column of $\\boldsymbol{U}$ is the $i$th eigenvector of $\\boldsymbol{U}$, and $\\boldsymbol{\\Lambda}$ is a diagonal matrix where $\\Lambda_{ii}$ is the $i$th eigenvalue.\n",
    "\n",
    "If $\\boldsymbol{A}$ is invertible (no zero eigenvalues), then $\\boldsymbol{U}^{-1}$ exists. Therefore\n",
    "\n",
    "$$ \n",
    "\\boldsymbol{\\Lambda} = \\boldsymbol{U}^{-1} \\boldsymbol{A} \\boldsymbol{U}\n",
    "$$\n",
    "\n",
    "We can explore this property with a concrete examples. We first create a matrix:"
   ]
  },
  {
   "cell_type": "code",
   "execution_count": 1,
   "metadata": {
    "collapsed": false
   },
   "outputs": [
    {
     "name": "stdout",
     "output_type": "stream",
     "text": [
      "[[ 0.4359949   0.02592623  0.54966248  0.43532239]\n",
      " [ 0.4203678   0.33033482  0.20464863  0.61927097]\n",
      " [ 0.29965467  0.26682728  0.62113383  0.52914209]\n",
      " [ 0.13457995  0.51357812  0.18443987  0.78533515]]\n"
     ]
    }
   ],
   "source": [
    "# Import NumPy and seed random number generator to make generated matrices deterministic\n",
    "import numpy as np\n",
    "np.random.seed(2)\n",
    "\n",
    "# Create a matrix with random entries\n",
    "A = np.random.rand(4, 4)\n",
    "print(A)"
   ]
  },
  {
   "cell_type": "markdown",
   "metadata": {},
   "source": [
    "We can compute the eigenvectors and eigenvalues using the NumPy function `linalg.eig`"
   ]
  },
  {
   "cell_type": "code",
   "execution_count": 2,
   "metadata": {
    "collapsed": false
   },
   "outputs": [
    {
     "name": "stdout",
     "output_type": "stream",
     "text": [
      "Eigenvalues: [ 1.60005805+0.j          0.07591753+0.13825201j  0.07591753-0.13825201j\n",
      "  0.42090561+0.j        ]\n",
      "Eigenvectors: [[ 0.45781186+0.j         -0.33035733-0.48998366j -0.33035733+0.48998366j\n",
      "  -0.66963039+0.j        ]\n",
      " [ 0.48624863+0.j         -0.61697886+0.j         -0.61697886-0.j\n",
      "  -0.08306861+0.j        ]\n",
      " [ 0.54605694+0.j         -0.01299484+0.11318301j -0.01299484-0.11318301j\n",
      "  -0.44437871+0.j        ]\n",
      " [ 0.50575922+0.j          0.48202011+0.15746263j  0.48202011-0.15746263j\n",
      "   0.58925572+0.j        ]]\n"
     ]
    }
   ],
   "source": [
    "# Compute eigenvectors of A\n",
    "evalues, evectors = np.linalg.eig(A)\n",
    "\n",
    "print(\"Eigenvalues: {}\".format(evalues))\n",
    "print(\"Eigenvectors: {}\".format(evectors))"
   ]
  },
  {
   "cell_type": "markdown",
   "metadata": {},
   "source": [
    "The matrix `A` is non-symmetric, hence it is no surprise that the eigenvalues and eigenvectors are complex. The $i$th column of `evectors` (`A[:,i]`) is the $i$th eigenvector. \n",
    "\n",
    "We can now verify that $\\boldsymbol{\\Lambda} = \\boldsymbol{U}^{-1} \\boldsymbol{A} \\boldsymbol{U}$"
   ]
  },
  {
   "cell_type": "code",
   "execution_count": 3,
   "metadata": {
    "collapsed": false
   },
   "outputs": [
    {
     "name": "stdout",
     "output_type": "stream",
     "text": [
      "[[  1.60005805e+00 -4.12271839e-17j  -1.33117023e-16 +2.05865297e-16j\n",
      "   -1.37499840e-16 -1.96590549e-16j   5.55111512e-17 -1.47186519e-18j]\n",
      " [  2.77555756e-16 +1.11022302e-16j   7.59175252e-02 +1.38252015e-01j\n",
      "    5.55111512e-17 -1.11022302e-16j   3.46944695e-16 +6.93889390e-17j]\n",
      " [  2.77555756e-16 -4.44089210e-16j   3.46944695e-17 +1.11022302e-16j\n",
      "    7.59175252e-02 -1.38252015e-01j   3.60822483e-16 -5.55111512e-17j]\n",
      " [ -5.55111512e-16 -1.22305447e-17j   1.47058685e-17 -8.74158316e-18j\n",
      "   -8.28080646e-19 +1.90139925e-17j   4.20905607e-01 -8.21244250e-18j]]\n"
     ]
    }
   ],
   "source": [
    "Lambda = np.linalg.inv(evectors).dot(A.dot(evectors))\n",
    "print(Lambda)"
   ]
  },
  {
   "cell_type": "markdown",
   "metadata": {},
   "source": [
    "Note that the matrix `Lambda` ($\\boldsymbol{\\Lambda}$) is diagonal, and the diagonal entries are the eigenvalues."
   ]
  },
  {
   "cell_type": "markdown",
   "metadata": {},
   "source": [
    "## Diagonalisation of symmetric matrices\n",
    "\n",
    "In the above, we have only required that the eigenvectors be linearly independent. In this case, the matrix $\\boldsymbol{U}$ can be inverted. For a symmetric matrix, we have proved in the lecture notes that the eigenvectors are orthogonal. Therefore, for a real, symmetric matrix $\\boldsymbol{S}$, if the eigenvectors have been normalised the matrix $\\boldsymbol{U}$ is an orthogonal matrix. In this case \n",
    "\n",
    "$$\n",
    "\\boldsymbol{S} = \\boldsymbol{U} \\boldsymbol{\\Lambda} \\boldsymbol{U}^{T}\n",
    "$$\n",
    "\n",
    "In terms of the notation used for the rotation of matrices, $\\boldsymbol{R} = \\boldsymbol{U}^{T}$, where in this case $\\boldsymbol{R}$ is used to change the basis to one aligned with the eigenvectors:\n",
    "\n",
    "$$\n",
    "\\boldsymbol{S} = \\boldsymbol{R}^{T} \\boldsymbol{\\Lambda} \\boldsymbol{R}\n",
    "$$\n",
    "\n",
    "Since $\\boldsymbol{R}$ is an orthogonal matrix,\n",
    "\n",
    "$$\n",
    "\\boldsymbol{\\Lambda} = \\boldsymbol{R} \\boldsymbol{S} \\boldsymbol{R}^{T}\n",
    "$$\n",
    "\n",
    "We can test this for a given matrix:"
   ]
  },
  {
   "cell_type": "code",
   "execution_count": 4,
   "metadata": {
    "collapsed": false
   },
   "outputs": [
    {
     "name": "stdout",
     "output_type": "stream",
     "text": [
      "[ 3.26926434  0.9944455   0.19425012 -0.11236256]\n",
      "[[  3.26926434e+00  -1.11022302e-16   2.77555756e-17   1.38777878e-16]\n",
      " [  2.22044605e-16   9.94445502e-01   6.93889390e-18   1.38777878e-16]\n",
      " [ -2.49800181e-16   0.00000000e+00   1.94250119e-01  -2.34187669e-17]\n",
      " [  2.22044605e-16   1.11022302e-16  -4.33680869e-17  -1.12362557e-01]]\n"
     ]
    }
   ],
   "source": [
    "# Create a symmetric matrix\n",
    "S = A + A.T\n",
    "\n",
    "# Compute eigenvectors of S and print eigenvalues\n",
    "lmbda, U = np.linalg.eig(S)\n",
    "print(lmbda)\n",
    "\n",
    "# R matrix\n",
    "R = U.T\n",
    "\n",
    "# Diagonalise S\n",
    "Lambda = R.dot(S.dot(R.T))\n",
    "print(Lambda)"
   ]
  },
  {
   "cell_type": "markdown",
   "metadata": {},
   "source": [
    "The above matrix is diagonal, and the diagonal entries are the eigenvalues.\n",
    "\n",
    "\n",
    "## Power iteration\n",
    "\n",
    "It was shown the lectures that the maximum eigenvalue, and associated eigenvector, can be estimated via repeated matrix-vector products. The method is known as power iterations. Below is sample code for the power iteration."
   ]
  },
  {
   "cell_type": "code",
   "execution_count": 5,
   "metadata": {
    "collapsed": false
   },
   "outputs": [
    {
     "name": "stdout",
     "output_type": "stream",
     "text": [
      "Estimate of largest eigenvalue: 3.26926434315769\n",
      "Error: 3.1603608618979706e-11\n"
     ]
    }
   ],
   "source": [
    "# Create starting vector\n",
    "x0 = np.random.rand(S.shape[0])\n",
    "\n",
    "# Perform power iteration\n",
    "for i in range(10):\n",
    "    x0 = S.dot(x0)\n",
    "    x0 = x0/np.linalg.norm(x0)\n",
    "x1 = S.dot(x0)\n",
    "\n",
    "# Get maxiumum exact eigenvalue (absolute value)\n",
    "eval_max_index = abs(lmbda).argmax()\n",
    "max_eig = lmbda[eval_max_index]\n",
    "\n",
    "# Print estimated max eigenvalue and error \n",
    "max_eig_est = np.sign(x1.dot(x0))*np.linalg.norm(x1)/np.linalg.norm(x0)\n",
    "print(\"Estimate of largest eigenvalue: {}\".format(max_eig_est))\n",
    "print(\"Error: {}\".format(abs(max_eig - max_eig_est)))"
   ]
  },
  {
   "cell_type": "markdown",
   "metadata": {},
   "source": [
    "After just 10 iterations, the estimated eigenvalue is very accurate.\n",
    "\n",
    "We now demonstrate a case where the power iteration fails - namely, when the starting vector is orthogonal to the eigenvector associated with the largest eigenvalue. We compute a starting vector that is orthogonal to the eigenvector associated with the largest eigenvector, and then perform power iterations:"
   ]
  },
  {
   "cell_type": "code",
   "execution_count": 6,
   "metadata": {
    "collapsed": false
   },
   "outputs": [
    {
     "name": "stdout",
     "output_type": "stream",
     "text": [
      "Estimate of largest eigenvalue: 0.9944455023193194\n",
      "Error: 2.2748188408699743\n",
      "Second largest eigenvalue (exact): 0.9944455023193202\n"
     ]
    }
   ],
   "source": [
    "# Create starting vector\n",
    "x0 = np.random.rand(S.shape[0])\n",
    "\n",
    "# Get eigenvector associated with maxiumum eigenvalue\n",
    "eval_max_index = abs(lmbda).argmax()\n",
    "evec_max = U[:,eval_max_index]\n",
    "\n",
    "# Make starting vector orthogonal to eigenvector associated with maximum \n",
    "x0 = x0 - x0.dot(evec_max)*evec_max\n",
    "\n",
    "# Perform power iteration\n",
    "for i in range(10):\n",
    "    x0 = S.dot(x0)\n",
    "    x0 = x0/np.linalg.norm(x0)\n",
    "x1 = S.dot(x0)\n",
    "\n",
    "# Print estimated max eigenvalue and error\n",
    "max_eig_est = np.sign(x1.dot(x0))*np.linalg.norm(x1)/np.linalg.norm(x0)\n",
    "print(\"Estimate of largest eigenvalue: {}\".format(max_eig_est))\n",
    "print(\"Error: {}\".format(abs(max_eig - max_eig_est)))   \n",
    "\n",
    "# Get second largest eigenvalue\n",
    "print(\"Second largest eigenvalue (exact): {}\".format(lmbda[np.argsort(abs(lmbda))[-2]]))  "
   ]
  },
  {
   "cell_type": "markdown",
   "metadata": {},
   "source": [
    "It is clear that in this case we have approached the second largest eigenvalue.\n",
    "\n",
    "\n",
    "### Computing the eigenvalue\n",
    "\n",
    "A better way to compute the largest eigenvalue, given corresponding eigenvectors, is using the Rayleigh quotient. We want to find $\\mu$ that minimises\n",
    "\n",
    "$$\n",
    "\\| \\boldsymbol{A} \\boldsymbol{x}_{n} - \\mu \\boldsymbol{x}_{n}  \\|\n",
    "$$\n",
    "\n",
    "It turns out that \n",
    "\n",
    "$$\n",
    "\\mu = \\frac{\\boldsymbol{x}_{n}^{T} \\boldsymbol{A} \\boldsymbol{x}_{n}}{\\boldsymbol{x}_{n}^{T} \\boldsymbol{x}_{n}}\n",
    "$$\n",
    "\n",
    "which is known at the Rayleigh quotient. We can use this for the preceding power iteration:"
   ]
  },
  {
   "cell_type": "code",
   "execution_count": 7,
   "metadata": {
    "collapsed": false
   },
   "outputs": [
    {
     "name": "stdout",
     "output_type": "stream",
     "text": [
      "Rayleigh_quotient: 0.9944455023193195\n"
     ]
    }
   ],
   "source": [
    "rayleigh_quotient = x1.dot(S).dot(x1)/(x1.dot(x1))\n",
    "print(\"Rayleigh_quotient: {}\".format(rayleigh_quotient))"
   ]
  },
  {
   "cell_type": "markdown",
   "metadata": {},
   "source": [
    "## Sheep flock example\n",
    "\n",
    "In the lecture, we considered the growth rate and composition of a sheep flock over  a large number of farming cycles. The equation of interests was\n",
    "\n",
    "$$\n",
    "\\begin{bmatrix}\n",
    "    x_{n+1} \\\\\n",
    "    y_{n+1} \\\\\n",
    "    z_{n+1}\n",
    "\\end{bmatrix}\n",
    "=\n",
    "\\begin{bmatrix}\n",
    "0      & 2   & 0.9633\n",
    "\\\\\n",
    "0.545  & 0   & 0\n",
    "\\\\    \n",
    "0      & 0.8 & 0\n",
    "\\end{bmatrix}\n",
    "\\begin{bmatrix}\n",
    "    x_{n} \\\\ \n",
    "    y_{n} \\\\\n",
    "    z_{n}\n",
    "\\end{bmatrix}\n",
    "$$\n",
    "\n",
    "\n",
    "we can use power iterations to estimate the maximum eigenvalue and the corresponding eigenvector. First we, create the matrix: "
   ]
  },
  {
   "cell_type": "code",
   "execution_count": 8,
   "metadata": {
    "collapsed": false
   },
   "outputs": [],
   "source": [
    "A = np.array([[0, 2, 0.9663], [0.545, 0 ,0], [0, 0.8, 0]])"
   ]
  },
  {
   "cell_type": "markdown",
   "metadata": {},
   "source": [
    "Next, we use power iterations:"
   ]
  },
  {
   "cell_type": "code",
   "execution_count": 9,
   "metadata": {
    "collapsed": false
   },
   "outputs": [
    {
     "name": "stdout",
     "output_type": "stream",
     "text": [
      "Estimate of eigenvector for the largest eigenvalue: [ 0.56772176  0.26294235  0.1693359 ]\n",
      "Estimate of largest eigenvalue: 1.2101959188653684\n"
     ]
    }
   ],
   "source": [
    "# Create starting vector\n",
    "x0 = np.random.rand(A.shape[0])\n",
    "\n",
    "# Perform power iteration\n",
    "for i in range(10):\n",
    "    x0 = A.dot(x0)\n",
    "    x0 = x0/np.linalg.norm(x0)\n",
    "\n",
    "# Normalise eigenvector using l1 norm\n",
    "x0 = x0/np.linalg.norm(x0, 1)\n",
    "\n",
    "# Print estimated eigenvector associated with largest eigenvalue\n",
    "print(\"Estimate of eigenvector for the largest eigenvalue: {}\".format(x0))\n",
    "\n",
    "# Print estimated max eigenvalue (using Rayleigh quotient)\n",
    "print(\"Estimate of largest eigenvalue: {}\".format(x0.dot(A).dot(x0)/x0.dot(x0)))"
   ]
  },
  {
   "cell_type": "markdown",
   "metadata": {},
   "source": [
    "The computed flock distribution and growth rate are nearly identical to what was computed in the lectures."
   ]
  }
 ],
 "metadata": {
  "kernelspec": {
   "display_name": "Python 3",
   "language": "python",
   "name": "python3"
  },
  "language_info": {
   "codemirror_mode": {
    "name": "ipython",
    "version": 3
   },
   "file_extension": ".py",
   "mimetype": "text/x-python",
   "name": "python",
   "nbconvert_exporter": "python",
   "pygments_lexer": "ipython3",
   "version": "3.5.0+"
  }
 },
 "nbformat": 4,
 "nbformat_minor": 0
}
