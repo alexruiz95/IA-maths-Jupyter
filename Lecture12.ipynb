{
 "cells": [
  {
   "cell_type": "markdown",
   "metadata": {},
   "source": [
    "# Lecture 12 - applications of eigenvalue problems\n",
    "\n",
    "This notebook presents two applications of eigenvalue problems. The examples were covered in the lectures, and are presented in more depth here. The two examples are \n",
    "\n",
    "1. The PageRank algorithm for racking the importance of web pages\n",
    "1. Vibration of a multi degree-of-freedom mass-spring system\n",
    "\n",
    "\n",
    "## PageRank\n",
    "\n",
    "PageRank is a algorithm used by Google to rank the 'importance' of a web page. The concept is that every web page has an importance score, and it 'endows' its importance evenly amongst the pages to which it links. The will lead to a problem where the ranking of all pages is an eigenvalue problem. We will demonstrate the process for the small web of four pages.\n",
    "\n",
    "This is a larger version of the the example from the lectures."
   ]
  },
  {
   "cell_type": "markdown",
   "metadata": {},
   "source": [
    "### Model problem\n",
    "\n",
    "Consider a web of five pages, $p_{0}$, $p_{1}$, $p_{2}$, $p_{3}$ and $p_{4}$. Consider the scenario:\n",
    "\n",
    "- $p_{0}$ links to: $p_{1}$, $p_{2}$, $p_{3}$ and $p_{4}$\n",
    "- $p_{1}$ links to: $p_{2}$, $p_{3}$ and $p_{4}$\n",
    "- $p_{2}$ links to: $p_{0}$ and $p_{1}$\n",
    "- $p_{3}$ links to: $p_{0}$ and $p_{2}$\n",
    "- $p_{4}$ links to: $p_{1}$ and $p_{2}$ and $p_{3}$\n",
    "\n",
    "We can build a directed graph to describe the connections, and for this we use the package `networkx` (https://networkx.github.io/). To visualise the graph we use Matplotlib."
   ]
  },
  {
   "cell_type": "code",
   "execution_count": 1,
   "metadata": {
    "collapsed": true
   },
   "outputs": [],
   "source": [
    "import sys\n",
    "if 'conda' in sys.version:  # Install using conda if we're using Anaconda Python\n",
    "    !conda install -y -c omnia pygraphviz=1.3.1\n"
   ]
  },
  {
   "cell_type": "code",
   "execution_count": 2,
   "metadata": {
    "collapsed": false
   },
   "outputs": [
    {
     "data": {
      "image/svg+xml": [
       "<svg height=\"392pt\" viewBox=\"0.00 0.00 303.13 392.00\" width=\"303pt\" xmlns=\"http://www.w3.org/2000/svg\" xmlns:xlink=\"http://www.w3.org/1999/xlink\">\n",
       "<g class=\"graph\" id=\"graph0\" transform=\"scale(1 1) rotate(0) translate(4 388)\">\n",
       "<title>%3</title>\n",
       "<polygon fill=\"white\" points=\"-4,4 -4,-388 299.13,-388 299.13,4 -4,4\" stroke=\"none\"/>\n",
       "<!-- p2 -->\n",
       "<g class=\"node\" id=\"node1\"><title>p2</title>\n",
       "<ellipse cx=\"61\" cy=\"-366\" fill=\"none\" rx=\"27\" ry=\"18\" stroke=\"black\"/>\n",
       "<text font-family=\"Times,serif\" font-size=\"14.00\" text-anchor=\"middle\" x=\"61\" y=\"-362.3\">p2</text>\n",
       "</g>\n",
       "<!-- p0 -->\n",
       "<g class=\"node\" id=\"node2\"><title>p0</title>\n",
       "<ellipse cx=\"27\" cy=\"-279\" fill=\"none\" rx=\"27\" ry=\"18\" stroke=\"black\"/>\n",
       "<text font-family=\"Times,serif\" font-size=\"14.00\" text-anchor=\"middle\" x=\"27\" y=\"-275.3\">p0</text>\n",
       "</g>\n",
       "<!-- p2&#45;&gt;p0 -->\n",
       "<g class=\"edge\" id=\"edge1\"><title>p2-&gt;p0</title>\n",
       "<path d=\"M53.227,-348.74C50.516,-342.88 47.523,-336.19 45,-330 41.9,-322.4 38.78,-314.04 36.028,-306.37\" fill=\"none\" stroke=\"black\"/>\n",
       "<polygon fill=\"black\" points=\"39.2804,-305.068 32.656,-296.8 32.6782,-307.395 39.2804,-305.068\" stroke=\"black\"/>\n",
       "<text font-family=\"Times,serif\" font-size=\"14.00\" text-anchor=\"middle\" x=\"54\" y=\"-318.8\">1/2</text>\n",
       "</g>\n",
       "<!-- p1 -->\n",
       "<g class=\"node\" id=\"node3\"><title>p1</title>\n",
       "<ellipse cx=\"226\" cy=\"-105\" fill=\"none\" rx=\"27\" ry=\"18\" stroke=\"black\"/>\n",
       "<text font-family=\"Times,serif\" font-size=\"14.00\" text-anchor=\"middle\" x=\"226\" y=\"-101.3\">p1</text>\n",
       "</g>\n",
       "<!-- p2&#45;&gt;p1 -->\n",
       "<g class=\"edge\" id=\"edge2\"><title>p2-&gt;p1</title>\n",
       "<path d=\"M72.869,-349.48C92.464,-324.09 131.09,-275.09 148,-261 183.32,-231.56 214.49,-249.51 238,-210 252.11,-186.3 245.27,-154.15 237.37,-131.9\" fill=\"none\" stroke=\"black\"/>\n",
       "<polygon fill=\"black\" points=\"240.588,-130.516 233.73,-122.44 234.055,-133.03 240.588,-130.516\" stroke=\"black\"/>\n",
       "<text font-family=\"Times,serif\" font-size=\"14.00\" text-anchor=\"middle\" x=\"231\" y=\"-231.8\">1/2</text>\n",
       "</g>\n",
       "<!-- p0&#45;&gt;p2 -->\n",
       "<g class=\"edge\" id=\"edge3\"><title>p0-&gt;p2</title>\n",
       "<path d=\"M45.131,-292.55C52.097,-298.46 59.268,-306.17 63,-315 66.022,-322.15 66.69,-330.4 66.279,-338.12\" fill=\"none\" stroke=\"black\"/>\n",
       "<polygon fill=\"black\" points=\"62.7903,-337.826 65.171,-348.15 69.7479,-338.595 62.7903,-337.826\" stroke=\"black\"/>\n",
       "<text font-family=\"Times,serif\" font-size=\"14.00\" text-anchor=\"middle\" x=\"75\" y=\"-318.8\">1/4</text>\n",
       "</g>\n",
       "<!-- p0&#45;&gt;p1 -->\n",
       "<g class=\"edge\" id=\"edge4\"><title>p0-&gt;p1</title>\n",
       "<path d=\"M43.881,-264.53C51.865,-258.09 61.492,-250.23 70,-243 122.06,-198.76 133.46,-185.85 185,-141 190.5,-136.21 196.45,-131.1 202.07,-126.29\" fill=\"none\" stroke=\"black\"/>\n",
       "<polygon fill=\"black\" points=\"204.627,-128.709 209.97,-119.56 200.088,-123.381 204.627,-128.709\" stroke=\"black\"/>\n",
       "<text font-family=\"Times,serif\" font-size=\"14.00\" text-anchor=\"middle\" x=\"156\" y=\"-188.3\">1/4</text>\n",
       "</g>\n",
       "<!-- p3 -->\n",
       "<g class=\"node\" id=\"node4\"><title>p3</title>\n",
       "<ellipse cx=\"80\" cy=\"-18\" fill=\"none\" rx=\"27\" ry=\"18\" stroke=\"black\"/>\n",
       "<text font-family=\"Times,serif\" font-size=\"14.00\" text-anchor=\"middle\" x=\"80\" y=\"-14.3\">p3</text>\n",
       "</g>\n",
       "<!-- p0&#45;&gt;p3 -->\n",
       "<g class=\"edge\" id=\"edge5\"><title>p0-&gt;p3</title>\n",
       "<path d=\"M30.477,-261.01C39.462,-217.1 63.507,-99.6 74.445,-46.147\" fill=\"none\" stroke=\"black\"/>\n",
       "<polygon fill=\"black\" points=\"77.934,-46.5547 76.51,-36.056 71.0762,-45.1513 77.934,-46.5547\" stroke=\"black\"/>\n",
       "<text font-family=\"Times,serif\" font-size=\"14.00\" text-anchor=\"middle\" x=\"63\" y=\"-144.8\">1/4</text>\n",
       "</g>\n",
       "<!-- p4 -->\n",
       "<g class=\"node\" id=\"node5\"><title>p4</title>\n",
       "<ellipse cx=\"202\" cy=\"-192\" fill=\"none\" rx=\"27\" ry=\"18\" stroke=\"black\"/>\n",
       "<text font-family=\"Times,serif\" font-size=\"14.00\" text-anchor=\"middle\" x=\"202\" y=\"-188.3\">p4</text>\n",
       "</g>\n",
       "<!-- p0&#45;&gt;p4 -->\n",
       "<g class=\"edge\" id=\"edge6\"><title>p0-&gt;p4</title>\n",
       "<path d=\"M49.517,-269.03C66.13,-262.25 89.193,-252.53 109,-243 130.8,-232.51 154.85,-219.55 173.02,-209.45\" fill=\"none\" stroke=\"black\"/>\n",
       "<polygon fill=\"black\" points=\"174.928,-212.393 181.95,-204.46 171.513,-206.283 174.928,-212.393\" stroke=\"black\"/>\n",
       "<text font-family=\"Times,serif\" font-size=\"14.00\" text-anchor=\"middle\" x=\"146\" y=\"-231.8\">1/4</text>\n",
       "</g>\n",
       "<!-- p1&#45;&gt;p2 -->\n",
       "<g class=\"edge\" id=\"edge7\"><title>p1-&gt;p2</title>\n",
       "<path d=\"M241.8,-119.77C247.41,-125.68 253.06,-133.04 256,-141 266.64,-169.76 265.78,-180.93 256,-210 244.84,-243.17 183.82,-311.68 154,-330 135.89,-341.13 113.68,-349.65 95.501,-355.5\" fill=\"none\" stroke=\"black\"/>\n",
       "<polygon fill=\"black\" points=\"94.3937,-352.179 85.869,-358.47 96.4564,-358.868 94.3937,-352.179\" stroke=\"black\"/>\n",
       "<text font-family=\"Times,serif\" font-size=\"14.00\" text-anchor=\"middle\" x=\"256\" y=\"-231.8\">1/3</text>\n",
       "</g>\n",
       "<!-- p1&#45;&gt;p3 -->\n",
       "<g class=\"edge\" id=\"edge8\"><title>p1-&gt;p3</title>\n",
       "<path d=\"M207.95,-91.255C192.79,-80.76 170.39,-65.75 150,-54 137.34,-46.702 122.95,-39.357 110.53,-33.293\" fill=\"none\" stroke=\"black\"/>\n",
       "<polygon fill=\"black\" points=\"112.008,-30.1199 101.48,-28.928 108.967,-36.4248 112.008,-30.1199\" stroke=\"black\"/>\n",
       "<text font-family=\"Times,serif\" font-size=\"14.00\" text-anchor=\"middle\" x=\"182\" y=\"-57.8\">1/3</text>\n",
       "</g>\n",
       "<!-- p1&#45;&gt;p4 -->\n",
       "<g class=\"edge\" id=\"edge9\"><title>p1-&gt;p4</title>\n",
       "<path d=\"M208.5,-119.07C202.03,-124.97 195.44,-132.52 192,-141 188.99,-148.41 189.35,-156.83 191.08,-164.61\" fill=\"none\" stroke=\"black\"/>\n",
       "<polygon fill=\"black\" points=\"187.768,-165.75 193.97,-174.34 194.478,-163.757 187.768,-165.75\" stroke=\"black\"/>\n",
       "<text font-family=\"Times,serif\" font-size=\"14.00\" text-anchor=\"middle\" x=\"201\" y=\"-144.8\">1/3</text>\n",
       "</g>\n",
       "<!-- p3&#45;&gt;p2 -->\n",
       "<g class=\"edge\" id=\"edge10\"><title>p3-&gt;p2</title>\n",
       "<path d=\"M106.87,-20.43C147.75,-24.187 224.74,-37.79 262,-87 295.13,-130.76 276.31,-155.21 273,-210 272.11,-224.75 275,-229.5 269,-243 246.13,-294.42 227.35,-304.87 177,-330 151.42,-342.76 120.31,-351.84 96.753,-357.55\" fill=\"none\" stroke=\"black\"/>\n",
       "<polygon fill=\"black\" points=\"95.7769,-354.184 86.831,-359.86 97.3642,-361.001 95.7769,-354.184\" stroke=\"black\"/>\n",
       "<text font-family=\"Times,serif\" font-size=\"14.00\" text-anchor=\"middle\" x=\"286\" y=\"-188.3\">1/2</text>\n",
       "</g>\n",
       "<!-- p3&#45;&gt;p0 -->\n",
       "<g class=\"edge\" id=\"edge11\"><title>p3-&gt;p0</title>\n",
       "<path d=\"M80.755,-36.126C81.077,-45.782 81.314,-58.065 81,-69 79.888,-107.71 83.299,-117.96 76,-156 71.233,-180.84 67.26,-186.46 58,-210 52.361,-224.34 45.284,-240 39.317,-252.68\" fill=\"none\" stroke=\"black\"/>\n",
       "<polygon fill=\"black\" points=\"36.1516,-251.187 35.011,-261.72 42.4712,-254.197 36.1516,-251.187\" stroke=\"black\"/>\n",
       "<text font-family=\"Times,serif\" font-size=\"14.00\" text-anchor=\"middle\" x=\"87\" y=\"-144.8\">1/2</text>\n",
       "</g>\n",
       "<!-- p4&#45;&gt;p2 -->\n",
       "<g class=\"edge\" id=\"edge12\"><title>p4-&gt;p2</title>\n",
       "<path d=\"M211.34,-208.99C216.09,-219.4 219.61,-232.88 213,-243 202.12,-259.66 186.61,-247.49 172,-261 146.45,-284.62 160.22,-306.02 135,-330 123.73,-340.72 108.57,-348.67 94.909,-354.26\" fill=\"none\" stroke=\"black\"/>\n",
       "<polygon fill=\"black\" points=\"93.4015,-351.089 85.303,-357.92 95.8939,-357.63 93.4015,-351.089\" stroke=\"black\"/>\n",
       "<text font-family=\"Times,serif\" font-size=\"14.00\" text-anchor=\"middle\" x=\"181\" y=\"-275.3\">1/3</text>\n",
       "</g>\n",
       "<!-- p4&#45;&gt;p1 -->\n",
       "<g class=\"edge\" id=\"edge13\"><title>p4-&gt;p1</title>\n",
       "<path d=\"M208.06,-174.37C210.07,-168.59 212.24,-162.04 214,-156 216.13,-148.66 218.18,-140.63 219.97,-133.2\" fill=\"none\" stroke=\"black\"/>\n",
       "<polygon fill=\"black\" points=\"223.432,-133.763 222.29,-123.23 216.615,-132.177 223.432,-133.763\" stroke=\"black\"/>\n",
       "<text font-family=\"Times,serif\" font-size=\"14.00\" text-anchor=\"middle\" x=\"226\" y=\"-144.8\">1/3</text>\n",
       "</g>\n",
       "<!-- p4&#45;&gt;p3 -->\n",
       "<g class=\"edge\" id=\"edge14\"><title>p4-&gt;p3</title>\n",
       "<path d=\"M191.88,-175.04C175.28,-149.13 140.94,-96.525 109,-54 106.02,-50.029 102.75,-45.895 99.515,-41.918\" fill=\"none\" stroke=\"black\"/>\n",
       "<polygon fill=\"black\" points=\"102.1,-39.5513 93.028,-34.078 96.7064,-44.0138 102.1,-39.5513\" stroke=\"black\"/>\n",
       "<text font-family=\"Times,serif\" font-size=\"14.00\" text-anchor=\"middle\" x=\"165\" y=\"-101.3\">1/3</text>\n",
       "</g>\n",
       "</g>\n",
       "</svg>"
      ],
      "text/plain": [
       "<IPython.core.display.SVG object>"
      ]
     },
     "execution_count": 2,
     "metadata": {},
     "output_type": "execute_result"
    }
   ],
   "source": [
    "import networkx as nx\n",
    "\n",
    "# Create a directed networkx graph\n",
    "G = nx.DiGraph()\n",
    "\n",
    "# Add web pages (graph nodes)\n",
    "#for i in range(5):\n",
    "#   G.add_node(i, labelss=\"p\" + str(i))\n",
    "\n",
    "# Add outgoing web links (directed graph edges)\n",
    "G.add_edge(\"p0\", \"p1\", label=\"0.2\")\n",
    "G.add_edge(\"p0\", \"p2\")\n",
    "G.add_edge(\"p0\", \"p3\")\n",
    "G.add_edge(\"p0\", \"p4\")\n",
    "\n",
    "G.add_edge(\"p1\", \"p2\")\n",
    "G.add_edge(\"p1\", \"p3\")\n",
    "G.add_edge(\"p1\", \"p4\")\n",
    "\n",
    "G.add_edge(\"p2\", \"p0\")\n",
    "G.add_edge(\"p2\", \"p1\")\n",
    "\n",
    "G.add_edge(\"p3\", \"p0\")\n",
    "G.add_edge(\"p3\", \"p2\")\n",
    "\n",
    "G.add_edge(\"p4\", \"p1\")\n",
    "G.add_edge(\"p4\", \"p2\")\n",
    "G.add_edge(\"p4\", \"p3\")\n",
    "\n",
    "# Add weights to graph edges\n",
    "for node in G.nodes_iter():\n",
    "    # Get number of outgoing edges\n",
    "    num_edges = len(G.edges(node))\n",
    "\n",
    "    # For each outgoing edge, weight = 1/num_edges    \n",
    "    for edge in G.edges(node):\n",
    "        G[edge[0]][edge[1]]['weight'] = 1/num_edges\n",
    "        G[edge[0]][edge[1]]['label'] = \"{}/{}\".format(1, num_edges)\n",
    "\n",
    "# To plot graph, convert to a PyGraphviz graph for drawing\n",
    "Ag = nx.nx_agraph.to_agraph(G)\n",
    "Ag.layout(prog='dot')\n",
    "Ag.draw('web.svg')\n",
    "from IPython.display import SVG\n",
    "SVG('web.svg')"
   ]
  },
  {
   "cell_type": "markdown",
   "metadata": {},
   "source": [
    "Note that edges have been given a weight which is $1/n$, where $n$ is the number of outgoing link/edges from a page/node. The is the fraction of page's importance/rank that it can give to the pages to which it links. \n",
    "\n",
    "If we denote the rank/importance of page $i$ by $x_{i}$, we can express the importance of each page:\n",
    "\n",
    "$$\n",
    "\\begin{align}\n",
    "x_{0} =& \\tfrac{1}{2} x_{2} + \\tfrac{1}{2} x_{3}\n",
    "\\\\\n",
    "x_{1} =& \\tfrac{1}{4}x_{0} + \\tfrac{1}{2}x_{2} + \\tfrac{1}{3}x_{4} \n",
    "\\\\\n",
    "x_{2} =& \\tfrac{1}{4}x_{0} + \\tfrac{1}{3}x_{1} + \\tfrac{1}{2}x_{3} + \\tfrac{1}{3}x_{4}\n",
    "\\\\\n",
    "x_{3} =& \\tfrac{1}{4}x_{0} + \\tfrac{1}{3}x_{1} + \\tfrac{1}{3}x_{4}\n",
    "\\\\\n",
    "x_{4} =& \\tfrac{1}{4}x_{0} + \\tfrac{1}{3}x_{1}\n",
    "\\end{align}\n",
    "$$\n",
    "\n",
    "We can express this as a system of equation:\n",
    "\n",
    "$$\n",
    "\\underbrace{\n",
    "\\begin{bmatrix}\n",
    "0 & 0 & \\tfrac{1}{2} & \\tfrac{1}{2} & 0\n",
    "\\\\\n",
    "\\tfrac{1}{4} & 0 & \\tfrac{1}{2} & 0 & \\tfrac{1}{3}\n",
    "\\\\\n",
    "\\tfrac{1}{4} & \\tfrac{1}{3} & 0 & \\tfrac{1}{2} & \\tfrac{1}{3}\n",
    "\\\\\n",
    "\\tfrac{1}{4} & \\tfrac{1}{3} & 0 & 0 & \\tfrac{1}{3}\n",
    "\\\\\n",
    "\\tfrac{1}{4} & \\tfrac{1}{3} & 0 & 0 & 0\n",
    "\\end{bmatrix}}_{\\boldsymbol{A}}\n",
    "\\begin{bmatrix}\n",
    "x_{0} \\\\ x_{1} \\\\ x_{2} \\\\ x_{3} \\\\ x_{4}\n",
    "\\end{bmatrix}\n",
    "=\n",
    "\\begin{bmatrix}\n",
    "x_{0} \\\\ x_{1} \\\\ x_{2} \\\\ x_{3} \\\\ x_{4}\n",
    "\\end{bmatrix}\n",
    "$$\n",
    "\n",
    "This is an eigenvalue problem with eigenvalue $\\lambda = 1$. To solve the problem we need to find the corresponding eigenvector."
   ]
  },
  {
   "cell_type": "markdown",
   "metadata": {},
   "source": [
    "First, we can create the matrix $\\boldsymbol{A}$ directly from the graph (note that we added weights to the graph edges when building the graph):"
   ]
  },
  {
   "cell_type": "code",
   "execution_count": 3,
   "metadata": {
    "collapsed": false
   },
   "outputs": [
    {
     "name": "stdout",
     "output_type": "stream",
     "text": [
      "[[ 0.          0.          0.5         0.5         0.        ]\n",
      " [ 0.25        0.          0.5         0.          0.33333333]\n",
      " [ 0.25        0.33333333  0.          0.5         0.33333333]\n",
      " [ 0.25        0.33333333  0.          0.          0.33333333]\n",
      " [ 0.25        0.33333333  0.          0.          0.        ]]\n"
     ]
    }
   ],
   "source": [
    "# Get the matrix containing the graph weights. We provide node nodelist \n",
    "# so that the rows/columns are in the right order \n",
    "A = (nx.adjacency_matrix(G, nodelist=sorted(G.nodes())).T).toarray()\n",
    "print(A)"
   ]
  },
  {
   "cell_type": "markdown",
   "metadata": {},
   "source": [
    "Note that the columns of $\\boldsymbol{A}$ sum to one. Such a matrix is known as a *stochastic matrix*. In our context, what is important is that the largest eigenvalue (in absolute terms) for such a matrix is one. Therefore, we are looking for the eigenvector associated with the largest eigenvalue."
   ]
  },
  {
   "cell_type": "markdown",
   "metadata": {},
   "source": [
    "### Direct computation of the PageRank vector\n",
    "\n",
    "To find the solution, we can compute the eigenvectors of $\\boldsymbol{A}$, and pick the eigenvectors that corresponds to $\\lambda = 1$:"
   ]
  },
  {
   "cell_type": "code",
   "execution_count": 4,
   "metadata": {
    "collapsed": false
   },
   "outputs": [
    {
     "name": "stdout",
     "output_type": "stream",
     "text": [
      "The maxiumum eigenvalue is: (0.9999999999999991+0j)\n",
      "The PageRank vector (eigenvector) is: \n",
      " [ 0.215054+0.j  0.225806+0.j  0.258065+0.j  0.172043+0.j  0.129032+0.j]\n"
     ]
    }
   ],
   "source": [
    "# Compute the eigenvalues and eigenvectors\n",
    "import numpy as np\n",
    "np.set_printoptions(precision=6)\n",
    "evalues, evectors = np.linalg.eig(A)\n",
    "\n",
    "# Print largest eigenvalue and corresponding eigenvector\n",
    "np.set_printoptions(precision=6)\n",
    "print(\"The maxiumum eigenvalue is: {}\".format(np.max(evalues)))\n",
    "evector = evectors[:, np.argmax(evalues)]\n",
    "evector /= np.linalg.norm(evector, 1)\n",
    "print(\"The PageRank vector (eigenvector) is: \\n {}\".format(evector))"
   ]
  },
  {
   "cell_type": "markdown",
   "metadata": {},
   "source": [
    "The PageRank vector has been normalised using the $l_{1}$ norm such the the entries sum to one."
   ]
  },
  {
   "cell_type": "markdown",
   "metadata": {},
   "source": [
    "### Approximation of the PageRank vector via matrix multiplication\n",
    "\n",
    "The direct computation of all eigenvalues and eigenvectors is an expensive operation, and can only be reasonably performed for small matrices. However, we are interested only in the eigenvector corresponding to the largest eigenvalue. Recall that, in almost all cases, the repeated multiplication of a vector by a matrix $\\boldsymbol{A}$ will yield a vector that tends to the direction of the eigenvector corresponding to the largest eigenvalue. We can use this to approximate the PageRank vector using only matrix-vector multiplication:"
   ]
  },
  {
   "cell_type": "code",
   "execution_count": 5,
   "metadata": {
    "collapsed": false
   },
   "outputs": [
    {
     "name": "stdout",
     "output_type": "stream",
     "text": [
      "Estimated PageRank after 5 iterations: [ 0.216057  0.225977  0.258317  0.171573  0.128076]\n",
      "Estimated PageRank after 10 iterations: [ 0.215051  0.225801  0.258073  0.172047  0.129027]\n"
     ]
    }
   ],
   "source": [
    "# Create random starting vector\n",
    "x0 = np.random.rand(A.shape[0])\n",
    "\n",
    "# Perform 5 iterations\n",
    "for i in range(5):\n",
    "    x0 = A.dot(x0)\n",
    "x0 = x0/np.linalg.norm(x0 ,1)\n",
    "print(\"Estimated PageRank after 5 iterations: {}\".format(x0))\n",
    "\n",
    "# Perform another 5 iterations\n",
    "for i in range(5):\n",
    "    x0 = A.dot(x0)\n",
    "x0 = x0/np.linalg.norm(x0 ,1)\n",
    "print(\"Estimated PageRank after 10 iterations: {}\".format(x0))\n"
   ]
  },
  {
   "cell_type": "markdown",
   "metadata": {},
   "source": [
    "It is clear that the approximate solution is very close to the exact solution with relatively few iterations. The major advantage of this method is that it is computationally inexpensive, which makes it tractable for very large matrices."
   ]
  },
  {
   "cell_type": "markdown",
   "metadata": {},
   "source": [
    "## Multiple degree of freedom mass-spring system\n",
    "\n",
    "Eigenvalues and eigenvectors are used to understand the dynamic response of mass-spring systems.\n",
    "\n",
    "\n",
    "### System of equations\n",
    "\n",
    "The equations of motion for a multi degree-of-freedom mass-spring system are:\n",
    "\n",
    "$$\n",
    "\\boldsymbol{M} \\ddot{\\boldsymbol{x}} + \\boldsymbol{K} \\boldsymbol{x}  = \\boldsymbol{0}\n",
    "$$\n",
    "\n",
    "where $\\boldsymbol{x}$ are the displacements of the masses.  For the problem in the lecture with two masses (of equal mass) connected by springs of equal stiffness, the 'mass matrix' $\\boldsymbol{M}$ is \n",
    "\n",
    "$$\n",
    "\\boldsymbol{M} = \n",
    "\\begin{bmatrix}\n",
    "m_{1} & 0\\\\ 0 & m_{2} \n",
    "\\end{bmatrix}\n",
    "$$\n",
    "\n",
    "and the 'stiffness matrix' $\\boldsymbol{K}$ is \n",
    "\n",
    "$$\n",
    "\\boldsymbol{K} = \n",
    "\\begin{bmatrix}\n",
    "k_{1} + k_{2} & -k_{2} \\\\ -k_{2} & k_{2} \n",
    "\\end{bmatrix}\n",
    "$$"
   ]
  },
  {
   "cell_type": "markdown",
   "metadata": {},
   "source": [
    "### Eigenvectors and eigenvalues\n",
    "\n",
    "We now take a brief excursion into the properties of eiegenvectors related to the matrices $\\boldsymbol{K}$ and $\\boldsymbol{M}$. The purpose will soon be clear.\n",
    "\n",
    "Consider the eigenpairs for the 'generalised' eigenvalue problem\n",
    "\n",
    "$$\n",
    "\\boldsymbol{K} \\boldsymbol{u}_{i} =  \\lambda_{i} \\boldsymbol{M} \\boldsymbol{u}_{i} \n",
    "$$\n",
    "\n",
    "where $\\lambda_{i}$ is an eigenvalue and $\\boldsymbol{u}_{i}$ is an eigenvector. "
   ]
  },
  {
   "cell_type": "markdown",
   "metadata": {},
   "source": [
    "### Orthogonality of the eigenvectors\n",
    "\n",
    "Multiplying both sides of the above equation by $\\boldsymbol{u}_{j}^{T}$:\n",
    "\n",
    "$$\n",
    "\\boldsymbol{u}_{j}^{T} \\boldsymbol{K} \\boldsymbol{u}_{i} =  \\lambda_{i} \\boldsymbol{u}_{j}^{T} \\boldsymbol{u}_{i},\n",
    "$$\n",
    "\n",
    "Since the eigenvectors are orthogonal with respect to $\\boldsymbol{K}$ and $\\boldsymbol{M}$ (see lecture notes), and if they are normalised such that $\\boldsymbol{u}^{T}_{i} \\boldsymbol{M} \\boldsymbol{u}_{i} = 1$, it follows that\n",
    "\n",
    "$$\n",
    "\\boldsymbol{u}_{j}^{T} \\boldsymbol{M} \\boldsymbol{u}_{i} = \n",
    "\\begin{cases}\n",
    "1  & \\text{if} \\ i = j,\n",
    "\\\\\n",
    "0 & \\text{if} \\ i \\ne j.\n",
    "\\end{cases}\n",
    "$$\n",
    "\n",
    "From $\\boldsymbol{K} \\boldsymbol{u}_{i} =  \\lambda_{i} \\boldsymbol{M} \\boldsymbol{u}_{i}$ and the above orthogonality property,\n",
    "it then also follows that\n",
    "\n",
    "$$\n",
    "\\boldsymbol{u}_{j}^{T} \\boldsymbol{K} \\boldsymbol{u}_{i}\n",
    "\\begin{cases}\n",
    "\\lambda_{i}  & \\text{if} \\ i = j,\n",
    "\\\\\n",
    "0 & \\text{if} \\ i \\ne j.\n",
    "\\end{cases}\n",
    "$$"
   ]
  },
  {
   "cell_type": "markdown",
   "metadata": {},
   "source": [
    "### Decoupling the modes\n",
    "\n",
    "Since the eigenvectors are linearly independent, we can use them as a basis to express the displacement vector $\\boldsymbol{x}$\n",
    "\n",
    "$$\n",
    "\\boldsymbol{x} = \\sum_{i} \\alpha_{i} \\boldsymbol{u}_{i} = \\alpha_{1} \\boldsymbol{u}_{1} + \\alpha_{2} \\boldsymbol{u}_{2},\n",
    "$$\n",
    "\n",
    "where $\\alpha_{i}$ are unknowns. Taking two derivatives with respect to time:\n",
    "\n",
    "$$\n",
    "\\ddot{\\boldsymbol{x}} = \\sum_{i} \\ddot{\\alpha}_{i} \\boldsymbol{u}_{i} = \\ddot{\\alpha}_{1} \\boldsymbol{u}_{1} + \\ddot{\\alpha}_{2} \\boldsymbol{u}_{2}\n",
    "$$\n",
    "\n",
    "Inserting these expressions into $\\boldsymbol{M} \\ddot{\\boldsymbol{x}} + \\boldsymbol{K} \\boldsymbol{x}  = \\boldsymbol{0}$,\n",
    "\n",
    "$$\n",
    "\\boldsymbol{M} \\sum_{i} \\ddot{\\alpha}_{i} \\boldsymbol{u}_{i}  + \\boldsymbol{K} \\sum_{i} \\alpha_{i} \\boldsymbol{u}_{i} = \\boldsymbol{0}\n",
    "$$\n",
    "\n",
    "Multiplying both sides of the above equation by $\\boldsymbol{u}^{T}_{j}$ \n",
    "\n",
    "$$\n",
    "\\boldsymbol{u}^{T}_{j} \\boldsymbol{M} \\sum_{i} \\ddot{\\alpha}_{i} \\boldsymbol{u}_{i}  + \\boldsymbol{u}^{T}_{j} \\boldsymbol{K} \\sum_{i} \\alpha_{i} \\boldsymbol{u}_{i} = \\boldsymbol{0}\n",
    "$$\n",
    "\n",
    "From the orthogonality properties of the eigenvectors, for the case $i \\ne j$ the above becomes the trivial '$0 =0$', and when $i = j$ we get the ordinary differential equation\n",
    "\n",
    "$$\n",
    " \\ddot{\\alpha}_{i} + \\lambda_{i} \\alpha_{i} = 0\n",
    "$$\n",
    "\n",
    "for every $i$. This is a second-order, constant coefficient equation which is easy to solve:\n",
    "\n",
    "$$\n",
    " \\alpha_{i} = A_{i}\\sin(\\sqrt{\\lambda_{i}}t) + B_{i}\\cos(\\sqrt{\\lambda_{i}}t)\n",
    "$$\n",
    "\n",
    "Hence the displacement vector is \n",
    "\n",
    "$$\n",
    "\\boldsymbol{x} = \\sum_{i} (A_{i}\\sin(\\sqrt{\\lambda_{i}}t) + B_{i}\\cos(\\sqrt{\\lambda_{i}}t)) \\boldsymbol{u}_{i}\n",
    "$$\n",
    "\n",
    "where $\\sqrt{\\lambda_{i}}$ is the $i$th natural frequency, and $\\boldsymbol{u}_{i}$ is known as \n",
    "the $i$th vibration mode. The constants $A_{i}$ and $B_{i}$ are determined from the initial conditions."
   ]
  },
  {
   "cell_type": "markdown",
   "metadata": {},
   "source": [
    "### Solution for the $2 \\times 2$ system\n",
    "\n",
    "To get the complete solution describing the motion of the masses we need to compute the eigenvalues and eigenvectors of of $\\boldsymbol{K} \\boldsymbol{x} = \\lambda \\boldsymbol{M} \\boldsymbol{x}$. We first create the matrices $\\boldsymbol{K}$ and $\\boldsymbol{M}$: "
   ]
  },
  {
   "cell_type": "code",
   "execution_count": 6,
   "metadata": {
    "collapsed": false
   },
   "outputs": [
    {
     "name": "stdout",
     "output_type": "stream",
     "text": [
      "[[ 2. -1.]\n",
      " [-1.  1.]]\n"
     ]
    }
   ],
   "source": [
    "import numpy as np\n",
    "k1, k2 = 1.0, 1.0\n",
    "K = np.array([[k1 + k2, -k2], [-k2, k2]] )\n",
    "print(K)"
   ]
  },
  {
   "cell_type": "code",
   "execution_count": 7,
   "metadata": {
    "collapsed": false
   },
   "outputs": [
    {
     "name": "stdout",
     "output_type": "stream",
     "text": [
      "[[ 1.  0.]\n",
      " [ 0.  1.]]\n"
     ]
    }
   ],
   "source": [
    "m1, m2 = 1.0, 1.0\n",
    "M = np.array([[m1, 0], [0, m2]] )\n",
    "print(M)"
   ]
  },
  {
   "cell_type": "markdown",
   "metadata": {},
   "source": [
    "We now compute the eigenvalues and eigenvectors of the generalised problem:"
   ]
  },
  {
   "cell_type": "code",
   "execution_count": 8,
   "metadata": {
    "collapsed": false
   },
   "outputs": [
    {
     "name": "stdout",
     "output_type": "stream",
     "text": [
      "[ 0.381966  2.618034]\n",
      "[[-0.525731 -0.850651]\n",
      " [-0.850651  0.525731]]\n"
     ]
    }
   ],
   "source": [
    "from scipy.linalg import eigh # Use eigh, which is specialised for symmetric matrices\n",
    "\n",
    "evalues, evectors = eigh(K, M)\n",
    "print(evalues)\n",
    "print(evectors)"
   ]
  },
  {
   "cell_type": "markdown",
   "metadata": {},
   "source": [
    "The motion of the masses is therefore\n",
    "\n",
    "$$\n",
    "\\boldsymbol{x} = \n",
    "(A_{1}\\sin(\\sqrt{0.381966} t) + B_{1}\\cos(\\sqrt{0.381966} t)) \\begin{bmatrix}-0.525731 \\\\  -0.850651\\end{bmatrix}\n",
    "+\n",
    "(A_{2}\\sin(\\sqrt{2.618034} t) + B_{2}\\cos(\\sqrt{2.618034} t)) \\begin{bmatrix} -0.850651 \\\\  0.525731\\end{bmatrix}\n",
    "$$"
   ]
  },
  {
   "cell_type": "markdown",
   "metadata": {},
   "source": [
    "#### Exercise\n",
    "\n",
    "Give the two springs different stiffness and examine the influence on the natural frequencies."
   ]
  },
  {
   "cell_type": "markdown",
   "metadata": {},
   "source": [
    "### Motion for given initial conditions\n",
    "\n",
    "If at $t = 0$ the conditions are $\\boldsymbol{x} = \\begin{bmatrix} 1 & 1 \\end{bmatrix}^{T}$ and $\\dot{\\boldsymbol{x}} = \\begin{bmatrix} 0 & 0 \\end{bmatrix}^{T}$, we have \n",
    "\n",
    "$$\n",
    "\\begin{bmatrix}\n",
    "-0.525731 & -0.850651 \n",
    "\\\\\n",
    "-0.850651 & 0.525731 \n",
    "\\end{bmatrix}\n",
    "\\begin{bmatrix}\n",
    "B_{1} \\\\ B_{2}\n",
    "\\end{bmatrix}\n",
    "=\n",
    "\\begin{bmatrix}\n",
    "1 \\\\ 1\n",
    "\\end{bmatrix}\n",
    "$$\n",
    "\n",
    "We can compute $B_{1}$ and $B_{2}$ using NumPy:"
   ]
  },
  {
   "cell_type": "code",
   "execution_count": 9,
   "metadata": {
    "collapsed": false
   },
   "outputs": [
    {
     "name": "stdout",
     "output_type": "stream",
     "text": [
      "[-1.376382 -0.32492 ]\n"
     ]
    }
   ],
   "source": [
    "B = np.linalg.inv(evectors).dot(np.array([1, 1]))\n",
    "print(B)"
   ]
  },
  {
   "cell_type": "markdown",
   "metadata": {},
   "source": [
    "### Animating the motion of the masses\n",
    "\n",
    "For this case, we can use Matplotlib to crate an animation of the motion of the masses. We evaluate the solution to the ODE for each mass for a range of time steps."
   ]
  },
  {
   "cell_type": "code",
   "execution_count": 10,
   "metadata": {
    "collapsed": false
   },
   "outputs": [
    {
     "ename": "KeyError",
     "evalue": "'ffmpeg'",
     "output_type": "error",
     "traceback": [
      "\u001b[0;31m---------------------------------------------------------------------------\u001b[0m",
      "\u001b[0;31mKeyError\u001b[0m                                  Traceback (most recent call last)",
      "\u001b[0;32m<ipython-input-10-9f94f42519af>\u001b[0m in \u001b[0;36m<module>\u001b[0;34m()\u001b[0m\n\u001b[1;32m     39\u001b[0m \u001b[0;31m# Call animation function to display the animation\u001b[0m\u001b[0;34m\u001b[0m\u001b[0;34m\u001b[0m\u001b[0m\n\u001b[1;32m     40\u001b[0m \u001b[0mplt\u001b[0m\u001b[0;34m.\u001b[0m\u001b[0mclose\u001b[0m\u001b[0;34m(\u001b[0m\u001b[0manim\u001b[0m\u001b[0;34m.\u001b[0m\u001b[0m_fig\u001b[0m\u001b[0;34m)\u001b[0m\u001b[0;34m\u001b[0m\u001b[0m\n\u001b[0;32m---> 41\u001b[0;31m \u001b[0mHTML\u001b[0m\u001b[0;34m(\u001b[0m\u001b[0manim\u001b[0m\u001b[0;34m.\u001b[0m\u001b[0mto_html5_video\u001b[0m\u001b[0;34m(\u001b[0m\u001b[0;34m)\u001b[0m\u001b[0;34m)\u001b[0m\u001b[0;34m\u001b[0m\u001b[0m\n\u001b[0m",
      "\u001b[0;32m/usr/lib/python3/dist-packages/matplotlib/animation.py\u001b[0m in \u001b[0;36mto_html5_video\u001b[0;34m(self)\u001b[0m\n\u001b[1;32m    977\u001b[0m                 \u001b[0;31m# We create a writer manually so that we can get the\u001b[0m\u001b[0;34m\u001b[0m\u001b[0;34m\u001b[0m\u001b[0m\n\u001b[1;32m    978\u001b[0m                 \u001b[0;31m# appropriate size for the tag\u001b[0m\u001b[0;34m\u001b[0m\u001b[0;34m\u001b[0m\u001b[0m\n\u001b[0;32m--> 979\u001b[0;31m                 \u001b[0mWriter\u001b[0m \u001b[0;34m=\u001b[0m \u001b[0mwriters\u001b[0m\u001b[0;34m[\u001b[0m\u001b[0mrcParams\u001b[0m\u001b[0;34m[\u001b[0m\u001b[0;34m'animation.writer'\u001b[0m\u001b[0;34m]\u001b[0m\u001b[0;34m]\u001b[0m\u001b[0;34m\u001b[0m\u001b[0m\n\u001b[0m\u001b[1;32m    980\u001b[0m                 writer = Writer(codec='h264',\n\u001b[1;32m    981\u001b[0m                                 \u001b[0mbitrate\u001b[0m\u001b[0;34m=\u001b[0m\u001b[0mrcParams\u001b[0m\u001b[0;34m[\u001b[0m\u001b[0;34m'animation.bitrate'\u001b[0m\u001b[0;34m]\u001b[0m\u001b[0;34m,\u001b[0m\u001b[0;34m\u001b[0m\u001b[0m\n",
      "\u001b[0;32m/usr/lib/python3/dist-packages/matplotlib/animation.py\u001b[0m in \u001b[0;36m__getitem__\u001b[0;34m(self, name)\u001b[0m\n\u001b[1;32m     88\u001b[0m         \u001b[0;32mif\u001b[0m \u001b[0;32mnot\u001b[0m \u001b[0mself\u001b[0m\u001b[0;34m.\u001b[0m\u001b[0mavail\u001b[0m\u001b[0;34m:\u001b[0m\u001b[0;34m\u001b[0m\u001b[0m\n\u001b[1;32m     89\u001b[0m             \u001b[0;32mraise\u001b[0m \u001b[0mRuntimeError\u001b[0m\u001b[0;34m(\u001b[0m\u001b[0;34m\"No MovieWriters available!\"\u001b[0m\u001b[0;34m)\u001b[0m\u001b[0;34m\u001b[0m\u001b[0m\n\u001b[0;32m---> 90\u001b[0;31m         \u001b[0;32mreturn\u001b[0m \u001b[0mself\u001b[0m\u001b[0;34m.\u001b[0m\u001b[0mavail\u001b[0m\u001b[0;34m[\u001b[0m\u001b[0mname\u001b[0m\u001b[0;34m]\u001b[0m\u001b[0;34m\u001b[0m\u001b[0m\n\u001b[0m\u001b[1;32m     91\u001b[0m \u001b[0;34m\u001b[0m\u001b[0m\n\u001b[1;32m     92\u001b[0m \u001b[0mwriters\u001b[0m \u001b[0;34m=\u001b[0m \u001b[0mMovieWriterRegistry\u001b[0m\u001b[0;34m(\u001b[0m\u001b[0;34m)\u001b[0m\u001b[0;34m\u001b[0m\u001b[0m\n",
      "\u001b[0;31mKeyError\u001b[0m: 'ffmpeg'"
     ]
    }
   ],
   "source": [
    "%matplotlib inline\n",
    "import matplotlib.pyplot as plt\n",
    "import matplotlib.animation as animation\n",
    "from IPython.display import HTML\n",
    "\n",
    "fig = plt.figure()\n",
    "ax = fig.add_subplot(111, autoscale_on=False, xlim=(0, 6), ylim=(-2, 2))\n",
    "ax.grid()\n",
    "line, = ax.plot([], [], 'o-', markersize=10, lw=2)\n",
    "time_template = 'time = %.1fs'\n",
    "time_text = ax.text(0.05, 0.9, '', transform=ax.transAxes)\n",
    "\n",
    "def x(t):\n",
    "    alpha0 = B[0]*np.cos(np.sqrt(evalues[0])*t)\n",
    "    alpha1 = B[1]*np.cos(np.sqrt(evalues[1])*t)\n",
    "    return evectors[:,0]*alpha0[:,np.newaxis] + evectors[:,1]*alpha1[:,np.newaxis] \n",
    "\n",
    "t = np.linspace(0, 8*np.pi, 100, retstep=True)\n",
    "dt = t[1]\n",
    "disp = x(t[0]) \n",
    "\n",
    "def animate(i):\n",
    "    zero = [0, 0, 0]\n",
    "    x0 = [0, disp[i, 0] + 2.0, disp[i, 1] + 4.0]\n",
    "    x1 = [0, 0, 0]\n",
    "    \n",
    "    line.set_data(x0, zero)\n",
    "    time_text.set_text(time_template%(i*dt))\n",
    "    return line, time_text\n",
    "\n",
    "def init():\n",
    "    line.set_data([], [])\n",
    "    time_text.set_text('')\n",
    "    return line, time_text\n",
    "\n",
    "anim = animation.FuncAnimation(fig, animate, np.arange(0, len(disp)),\n",
    "                                interval=100, blit=False, init_func=init)\n",
    "    \n",
    "# Call animation function to display the animation\n",
    "plt.close(anim._fig)\n",
    "HTML(anim.to_html5_video())"
   ]
  },
  {
   "cell_type": "markdown",
   "metadata": {},
   "source": [
    "#### Exercise\n",
    "\n",
    "Try changing the spring stiffnesses $k_{1}$ and $k_{2}$, and the masses $m_{1}$ and $m_{2}$ to investigate what effect these have on the vibration response."
   ]
  }
 ],
 "metadata": {
  "kernelspec": {
   "display_name": "Python 3",
   "language": "python",
   "name": "python3"
  },
  "language_info": {
   "codemirror_mode": {
    "name": "ipython",
    "version": 3
   },
   "file_extension": ".py",
   "mimetype": "text/x-python",
   "name": "python",
   "nbconvert_exporter": "python",
   "pygments_lexer": "ipython3",
   "version": "3.5.2+"
  }
 },
 "nbformat": 4,
 "nbformat_minor": 0
}
