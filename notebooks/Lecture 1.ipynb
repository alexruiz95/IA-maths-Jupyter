{
 "metadata": {
  "name": "",
  "signature": "sha256:e19d40961060fef7a00533c8ae8115e8a40d30d9405b0efb3f3c9817572e4614"
 },
 "nbformat": 3,
 "nbformat_minor": 0,
 "worksheets": [
  {
   "cells": [
    {
     "cell_type": "markdown",
     "metadata": {},
     "source": [
      "# Lecture 1\n",
      "\n",
      "This lecture includes . . . . "
     ]
    },
    {
     "cell_type": "code",
     "collapsed": false,
     "input": [],
     "language": "python",
     "metadata": {},
     "outputs": []
    }
   ],
   "metadata": {}
  }
 ]
}