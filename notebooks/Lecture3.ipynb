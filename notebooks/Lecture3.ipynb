{
 "metadata": {
  "name": "",
  "signature": "sha256:778433913e2bcf7a53592aec2d56faf366777f677e566fbc02b4277760d1472c"
 },
 "nbformat": 3,
 "nbformat_minor": 0,
 "worksheets": [
  {
   "cells": [
    {
     "cell_type": "markdown",
     "metadata": {},
     "source": [
      "# Lecture 3\n",
      "\n",
      "In this lecture we move onto non-homogeneous second-order ordinary differentials. We want to solve equations of the form\n",
      "\n",
      "$$\n",
      "a \\frac{d^{2}y}{dx^{2}} + b \\frac{dy}{dx} + c y = f(x)\n",
      "$$\n",
      "\n",
      "where $a$, $b$ and $c$ are real constants. We've seem previously that for the case $b^{2} \\ne 4ac$ and\n",
      "$f(x) = 0$, the general solution to the above equation is \n",
      "\n",
      "$$\n",
      "y = A_{1} e^{\\lambda_{1}} + A_{2}e^{\\lambda_{2}}\n",
      "$$\n",
      "\n",
      "where $\\lambda$ are the roots to the characteristic equation $a\\lambda^{2} + b \\lambda + c = 0$. For the case that $b^{2} = 4ac$ (repeated roots), the general solution is of the form\n",
      "\n",
      "$$\n",
      "y =(A_{1} + A_{2} x) e^{\\lambda x}\n",
      "$$\n",
      "\n",
      "Recall that the constants $A_{1}$ and $A_{2}$ are determined from the boundary conditions.\n"
     ]
    },
    {
     "cell_type": "markdown",
     "metadata": {},
     "source": [
      "### Initialising SymPy\n",
      "\n",
      "To solve equations using SymPy, we again need to import SymPy, and we;ll call `init_printing()` to get nicely typeset equations:"
     ]
    },
    {
     "cell_type": "code",
     "collapsed": false,
     "input": [
      "from sympy import *\n",
      "\n",
      "# This initialises pretty printing\n",
      "init_printing()\n",
      "from IPython.display import display\n",
      "\n",
      "# This command makes plots appear inside the browser window\n",
      "%matplotlib inline"
     ],
     "language": "python",
     "metadata": {},
     "outputs": [],
     "prompt_number": 43
    },
    {
     "cell_type": "markdown",
     "metadata": {},
     "source": [
      "## Mass-spring-damper system\n",
      "\n",
      "The differential equation that governs a single degree-of-freedom mass-spring-damper system, with a forcing term $f(t)$, is\n",
      "\n",
      "$$\n",
      "m \\frac{d^{2}y}{dt^{2}} + \\lambda \\frac{dy}{dt} + ky = f(t)\n",
      "$$\n",
      "\n",
      "To solve this problem using SymPy, we first define the symbols $t$ (time), $m$ (mass), $\\lambda$ (damper coefficient) and $k$ (spring stiffness), and sthe function $y$ (displacement): "
     ]
    },
    {
     "cell_type": "code",
     "collapsed": false,
     "input": [
      "t, m, lmbda, k = symbols(\"t m lambda k\")\n",
      "y = Function(\"y\")\n",
      "f = Function(\"f\")"
     ],
     "language": "python",
     "metadata": {},
     "outputs": [],
     "prompt_number": 44
    },
    {
     "cell_type": "markdown",
     "metadata": {},
     "source": [
      "Next, we define the differential equation, and print it to the screen:"
     ]
    },
    {
     "cell_type": "code",
     "collapsed": false,
     "input": [
      "eqn = Eq(m*Derivative(y(t), t, t) + lmbda*Derivative(y(t), t) + k*y(t), f(t))\n",
      "display(eqn)"
     ],
     "language": "python",
     "metadata": {},
     "outputs": [
      {
       "latex": [
        "$$k y{\\left (t \\right )} + \\lambda \\frac{d}{d t} y{\\left (t \\right )} + m \\frac{d^{2}}{d t^{2}}  y{\\left (t \\right )} = f{\\left (t \\right )}$$"
       ],
       "metadata": {},
       "output_type": "display_data",
       "png": "[encoded data removed]",
       "text": [
        "                          2             \n",
        "           d             d              \n",
        "k\u22c5y(t) + \u03bb\u22c5\u2500\u2500(y(t)) + m\u22c5\u2500\u2500\u2500(y(t)) = f(t)\n",
        "           dt             2             \n",
        "                        dt              "
       ]
      }
     ],
     "prompt_number": 45
    },
    {
     "cell_type": "markdown",
     "metadata": {},
     "source": [
      "## Classifying the ODE\n",
      "\n",
      "Checking the order of the ODE:"
     ]
    },
    {
     "cell_type": "code",
     "collapsed": false,
     "input": [
      "print \"This order of the ODE is:\", ode_order(eqn, y(t))"
     ],
     "language": "python",
     "metadata": {},
     "outputs": [
      {
       "output_type": "stream",
       "stream": "stdout",
       "text": [
        "This order of the ODE is: 2\n"
       ]
      }
     ],
     "prompt_number": 46
    },
    {
     "cell_type": "markdown",
     "metadata": {},
     "source": [
      "As expected, it is second order. Now classifying the ODE:"
     ]
    },
    {
     "cell_type": "code",
     "collapsed": false,
     "input": [
      "print \"Properties of the ODE are:\",classify_ode(eqn)"
     ],
     "language": "python",
     "metadata": {},
     "outputs": [
      {
       "output_type": "stream",
       "stream": "stdout",
       "text": [
        "Properties of the ODE are: "
       ]
      },
      {
       "output_type": "stream",
       "stream": "stdout",
       "text": [
        "('nth_linear_constant_coeff_variation_of_parameters', 'nth_linear_constant_coeff_variation_of_parameters_Integral')\n"
       ]
      }
     ],
     "prompt_number": 47
    },
    {
     "cell_type": "markdown",
     "metadata": {},
     "source": [
      "## Solving the ODE\n",
      "\n",
      "We can now try to solve the ODE symbolically, but without defining $f(t)$ the result will be umanageble. Sympy will return a solution but it will too complicated to interpret.\n",
      "\n",
      "We will therefore specify some of the parameters in the equation:"
     ]
    },
    {
     "cell_type": "code",
     "collapsed": false,
     "input": [
      "eqn = eqn.subs(m, 10)\n",
      "eqn = eqn.subs(k, 2)\n",
      "eqn = eqn.subs(lmbda, 1)\n",
      "display(eqn)\n",
      "dsolve(eqn)"
     ],
     "language": "python",
     "metadata": {},
     "outputs": [
      {
       "latex": [
        "$$2 y{\\left (t \\right )} + \\frac{d}{d t} y{\\left (t \\right )} + 10 \\frac{d^{2}}{d t^{2}}  y{\\left (t \\right )} = f{\\left (t \\right )}$$"
       ],
       "metadata": {},
       "output_type": "display_data",
       "png": "[encoded data removed]",
       "text": [
        "                         2             \n",
        "         d              d              \n",
        "2\u22c5y(t) + \u2500\u2500(y(t)) + 10\u22c5\u2500\u2500\u2500(y(t)) = f(t)\n",
        "         dt              2             \n",
        "                       dt              "
       ]
      },
      {
       "latex": [
        "$$y{\\left (t \\right )} = \\frac{1}{\\sqrt[20]{e^{t}}} \\left(\\left(C_{1} - \\frac{1}{10} \\int \\frac{20 \\sqrt{79}}{79} f{\\left (t \\right )} e^{\\frac{t}{20}} \\sin{\\left (\\frac{\\sqrt{79} t}{20} \\right )}\\, dt\\right) \\cos{\\left (\\frac{\\sqrt{79} t}{20} \\right )} + \\left(C_{2} + \\frac{1}{10} \\int \\frac{20 \\sqrt{79}}{79} f{\\left (t \\right )} e^{\\frac{t}{20}} \\cos{\\left (\\frac{\\sqrt{79} t}{20} \\right )}\\, dt\\right) \\sin{\\left (\\frac{\\sqrt{79} t}{20} \\right )}\\right)$$"
       ],
       "metadata": {},
       "output_type": "pyout",
       "png": "[encoded data removed]",
       "prompt_number": 48,
       "text": [
        "       \u239b     \u2320                                    \u239e                 \u239b     \u2320   \n",
        "       \u239c     \u23ae                 t                  \u239f                 \u239c     \u23ae   \n",
        "       \u239c     \u23ae                 \u2500\u2500    \u239b  ____  \u239e   \u239f                 \u239c     \u23ae   \n",
        "       \u239c     \u23ae      ____       20    \u239c\u2572\u2571 79 \u22c5t\u239f   \u239f                 \u239c     \u23ae   \n",
        "       \u239c     \u23ae 20\u22c5\u2572\u2571 79 \u22c5f(t)\u22c5\u212f  \u22c5sin\u239c\u2500\u2500\u2500\u2500\u2500\u2500\u2500\u2500\u239f   \u239f                 \u239c     \u23ae 20\n",
        "       \u239c     \u23ae                       \u239d   20   \u23a0   \u239f                 \u239c     \u23ae   \n",
        "       \u239c     \u23ae \u2500\u2500\u2500\u2500\u2500\u2500\u2500\u2500\u2500\u2500\u2500\u2500\u2500\u2500\u2500\u2500\u2500\u2500\u2500\u2500\u2500\u2500\u2500\u2500\u2500\u2500\u2500\u2500\u2500\u2500\u2500\u2500 dt\u239f                 \u239c     \u23ae \u2500\u2500\n",
        "       \u239c     \u23ae                79                  \u239f    \u239b  ____  \u239e   \u239c     \u23ae   \n",
        "       \u239c     \u2321                                    \u239f    \u239c\u2572\u2571 79 \u22c5t\u239f   \u239c     \u2321   \n",
        "       \u239cC\u2081 - \u2500\u2500\u2500\u2500\u2500\u2500\u2500\u2500\u2500\u2500\u2500\u2500\u2500\u2500\u2500\u2500\u2500\u2500\u2500\u2500\u2500\u2500\u2500\u2500\u2500\u2500\u2500\u2500\u2500\u2500\u2500\u2500\u2500\u2500\u2500\u2500\u2500\u239f\u22c5cos\u239c\u2500\u2500\u2500\u2500\u2500\u2500\u2500\u2500\u239f + \u239cC\u2082 + \u2500\u2500\u2500\u2500\n",
        "       \u239d                       10                 \u23a0    \u239d   20   \u23a0   \u239d         \n",
        "y(t) = \u2500\u2500\u2500\u2500\u2500\u2500\u2500\u2500\u2500\u2500\u2500\u2500\u2500\u2500\u2500\u2500\u2500\u2500\u2500\u2500\u2500\u2500\u2500\u2500\u2500\u2500\u2500\u2500\u2500\u2500\u2500\u2500\u2500\u2500\u2500\u2500\u2500\u2500\u2500\u2500\u2500\u2500\u2500\u2500\u2500\u2500\u2500\u2500\u2500\u2500\u2500\u2500\u2500\u2500\u2500\u2500\u2500\u2500\u2500\u2500\u2500\u2500\u2500\u2500\u2500\u2500\u2500\u2500\u2500\u2500\u2500\n",
        "                                                                  ____        \n",
        "                                                               20\u2571  t         \n",
        "                                                               \u2572\u2571  \u212f          \n",
        "\n",
        "                                 \u239e              \n",
        "              t                  \u239f              \n",
        "              \u2500\u2500    \u239b  ____  \u239e   \u239f              \n",
        "   ____       20    \u239c\u2572\u2571 79 \u22c5t\u239f   \u239f              \n",
        "\u22c5\u2572\u2571 79 \u22c5f(t)\u22c5\u212f  \u22c5cos\u239c\u2500\u2500\u2500\u2500\u2500\u2500\u2500\u2500\u239f   \u239f              \n",
        "                    \u239d   20   \u23a0   \u239f              \n",
        "\u2500\u2500\u2500\u2500\u2500\u2500\u2500\u2500\u2500\u2500\u2500\u2500\u2500\u2500\u2500\u2500\u2500\u2500\u2500\u2500\u2500\u2500\u2500\u2500\u2500\u2500\u2500\u2500\u2500\u2500 dt\u239f              \n",
        "             79                  \u239f    \u239b  ____  \u239e\n",
        "                                 \u239f    \u239c\u2572\u2571 79 \u22c5t\u239f\n",
        "\u2500\u2500\u2500\u2500\u2500\u2500\u2500\u2500\u2500\u2500\u2500\u2500\u2500\u2500\u2500\u2500\u2500\u2500\u2500\u2500\u2500\u2500\u2500\u2500\u2500\u2500\u2500\u2500\u2500\u2500\u2500\u2500\u2500\u239f\u22c5sin\u239c\u2500\u2500\u2500\u2500\u2500\u2500\u2500\u2500\u239f\n",
        "              10                 \u23a0    \u239d   20   \u23a0\n",
        "\u2500\u2500\u2500\u2500\u2500\u2500\u2500\u2500\u2500\u2500\u2500\u2500\u2500\u2500\u2500\u2500\u2500\u2500\u2500\u2500\u2500\u2500\u2500\u2500\u2500\u2500\u2500\u2500\u2500\u2500\u2500\u2500\u2500\u2500\u2500\u2500\u2500\u2500\u2500\u2500\u2500\u2500\u2500\u2500\u2500\u2500\u2500\u2500\n",
        "                                                \n",
        "                                                \n",
        "                                                "
       ]
      }
     ],
     "prompt_number": 48
    },
    {
     "cell_type": "markdown",
     "metadata": {},
     "source": [
      "The solution is looking more manageble, but we still haven't specified $f(t)$. Setting $f(t) = 2$ and then solving,"
     ]
    },
    {
     "cell_type": "code",
     "collapsed": false,
     "input": [
      "eqn1 = eqn.subs(f(t), 2)\n",
      "print \"ODE with f(t) = 2\"\n",
      "display(eqn1)\n",
      "\n",
      "y = dsolve(eqn1, y(t))\n",
      "print \"Solution to ODE:\"\n",
      "display(y)"
     ],
     "language": "python",
     "metadata": {},
     "outputs": [
      {
       "output_type": "stream",
       "stream": "stdout",
       "text": [
        "ODE with f(t) = 2\n"
       ]
      },
      {
       "latex": [
        "$$2 y{\\left (t \\right )} + \\frac{d}{d t} y{\\left (t \\right )} + 10 \\frac{d^{2}}{d t^{2}}  y{\\left (t \\right )} = 2$$"
       ],
       "metadata": {},
       "output_type": "display_data",
       "png": "[encoded data removed]",
       "text": [
        "                         2          \n",
        "         d              d           \n",
        "2\u22c5y(t) + \u2500\u2500(y(t)) + 10\u22c5\u2500\u2500\u2500(y(t)) = 2\n",
        "         dt              2          \n",
        "                       dt           "
       ]
      },
      {
       "output_type": "stream",
       "stream": "stdout",
       "text": [
        "Solution to ODE:\n"
       ]
      },
      {
       "latex": [
        "$$y{\\left (t \\right )} = \\frac{1}{\\sqrt[20]{e^{t}}} \\left(C_{1} \\sin{\\left (\\frac{\\sqrt{79} t}{20} \\right )} + C_{2} \\cos{\\left (\\frac{\\sqrt{79} t}{20} \\right )}\\right) + 1$$"
       ],
       "metadata": {},
       "output_type": "display_data",
       "png": "[encoded data removed]",
       "text": [
        "             \u239b  ____  \u239e         \u239b  ____  \u239e    \n",
        "             \u239c\u2572\u2571 79 \u22c5t\u239f         \u239c\u2572\u2571 79 \u22c5t\u239f    \n",
        "       C\u2081\u22c5sin\u239c\u2500\u2500\u2500\u2500\u2500\u2500\u2500\u2500\u239f + C\u2082\u22c5cos\u239c\u2500\u2500\u2500\u2500\u2500\u2500\u2500\u2500\u239f    \n",
        "             \u239d   20   \u23a0         \u239d   20   \u23a0    \n",
        "y(t) = \u2500\u2500\u2500\u2500\u2500\u2500\u2500\u2500\u2500\u2500\u2500\u2500\u2500\u2500\u2500\u2500\u2500\u2500\u2500\u2500\u2500\u2500\u2500\u2500\u2500\u2500\u2500\u2500\u2500\u2500\u2500\u2500\u2500\u2500\u2500 + 1\n",
        "                        ____                  \n",
        "                     20\u2571  t                   \n",
        "                     \u2572\u2571  \u212f                    "
       ]
      }
     ],
     "prompt_number": 49
    },
    {
     "cell_type": "markdown",
     "metadata": {},
     "source": [
      "The solution is now looking more tractable. If we set $C_{1} = C_{2} = 1$, we can plot the solution. "
     ]
    },
    {
     "cell_type": "code",
     "collapsed": false,
     "input": [
      "y = y.subs('C1', 0).subs('C2', 1)\n",
      "plot(y.args[1], (t, 0.0, 100.0), xlabel=\"time\", ylabel=\"displacement\")\n"
     ],
     "language": "python",
     "metadata": {},
     "outputs": [
      {
       "metadata": {},
       "output_type": "display_data",
       "png": "[encoded data removed]",
       "text": [
        "<matplotlib.figure.Figure at 0x7f067af34990>"
       ]
      },
      {
       "metadata": {},
       "output_type": "pyout",
       "prompt_number": 52,
       "text": [
        "<sympy.plotting.plot.Plot at 0x7f067b821550>"
       ]
      }
     ],
     "prompt_number": 52
    },
    {
     "cell_type": "markdown",
     "metadata": {},
     "source": [
      "We can see the that the solution is a decaying sinusoidal function."
     ]
    },
    {
     "cell_type": "markdown",
     "metadata": {},
     "source": [
      "### Exercise: \n",
      "\n",
      "Try changing the values for $m$, $\\lambda$ and $k$ to investigate their influence in the response. You can try negative values, but only positive values are physically possible."
     ]
    },
    {
     "cell_type": "markdown",
     "metadata": {},
     "source": [
      "### Exercise:\n",
      "\n",
      "Try changing $f(t)$ to a sine function, and explore the response for $f(t) = \\sin(\\omega t)$ when $\\omega$ is close to $\\sqrt{k/m}$ and $\\lambda$ is small (possible zero)."
     ]
    },
    {
     "cell_type": "code",
     "collapsed": false,
     "input": [],
     "language": "python",
     "metadata": {},
     "outputs": []
    }
   ],
   "metadata": {}
  }
 ]
}