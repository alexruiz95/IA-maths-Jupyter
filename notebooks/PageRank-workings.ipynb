{
 "metadata": {
  "name": "",
  "signature": "sha256:a9fd76cad6f1a28dede35b41792519d1ed98eaeb26c1f044b10c93681239e337"
 },
 "nbformat": 3,
 "nbformat_minor": 0,
 "worksheets": [
  {
   "cells": [
    {
     "cell_type": "markdown",
     "metadata": {},
     "source": [
      "# PageRank example\n",
      "\n",
      "Create the 'PageRank' matrix:"
     ]
    },
    {
     "cell_type": "code",
     "collapsed": false,
     "input": [
      "import numpy as np\n",
      "A = np.array([ [0,       0,       1, 1.0/2.0], \n",
      "               [1.0/3.0, 0,       0, 0      ], \n",
      "               [1.0/3.0, 1.0/2.0, 0, 1.0/2.0], \n",
      "               [1.0/3.0, 1.0/2.0, 0, 0      ]])\n",
      "print A"
     ],
     "language": "python",
     "metadata": {},
     "outputs": [
      {
       "output_type": "stream",
       "stream": "stdout",
       "text": [
        "[[ 0.          0.          1.          0.5       ]\n",
        " [ 0.33333333  0.          0.          0.        ]\n",
        " [ 0.33333333  0.5         0.          0.5       ]\n",
        " [ 0.33333333  0.5         0.          0.        ]]\n"
       ]
      }
     ],
     "prompt_number": 1
    },
    {
     "cell_type": "markdown",
     "metadata": {},
     "source": [
      "## Compute eigenvalues/vectors directly\n",
      "\n",
      "Compute the eigenvalues and eigenvectors, and normals such that $\\sum_{i} x_{i} = 1$:"
     ]
    },
    {
     "cell_type": "code",
     "collapsed": false,
     "input": [
      "evalues, evectors = np.linalg.eig(A)\n",
      "print(\"Eigenvalues: {}\".format(evalues))\n",
      "\n",
      "evector0 = evectors[:,0]\n",
      "print(\"Eigenvector for largest eigenvalue: {}\".format(evector0/np.linalg.norm(evector0, 1)))\n"
     ],
     "language": "python",
     "metadata": {},
     "outputs": [
      {
       "output_type": "stream",
       "stream": "stdout",
       "text": [
        "Eigenvalues: [ 1.00000000+0.j         -0.36062333+0.41097555j -0.36062333-0.41097555j\n",
        " -0.27875333+0.j        ]\n",
        "Eigenvector for largest eigenvalue: [ 0.38709677+0.j  0.12903226+0.j  0.29032258+0.j  0.19354839+0.j]\n"
       ]
      }
     ],
     "prompt_number": 2
    },
    {
     "cell_type": "markdown",
     "metadata": {},
     "source": [
      "## Estimate eigenvector for $\\lambda =1$ by multiplication\n",
      "\n",
      "Matrices where the columns sum to one are known as *stochastic matrices*. The largest (absolute) eigenvector of a stochastic matrix is one. Therefore, we can use repeated matrix multiplication to estimate the eigenvector corresponding to $\\lambda = 1$"
     ]
    },
    {
     "cell_type": "code",
     "collapsed": false,
     "input": [
      "# Create random starting vector\n",
      "x0 =  np.random.rand(A.shape[0])\n",
      "\n",
      "for i in range(5):\n",
      "    x0 = A.dot(x0)\n",
      "x0 = x0/np.linalg.norm(x0 ,1)\n",
      "print(\"Estimated PageRank after 5 iterations: {}\".format(x0))\n",
      "\n",
      "for i in range(5):\n",
      "    x0 = A.dot(x0)\n",
      "x0 = x0/np.linalg.norm(x0 ,1)\n",
      "print(\"Estimated PageRank after 10 iterations: {}\".format(x0))"
     ],
     "language": "python",
     "metadata": {},
     "outputs": [
      {
       "output_type": "stream",
       "stream": "stdout",
       "text": [
        "Estimated PageRank after 5 iterations: [ 0.39521031  0.13665457  0.28098114  0.18715398]\n",
        "Estimated PageRank after 10 iterations: [ 0.38830046  0.12861221  0.29012285  0.19296448]\n"
       ]
      }
     ],
     "prompt_number": 3
    },
    {
     "cell_type": "code",
     "collapsed": false,
     "input": [
      "%matplotlib inline\n",
      "import networkx as nx\n",
      "import matplotlib.pyplot as plt\n",
      "\n",
      "# create networkx graph\n",
      "G=nx.DiGraph()\n",
      "\n",
      "# add nodes\n",
      "for i in range(4):\n",
      "    G.add_node(i)\n",
      "\n",
      "G.add_edge(0, 1, weight=1.0/3.0)\n",
      "G.add_edge(0, 2, weight=1.0/3.0)\n",
      "G.add_edge(0, 3, weight=1.0/3.0)\n",
      "\n",
      "G.add_edge(1, 2, weight=1.0/2.0)\n",
      "G.add_edge(1, 3, weight=1.0/2.0)\n",
      "\n",
      "G.add_edge(2, 1, weight=1.0)\n",
      "\n",
      "G.add_edge(3, 0, weight=1.0/2.0)\n",
      "G.add_edge(3, 2, weight=1.0/2.0)\n",
      "\n",
      "\n",
      "pos=nx.shell_layout(G)\n",
      "    \n",
      "# nodes\n",
      "nx.draw_networkx_nodes(G,pos)\n",
      "\n",
      "# edges\n",
      "nx.draw_networkx_edges(G,pos,arrows=True)\n",
      "\n",
      "edge_labels=dict([((u,v,),d['weight'])\n",
      "             for u,v,d in G.edges(data=True)])\n",
      "nx.draw_networkx_edge_labels(G,pos,edge_labels=edge_labels)\n",
      "\n",
      "#nx.draw_networkx_edge_labels(G,pos)\n",
      "\n",
      "# labels\n",
      "nx.draw_networkx_labels(G,pos,font_size=20,font_family='sans-serif')\n",
      "\n",
      "# show graph\n",
      "plt.axis('off')\n",
      "plt.show()\n"
     ],
     "language": "python",
     "metadata": {},
     "outputs": [
      {
       "metadata": {},
       "output_type": "display_data",
       "png": "[encoded data removed]",
       "text": [
        "<matplotlib.figure.Figure at 0x1122d6790>"
       ]
      }
     ],
     "prompt_number": 50
    },
    {
     "cell_type": "code",
     "collapsed": false,
     "input": [
      "import networkx as nx\n",
      "import matplotlib.pyplot as plt\n",
      "import matplotlib.image as mpimg\n",
      "from cStringIO import StringIO\n",
      "\n",
      "g = nx.dodecahedral_graph()\n",
      "d = nx.to_pydot(g) # d is a pydot graph object, dot options can be easily set\n",
      "# attributes get converted from networkx,\n",
      "# use set methods to control dot attributes after creation\n",
      "\n",
      "png_str = d.create_png()\n",
      "sio = StringIO() # file-like string, appropriate for imread below\n",
      "sio.write(png_str)\n",
      "sio.seek(0)\n",
      "\n",
      "img = mpimg.imread(sio)\n",
      "imgplot = plt.imshow(img)"
     ],
     "language": "python",
     "metadata": {},
     "outputs": [
      {
       "ename": "AttributeError",
       "evalue": "'module' object has no attribute 'to_pydot'",
       "output_type": "pyerr",
       "traceback": [
        "\u001b[0;31m---------------------------------------------------------------------------\u001b[0m\n\u001b[0;31mAttributeError\u001b[0m                            Traceback (most recent call last)",
        "\u001b[0;32m<ipython-input-52-620b2978b3a3>\u001b[0m in \u001b[0;36m<module>\u001b[0;34m()\u001b[0m\n\u001b[1;32m      5\u001b[0m \u001b[0;34m\u001b[0m\u001b[0m\n\u001b[1;32m      6\u001b[0m \u001b[0mg\u001b[0m \u001b[0;34m=\u001b[0m \u001b[0mnx\u001b[0m\u001b[0;34m.\u001b[0m\u001b[0mdodecahedral_graph\u001b[0m\u001b[0;34m(\u001b[0m\u001b[0;34m)\u001b[0m\u001b[0;34m\u001b[0m\u001b[0m\n\u001b[0;32m----> 7\u001b[0;31m \u001b[0md\u001b[0m \u001b[0;34m=\u001b[0m \u001b[0mnx\u001b[0m\u001b[0;34m.\u001b[0m\u001b[0mto_pydot\u001b[0m\u001b[0;34m(\u001b[0m\u001b[0mg\u001b[0m\u001b[0;34m)\u001b[0m \u001b[0;31m# d is a pydot graph object, dot options can be easily set\u001b[0m\u001b[0;34m\u001b[0m\u001b[0m\n\u001b[0m\u001b[1;32m      8\u001b[0m \u001b[0;31m# attributes get converted from networkx,\u001b[0m\u001b[0;34m\u001b[0m\u001b[0;34m\u001b[0m\u001b[0m\n\u001b[1;32m      9\u001b[0m \u001b[0;31m# use set methods to control dot attributes after creation\u001b[0m\u001b[0;34m\u001b[0m\u001b[0;34m\u001b[0m\u001b[0m\n",
        "\u001b[0;31mAttributeError\u001b[0m: 'module' object has no attribute 'to_pydot'"
       ]
      }
     ],
     "prompt_number": 52
    },
    {
     "cell_type": "code",
     "collapsed": false,
     "input": [],
     "language": "python",
     "metadata": {},
     "outputs": [],
     "prompt_number": 41
    },
    {
     "cell_type": "code",
     "collapsed": false,
     "input": [],
     "language": "python",
     "metadata": {},
     "outputs": []
    }
   ],
   "metadata": {}
  }
 ]
}