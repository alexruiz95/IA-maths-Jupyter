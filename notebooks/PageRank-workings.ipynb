{
 "metadata": {
  "name": "",
  "signature": "sha256:ad076da617aba5f0fee5ec05d48fb5924164b049ed13511ebbd841b6e1507217"
 },
 "nbformat": 3,
 "nbformat_minor": 0,
 "worksheets": [
  {
   "cells": [
    {
     "cell_type": "markdown",
     "metadata": {},
     "source": [
      "# PageRank example\n",
      "\n",
      "Create the 'PageRank' matrix:"
     ]
    },
    {
     "cell_type": "code",
     "collapsed": false,
     "input": [
      "import numpy as np\n",
      "A = np.array([ [0,       0,       1, 1.0/2.0], \n",
      "               [1.0/3.0, 0,       0, 0      ], \n",
      "               [1.0/3.0, 1.0/2.0, 0, 1.0/2.0], \n",
      "               [1.0/3.0, 1.0/2.0, 0, 0      ]])\n",
      "print A"
     ],
     "language": "python",
     "metadata": {},
     "outputs": [
      {
       "output_type": "stream",
       "stream": "stdout",
       "text": [
        "[[ 0.          0.          1.          0.5       ]\n",
        " [ 0.33333333  0.          0.          0.        ]\n",
        " [ 0.33333333  0.5         0.          0.5       ]\n",
        " [ 0.33333333  0.5         0.          0.        ]]\n"
       ]
      }
     ],
     "prompt_number": 1
    },
    {
     "cell_type": "markdown",
     "metadata": {},
     "source": [
      "## Compute eigenvalues/vectors directly\n",
      "\n",
      "Compute the eigenvalues and eigenvectors, and normals such that $\\sum_{i} x_{i} = 1$:"
     ]
    },
    {
     "cell_type": "code",
     "collapsed": false,
     "input": [
      "evalues, evectors = np.linalg.eig(A)\n",
      "print(\"Eigenvalues: {}\".format(evalues))\n",
      "\n",
      "evector0 = evectors[:,0]\n",
      "print(\"Eigenvector for largest eigenvalue: {}\".format(evector0/np.linalg.norm(evector0, 1)))\n"
     ],
     "language": "python",
     "metadata": {},
     "outputs": [
      {
       "output_type": "stream",
       "stream": "stdout",
       "text": [
        "Eigenvalues: [ 1.00000000+0.j         -0.36062333+0.41097555j -0.36062333-0.41097555j\n",
        " -0.27875333+0.j        ]\n",
        "Eigenvector for largest eigenvalue: [ 0.38709677+0.j  0.12903226+0.j  0.29032258+0.j  0.19354839+0.j]\n"
       ]
      }
     ],
     "prompt_number": 2
    },
    {
     "cell_type": "markdown",
     "metadata": {},
     "source": [
      "## Estimate eigenvector for $\\lambda =1$ by multiplication\n",
      "\n",
      "Matrices where the columns sum to one are known as *stochastic matrices*. The largest (absolute) eigenvector of a stochastic matrix is one. Therefore, we can use repeated matrix multiplication to estimate the eigenvector corresponding to $\\lambda = 1$"
     ]
    },
    {
     "cell_type": "code",
     "collapsed": false,
     "input": [
      "# Create random starting vector\n",
      "x0 =  np.random.rand(A.shape[0])\n",
      "\n",
      "for i in range(5):\n",
      "    x0 = A.dot(x0)\n",
      "x0 = x0/np.linalg.norm(x0 ,1)\n",
      "print(\"Estimated PageRank after 5 iterations: {}\".format(x0))\n",
      "\n",
      "for i in range(5):\n",
      "    x0 = A.dot(x0)\n",
      "x0 = x0/np.linalg.norm(x0 ,1)\n",
      "print(\"Estimated PageRank after 10 iterations: {}\".format(x0))"
     ],
     "language": "python",
     "metadata": {},
     "outputs": [
      {
       "output_type": "stream",
       "stream": "stdout",
       "text": [
        "Estimated PageRank after 5 iterations: [ 0.39521031  0.13665457  0.28098114  0.18715398]\n",
        "Estimated PageRank after 10 iterations: [ 0.38830046  0.12861221  0.29012285  0.19296448]\n"
       ]
      }
     ],
     "prompt_number": 3
    }
   ],
   "metadata": {}
  }
 ]
}