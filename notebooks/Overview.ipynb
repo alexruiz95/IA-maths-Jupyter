{
 "metadata": {
  "name": "",
  "signature": "sha256:3fcb6e5ea40bc3a5256eff69a851bd6b8e77316670181b284bbecb9c15d4e0a9"
 },
 "nbformat": 3,
 "nbformat_minor": 0,
 "worksheets": [
  {
   "cells": [
    {
     "cell_type": "markdown",
     "metadata": {},
     "source": [
      "# Supporting notebooks for IA Paper 4 (mathematics) teaching \n",
      "\n",
      "This collection of IPython notebooks is being produced as an experiment to support the teaching of mathematical methods to students at the Department of Engineering at University of Cambridge in the second half of Michaelmas Term. These notebooks are produced by Garth N. Wells (<http://www.eng.cam.ac.uk/~gnw20/>).\n",
      "\n",
      "\n",
      "## What these notebooks are \n",
      "\n",
      "The intention of these notebooks is to support the learning of and understanding of the mathematics that is taught in the course.\n",
      "\n",
      "## What these notebooks are not\n",
      "\n",
      "The notebooks are not intended to teach students how to use Python, but to support the development of mathematical understanding through examples. It is hoped, but not required, that some students will download the notebooks to modify and experiment with.\n",
      "\n",
      "## This is an experiment\n",
      "\n",
      "Since this is an experiment, feedback is very much welcome. Send feedback to Garth N. Wells at <gnw20@cam.ac.uk>\n",
      "\n",
      "## List of lectures\n",
      "\n",
      "- [Lecture 1](Lecture1.ipynb)\n",
      "\n"
     ]
    },
    {
     "cell_type": "code",
     "collapsed": false,
     "input": [],
     "language": "python",
     "metadata": {},
     "outputs": []
    }
   ],
   "metadata": {}
  }
 ]
}