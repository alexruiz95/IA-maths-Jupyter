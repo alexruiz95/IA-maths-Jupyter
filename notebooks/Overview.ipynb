{
 "metadata": {
  "name": "",
  "signature": "sha256:83ca9dca5c3b88041da7b1b243a39b28d82c89eff246f92122f8b9ef0ea201c5"
 },
 "nbformat": 3,
 "nbformat_minor": 0,
 "worksheets": [
  {
   "cells": [
    {
     "cell_type": "markdown",
     "metadata": {},
     "source": [
      "# Supporting notebooks for IA Paper 4 (mathematics) teaching \n",
      "\n",
      "This collection of IPython notebooks is being produced as an experiment in supporting the teaching of mathematical methods to Part IA students at the Department of Engineering at University of Cambridge in the second half of Michaelmas Term. These notebooks are produced by Garth N. Wells (<http://www.eng.cam.ac.uk/~gnw20/>).\n",
      "\n",
      "\n",
      "## What these notebooks are \n",
      "\n",
      "The intention of these notebooks is to support the learning of and understanding of the mathematics that is taught in the course.\n",
      "\n",
      "## What these notebooks are not\n",
      "\n",
      "These notebooks are not complete learning material. They supplement the lecture handouts on the Moodle site <https://www.vle.cam.ac.uk/course/view.php?id=69781>.\n",
      "\n",
      "The notebooks are not intended to teach students how to use Python. It is hoped, but not required, that some students will download the notebooks to modify and experiment with. See <http://ipython.org/notebook.html> for help on installing and running IPython.\n",
      "\n",
      "\n",
      "## This is an experiment\n",
      "\n",
      "Feedback is very much welcome. Send feedback to Garth N. Wells at <gnw20@cam.ac.uk>, or report error and typos on Github at <https://github.com/garth-wells/IA-maths-Ipython/issues>.\n",
      "\n",
      "\n",
      "## Computer algebra systems (CAS)\n",
      "\n",
      "Some of these notebooks use a computer algebra systems. Computer algebra systems can perform symbolic mathematical operations and manipulations. Well known proprietary computer algebra systems are Maple and Mathematica (some Mathematica code can be executed in Wolfram Alpha). Open computer algebra systems include Maxima (<http://maxima.sourceforge.net/>) and SymPy (<http://sympy.org/>). Sage (<http://www.sagemath.org/>) is an interesting synthesis of a number of open packages.\n",
      "\n",
      "SymPy is the CAS used in these notebooks.\n",
      "\n",
      "\n",
      "## List of lectures\n",
      "\n",
      "The notebooks are being developed as the course progresses.\n",
      "\n",
      "- [Lecture 1 (first-order ordinary differential equations)](Lecture1.ipynb)\n",
      "- [Lecture 2 (second-order ordinary differential equations)](Lecture2.ipynb)\n",
      "- [Lecture 3 (non-homegeneous second-order ordinary differential equations)](Lecture3.ipynb)\n",
      "- [Lecture 4 (non-homegeneous second-order ordinary differential equations (extension), balance laws)](Lecture4.ipynb)\n",
      "- Lecture 5\n",
      "- Lecture 6\n",
      "- Lecture 7\n",
      "- Lecture 8\n",
      "- Lecture 9\n",
      "- Lecture 10\n",
      "- Lecture 11\n",
      "- Lecture 12\n",
      "\n",
      "\n",
      "## Copyright\n",
      "\n",
      "<br />This work is licensed under a <a rel=\"license\" href=\"http://creativecommons.org/licenses/by/4.0/\">Creative Commons Attribution 4.0 International License</a>.\n",
      "<a rel=\"license\" href=\"http://creativecommons.org/licenses/by/4.0/\">\n",
      "<img alt=\"Creative Commons Licence\" style=\"border-width:0\" src=\"https://i.creativecommons.org/l/by/4.0/88x31.png\" />\n",
      "</a>"
     ]
    }
   ],
   "metadata": {}
  }
 ]
}