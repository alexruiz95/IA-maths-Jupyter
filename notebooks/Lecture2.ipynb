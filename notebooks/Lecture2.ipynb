{
 "metadata": {
  "name": "",
  "signature": "sha256:f409435d028ddf41140b37da49a15bb33a5704623443afcc802ced3c93916af5"
 },
 "nbformat": 3,
 "nbformat_minor": 0,
 "worksheets": [
  {
   "cells": [
    {
     "cell_type": "markdown",
     "metadata": {},
     "source": [
      "# Lecture 2\n",
      "\n",
      "We now look at solving second-order ordinary differential equations using a computer algebra system."
     ]
    },
    {
     "cell_type": "markdown",
     "metadata": {},
     "source": [
      "### Initialising SymPy\n",
      "\n",
      "To use Sympy, we first need to import it and call `init_printing()` to get nicely typeset equations:"
     ]
    },
    {
     "cell_type": "code",
     "collapsed": false,
     "input": [
      "from sympy import *\n",
      "\n",
      "# This initialises pretty printing\n",
      "init_printing()\n",
      "from IPython.display import display\n",
      "\n",
      "# This command makes plots appear inside the browser window\n",
      "%matplotlib inline"
     ],
     "language": "python",
     "metadata": {},
     "outputs": [],
     "prompt_number": 1
    },
    {
     "cell_type": "markdown",
     "metadata": {},
     "source": [
      "## Mass-spring-damper system\n",
      "\n",
      "The differential equation that governs an unforced, single degree-of-freedom mass-spring-damper system is\n",
      "\n",
      "$$\n",
      "m \\frac{d^{2}y}{dx^{2}} + \\lambda \\frac{dy}{dx} + ky = 0\n",
      "$$\n",
      "\n",
      "To solve this problem using SymPy, we first define the symbols $t$ (time), $m$ (mass), $\\lambda$ (damper coefficient) and $k$ (spring stiffness), and the function $y$ (displacement): "
     ]
    },
    {
     "cell_type": "code",
     "collapsed": false,
     "input": [
      "t, m, lmbda, k = symbols(\"t m lambda k\")\n",
      "y = Function(\"y\")"
     ],
     "language": "python",
     "metadata": {},
     "outputs": [],
     "prompt_number": 2
    },
    {
     "cell_type": "markdown",
     "metadata": {},
     "source": [
      "Note that we mis-spell $\\lambda$ as `lmbda` because `lambda` is a protected keyword in Python.\n",
      "\n",
      "Next, we define the differential equation, and print it to the screen:"
     ]
    },
    {
     "cell_type": "code",
     "collapsed": false,
     "input": [
      "eqn = Eq(m*Derivative(y(t), t, t) + lmbda*Derivative(y(t), t) + k*y(t), 0)\n",
      "display(eqn)"
     ],
     "language": "python",
     "metadata": {},
     "outputs": [
      {
       "latex": [
        "$$k y{\\left (t \\right )} + \\lambda \\frac{d}{d t} y{\\left (t \\right )} + m \\frac{d^{2}}{d t^{2}}  y{\\left (t \\right )} = 0$$"
       ],
       "metadata": {},
       "output_type": "display_data",
       "png": "[encoded data removed]",
       "text": [
        "                          2          \n",
        "           d             d           \n",
        "k\u22c5y(t) + \u03bb\u22c5\u2500\u2500(y(t)) + m\u22c5\u2500\u2500\u2500(y(t)) = 0\n",
        "           dt             2          \n",
        "                        dt           "
       ]
      }
     ],
     "prompt_number": 3
    },
    {
     "cell_type": "markdown",
     "metadata": {},
     "source": [
      "Checking the order of the ODE:"
     ]
    },
    {
     "cell_type": "code",
     "collapsed": false,
     "input": [
      "print(\"This order of the ODE is: {}\".format(ode_order(eqn, y(t))))"
     ],
     "language": "python",
     "metadata": {},
     "outputs": [
      {
       "output_type": "stream",
       "stream": "stdout",
       "text": [
        "This order of the ODE is: 2\n"
       ]
      }
     ],
     "prompt_number": 4
    },
    {
     "cell_type": "markdown",
     "metadata": {},
     "source": [
      "and now classifying the ODE:"
     ]
    },
    {
     "cell_type": "code",
     "collapsed": false,
     "input": [
      "print(\"Properties of the ODE are: {}\".format(classify_ode(eqn)))"
     ],
     "language": "python",
     "metadata": {},
     "outputs": [
      {
       "output_type": "stream",
       "stream": "stdout",
       "text": [
        "Properties of the ODE are: ('nth_linear_constant_coeff_homogeneous', '2nd_power_series_ordinary')\n"
       ]
      }
     ],
     "prompt_number": 5
    },
    {
     "cell_type": "markdown",
     "metadata": {},
     "source": [
      "we see as expected that the equation is linear, constant coefficient, homogeneous and second order."
     ]
    },
    {
     "cell_type": "markdown",
     "metadata": {},
     "source": [
      "The `dsolve` function solves the differential equation:"
     ]
    },
    {
     "cell_type": "code",
     "collapsed": false,
     "input": [
      "y = dsolve(eqn, y(t))\n",
      "display(y)"
     ],
     "language": "python",
     "metadata": {},
     "outputs": [
      {
       "latex": [
        "$$y{\\left (t \\right )} = C_{1} e^{\\frac{t}{2 m} \\left(- \\lambda - \\sqrt{- 4 k m + \\lambda^{2}}\\right)} + C_{2} e^{\\frac{t}{2 m} \\left(- \\lambda + \\sqrt{- 4 k m + \\lambda^{2}}\\right)}$$"
       ],
       "metadata": {},
       "output_type": "display_data",
       "png": "[encoded data removed]",
       "text": [
        "             \u239b        _____________\u239e         \u239b        _____________\u239e\n",
        "             \u239c       \u2571           2 \u239f         \u239c       \u2571           2 \u239f\n",
        "           t\u22c5\u239d-\u03bb - \u2572\u2571  -4\u22c5k\u22c5m + \u03bb  \u23a0       t\u22c5\u239d-\u03bb + \u2572\u2571  -4\u22c5k\u22c5m + \u03bb  \u23a0\n",
        "           \u2500\u2500\u2500\u2500\u2500\u2500\u2500\u2500\u2500\u2500\u2500\u2500\u2500\u2500\u2500\u2500\u2500\u2500\u2500\u2500\u2500\u2500\u2500\u2500\u2500       \u2500\u2500\u2500\u2500\u2500\u2500\u2500\u2500\u2500\u2500\u2500\u2500\u2500\u2500\u2500\u2500\u2500\u2500\u2500\u2500\u2500\u2500\u2500\u2500\u2500\n",
        "                      2\u22c5m                             2\u22c5m           \n",
        "y(t) = C\u2081\u22c5\u212f                          + C\u2082\u22c5\u212f                         "
       ]
      }
     ],
     "prompt_number": 6
    },
    {
     "cell_type": "markdown",
     "metadata": {},
     "source": [
      "The solution looks very complicated because we have not specified values for the constants $m$, $\\lambda$ and $k$. The nature of the solution depends heavily on the relative values of the coefficients, as we will see later. We have four constants because the most general case the solution is complex, with two complex constants having four real coefficients.\n",
      "\n",
      "Note that the solution is make up of expoential functions and sinusoidal functions. This is typical of second-order ODEs."
     ]
    },
    {
     "cell_type": "markdown",
     "metadata": {},
     "source": [
      "## Second order, constant coefficient equation\n",
      "\n",
      "We'll now solve \n",
      "\n",
      "$$\n",
      "\\frac{d^{2}y}{dx^{2}} + 2 \\frac{dy}{dx} - 3 y = 0\n",
      "$$\n",
      "\n",
      "The solution for this problem will appear simpler because we have concrete values for the coefficients.\n",
      "\n",
      "Entering the differential equation:"
     ]
    },
    {
     "cell_type": "code",
     "collapsed": false,
     "input": [
      "y = Function(\"y\")\n",
      "x = symbols(\"x\")\n",
      "eqn = Eq(Derivative(y(x), x, x) + 2*Derivative(y(x), x) - 3*y(x), 0)\n",
      "display(eqn)"
     ],
     "language": "python",
     "metadata": {},
     "outputs": [
      {
       "latex": [
        "$$- 3 y{\\left (x \\right )} + 2 \\frac{d}{d x} y{\\left (x \\right )} + \\frac{d^{2}}{d x^{2}}  y{\\left (x \\right )} = 0$$"
       ],
       "metadata": {},
       "output_type": "display_data",
       "png": "[encoded data removed]",
       "text": [
        "                         2          \n",
        "            d           d           \n",
        "-3\u22c5y(x) + 2\u22c5\u2500\u2500(y(x)) + \u2500\u2500\u2500(y(x)) = 0\n",
        "            dx           2          \n",
        "                       dx           "
       ]
      }
     ],
     "prompt_number": 7
    },
    {
     "cell_type": "markdown",
     "metadata": {},
     "source": [
      "Solving this equation,"
     ]
    },
    {
     "cell_type": "code",
     "collapsed": true,
     "input": [
      "y1 = dsolve(eqn)\n",
      "display(y1)"
     ],
     "language": "python",
     "metadata": {},
     "outputs": [
      {
       "latex": [
        "$$y{\\left (x \\right )} = C_{1} e^{- 3 x} + C_{2} e^{x}$$"
       ],
       "metadata": {},
       "output_type": "display_data",
       "png": "[encoded data removed]",
       "text": [
        "           -3\u22c5x       x\n",
        "y(x) = C\u2081\u22c5\u212f     + C\u2082\u22c5\u212f "
       ]
      }
     ],
     "prompt_number": 8
    },
    {
     "cell_type": "markdown",
     "metadata": {},
     "source": [
      "which is the general solution. As expected for a second-order equation, there are two constants."
     ]
    },
    {
     "cell_type": "markdown",
     "metadata": {},
     "source": [
      "Note that the general solution is of the form\n",
      "\n",
      "$$\n",
      "y = C_{1} e^{\\lambda_{1} x} + C_{2} e^{\\lambda_{2} x}\n",
      "$$\n",
      "\n",
      "The constants $\\lambda_{1}$ and $\\lambda_{2}$ are roots of the \\emph{characteristic} equation\n",
      "\n",
      "$$\n",
      "\\lambda^{2} + 2\\lambda - 3 = 0\n",
      "$$\n",
      "\n",
      "This quadratic equation is trivial to solve, but for completeness we'll look at how to solve it using SymPy. We first define the quadratic equation:"
     ]
    },
    {
     "cell_type": "code",
     "collapsed": false,
     "input": [
      "eqn = Eq(lmbda**2 + 2*lmbda -3, 0)\n",
      "display(eqn)"
     ],
     "language": "python",
     "metadata": {},
     "outputs": [
      {
       "latex": [
        "$$\\lambda^{2} + 2 \\lambda - 3 = 0$$"
       ],
       "metadata": {},
       "output_type": "display_data",
       "png": "[encoded data removed]",
       "text": [
        " 2              \n",
        "\u03bb  + 2\u22c5\u03bb - 3 = 0"
       ]
      }
     ],
     "prompt_number": 9
    },
    {
     "cell_type": "markdown",
     "metadata": {},
     "source": [
      "and then compute the roots:"
     ]
    },
    {
     "cell_type": "code",
     "collapsed": false,
     "input": [
      "solve(eqn)"
     ],
     "language": "python",
     "metadata": {},
     "outputs": [
      {
       "latex": [
        "$$\\left [ -3, \\quad 1\\right ]$$"
       ],
       "metadata": {},
       "output_type": "pyout",
       "png": "[encoded data removed]",
       "prompt_number": 10,
       "text": [
        "[-3, 1]"
       ]
      }
     ],
     "prompt_number": 10
    },
    {
     "cell_type": "markdown",
     "metadata": {},
     "source": [
      "which as expected are the two exponents in the solution to the differential equattion."
     ]
    }
   ],
   "metadata": {}
  }
 ]
}