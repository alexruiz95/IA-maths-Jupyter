{
 "cells": [
  {
   "cell_type": "markdown",
   "metadata": {},
   "source": [
    "# Lecture 12 - applications of eigenvalue problems\n",
    "\n",
    "This notebook presents two applications of eigenvalue problems. The examples were covered in the lectures, and are presented in more depth here. The two examples are \n",
    "\n",
    "1. The PageRank algorithm for racking the importance of web pages\n",
    "1. Vibration of a multi degree-of-freedom mass-spring system\n",
    "\n",
    "\n",
    "## PageRank\n",
    "\n",
    "PageRank is a algorithm used by Google to rank the 'importance' of a web page. The concept is that every web page has an importance score, and it 'endows' its importance evenly amongst the pages to which it links. The will lead to a problem where the ranking of all pages is an eigenvalue problem. We will demonstrate the process for the small web of four pages.\n",
    "\n",
    "This is a larger version of the the example from the lectures.\n",
    "\n",
    "### Model problem\n",
    "\n",
    "Consider a web of five pages, $p_{0}$, $p_{1}$, $p_{2}$, $p_{3}$ and $p_{4}$. Consider the scenario:\n",
    "\n",
    "- $p_{0}$ links to: $p_{1}$, $p_{2}$, $p_{3}$ and $p_{4}$\n",
    "- $p_{1}$ links to: $p_{2}$, $p_{3}$ and $p_{4}$\n",
    "- $p_{2}$ links to: $p_{0}$ and $p_{1}$\n",
    "- $p_{3}$ links to: $p_{0}$ and $p_{2}$\n",
    "- $p_{4}$ links to: $p_{1}$ and $p_{2}$ and $p_{3}$\n",
    "\n",
    "We can build a directed graph to describe the connections, and for this we use the package `networkx`. To visualise the graph, the packages `pygraphviz` and `pydot` are required."
   ]
  },
  {
   "cell_type": "code",
   "execution_count": 1,
   "metadata": {
    "collapsed": false
   },
   "outputs": [
    {
     "ename": "ImportError",
     "evalue": "No module named 'networkx'",
     "output_type": "error",
     "traceback": [
      "\u001b[1;31m---------------------------------------------------------------------------\u001b[0m",
      "\u001b[1;31mImportError\u001b[0m                               Traceback (most recent call last)",
      "\u001b[1;32m<ipython-input-1-08f8a4f06cd1>\u001b[0m in \u001b[0;36m<module>\u001b[1;34m()\u001b[0m\n\u001b[1;32m----> 1\u001b[1;33m \u001b[1;32mimport\u001b[0m \u001b[0mnetworkx\u001b[0m \u001b[1;32mas\u001b[0m \u001b[0mnx\u001b[0m\u001b[1;33m\u001b[0m\u001b[0m\n\u001b[0m\u001b[0;32m      2\u001b[0m \u001b[1;33m\u001b[0m\u001b[0m\n\u001b[0;32m      3\u001b[0m \u001b[1;31m# Create a directed networkx graph\u001b[0m\u001b[1;33m\u001b[0m\u001b[1;33m\u001b[0m\u001b[0m\n\u001b[0;32m      4\u001b[0m \u001b[0mG\u001b[0m \u001b[1;33m=\u001b[0m \u001b[0mnx\u001b[0m\u001b[1;33m.\u001b[0m\u001b[0mDiGraph\u001b[0m\u001b[1;33m(\u001b[0m\u001b[1;33m)\u001b[0m\u001b[1;33m\u001b[0m\u001b[0m\n\u001b[0;32m      5\u001b[0m \u001b[1;33m\u001b[0m\u001b[0m\n",
      "\u001b[1;31mImportError\u001b[0m: No module named 'networkx'"
     ]
    }
   ],
   "source": [
    "import networkx as nx\n",
    "\n",
    "# Create a directed networkx graph\n",
    "G = nx.DiGraph()\n",
    "\n",
    "# Add web pages (graph nodes)\n",
    "for i in range(5):\n",
    "   G.add_node(i, label=\"p\" + str(i))\n",
    "\n",
    "# Add outgoing web links with weights (directed graph edges)\n",
    "G.add_edge(0, 1, weight=1.0/4.0, label=\"1/4\")\n",
    "G.add_edge(0, 2, weight=1.0/4.0, label=\"1/4\")\n",
    "G.add_edge(0, 3, weight=1.0/4.0, label=\"1/4\")\n",
    "G.add_edge(0, 4, weight=1.0/4.0, label=\"1/4\")\n",
    "\n",
    "\n",
    "G.add_edge(1, 2, weight=1.0/3.0, label=\"1/3\")\n",
    "G.add_edge(1, 3, weight=1.0/3.0, label=\"1/3\")\n",
    "G.add_edge(1, 4, weight=1.0/3.0, label=\"1/3\")\n",
    "\n",
    "G.add_edge(2, 0, weight=1.0/2.0, label=\"1/2\")\n",
    "G.add_edge(2, 1, weight=1.0/2.0, label=\"1/2\")\n",
    "\n",
    "G.add_edge(3, 0, weight=1.0/2.0, label=\"1/2\")\n",
    "G.add_edge(3, 2, weight=1.0/2.0, label=\"1/2\")\n",
    "\n",
    "G.add_edge(4, 1, weight=1.0/3.0, label=\"1/3\")\n",
    "G.add_edge(4, 2, weight=1.0/3.0, label=\"1/3\")\n",
    "G.add_edge(4, 3, weight=1.0/3.0, label=\"1/3\")\n",
    "\n",
    "# To plot graph, convert to a PyGraphviz graph for drawing\n",
    "Ag = nx.to_agraph(G)\n",
    "Ag.layout(prog='dot')\n",
    "Ag.draw('web.png')\n",
    "from IPython.display import Image\n",
    "Image('web.png')"
   ]
  },
  {
   "cell_type": "markdown",
   "metadata": {},
   "source": [
    "Note that edges have been given a weight which is $1/n$, where $n$ is the number of outgoing link/edges from a page/node. The is the fraction of page's importance/rank that it can give to the pages to which it links. \n",
    "\n",
    "If we denote the rank/importance of page $i$ by $x_{i}$, we can express the importance of each page:\n",
    "\n",
    "$$\n",
    "\\begin{align}\n",
    "x_{0} =& \\tfrac{1}{2} x_{2} + \\tfrac{1}{2} x_{3}\n",
    "\\\\\n",
    "x_{1} =& \\tfrac{1}{4}x_{0} + \\tfrac{1}{2}x_{2} + \\tfrac{1}{3}x_{4} \n",
    "\\\\\n",
    "x_{2} =& \\tfrac{1}{4}x_{0} + \\tfrac{1}{3}x_{1} + \\tfrac{1}{2}x_{3} + \\tfrac{1}{3}x_{4}\n",
    "\\\\\n",
    "x_{3} =& \\tfrac{1}{4}x_{0} + \\tfrac{1}{3}x_{1} + \\tfrac{1}{3}x_{4}\n",
    "\\\\\n",
    "x_{4} =& \\tfrac{1}{4}x_{0} + \\tfrac{1}{3}x_{1}\n",
    "\\end{align}\n",
    "$$\n",
    "\n",
    "We can express this as a system of equation:\n",
    "\n",
    "$$\n",
    "\\underbrace{\n",
    "\\begin{bmatrix}\n",
    "0 & 0 & \\tfrac{1}{2} & \\tfrac{1}{2} & 0\n",
    "\\\\\n",
    "\\tfrac{1}{4} & 0 & \\tfrac{1}{2} & 0 & \\tfrac{1}{3}\n",
    "\\\\\n",
    "\\tfrac{1}{4} & \\tfrac{1}{3} & 0 & \\tfrac{1}{2} & \\tfrac{1}{3}\n",
    "\\\\\n",
    "\\tfrac{1}{4} & \\tfrac{1}{3} & 0 & 0 & \\tfrac{1}{3}\n",
    "\\\\\n",
    "\\tfrac{1}{4} & \\tfrac{1}{3} & 0 & 0 & 0\n",
    "\\end{bmatrix}}_{\\boldsymbol{A}}\n",
    "\\begin{bmatrix}\n",
    "x_{0} \\\\ x_{1} \\\\ x_{2} \\\\ x_{3} \\\\ x_{4}\n",
    "\\end{bmatrix}\n",
    "=\n",
    "\\begin{bmatrix}\n",
    "x_{0} \\\\ x_{1} \\\\ x_{2} \\\\ x_{3} \\\\ x_{4}\n",
    "\\end{bmatrix}\n",
    "$$\n",
    "\n",
    "This is an eigenvalue problem with eigenvalue $\\lambda = 1$. To solve the problem we need to find the corresponding eigenvector.\n",
    "\n",
    "First, we can create the matrix $\\boldsymbol{A}$ directly from the graph (note that we added weights to the graph edges when building the graph):"
   ]
  },
  {
   "cell_type": "code",
   "execution_count": null,
   "metadata": {
    "collapsed": false
   },
   "outputs": [],
   "source": [
    "# Get the matrix containing the graph weights\n",
    "A = (nx.adjacency_matrix(G).T).getA()\n",
    "print A"
   ]
  },
  {
   "cell_type": "markdown",
   "metadata": {},
   "source": [
    "Note that the columns of $\\boldsymbol{A}$ sum to one. Such a matrix is known as a *stochastic matrix*. In our context, what is important is that the largest eigenvalue (in absolute terms) for such a matrix is one. Therefore, we are looking for the eigenvector associated with the largest eigenvalue.\n",
    "\n",
    "\n",
    "### Direct computation of the PageRank vector\n",
    "\n",
    "To find the solution, we can compute the eigenvectors of $\\boldsymbol{A}$, and pick the eigenvectors that corresponds to $\\lambda = 1$:"
   ]
  },
  {
   "cell_type": "code",
   "execution_count": null,
   "metadata": {
    "collapsed": false
   },
   "outputs": [],
   "source": [
    "# Compute the eigenvalues and eigenvectors\n",
    "import numpy as np\n",
    "np.set_printoptions(precision=6)\n",
    "evalues, evectors = np.linalg.eig(A)\n",
    "\n",
    "# Print largest eigenvalue and corresponding eigenvector\n",
    "np.set_printoptions(precision=6)\n",
    "print(\"The maxiumum eigenvalue is: {}\".format(np.max(evalues)))\n",
    "evector = evectors[:, np.argmax(evalues)]\n",
    "evector /= np.linalg.norm(evector, 1)\n",
    "print(\"The PageRank vector (eigenvector) is: \\n {}\".format(evector))"
   ]
  },
  {
   "cell_type": "markdown",
   "metadata": {},
   "source": [
    "The PageRank vector has been normalised using the $l_{1}$ norm such the the entries sum to one.\n",
    "\n",
    "\n",
    "### Approximation of the PageRank vector via matrix multiplication\n",
    "\n",
    "The direct computation of all eigenvalues and eigenvectors is an expensive operation, and can only be reasonably performed for small matrices. However, we are interested only in the eigenvector corresponding to the largest eigenvalue. Recall that, in almost all cases, the repeated multiplication of a vector by a matrix $\\boldsymbol{A}$ will yield a vector that tends to the direction of the eigenvector corresponding to the largest eigenvalue. We can use this to approximate the PageRank vector using only matrix-vector multiplication:"
   ]
  },
  {
   "cell_type": "code",
   "execution_count": null,
   "metadata": {
    "collapsed": false
   },
   "outputs": [],
   "source": [
    "# Create random starting vector\n",
    "x0 = np.random.rand(A.shape[0])\n",
    "\n",
    "# Perform 5 iterations\n",
    "for i in range(5):\n",
    "    x0 = A.dot(x0)\n",
    "x0 = x0/np.linalg.norm(x0 ,1)\n",
    "print(\"Estimated PageRank after 5 iterations: {}\".format(x0))\n",
    "\n",
    "# Perform another 5 iterations\n",
    "for i in range(5):\n",
    "    x0 = A.dot(x0)\n",
    "x0 = x0/np.linalg.norm(x0 ,1)\n",
    "print(\"Estimated PageRank after 10 iterations: {}\".format(x0))\n"
   ]
  },
  {
   "cell_type": "markdown",
   "metadata": {},
   "source": [
    "It is clear that the approximate solution is very close to the exact solution with relatively few iterations. The major advantage of this method is that it is computationally inexpensive, which makes it tractable for very large matrices."
   ]
  },
  {
   "cell_type": "markdown",
   "metadata": {},
   "source": [
    "## Multiple degree of freedom mass-spring system\n",
    "\n",
    "Eigenvalues and eigenvectors are used to understand the dynamic response of mass-spring systems.\n",
    "\n",
    "\n",
    "### System of equations\n",
    "\n",
    "The equations of motion for a multi degree-of-freedom mass-spring system are:\n",
    "\n",
    "$$\n",
    "\\boldsymbol{M} \\ddot{\\boldsymbol{x}} + \\boldsymbol{K} \\boldsymbol{x}  = \\boldsymbol{0}\n",
    "$$\n",
    "\n",
    "where $\\boldsymbol{x}$ are the displacements of the masses.  For the problem in the lecture with two masses (of equal mass) connected by springs of equal stiffness, the 'mass matrix' $\\boldsymbol{M}$ is \n",
    "\n",
    "$$\n",
    "\\boldsymbol{M} = \n",
    "\\begin{bmatrix}\n",
    "m & 0\\\\ 0 & m \n",
    "\\end{bmatrix}\n",
    "= m \\boldsymbol{I}\n",
    "$$\n",
    "\n",
    "and the 'stiffness matrix' $\\boldsymbol{K}$ is \n",
    "\n",
    "$$\n",
    "\\boldsymbol{K} = \n",
    "k\n",
    "\\begin{bmatrix}\n",
    "2 & -1 \\\\ -1 & 1 \n",
    "\\end{bmatrix}\n",
    "$$"
   ]
  },
  {
   "cell_type": "markdown",
   "metadata": {},
   "source": [
    "### Eigenvectors and eigenvalues\n",
    "\n",
    "We now take a brief excursion into the properties of eiegenvectors related to the matrices $\\boldsymbol{K}$ and $\\boldsymbol{M}$. The purpose will soon be clear.\n",
    "\n",
    "Consider the eigenpairs for the 'generalised' eigenvalue problem\n",
    "\n",
    "$$\n",
    "\\boldsymbol{K} \\boldsymbol{u}_{i} =  \\lambda_{i} \\boldsymbol{M} \\boldsymbol{u}_{i} \n",
    "$$\n",
    "\n",
    "where $\\lambda_{i}$ is an eigenvalue and $\\boldsymbol{u}_{i}$ is an eigenvector. For the simple problem, we can reformulate the problem as a regular eigenvalue problem for the matrix $\\boldsymbol{K}$:\n",
    "\n",
    "$$\n",
    "\\boldsymbol{K} \\boldsymbol{u}_{i} =  m \\mu_{i} \\boldsymbol{u}_{i},\n",
    "$$\n",
    "\n",
    "where $\\lambda_{i} = m \\mu_{i}$. Since $\\boldsymbol{K}$ is real and symmetric, the eigenvalues and eigenvectors will be real, and the eigenvectors will be orthogonal. "
   ]
  },
  {
   "cell_type": "markdown",
   "metadata": {},
   "source": [
    "### Orthogonality of the eigenvectors\n",
    "\n",
    "Multiplying both sides of the above equation by $\\boldsymbol{u}_{j}^{T}$:\n",
    "\n",
    "$$\n",
    "\\boldsymbol{u}_{j}^{T} \\boldsymbol{K} \\boldsymbol{u}_{i} =  m \\mu_{i} \\boldsymbol{u}_{j}^{T} \\boldsymbol{u}_{i},\n",
    "$$\n",
    "\n",
    "Since the eigenvectors are orthogonal (see lecture notes), and if they are normalised to have unit length it follows that\n",
    "\n",
    "$$\n",
    "\\boldsymbol{u}_{j}^{T} \\boldsymbol{u}_{i} = \n",
    "\\begin{cases}\n",
    "1  & \\text{if} \\ i = j,\n",
    "\\\\\n",
    "0 & \\text{if} \\ i \\ne j.\n",
    "\\end{cases}\n",
    "$$\n",
    "\n",
    "From $\\boldsymbol{K} \\boldsymbol{u}_{i} =  m \\mu_{i} \\boldsymbol{u}_{i}$ and the above orthogonality property,\n",
    "it then also follows that\n",
    "\n",
    "$$\n",
    "\\boldsymbol{u}_{j}^{T} \\boldsymbol{K} \\boldsymbol{u}_{i}\n",
    "\\begin{cases}\n",
    "m\\mu_{i}  & \\text{if} \\ i = j,\n",
    "\\\\\n",
    "0 & \\text{if} \\ i \\ne j.\n",
    "\\end{cases}\n",
    "$$\n",
    "\n",
    "In addition to the eigenvectors being orthogonal to each other, from the above equation we can also say that they are *orthogonal with respect to $\\boldsymbol{K}$*."
   ]
  },
  {
   "cell_type": "markdown",
   "metadata": {},
   "source": [
    "### Decoupling the modes\n",
    "\n",
    "Since the eigenvectors are linearly independent, we can use them as a basis to express the displacement vector $\\boldsymbol{x}$\n",
    "\n",
    "$$\n",
    "\\boldsymbol{x} = \\sum_{i} \\alpha_{i} \\boldsymbol{u}_{i} = \\alpha_{1} \\boldsymbol{u}_{1} + \\alpha_{2} \\boldsymbol{u}_{2},\n",
    "$$\n",
    "\n",
    "where $\\alpha_{i}$ are unknowns. Taking two derivatives with respect to time:\n",
    "\n",
    "$$\n",
    "\\ddot{\\boldsymbol{x}} = \\sum_{i} \\ddot{\\alpha}_{i} \\boldsymbol{u}_{i} = \\ddot{\\alpha}_{1} \\boldsymbol{u}_{1} + \\ddot{\\alpha}_{2} \\boldsymbol{u}_{2}\n",
    "$$\n",
    "\n",
    "Inserting these expressions into $\\boldsymbol{M} \\ddot{\\boldsymbol{x}} + \\boldsymbol{K} \\boldsymbol{x}  = \\boldsymbol{0}$,\n",
    "\n",
    "$$\n",
    "\\boldsymbol{M} \\sum_{i} \\ddot{\\alpha}_{i} \\boldsymbol{u}_{i}  + \\boldsymbol{K} \\sum_{i} \\alpha_{i} \\boldsymbol{u}_{i} = \\boldsymbol{0}\n",
    "$$\n",
    "\n",
    "Multiplying both sides of the above equation by $\\boldsymbol{u}^{T}_{j}$ \n",
    "\n",
    "$$\n",
    "\\boldsymbol{u}^{T}_{j} \\boldsymbol{M} \\sum_{i} \\ddot{\\alpha}_{i} \\boldsymbol{u}_{i}  + \\boldsymbol{u}^{T}_{j} \\boldsymbol{K} \\sum_{i} \\alpha_{i} \\boldsymbol{u}_{i} = \\boldsymbol{0}\n",
    "$$\n",
    "\n",
    "From the orthogonality properties of the eigenvectors, for the case $i \\ne j$ the above becomes the trivial '$0 =0$', and when $i = j$ we get the ordinary differential equation\n",
    "\n",
    "$$\n",
    " \\ddot{\\alpha}_{i} + m \\mu_{i} \\alpha_{i} = 0\n",
    "$$\n",
    "\n",
    "for every $i$. This is a second-order, constant coefficient equation which is easy to solve:\n",
    "\n",
    "$$\n",
    " \\alpha_{i} = A_{i}\\sin(\\sqrt{m\\mu_{i}}t) + B_{i}\\cos(\\sqrt{m\\mu_{i}}t)\n",
    "$$\n",
    "\n",
    "Hence the displacement vector is \n",
    "\n",
    "$$\n",
    "\\boldsymbol{x} = \\sum_{i} (A_{i}\\sin(\\sqrt{m\\mu_{i}}t) + B_{i}\\cos(\\sqrt{m\\mu_{i}}t)) \\boldsymbol{u}_{i}\n",
    "$$\n",
    "\n",
    "where $m\\mu_{i}$ is known as the $i$th natural frequency, and $\\boldsymbol{u}_{i}$ is known as the $i$th vibration mode.\n",
    "The constants $A_{i}$ and $B_{i}$ are determined from the initial conditions."
   ]
  },
  {
   "cell_type": "markdown",
   "metadata": {},
   "source": [
    "### Solution for the $2 \\times 2$ system\n",
    "\n",
    "To get the complete solution describing the motion of the masses we need to compute the eigenvalues and eigenvectors\n",
    "of $\\boldsymbol{A}$. We first create the matrix $\\boldsymbol{A}$: "
   ]
  },
  {
   "cell_type": "markdown",
   "metadata": {},
   "source": [
    "Computing the eigenvalues and eigenvectors of $\\boldsymbol{K}$:"
   ]
  },
  {
   "cell_type": "code",
   "execution_count": null,
   "metadata": {
    "collapsed": false
   },
   "outputs": [],
   "source": [
    "import numpy as np\n",
    "k = 1.0\n",
    "K = k*np.array([[2, -1], [-1, 1]] )\n",
    "print(K)"
   ]
  },
  {
   "cell_type": "code",
   "execution_count": null,
   "metadata": {
    "collapsed": false
   },
   "outputs": [],
   "source": [
    "evalues, evectors = np.linalg.eig(K)\n",
    "print(evalues)\n",
    "print(evectors)"
   ]
  },
  {
   "cell_type": "markdown",
   "metadata": {},
   "source": [
    "The motion of the masses is therefore\n",
    "\n",
    "$$\n",
    "\\boldsymbol{x} = (A_{i}\\sin(\\sqrt{2.618034} t) + B_{i}\\cos(\\sqrt{2.618034} t)) \\begin{bmatrix}0.850651 \\\\  -0.525731\\end{bmatrix}\n",
    "+\n",
    "\\boldsymbol{x} = (A_{i}\\sin(\\sqrt{0.381966} t) + B_{i}\\cos(\\sqrt{0.381966} t)) \\begin{bmatrix}0.525731 \\\\  0.850651\\end{bmatrix}\n",
    "$$"
   ]
  },
  {
   "cell_type": "markdown",
   "metadata": {},
   "source": [
    "#### Exercise\n",
    "\n",
    "Give the two springs different stiffness and examine the influence on the natural frequencies.\n",
    "\n",
    "### Motion for given initial conditions\n",
    "\n",
    "If at $t = 0$ the conditions are $\\boldsymbol{x} = \\begin{bmatrix} 1 & 1 \\end{bmatrix}^{T}$ and $\\dot{\\boldsymbol{x}} = \\begin{bmatrix} 0 & 0 \\end{bmatrix}^{T}$, we have \n",
    "\n",
    "$$\n",
    "\\begin{bmatrix}\n",
    "0.850651 & 0.525731\n",
    "\\\\\n",
    "-0.525731 & 0.850651\n",
    "\\end{bmatrix}\n",
    "\\begin{bmatrix}\n",
    "B_{1} \\\\ B_{2}\n",
    "\\end{bmatrix}\n",
    "=\n",
    "\\begin{bmatrix}\n",
    "1 \\\\ 1\n",
    "\\end{bmatrix}\n",
    "$$\n",
    "\n",
    "We can compute $B_{1}$ and $B_{2}$ using NumPy"
   ]
  },
  {
   "cell_type": "code",
   "execution_count": null,
   "metadata": {
    "collapsed": false
   },
   "outputs": [],
   "source": [
    "B = np.linalg.inv(evectors.T).dot(np.array([1, 1]))\n",
    "print(B)"
   ]
  },
  {
   "cell_type": "markdown",
   "metadata": {},
   "source": [
    "For this case, we can use Matplotlib to crate an animation of the motion of the masses."
   ]
  },
  {
   "cell_type": "code",
   "execution_count": null,
   "metadata": {
    "collapsed": false
   },
   "outputs": [],
   "source": [
    "%matplotlib inline\n",
    "import matplotlib.pyplot as plt\n",
    "import matplotlib.animation as animation\n",
    "\n",
    "fig = plt.figure()\n",
    "ax = fig.add_subplot(111, autoscale_on=False, xlim=(0, 6), ylim=(-2, 2))\n",
    "ax.grid()\n",
    "line, = ax.plot([], [], 'o-', markersize=10, lw=2)\n",
    "time_template = 'time = %.1fs'\n",
    "time_text = ax.text(0.05, 0.9, '', transform=ax.transAxes)\n",
    "\n",
    "def x(t):\n",
    "    alpha0 = B[0]*np.cos(np.sqrt(evalues[0])*t)\n",
    "    alpha1 = B[1]*np.cos(np.sqrt(evalues[1])*t)\n",
    "    return evectors[0,:]*alpha0[:, np.newaxis] + evectors[1,:]*alpha1[:, np.newaxis] \n",
    "\n",
    "t = np.linspace(0, 4*np.pi, 400, retstep=True)\n",
    "dt = t[1]\n",
    "disp = x(t[0]) \n",
    "\n",
    "def animate(i):\n",
    "    zero = [0, 0, 0]\n",
    "    x0 = [0, disp[i, 0] + 2.0, disp[i, 1] + 4.0]\n",
    "    x1 = [0, 0, 0]\n",
    "    \n",
    "    line.set_data(x0, zero)\n",
    "    time_text.set_text(time_template%(i*dt))\n",
    "    return line, time_text\n",
    "\n",
    "def init():\n",
    "    line.set_data([], [])\n",
    "    time_text.set_text('')\n",
    "    return line, time_text\n",
    "\n",
    "ani = animation.FuncAnimation(fig, animate, np.arange(0, len(disp)), \\\n",
    "                              interval=25, blit=True, init_func=init)\n",
    "\n",
    "# JS Animation import is available at http://github.com/jakevdp/JSAnimation\n",
    "from JSAnimation.IPython_display import display_animation\n",
    "display_animation(ani, default_mode='once')"
   ]
  }
 ],
 "metadata": {
  "kernelspec": {
   "display_name": "Python 3",
   "language": "python",
   "name": "python3"
  },
  "language_info": {
   "codemirror_mode": {
    "name": "ipython",
    "version": 3
   },
   "file_extension": ".py",
   "mimetype": "text/x-python",
   "name": "python",
   "nbconvert_exporter": "python",
   "pygments_lexer": "ipython3",
   "version": "3.5.0+"
  }
 },
 "nbformat": 4,
 "nbformat_minor": 0
}
