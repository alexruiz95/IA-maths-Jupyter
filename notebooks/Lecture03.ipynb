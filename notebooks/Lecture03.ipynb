{
 "cells": [
  {
   "cell_type": "markdown",
   "metadata": {},
   "source": [
    "# Lecture 3\n",
    "\n",
    "In this lecture we move onto non-homogeneous second-order ordinary differentials. We want to solve equations of the form\n",
    "\n",
    "$$\n",
    "a \\frac{d^{2}y}{dx^{2}} + b \\frac{dy}{dx} + c y = f(x)\n",
    "$$\n",
    "\n",
    "where $a$, $b$ and $c$ are real constants. We've seem previously that for the case $b^{2} \\ne 4ac$ and\n",
    "$f(x) = 0$, the general solution to the above equation is \n",
    "\n",
    "$$\n",
    "y = A_{1} e^{\\lambda_{1}} + A_{2}e^{\\lambda_{2}}\n",
    "$$\n",
    "\n",
    "where $\\lambda$ are the roots to the characteristic equation $a\\lambda^{2} + b \\lambda + c = 0$. For the case that $b^{2} = 4ac$ (repeated roots), the general solution is of the form\n",
    "\n",
    "$$\n",
    "y =(A_{1} + A_{2} x) e^{\\lambda x}\n",
    "$$\n",
    "\n",
    "Recall that the constants $A_{1}$ and $A_{2}$ are determined from the boundary conditions."
   ]
  },
  {
   "cell_type": "markdown",
   "metadata": {},
   "source": [
    "### Initialising SymPy\n",
    "\n",
    "To solve equations using SymPy, we again need to import SymPy, and we;ll call `init_printing()` to get nicely typeset equations:"
   ]
  },
  {
   "cell_type": "code",
   "execution_count": 1,
   "metadata": {
    "collapsed": false
   },
   "outputs": [],
   "source": [
    "from sympy import *\n",
    "\n",
    "# This initialises pretty printing\n",
    "init_printing()\n",
    "from IPython.display import display\n",
    "\n",
    "# This command makes plots appear inside the browser window\n",
    "%matplotlib inline"
   ]
  },
  {
   "cell_type": "markdown",
   "metadata": {},
   "source": [
    "## Mass-spring-damper system\n",
    "\n",
    "The differential equation that governs a single degree-of-freedom mass-spring-damper system, with a forcing term $f(t)$, is\n",
    "\n",
    "$$\n",
    "m \\frac{d^{2}y}{dt^{2}} + \\lambda \\frac{dy}{dt} + ky = f(t)\n",
    "$$\n",
    "\n",
    "To solve this problem using SymPy, we first define the symbols $t$ (time), $m$ (mass), $\\lambda$ (damper coefficient) and $k$ (spring stiffness), and the function $y$ (displacement): "
   ]
  },
  {
   "cell_type": "code",
   "execution_count": 2,
   "metadata": {
    "collapsed": false
   },
   "outputs": [],
   "source": [
    "t, m, lmbda, k = symbols(\"t m lambda k\")\n",
    "y = Function(\"y\")\n",
    "f = Function(\"f\")"
   ]
  },
  {
   "cell_type": "markdown",
   "metadata": {},
   "source": [
    "Next, we define the differential equation, and print it to the screen:"
   ]
  },
  {
   "cell_type": "code",
   "execution_count": 3,
   "metadata": {
    "collapsed": false
   },
   "outputs": [
    {
     "data": {
      "image/png": "[encoded data removed]",
      "text/latex": [
       "$$k y{\\left (t \\right )} + \\lambda \\frac{d}{d t} y{\\left (t \\right )} + m \\frac{d^{2}}{d t^{2}}  y{\\left (t \\right )} = f{\\left (t \\right )}$$"
      ],
      "text/plain": [
       "                          2             \n",
       "           d             d              \n",
       "k⋅y(t) + λ⋅──(y(t)) + m⋅───(y(t)) = f(t)\n",
       "           dt             2             \n",
       "                        dt              "
      ]
     },
     "metadata": {},
     "output_type": "display_data"
    }
   ],
   "source": [
    "eqn = Eq(m*Derivative(y(t), t, t) + lmbda*Derivative(y(t), t) + k*y(t), f(t))\n",
    "display(eqn)"
   ]
  },
  {
   "cell_type": "markdown",
   "metadata": {},
   "source": [
    "## Classifying the ODE\n",
    "\n",
    "Checking the order of the ODE:"
   ]
  },
  {
   "cell_type": "code",
   "execution_count": 4,
   "metadata": {
    "collapsed": false
   },
   "outputs": [
    {
     "name": "stdout",
     "output_type": "stream",
     "text": [
      "This order of the ODE is: 2\n"
     ]
    }
   ],
   "source": [
    "print(\"This order of the ODE is: {}\".format(ode_order(eqn, y(t))))"
   ]
  },
  {
   "cell_type": "markdown",
   "metadata": {},
   "source": [
    "As expected, it is second order. Now classifying the ODE:"
   ]
  },
  {
   "cell_type": "code",
   "execution_count": 5,
   "metadata": {
    "collapsed": false
   },
   "outputs": [
    {
     "name": "stdout",
     "output_type": "stream",
     "text": [
      "Properties of the ODE are: ('nth_linear_constant_coeff_variation_of_parameters', 'nth_linear_constant_coeff_variation_of_parameters_Integral')\n"
     ]
    }
   ],
   "source": [
    "print(\"Properties of the ODE are: {}\".format(classify_ode(eqn)))"
   ]
  },
  {
   "cell_type": "markdown",
   "metadata": {},
   "source": [
    "## Solving the ODE\n",
    "\n",
    "We can now try to solve the ODE symbolically, but without defining $f(t)$ the result will be umanageble. Sympy will return a solution but it will too complicated to interpret.\n",
    "\n",
    "We will therefore specify some of the parameters in the equation:"
   ]
  },
  {
   "cell_type": "code",
   "execution_count": 6,
   "metadata": {
    "collapsed": false
   },
   "outputs": [
    {
     "data": {
      "image/png": "[encoded data removed]",
      "text/latex": [
       "$$16 y{\\left (t \\right )} + \\frac{d}{d t} y{\\left (t \\right )} + 4 \\frac{d^{2}}{d t^{2}}  y{\\left (t \\right )} = f{\\left (t \\right )}$$"
      ],
      "text/plain": [
       "                         2             \n",
       "          d             d              \n",
       "16⋅y(t) + ──(y(t)) + 4⋅───(y(t)) = f(t)\n",
       "          dt             2             \n",
       "                       dt              "
      ]
     },
     "metadata": {},
     "output_type": "display_data"
    },
    {
     "data": {
      "image/png": "[encoded data removed]",
      "text/latex": [
       "$$y{\\left (t \\right )} = \\frac{1}{\\sqrt[8]{e^{t}}} \\left(\\left(C_{1} - \\frac{2 \\sqrt{255}}{255} \\int f{\\left (t \\right )} e^{\\frac{t}{8}} \\sin{\\left (\\frac{\\sqrt{255} t}{8} \\right )}\\, dt\\right) \\cos{\\left (\\frac{\\sqrt{255} t}{8} \\right )} + \\left(C_{2} + \\frac{2 \\sqrt{255}}{255} \\int f{\\left (t \\right )} e^{\\frac{t}{8}} \\cos{\\left (\\frac{\\sqrt{255} t}{8} \\right )}\\, dt\\right) \\sin{\\left (\\frac{\\sqrt{255} t}{8} \\right )}\\right)$$"
      ],
      "text/plain": [
       "       ⎛               ⌠                          ⎞                  ⎛        \n",
       "       ⎜               ⎮       t                  ⎟                  ⎜        \n",
       "       ⎜               ⎮       ─    ⎛  _____  ⎞   ⎟                  ⎜        \n",
       "       ⎜         _____ ⎮       8    ⎜╲╱ 255 ⋅t⎟   ⎟                  ⎜        \n",
       "       ⎜     2⋅╲╱ 255 ⋅⎮ f(t)⋅ℯ ⋅sin⎜─────────⎟ dt⎟                  ⎜     2⋅╲\n",
       "       ⎜               ⎮            ⎝    8    ⎠   ⎟    ⎛  _____  ⎞   ⎜        \n",
       "       ⎜               ⌡                          ⎟    ⎜╲╱ 255 ⋅t⎟   ⎜        \n",
       "       ⎜C₁ - ─────────────────────────────────────⎟⋅cos⎜─────────⎟ + ⎜C₂ + ───\n",
       "       ⎝                      255                 ⎠    ⎝    8    ⎠   ⎝        \n",
       "y(t) = ───────────────────────────────────────────────────────────────────────\n",
       "                                                                   ____       \n",
       "                                                                8 ╱  t        \n",
       "                                                                ╲╱  ℯ         \n",
       "\n",
       "       ⌠                          ⎞               \n",
       "       ⎮       t                  ⎟               \n",
       "       ⎮       ─    ⎛  _____  ⎞   ⎟               \n",
       " _____ ⎮       8    ⎜╲╱ 255 ⋅t⎟   ⎟               \n",
       "╱ 255 ⋅⎮ f(t)⋅ℯ ⋅cos⎜─────────⎟ dt⎟               \n",
       "       ⎮            ⎝    8    ⎠   ⎟    ⎛  _____  ⎞\n",
       "       ⌡                          ⎟    ⎜╲╱ 255 ⋅t⎟\n",
       "──────────────────────────────────⎟⋅sin⎜─────────⎟\n",
       "              255                 ⎠    ⎝    8    ⎠\n",
       "──────────────────────────────────────────────────\n",
       "                                                  \n",
       "                                                  \n",
       "                                                  "
      ]
     },
     "execution_count": 6,
     "metadata": {},
     "output_type": "execute_result"
    }
   ],
   "source": [
    "m0, lmbda0, k0 = 4, 1, 16\n",
    "eqn1 = eqn.subs(m, m0).subs(k, k0).subs(lmbda, lmbda0)\n",
    "display(eqn1)\n",
    "\n",
    "dsolve(eqn1)"
   ]
  },
  {
   "cell_type": "markdown",
   "metadata": {},
   "source": [
    "The solution is looking more manageable, but we still haven't specified $f(t)$. Setting $f(t) = 2$ and then solving,"
   ]
  },
  {
   "cell_type": "code",
   "execution_count": 7,
   "metadata": {
    "collapsed": false
   },
   "outputs": [
    {
     "name": "stdout",
     "output_type": "stream",
     "text": [
      "ODE with f(t) = 2\n"
     ]
    },
    {
     "data": {
      "image/png": "[encoded data removed]",
      "text/latex": [
       "$$16 y{\\left (t \\right )} + \\frac{d}{d t} y{\\left (t \\right )} + 4 \\frac{d^{2}}{d t^{2}}  y{\\left (t \\right )} = 2$$"
      ],
      "text/plain": [
       "                         2          \n",
       "          d             d           \n",
       "16⋅y(t) + ──(y(t)) + 4⋅───(y(t)) = 2\n",
       "          dt             2          \n",
       "                       dt           "
      ]
     },
     "metadata": {},
     "output_type": "display_data"
    },
    {
     "name": "stdout",
     "output_type": "stream",
     "text": [
      "Solution to ODE:\n"
     ]
    },
    {
     "data": {
      "image/png": "[encoded data removed]",
      "text/latex": [
       "$$y{\\left (t \\right )} = \\frac{1}{\\sqrt[8]{e^{t}}} \\left(C_{1} \\sin{\\left (\\frac{\\sqrt{255} t}{8} \\right )} + C_{2} \\cos{\\left (\\frac{\\sqrt{255} t}{8} \\right )}\\right) + \\frac{1}{8}$$"
      ],
      "text/plain": [
       "             ⎛  _____  ⎞         ⎛  _____  ⎞    \n",
       "             ⎜╲╱ 255 ⋅t⎟         ⎜╲╱ 255 ⋅t⎟    \n",
       "       C₁⋅sin⎜─────────⎟ + C₂⋅cos⎜─────────⎟    \n",
       "             ⎝    8    ⎠         ⎝    8    ⎠   1\n",
       "y(t) = ───────────────────────────────────── + ─\n",
       "                         ____                  8\n",
       "                      8 ╱  t                    \n",
       "                      ╲╱  ℯ                     "
      ]
     },
     "metadata": {},
     "output_type": "display_data"
    }
   ],
   "source": [
    "eqn1 = eqn1.subs(f(t), 2)\n",
    "print(\"ODE with f(t) = 2\")\n",
    "display(eqn1)\n",
    "\n",
    "ys = dsolve(eqn1, y(t))\n",
    "print(\"Solution to ODE:\")\n",
    "display(ys)"
   ]
  },
  {
   "cell_type": "markdown",
   "metadata": {},
   "source": [
    "The solution is now looking tractable. If we set $C_{1} = C_{2} = 1$, we can plot the solution. "
   ]
  },
  {
   "cell_type": "code",
   "execution_count": 8,
   "metadata": {
    "collapsed": false
   },
   "outputs": [
    {
     "data": {
      "image/png": "[encoded data removed]",
      "text/plain": [
       "<matplotlib.figure.Figure at 0x7f1f717ca940>"
      ]
     },
     "metadata": {},
     "output_type": "display_data"
    }
   ],
   "source": [
    "ys = ys.subs('C1', 0).subs('C2', 1)\n",
    "plot(ys.args[1], (t, 0.0, 20.0), xlabel=\"time\", ylabel=\"displacement\");"
   ]
  },
  {
   "cell_type": "markdown",
   "metadata": {},
   "source": [
    "We can see the that the solution is a decaying sinusoidal function."
   ]
  },
  {
   "cell_type": "markdown",
   "metadata": {},
   "source": [
    "### Exercise: \n",
    "\n",
    "Try changing the values for $m$, $\\lambda$ and $k$ to investigate their influence in the response. You can try negative values, but only positive values are physically possible."
   ]
  },
  {
   "cell_type": "markdown",
   "metadata": {},
   "source": [
    "### Exercise:\n",
    "\n",
    "Try changing $f(t)$ to explore the response for different forcing functions."
   ]
  },
  {
   "cell_type": "markdown",
   "metadata": {},
   "source": [
    "### Example: resonance\n",
    "\n",
    "An undamped system ($\\lambda = 0$) changes character when the forcing term is sinusoidal at the natural frequency of the system. The corresponds to the case of the forcing term having the same form as the solution to the homogeneous problem.\n",
    "\n",
    "The natural frequency $\\omega_{n} = \\sqrt{k/m}$. Setting $f(t) = \\sin( \\omega x)$\n"
   ]
  },
  {
   "cell_type": "code",
   "execution_count": 9,
   "metadata": {
    "collapsed": false
   },
   "outputs": [
    {
     "data": {
      "image/png": "[encoded data removed]",
      "text/latex": [
       "$$k y{\\left (t \\right )} + \\lambda \\frac{d}{d t} y{\\left (t \\right )} + m \\frac{d^{2}}{d t^{2}}  y{\\left (t \\right )} = \\sin{\\left (t \\sqrt{\\frac{k}{m}} \\right )}$$"
      ],
      "text/plain": [
       "                          2            ⎛      ___⎞\n",
       "           d             d             ⎜     ╱ k ⎟\n",
       "k⋅y(t) + λ⋅──(y(t)) + m⋅───(y(t)) = sin⎜t⋅  ╱  ─ ⎟\n",
       "           dt             2            ⎝  ╲╱   m ⎠\n",
       "                        dt                        "
      ]
     },
     "metadata": {},
     "output_type": "display_data"
    }
   ],
   "source": [
    "# Define natural frequency\n",
    "omega = Symbol(\"omega\")\n",
    "omega = sqrt(k/m)\n",
    "\n",
    "# Set f(t) = sin(\\omega t)\n",
    "eqn1 = eqn.subs(f(t), sin(omega*t))\n",
    "display(eqn1)"
   ]
  },
  {
   "cell_type": "markdown",
   "metadata": {},
   "source": [
    "We now set values for $m$, $\\lambda$ and $k$ (we'll set $\\lambda = 0$ which corresponds to an undamped system):"
   ]
  },
  {
   "cell_type": "code",
   "execution_count": 10,
   "metadata": {
    "collapsed": false
   },
   "outputs": [
    {
     "data": {
      "image/png": "[encoded data removed]",
      "text/latex": [
       "$$y{\\left (t \\right )} = C_{2} \\sin{\\left (\\frac{t}{2} \\right )} + \\left(C_{1} - \\frac{t}{4}\\right) \\cos{\\left (\\frac{t}{2} \\right )}$$"
      ],
      "text/plain": [
       "             ⎛t⎞   ⎛     t⎞    ⎛t⎞\n",
       "y(t) = C₂⋅sin⎜─⎟ + ⎜C₁ - ─⎟⋅cos⎜─⎟\n",
       "             ⎝2⎠   ⎝     4⎠    ⎝2⎠"
      ]
     },
     "metadata": {},
     "output_type": "display_data"
    }
   ],
   "source": [
    "# Set numerical values for m, lambda and k\n",
    "m0, lmbda0, k0 = 4, 0, 1\n",
    "eqn1 = eqn1.subs(m, m0).subs(k, k0).subs(lmbda, lmbda0)\n",
    "\n",
    "# Solve ODE\n",
    "y = dsolve(eqn1)\n",
    "display(y)"
   ]
  },
  {
   "cell_type": "markdown",
   "metadata": {},
   "source": [
    "Note the presence of $t$ in front of the cosine. This implies that the solution will grow linearly in time. We can see this by plotting the solution:"
   ]
  },
  {
   "cell_type": "code",
   "execution_count": 11,
   "metadata": {
    "collapsed": false
   },
   "outputs": [
    {
     "data": {
      "image/png": "[encoded data removed]",
      "text/plain": [
       "<matplotlib.figure.Figure at 0x7f1f722d1400>"
      ]
     },
     "metadata": {},
     "output_type": "display_data"
    }
   ],
   "source": [
    "y = y.subs('C1', 0).subs('C2', 1)\n",
    "plot(y.args[1], (t, 0.0, 100.0), xlabel=\"time\", ylabel=\"displacement\");"
   ]
  },
  {
   "cell_type": "markdown",
   "metadata": {},
   "source": [
    "We observe that the solution grows in time - this is a feature of resonance."
   ]
  }
 ],
 "metadata": {
  "kernelspec": {
   "display_name": "Python 3",
   "language": "python",
   "name": "python3"
  },
  "language_info": {
   "codemirror_mode": {
    "name": "ipython",
    "version": 3
   },
   "file_extension": ".py",
   "mimetype": "text/x-python",
   "name": "python",
   "nbconvert_exporter": "python",
   "pygments_lexer": "ipython3",
   "version": "3.5.0+"
  }
 },
 "nbformat": 4,
 "nbformat_minor": 0
}
