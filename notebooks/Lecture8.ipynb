{
 "metadata": {
  "name": "",
  "signature": "sha256:911aa1c176f8fc55c451ddfbb20517b87493518f1cfe9df2c0c4f7d1d0466c0c"
 },
 "nbformat": 3,
 "nbformat_minor": 0,
 "worksheets": [
  {
   "cells": [
    {
     "cell_type": "markdown",
     "metadata": {},
     "source": [
      "# Lecture 8 - rotations and orthogonal matrices\n",
      "\n",
      "This lecture considered rotation matrices, which led naturally to the topic on orthogonal matrices.\n",
      "\n",
      "## Orthogonal matrices\n",
      "\n",
      "A matrix $\\boldsymbol{A}$ is orthogonal if $\\boldsymbol{A}^{-1} = \\boldsymbol{A}^{T}$. A $n \\times n$ matrix is orthogonal if its columns form and orthonormal basis. \n"
     ]
    },
    {
     "cell_type": "code",
     "collapsed": false,
     "input": [
      "# Import NumPy and seed random number generator to make generated matrices deterministic\n",
      "import numpy as np\n",
      "np.random.seed(1)\n",
      "\n",
      "# Create a matrix with random entries\n",
      "A = np.random.rand(4, 4)\n",
      "\n",
      "# Use QR factorisation of A to create an orthogonal matrix Q (QR is covered in IB)\n",
      "Q, R = np.linalg.qr(A, mode='complete')"
     ],
     "language": "python",
     "metadata": {},
     "outputs": [],
     "prompt_number": 1
    },
    {
     "cell_type": "markdown",
     "metadata": {},
     "source": [
      "We can now verify that Q is an orthognal matrix. We first check that $\\boldsymbol{Q}^{-1} = \\boldsymbol{Q}^{T}$ by computing $\\boldsymbol{Q}\\boldsymbol{Q}^{-1}$ "
     ]
    },
    {
     "cell_type": "code",
     "collapsed": false,
     "input": [
      "print(Q.dot(Q.T))"
     ],
     "language": "python",
     "metadata": {},
     "outputs": [
      {
       "output_type": "stream",
       "stream": "stdout",
       "text": [
        "[[  1.00000000e+00   4.33680869e-17   4.64038530e-17   9.48676901e-17]\n",
        " [  4.33680869e-17   1.00000000e+00   0.00000000e+00  -1.94289029e-16]\n",
        " [  4.64038530e-17   0.00000000e+00   1.00000000e+00   0.00000000e+00]\n",
        " [  9.48676901e-17  -1.94289029e-16   0.00000000e+00   1.00000000e+00]]\n"
       ]
      }
     ],
     "prompt_number": 3
    },
    {
     "cell_type": "markdown",
     "metadata": {},
     "source": [
      "We can see that $\\boldsymbol{Q}\\boldsymbol{Q}^{-1} = \\boldsymbol{I}$ (within numerical precision). We can check that the colums of $\\boldsymbol{Q}$ are orthonormal"
     ]
    },
    {
     "cell_type": "code",
     "collapsed": false,
     "input": [
      "import itertools\n",
      "\n",
      "# Build pairs (0,0), (0,1), . . . (0, n-1), (1, 2), (1, 3), . . . \n",
      "pairs = itertools.combinations_with_replacement(range(len(Q)), 2)\n",
      "\n",
      "# Compute dot product of column vectors q_{i} \\cdot q_{j}\n",
      "for p in pairs:\n",
      "    col0, col1 = p[0], p[1]\n",
      "    print (\"Dot product of column vectors {}, {}: {}\".format(col0, col1, Q[:][col0].dot(Q[:][col1])))"
     ],
     "language": "python",
     "metadata": {},
     "outputs": [
      {
       "output_type": "stream",
       "stream": "stdout",
       "text": [
        "Dot product of column vectors 0, 0: 1.0000000000000002\n",
        "Dot product of column vectors 0, 1: 4.5102810375396984e-17\n",
        "Dot product of column vectors 0, 2: 3.8163916471489756e-17\n",
        "Dot product of column vectors 0, 3: 9.71445146547012e-17\n",
        "Dot product of column vectors 1, 1: 1.0000000000000002\n",
        "Dot product of column vectors 1, 2: 0.0\n",
        "Dot product of column vectors 1, 3: -1.6653345369377348e-16\n",
        "Dot product of column vectors 2, 2: 1.0\n",
        "Dot product of column vectors 2, 3: 0.0\n",
        "Dot product of column vectors 3, 3: 1.0\n"
       ]
      }
     ],
     "prompt_number": 4
    },
    {
     "cell_type": "markdown",
     "metadata": {},
     "source": [
      "The columns of $\\boldsymbol{Q}$ are orthonormal, and $\\boldsymbol{Q}^{T}$ is also a rotation matrix and has orthonormal columns. Therefore, the rows of $\\boldsymbol{Q}$ are also orthonormal."
     ]
    },
    {
     "cell_type": "code",
     "collapsed": false,
     "input": [
      "# Compute dot product of row vectors q_{i} \\cdot q_{j}\n",
      "pairs = itertools.combinations_with_replacement(range(len(Q)), 2)\n",
      "for p in pairs:\n",
      "    row0, row1 = p[0], p[1]\n",
      "    print (\"Dot product of row vectors {}, {}: {}\".format(row0, row1, Q[row0][:].dot(Q[row1][:])))"
     ],
     "language": "python",
     "metadata": {},
     "outputs": [
      {
       "output_type": "stream",
       "stream": "stdout",
       "text": [
        "Dot product of row vectors 0, 0: 1.0000000000000002\n",
        "Dot product of row vectors 0, 1: 4.5102810375396984e-17\n",
        "Dot product of row vectors 0, 2: 3.8163916471489756e-17\n",
        "Dot product of row vectors 0, 3: 9.71445146547012e-17\n",
        "Dot product of row vectors 1, 1: 1.0000000000000002\n",
        "Dot product of row vectors 1, 2: 0.0\n",
        "Dot product of row vectors 1, 3: -1.6653345369377348e-16\n",
        "Dot product of row vectors 2, 2: 1.0\n",
        "Dot product of row vectors 2, 3: 0.0\n",
        "Dot product of row vectors 3, 3: 1.0\n"
       ]
      }
     ],
     "prompt_number": 5
    },
    {
     "cell_type": "markdown",
     "metadata": {},
     "source": [
      "Finally, we check the determinant of $\\boldsymbol{Q}$:"
     ]
    },
    {
     "cell_type": "code",
     "collapsed": false,
     "input": [
      "print(\"Determinant of Q: {}\".format(np.linalg.det(Q)))"
     ],
     "language": "python",
     "metadata": {},
     "outputs": [
      {
       "output_type": "stream",
       "stream": "stdout",
       "text": [
        "Determinant of Q: -1.0000000000000002\n"
       ]
      }
     ],
     "prompt_number": 6
    }
   ],
   "metadata": {}
  }
 ]
}