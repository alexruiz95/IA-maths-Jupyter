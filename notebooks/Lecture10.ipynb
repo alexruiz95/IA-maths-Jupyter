{
 "cells": [
  {
   "cell_type": "markdown",
   "metadata": {},
   "source": [
    "# Lecture 10 - eigenvalues and eigenvectors\n",
    "\n",
    "An eigenvector $\\boldsymbol{x}$ and corrsponding eigenvalue $\\lambda$ of a square matrix $\\boldsymbol{A}$ satisfy\n",
    "\n",
    "$$\n",
    "\\boldsymbol{A} \\boldsymbol{x} = \\lambda \\boldsymbol{x}\n",
    "$$\n",
    "\n",
    "Rearranging this expression,\n",
    "\n",
    "$$\n",
    "\\left( \\boldsymbol{A} - \\lambda \\boldsymbol{I}\\right) \\boldsymbol{x} = \\boldsymbol{0}\n",
    "$$\n",
    "\n",
    "The above equation has solutions (other than $\\boldsymbol{x} = \\boldsymbol{0}$) if\n",
    "\n",
    "$$\n",
    "\\det \\left( \\boldsymbol{A} - \\lambda \\boldsymbol{I}\\right) = 0\n",
    "$$\n",
    "\n",
    "Computing the determinant of an $n \\times n$ matrix requires solution of an $n$th degree polynomial. It is known how to compute roots of polynomials up to and including degree four (e.g., see <http://en.wikipedia.org/wiki/Quartic_function>). For matrices with $n > 4$, numerical methods must be used to compute eigenvalues and eigenvectors.\n",
    "\n",
    "An $n \\times n$ will have $n$ eigenvalue/eigenvector pairs (eigenpairs).\n",
    "\n",
    "\n",
    "## Computing eigenvalues with NumPy\n",
    "\n",
    "NumPy provides a function to compute eigenvalues and eigenvectors. To demonstrate how to compute eigpairs, we first create a $5 \\times 5$ symmetric matrix:"
   ]
  },
  {
   "cell_type": "code",
   "execution_count": 1,
   "metadata": {
    "collapsed": false
   },
   "outputs": [
    {
     "name": "stdout",
     "output_type": "stream",
     "text": [
      "[[ 0.83404401  0.81266309  0.41930889  0.97280008  0.94750046]\n",
      " [ 0.81266309  0.37252042  1.03078023  0.81407228  1.50707831]\n",
      " [ 0.41930889  1.03078023  0.4089045   1.43680726  0.34081177]\n",
      " [ 0.97280008  0.81407228  1.43680726  0.28077388  0.8904241 ]\n",
      " [ 0.94750046  1.50707831  0.34081177  0.8904241   1.7527783 ]]\n"
     ]
    }
   ],
   "source": [
    "# Import NumPy and seed random number generator to make generated matrices deterministic\n",
    "import numpy as np\n",
    "np.random.seed(1)\n",
    "\n",
    "# Create a symmetric matrix with random entries\n",
    "A = np.random.rand(5, 5)\n",
    "A = A + A.T\n",
    "print(A)"
   ]
  },
  {
   "cell_type": "markdown",
   "metadata": {},
   "source": [
    "We can compute the eigenvectors and eigenvalues using the NumPy function `linalg.eig`"
   ]
  },
  {
   "cell_type": "code",
   "execution_count": 2,
   "metadata": {
    "collapsed": false
   },
   "outputs": [
    {
     "name": "stdout",
     "output_type": "stream",
     "text": [
      "Eigenvalues: [ 4.49901636 -1.34808792 -0.66778843  0.21610602  0.94977508]\n",
      "Eigenvectors: [[-0.40163425 -0.19049617  0.13563534 -0.88537464 -0.01076773]\n",
      " [-0.45887678  0.38587861  0.76218267  0.24145961  0.03611968]\n",
      " [-0.35255653 -0.62923828  0.03786448  0.30864498 -0.61892459]\n",
      " [-0.42177956  0.60360849 -0.53501774 -0.01546805 -0.41385451]\n",
      " [-0.57090098 -0.23350566 -0.33615908  0.24961576  0.66651049]]\n"
     ]
    }
   ],
   "source": [
    "# Compute eigenvectors of A\n",
    "evalues, evectors = np.linalg.eig(A)\n",
    "\n",
    "print(\"Eigenvalues: {}\".format(evalues))\n",
    "print(\"Eigenvectors: {}\".format(evectors))"
   ]
  },
  {
   "cell_type": "markdown",
   "metadata": {},
   "source": [
    "The $i$th column of `evectors` is the $i$th eigenvector. \n",
    "\n",
    "## Symmetric matrices\n",
    "\n",
    "Note that the above eigenvalues and the eigenvectors are real valued. This is always the case for symmetric matrices. Another features of symmetric matrices is that the eigenvectors are orthogonal. We can verify this for the above matrix:"
   ]
  },
  {
   "cell_type": "markdown",
   "metadata": {},
   "source": [
    "We can also check that the second eigenpair is indeed an eigenpair (Python/NumPy use base 0, so the second eiegenpair has index 1):"
   ]
  },
  {
   "cell_type": "code",
   "execution_count": 3,
   "metadata": {
    "collapsed": false
   },
   "outputs": [
    {
     "name": "stdout",
     "output_type": "stream",
     "text": [
      "Dot product of eigenvectors 0, 0: 1.0\n",
      "Dot product of eigenvectors 0, 1: 2.7755575615628914e-17\n",
      "Dot product of eigenvectors 0, 2: 3.608224830031759e-16\n",
      "Dot product of eigenvectors 0, 3: 2.0816681711721685e-16\n",
      "Dot product of eigenvectors 0, 4: -6.106226635438361e-16\n",
      "Dot product of eigenvectors 1, 1: 1.0\n",
      "Dot product of eigenvectors 1, 2: -4.440892098500626e-16\n",
      "Dot product of eigenvectors 1, 3: 6.106226635438361e-16\n",
      "Dot product of eigenvectors 1, 4: 1.1102230246251565e-16\n",
      "Dot product of eigenvectors 2, 2: 0.9999999999999999\n",
      "Dot product of eigenvectors 2, 3: 5.065392549852277e-16\n",
      "Dot product of eigenvectors 2, 4: 1.3877787807814457e-16\n",
      "Dot product of eigenvectors 3, 3: 0.9999999999999999\n",
      "Dot product of eigenvectors 3, 4: -2.498001805406602e-16\n",
      "Dot product of eigenvectors 4, 4: 1.0\n"
     ]
    }
   ],
   "source": [
    "import itertools\n",
    "\n",
    "# Build pairs (0,0), (0,1), . . . (0, n-1), (1, 2), (1, 3), . . . \n",
    "pairs = itertools.combinations_with_replacement(range(len(evectors)), 2)\n",
    "\n",
    "# Compute dot product of eigenvectors x_{i} \\cdot x_{j}\n",
    "for p in pairs:\n",
    "    e0, e1 = p[0], p[1]\n",
    "    print (\"Dot product of eigenvectors {}, {}: {}\".format(e0, e1, evectors[:, e0].dot(evectors[:, e1])))"
   ]
  },
  {
   "cell_type": "code",
   "execution_count": 4,
   "metadata": {
    "collapsed": false
   },
   "outputs": [
    {
     "name": "stdout",
     "output_type": "stream",
     "text": [
      "Testing  Ax and (lambda)x: \n",
      " [ 0.25680558 -0.5201983   0.84826852 -0.81371731  0.31478616], \n",
      " [ 0.25680558 -0.5201983   0.84826852 -0.81371731  0.31478616]\n"
     ]
    }
   ],
   "source": [
    "print(\"Testing  Ax and (lambda)x: \\n {}, \\n {}\".format(A.dot(evectors[:,1]), evalues[1]*evectors[:,1]))"
   ]
  },
  {
   "cell_type": "markdown",
   "metadata": {},
   "source": [
    "## Non-symmetric matrices\n",
    "\n",
    "In general, the eigenvalues and eigenvectors of a non-symmetric, real-valued matrix are complex. We can see this by example:"
   ]
  },
  {
   "cell_type": "code",
   "execution_count": 5,
   "metadata": {
    "collapsed": false
   },
   "outputs": [
    {
     "name": "stdout",
     "output_type": "stream",
     "text": [
      "Eigenvalues: [ 2.43827549+0.j         -0.73564880+0.j          0.95516424+0.j\n",
      "  0.20592847+0.25009345j  0.20592847-0.25009345j]\n",
      "Eigenvectors: [[-0.31712315+0.j         -0.34483190+0.j         -0.48360642+0.j\n",
      "   0.42721133-0.23453391j  0.42721133+0.23453391j]\n",
      " [-0.50795246+0.j         -0.55615526+0.j          0.29477162+0.j\n",
      "  -0.25335016+0.19638993j -0.25335016-0.19638993j]\n",
      " [-0.46645352+0.j          0.01776781+0.j          0.53639466+0.j\n",
      "   0.38172586-0.30291015j  0.38172586+0.30291015j]\n",
      " [-0.52413653+0.j          0.45219892+0.j         -0.62472838+0.j\n",
      "  -0.55565352+0.j         -0.55565352-0.j        ]\n",
      " [-0.38615957+0.j          0.60579100+0.j          0.03506771+0.j\n",
      "  -0.15322242+0.30005314j -0.15322242-0.30005314j]]\n"
     ]
    }
   ],
   "source": [
    "B = np.random.rand(5, 5)\n",
    "evalues, evectors = np.linalg.eig(B)\n",
    "\n",
    "print(\"Eigenvalues: {}\".format(evalues))\n",
    "print(\"Eigenvectors: {}\".format(evectors))"
   ]
  },
  {
   "cell_type": "markdown",
   "metadata": {},
   "source": [
    "Unlike symmetric matrices, the eigenvectors are in general not orthogonal, which we can test:"
   ]
  },
  {
   "cell_type": "code",
   "execution_count": 6,
   "metadata": {
    "collapsed": false
   },
   "outputs": [
    {
     "name": "stdout",
     "output_type": "stream",
     "text": [
      "Dot product of eigenvectors 0, 0: (1+0j)\n",
      "Dot product of eigenvectors 0, 1: (-0.08737921508729493+0j)\n",
      "Dot product of eigenvectors 0, 2: (0.06733087339766461+0j)\n",
      "Dot product of eigenvectors 0, 3: (0.1655604697520633+4.45033436379666e-05j)\n",
      "Dot product of eigenvectors 0, 4: (0.1655604697520633-4.45033436379666e-05j)\n",
      "Dot product of eigenvectors 1, 1: (1.0000000000000002+0j)\n",
      "Dot product of eigenvectors 1, 2: (-0.24890309336077573+0j)\n",
      "Dot product of eigenvectors 1, 3: (-0.3437183199465269+0.14803892356676382j)\n",
      "Dot product of eigenvectors 1, 4: (-0.3437183199465269-0.14803892356676382j)\n",
      "Dot product of eigenvectors 2, 2: (1+0j)\n",
      "Dot product of eigenvectors 2, 3: (0.26523249616882905+0.019355072804241036j)\n",
      "Dot product of eigenvectors 2, 4: (0.26523249616882905-0.019355072804241036j)\n",
      "Dot product of eigenvectors 3, 3: (0.4492767877393997-0.6231089392651202j)\n",
      "Dot product of eigenvectors 3, 4: (1.0000000000000002+0j)\n",
      "Dot product of eigenvectors 4, 4: (0.4492767877393997+0.6231089392651202j)\n"
     ]
    }
   ],
   "source": [
    "# Compute dot product of eigenvectors x_{i} \\cdot x_{j}\n",
    "pairs = itertools.combinations_with_replacement(range(len(evectors)), 2)\n",
    "for p in pairs:\n",
    "    e0, e1 = p[0], p[1]\n",
    "    print (\"Dot product of eigenvectors {}, {}: {}\".format(e0, e1, evectors[:, e0].dot(evectors[:, e1])))"
   ]
  }
 ],
 "metadata": {
  "kernelspec": {
   "display_name": "Python 3",
   "language": "python",
   "name": "python3"
  },
  "language_info": {
   "codemirror_mode": {
    "name": "ipython",
    "version": 3
   },
   "file_extension": ".py",
   "mimetype": "text/x-python",
   "name": "python",
   "nbconvert_exporter": "python",
   "pygments_lexer": "ipython3",
   "version": "3.5.0+"
  }
 },
 "nbformat": 4,
 "nbformat_minor": 0
}
