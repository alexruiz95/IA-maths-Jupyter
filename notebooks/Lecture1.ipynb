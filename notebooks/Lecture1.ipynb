{
 "metadata": {
  "name": "",
  "signature": "sha256:1ec1fcf07433a3f34fe942dbd331163df7b3e8c907efaf43b1fa6259587faeaf"
 },
 "nbformat": 3,
 "nbformat_minor": 0,
 "worksheets": [
  {
   "cells": [
    {
     "cell_type": "markdown",
     "metadata": {},
     "source": [
      "# Lecture 1\n",
      "\n",
      "This lecture instroduces ordinary differential equations, and some techniques for solving first order equations.\n",
      "\n",
      "This notebooks introduced the use of a Computer Algebra System via Sympy (<http://sympy.org/>)."
     ]
    },
    {
     "cell_type": "code",
     "collapsed": false,
     "input": [],
     "language": "python",
     "metadata": {},
     "outputs": []
    }
   ],
   "metadata": {}
  }
 ]
}