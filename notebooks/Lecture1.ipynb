{
 "metadata": {
  "name": "",
  "signature": "sha256:ac7c9d734b7450583c34414dd845f83f16fbf1d47d0756dcacebfebe40a20b99"
 },
 "nbformat": 3,
 "nbformat_minor": 0,
 "worksheets": [
  {
   "cells": [
    {
     "cell_type": "markdown",
     "metadata": {},
     "source": [
      "# Lecture 1\n",
      "\n",
      "This lecture instroduces ordinary differential equations, and some techniques for solving first order equations.\n",
      "\n",
      "This notebooks introduced the use of a Computer Algebra System via Sympy (<http://sympy.org/>).\n",
      "\n",
      "## Solving ordinary differential equations\n",
      "\n",
      "Now let's try solving the inhomgeneous, constant coefficient second-order ODE: \n",
      "\n",
      "$$\\frac{d^{2} f}{dx^{2}} + 9f = 1$$\n",
      "\n",
      "We first import the symbolic tools and indentify the free variable $x$ and the function $f$:"
     ]
    },
    {
     "cell_type": "code",
     "collapsed": false,
     "input": [
      "from sympy import *\n",
      "x = symbols(\"x\")\n",
      "f =  Function('f')\n",
      "from sympy.interactive import printing\n",
      "printing.init_printing(use_latex=True)"
     ],
     "language": "python",
     "metadata": {},
     "outputs": [],
     "prompt_number": 12
    },
    {
     "cell_type": "markdown",
     "metadata": {},
     "source": [
      "Next, we define the differential equation:"
     ]
    },
    {
     "cell_type": "code",
     "collapsed": false,
     "input": [
      "eqn = Eq(Derivative(f(x), x, x) + 9*f(x), 1)\n",
      "#display(eqn)\n",
      "eqn"
     ],
     "language": "python",
     "metadata": {},
     "outputs": [
      {
       "latex": [
        "$$9 f{\\left (x \\right )} + \\frac{d^{2}}{d x^{2}}  f{\\left (x \\right )} = 1$$"
       ],
       "metadata": {},
       "output_type": "pyout",
       "png": "[encoded data removed]",
       "prompt_number": 13,
       "text": [
        "           2          \n",
        "          d           \n",
        "9\u22c5f(x) + \u2500\u2500\u2500(f(x)) = 1\n",
        "           2          \n",
        "         dx           "
       ]
      }
     ],
     "prompt_number": 13
    },
    {
     "cell_type": "code",
     "collapsed": false,
     "input": [],
     "language": "python",
     "metadata": {},
     "outputs": [],
     "prompt_number": 13
    }
   ],
   "metadata": {}
  }
 ]
}