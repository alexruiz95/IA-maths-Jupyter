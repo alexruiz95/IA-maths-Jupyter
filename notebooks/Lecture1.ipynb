{
 "metadata": {
  "name": "",
  "signature": "sha256:1cffd18e4af31448ea93e75b4c53126897aeec90a155d6431fa182f4892f33eb"
 },
 "nbformat": 3,
 "nbformat_minor": 0,
 "worksheets": [
  {
   "cells": [
    {
     "cell_type": "markdown",
     "metadata": {},
     "source": [
      "# Lecture 1\n",
      "\n",
      "This lecture instroduces ordinary differential equations, and some techniques for solving first order equations. This notebook uses the Computer Algebra System via Sympy (<http://sympy.org/>).\n",
      "\n",
      "\n",
      "## Computer algebra systems (CAS)\n",
      "\n",
      "Computer algebra systems can perform symbolic mathematical operations and manipulations. Well known proprietary computer algebra systems are Maple and Mathematica (some Mathematica code can be executed in Wolfram Alpha). Open computer algebra systems include Maxima (<http://maxima.sourceforge.net/>) and SymPy (<http://sympy.org/>). Sage (<http://www.sagemath.org/>) is an interesting synthesis of a number of open packages.\n",
      "\n",
      "## Solving ordinary differential equations\n",
      "\n",
      "Now let's try solving the inhomgeneous, constant coefficient second-order ODE: \n",
      "\n",
      "$$\\frac{d^{2} f}{dx^{2}} + 9f = 1$$\n",
      "\n",
      "We first import the symbolic tools and indentify the free variable $x$ and the function $f$:"
     ]
    },
    {
     "cell_type": "markdown",
     "metadata": {},
     "source": [
      "To use Sympy, we first need to import it:"
     ]
    },
    {
     "cell_type": "code",
     "collapsed": false,
     "input": [
      "from sympy import *\n",
      "init_printing()"
     ],
     "language": "python",
     "metadata": {},
     "outputs": [],
     "prompt_number": 1
    },
    {
     "cell_type": "markdown",
     "metadata": {},
     "source": [
      "## Example: car breaking\n",
      "\n",
      "During braking a car\u2019s velocity given by $v = v_{0} e^{\u2212t/\\tau}$ . Calculate the distance travelled. Rate-of-change of distance = velocity"
     ]
    },
    {
     "cell_type": "code",
     "collapsed": false,
     "input": [
      "t, tau = symbols(\"t tau\")\n",
      "x =  Function(\"x\")"
     ],
     "language": "python",
     "metadata": {},
     "outputs": [],
     "prompt_number": 9
    },
    {
     "cell_type": "markdown",
     "metadata": {},
     "source": [
      "Next, we define the differential equation:"
     ]
    },
    {
     "cell_type": "code",
     "collapsed": false,
     "input": [
      "eqn = Eq(Derivative(x(t), t) - exp(-t/(tau)), 0)\n",
      "eqn"
     ],
     "language": "python",
     "metadata": {},
     "outputs": [
      {
       "latex": [
        "$$\\frac{d}{d t} x{\\left (t \\right )} - e^{- \\frac{t}{\\tau}} = 0$$"
       ],
       "metadata": {},
       "output_type": "pyout",
       "png": "[encoded data removed]",
       "prompt_number": 10,
       "text": [
        "            -t     \n",
        "            \u2500\u2500\u2500    \n",
        "d            \u03c4     \n",
        "\u2500\u2500(x(t)) - \u212f    = 0\n",
        "dt                 "
       ]
      }
     ],
     "prompt_number": 10
    },
    {
     "cell_type": "markdown",
     "metadata": {},
     "source": [
      "We now use the `dsolve` function to solve the differential equation:"
     ]
    },
    {
     "cell_type": "code",
     "collapsed": false,
     "input": [
      "x = dsolve(eqn, x(t))\n",
      "x"
     ],
     "language": "python",
     "metadata": {},
     "outputs": [
      {
       "latex": [
        "$$x{\\left (t \\right )} = C_{1} - \\tau e^{- \\frac{t}{\\tau}}$$"
       ],
       "metadata": {},
       "output_type": "pyout",
       "png": "[encoded data removed]",
       "prompt_number": 11,
       "text": [
        "               -t \n",
        "               \u2500\u2500\u2500\n",
        "                \u03c4 \n",
        "x(t) = C\u2081 - \u03c4\u22c5\u212f   "
       ]
      }
     ],
     "prompt_number": 11
    },
    {
     "cell_type": "markdown",
     "metadata": {},
     "source": [
      "where $C_{1}$ is a constant."
     ]
    },
    {
     "cell_type": "code",
     "collapsed": false,
     "input": [
      "v0 = symbols('v0')\n",
      "x = x.subs('C1', v0*tau)\n",
      "x\n",
      "#x = x.subs('tau', 1)\n",
      "#x = x.subs('v0', 0)\n",
      "#print exp(x)\n",
      "#y = exp(-t)\n",
      "#print type(y)\n",
      "#x.args"
     ],
     "language": "python",
     "metadata": {},
     "outputs": [
      {
       "latex": [
        "$$x{\\left (t \\right )} = \\tau v_{0} - \\tau e^{- \\frac{t}{\\tau}}$$"
       ],
       "metadata": {},
       "output_type": "pyout",
       "png": "[encoded data removed]",
       "prompt_number": 12,
       "text": [
        "                 -t \n",
        "                 \u2500\u2500\u2500\n",
        "                  \u03c4 \n",
        "x(t) = \u03c4\u22c5v\u2080 - \u03c4\u22c5\u212f   "
       ]
      }
     ],
     "prompt_number": 12
    },
    {
     "cell_type": "code",
     "collapsed": false,
     "input": [
      "#limit(x.args[1], t, oo)"
     ],
     "language": "python",
     "metadata": {},
     "outputs": [],
     "prompt_number": 16
    },
    {
     "cell_type": "code",
     "collapsed": false,
     "input": [
      "classify_ode(eqn)"
     ],
     "language": "python",
     "metadata": {},
     "outputs": []
    },
    {
     "cell_type": "code",
     "collapsed": false,
     "input": [
      "print \"Is x a solution:\", checkodesol(eqn, x)"
     ],
     "language": "python",
     "metadata": {},
     "outputs": [
      {
       "output_type": "stream",
       "stream": "stdout",
       "text": [
        "Is x a solution: (True, 0)\n"
       ]
      }
     ],
     "prompt_number": 14
    },
    {
     "cell_type": "code",
     "collapsed": false,
     "input": [
      "x=Symbol(\"x\")\n",
      "limit(exp(-x), x, oo)"
     ],
     "language": "python",
     "metadata": {},
     "outputs": [
      {
       "latex": [
        "$$0$$"
       ],
       "metadata": {},
       "output_type": "pyout",
       "png": "[encoded data removed]",
       "prompt_number": 15,
       "text": [
        "0"
       ]
      }
     ],
     "prompt_number": 15
    },
    {
     "cell_type": "code",
     "collapsed": false,
     "input": [],
     "language": "python",
     "metadata": {},
     "outputs": [],
     "prompt_number": 15
    },
    {
     "cell_type": "code",
     "collapsed": false,
     "input": [],
     "language": "python",
     "metadata": {},
     "outputs": []
    }
   ],
   "metadata": {}
  }
 ]
}