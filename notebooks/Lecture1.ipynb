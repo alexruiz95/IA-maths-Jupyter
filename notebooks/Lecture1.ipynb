{
 "metadata": {
  "celltoolbar": "Raw Cell Format",
  "name": "",
  "signature": "sha256:97fb54a0fb8d4aef45d9cda5157c4d3180e993d37ddeb1fb4fb4a0e8562f71d2"
 },
 "nbformat": 3,
 "nbformat_minor": 0,
 "worksheets": [
  {
   "cells": [
    {
     "cell_type": "markdown",
     "metadata": {},
     "source": [
      "#Table of Contents\n"
     ]
    },
    {
     "cell_type": "markdown",
     "metadata": {},
     "source": [
      "# Lecture 1\n",
      "\n",
      "\n",
      "\n",
      "This lecture introduces ordinary differential equations, and some techniques for solving first order equations. This notebook uses the computer algebra via Sympy (<http://sympy.org/>) to solve some ODE examples from the lecture notes."
     ]
    },
    {
     "cell_type": "markdown",
     "metadata": {},
     "source": [
      "## Solving ordinary differential equations\n",
      "\n",
      "To use Sympy, we first need to import it and call `init_printing()` to get nicely typeset equations:"
     ]
    },
    {
     "cell_type": "code",
     "collapsed": false,
     "input": [
      "from sympy import *\n",
      "\n",
      "# This initialises pretty printing\n",
      "init_printing()\n",
      "from IPython.display import display\n",
      "\n",
      "# This command makes plots appear inside the browser window\n",
      "%matplotlib inline"
     ],
     "language": "python",
     "metadata": {},
     "outputs": [],
     "prompt_number": 1
    },
    {
     "cell_type": "markdown",
     "metadata": {},
     "source": [
      "### Example: car breaking\n",
      "\n",
      "During braking a car\u2019s velocity is given by $v = v_{0} e^{\u2212t/\\tau}$. Calculate the distance travelled.\n",
      "\n",
      "We first define the symbols in the equation ($t$, $\\tau$ abd $v_{0}$), and the function ($x$, for the displacement):"
     ]
    },
    {
     "cell_type": "code",
     "collapsed": false,
     "input": [
      "t, tau, v0 = symbols(\"t tau v0\")\n",
      "x = Function(\"x\")"
     ],
     "language": "python",
     "metadata": {},
     "outputs": [],
     "prompt_number": 2
    },
    {
     "cell_type": "markdown",
     "metadata": {},
     "source": [
      "Next, we define the differential equation, and print it to the screen:"
     ]
    },
    {
     "cell_type": "code",
     "collapsed": false,
     "input": [
      "eqn = Eq(Derivative(x(t), t) , v0*exp(-t/(tau)))\n",
      "display(eqn)"
     ],
     "language": "python",
     "metadata": {},
     "outputs": [
      {
       "latex": [
        "$$\\frac{d}{d t} x{\\left (t \\right )} = v_{0} e^{- \\frac{t}{\\tau}}$$"
       ],
       "metadata": {},
       "output_type": "display_data",
       "png": "[encoded data removed]",
       "text": [
        "               -t \n",
        "               \u2500\u2500\u2500\n",
        "d               \u03c4 \n",
        "\u2500\u2500(x(t)) = v\u2080\u22c5\u212f   \n",
        "dt                "
       ]
      }
     ],
     "prompt_number": 3
    },
    {
     "cell_type": "markdown",
     "metadata": {},
     "source": [
      "The `dsolve` function solves the differential equation symbolically:"
     ]
    },
    {
     "cell_type": "code",
     "collapsed": false,
     "input": [
      "x = dsolve(eqn, x(t))\n",
      "display(x)"
     ],
     "language": "python",
     "metadata": {},
     "outputs": [
      {
       "latex": [
        "$$x{\\left (t \\right )} = C_{1} - \\tau v_{0} e^{- \\frac{t}{\\tau}}$$"
       ],
       "metadata": {},
       "output_type": "display_data",
       "png": "[encoded data removed]",
       "text": [
        "                  -t \n",
        "                  \u2500\u2500\u2500\n",
        "                   \u03c4 \n",
        "x(t) = C\u2081 - \u03c4\u22c5v\u2080\u22c5\u212f   "
       ]
      }
     ],
     "prompt_number": 4
    },
    {
     "cell_type": "markdown",
     "metadata": {},
     "source": [
      "where $C_{1}$ is a constant. As expected for a first-order equation, there is one constant.\n",
      "\n",
      "SymPy is not yet very good at eliminating constants from initial conditions, so we will do this manually assuming that $x = 0$ and $t = 0$:"
     ]
    },
    {
     "cell_type": "code",
     "collapsed": false,
     "input": [
      "v0 = symbols('v0')\n",
      "x = x.subs('C1', v0*tau)\n",
      "display(x)"
     ],
     "language": "python",
     "metadata": {},
     "outputs": [
      {
       "latex": [
        "$$x{\\left (t \\right )} = \\tau v_{0} - \\tau v_{0} e^{- \\frac{t}{\\tau}}$$"
       ],
       "metadata": {},
       "output_type": "display_data",
       "png": "[encoded data removed]",
       "text": [
        "                    -t \n",
        "                    \u2500\u2500\u2500\n",
        "                     \u03c4 \n",
        "x(t) = \u03c4\u22c5v\u2080 - \u03c4\u22c5v\u2080\u22c5\u212f   "
       ]
      }
     ],
     "prompt_number": 5
    },
    {
     "cell_type": "markdown",
     "metadata": {},
     "source": [
      "Specifying values for $v_{0}$ and $\\tau$, when can plot the velocity as a function of time:"
     ]
    },
    {
     "cell_type": "code",
     "collapsed": false,
     "input": [
      "# Specify values for v0 and tau\n",
      "x = x.subs(v0, 100)\n",
      "x = x.subs(tau, 2)\n",
      "\n",
      "# Plot velocity vs time\n",
      "plot(x.args[1], (t, 0.0, 10.0), xlabel=\"time\", ylabel=\"velocity\")"
     ],
     "language": "python",
     "metadata": {},
     "outputs": [
      {
       "metadata": {},
       "output_type": "display_data",
       "png": "[encoded data removed]",
       "text": [
        "<matplotlib.figure.Figure at 0x1078aaa90>"
       ]
      },
      {
       "metadata": {},
       "output_type": "pyout",
       "prompt_number": 6,
       "text": [
        "<sympy.plotting.plot.Plot at 0x1078bea10>"
       ]
      }
     ],
     "prompt_number": 6
    },
    {
     "cell_type": "markdown",
     "metadata": {},
     "source": [
      "#### Classification\n",
      "\n",
      "We can ask SymPy to classify our ODE, e.g. show that it is first order):"
     ]
    },
    {
     "cell_type": "code",
     "collapsed": false,
     "input": [
      "classify_ode(eqn)"
     ],
     "language": "python",
     "metadata": {},
     "outputs": [
      {
       "metadata": {},
       "output_type": "pyout",
       "prompt_number": 7,
       "text": [
        "('separable',\n",
        " '1st_exact',\n",
        " '1st_linear',\n",
        " 'Bernoulli',\n",
        " '1st_power_series',\n",
        " 'lie_group',\n",
        " 'nth_linear_constant_coeff_undetermined_coefficients',\n",
        " 'nth_linear_constant_coeff_variation_of_parameters',\n",
        " 'separable_Integral',\n",
        " '1st_exact_Integral',\n",
        " '1st_linear_Integral',\n",
        " 'Bernoulli_Integral',\n",
        " 'nth_linear_constant_coeff_variation_of_parameters_Integral')"
       ]
      }
     ],
     "prompt_number": 7
    },
    {
     "cell_type": "markdown",
     "metadata": {},
     "source": [
      "### Parachutist\n",
      "\n",
      "Find the variation of speed with time of a parachutist subject to a drag force of $kv^{2}$.\n",
      "\n",
      "The equations to solve is\n",
      "\n",
      "$$\n",
      "\\frac{m}{k} \\frac{dv}{dt} = \\alpha^{2} - v^{2}\n",
      "$$\n",
      "\n",
      "where $m$ is mass, $k$ is a prescribed constant, $v$ is the velocity, $t$ is time and $\\alpha^{2} = mg/k$ ($g$ is acceleration due to gravity).\n",
      "\n",
      "We specify the symbols, unknown function $v$ and the differential equation"
     ]
    },
    {
     "cell_type": "code",
     "collapsed": false,
     "input": [
      "t, m, k, alpha = symbols(\"t m k alpha\")\n",
      "v = Function(\"v\")\n",
      "eqn = Eq((m/k)*Derivative(v(t), t), alpha*alpha - v(t)*v(t))\n",
      "display(eqn)"
     ],
     "language": "python",
     "metadata": {},
     "outputs": [
      {
       "latex": [
        "$$\\frac{m}{k} \\frac{d}{d t} v{\\left (t \\right )} = \\alpha^{2} - v^{2}{\\left (t \\right )}$$"
       ],
       "metadata": {},
       "output_type": "display_data",
       "png": "[encoded data removed]",
       "text": [
        "  d                    \n",
        "m\u22c5\u2500\u2500(v(t))             \n",
        "  dt          2    2   \n",
        "\u2500\u2500\u2500\u2500\u2500\u2500\u2500\u2500\u2500\u2500 = \u03b1  - v (t)\n",
        "    k                  "
       ]
      }
     ],
     "prompt_number": 8
    },
    {
     "cell_type": "markdown",
     "metadata": {},
     "source": [
      "First, let's classify the ODE:"
     ]
    },
    {
     "cell_type": "code",
     "collapsed": false,
     "input": [
      "classify_ode(eqn)"
     ],
     "language": "python",
     "metadata": {},
     "outputs": [
      {
       "metadata": {},
       "output_type": "pyout",
       "prompt_number": 9,
       "text": [
        "('separable', '1st_power_series', 'lie_group', 'separable_Integral')"
       ]
      }
     ],
     "prompt_number": 9
    },
    {
     "cell_type": "markdown",
     "metadata": {},
     "source": [
      "We see that it is not linear, but it is separable. Using `dsolve` again,"
     ]
    },
    {
     "cell_type": "code",
     "collapsed": false,
     "input": [
      "v = dsolve(eqn, v(t))\n",
      "display(v)"
     ],
     "language": "python",
     "metadata": {},
     "outputs": [
      {
       "latex": [
        "$$v{\\left (t \\right )} = - \\frac{\\alpha}{\\tanh{\\left (\\frac{\\alpha k}{m} \\left(C_{1} - t\\right) \\right )}}$$"
       ],
       "metadata": {},
       "output_type": "display_data",
       "png": "[encoded data removed]",
       "text": [
        "              -\u03b1         \n",
        "v(t) = \u2500\u2500\u2500\u2500\u2500\u2500\u2500\u2500\u2500\u2500\u2500\u2500\u2500\u2500\u2500\u2500\u2500\u2500\n",
        "           \u239b\u03b1\u22c5k\u22c5(C\u2081 - t)\u239e\n",
        "       tanh\u239c\u2500\u2500\u2500\u2500\u2500\u2500\u2500\u2500\u2500\u2500\u2500\u2500\u239f\n",
        "           \u239d     m      \u23a0"
       ]
      }
     ],
     "prompt_number": 10
    },
    {
     "cell_type": "markdown",
     "metadata": {},
     "source": [
      "SymPy can verify that an expression is a solution to an ODE:"
     ]
    },
    {
     "cell_type": "code",
     "collapsed": false,
     "input": [
      "print \"Is v a solution to the ODE:\", checkodesol(eqn, v)"
     ],
     "language": "python",
     "metadata": {},
     "outputs": [
      {
       "output_type": "stream",
       "stream": "stdout",
       "text": [
        "Is v a solution to the ODE: "
       ]
      },
      {
       "output_type": "stream",
       "stream": "stdout",
       "text": [
        "(True, 0)\n"
       ]
      }
     ],
     "prompt_number": 11
    }
   ],
   "metadata": {}
  }
 ]
}