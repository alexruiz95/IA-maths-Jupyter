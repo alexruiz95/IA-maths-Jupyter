{
 "metadata": {
  "name": "",
  "signature": "sha256:ca87ab9c55250b78d235587944221eb37d9d6a806510ffa0f26f01c23c2cc9fe"
 },
 "nbformat": 3,
 "nbformat_minor": 0,
 "worksheets": [
  {
   "cells": [
    {
     "cell_type": "markdown",
     "metadata": {},
     "source": [
      "# Lecture 9 - change of basis\n",
      "\n",
      "This lecture considered a change of basis for vectors and matrices (tensors)\n",
      "\n",
      "## Vectors and bases\n",
      "\n",
      "A vector $\\boldsymbol{a}$ is represented in terms of its components $a_{i}$with respect to a given basis, e.g.\n",
      "\n",
      "$$\n",
      "\\boldsymbol{a} = a_{1} \\boldsymbol{e}_{1} + a_{2} \\boldsymbol{e}_{2} + a_{3} \\boldsymbol{e}_{3}\n",
      "$$\n",
      "\n",
      "(in old-fashioned notation for the canonical basis $\\boldsymbol{i}$, $\\boldsymbol{j}$, $\\boldsymbol{k}$ is used). Using a suitable basis can sometimes simply construction and/or manipulations, but the 'physical' meaning to the vector is unchanged. With respect to a new basis, say ${\\boldsymbol{e}^{\\prime}_{i}}$, the coefficients will change:\n",
      "\n",
      "$$\n",
      "\\boldsymbol{a} = a^{\\prime}_{1} \\boldsymbol{e}^{\\prime}_{1} + a^{\\prime}_{2} \\boldsymbol{e}^{\\prime}_{2} \n",
      "+ a^{\\prime}_{3} \\boldsymbol{e}^{\\prime}_{3}\n",
      "$$\n",
      "\n",
      "In an attempt at simplicity, in the notes we drop the vector basis and consider the somewhat imprecise concept of rotating the coordinate system.\n",
      "\n",
      "\n",
      "## Coordinate rotations\n",
      "\n",
      "When considering the rotation of vectors, we looked at the rotation of the unit coordinate vectors, $[1, 0, 0]$, $[0, 1, 0]$ and $[0, 0, 1]$ to $\\boldsymbol{q}_{1}$, $\\boldsymbol{q}_{2}$ and $\\boldsymbol{q}_{3}$, respectively. From this, the matrix $\\boldsymbol{Q}$ can be formed:\n",
      "\n",
      "$$\n",
      "\\boldsymbol{Q} =\n",
      "\\begin{bmatrix}\n",
      "\\uparrow & \\uparrow & \\uparrow\n",
      "\\\\\n",
      "\\boldsymbol{q}_{1}  &\n",
      "\\boldsymbol{q}_{2}  &\n",
      "\\boldsymbol{q}_{3} \n",
      "\\\\\n",
      "\\downarrow & \\downarrow & \\downarrow\n",
      "\\end{bmatrix}\n",
      "$$\n",
      "\n",
      "When changing the coordinate system, the vector remains fixed but we rotate the basis. As a consequence, its components will change. If the basis $[1, 0, 0]$, $[0, 1, 0]$ and $[0, 0, 1]$ is rotated to $\\boldsymbol{q}_{1}$, $\\boldsymbol{q}_{2}$ and $\\boldsymbol{q}_{3}$, respectively, the coefficients of a vector $\\boldsymbol{a}$ in the rotated coordinate system are $\\boldsymbol{a}^{\\prime}$ \n",
      "\n",
      "$$\n",
      "\\boldsymbol{a}^{\\prime} = \\boldsymbol{Q}^{T} \\boldsymbol{a} = \\boldsymbol{R} \\boldsymbol{a}\n",
      "$$\n",
      "\n",
      "Matrices that operate on vectors with an associated basis are in fact *tensors*, and can also be rotated:\n",
      "\n",
      "$$\n",
      "\\boldsymbol{A}^{\\prime} = \\boldsymbol{R} \\boldsymbol{A} \\boldsymbol{R}^{T}\n",
      "$$\n",
      "\n",
      "\n",
      "### Example\n",
      "\n",
      "We illustrate now a transformation of an $n \\times n$  matrix $\\boldsymbol{A}$ that will make the matrix particularly simple. We first create a symmetric matrix $\\boldsymbol{A}$  (it will be become clearer later why we consider a symmetric matrix)."
     ]
    },
    {
     "cell_type": "code",
     "collapsed": false,
     "input": [
      "# Import NumPy and seed random number generator to make generated matrices deterministic\n",
      "import numpy as np\n",
      "np.random.seed(1)\n",
      "\n",
      "# Create a symmetric matrix with random entries\n",
      "A = np.random.rand(4, 4)\n",
      "A = A + A.T\n",
      "print(A)"
     ],
     "language": "python",
     "metadata": {},
     "outputs": [
      {
       "output_type": "stream",
       "stream": "stdout",
       "text": [
        "[[ 0.83404401  0.86708038  0.39688185  0.50678482]\n",
        " [ 0.86708038  0.18467719  0.72507695  1.22367816]\n",
        " [ 0.39688185  0.72507695  0.83838903  0.71260709]\n",
        " [ 0.50678482  1.22367816  0.71260709  1.34093502]]\n"
       ]
      }
     ],
     "prompt_number": 1
    },
    {
     "cell_type": "markdown",
     "metadata": {},
     "source": [
      "We need to create a rotation matrix $\\boldsymbol{R}$, which we will do via computation of the eigenvectors (eigenvectors are covered in the next lecture). The details are not so important here; we just need an orthogonal matrix. Computing the eigenvectors of $\\boldsymbol{A}$ and checking that the eigenvectors are orthonormal:"
     ]
    },
    {
     "cell_type": "code",
     "collapsed": false,
     "input": [
      "# Compute eigenvectors to generate a set of orthonormal vector\n",
      "evalues, evectors = np.linalg.eig(A)\n",
      "\n",
      "# Verify that eigenvectors R[i] are orthogonal (see Lecture 8 notebook)\n",
      "import itertools\n",
      "pairs = itertools.combinations_with_replacement(range(np.size(evectors, 0)), 2)\n",
      "for p in pairs:\n",
      "    e0, e1 = p[0], p[1]\n",
      "    print(\"Dot product of eigenvectors vectors {}, {}: {}\".format(e0, e1, evectors[:,e0].dot(evectors[:,e1])))"
     ],
     "language": "python",
     "metadata": {},
     "outputs": [
      {
       "output_type": "stream",
       "stream": "stdout",
       "text": [
        "Dot product of eigenvectors vectors 0, 0: 1.0\n",
        "Dot product of eigenvectors vectors 0, 1: -1.1102230246251565e-16\n",
        "Dot product of eigenvectors vectors 0, 2: 1.6653345369377348e-16\n",
        "Dot product of eigenvectors vectors 0, 3: 1.3877787807814457e-17\n",
        "Dot product of eigenvectors vectors 1, 1: 1.0\n",
        "Dot product of eigenvectors vectors 1, 2: -2.7755575615628914e-16\n",
        "Dot product of eigenvectors vectors 1, 3: -1.942890293094024e-16\n",
        "Dot product of eigenvectors vectors 2, 2: 1.0\n",
        "Dot product of eigenvectors vectors 2, 3: -5.967448757360216e-16\n",
        "Dot product of eigenvectors vectors 3, 3: 1.0\n"
       ]
      }
     ],
     "prompt_number": 2
    },
    {
     "cell_type": "markdown",
     "metadata": {},
     "source": [
      "We have verified that the eigenvectors form an orthonormal set, and hence can be used to construct a rotation transformation matrix $\\boldsymbol{R}$. For reasons that will become apparent later, we choose $\\boldsymbol{R}$ to be a matrix whose rows are the eigenvectors of $\\boldsymbol{A}$:"
     ]
    },
    {
     "cell_type": "code",
     "collapsed": false,
     "input": [
      "R = evectors.T"
     ],
     "language": "python",
     "metadata": {},
     "outputs": [],
     "prompt_number": 3
    },
    {
     "cell_type": "markdown",
     "metadata": {},
     "source": [
      "We now apply the transformation defined by $\\boldsymbol{R}$ to $\\boldsymbol{A}$:"
     ]
    },
    {
     "cell_type": "code",
     "collapsed": false,
     "input": [
      "Ap = (R).dot(A.dot(R.T))\n",
      "print(Ap)"
     ],
     "language": "python",
     "metadata": {},
     "outputs": [
      {
       "output_type": "stream",
       "stream": "stdout",
       "text": [
        "[[  3.10017696e+00   8.60422844e-16  -1.38777878e-16  -3.88578059e-16]\n",
        " [  6.66133815e-16  -7.80572081e-01   1.38777878e-16   2.22044605e-16]\n",
        " [ -3.33066907e-16   1.11022302e-16   5.36007487e-01  -2.08166817e-16]\n",
        " [ -2.22044605e-16   1.38777878e-16  -2.22044605e-16   3.42432883e-01]]\n"
       ]
      }
     ],
     "prompt_number": 4
    },
    {
     "cell_type": "markdown",
     "metadata": {},
     "source": [
      "Note that the transformed matrix is diagonal. We will investigate this further in following lectures.\n",
      "\n",
      "We can reverse the transformation by exploiting the fact that $\\boldsymbol{R}$ is an orthogonal matrix:"
     ]
    },
    {
     "cell_type": "code",
     "collapsed": false,
     "input": [
      "print((R.T).dot(Ap.dot(R)))"
     ],
     "language": "python",
     "metadata": {},
     "outputs": [
      {
       "output_type": "stream",
       "stream": "stdout",
       "text": [
        "[[ 0.83404401  0.86708038  0.39688185  0.50678482]\n",
        " [ 0.86708038  0.18467719  0.72507695  1.22367816]\n",
        " [ 0.39688185  0.72507695  0.83838903  0.71260709]\n",
        " [ 0.50678482  1.22367816  0.71260709  1.34093502]]\n"
       ]
      }
     ],
     "prompt_number": 5
    },
    {
     "cell_type": "markdown",
     "metadata": {},
     "source": [
      "which is the same as the original matrix."
     ]
    }
   ],
   "metadata": {}
  }
 ]
}