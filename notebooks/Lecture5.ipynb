{
 "metadata": {
  "name": "",
  "signature": "sha256:eb29690363f93dcb728791a0fd9ed3b6db4a9d7dc2bfbfed486399a9a9e6bc4f"
 },
 "nbformat": 3,
 "nbformat_minor": 0,
 "worksheets": [
  {
   "cells": [
    {
     "cell_type": "markdown",
     "metadata": {},
     "source": [
      "# Lecture 5\n",
      "\n",
      "This lecture covered linear difference equations (recurrence equations). Below one of the examples from the lecture is solved using SymPy.\n",
      "\n",
      "\n",
      "## Student grant example\n",
      "\n",
      "The difference equation for the student grant example from the lecture notes has the form\n",
      "\n",
      "$$\n",
      "y_{n} - 2.95 y_{n-1} + 2 y_{n-2} = \u2212(63.685)(1.07^{n})\n",
      "$$\n",
      "\n",
      "We investigate and solve this equation using SymPy. As before, we first need to import SymPy. We will also import a `Fraction` object to represent fractions without Python evaluating fraction numerically."
     ]
    },
    {
     "cell_type": "code",
     "collapsed": false,
     "input": [
      "from sympy import *\n",
      "init_printing()\n",
      "from IPython.display import display\n",
      "\n",
      "from fractions import Fraction"
     ],
     "language": "python",
     "metadata": {},
     "outputs": [],
     "prompt_number": 1
    },
    {
     "cell_type": "markdown",
     "metadata": {},
     "source": [
      "We now define $n$ as an integer symbol and $y$ as a function:"
     ]
    },
    {
     "cell_type": "code",
     "collapsed": false,
     "input": [
      "n = Symbol(\"n\", integer=True)\n",
      "y = Function(\"y\")"
     ],
     "language": "python",
     "metadata": {},
     "outputs": [],
     "prompt_number": 2
    },
    {
     "cell_type": "markdown",
     "metadata": {},
     "source": [
      "Now, we define the RHS of the difference equation:"
     ]
    },
    {
     "cell_type": "code",
     "collapsed": false,
     "input": [
      "f = y(n) - Fraction(295, 100)*y(n - 1) + 2*y(n - 2)\n",
      "display(f)"
     ],
     "language": "python",
     "metadata": {},
     "outputs": [
      {
       "latex": [
        "$$y{\\left (n \\right )} + 2 y{\\left (n - 2 \\right )} - \\frac{59}{20} y{\\left (n - 1 \\right )}$$"
       ],
       "metadata": {},
       "output_type": "display_data",
       "png": "[encoded data removed]",
       "text": [
        "                    59\u22c5y(n - 1)\n",
        "y(n) + 2\u22c5y(n - 2) - \u2500\u2500\u2500\u2500\u2500\u2500\u2500\u2500\u2500\u2500\u2500\n",
        "                         20    "
       ]
      }
     ],
     "prompt_number": 3
    },
    {
     "cell_type": "markdown",
     "metadata": {},
     "source": [
      "We'll now solve the homogeneous version of the equation using `rsolve`. To compare to the solution in the lecture notes, we'll also evaluate the the solution in floating point: "
     ]
    },
    {
     "cell_type": "code",
     "collapsed": false,
     "input": [
      "eqn = Eq(f, 0)\n",
      "soln = rsolve(eqn, y(n))\n",
      "display(soln)\n",
      "soln.evalf()"
     ],
     "language": "python",
     "metadata": {},
     "outputs": [
      {
       "latex": [
        "$$C_{0} \\left(- \\frac{\\sqrt{281}}{40} + \\frac{59}{40}\\right)^{n} + C_{1} \\left(\\frac{\\sqrt{281}}{40} + \\frac{59}{40}\\right)^{n}$$"
       ],
       "metadata": {},
       "output_type": "display_data",
       "png": "[encoded data removed]",
       "text": [
        "                   n                    n\n",
        "   \u239b    _____     \u239e       \u239b  _____     \u239e \n",
        "   \u239c  \u2572\u2571 281    59\u239f       \u239c\u2572\u2571 281    59\u239f \n",
        "C\u2080\u22c5\u239c- \u2500\u2500\u2500\u2500\u2500\u2500\u2500 + \u2500\u2500\u239f  + C\u2081\u22c5\u239c\u2500\u2500\u2500\u2500\u2500\u2500\u2500 + \u2500\u2500\u239f \n",
        "   \u239d     40     40\u23a0       \u239d   40     40\u23a0 "
       ]
      },
      {
       "latex": [
        "$$1.05592363464399^{n} C_{0} + 1.89407636535601^{n} C_{1}$$"
       ],
       "metadata": {},
       "output_type": "pyout",
       "png": "[encoded data removed]",
       "prompt_number": 4,
       "text": [
        "                n                      n   \n",
        "1.05592363464399 \u22c5C\u2080 + 1.89407636535601 \u22c5C\u2081"
       ]
      }
     ],
     "prompt_number": 4
    },
    {
     "cell_type": "markdown",
     "metadata": {},
     "source": [
      "The solution is the same as in the lecture notes.\n",
      "\n",
      "We now consider the non-homogeneous case:"
     ]
    },
    {
     "cell_type": "code",
     "collapsed": false,
     "input": [
      "# Create non-homogeneous equation\n",
      "eqn = Eq(f, -63.685*(1.07**n))\n",
      "display(eqn)"
     ],
     "language": "python",
     "metadata": {},
     "outputs": [
      {
       "latex": [
        "$$y{\\left (n \\right )} + 2 y{\\left (n - 2 \\right )} - \\frac{59}{20} y{\\left (n - 1 \\right )} = - 63.685 \\cdot 1.07^{n}$$"
       ],
       "metadata": {},
       "output_type": "display_data",
       "png": "[encoded data removed]",
       "text": [
        "                    59\u22c5y(n - 1)               n\n",
        "y(n) + 2\u22c5y(n - 2) - \u2500\u2500\u2500\u2500\u2500\u2500\u2500\u2500\u2500\u2500\u2500 = -63.685\u22c51.07 \n",
        "                         20                    "
       ]
      }
     ],
     "prompt_number": 5
    },
    {
     "cell_type": "markdown",
     "metadata": {},
     "source": [
      "We now solve the non-homogeneous equation, on this occasion providing the initial conditions $y(0) = 2000$ and $y(1) = 2200$:"
     ]
    },
    {
     "cell_type": "code",
     "collapsed": false,
     "input": [
      "soln = rsolve(eqn, y(n), init={y(0) : 2000, y(1) : 2200})\n",
      "display(soln)\n",
      "soln.evalf()"
     ],
     "language": "python",
     "metadata": {},
     "outputs": [
      {
       "latex": [
        "$$6285.59969827586 \\cdot 1.07^{n} - 4285.21114484093 \\left(- \\frac{\\sqrt{281}}{40} + \\frac{59}{40}\\right)^{n} - 0.388553434933067 \\left(\\frac{\\sqrt{281}}{40} + \\frac{59}{40}\\right)^{n}$$"
       ],
       "metadata": {},
       "output_type": "display_data",
       "png": "[encoded data removed]",
       "text": [
        "                                                          n                   \n",
        "                                          \u239b    _____     \u239e                    \n",
        "                     n                    \u239c  \u2572\u2571 281    59\u239f                    \n",
        "6285.59969827586\u22c51.07  - 4285.21114484093\u22c5\u239c- \u2500\u2500\u2500\u2500\u2500\u2500\u2500 + \u2500\u2500\u239f  - 0.38855343493306\n",
        "                                          \u239d     40     40\u23a0                    \n",
        "\n",
        "                n\n",
        "  \u239b  _____     \u239e \n",
        "  \u239c\u2572\u2571 281    59\u239f \n",
        "7\u22c5\u239c\u2500\u2500\u2500\u2500\u2500\u2500\u2500 + \u2500\u2500\u239f \n",
        "  \u239d   40     40\u23a0 "
       ]
      },
      {
       "latex": [
        "$$- 4285.21114484093 \\cdot 1.05592363464399^{n} + 6285.59969827586 \\cdot 1.07^{n} - 0.388553434933067 \\cdot 1.89407636535601^{n}$$"
       ],
       "metadata": {},
       "output_type": "pyout",
       "png": "[encoded data removed]",
       "prompt_number": 6,
       "text": [
        "                                   n                        n                 \n",
        "- 4285.21114484093\u22c51.05592363464399  + 6285.59969827586\u22c51.07  - 0.388553434933\n",
        "\n",
        "                    n\n",
        "067\u22c51.89407636535601 "
       ]
      }
     ],
     "prompt_number": 6
    },
    {
     "cell_type": "code",
     "collapsed": false,
     "input": [
      "# Plot\n",
      "%matplotlib inline\n",
      "plot(soln, (n, 0, 12), xlabel=\"year (n)\", ylabel=\"fee\")\n",
      "\n",
      "# Evaluate fee at 10 years\n",
      "print(\"Fee after 10 years (n=10): {}\".format(soln.subs(n, 10).evalf()))"
     ],
     "language": "python",
     "metadata": {},
     "outputs": [
      {
       "metadata": {},
       "output_type": "display_data",
       "png": "[encoded data removed]",
       "text": [
        "<matplotlib.figure.Figure at 0x11202a990>"
       ]
      },
      {
       "output_type": "stream",
       "stream": "stdout",
       "text": [
        "Fee after 10 years (n=10): 4749.72910622450\n"
       ]
      }
     ],
     "prompt_number": 7
    }
   ],
   "metadata": {}
  }
 ]
}