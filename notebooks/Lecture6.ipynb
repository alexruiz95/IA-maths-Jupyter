{
 "metadata": {
  "name": "",
  "signature": "sha256:eee1072cc677704bc5a92f39a1b779de439ce6251a69824e9ac521683fb0d528"
 },
 "nbformat": 3,
 "nbformat_minor": 0,
 "worksheets": [
  {
   "cells": [
    {
     "cell_type": "markdown",
     "metadata": {},
     "source": [
      "# Lecture 6\n",
      "\n",
      "Using partial differentiation, we showed in the lecture that for the implicit representation of a line\n",
      "\n",
      "$$\n",
      "f(x, y) = c,\n",
      "$$\n",
      "\n",
      "where $f$ is and function and $c$ is constant, the gradient $\\nabla f$  on the line is perpendicular to the line. We demonstrate this here for an ellipse.\n",
      "\n",
      "## Equation of an ellipse\n",
      "\n",
      "The implicit equation of an ellipse is \n",
      "\n",
      "$$\n",
      "\\frac{x^{2}}{a^{2}} + \\frac{y^{2}}{b^{2}} = 1\n",
      "$$\n",
      "\n",
      "where $a \\ne 0$ and $b \\ne 0$. The parametric representation of a ellipse is\n",
      "\n",
      "$$\n",
      "\\begin{align}\n",
      "    x(s) &= a \\cos s\n",
      "    \\\\\n",
      "    y(s) &= b \\sin s\n",
      "\\end{align}\n",
      "$$\n",
      "\n",
      "We can plot the parametric function with SymPy:"
     ]
    },
    {
     "cell_type": "code",
     "collapsed": false,
     "input": [
      "from sympy import *\n",
      "init_printing()\n",
      "from IPython.display import display\n",
      "from sympy.plotting import plot_parametric\n",
      "\n",
      "# This command makes plots appear inside the browser window\n",
      "%matplotlib inline\n",
      "\n",
      "# Create independent variable and function for x and y\n",
      "s = Symbol('s')\n",
      "xs = Function('xs')\n",
      "ys = Function('ys')\n",
      "\n",
      "# Pick concrete values for a and b\n",
      "a = 5\n",
      "b = 3\n",
      "\n",
      "# Parametric representation of ellipse\n",
      "xs = a*cos(s)\n",
      "ys = b*sin(s)\n",
      "\n",
      "# Plot parametric line\n",
      "plot_parametric(xs, ys)"
     ],
     "language": "python",
     "metadata": {},
     "outputs": [
      {
       "metadata": {},
       "output_type": "display_data",
       "png": "[encoded data removed]",
       "text": [
        "<matplotlib.figure.Figure at 0x7f4cda343e10>"
       ]
      },
      {
       "metadata": {},
       "output_type": "pyout",
       "prompt_number": 1,
       "text": [
        "<sympy.plotting.plot.Plot at 0x7f4cd9638cf8>"
       ]
      }
     ],
     "prompt_number": 1
    },
    {
     "cell_type": "markdown",
     "metadata": {},
     "source": [
      "## Tangent to the line\n",
      "\n",
      "The tangent vector $\\boldsymbol{t}$ to the surface is given by\n",
      "\n",
      "$$\n",
      "\\boldsymbol{t} = \\frac{d x}{d s} \\boldsymbol{e}_{1}\n",
      " + \\frac{d y}{d s} \\boldsymbol{e}_{2}\n",
      "$$\n",
      "\n",
      "We can compute the tangent vector via differentiation, and plot the tangent at a given point."
     ]
    },
    {
     "cell_type": "code",
     "collapsed": false,
     "input": [
      "t = (diff(xs, s), diff(ys, s))"
     ],
     "language": "python",
     "metadata": {},
     "outputs": [],
     "prompt_number": 2
    },
    {
     "cell_type": "markdown",
     "metadata": {},
     "source": [
      "The normal direction to the surface is given by $\\nabla f$ \n",
      "\n",
      "$$\n",
      "\\nabla f = \\frac{\\partial f}{\\partial x} \\boldsymbol{e}_{1} + \\frac{\\partial f}{\\partial y} \\boldsymbol{e}_{2}\n",
      "$$\n",
      "\n",
      "evaluated at a point on the surface."
     ]
    },
    {
     "cell_type": "code",
     "collapsed": false,
     "input": [
      "x, y = symbols('x y')\n",
      "f = Eq(x**2/a**2 + y**2/b**2, 1)\n",
      "display(f)\n",
      "grad_f = (diff(f.args[0], x), diff(f.args[0], y))\n",
      "display(grad_f)"
     ],
     "language": "python",
     "metadata": {},
     "outputs": [
      {
       "latex": [
        "$$\\frac{x^{2}}{25} + \\frac{y^{2}}{9} = 1$$"
       ],
       "metadata": {},
       "output_type": "display_data",
       "png": "[encoded data removed]",
       "text": [
        " 2    2    \n",
        "x    y     \n",
        "\u2500\u2500 + \u2500\u2500 = 1\n",
        "25   9     "
       ]
      },
      {
       "latex": [
        "$$\\left ( \\frac{2 x}{25}, \\quad \\frac{2 y}{9}\\right )$$"
       ],
       "metadata": {},
       "output_type": "display_data",
       "png": "[encoded data removed]",
       "text": [
        "\u239b2\u22c5x  2\u22c5y\u239e\n",
        "\u239c\u2500\u2500\u2500, \u2500\u2500\u2500\u239f\n",
        "\u239d 25   9 \u23a0"
       ]
      }
     ],
     "prompt_number": 3
    },
    {
     "cell_type": "markdown",
     "metadata": {},
     "source": [
      "We will now plot the ellipse, and the tangent vector $\\boldsymbol{t}$ and the normal $\\boldsymbol{n} = \\nabla f$ to the surface at a point $(x(s_{0}), y(s_{0}))$. For later visualisaton, we will scale the vectors dependent on the size of the the ellipse."
     ]
    },
    {
     "cell_type": "code",
     "collapsed": false,
     "input": [
      "# Pick point to evaluate tangent and normal vector at\n",
      "s0 = 0.4\n",
      "x0, y0 = xs.subs(s, s0), ys.subs(s, s0)\n",
      "\n",
      "# Evaluate tangent and normal vector, and scale according to ellipse major axis length \n",
      "t0 = (t[0].subs(s, s0), t[1].subs(s, s0))\n",
      "l = sqrt(t0[0]**2 + t0[1]**2)/max(a, b)\n",
      "t0 = (t0[0]/l, t0[1]/l)\n",
      "\n",
      "n0 = (grad_f[0].subs(x, x0).subs(y, y0), grad_f[1].subs(x, x0).subs(y, y0))\n",
      "l = sqrt(n0[0]**2 + n0[1]**2)/max(a, b)\n",
      "n0 = (n0[0]/l, n0[1]/l)"
     ],
     "language": "python",
     "metadata": {},
     "outputs": [],
     "prompt_number": 4
    },
    {
     "cell_type": "markdown",
     "metadata": {},
     "source": [
      "We will now plot the ellipse, as well as the tangent and normal vectors at the point $(x(s_{0}), y(s_{0}))$."
     ]
    },
    {
     "cell_type": "code",
     "collapsed": false,
     "input": [
      "from sympy.utilities.lambdify import lambdify\n",
      "import numpy as np\n",
      "import matplotlib.pyplot as plt\n",
      "\n",
      "# Set plot limits (based on ellipse size)\n",
      "plt.xlim(-(a + 1), a + 1)\n",
      "plt.ylim(-(b + 1), b + 1)\n",
      "\n",
      "# Make plot aspect ratio equal -> normal lines appear normal\n",
      "ax = plt.axes()\n",
      "ax.set_aspect('equal')\n",
      "\n",
      "# Prepare the symbolix expression for x(s) and y(s) for plotting\n",
      "xs = lambdify(s, xs, modules=['numpy'])\n",
      "ys = lambdify(s, ys, modules=['numpy'])\n",
      "\n",
      "# Plot ellipse\n",
      "s = np.linspace(0, 7, 300)\n",
      "plt.plot(xs(s), ys(s))\n",
      "\n",
      "# Add tangent vector to plot\n",
      "ax.arrow(x0, y0,  float(t0[0]),  float(t0[1]), label='tangent', color='g')\n",
      "ax.arrow(x0, y0, -float(t0[0]), -float(t0[1]), color='g')\n",
      "\n",
      "# Add normal vector to splot\n",
      "ax.arrow(x0, y0,  float(n0[0]),  float(n0[1]), label='normal', color='r')\n",
      "\n",
      "# Show plot\n",
      "plt.show()"
     ],
     "language": "python",
     "metadata": {},
     "outputs": [
      {
       "metadata": {},
       "output_type": "display_data",
       "png": "[encoded data removed]",
       "text": [
        "<matplotlib.figure.Figure at 0x7f4cc06cfac8>"
       ]
      }
     ],
     "prompt_number": 5
    },
    {
     "cell_type": "markdown",
     "metadata": {},
     "source": [
      "It can be seen from the plot that the gradient (red line) is normal to the ellipse."
     ]
    }
   ],
   "metadata": {}
  }
 ]
}