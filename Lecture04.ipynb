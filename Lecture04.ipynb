{
 "cells": [
  {
   "cell_type": "markdown",
   "metadata": {},
   "source": [
    "# Lecture 4: Ordinary differential equation extensions\n",
    "\n",
    "This notebook presents some extensions of material handled in lectures. It presents \n",
    "\n",
    "- A general method for non-homogeneous second-order ordinary differential equations; and\n",
    "- The formulation of the differential equation for an elastic rod in one dimension via an integral approach.\n",
    "\n",
    "We present an extension to what was covered in the lecture, namely the *variation of parameters method* for non-homogeneous equations."
   ]
  },
  {
   "cell_type": "markdown",
   "metadata": {},
   "source": [
    "# Method of undetermined coefficients\n",
    "\n",
    "In the previous lecture, we covered the solution of non-homogeneous second-order differential equations. Although not explicitly stated, the method we used is known as *method of undetermined coefficients*. It relied on computing a solution to the homogeneous problem, and then having a suitable 'guess' for for the particular solution $y_{P}$.\n",
    "\n",
    "But what if we do not know what $y_{P}$ should look like? In this case we can use the *variation of parameters* method."
   ]
  },
  {
   "cell_type": "markdown",
   "metadata": {},
   "source": [
    "# Variation of parameters method\n",
    "\n",
    "We wish to find a solution to the problem\n",
    "\n",
    "$$\n",
    "\\frac{d^{2}y}{dx^{2}} + p(x) \\frac{dy}{dx} + q(x) y = f(x)\n",
    "$$\n",
    "\n",
    "By linearity, if $y_{P}$ is a solution to the above equation and $y_{CF}$ is a solution to the homogeneous equation,\n",
    "\n",
    "$$\n",
    "\\frac{d^{2}y}{dx^{2}} + p(x) \\frac{dy}{dx} + q(x) y = 0\n",
    "$$\n",
    "\n",
    "then the general solution is $y = y_{CF} + y_{P}$. \n",
    "\n",
    "For the case of constant coefficients, we know how to find the solution to the homogeneous problem, which is most cases is of the form\n",
    "\n",
    "$$\n",
    "y_{CF} = \\underbrace{A_{1} e^{\\lambda_{1} x}}_{y_{1}} + \\underbrace{A_{2} e^{\\lambda_{2} x}}_{y_{2}} \n",
    "$$\n",
    "\n",
    "where $\\lambda$ are the roots of $\\lambda + p\\lambda + q$.\n",
    "\n",
    "\n",
    "Consider a particular solution $y_{P}$ of the form \n",
    "\n",
    "$$\n",
    "y_{P} = v_{1}(x) y_{1} + v_{2}(x)y_{2}\n",
    "$$\n",
    "\n",
    "with the objective of finding the functions $v_{1}$ and $v_{2}$. We will insist of the constraint\n",
    "\n",
    "$$\n",
    "\\frac{d v_{1}}{dx} y_{1} + \\frac{d v_{2}}{dx} y_{2} = 0.\n",
    "$$\n",
    "\n",
    "Computing derivatives of $y_{P}$:\n",
    "\n",
    "$$\n",
    "\\begin{align}\n",
    "\\frac{d y_{P}}{d x} &= v_{1} \\frac{d y_{1}}{dx} + v_{2} \\frac{d y_{2}}{dx}\n",
    "\\\\\n",
    "\\frac{d^{2} y_{P}}{d x^{2}} &= \\frac{d v_{1}}{dx} \\frac{d y_{1}}{dx} + \\frac{d v_{2}}{dx} \\frac{d y_{2}}{dx} +\n",
    "v_{1} \\frac{d^{2} y_{1}}{dx^{2}} + v_{2} \\frac{d^{2} y_{2}}{dx^{2}}\n",
    "\\end{align}\n",
    "$$\n",
    "\n",
    "Inserting the expressions for $y_{P}$ is its derivatives into the original equations (keeping in mind that $y_{1}$ and $y_{2}$ are solutions to the homogeneous problem), we find\n",
    "\n",
    "$$\n",
    "\\frac{d v_{1}}{dx} \\frac{d y_{1}}{dx} + \\frac{d v_{2}}{dx} \\frac{d y_{2}}{dx} = f(x)\n",
    "$$\n",
    "\n",
    "Combining the above equations with the conditon $v_{1}^{\\prime} y_{1} + v_{2}^{\\prime} y_{2} = 0$,\n",
    "\n",
    "$$\n",
    "\\begin{align}\n",
    "\\frac{d v_{1}}{dx} &= -\\frac{y_{2} f(x)}{W(x)}\n",
    "\\\\\n",
    "\\frac{d v_{2}}{dx} &= \\frac{y_{1} f(x)}{W(x)}\n",
    "\\end{align}\n",
    "$$\n",
    "\n",
    "where $W(x) = y_{1} y^{\\prime}_{2} - y^{\\prime}_{1} y_{2}$ is known as the *Wronskian*. Integrating both sides of the above equations,\n",
    "\n",
    "$$\n",
    "\\begin{align}\n",
    "v_{1} &= -\\int \\frac{y_{2} f(x)}{W(x)} dx\n",
    "\\\\\n",
    "v_{2} &= \\int \\frac{y_{1} f(x)}{W(x)} dx\n",
    "\\end{align}\n",
    "$$"
   ]
  },
  {
   "cell_type": "markdown",
   "metadata": {},
   "source": [
    "## Solving a given non-homogeneous equation symbolically\n",
    "\n",
    "We now solve and ODE symbolically with a RHS side $f(x)$ of unknown form. We first import SymPy:"
   ]
  },
  {
   "cell_type": "code",
   "execution_count": 1,
   "metadata": {},
   "outputs": [],
   "source": [
    "from sympy import *\n",
    "init_printing()\n",
    "from IPython.display import display"
   ]
  },
  {
   "cell_type": "markdown",
   "metadata": {},
   "source": [
    "We first solve the homogeneous equation:"
   ]
  },
  {
   "cell_type": "code",
   "execution_count": 2,
   "metadata": {},
   "outputs": [
    {
     "data": {
      "image/png": "[encoded data removed]",
      "text/latex": [
       "$$y{\\left (x \\right )} + 2 \\frac{d}{d x} y{\\left (x \\right )} + \\frac{d^{2}}{d x^{2}}  y{\\left (x \\right )} = 0$$"
      ],
      "text/plain": [
       "                      2          \n",
       "         d           d           \n",
       "y(x) + 2⋅──(y(x)) + ───(y(x)) = 0\n",
       "         dx           2          \n",
       "                    dx           "
      ]
     },
     "metadata": {},
     "output_type": "display_data"
    },
    {
     "data": {
      "image/png": "[encoded data removed]",
      "text/latex": [
       "$$y{\\left (x \\right )} = \\left(C_{1} + C_{2} x\\right) e^{- x}$$"
      ],
      "text/plain": [
       "                    -x\n",
       "y(x) = (C₁ + C₂⋅x)⋅ℯ  "
      ]
     },
     "execution_count": 2,
     "metadata": {},
     "output_type": "execute_result"
    }
   ],
   "source": [
    "x = Symbol(\"x\")\n",
    "y = Function(\"y\")\n",
    "f = Function(\"f\")\n",
    "eqn = Eq(Derivative(y(x), x, x) + 2*Derivative(y(x), x) + y(x), 0)\n",
    "display(eqn)\n",
    "dsolve(eqn)"
   ]
  },
  {
   "cell_type": "markdown",
   "metadata": {},
   "source": [
    "Now solve the non-homogeneous case for some $f(x)$:"
   ]
  },
  {
   "cell_type": "code",
   "execution_count": 3,
   "metadata": {},
   "outputs": [
    {
     "data": {
      "image/png": "[encoded data removed]",
      "text/latex": [
       "$$y{\\left (x \\right )} = \\left(C_{1} + x \\left(C_{2} + \\int f{\\left (x \\right )} e^{x}\\, dx\\right) - \\int x f{\\left (x \\right )} e^{x}\\, dx\\right) e^{- x}$$"
      ],
      "text/plain": [
       "       ⎛       ⎛     ⌠           ⎞   ⌠             ⎞    \n",
       "       ⎜       ⎜     ⎮       x   ⎟   ⎮         x   ⎟  -x\n",
       "y(x) = ⎜C₁ + x⋅⎜C₂ + ⎮ f(x)⋅ℯ  dx⎟ - ⎮ x⋅f(x)⋅ℯ  dx⎟⋅ℯ  \n",
       "       ⎝       ⎝     ⌡           ⎠   ⌡             ⎠    "
      ]
     },
     "execution_count": 3,
     "metadata": {},
     "output_type": "execute_result"
    }
   ],
   "source": [
    "eqn = Eq(Derivative(y(x), x, x) + 2*Derivative(y(x), x) + y(x), f(x))\n",
    "dsolve(eqn)"
   ]
  },
  {
   "cell_type": "markdown",
   "metadata": {},
   "source": [
    "Note the integrand involving the product of $f(x)$ and terms from solution to the homogeneous problem, as expected from the variation of parameters method. "
   ]
  },
  {
   "cell_type": "markdown",
   "metadata": {},
   "source": [
    "# From balance laws to differential equations\n",
    "\n",
    "It is common in science and engineering to derive differential equations from integral balance laws. The example of an elastic one-dimensional rod was covered in Lecture 4 (but it not in the printed lecture notes). That example repeated and expanded here.\n",
    "\n",
    "Before presenting the example, we consider a theorem that we will use in the derivation.\n",
    "\n",
    "## Localisation theorem\n",
    "\n",
    "For a continuous function $\\phi(x)$ on $\\Omega$ statisfies\n",
    "\n",
    "$$\n",
    "\\int_{B} \\phi \\, dx = 0 \\quad \\forall B \\subset \\Omega\n",
    "$$\n",
    "\n",
    "then \n",
    "\n",
    "$$\n",
    "\\phi(x) = 0 \\quad \\forall x \\in \\Omega.\n",
    "$$\n",
    "\n",
    "*Proof:*\n",
    "The proof is by contradiction. Assume at some point $x_{0}$ that $\\phi(x_{0}) = \\delta > 0$. Since $\\phi$ is continuous, there is a neighborhood $D \\in \\Omega$ around $x_{0}$ on which $\\phi > 0$. On $D$, $\\int_{D} \\phi \\, dx > 0$, which contradicts the first part of the theorem.\n",
    "\n",
    "Note that the notation '$\\forall B \\subset \\Omega$' means all subdomains of $\\Omega$."
   ]
  },
  {
   "cell_type": "markdown",
   "metadata": {},
   "source": [
    "## An elastic rod in one dimension\n",
    "\n",
    "An elastic rod in one dimension can transmit forces along its axis only (there is not shear or bending - it is not a beam). The normal force in the rod is $N$, and by definition $h = N n_{x}$, where $h$ is a force and $n_{x}$ is the outward unit normal vector. We assume the the normal force in the rod is smooth, i.e. it is continuous as its first derivative.\n",
    "\n",
    "Consider the below bar with forces acting at the ends and a distributed load $f$ (force per unit length) acting along the rod.\n",
    "\n",
    "![Alt text](1D_bar.svg)\n",
    "\n",
    "Summing the forces acting on the rod,\n",
    "\n",
    "$$\n",
    "\\int_{0}^{L} f \\, dx + h_{L} + h_{0} = 0.\n",
    "$$\n",
    "\n",
    "Replacing $h$ by $N n_{x}$ (in one dimension $n_{x} = \\pm 1$),\n",
    "\n",
    "$$\n",
    "\\int_{0}^{L} f \\, dx + N_{L} - N_{0} = 0.\n",
    "$$\n",
    "\n",
    "We can convert the $N_{L} - N_{0}$ term to an integral from $0$ to $L$:\n",
    "\n",
    "$$\n",
    "\\int_{0}^{L} f \\, dx + \\int_{0}^{L} \\frac{dN}{dx} \\, dx = 0.\n",
    "$$\n",
    "\n",
    "Since $f$ and $dN$/dx are continuous, from the localisation theorem implies that\n",
    "\n",
    "$$\n",
    "\\frac{dN}{dx} + f = 0.\n",
    "$$\n",
    "\n",
    "This is the equilibrium equation. For an elastic bar, the normal force in terms of deformation is given by Hooke's law:\n",
    "\n",
    "$$\n",
    "N = EA\\frac{du}{dx},\n",
    "$$\n",
    "\n",
    "where $E$ is Young's modulus, $A(x)$ is the cross-sectional area of the rod, $u$ is the displacement and $du/dx$ is the strain.  Inserting the expression for $N$ into the equilibrium equation:\n",
    "\n",
    "$$\n",
    "\\frac{d}{dx}\\left(EA \\frac{du}{dx}\\right) + f = 0.\n",
    "$$\n",
    "\n",
    "This is a second-order differential equation, with $u$ being the dependent variable."
   ]
  }
 ],
 "metadata": {
  "kernelspec": {
   "display_name": "Python 3",
   "language": "python",
   "name": "python3"
  },
  "language_info": {
   "codemirror_mode": {
    "name": "ipython",
    "version": 3
   },
   "file_extension": ".py",
   "mimetype": "text/x-python",
   "name": "python",
   "nbconvert_exporter": "python",
   "pygments_lexer": "ipython3",
   "version": "3.6.3"
  }
 },
 "nbformat": 4,
 "nbformat_minor": 1
}
