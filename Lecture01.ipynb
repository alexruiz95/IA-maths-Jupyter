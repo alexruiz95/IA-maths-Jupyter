{
 "cells": [
  {
   "cell_type": "markdown",
   "metadata": {},
   "source": [
    "# Lecture 1: solving ordinary differential equations\n",
    "\n",
    "This lecture introduces ordinary differential equations, and some techniques for solving first order equations. This notebook uses computer algebra via Sympy (<http://sympy.org/>) to solve some ODE examples from the lecture notes."
   ]
  },
  {
   "cell_type": "markdown",
   "metadata": {},
   "source": [
    "# Importing SymPy\n",
    "\n",
    "To use Sympy, we first need to import it and call `init_printing()` to get nicely typeset equations:"
   ]
  },
  {
   "cell_type": "code",
   "execution_count": 1,
   "metadata": {
    "collapsed": false
   },
   "outputs": [],
   "source": [
    "from sympy import *\n",
    "\n",
    "# This initialises pretty printing\n",
    "init_printing()\n",
    "from IPython.display import display\n",
    "\n",
    "# This command makes plots appear inside the browser window\n",
    "%matplotlib inline"
   ]
  },
  {
   "cell_type": "markdown",
   "metadata": {},
   "source": [
    "# Example: car breaking\n",
    "\n",
    "During braking a car’s velocity is given by $v = v_{0} e^{−t/\\tau}$. Calculate the distance travelled.\n",
    "\n",
    "We first define the symbols in the equation ($t$, $\\tau$ and $v_{0}$), and the function ($x$, for the displacement):"
   ]
  },
  {
   "cell_type": "code",
   "execution_count": 2,
   "metadata": {
    "collapsed": false
   },
   "outputs": [],
   "source": [
    "t, tau, v0 = symbols(\"t tau v0\")\n",
    "x = Function(\"x\")"
   ]
  },
  {
   "cell_type": "markdown",
   "metadata": {},
   "source": [
    "Next, we define the differential equation, and print it to the screen for checking:"
   ]
  },
  {
   "cell_type": "code",
   "execution_count": 3,
   "metadata": {
    "collapsed": false
   },
   "outputs": [
    {
     "data": {
      "image/png": "[encoded data removed]",
      "text/latex": [
       "$$\\frac{d}{d t} x{\\left (t \\right )} = v_{0} e^{- \\frac{t}{\\tau}}$$"
      ],
      "text/plain": [
       "               -t \n",
       "               ───\n",
       "d               τ \n",
       "──(x(t)) = v₀⋅ℯ   \n",
       "dt                "
      ]
     },
     "metadata": {},
     "output_type": "display_data"
    }
   ],
   "source": [
    "eqn = Eq(Derivative(x(t), t), v0*exp(-t/(tau)))\n",
    "display(eqn)"
   ]
  },
  {
   "cell_type": "markdown",
   "metadata": {},
   "source": [
    "The `dsolve` function solves the differential equation symbolically:"
   ]
  },
  {
   "cell_type": "code",
   "execution_count": 4,
   "metadata": {
    "collapsed": false
   },
   "outputs": [
    {
     "data": {
      "image/png": "[encoded data removed]",
      "text/latex": [
       "$$x{\\left (t \\right )} = C_{1} - \\tau v_{0} e^{- \\frac{t}{\\tau}}$$"
      ],
      "text/plain": [
       "                  -t \n",
       "                  ───\n",
       "                   τ \n",
       "x(t) = C₁ - τ⋅v₀⋅ℯ   "
      ]
     },
     "metadata": {},
     "output_type": "display_data"
    }
   ],
   "source": [
    "x = dsolve(eqn, x(t))\n",
    "display(x)"
   ]
  },
  {
   "cell_type": "markdown",
   "metadata": {},
   "source": [
    "where $C_{1}$ is a constant. As expected for a first-order equation, there is one constant.\n",
    "\n",
    "SymPy is not yet very good at eliminating constants from initial conditions, so we will do this manually assuming that $x = 0$ and $t = 0$:"
   ]
  },
  {
   "cell_type": "code",
   "execution_count": 5,
   "metadata": {
    "collapsed": false
   },
   "outputs": [
    {
     "data": {
      "image/png": "[encoded data removed]",
      "text/latex": [
       "$$x{\\left (t \\right )} = \\tau v_{0} - \\tau v_{0} e^{- \\frac{t}{\\tau}}$$"
      ],
      "text/plain": [
       "                    -t \n",
       "                    ───\n",
       "                     τ \n",
       "x(t) = τ⋅v₀ - τ⋅v₀⋅ℯ   "
      ]
     },
     "metadata": {},
     "output_type": "display_data"
    }
   ],
   "source": [
    "x = x.subs('C1', v0*tau)\n",
    "display(x)"
   ]
  },
  {
   "cell_type": "markdown",
   "metadata": {},
   "source": [
    "Specifying values for $v_{0}$ and $\\tau$, when can plot the velocity as a function of time:"
   ]
  },
  {
   "cell_type": "code",
   "execution_count": 6,
   "metadata": {
    "collapsed": false
   },
   "outputs": [
    {
     "data": {
      "image/png": "[encoded data removed]",
      "text/plain": [
       "<matplotlib.figure.Figure at 0x7f1b386699e8>"
      ]
     },
     "metadata": {},
     "output_type": "display_data"
    }
   ],
   "source": [
    "# Specify values for v0 and tau\n",
    "x = x.subs(v0, 100)\n",
    "x = x.subs(tau, 2)\n",
    "\n",
    "# Plot position vs time\n",
    "plot(x.args[1], (t, 0.0, 10.0), xlabel=\"time\", ylabel=\"position\");"
   ]
  },
  {
   "cell_type": "markdown",
   "metadata": {},
   "source": [
    "# Classification\n",
    "\n",
    "We can ask SymPy to classify our ODE, e.g. show that it is first order):"
   ]
  },
  {
   "cell_type": "code",
   "execution_count": 7,
   "metadata": {
    "collapsed": false
   },
   "outputs": [
    {
     "data": {
      "text/plain": [
       "('separable',\n",
       " '1st_exact',\n",
       " '1st_linear',\n",
       " 'Bernoulli',\n",
       " '1st_power_series',\n",
       " 'lie_group',\n",
       " 'nth_linear_constant_coeff_undetermined_coefficients',\n",
       " 'nth_linear_constant_coeff_variation_of_parameters',\n",
       " 'separable_Integral',\n",
       " '1st_exact_Integral',\n",
       " '1st_linear_Integral',\n",
       " 'Bernoulli_Integral',\n",
       " 'nth_linear_constant_coeff_variation_of_parameters_Integral')"
      ]
     },
     "execution_count": 7,
     "metadata": {},
     "output_type": "execute_result"
    }
   ],
   "source": [
    "classify_ode(eqn)"
   ]
  },
  {
   "cell_type": "markdown",
   "metadata": {},
   "source": [
    "# Parachutist\n",
    "\n",
    "Find the variation of speed with time of a parachutist subject to a drag force of $kv^{2}$.\n",
    "\n",
    "The equations to solve is\n",
    "\n",
    "$$\n",
    "\\frac{m}{k} \\frac{dv}{dt} = \\alpha^{2} - v^{2}\n",
    "$$\n",
    "\n",
    "where $m$ is mass, $k$ is a prescribed constant, $v$ is the velocity, $t$ is time and $\\alpha^{2} = mg/k$ ($g$ is acceleration due to gravity).\n",
    "\n",
    "We specify the symbols, unknown function $v$ and the differential equation"
   ]
  },
  {
   "cell_type": "code",
   "execution_count": 8,
   "metadata": {
    "collapsed": false
   },
   "outputs": [
    {
     "data": {
      "image/png": "[encoded data removed]",
      "text/latex": [
       "$$\\frac{m}{k} \\frac{d}{d t} v{\\left (t \\right )} = \\alpha^{2} - v^{2}{\\left (t \\right )}$$"
      ],
      "text/plain": [
       "  d                    \n",
       "m⋅──(v(t))             \n",
       "  dt          2    2   \n",
       "────────── = α  - v (t)\n",
       "    k                  "
      ]
     },
     "metadata": {},
     "output_type": "display_data"
    }
   ],
   "source": [
    "t, m, k, alpha = symbols(\"t m k alpha\")\n",
    "v = Function(\"v\")\n",
    "eqn = Eq((m/k)*Derivative(v(t), t), alpha*alpha - v(t)*v(t))\n",
    "display(eqn)"
   ]
  },
  {
   "cell_type": "markdown",
   "metadata": {},
   "source": [
    "First, let's classify the ODE:"
   ]
  },
  {
   "cell_type": "code",
   "execution_count": 9,
   "metadata": {
    "collapsed": false
   },
   "outputs": [
    {
     "data": {
      "text/plain": [
       "('separable', '1st_power_series', 'lie_group', 'separable_Integral')"
      ]
     },
     "execution_count": 9,
     "metadata": {},
     "output_type": "execute_result"
    }
   ],
   "source": [
    "classify_ode(eqn)"
   ]
  },
  {
   "cell_type": "markdown",
   "metadata": {},
   "source": [
    "We see that it is not linear, but it is separable. Using `dsolve` again,"
   ]
  },
  {
   "cell_type": "code",
   "execution_count": 10,
   "metadata": {
    "collapsed": false
   },
   "outputs": [
    {
     "data": {
      "image/png": "[encoded data removed]",
      "text/latex": [
       "$$v{\\left (t \\right )} = - \\frac{\\alpha}{\\tanh{\\left (\\frac{\\alpha k}{m} \\left(C_{1} - t\\right) \\right )}}$$"
      ],
      "text/plain": [
       "              -α         \n",
       "v(t) = ──────────────────\n",
       "           ⎛α⋅k⋅(C₁ - t)⎞\n",
       "       tanh⎜────────────⎟\n",
       "           ⎝     m      ⎠"
      ]
     },
     "metadata": {},
     "output_type": "display_data"
    }
   ],
   "source": [
    "v = dsolve(eqn, v(t))\n",
    "display(v)"
   ]
  },
  {
   "cell_type": "markdown",
   "metadata": {},
   "source": [
    "SymPy can verify that an expression is a solution to an ODE:"
   ]
  },
  {
   "cell_type": "code",
   "execution_count": 11,
   "metadata": {
    "collapsed": false
   },
   "outputs": [
    {
     "name": "stdout",
     "output_type": "stream",
     "text": [
      "Is v a solution to the ODE: (True, 0)\n"
     ]
    }
   ],
   "source": [
    "print(\"Is v a solution to the ODE: {}\".format(checkodesol(eqn, v)))"
   ]
  },
  {
   "cell_type": "markdown",
   "metadata": {},
   "source": [
    "Try adding the code to plot velocity $v$ against time $t$."
   ]
  }
 ],
 "metadata": {
  "celltoolbar": "Raw Cell Format",
  "kernelspec": {
   "display_name": "Python 3",
   "language": "python",
   "name": "python3"
  },
  "language_info": {
   "codemirror_mode": {
    "name": "ipython",
    "version": 3
   },
   "file_extension": ".py",
   "mimetype": "text/x-python",
   "name": "python",
   "nbconvert_exporter": "python",
   "pygments_lexer": "ipython3",
   "version": "3.5.2+"
  }
 },
 "nbformat": 4,
 "nbformat_minor": 0
}
