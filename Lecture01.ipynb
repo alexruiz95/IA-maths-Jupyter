{
 "cells": [
  {
   "cell_type": "markdown",
   "metadata": {},
   "source": [
    "# Lecture 1: solving ordinary differential equations\n",
    "\n",
    "This lecture introduces ordinary differential equations, and some techniques for solving first order equations. This notebook uses computer algebra via [Sympy](<http://sympy.org/>) to solve some ODE examples from the lecture notes."
   ]
  },
  {
   "cell_type": "markdown",
   "metadata": {},
   "source": [
    "# Importing SymPy\n",
    "\n",
    "To use Sympy, we first need to import it and call `init_printing()` to get nicely typeset equations:"
   ]
  },
  {
   "cell_type": "code",
   "execution_count": 1,
   "metadata": {},
   "outputs": [],
   "source": [
    "import sympy\n",
    "from sympy import symbols, Eq, Derivative, init_printing, Function, dsolve, exp, classify_ode, checkodesol\n",
    "\n",
    "# This initialises pretty printing\n",
    "init_printing()\n",
    "from IPython.display import display\n",
    "\n",
    "# Support for interactive plots\n",
    "from ipywidgets import interact\n",
    "\n",
    "# This command makes plots appear inside the browser window\n",
    "%matplotlib inline"
   ]
  },
  {
   "cell_type": "markdown",
   "metadata": {},
   "source": [
    "# Example: car breaking\n",
    "\n",
    "During braking a car’s velocity is given by $v = v_{0} e^{−t/\\tau}$. Calculate the distance travelled.\n",
    "\n",
    "We first define the symbols in the equation ($t$, $\\tau$ and $v_{0}$), and the function ($x$, for the displacement):"
   ]
  },
  {
   "cell_type": "code",
   "execution_count": 2,
   "metadata": {},
   "outputs": [],
   "source": [
    "t, tau, v0 = symbols(\"t tau v0\")\n",
    "x = Function(\"x\")"
   ]
  },
  {
   "cell_type": "markdown",
   "metadata": {},
   "source": [
    "Next, we define the differential equation, and print it to the screen for checking:"
   ]
  },
  {
   "cell_type": "code",
   "execution_count": 3,
   "metadata": {},
   "outputs": [
    {
     "data": {
      "image/png": "[encoded data removed]",
      "text/latex": [
       "$$\\frac{d}{d t} x{\\left (t \\right )} = v_{0} e^{- \\frac{t}{\\tau}}$$"
      ],
      "text/plain": [
       "               -t \n",
       "               ───\n",
       "d               τ \n",
       "──(x(t)) = v₀⋅ℯ   \n",
       "dt                "
      ]
     },
     "metadata": {},
     "output_type": "display_data"
    }
   ],
   "source": [
    "eqn = Eq(Derivative(x(t), t), v0*exp(-t/(tau)))\n",
    "display(eqn)"
   ]
  },
  {
   "cell_type": "markdown",
   "metadata": {},
   "source": [
    "The `dsolve` function solves the differential equation symbolically:"
   ]
  },
  {
   "cell_type": "code",
   "execution_count": 4,
   "metadata": {},
   "outputs": [
    {
     "data": {
      "image/png": "[encoded data removed]",
      "text/latex": [
       "$$x{\\left (t \\right )} = C_{1} - \\tau v_{0} e^{- \\frac{t}{\\tau}}$$"
      ],
      "text/plain": [
       "                  -t \n",
       "                  ───\n",
       "                   τ \n",
       "x(t) = C₁ - τ⋅v₀⋅ℯ   "
      ]
     },
     "metadata": {},
     "output_type": "display_data"
    }
   ],
   "source": [
    "x = dsolve(eqn, x(t))\n",
    "display(x)"
   ]
  },
  {
   "cell_type": "markdown",
   "metadata": {},
   "source": [
    "where $C_{1}$ is a constant. As expected for a first-order equation, there is one constant.\n",
    "\n",
    "SymPy is not yet very good at eliminating constants from initial conditions, so we will do this manually assuming that $x = 0$ and $t = 0$:"
   ]
  },
  {
   "cell_type": "code",
   "execution_count": 5,
   "metadata": {},
   "outputs": [
    {
     "data": {
      "image/png": "[encoded data removed]",
      "text/latex": [
       "$$x{\\left (t \\right )} = \\tau v_{0} - \\tau v_{0} e^{- \\frac{t}{\\tau}}$$"
      ],
      "text/plain": [
       "                    -t \n",
       "                    ───\n",
       "                     τ \n",
       "x(t) = τ⋅v₀ - τ⋅v₀⋅ℯ   "
      ]
     },
     "metadata": {},
     "output_type": "display_data"
    }
   ],
   "source": [
    "x = x.subs('C1', v0*tau)\n",
    "display(x)"
   ]
  },
  {
   "cell_type": "markdown",
   "metadata": {},
   "source": [
    "Specifying a value for $v_{0}$, we create an interactive plot of $x$ as a function of the parameter $\\tau$:"
   ]
  },
  {
   "cell_type": "code",
   "execution_count": 6,
   "metadata": {},
   "outputs": [
    {
     "data": {
      "application/vnd.jupyter.widget-view+json": {
       "model_id": "e506bfd410074302b7aa7b7580a67c03",
       "version_major": 2,
       "version_minor": 0
      },
      "text/html": [
       "<p>Failed to display Jupyter Widget of type <code>interactive</code>.</p>\n",
       "<p>\n",
       "  If you're reading this message in Jupyter Notebook or JupyterLab, it may mean\n",
       "  that the widgets JavaScript is still loading. If this message persists, it\n",
       "  likely means that the widgets JavaScript library is either not installed or\n",
       "  not enabled. See the <a href=\"https://ipywidgets.readthedocs.io/en/stable/user_install.html\">Jupyter\n",
       "  Widgets Documentation</a> for setup instructions.\n",
       "</p>\n",
       "<p>\n",
       "  If you're reading this message in another notebook frontend (for example, a static\n",
       "  rendering on GitHub or <a href=\"https://nbviewer.jupyter.org/\">NBViewer</a>),\n",
       "  it may mean that your frontend doesn't currently support widgets.\n",
       "</p>\n"
      ],
      "text/plain": [
       "interactive(children=(FloatSlider(value=1.0, description='τ', max=10.0, step=0.2), Output()), _dom_classes=('widget-interact',))"
      ]
     },
     "metadata": {},
     "output_type": "display_data"
    }
   ],
   "source": [
    "x = x.subs(v0, 100)\n",
    "\n",
    "def plot(τ=1.0):\n",
    "    x1 = x.subs(tau, τ)\n",
    "\n",
    "    # Plot position vs time\n",
    "    sympy.plot(x1.args[1], (t, 0.0, 10.0), xlabel=\"time\", ylabel=\"position\");\n",
    "\n",
    "interact(plot, τ=(0.0, 10, 0.2));"
   ]
  },
  {
   "cell_type": "markdown",
   "metadata": {},
   "source": [
    "# Classification\n",
    "\n",
    "We can ask SymPy to classify our ODE, e.g. show that it is first order):"
   ]
  },
  {
   "cell_type": "code",
   "execution_count": 7,
   "metadata": {},
   "outputs": [
    {
     "data": {
      "text/plain": [
       "('separable',\n",
       " '1st_exact',\n",
       " '1st_linear',\n",
       " 'Bernoulli',\n",
       " '1st_power_series',\n",
       " 'lie_group',\n",
       " 'nth_linear_constant_coeff_undetermined_coefficients',\n",
       " 'nth_linear_constant_coeff_variation_of_parameters',\n",
       " 'separable_Integral',\n",
       " '1st_exact_Integral',\n",
       " '1st_linear_Integral',\n",
       " 'Bernoulli_Integral',\n",
       " 'nth_linear_constant_coeff_variation_of_parameters_Integral')"
      ]
     },
     "execution_count": 7,
     "metadata": {},
     "output_type": "execute_result"
    }
   ],
   "source": [
    "classify_ode(eqn)"
   ]
  },
  {
   "cell_type": "markdown",
   "metadata": {},
   "source": [
    "# Parachutist\n",
    "\n",
    "Find the variation of speed with time of a parachutist subject to a drag force of $kv^{2}$.\n",
    "\n",
    "The equations to solve is\n",
    "\n",
    "$$\n",
    "\\frac{m}{k} \\frac{dv}{dt} = \\alpha^{2} - v^{2}\n",
    "$$\n",
    "\n",
    "where $m$ is mass, $k$ is a prescribed constant, $v$ is the velocity, $t$ is time and $\\alpha^{2} = mg/k$ ($g$ is acceleration due to gravity).\n",
    "\n",
    "We specify the symbols, unknown function $v$ and the differential equation"
   ]
  },
  {
   "cell_type": "code",
   "execution_count": 8,
   "metadata": {},
   "outputs": [
    {
     "data": {
      "image/png": "[encoded data removed]",
      "text/latex": [
       "$$\\frac{m}{k} \\frac{d}{d t} v{\\left (t \\right )} = \\alpha^{2} - v^{2}{\\left (t \\right )}$$"
      ],
      "text/plain": [
       "  d                    \n",
       "m⋅──(v(t))             \n",
       "  dt          2    2   \n",
       "────────── = α  - v (t)\n",
       "    k                  "
      ]
     },
     "metadata": {},
     "output_type": "display_data"
    }
   ],
   "source": [
    "t, m, k, alpha = symbols(\"t m k alpha\")\n",
    "v = Function(\"v\")\n",
    "eqn = Eq((m/k)*Derivative(v(t), t), alpha*alpha - v(t)*v(t))\n",
    "display(eqn)"
   ]
  },
  {
   "cell_type": "markdown",
   "metadata": {},
   "source": [
    "First, let's classify the ODE:"
   ]
  },
  {
   "cell_type": "code",
   "execution_count": 9,
   "metadata": {},
   "outputs": [
    {
     "data": {
      "text/plain": [
       "('separable', '1st_power_series', 'lie_group', 'separable_Integral')"
      ]
     },
     "execution_count": 9,
     "metadata": {},
     "output_type": "execute_result"
    }
   ],
   "source": [
    "classify_ode(eqn)"
   ]
  },
  {
   "cell_type": "markdown",
   "metadata": {},
   "source": [
    "We see that it is not linear, but it is separable. Using `dsolve` again,"
   ]
  },
  {
   "cell_type": "code",
   "execution_count": 10,
   "metadata": {},
   "outputs": [
    {
     "data": {
      "image/png": "[encoded data removed]",
      "text/latex": [
       "$$v{\\left (t \\right )} = - \\frac{\\alpha}{\\tanh{\\left (\\frac{\\alpha k}{m} \\left(C_{1} - t\\right) \\right )}}$$"
      ],
      "text/plain": [
       "              -α         \n",
       "v(t) = ──────────────────\n",
       "           ⎛α⋅k⋅(C₁ - t)⎞\n",
       "       tanh⎜────────────⎟\n",
       "           ⎝     m      ⎠"
      ]
     },
     "metadata": {},
     "output_type": "display_data"
    }
   ],
   "source": [
    "v = dsolve(eqn, v(t))\n",
    "display(v)"
   ]
  },
  {
   "cell_type": "markdown",
   "metadata": {},
   "source": [
    "SymPy can verify that an expression is a solution to an ODE:"
   ]
  },
  {
   "cell_type": "code",
   "execution_count": 11,
   "metadata": {},
   "outputs": [
    {
     "name": "stdout",
     "output_type": "stream",
     "text": [
      "Is v a solution to the ODE: (True, 0)\n"
     ]
    }
   ],
   "source": [
    "print(\"Is v a solution to the ODE: {}\".format(checkodesol(eqn, v)))"
   ]
  },
  {
   "cell_type": "markdown",
   "metadata": {},
   "source": [
    "Try adding the code to plot velocity $v$ against time $t$."
   ]
  }
 ],
 "metadata": {
  "celltoolbar": "Raw Cell Format",
  "kernelspec": {
   "display_name": "Python 3",
   "language": "python",
   "name": "python3"
  },
  "language_info": {
   "codemirror_mode": {
    "name": "ipython",
    "version": 3
   },
   "file_extension": ".py",
   "mimetype": "text/x-python",
   "name": "python",
   "nbconvert_exporter": "python",
   "pygments_lexer": "ipython3",
   "version": "3.6.3"
  },
  "widgets": {
   "application/vnd.jupyter.widget-state+json": {
    "state": {
     "05ef7dae7ed1410aac85a1e65b2065c9": {
      "model_module": "@jupyter-widgets/base",
      "model_module_version": "1.0.0",
      "model_name": "LayoutModel",
      "state": {}
     },
     "065e8c166a34405ab0c527625d5ba80e": {
      "model_module": "@jupyter-widgets/output",
      "model_module_version": "1.0.0",
      "model_name": "OutputModel",
      "state": {
       "layout": "IPY_MODEL_23687c2859224c428b80ca9592c1c5c9",
       "outputs": [
        {
         "ename": "ValueError",
         "evalue": "\nWhen a single argument is passed to subs it should be a dictionary of\nold: new pairs or an iterable of (old, new) tuples.",
         "output_type": "error",
         "traceback": [
          "\u001b[0;31m---------------------------------------------------------------------------\u001b[0m",
          "\u001b[0;31mValueError\u001b[0m                                Traceback (most recent call last)",
          "\u001b[0;32m~/.local/lib/python3.6/site-packages/ipywidgets/widgets/interaction.py\u001b[0m in \u001b[0;36mupdate\u001b[0;34m(self, *args)\u001b[0m\n\u001b[1;32m    248\u001b[0m                     \u001b[0mvalue\u001b[0m \u001b[0;34m=\u001b[0m \u001b[0mwidget\u001b[0m\u001b[0;34m.\u001b[0m\u001b[0mget_interact_value\u001b[0m\u001b[0;34m(\u001b[0m\u001b[0;34m)\u001b[0m\u001b[0;34m\u001b[0m\u001b[0m\n\u001b[1;32m    249\u001b[0m                     \u001b[0mself\u001b[0m\u001b[0;34m.\u001b[0m\u001b[0mkwargs\u001b[0m\u001b[0;34m[\u001b[0m\u001b[0mwidget\u001b[0m\u001b[0;34m.\u001b[0m\u001b[0m_kwarg\u001b[0m\u001b[0;34m]\u001b[0m \u001b[0;34m=\u001b[0m \u001b[0mvalue\u001b[0m\u001b[0;34m\u001b[0m\u001b[0m\n\u001b[0;32m--> 250\u001b[0;31m                 \u001b[0mself\u001b[0m\u001b[0;34m.\u001b[0m\u001b[0mresult\u001b[0m \u001b[0;34m=\u001b[0m \u001b[0mself\u001b[0m\u001b[0;34m.\u001b[0m\u001b[0mf\u001b[0m\u001b[0;34m(\u001b[0m\u001b[0;34m**\u001b[0m\u001b[0mself\u001b[0m\u001b[0;34m.\u001b[0m\u001b[0mkwargs\u001b[0m\u001b[0;34m)\u001b[0m\u001b[0;34m\u001b[0m\u001b[0m\n\u001b[0m\u001b[1;32m    251\u001b[0m                 \u001b[0mshow_inline_matplotlib_plots\u001b[0m\u001b[0;34m(\u001b[0m\u001b[0;34m)\u001b[0m\u001b[0;34m\u001b[0m\u001b[0m\n\u001b[1;32m    252\u001b[0m                 \u001b[0;32mif\u001b[0m \u001b[0mself\u001b[0m\u001b[0;34m.\u001b[0m\u001b[0mauto_display\u001b[0m \u001b[0;32mand\u001b[0m \u001b[0mself\u001b[0m\u001b[0;34m.\u001b[0m\u001b[0mresult\u001b[0m \u001b[0;32mis\u001b[0m \u001b[0;32mnot\u001b[0m \u001b[0;32mNone\u001b[0m\u001b[0;34m:\u001b[0m\u001b[0;34m\u001b[0m\u001b[0m\n",
          "\u001b[0;32m<ipython-input-12-c9e266be32ab>\u001b[0m in \u001b[0;36mplot_f\u001b[0;34m(ω, α)\u001b[0m\n\u001b[1;32m     11\u001b[0m \u001b[0;32mimport\u001b[0m \u001b[0mnumpy\u001b[0m \u001b[0;32mas\u001b[0m \u001b[0mnp\u001b[0m\u001b[0;34m\u001b[0m\u001b[0m\n\u001b[1;32m     12\u001b[0m \u001b[0;32mdef\u001b[0m \u001b[0mplot_f\u001b[0m\u001b[0;34m(\u001b[0m\u001b[0mω\u001b[0m\u001b[0;34m=\u001b[0m\u001b[0;36m1\u001b[0m\u001b[0;34m,\u001b[0m \u001b[0mα\u001b[0m\u001b[0;34m=\u001b[0m\u001b[0;36m0\u001b[0m\u001b[0;34m)\u001b[0m\u001b[0;34m:\u001b[0m\u001b[0;34m\u001b[0m\u001b[0m\n\u001b[0;32m---> 13\u001b[0;31m     \u001b[0mx1\u001b[0m \u001b[0;34m=\u001b[0m \u001b[0mx\u001b[0m\u001b[0;34m.\u001b[0m\u001b[0msubs\u001b[0m\u001b[0;34m(\u001b[0m\u001b[0mv0\u001b[0m\u001b[0;34m,\u001b[0m \u001b[0;36m100\u001b[0m\u001b[0;34m)\u001b[0m\u001b[0;34m\u001b[0m\u001b[0m\n\u001b[0m\u001b[1;32m     14\u001b[0m     \u001b[0mx1\u001b[0m \u001b[0;34m=\u001b[0m \u001b[0mx1\u001b[0m\u001b[0;34m.\u001b[0m\u001b[0msubs\u001b[0m\u001b[0;34m(\u001b[0m\u001b[0mtau\u001b[0m\u001b[0;34m,\u001b[0m \u001b[0;36m2\u001b[0m\u001b[0;34m)\u001b[0m\u001b[0;34m\u001b[0m\u001b[0m\n\u001b[1;32m     15\u001b[0m \u001b[0;34m\u001b[0m\u001b[0m\n",
          "\u001b[0;32m~/.local/lib/python3.6/site-packages/sympy/core/basic.py\u001b[0m in \u001b[0;36msubs\u001b[0;34m(self, *args, **kwargs)\u001b[0m\n\u001b[1;32m    851\u001b[0m                    \u001b[0mWhen\u001b[0m \u001b[0ma\u001b[0m \u001b[0msingle\u001b[0m \u001b[0margument\u001b[0m \u001b[0;32mis\u001b[0m \u001b[0mpassed\u001b[0m \u001b[0mto\u001b[0m \u001b[0msubs\u001b[0m\u001b[0;34m\u001b[0m\u001b[0m\n\u001b[1;32m    852\u001b[0m                    \u001b[0mit\u001b[0m \u001b[0mshould\u001b[0m \u001b[0mbe\u001b[0m \u001b[0ma\u001b[0m \u001b[0mdictionary\u001b[0m \u001b[0mof\u001b[0m \u001b[0mold\u001b[0m\u001b[0;34m:\u001b[0m \u001b[0mnew\u001b[0m \u001b[0mpairs\u001b[0m \u001b[0;32mor\u001b[0m \u001b[0man\u001b[0m \u001b[0miterable\u001b[0m\u001b[0;34m\u001b[0m\u001b[0m\n\u001b[0;32m--> 853\u001b[0;31m                    of (old, new) tuples.\"\"\"))\n\u001b[0m\u001b[1;32m    854\u001b[0m         \u001b[0;32melif\u001b[0m \u001b[0mlen\u001b[0m\u001b[0;34m(\u001b[0m\u001b[0margs\u001b[0m\u001b[0;34m)\u001b[0m \u001b[0;34m==\u001b[0m \u001b[0;36m2\u001b[0m\u001b[0;34m:\u001b[0m\u001b[0;34m\u001b[0m\u001b[0m\n\u001b[1;32m    855\u001b[0m             \u001b[0msequence\u001b[0m \u001b[0;34m=\u001b[0m \u001b[0;34m[\u001b[0m\u001b[0margs\u001b[0m\u001b[0;34m]\u001b[0m\u001b[0;34m\u001b[0m\u001b[0m\n",
          "\u001b[0;31mValueError\u001b[0m: \nWhen a single argument is passed to subs it should be a dictionary of\nold: new pairs or an iterable of (old, new) tuples."
         ]
        }
       ]
      }
     },
     "07a9f914ccbb432b8979ff29e3e1a507": {
      "model_module": "@jupyter-widgets/controls",
      "model_module_version": "1.0.0",
      "model_name": "SliderStyleModel",
      "state": {
       "description_width": ""
      }
     },
     "07c4af3734ac44d6b9f0d591c982479f": {
      "model_module": "@jupyter-widgets/controls",
      "model_module_version": "1.0.0",
      "model_name": "SliderStyleModel",
      "state": {
       "description_width": ""
      }
     },
     "07cb9f2db35444d7863f9e5998c1343a": {
      "model_module": "@jupyter-widgets/controls",
      "model_module_version": "1.0.0",
      "model_name": "SliderStyleModel",
      "state": {
       "description_width": ""
      }
     },
     "081da3a683a640fa9ef6542f8a16e929": {
      "model_module": "@jupyter-widgets/output",
      "model_module_version": "1.0.0",
      "model_name": "OutputModel",
      "state": {
       "layout": "IPY_MODEL_31224a8fce9f43499008d0da1c37180c",
       "outputs": [
        {
         "data": {
          "image/png": "iVBORw0KGgoAAAANSUhEUgAAAYoAAAEQCAYAAACugzM1AAAABHNCSVQICAgIfAhkiAAAAAlwSFlz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\nRIaloBARkWH9f8qr9Qq+CaqcAAAAAElFTkSuQmCC\n",
          "text/plain": "<matplotlib.figure.Figure at 0x7f30b7396b00>"
         },
         "metadata": {},
         "output_type": "display_data"
        }
       ]
      }
     },
     "08d656715bf24ea18124dca4494fe842": {
      "model_module": "@jupyter-widgets/controls",
      "model_module_version": "1.0.0",
      "model_name": "FloatSliderModel",
      "state": {
       "description": "τ",
       "layout": "IPY_MODEL_9e2ebfabca5d4ad7b32bc2b08a5a3da9",
       "max": 2,
       "min": 0.2,
       "step": 0.2,
       "style": "IPY_MODEL_3d9ee1df8df34d4a998c6445a6b9264e",
       "value": 1.2
      }
     },
     "08de6057e8a944bbb99a0dc8ea3c2484": {
      "model_module": "@jupyter-widgets/controls",
      "model_module_version": "1.0.0",
      "model_name": "IntSliderModel",
      "state": {
       "description": "v0",
       "layout": "IPY_MODEL_53e8ab57a02f422cb28dfbaa25b32ce4",
       "max": 3,
       "min": -1,
       "style": "IPY_MODEL_be72ec19c39948a0b144c7c7ca191fca",
       "value": 1
      }
     },
     "093a04ffd4be4304887ada9ab5c21c6e": {
      "model_module": "@jupyter-widgets/base",
      "model_module_version": "1.0.0",
      "model_name": "LayoutModel",
      "state": {}
     },
     "09540058f01a4e99909d924a359c5381": {
      "model_module": "@jupyter-widgets/base",
      "model_module_version": "1.0.0",
      "model_name": "LayoutModel",
      "state": {}
     },
     "09556fb744204970a9db65b34c1506f4": {
      "model_module": "@jupyter-widgets/controls",
      "model_module_version": "1.0.0",
      "model_name": "VBoxModel",
      "state": {
       "_dom_classes": [
        "widget-interact"
       ],
       "children": [
        "IPY_MODEL_45222fa6cddb4d938dcbab7bfc2385b9",
        "IPY_MODEL_39afa789855c4c5db72fc80b29613da7",
        "IPY_MODEL_50ea55cbdfda4a57b931a35e75da51f9"
       ],
       "layout": "IPY_MODEL_8a12082d2a7545b5a8cf3ee59fe2ddbe"
      }
     },
     "0b92f6d4fc7f4c7297dd5c470c2bc11f": {
      "model_module": "@jupyter-widgets/base",
      "model_module_version": "1.0.0",
      "model_name": "LayoutModel",
      "state": {}
     },
     "0c47d93799de4b2d967e1c442727df21": {
      "model_module": "@jupyter-widgets/base",
      "model_module_version": "1.0.0",
      "model_name": "LayoutModel",
      "state": {}
     },
     "0d9d995618b24596b5a65f48acb10fc0": {
      "model_module": "@jupyter-widgets/controls",
      "model_module_version": "1.0.0",
      "model_name": "SliderStyleModel",
      "state": {
       "description_width": ""
      }
     },
     "0e08ea5aaebc4a6b86245e1569971f8b": {
      "model_module": "@jupyter-widgets/controls",
      "model_module_version": "1.0.0",
      "model_name": "SliderStyleModel",
      "state": {
       "description_width": ""
      }
     },
     "0e3c738626d849dabebe1944ff36fdd8": {
      "model_module": "@jupyter-widgets/base",
      "model_module_version": "1.0.0",
      "model_name": "LayoutModel",
      "state": {}
     },
     "0f31bb493cdd4795a54c1d999cf56bcd": {
      "model_module": "@jupyter-widgets/base",
      "model_module_version": "1.0.0",
      "model_name": "LayoutModel",
      "state": {}
     },
     "0f5cf1597c5c4ca7b47430102a12b01d": {
      "model_module": "@jupyter-widgets/controls",
      "model_module_version": "1.0.0",
      "model_name": "SliderStyleModel",
      "state": {
       "description_width": ""
      }
     },
     "101ba22da3fa496db09abb305c1ebc57": {
      "model_module": "@jupyter-widgets/controls",
      "model_module_version": "1.0.0",
      "model_name": "VBoxModel",
      "state": {
       "_dom_classes": [
        "widget-interact"
       ],
       "children": [
        "IPY_MODEL_d74bdafb8a4d4198ae64262e0850c865",
        "IPY_MODEL_cc087ee59607422387d76402b2b63b87",
        "IPY_MODEL_704d4422cc044ee891c192f6b9b09dd4"
       ],
       "layout": "IPY_MODEL_c661fd207b3e422cb73197a0d60c917f"
      }
     },
     "103a9f03efd94b4ea6c6ce6a6334a863": {
      "model_module": "@jupyter-widgets/output",
      "model_module_version": "1.0.0",
      "model_name": "OutputModel",
      "state": {
       "layout": "IPY_MODEL_c1341214923f46058cb82fcfc417cb1b",
       "outputs": [
        {
         "name": "stdout",
         "output_type": "stream",
         "text": "Eq(x(t), 200 - 200*exp(-t/2))\nEq(x(t), 200 - 200*exp(-t/2))\nEq(x(t), 200 - 200*exp(-t/2))\nEq(x(t), 200 - 200*exp(-t/2))\nEq(x(t), 200 - 200*exp(-t/2))\nEq(x(t), 200 - 200*exp(-t/2))\nEq(x(t), 200 - 200*exp(-t/2))\nEq(x(t), 200 - 200*exp(-t/2))\nEq(x(t), 200 - 200*exp(-t/2))\nEq(x(t), 200 - 200*exp(-t/2))\nEq(x(t), 200 - 200*exp(-t/2))\nEq(x(t), 200 - 200*exp(-t/2))\nEq(x(t), 200 - 200*exp(-t/2))\nEq(x(t), 200 - 200*exp(-t/2))\nEq(x(t), 200 - 200*exp(-t/2))\nEq(x(t), 200 - 200*exp(-t/2))\nEq(x(t), 200 - 200*exp(-t/2))\nEq(x(t), 200 - 200*exp(-t/2))\nEq(x(t), 200 - 200*exp(-t/2))\nEq(x(t), 200 - 200*exp(-t/2))\nEq(x(t), 200 - 200*exp(-t/2))\nEq(x(t), 200 - 200*exp(-t/2))\nEq(x(t), 200 - 200*exp(-t/2))\nEq(x(t), 200 - 200*exp(-t/2))\nEq(x(t), 200 - 200*exp(-t/2))\nEq(x(t), 200 - 200*exp(-t/2))\nEq(x(t), 200 - 200*exp(-t/2))\nEq(x(t), 200 - 200*exp(-t/2))\nEq(x(t), 200 - 200*exp(-t/2))\nEq(x(t), 200 - 200*exp(-t/2))\nEq(x(t), 200 - 200*exp(-t/2))\nEq(x(t), 200 - 200*exp(-t/2))\nEq(x(t), 200 - 200*exp(-t/2))\nEq(x(t), 200 - 200*exp(-t/2))\nEq(x(t), 200 - 200*exp(-t/2))\nEq(x(t), 200 - 200*exp(-t/2))\nEq(x(t), 200 - 200*exp(-t/2))\nEq(x(t), 200 - 200*exp(-t/2))\nEq(x(t), 200 - 200*exp(-t/2))\nEq(x(t), 200 - 200*exp(-t/2))\nEq(x(t), 200 - 200*exp(-t/2))\nEq(x(t), 200 - 200*exp(-t/2))\nEq(x(t), 200 - 200*exp(-t/2))\nEq(x(t), 200 - 200*exp(-t/2))\nEq(x(t), 200 - 200*exp(-t/2))\nEq(x(t), 200 - 200*exp(-t/2))\nEq(x(t), 200 - 200*exp(-t/2))\nEq(x(t), 200 - 200*exp(-t/2))\nEq(x(t), 200 - 200*exp(-t/2))\nEq(x(t), 200 - 200*exp(-t/2))\nEq(x(t), 200 - 200*exp(-t/2))\nEq(x(t), 200 - 200*exp(-t/2))\nEq(x(t), 200 - 200*exp(-t/2))\nEq(x(t), 200 - 200*exp(-t/2))\nEq(x(t), 200 - 200*exp(-t/2))\nEq(x(t), 200 - 200*exp(-t/2))\nEq(x(t), 200 - 200*exp(-t/2))\nEq(x(t), 200 - 200*exp(-t/2))\nEq(x(t), 200 - 200*exp(-t/2))\nEq(x(t), 200 - 200*exp(-t/2))\nEq(x(t), 200 - 200*exp(-t/2))\nEq(x(t), 200 - 200*exp(-t/2))\nEq(x(t), 200 - 200*exp(-t/2))\nEq(x(t), 200 - 200*exp(-t/2))\nEq(x(t), 200 - 200*exp(-t/2))\nEq(x(t), 200 - 200*exp(-t/2))\nEq(x(t), 200 - 200*exp(-t/2))\nEq(x(t), 200 - 200*exp(-t/2))\nEq(x(t), 200 - 200*exp(-t/2))\nEq(x(t), 200 - 200*exp(-t/2))\nEq(x(t), 200 - 200*exp(-t/2))\nEq(x(t), 200 - 200*exp(-t/2))\nEq(x(t), 200 - 200*exp(-t/2))\nEq(x(t), 200 - 200*exp(-t/2))\nEq(x(t), 200 - 200*exp(-t/2))\nEq(x(t), 200 - 200*exp(-t/2))\nEq(x(t), 200 - 200*exp(-t/2))\nEq(x(t), 200 - 200*exp(-t/2))\nEq(x(t), 200 - 200*exp(-t/2))\nEq(x(t), 200 - 200*exp(-t/2))\nEq(x(t), 200 - 200*exp(-t/2))\nEq(x(t), 200 - 200*exp(-t/2))\nEq(x(t), 200 - 200*exp(-t/2))\nEq(x(t), 200 - 200*exp(-t/2))\nEq(x(t), 200 - 200*exp(-t/2))\nEq(x(t), 200 - 200*exp(-t/2))\nEq(x(t), 200 - 200*exp(-t/2))\nEq(x(t), 200 - 200*exp(-t/2))\nEq(x(t), 200 - 200*exp(-t/2))\nEq(x(t), 200 - 200*exp(-t/2))\nEq(x(t), 200 - 200*exp(-t/2))\nEq(x(t), 200 - 200*exp(-t/2))\nEq(x(t), 200 - 200*exp(-t/2))\nEq(x(t), 200 - 200*exp(-t/2))\nEq(x(t), 200 - 200*exp(-t/2))\nEq(x(t), 200 - 200*exp(-t/2))\nEq(x(t), 200 - 200*exp(-t/2))\nEq(x(t), 200 - 200*exp(-t/2))\nEq(x(t), 200 - 200*exp(-t/2))\nEq(x(t), 200 - 200*exp(-t/2))\nEq(x(t), 200 - 200*exp(-t/2))\nEq(x(t), 200 - 200*exp(-t/2))\nEq(x(t), 200 - 200*exp(-t/2))\nEq(x(t), 200 - 200*exp(-t/2))\nEq(x(t), 200 - 200*exp(-t/2))\nEq(x(t), 200 - 200*exp(-t/2))\nEq(x(t), 200 - 200*exp(-t/2))\nEq(x(t), 200 - 200*exp(-t/2))\nEq(x(t), 200 - 200*exp(-t/2))\nEq(x(t), 200 - 200*exp(-t/2))\nEq(x(t), 200 - 200*exp(-t/2))\nEq(x(t), 200 - 200*exp(-t/2))\nEq(x(t), 200 - 200*exp(-t/2))\nEq(x(t), 200 - 200*exp(-t/2))\nEq(x(t), 200 - 200*exp(-t/2))\nEq(x(t), 200 - 200*exp(-t/2))\nEq(x(t), 200 - 200*exp(-t/2))\nEq(x(t), 200 - 200*exp(-t/2))\nEq(x(t), 200 - 200*exp(-t/2))\nEq(x(t), 200 - 200*exp(-t/2))\nEq(x(t), 200 - 200*exp(-t/2))\nEq(x(t), 200 - 200*exp(-t/2))\nEq(x(t), 200 - 200*exp(-t/2))\nEq(x(t), 200 - 200*exp(-t/2))\nEq(x(t), 200 - 200*exp(-t/2))\nEq(x(t), 200 - 200*exp(-t/2))\nEq(x(t), 200 - 200*exp(-t/2))\nEq(x(t), 200 - 200*exp(-t/2))\nEq(x(t), 200 - 200*exp(-t/2))\nEq(x(t), 200 - 200*exp(-t/2))\nEq(x(t), 200 - 200*exp(-t/2))\nEq(x(t), 200 - 200*exp(-t/2))\nEq(x(t), 200 - 200*exp(-t/2))\nEq(x(t), 200 - 200*exp(-t/2))\nEq(x(t), 200 - 200*exp(-t/2))\nEq(x(t), 200 - 200*exp(-t/2))\nEq(x(t), 200 - 200*exp(-t/2))\nEq(x(t), 200 - 200*exp(-t/2))\nEq(x(t), 200 - 200*exp(-t/2))\nEq(x(t), 200 - 200*exp(-t/2))\nEq(x(t), 200 - 200*exp(-t/2))\nEq(x(t), 200 - 200*exp(-t/2))\nEq(x(t), 200 - 200*exp(-t/2))\nEq(x(t), 200 - 200*exp(-t/2))\nEq(x(t), 200 - 200*exp(-t/2))\nEq(x(t), 200 - 200*exp(-t/2))\nEq(x(t), 200 - 200*exp(-t/2))\nEq(x(t), 200 - 200*exp(-t/2))\nEq(x(t), 200 - 200*exp(-t/2))\nEq(x(t), 200 - 200*exp(-t/2))\nEq(x(t), 200 - 200*exp(-t/2))\nEq(x(t), 200 - 200*exp(-t/2))\nEq(x(t), 200 - 200*exp(-t/2))\nEq(x(t), 200 - 200*exp(-t/2))\nEq(x(t), 200 - 200*exp(-t/2))\nEq(x(t), 200 - 200*exp(-t/2))\nEq(x(t), 200 - 200*exp(-t/2))\nEq(x(t), 200 - 200*exp(-t/2))\nEq(x(t), 200 - 200*exp(-t/2))\nEq(x(t), 200 - 200*exp(-t/2))\nEq(x(t), 200 - 200*exp(-t/2))\nEq(x(t), 200 - 200*exp(-t/2))\nEq(x(t), 200 - 200*exp(-t/2))\nEq(x(t), 200 - 200*exp(-t/2))\nEq(x(t), 200 - 200*exp(-t/2))\nEq(x(t), 200 - 200*exp(-t/2))\nEq(x(t), 200 - 200*exp(-t/2))\nEq(x(t), 200 - 200*exp(-t/2))\nEq(x(t), 200 - 200*exp(-t/2))\nEq(x(t), 200 - 200*exp(-t/2))\nEq(x(t), 200 - 200*exp(-t/2))\nEq(x(t), 200 - 200*exp(-t/2))\nEq(x(t), 200 - 200*exp(-t/2))\nEq(x(t), 200 - 200*exp(-t/2))\nEq(x(t), 200 - 200*exp(-t/2))\nEq(x(t), 200 - 200*exp(-t/2))\nEq(x(t), 200 - 200*exp(-t/2))\nEq(x(t), 200 - 200*exp(-t/2))\nEq(x(t), 200 - 200*exp(-t/2))\nEq(x(t), 200 - 200*exp(-t/2))\nEq(x(t), 200 - 200*exp(-t/2))\nEq(x(t), 200 - 200*exp(-t/2))\nEq(x(t), 200 - 200*exp(-t/2))\nEq(x(t), 200 - 200*exp(-t/2))\nEq(x(t), 200 - 200*exp(-t/2))\nEq(x(t), 200 - 200*exp(-t/2))\nEq(x(t), 200 - 200*exp(-t/2))\nEq(x(t), 200 - 200*exp(-t/2))\nEq(x(t), 200 - 200*exp(-t/2))\nEq(x(t), 200 - 200*exp(-t/2))\nEq(x(t), 200 - 200*exp(-t/2))\nEq(x(t), 200 - 200*exp(-t/2))\nEq(x(t), 200 - 200*exp(-t/2))\nEq(x(t), 200 - 200*exp(-t/2))\nEq(x(t), 200 - 200*exp(-t/2))\nEq(x(t), 200 - 200*exp(-t/2))\nEq(x(t), 200 - 200*exp(-t/2))\nEq(x(t), 200 - 200*exp(-t/2))\nEq(x(t), 200 - 200*exp(-t/2))\nEq(x(t), 200 - 200*exp(-t/2))\nEq(x(t), 200 - 200*exp(-t/2))\nEq(x(t), 200 - 200*exp(-t/2))\nEq(x(t), 200 - 200*exp(-t/2))\nEq(x(t), 200 - 200*exp(-t/2))\nEq(x(t), 200 - 200*exp(-t/2))\nEq(x(t), 200 - 200*exp(-t/2))\nEq(x(t), 200 - 200*exp(-t/2))\nEq(x(t), 200 - 200*exp(-t/2))\nEq(x(t), 200 - 200*exp(-t/2))\nEq(x(t), 200 - 200*exp(-t/2))\nEq(x(t), 200 - 200*exp(-t/2))\nEq(x(t), 200 - 200*exp(-t/2))\nEq(x(t), 200 - 200*exp(-t/2))\nEq(x(t), 200 - 200*exp(-t/2))\nEq(x(t), 200 - 200*exp(-t/2))\nEq(x(t), 200 - 200*exp(-t/2))\nEq(x(t), 200 - 200*exp(-t/2))\nEq(x(t), 200 - 200*exp(-t/2))\nEq(x(t), 200 - 200*exp(-t/2))\nEq(x(t), 200 - 200*exp(-t/2))\nEq(x(t), 200 - 200*exp(-t/2))\nEq(x(t), 200 - 200*exp(-t/2))\nEq(x(t), 200 - 200*exp(-t/2))\nEq(x(t), 200 - 200*exp(-t/2))\nEq(x(t), 200 - 200*exp(-t/2))\nEq(x(t), 200 - 200*exp(-t/2))\nEq(x(t), 200 - 200*exp(-t/2))\nEq(x(t), 200 - 200*exp(-t/2))\nEq(x(t), 200 - 200*exp(-t/2))\nEq(x(t), 200 - 200*exp(-t/2))\nEq(x(t), 200 - 200*exp(-t/2))\nEq(x(t), 200 - 200*exp(-t/2))\nEq(x(t), 200 - 200*exp(-t/2))\nEq(x(t), 200 - 200*exp(-t/2))\nEq(x(t), 200 - 200*exp(-t/2))\nEq(x(t), 200 - 200*exp(-t/2))\nEq(x(t), 200 - 200*exp(-t/2))\nEq(x(t), 200 - 200*exp(-t/2))\nEq(x(t), 200 - 200*exp(-t/2))\nEq(x(t), 200 - 200*exp(-t/2))\nEq(x(t), 200 - 200*exp(-t/2))\nEq(x(t), 200 - 200*exp(-t/2))\nEq(x(t), 200 - 200*exp(-t/2))\nEq(x(t), 200 - 200*exp(-t/2))\nEq(x(t), 200 - 200*exp(-t/2))\nEq(x(t), 200 - 200*exp(-t/2))\nEq(x(t), 200 - 200*exp(-t/2))\nEq(x(t), 200 - 200*exp(-t/2))\nEq(x(t), 200 - 200*exp(-t/2))\nEq(x(t), 200 - 200*exp(-t/2))\nEq(x(t), 200 - 200*exp(-t/2))\nEq(x(t), 200 - 200*exp(-t/2))\nEq(x(t), 200 - 200*exp(-t/2))\nEq(x(t), 200 - 200*exp(-t/2))\nEq(x(t), 200 - 200*exp(-t/2))\nEq(x(t), 200 - 200*exp(-t/2))\nEq(x(t), 200 - 200*exp(-t/2))\nEq(x(t), 200 - 200*exp(-t/2))\nEq(x(t), 200 - 200*exp(-t/2))\nEq(x(t), 200 - 200*exp(-t/2))\nEq(x(t), 200 - 200*exp(-t/2))\nEq(x(t), 200 - 200*exp(-t/2))\nEq(x(t), 200 - 200*exp(-t/2))\nEq(x(t), 200 - 200*exp(-t/2))\nEq(x(t), 200 - 200*exp(-t/2))\nEq(x(t), 200 - 200*exp(-t/2))\nEq(x(t), 200 - 200*exp(-t/2))\nEq(x(t), 200 - 200*exp(-t/2))\nEq(x(t), 200 - 200*exp(-t/2))\nEq(x(t), 200 - 200*exp(-t/2))\nEq(x(t), 200 - 200*exp(-t/2))\nEq(x(t), 200 - 200*exp(-t/2))\nEq(x(t), 200 - 200*exp(-t/2))\nEq(x(t), 200 - 200*exp(-t/2))\nEq(x(t), 200 - 200*exp(-t/2))\nEq(x(t), 200 - 200*exp(-t/2))\nEq(x(t), 200 - 200*exp(-t/2))\nEq(x(t), 200 - 200*exp(-t/2))\nEq(x(t), 200 - 200*exp(-t/2))\nEq(x(t), 200 - 200*exp(-t/2))\nEq(x(t), 200 - 200*exp(-t/2))\nEq(x(t), 200 - 200*exp(-t/2))\nEq(x(t), 200 - 200*exp(-t/2))\nEq(x(t), 200 - 200*exp(-t/2))\nEq(x(t), 200 - 200*exp(-t/2))\nEq(x(t), 200 - 200*exp(-t/2))\nEq(x(t), 200 - 200*exp(-t/2))\nEq(x(t), 200 - 200*exp(-t/2))\nEq(x(t), 200 - 200*exp(-t/2))\nEq(x(t), 200 - 200*exp(-t/2))\nEq(x(t), 200 - 200*exp(-t/2))\nEq(x(t), 200 - 200*exp(-t/2))\nEq(x(t), 200 - 200*exp(-t/2))\nEq(x(t), 200 - 200*exp(-t/2))\nEq(x(t), 200 - 200*exp(-t/2))\nEq(x(t), 200 - 200*exp(-t/2))\nEq(x(t), 200 - 200*exp(-t/2))\nEq(x(t), 200 - 200*exp(-t/2))\nEq(x(t), 200 - 200*exp(-t/2))\nEq(x(t), 200 - 200*exp(-t/2))\nEq(x(t), 200 - 200*exp(-t/2))\nEq(x(t), 200 - 200*exp(-t/2))\nEq(x(t), 200 - 200*exp(-t/2))\nEq(x(t), 200 - 200*exp(-t/2))\nEq(x(t), 200 - 200*exp(-t/2))\nEq(x(t), 200 - 200*exp(-t/2))\nEq(x(t), 200 - 200*exp(-t/2))\nEq(x(t), 200 - 200*exp(-t/2))\nEq(x(t), 200 - 200*exp(-t/2))\nEq(x(t), 200 - 200*exp(-t/2))\nEq(x(t), 200 - 200*exp(-t/2))\nEq(x(t), 200 - 200*exp(-t/2))\nEq(x(t), 200 - 200*exp(-t/2))\nEq(x(t), 200 - 200*exp(-t/2))\nEq(x(t), 200 - 200*exp(-t/2))\nEq(x(t), 200 - 200*exp(-t/2))\nEq(x(t), 200 - 200*exp(-t/2))\nEq(x(t), 200 - 200*exp(-t/2))\nEq(x(t), 200 - 200*exp(-t/2))\nEq(x(t), 200 - 200*exp(-t/2))\nEq(x(t), 200 - 200*exp(-t/2))\nEq(x(t), 200 - 200*exp(-t/2))\nEq(x(t), 200 - 200*exp(-t/2))\nEq(x(t), 200 - 200*exp(-t/2))\nEq(x(t), 200 - 200*exp(-t/2))\nEq(x(t), 200 - 200*exp(-t/2))\nEq(x(t), 200 - 200*exp(-t/2))\nEq(x(t), 200 - 200*exp(-t/2))\nEq(x(t), 200 - 200*exp(-t/2))\nEq(x(t), 200 - 200*exp(-t/2))\nEq(x(t), 200 - 200*exp(-t/2))\nEq(x(t), 200 - 200*exp(-t/2))\nEq(x(t), 200 - 200*exp(-t/2))\nEq(x(t), 200 - 200*exp(-t/2))\nEq(x(t), 200 - 200*exp(-t/2))\nEq(x(t), 200 - 200*exp(-t/2))\nEq(x(t), 200 - 200*exp(-t/2))\nEq(x(t), 200 - 200*exp(-t/2))\nEq(x(t), 200 - 200*exp(-t/2))\nEq(x(t), 200 - 200*exp(-t/2))\nEq(x(t), 200 - 200*exp(-t/2))\nEq(x(t), 200 - 200*exp(-t/2))\nEq(x(t), 200 - 200*exp(-t/2))\nEq(x(t), 200 - 200*exp(-t/2))\nEq(x(t), 200 - 200*exp(-t/2))\nEq(x(t), 200 - 200*exp(-t/2))\nEq(x(t), 200 - 200*exp(-t/2))\nEq(x(t), 200 - 200*exp(-t/2))\nEq(x(t), 200 - 200*exp(-t/2))\nEq(x(t), 200 - 200*exp(-t/2))\nEq(x(t), 200 - 200*exp(-t/2))\nEq(x(t), 200 - 200*exp(-t/2))\nEq(x(t), 200 - 200*exp(-t/2))\nEq(x(t), 200 - 200*exp(-t/2))\nEq(x(t), 200 - 200*exp(-t/2))\nEq(x(t), 200 - 200*exp(-t/2))\nEq(x(t), 200 - 200*exp(-t/2))\nEq(x(t), 200 - 200*exp(-t/2))\nEq(x(t), 200 - 200*exp(-t/2))\nEq(x(t), 200 - 200*exp(-t/2))\nEq(x(t), 200 - 200*exp(-t/2))\nEq(x(t), 200 - 200*exp(-t/2))\nEq(x(t), 200 - 200*exp(-t/2))\nEq(x(t), 200 - 200*exp(-t/2))\nEq(x(t), 200 - 200*exp(-t/2))\nEq(x(t), 200 - 200*exp(-t/2))\nEq(x(t), 200 - 200*exp(-t/2))\nEq(x(t), 200 - 200*exp(-t/2))\nEq(x(t), 200 - 200*exp(-t/2))\nEq(x(t), 200 - 200*exp(-t/2))\nEq(x(t), 200 - 200*exp(-t/2))\nEq(x(t), 200 - 200*exp(-t/2))\nEq(x(t), 200 - 200*exp(-t/2))\nEq(x(t), 200 - 200*exp(-t/2))\nEq(x(t), 200 - 200*exp(-t/2))\nEq(x(t), 200 - 200*exp(-t/2))\nEq(x(t), 200 - 200*exp(-t/2))\nEq(x(t), 200 - 200*exp(-t/2))\nEq(x(t), 200 - 200*exp(-t/2))\nEq(x(t), 200 - 200*exp(-t/2))\nEq(x(t), 200 - 200*exp(-t/2))\nEq(x(t), 200 - 200*exp(-t/2))\nEq(x(t), 200 - 200*exp(-t/2))\nEq(x(t), 200 - 200*exp(-t/2))\nEq(x(t), 200 - 200*exp(-t/2))\nEq(x(t), 200 - 200*exp(-t/2))\nEq(x(t), 200 - 200*exp(-t/2))\nEq(x(t), 200 - 200*exp(-t/2))\nEq(x(t), 200 - 200*exp(-t/2))\nEq(x(t), 200 - 200*exp(-t/2))\nEq(x(t), 200 - 200*exp(-t/2))\nEq(x(t), 200 - 200*exp(-t/2))\nEq(x(t), 200 - 200*exp(-t/2))\nEq(x(t), 200 - 200*exp(-t/2))\nEq(x(t), 200 - 200*exp(-t/2))\nEq(x(t), 200 - 200*exp(-t/2))\nEq(x(t), 200 - 200*exp(-t/2))\nEq(x(t), 200 - 200*exp(-t/2))\nEq(x(t), 200 - 200*exp(-t/2))\nEq(x(t), 200 - 200*exp(-t/2))\nEq(x(t), 200 - 200*exp(-t/2))\nEq(x(t), 200 - 200*exp(-t/2))\nEq(x(t), 200 - 200*exp(-t/2))\nEq(x(t), 200 - 200*exp(-t/2))\nEq(x(t), 200 - 200*exp(-t/2))\nEq(x(t), 200 - 200*exp(-t/2))\nEq(x(t), 200 - 200*exp(-t/2))\nEq(x(t), 200 - 200*exp(-t/2))\nEq(x(t), 200 - 200*exp(-t/2))\nEq(x(t), 200 - 200*exp(-t/2))\nEq(x(t), 200 - 200*exp(-t/2))\nEq(x(t), 200 - 200*exp(-t/2))\nEq(x(t), 200 - 200*exp(-t/2))\nEq(x(t), 200 - 200*exp(-t/2))\nEq(x(t), 200 - 200*exp(-t/2))\nEq(x(t), 200 - 200*exp(-t/2))\nEq(x(t), 200 - 200*exp(-t/2))\nEq(x(t), 200 - 200*exp(-t/2))\nEq(x(t), 200 - 200*exp(-t/2))\nEq(x(t), 200 - 200*exp(-t/2))\nEq(x(t), 200 - 200*exp(-t/2))\nEq(x(t), 200 - 200*exp(-t/2))\nEq(x(t), 200 - 200*exp(-t/2))\nEq(x(t), 200 - 200*exp(-t/2))\nEq(x(t), 200 - 200*exp(-t/2))\nEq(x(t), 200 - 200*exp(-t/2))\nEq(x(t), 200 - 200*exp(-t/2))\nEq(x(t), 200 - 200*exp(-t/2))\nEq(x(t), 200 - 200*exp(-t/2))\nEq(x(t), 200 - 200*exp(-t/2))\nEq(x(t), 200 - 200*exp(-t/2))\nEq(x(t), 200 - 200*exp(-t/2))\nEq(x(t), 200 - 200*exp(-t/2))\nEq(x(t), 200 - 200*exp(-t/2))\nEq(x(t), 200 - 200*exp(-t/2))\nEq(x(t), 200 - 200*exp(-t/2))\nEq(x(t), 200 - 200*exp(-t/2))\nEq(x(t), 200 - 200*exp(-t/2))\nEq(x(t), 200 - 200*exp(-t/2))\nEq(x(t), 200 - 200*exp(-t/2))\nEq(x(t), 200 - 200*exp(-t/2))\nEq(x(t), 200 - 200*exp(-t/2))\nEq(x(t), 200 - 200*exp(-t/2))\nEq(x(t), 200 - 200*exp(-t/2))\nEq(x(t), 200 - 200*exp(-t/2))\nEq(x(t), 200 - 200*exp(-t/2))\nEq(x(t), 200 - 200*exp(-t/2))\nEq(x(t), 200 - 200*exp(-t/2))\nEq(x(t), 200 - 200*exp(-t/2))\nEq(x(t), 200 - 200*exp(-t/2))\nEq(x(t), 200 - 200*exp(-t/2))\nEq(x(t), 200 - 200*exp(-t/2))\nEq(x(t), 200 - 200*exp(-t/2))\nEq(x(t), 200 - 200*exp(-t/2))\nEq(x(t), 200 - 200*exp(-t/2))\nEq(x(t), 200 - 200*exp(-t/2))\nEq(x(t), 200 - 200*exp(-t/2))\nEq(x(t), 200 - 200*exp(-t/2))\nEq(x(t), 200 - 200*exp(-t/2))\nEq(x(t), 200 - 200*exp(-t/2))\nEq(x(t), 200 - 200*exp(-t/2))\nEq(x(t), 200 - 200*exp(-t/2))\nEq(x(t), 200 - 200*exp(-t/2))\nEq(x(t), 200 - 200*exp(-t/2))\nEq(x(t), 200 - 200*exp(-t/2))\nEq(x(t), 200 - 200*exp(-t/2))\nEq(x(t), 200 - 200*exp(-t/2))\nEq(x(t), 200 - 200*exp(-t/2))\nEq(x(t), 200 - 200*exp(-t/2))\nEq(x(t), 200 - 200*exp(-t/2))\nEq(x(t), 200 - 200*exp(-t/2))\nEq(x(t), 200 - 200*exp(-t/2))\nEq(x(t), 200 - 200*exp(-t/2))\nEq(x(t), 200 - 200*exp(-t/2))\nEq(x(t), 200 - 200*exp(-t/2))\nEq(x(t), 200 - 200*exp(-t/2))\nEq(x(t), 200 - 200*exp(-t/2))\nEq(x(t), 200 - 200*exp(-t/2))\nEq(x(t), 200 - 200*exp(-t/2))\nEq(x(t), 200 - 200*exp(-t/2))\nEq(x(t), 200 - 200*exp(-t/2))\nEq(x(t), 200 - 200*exp(-t/2))\nEq(x(t), 200 - 200*exp(-t/2))\nEq(x(t), 200 - 200*exp(-t/2))\nEq(x(t), 200 - 200*exp(-t/2))\nEq(x(t), 200 - 200*exp(-t/2))\nEq(x(t), 200 - 200*exp(-t/2))\nEq(x(t), 200 - 200*exp(-t/2))\nEq(x(t), 200 - 200*exp(-t/2))\nEq(x(t), 200 - 200*exp(-t/2))\nEq(x(t), 200 - 200*exp(-t/2))\nEq(x(t), 200 - 200*exp(-t/2))\nEq(x(t), 200 - 200*exp(-t/2))\nEq(x(t), 200 - 200*exp(-t/2))\nEq(x(t), 200 - 200*exp(-t/2))\nEq(x(t), 200 - 200*exp(-t/2))\nEq(x(t), 200 - 200*exp(-t/2))\nEq(x(t), 200 - 200*exp(-t/2))\nEq(x(t), 200 - 200*exp(-t/2))\nEq(x(t), 200 - 200*exp(-t/2))\nEq(x(t), 200 - 200*exp(-t/2))\nEq(x(t), 200 - 200*exp(-t/2))\nEq(x(t), 200 - 200*exp(-t/2))\nEq(x(t), 200 - 200*exp(-t/2))\nEq(x(t), 200 - 200*exp(-t/2))\nEq(x(t), 200 - 200*exp(-t/2))\nEq(x(t), 200 - 200*exp(-t/2))\nEq(x(t), 200 - 200*exp(-t/2))\nEq(x(t), 200 - 200*exp(-t/2))\nEq(x(t), 200 - 200*exp(-t/2))\nEq(x(t), 200 - 200*exp(-t/2))\nEq(x(t), 200 - 200*exp(-t/2))\nEq(x(t), 200 - 200*exp(-t/2))\nEq(x(t), 200 - 200*exp(-t/2))\nEq(x(t), 200 - 200*exp(-t/2))\nEq(x(t), 200 - 200*exp(-t/2))\nEq(x(t), 200 - 200*exp(-t/2))\nEq(x(t), 200 - 200*exp(-t/2))\nEq(x(t), 200 - 200*exp(-t/2))\nEq(x(t), 200 - 200*exp(-t/2))\nEq(x(t), 200 - 200*exp(-t/2))\nEq(x(t), 200 - 200*exp(-t/2))\nEq(x(t), 200 - 200*exp(-t/2))\nEq(x(t), 200 - 200*exp(-t/2))\nEq(x(t), 200 - 200*exp(-t/2))\nEq(x(t), 200 - 200*exp(-t/2))\nEq(x(t), 200 - 200*exp(-t/2))\nEq(x(t), 200 - 200*exp(-t/2))\nEq(x(t), 200 - 200*exp(-t/2))\nEq(x(t), 200 - 200*exp(-t/2))\nEq(x(t), 200 - 200*exp(-t/2))\nEq(x(t), 200 - 200*exp(-t/2))\nEq(x(t), 200 - 200*exp(-t/2))\nEq(x(t), 200 - 200*exp(-t/2))\nEq(x(t), 200 - 200*exp(-t/2))\nEq(x(t), 200 - 200*exp(-t/2))\nEq(x(t), 200 - 200*exp(-t/2))\nEq(x(t), 200 - 200*exp(-t/2))\nEq(x(t), 200 - 200*exp(-t/2))\nEq(x(t), 200 - 200*exp(-t/2))\nEq(x(t), 200 - 200*exp(-t/2))\nEq(x(t), 200 - 200*exp(-t/2))\nEq(x(t), 200 - 200*exp(-t/2))\nEq(x(t), 200 - 200*exp(-t/2))\nEq(x(t), 200 - 200*exp(-t/2))\nEq(x(t), 200 - 200*exp(-t/2))\nEq(x(t), 200 - 200*exp(-t/2))\nEq(x(t), 200 - 200*exp(-t/2))\nEq(x(t), 200 - 200*exp(-t/2))\nEq(x(t), 200 - 200*exp(-t/2))\nEq(x(t), 200 - 200*exp(-t/2))\nEq(x(t), 200 - 200*exp(-t/2))\nEq(x(t), 200 - 200*exp(-t/2))\nEq(x(t), 200 - 200*exp(-t/2))\nEq(x(t), 200 - 200*exp(-t/2))\nEq(x(t), 200 - 200*exp(-t/2))\nEq(x(t), 200 - 200*exp(-t/2))\nEq(x(t), 200 - 200*exp(-t/2))\nEq(x(t), 200 - 200*exp(-t/2))\nEq(x(t), 200 - 200*exp(-t/2))\nEq(x(t), 200 - 200*exp(-t/2))\nEq(x(t), 200 - 200*exp(-t/2))\nEq(x(t), 200 - 200*exp(-t/2))\nEq(x(t), 200 - 200*exp(-t/2))\nEq(x(t), 200 - 200*exp(-t/2))\nEq(x(t), 200 - 200*exp(-t/2))\nEq(x(t), 200 - 200*exp(-t/2))\nEq(x(t), 200 - 200*exp(-t/2))\nEq(x(t), 200 - 200*exp(-t/2))\nEq(x(t), 200 - 200*exp(-t/2))\nEq(x(t), 200 - 200*exp(-t/2))\nEq(x(t), 200 - 200*exp(-t/2))\nEq(x(t), 200 - 200*exp(-t/2))\nEq(x(t), 200 - 200*exp(-t/2))\nEq(x(t), 200 - 200*exp(-t/2))\nEq(x(t), 200 - 200*exp(-t/2))\nEq(x(t), 200 - 200*exp(-t/2))\nEq(x(t), 200 - 200*exp(-t/2))\nEq(x(t), 200 - 200*exp(-t/2))\nEq(x(t), 200 - 200*exp(-t/2))\nEq(x(t), 200 - 200*exp(-t/2))\nEq(x(t), 200 - 200*exp(-t/2))\nEq(x(t), 200 - 200*exp(-t/2))\nEq(x(t), 200 - 200*exp(-t/2))\nEq(x(t), 200 - 200*exp(-t/2))\nEq(x(t), 200 - 200*exp(-t/2))\nEq(x(t), 200 - 200*exp(-t/2))\nEq(x(t), 200 - 200*exp(-t/2))\nEq(x(t), 200 - 200*exp(-t/2))\nEq(x(t), 200 - 200*exp(-t/2))\nEq(x(t), 200 - 200*exp(-t/2))\nEq(x(t), 200 - 200*exp(-t/2))\nEq(x(t), 200 - 200*exp(-t/2))\nEq(x(t), 200 - 200*exp(-t/2))\nEq(x(t), 200 - 200*exp(-t/2))\nEq(x(t), 200 - 200*exp(-t/2))\nEq(x(t), 200 - 200*exp(-t/2))\nEq(x(t), 200 - 200*exp(-t/2))\nEq(x(t), 200 - 200*exp(-t/2))\nEq(x(t), 200 - 200*exp(-t/2))\nEq(x(t), 200 - 200*exp(-t/2))\nEq(x(t), 200 - 200*exp(-t/2))\nEq(x(t), 200 - 200*exp(-t/2))\nEq(x(t), 200 - 200*exp(-t/2))\nEq(x(t), 200 - 200*exp(-t/2))\nEq(x(t), 200 - 200*exp(-t/2))\nEq(x(t), 200 - 200*exp(-t/2))\nEq(x(t), 200 - 200*exp(-t/2))\nEq(x(t), 200 - 200*exp(-t/2))\nEq(x(t), 200 - 200*exp(-t/2))\nEq(x(t), 200 - 200*exp(-t/2))\nEq(x(t), 200 - 200*exp(-t/2))\nEq(x(t), 200 - 200*exp(-t/2))\nEq(x(t), 200 - 200*exp(-t/2))\nEq(x(t), 200 - 200*exp(-t/2))\nEq(x(t), 200 - 200*exp(-t/2))\nEq(x(t), 200 - 200*exp(-t/2))\nEq(x(t), 200 - 200*exp(-t/2))\nEq(x(t), 200 - 200*exp(-t/2))\nEq(x(t), 200 - 200*exp(-t/2))\nEq(x(t), 200 - 200*exp(-t/2))\nEq(x(t), 200 - 200*exp(-t/2))\nEq(x(t), 200 - 200*exp(-t/2))\nEq(x(t), 200 - 200*exp(-t/2))\nEq(x(t), 200 - 200*exp(-t/2))\nEq(x(t), 200 - 200*exp(-t/2))\nEq(x(t), 200 - 200*exp(-t/2))\nEq(x(t), 200 - 200*exp(-t/2))\nEq(x(t), 200 - 200*exp(-t/2))\nEq(x(t), 200 - 200*exp(-t/2))\nEq(x(t), 200 - 200*exp(-t/2))\nEq(x(t), 200 - 200*exp(-t/2))\nEq(x(t), 200 - 200*exp(-t/2))\nEq(x(t), 200 - 200*exp(-t/2))\nEq(x(t), 200 - 200*exp(-t/2))\nEq(x(t), 200 - 200*exp(-t/2))\nEq(x(t), 200 - 200*exp(-t/2))\nEq(x(t), 200 - 200*exp(-t/2))\nEq(x(t), 200 - 200*exp(-t/2))\nEq(x(t), 200 - 200*exp(-t/2))\nEq(x(t), 200 - 200*exp(-t/2))\nEq(x(t), 200 - 200*exp(-t/2))\nEq(x(t), 200 - 200*exp(-t/2))\nEq(x(t), 200 - 200*exp(-t/2))\nEq(x(t), 200 - 200*exp(-t/2))\nEq(x(t), 200 - 200*exp(-t/2))\nEq(x(t), 200 - 200*exp(-t/2))\nEq(x(t), 200 - 200*exp(-t/2))\nEq(x(t), 200 - 200*exp(-t/2))\nEq(x(t), 200 - 200*exp(-t/2))\nEq(x(t), 200 - 200*exp(-t/2))\nEq(x(t), 200 - 200*exp(-t/2))\nEq(x(t), 200 - 200*exp(-t/2))\nEq(x(t), 200 - 200*exp(-t/2))\nEq(x(t), 200 - 200*exp(-t/2))\nEq(x(t), 200 - 200*exp(-t/2))\nEq(x(t), 200 - 200*exp(-t/2))\nEq(x(t), 200 - 200*exp(-t/2))\nEq(x(t), 200 - 200*exp(-t/2))\nEq(x(t), 200 - 200*exp(-t/2))\nEq(x(t), 200 - 200*exp(-t/2))\nEq(x(t), 200 - 200*exp(-t/2))\nEq(x(t), 200 - 200*exp(-t/2))\nEq(x(t), 200 - 200*exp(-t/2))\nEq(x(t), 200 - 200*exp(-t/2))\nEq(x(t), 200 - 200*exp(-t/2))\nEq(x(t), 200 - 200*exp(-t/2))\nEq(x(t), 200 - 200*exp(-t/2))\nEq(x(t), 200 - 200*exp(-t/2))\nEq(x(t), 200 - 200*exp(-t/2))\nEq(x(t), 200 - 200*exp(-t/2))\nEq(x(t), 200 - 200*exp(-t/2))\nEq(x(t), 200 - 200*exp(-t/2))\nEq(x(t), 200 - 200*exp(-t/2))\nEq(x(t), 200 - 200*exp(-t/2))\nEq(x(t), 200 - 200*exp(-t/2))\nEq(x(t), 200 - 200*exp(-t/2))\nEq(x(t), 200 - 200*exp(-t/2))\nEq(x(t), 200 - 200*exp(-t/2))\nEq(x(t), 200 - 200*exp(-t/2))\nEq(x(t), 200 - 200*exp(-t/2))\nEq(x(t), 200 - 200*exp(-t/2))\nEq(x(t), 200 - 200*exp(-t/2))\nEq(x(t), 200 - 200*exp(-t/2))\nEq(x(t), 200 - 200*exp(-t/2))\nEq(x(t), 200 - 200*exp(-t/2))\nEq(x(t), 200 - 200*exp(-t/2))\nEq(x(t), 200 - 200*exp(-t/2))\nEq(x(t), 200 - 200*exp(-t/2))\nEq(x(t), 200 - 200*exp(-t/2))\nEq(x(t), 200 - 200*exp(-t/2))\nEq(x(t), 200 - 200*exp(-t/2))\nEq(x(t), 200 - 200*exp(-t/2))\nEq(x(t), 200 - 200*exp(-t/2))\nEq(x(t), 200 - 200*exp(-t/2))\nEq(x(t), 200 - 200*exp(-t/2))\nEq(x(t), 200 - 200*exp(-t/2))\nEq(x(t), 200 - 200*exp(-t/2))\nEq(x(t), 200 - 200*exp(-t/2))\nEq(x(t), 200 - 200*exp(-t/2))\nEq(x(t), 200 - 200*exp(-t/2))\nEq(x(t), 200 - 200*exp(-t/2))\nEq(x(t), 200 - 200*exp(-t/2))\nEq(x(t), 200 - 200*exp(-t/2))\nEq(x(t), 200 - 200*exp(-t/2))\nEq(x(t), 200 - 200*exp(-t/2))\nEq(x(t), 200 - 200*exp(-t/2))\nEq(x(t), 200 - 200*exp(-t/2))\nEq(x(t), 200 - 200*exp(-t/2))\nEq(x(t), 200 - 200*exp(-t/2))\nEq(x(t), 200 - 200*exp(-t/2))\nEq(x(t), 200 - 200*exp(-t/2))\nEq(x(t), 200 - 200*exp(-t/2))\nEq(x(t), 200 - 200*exp(-t/2))\nEq(x(t), 200 - 200*exp(-t/2))\nEq(x(t), 200 - 200*exp(-t/2))\nEq(x(t), 200 - 200*exp(-t/2))\nEq(x(t), 200 - 200*exp(-t/2))\nEq(x(t), 200 - 200*exp(-t/2))\nEq(x(t), 200 - 200*exp(-t/2))\nEq(x(t), 200 - 200*exp(-t/2))\nEq(x(t), 200 - 200*exp(-t/2))\nEq(x(t), 200 - 200*exp(-t/2))\nEq(x(t), 200 - 200*exp(-t/2))\nEq(x(t), 200 - 200*exp(-t/2))\nEq(x(t), 200 - 200*exp(-t/2))\nEq(x(t), 200 - 200*exp(-t/2))\nEq(x(t), 200 - 200*exp(-t/2))\nEq(x(t), 200 - 200*exp(-t/2))\nEq(x(t), 200 - 200*exp(-t/2))\nEq(x(t), 200 - 200*exp(-t/2))\nEq(x(t), 200 - 200*exp(-t/2))\nEq(x(t), 200 - 200*exp(-t/2))\nEq(x(t), 200 - 200*exp(-t/2))\nEq(x(t), 200 - 200*exp(-t/2))\nEq(x(t), 200 - 200*exp(-t/2))\nEq(x(t), 200 - 200*exp(-t/2))\nEq(x(t), 200 - 200*exp(-t/2))\nEq(x(t), 200 - 200*exp(-t/2))\nEq(x(t), 200 - 200*exp(-t/2))\nEq(x(t), 200 - 200*exp(-t/2))\nEq(x(t), 200 - 200*exp(-t/2))\nEq(x(t), 200 - 200*exp(-t/2))\nEq(x(t), 200 - 200*exp(-t/2))\nEq(x(t), 200 - 200*exp(-t/2))\nEq(x(t), 200 - 200*exp(-t/2))\nEq(x(t), 200 - 200*exp(-t/2))\nEq(x(t), 200 - 200*exp(-t/2))\nEq(x(t), 200 - 200*exp(-t/2))\nEq(x(t), 200 - 200*exp(-t/2))\nEq(x(t), 200 - 200*exp(-t/2))\nEq(x(t), 200 - 200*exp(-t/2))\nEq(x(t), 200 - 200*exp(-t/2))\nEq(x(t), 200 - 200*exp(-t/2))\nEq(x(t), 200 - 200*exp(-t/2))\nEq(x(t), 200 - 200*exp(-t/2))\nEq(x(t), 200 - 200*exp(-t/2))\nEq(x(t), 200 - 200*exp(-t/2))\nEq(x(t), 200 - 200*exp(-t/2))\nEq(x(t), 200 - 200*exp(-t/2))\nEq(x(t), 200 - 200*exp(-t/2))\nEq(x(t), 200 - 200*exp(-t/2))\nEq(x(t), 200 - 200*exp(-t/2))\nEq(x(t), 200 - 200*exp(-t/2))\nEq(x(t), 200 - 200*exp(-t/2))\nEq(x(t), 200 - 200*exp(-t/2))\nEq(x(t), 200 - 200*exp(-t/2))\nEq(x(t), 200 - 200*exp(-t/2))\nEq(x(t), 200 - 200*exp(-t/2))\nEq(x(t), 200 - 200*exp(-t/2))\nEq(x(t), 200 - 200*exp(-t/2))\nEq(x(t), 200 - 200*exp(-t/2))\nEq(x(t), 200 - 200*exp(-t/2))\nEq(x(t), 200 - 200*exp(-t/2))\nEq(x(t), 200 - 200*exp(-t/2))\nEq(x(t), 200 - 200*exp(-t/2))\nEq(x(t), 200 - 200*exp(-t/2))\nEq(x(t), 200 - 200*exp(-t/2))\nEq(x(t), 200 - 200*exp(-t/2))\nEq(x(t), 200 - 200*exp(-t/2))\nEq(x(t), 200 - 200*exp(-t/2))\nEq(x(t), 200 - 200*exp(-t/2))\nEq(x(t), 200 - 200*exp(-t/2))\nEq(x(t), 200 - 200*exp(-t/2))\nEq(x(t), 200 - 200*exp(-t/2))\nEq(x(t), 200 - 200*exp(-t/2))\nEq(x(t), 200 - 200*exp(-t/2))\nEq(x(t), 200 - 200*exp(-t/2))\nEq(x(t), 200 - 200*exp(-t/2))\nEq(x(t), 200 - 200*exp(-t/2))\nEq(x(t), 200 - 200*exp(-t/2))\nEq(x(t), 200 - 200*exp(-t/2))\nEq(x(t), 200 - 200*exp(-t/2))\nEq(x(t), 200 - 200*exp(-t/2))\nEq(x(t), 200 - 200*exp(-t/2))\nEq(x(t), 200 - 200*exp(-t/2))\nEq(x(t), 200 - 200*exp(-t/2))\nEq(x(t), 200 - 200*exp(-t/2))\nEq(x(t), 200 - 200*exp(-t/2))\nEq(x(t), 200 - 200*exp(-t/2))\nEq(x(t), 200 - 200*exp(-t/2))\nEq(x(t), 200 - 200*exp(-t/2))\nEq(x(t), 200 - 200*exp(-t/2))\nEq(x(t), 200 - 200*exp(-t/2))\nEq(x(t), 200 - 200*exp(-t/2))\nEq(x(t), 200 - 200*exp(-t/2))\nEq(x(t), 200 - 200*exp(-t/2))\nEq(x(t), 200 - 200*exp(-t/2))\nEq(x(t), 200 - 200*exp(-t/2))\nEq(x(t), 200 - 200*exp(-t/2))\nEq(x(t), 200 - 200*exp(-t/2))\nEq(x(t), 200 - 200*exp(-t/2))\nEq(x(t), 200 - 200*exp(-t/2))\nEq(x(t), 200 - 200*exp(-t/2))\nEq(x(t), 200 - 200*exp(-t/2))\nEq(x(t), 200 - 200*exp(-t/2))\nEq(x(t), 200 - 200*exp(-t/2))\nEq(x(t), 200 - 200*exp(-t/2))\nEq(x(t), 200 - 200*exp(-t/2))\nEq(x(t), 200 - 200*exp(-t/2))\nEq(x(t), 200 - 200*exp(-t/2))\nEq(x(t), 200 - 200*exp(-t/2))\nEq(x(t), 200 - 200*exp(-t/2))\nEq(x(t), 200 - 200*exp(-t/2))\nEq(x(t), 200 - 200*exp(-t/2))\nEq(x(t), 200 - 200*exp(-t/2))\nEq(x(t), 200 - 200*exp(-t/2))\nEq(x(t), 200 - 200*exp(-t/2))\nEq(x(t), 200 - 200*exp(-t/2))\nEq(x(t), 200 - 200*exp(-t/2))\nEq(x(t), 200 - 200*exp(-t/2))\nEq(x(t), 200 - 200*exp(-t/2))\nEq(x(t), 200 - 200*exp(-t/2))\nEq(x(t), 200 - 200*exp(-t/2))\nEq(x(t), 200 - 200*exp(-t/2))\nEq(x(t), 200 - 200*exp(-t/2))\nEq(x(t), 200 - 200*exp(-t/2))\nEq(x(t), 200 - 200*exp(-t/2))\nEq(x(t), 200 - 200*exp(-t/2))\nEq(x(t), 200 - 200*exp(-t/2))\nEq(x(t), 200 - 200*exp(-t/2))\nEq(x(t), 200 - 200*exp(-t/2))\nEq(x(t), 200 - 200*exp(-t/2))\nEq(x(t), 200 - 200*exp(-t/2))\nEq(x(t), 200 - 200*exp(-t/2))\nEq(x(t), 200 - 200*exp(-t/2))\nEq(x(t), 200 - 200*exp(-t/2))\nEq(x(t), 200 - 200*exp(-t/2))\nEq(x(t), 200 - 200*exp(-t/2))\nEq(x(t), 200 - 200*exp(-t/2))\nEq(x(t), 200 - 200*exp(-t/2))\nEq(x(t), 200 - 200*exp(-t/2))\nEq(x(t), 200 - 200*exp(-t/2))\nEq(x(t), 200 - 200*exp(-t/2))\nEq(x(t), 200 - 200*exp(-t/2))\nEq(x(t), 200 - 200*exp(-t/2))\nEq(x(t), 200 - 200*exp(-t/2))\nEq(x(t), 200 - 200*exp(-t/2))\nEq(x(t), 200 - 200*exp(-t/2))\nEq(x(t), 200 - 200*exp(-t/2))\nEq(x(t), 200 - 200*exp(-t/2))\nEq(x(t), 200 - 200*exp(-t/2))\nEq(x(t), 200 - 200*exp(-t/2))\nEq(x(t), 200 - 200*exp(-t/2))\nEq(x(t), 200 - 200*exp(-t/2))\nEq(x(t), 200 - 200*exp(-t/2))\nEq(x(t), 200 - 200*exp(-t/2))\nEq(x(t), 200 - 200*exp(-t/2))\nEq(x(t), 200 - 200*exp(-t/2))\nEq(x(t), 200 - 200*exp(-t/2))\nEq(x(t), 200 - 200*exp(-t/2))\nEq(x(t), 200 - 200*exp(-t/2))\nEq(x(t), 200 - 200*exp(-t/2))\nEq(x(t), 200 - 200*exp(-t/2))\nEq(x(t), 200 - 200*exp(-t/2))\nEq(x(t), 200 - 200*exp(-t/2))\nEq(x(t), 200 - 200*exp(-t/2))\nEq(x(t), 200 - 200*exp(-t/2))\nEq(x(t), 200 - 200*exp(-t/2))\nEq(x(t), 200 - 200*exp(-t/2))\nEq(x(t), 200 - 200*exp(-t/2))\nEq(x(t), 200 - 200*exp(-t/2))\nEq(x(t), 200 - 200*exp(-t/2))\nEq(x(t), 200 - 200*exp(-t/2))\nEq(x(t), 200 - 200*exp(-t/2))\nEq(x(t), 200 - 200*exp(-t/2))\nEq(x(t), 200 - 200*exp(-t/2))\nEq(x(t), 200 - 200*exp(-t/2))\nEq(x(t), 200 - 200*exp(-t/2))\nEq(x(t), 200 - 200*exp(-t/2))\nEq(x(t), 200 - 200*exp(-t/2))\nEq(x(t), 200 - 200*exp(-t/2))\nEq(x(t), 200 - 200*exp(-t/2))\nEq(x(t), 200 - 200*exp(-t/2))\nEq(x(t), 200 - 200*exp(-t/2))\nEq(x(t), 200 - 200*exp(-t/2))\nEq(x(t), 200 - 200*exp(-t/2))\nEq(x(t), 200 - 200*exp(-t/2))\nEq(x(t), 200 - 200*exp(-t/2))\nEq(x(t), 200 - 200*exp(-t/2))\nEq(x(t), 200 - 200*exp(-t/2))\nEq(x(t), 200 - 200*exp(-t/2))\nEq(x(t), 200 - 200*exp(-t/2))\nEq(x(t), 200 - 200*exp(-t/2))\nEq(x(t), 200 - 200*exp(-t/2))\nEq(x(t), 200 - 200*exp(-t/2))\nEq(x(t), 200 - 200*exp(-t/2))\nEq(x(t), 200 - 200*exp(-t/2))\nEq(x(t), 200 - 200*exp(-t/2))\nEq(x(t), 200 - 200*exp(-t/2))\nEq(x(t), 200 - 200*exp(-t/2))\nEq(x(t), 200 - 200*exp(-t/2))\nEq(x(t), 200 - 200*exp(-t/2))\nEq(x(t), 200 - 200*exp(-t/2))\nEq(x(t), 200 - 200*exp(-t/2))\nEq(x(t), 200 - 200*exp(-t/2))\nEq(x(t), 200 - 200*exp(-t/2))\nEq(x(t), 200 - 200*exp(-t/2))\n"
        },
        {
         "name": "stdout",
         "output_type": "stream",
         "text": "Eq(x(t), 200 - 200*exp(-t/2))\nEq(x(t), 200 - 200*exp(-t/2))\nEq(x(t), 200 - 200*exp(-t/2))\nEq(x(t), 200 - 200*exp(-t/2))\nEq(x(t), 200 - 200*exp(-t/2))\nEq(x(t), 200 - 200*exp(-t/2))\nEq(x(t), 200 - 200*exp(-t/2))\nEq(x(t), 200 - 200*exp(-t/2))\nEq(x(t), 200 - 200*exp(-t/2))\nEq(x(t), 200 - 200*exp(-t/2))\nEq(x(t), 200 - 200*exp(-t/2))\nEq(x(t), 200 - 200*exp(-t/2))\nEq(x(t), 200 - 200*exp(-t/2))\nEq(x(t), 200 - 200*exp(-t/2))\nEq(x(t), 200 - 200*exp(-t/2))\nEq(x(t), 200 - 200*exp(-t/2))\nEq(x(t), 200 - 200*exp(-t/2))\nEq(x(t), 200 - 200*exp(-t/2))\nEq(x(t), 200 - 200*exp(-t/2))\nEq(x(t), 200 - 200*exp(-t/2))\nEq(x(t), 200 - 200*exp(-t/2))\nEq(x(t), 200 - 200*exp(-t/2))\nEq(x(t), 200 - 200*exp(-t/2))\nEq(x(t), 200 - 200*exp(-t/2))\nEq(x(t), 200 - 200*exp(-t/2))\nEq(x(t), 200 - 200*exp(-t/2))\nEq(x(t), 200 - 200*exp(-t/2))\nEq(x(t), 200 - 200*exp(-t/2))\nEq(x(t), 200 - 200*exp(-t/2))\nEq(x(t), 200 - 200*exp(-t/2))\nEq(x(t), 200 - 200*exp(-t/2))\nEq(x(t), 200 - 200*exp(-t/2))\nEq(x(t), 200 - 200*exp(-t/2))\nEq(x(t), 200 - 200*exp(-t/2))\nEq(x(t), 200 - 200*exp(-t/2))\nEq(x(t), 200 - 200*exp(-t/2))\nEq(x(t), 200 - 200*exp(-t/2))\nEq(x(t), 200 - 200*exp(-t/2))\nEq(x(t), 200 - 200*exp(-t/2))\nEq(x(t), 200 - 200*exp(-t/2))\nEq(x(t), 200 - 200*exp(-t/2))\nEq(x(t), 200 - 200*exp(-t/2))\nEq(x(t), 200 - 200*exp(-t/2))\nEq(x(t), 200 - 200*exp(-t/2))\nEq(x(t), 200 - 200*exp(-t/2))\nEq(x(t), 200 - 200*exp(-t/2))\nEq(x(t), 200 - 200*exp(-t/2))\nEq(x(t), 200 - 200*exp(-t/2))\nEq(x(t), 200 - 200*exp(-t/2))\nEq(x(t), 200 - 200*exp(-t/2))\nEq(x(t), 200 - 200*exp(-t/2))\nEq(x(t), 200 - 200*exp(-t/2))\nEq(x(t), 200 - 200*exp(-t/2))\nEq(x(t), 200 - 200*exp(-t/2))\nEq(x(t), 200 - 200*exp(-t/2))\nEq(x(t), 200 - 200*exp(-t/2))\nEq(x(t), 200 - 200*exp(-t/2))\nEq(x(t), 200 - 200*exp(-t/2))\nEq(x(t), 200 - 200*exp(-t/2))\nEq(x(t), 200 - 200*exp(-t/2))\nEq(x(t), 200 - 200*exp(-t/2))\nEq(x(t), 200 - 200*exp(-t/2))\nEq(x(t), 200 - 200*exp(-t/2))\nEq(x(t), 200 - 200*exp(-t/2))\nEq(x(t), 200 - 200*exp(-t/2))\nEq(x(t), 200 - 200*exp(-t/2))\nEq(x(t), 200 - 200*exp(-t/2))\nEq(x(t), 200 - 200*exp(-t/2))\nEq(x(t), 200 - 200*exp(-t/2))\nEq(x(t), 200 - 200*exp(-t/2))\nEq(x(t), 200 - 200*exp(-t/2))\nEq(x(t), 200 - 200*exp(-t/2))\nEq(x(t), 200 - 200*exp(-t/2))\nEq(x(t), 200 - 200*exp(-t/2))\nEq(x(t), 200 - 200*exp(-t/2))\nEq(x(t), 200 - 200*exp(-t/2))\nEq(x(t), 200 - 200*exp(-t/2))\nEq(x(t), 200 - 200*exp(-t/2))\nEq(x(t), 200 - 200*exp(-t/2))\nEq(x(t), 200 - 200*exp(-t/2))\nEq(x(t), 200 - 200*exp(-t/2))\nEq(x(t), 200 - 200*exp(-t/2))\nEq(x(t), 200 - 200*exp(-t/2))\nEq(x(t), 200 - 200*exp(-t/2))\nEq(x(t), 200 - 200*exp(-t/2))\nEq(x(t), 200 - 200*exp(-t/2))\nEq(x(t), 200 - 200*exp(-t/2))\nEq(x(t), 200 - 200*exp(-t/2))\nEq(x(t), 200 - 200*exp(-t/2))\nEq(x(t), 200 - 200*exp(-t/2))\nEq(x(t), 200 - 200*exp(-t/2))\nEq(x(t), 200 - 200*exp(-t/2))\nEq(x(t), 200 - 200*exp(-t/2))\nEq(x(t), 200 - 200*exp(-t/2))\nEq(x(t), 200 - 200*exp(-t/2))\nEq(x(t), 200 - 200*exp(-t/2))\nEq(x(t), 200 - 200*exp(-t/2))\nEq(x(t), 200 - 200*exp(-t/2))\nEq(x(t), 200 - 200*exp(-t/2))\nEq(x(t), 200 - 200*exp(-t/2))\nEq(x(t), 200 - 200*exp(-t/2))\nEq(x(t), 200 - 200*exp(-t/2))\nEq(x(t), 200 - 200*exp(-t/2))\nEq(x(t), 200 - 200*exp(-t/2))\nEq(x(t), 200 - 200*exp(-t/2))\nEq(x(t), 200 - 200*exp(-t/2))\nEq(x(t), 200 - 200*exp(-t/2))\nEq(x(t), 200 - 200*exp(-t/2))\nEq(x(t), 200 - 200*exp(-t/2))\nEq(x(t), 200 - 200*exp(-t/2))\nEq(x(t), 200 - 200*exp(-t/2))\nEq(x(t), 200 - 200*exp(-t/2))\nEq(x(t), 200 - 200*exp(-t/2))\nEq(x(t), 200 - 200*exp(-t/2))\nEq(x(t), 200 - 200*exp(-t/2))\nEq(x(t), 200 - 200*exp(-t/2))\nEq(x(t), 200 - 200*exp(-t/2))\nEq(x(t), 200 - 200*exp(-t/2))\nEq(x(t), 200 - 200*exp(-t/2))\nEq(x(t), 200 - 200*exp(-t/2))\nEq(x(t), 200 - 200*exp(-t/2))\nEq(x(t), 200 - 200*exp(-t/2))\nEq(x(t), 200 - 200*exp(-t/2))\nEq(x(t), 200 - 200*exp(-t/2))\nEq(x(t), 200 - 200*exp(-t/2))\nEq(x(t), 200 - 200*exp(-t/2))\nEq(x(t), 200 - 200*exp(-t/2))\nEq(x(t), 200 - 200*exp(-t/2))\nEq(x(t), 200 - 200*exp(-t/2))\nEq(x(t), 200 - 200*exp(-t/2))\nEq(x(t), 200 - 200*exp(-t/2))\nEq(x(t), 200 - 200*exp(-t/2))\nEq(x(t), 200 - 200*exp(-t/2))\nEq(x(t), 200 - 200*exp(-t/2))\nEq(x(t), 200 - 200*exp(-t/2))\nEq(x(t), 200 - 200*exp(-t/2))\nEq(x(t), 200 - 200*exp(-t/2))\nEq(x(t), 200 - 200*exp(-t/2))\nEq(x(t), 200 - 200*exp(-t/2))\nEq(x(t), 200 - 200*exp(-t/2))\nEq(x(t), 200 - 200*exp(-t/2))\nEq(x(t), 200 - 200*exp(-t/2))\nEq(x(t), 200 - 200*exp(-t/2))\nEq(x(t), 200 - 200*exp(-t/2))\nEq(x(t), 200 - 200*exp(-t/2))\nEq(x(t), 200 - 200*exp(-t/2))\nEq(x(t), 200 - 200*exp(-t/2))\nEq(x(t), 200 - 200*exp(-t/2))\nEq(x(t), 200 - 200*exp(-t/2))\nEq(x(t), 200 - 200*exp(-t/2))\nEq(x(t), 200 - 200*exp(-t/2))\nEq(x(t), 200 - 200*exp(-t/2))\nEq(x(t), 200 - 200*exp(-t/2))\nEq(x(t), 200 - 200*exp(-t/2))\nEq(x(t), 200 - 200*exp(-t/2))\nEq(x(t), 200 - 200*exp(-t/2))\nEq(x(t), 200 - 200*exp(-t/2))\nEq(x(t), 200 - 200*exp(-t/2))\nEq(x(t), 200 - 200*exp(-t/2))\nEq(x(t), 200 - 200*exp(-t/2))\nEq(x(t), 200 - 200*exp(-t/2))\nEq(x(t), 200 - 200*exp(-t/2))\nEq(x(t), 200 - 200*exp(-t/2))\nEq(x(t), 200 - 200*exp(-t/2))\nEq(x(t), 200 - 200*exp(-t/2))\nEq(x(t), 200 - 200*exp(-t/2))\nEq(x(t), 200 - 200*exp(-t/2))\nEq(x(t), 200 - 200*exp(-t/2))\nEq(x(t), 200 - 200*exp(-t/2))\nEq(x(t), 200 - 200*exp(-t/2))\nEq(x(t), 200 - 200*exp(-t/2))\nEq(x(t), 200 - 200*exp(-t/2))\nEq(x(t), 200 - 200*exp(-t/2))\nEq(x(t), 200 - 200*exp(-t/2))\nEq(x(t), 200 - 200*exp(-t/2))\nEq(x(t), 200 - 200*exp(-t/2))\nEq(x(t), 200 - 200*exp(-t/2))\nEq(x(t), 200 - 200*exp(-t/2))\nEq(x(t), 200 - 200*exp(-t/2))\nEq(x(t), 200 - 200*exp(-t/2))\nEq(x(t), 200 - 200*exp(-t/2))\nEq(x(t), 200 - 200*exp(-t/2))\nEq(x(t), 200 - 200*exp(-t/2))\nEq(x(t), 200 - 200*exp(-t/2))\nEq(x(t), 200 - 200*exp(-t/2))\nEq(x(t), 200 - 200*exp(-t/2))\nEq(x(t), 200 - 200*exp(-t/2))\nEq(x(t), 200 - 200*exp(-t/2))\nEq(x(t), 200 - 200*exp(-t/2))\nEq(x(t), 200 - 200*exp(-t/2))\nEq(x(t), 200 - 200*exp(-t/2))\nEq(x(t), 200 - 200*exp(-t/2))\nEq(x(t), 200 - 200*exp(-t/2))\nEq(x(t), 200 - 200*exp(-t/2))\nEq(x(t), 200 - 200*exp(-t/2))\nEq(x(t), 200 - 200*exp(-t/2))\nEq(x(t), 200 - 200*exp(-t/2))\nEq(x(t), 200 - 200*exp(-t/2))\nEq(x(t), 200 - 200*exp(-t/2))\nEq(x(t), 200 - 200*exp(-t/2))\nEq(x(t), 200 - 200*exp(-t/2))\nEq(x(t), 200 - 200*exp(-t/2))\nEq(x(t), 200 - 200*exp(-t/2))\nEq(x(t), 200 - 200*exp(-t/2))\nEq(x(t), 200 - 200*exp(-t/2))\nEq(x(t), 200 - 200*exp(-t/2))\nEq(x(t), 200 - 200*exp(-t/2))\nEq(x(t), 200 - 200*exp(-t/2))\nEq(x(t), 200 - 200*exp(-t/2))\nEq(x(t), 200 - 200*exp(-t/2))\nEq(x(t), 200 - 200*exp(-t/2))\nEq(x(t), 200 - 200*exp(-t/2))\nEq(x(t), 200 - 200*exp(-t/2))\nEq(x(t), 200 - 200*exp(-t/2))\nEq(x(t), 200 - 200*exp(-t/2))\nEq(x(t), 200 - 200*exp(-t/2))\nEq(x(t), 200 - 200*exp(-t/2))\nEq(x(t), 200 - 200*exp(-t/2))\nEq(x(t), 200 - 200*exp(-t/2))\nEq(x(t), 200 - 200*exp(-t/2))\nEq(x(t), 200 - 200*exp(-t/2))\nEq(x(t), 200 - 200*exp(-t/2))\nEq(x(t), 200 - 200*exp(-t/2))\nEq(x(t), 200 - 200*exp(-t/2))\nEq(x(t), 200 - 200*exp(-t/2))\nEq(x(t), 200 - 200*exp(-t/2))\nEq(x(t), 200 - 200*exp(-t/2))\nEq(x(t), 200 - 200*exp(-t/2))\nEq(x(t), 200 - 200*exp(-t/2))\nEq(x(t), 200 - 200*exp(-t/2))\nEq(x(t), 200 - 200*exp(-t/2))\nEq(x(t), 200 - 200*exp(-t/2))\nEq(x(t), 200 - 200*exp(-t/2))\nEq(x(t), 200 - 200*exp(-t/2))\nEq(x(t), 200 - 200*exp(-t/2))\nEq(x(t), 200 - 200*exp(-t/2))\nEq(x(t), 200 - 200*exp(-t/2))\nEq(x(t), 200 - 200*exp(-t/2))\nEq(x(t), 200 - 200*exp(-t/2))\nEq(x(t), 200 - 200*exp(-t/2))\nEq(x(t), 200 - 200*exp(-t/2))\nEq(x(t), 200 - 200*exp(-t/2))\nEq(x(t), 200 - 200*exp(-t/2))\nEq(x(t), 200 - 200*exp(-t/2))\nEq(x(t), 200 - 200*exp(-t/2))\nEq(x(t), 200 - 200*exp(-t/2))\nEq(x(t), 200 - 200*exp(-t/2))\nEq(x(t), 200 - 200*exp(-t/2))\nEq(x(t), 200 - 200*exp(-t/2))\nEq(x(t), 200 - 200*exp(-t/2))\nEq(x(t), 200 - 200*exp(-t/2))\nEq(x(t), 200 - 200*exp(-t/2))\nEq(x(t), 200 - 200*exp(-t/2))\nEq(x(t), 200 - 200*exp(-t/2))\nEq(x(t), 200 - 200*exp(-t/2))\nEq(x(t), 200 - 200*exp(-t/2))\nEq(x(t), 200 - 200*exp(-t/2))\nEq(x(t), 200 - 200*exp(-t/2))\nEq(x(t), 200 - 200*exp(-t/2))\nEq(x(t), 200 - 200*exp(-t/2))\nEq(x(t), 200 - 200*exp(-t/2))\nEq(x(t), 200 - 200*exp(-t/2))\nEq(x(t), 200 - 200*exp(-t/2))\nEq(x(t), 200 - 200*exp(-t/2))\nEq(x(t), 200 - 200*exp(-t/2))\nEq(x(t), 200 - 200*exp(-t/2))\nEq(x(t), 200 - 200*exp(-t/2))\nEq(x(t), 200 - 200*exp(-t/2))\nEq(x(t), 200 - 200*exp(-t/2))\nEq(x(t), 200 - 200*exp(-t/2))\nEq(x(t), 200 - 200*exp(-t/2))\nEq(x(t), 200 - 200*exp(-t/2))\nEq(x(t), 200 - 200*exp(-t/2))\nEq(x(t), 200 - 200*exp(-t/2))\nEq(x(t), 200 - 200*exp(-t/2))\nEq(x(t), 200 - 200*exp(-t/2))\nEq(x(t), 200 - 200*exp(-t/2))\nEq(x(t), 200 - 200*exp(-t/2))\nEq(x(t), 200 - 200*exp(-t/2))\nEq(x(t), 200 - 200*exp(-t/2))\nEq(x(t), 200 - 200*exp(-t/2))\nEq(x(t), 200 - 200*exp(-t/2))\nEq(x(t), 200 - 200*exp(-t/2))\nEq(x(t), 200 - 200*exp(-t/2))\nEq(x(t), 200 - 200*exp(-t/2))\nEq(x(t), 200 - 200*exp(-t/2))\nEq(x(t), 200 - 200*exp(-t/2))\nEq(x(t), 200 - 200*exp(-t/2))\nEq(x(t), 200 - 200*exp(-t/2))\nEq(x(t), 200 - 200*exp(-t/2))\nEq(x(t), 200 - 200*exp(-t/2))\nEq(x(t), 200 - 200*exp(-t/2))\nEq(x(t), 200 - 200*exp(-t/2))\nEq(x(t), 200 - 200*exp(-t/2))\nEq(x(t), 200 - 200*exp(-t/2))\nEq(x(t), 200 - 200*exp(-t/2))\nEq(x(t), 200 - 200*exp(-t/2))\nEq(x(t), 200 - 200*exp(-t/2))\nEq(x(t), 200 - 200*exp(-t/2))\nEq(x(t), 200 - 200*exp(-t/2))\nEq(x(t), 200 - 200*exp(-t/2))\nEq(x(t), 200 - 200*exp(-t/2))\nEq(x(t), 200 - 200*exp(-t/2))\nEq(x(t), 200 - 200*exp(-t/2))\nEq(x(t), 200 - 200*exp(-t/2))\nEq(x(t), 200 - 200*exp(-t/2))\nEq(x(t), 200 - 200*exp(-t/2))\nEq(x(t), 200 - 200*exp(-t/2))\nEq(x(t), 200 - 200*exp(-t/2))\nEq(x(t), 200 - 200*exp(-t/2))\nEq(x(t), 200 - 200*exp(-t/2))\nEq(x(t), 200 - 200*exp(-t/2))\nEq(x(t), 200 - 200*exp(-t/2))\nEq(x(t), 200 - 200*exp(-t/2))\nEq(x(t), 200 - 200*exp(-t/2))\nEq(x(t), 200 - 200*exp(-t/2))\nEq(x(t), 200 - 200*exp(-t/2))\nEq(x(t), 200 - 200*exp(-t/2))\nEq(x(t), 200 - 200*exp(-t/2))\nEq(x(t), 200 - 200*exp(-t/2))\nEq(x(t), 200 - 200*exp(-t/2))\nEq(x(t), 200 - 200*exp(-t/2))\nEq(x(t), 200 - 200*exp(-t/2))\nEq(x(t), 200 - 200*exp(-t/2))\nEq(x(t), 200 - 200*exp(-t/2))\nEq(x(t), 200 - 200*exp(-t/2))\nEq(x(t), 200 - 200*exp(-t/2))\nEq(x(t), 200 - 200*exp(-t/2))\nEq(x(t), 200 - 200*exp(-t/2))\nEq(x(t), 200 - 200*exp(-t/2))\nEq(x(t), 200 - 200*exp(-t/2))\nEq(x(t), 200 - 200*exp(-t/2))\nEq(x(t), 200 - 200*exp(-t/2))\nEq(x(t), 200 - 200*exp(-t/2))\nEq(x(t), 200 - 200*exp(-t/2))\nEq(x(t), 200 - 200*exp(-t/2))\nEq(x(t), 200 - 200*exp(-t/2))\nEq(x(t), 200 - 200*exp(-t/2))\nEq(x(t), 200 - 200*exp(-t/2))\nEq(x(t), 200 - 200*exp(-t/2))\nEq(x(t), 200 - 200*exp(-t/2))\nEq(x(t), 200 - 200*exp(-t/2))\nEq(x(t), 200 - 200*exp(-t/2))\nEq(x(t), 200 - 200*exp(-t/2))\nEq(x(t), 200 - 200*exp(-t/2))\nEq(x(t), 200 - 200*exp(-t/2))\nEq(x(t), 200 - 200*exp(-t/2))\nEq(x(t), 200 - 200*exp(-t/2))\nEq(x(t), 200 - 200*exp(-t/2))\nEq(x(t), 200 - 200*exp(-t/2))\nEq(x(t), 200 - 200*exp(-t/2))\nEq(x(t), 200 - 200*exp(-t/2))\nEq(x(t), 200 - 200*exp(-t/2))\nEq(x(t), 200 - 200*exp(-t/2))\nEq(x(t), 200 - 200*exp(-t/2))\nEq(x(t), 200 - 200*exp(-t/2))\nEq(x(t), 200 - 200*exp(-t/2))\nEq(x(t), 200 - 200*exp(-t/2))\nEq(x(t), 200 - 200*exp(-t/2))\nEq(x(t), 200 - 200*exp(-t/2))\nEq(x(t), 200 - 200*exp(-t/2))\nEq(x(t), 200 - 200*exp(-t/2))\nEq(x(t), 200 - 200*exp(-t/2))\nEq(x(t), 200 - 200*exp(-t/2))\nEq(x(t), 200 - 200*exp(-t/2))\nEq(x(t), 200 - 200*exp(-t/2))\nEq(x(t), 200 - 200*exp(-t/2))\nEq(x(t), 200 - 200*exp(-t/2))\nEq(x(t), 200 - 200*exp(-t/2))\nEq(x(t), 200 - 200*exp(-t/2))\nEq(x(t), 200 - 200*exp(-t/2))\nEq(x(t), 200 - 200*exp(-t/2))\nEq(x(t), 200 - 200*exp(-t/2))\nEq(x(t), 200 - 200*exp(-t/2))\nEq(x(t), 200 - 200*exp(-t/2))\nEq(x(t), 200 - 200*exp(-t/2))\nEq(x(t), 200 - 200*exp(-t/2))\nEq(x(t), 200 - 200*exp(-t/2))\nEq(x(t), 200 - 200*exp(-t/2))\nEq(x(t), 200 - 200*exp(-t/2))\nEq(x(t), 200 - 200*exp(-t/2))\nEq(x(t), 200 - 200*exp(-t/2))\nEq(x(t), 200 - 200*exp(-t/2))\nEq(x(t), 200 - 200*exp(-t/2))\nEq(x(t), 200 - 200*exp(-t/2))\nEq(x(t), 200 - 200*exp(-t/2))\nEq(x(t), 200 - 200*exp(-t/2))\nEq(x(t), 200 - 200*exp(-t/2))\nEq(x(t), 200 - 200*exp(-t/2))\nEq(x(t), 200 - 200*exp(-t/2))\nEq(x(t), 200 - 200*exp(-t/2))\nEq(x(t), 200 - 200*exp(-t/2))\nEq(x(t), 200 - 200*exp(-t/2))\nEq(x(t), 200 - 200*exp(-t/2))\nEq(x(t), 200 - 200*exp(-t/2))\nEq(x(t), 200 - 200*exp(-t/2))\nEq(x(t), 200 - 200*exp(-t/2))\nEq(x(t), 200 - 200*exp(-t/2))\nEq(x(t), 200 - 200*exp(-t/2))\nEq(x(t), 200 - 200*exp(-t/2))\nEq(x(t), 200 - 200*exp(-t/2))\nEq(x(t), 200 - 200*exp(-t/2))\nEq(x(t), 200 - 200*exp(-t/2))\nEq(x(t), 200 - 200*exp(-t/2))\nEq(x(t), 200 - 200*exp(-t/2))\nEq(x(t), 200 - 200*exp(-t/2))\nEq(x(t), 200 - 200*exp(-t/2))\nEq(x(t), 200 - 200*exp(-t/2))\nEq(x(t), 200 - 200*exp(-t/2))\nEq(x(t), 200 - 200*exp(-t/2))\nEq(x(t), 200 - 200*exp(-t/2))\nEq(x(t), 200 - 200*exp(-t/2))\nEq(x(t), 200 - 200*exp(-t/2))\nEq(x(t), 200 - 200*exp(-t/2))\nEq(x(t), 200 - 200*exp(-t/2))\nEq(x(t), 200 - 200*exp(-t/2))\nEq(x(t), 200 - 200*exp(-t/2))\nEq(x(t), 200 - 200*exp(-t/2))\nEq(x(t), 200 - 200*exp(-t/2))\nEq(x(t), 200 - 200*exp(-t/2))\nEq(x(t), 200 - 200*exp(-t/2))\nEq(x(t), 200 - 200*exp(-t/2))\nEq(x(t), 200 - 200*exp(-t/2))\nEq(x(t), 200 - 200*exp(-t/2))\nEq(x(t), 200 - 200*exp(-t/2))\nEq(x(t), 200 - 200*exp(-t/2))\nEq(x(t), 200 - 200*exp(-t/2))\nEq(x(t), 200 - 200*exp(-t/2))\nEq(x(t), 200 - 200*exp(-t/2))\nEq(x(t), 200 - 200*exp(-t/2))\nEq(x(t), 200 - 200*exp(-t/2))\nEq(x(t), 200 - 200*exp(-t/2))\nEq(x(t), 200 - 200*exp(-t/2))\nEq(x(t), 200 - 200*exp(-t/2))\nEq(x(t), 200 - 200*exp(-t/2))\nEq(x(t), 200 - 200*exp(-t/2))\nEq(x(t), 200 - 200*exp(-t/2))\nEq(x(t), 200 - 200*exp(-t/2))\nEq(x(t), 200 - 200*exp(-t/2))\nEq(x(t), 200 - 200*exp(-t/2))\nEq(x(t), 200 - 200*exp(-t/2))\nEq(x(t), 200 - 200*exp(-t/2))\nEq(x(t), 200 - 200*exp(-t/2))\nEq(x(t), 200 - 200*exp(-t/2))\nEq(x(t), 200 - 200*exp(-t/2))\nEq(x(t), 200 - 200*exp(-t/2))\nEq(x(t), 200 - 200*exp(-t/2))\nEq(x(t), 200 - 200*exp(-t/2))\nEq(x(t), 200 - 200*exp(-t/2))\nEq(x(t), 200 - 200*exp(-t/2))\nEq(x(t), 200 - 200*exp(-t/2))\nEq(x(t), 200 - 200*exp(-t/2))\nEq(x(t), 200 - 200*exp(-t/2))\nEq(x(t), 200 - 200*exp(-t/2))\nEq(x(t), 200 - 200*exp(-t/2))\nEq(x(t), 200 - 200*exp(-t/2))\nEq(x(t), 200 - 200*exp(-t/2))\nEq(x(t), 200 - 200*exp(-t/2))\nEq(x(t), 200 - 200*exp(-t/2))\nEq(x(t), 200 - 200*exp(-t/2))\nEq(x(t), 200 - 200*exp(-t/2))\nEq(x(t), 200 - 200*exp(-t/2))\nEq(x(t), 200 - 200*exp(-t/2))\nEq(x(t), 200 - 200*exp(-t/2))\nEq(x(t), 200 - 200*exp(-t/2))\nEq(x(t), 200 - 200*exp(-t/2))\nEq(x(t), 200 - 200*exp(-t/2))\nEq(x(t), 200 - 200*exp(-t/2))\nEq(x(t), 200 - 200*exp(-t/2))\nEq(x(t), 200 - 200*exp(-t/2))\nEq(x(t), 200 - 200*exp(-t/2))\nEq(x(t), 200 - 200*exp(-t/2))\nEq(x(t), 200 - 200*exp(-t/2))\nEq(x(t), 200 - 200*exp(-t/2))\nEq(x(t), 200 - 200*exp(-t/2))\nEq(x(t), 200 - 200*exp(-t/2))\nEq(x(t), 200 - 200*exp(-t/2))\nEq(x(t), 200 - 200*exp(-t/2))\nEq(x(t), 200 - 200*exp(-t/2))\nEq(x(t), 200 - 200*exp(-t/2))\nEq(x(t), 200 - 200*exp(-t/2))\nEq(x(t), 200 - 200*exp(-t/2))\nEq(x(t), 200 - 200*exp(-t/2))\nEq(x(t), 200 - 200*exp(-t/2))\nEq(x(t), 200 - 200*exp(-t/2))\nEq(x(t), 200 - 200*exp(-t/2))\nEq(x(t), 200 - 200*exp(-t/2))\nEq(x(t), 200 - 200*exp(-t/2))\nEq(x(t), 200 - 200*exp(-t/2))\nEq(x(t), 200 - 200*exp(-t/2))\nEq(x(t), 200 - 200*exp(-t/2))\nEq(x(t), 200 - 200*exp(-t/2))\nEq(x(t), 200 - 200*exp(-t/2))\nEq(x(t), 200 - 200*exp(-t/2))\nEq(x(t), 200 - 200*exp(-t/2))\nEq(x(t), 200 - 200*exp(-t/2))\nEq(x(t), 200 - 200*exp(-t/2))\nEq(x(t), 200 - 200*exp(-t/2))\nEq(x(t), 200 - 200*exp(-t/2))\nEq(x(t), 200 - 200*exp(-t/2))\nEq(x(t), 200 - 200*exp(-t/2))\nEq(x(t), 200 - 200*exp(-t/2))\nEq(x(t), 200 - 200*exp(-t/2))\nEq(x(t), 200 - 200*exp(-t/2))\nEq(x(t), 200 - 200*exp(-t/2))\nEq(x(t), 200 - 200*exp(-t/2))\nEq(x(t), 200 - 200*exp(-t/2))\nEq(x(t), 200 - 200*exp(-t/2))\nEq(x(t), 200 - 200*exp(-t/2))\nEq(x(t), 200 - 200*exp(-t/2))\nEq(x(t), 200 - 200*exp(-t/2))\nEq(x(t), 200 - 200*exp(-t/2))\nEq(x(t), 200 - 200*exp(-t/2))\nEq(x(t), 200 - 200*exp(-t/2))\nEq(x(t), 200 - 200*exp(-t/2))\nEq(x(t), 200 - 200*exp(-t/2))\nEq(x(t), 200 - 200*exp(-t/2))\nEq(x(t), 200 - 200*exp(-t/2))\nEq(x(t), 200 - 200*exp(-t/2))\nEq(x(t), 200 - 200*exp(-t/2))\nEq(x(t), 200 - 200*exp(-t/2))\nEq(x(t), 200 - 200*exp(-t/2))\nEq(x(t), 200 - 200*exp(-t/2))\nEq(x(t), 200 - 200*exp(-t/2))\nEq(x(t), 200 - 200*exp(-t/2))\nEq(x(t), 200 - 200*exp(-t/2))\nEq(x(t), 200 - 200*exp(-t/2))\nEq(x(t), 200 - 200*exp(-t/2))\nEq(x(t), 200 - 200*exp(-t/2))\nEq(x(t), 200 - 200*exp(-t/2))\nEq(x(t), 200 - 200*exp(-t/2))\nEq(x(t), 200 - 200*exp(-t/2))\nEq(x(t), 200 - 200*exp(-t/2))\nEq(x(t), 200 - 200*exp(-t/2))\nEq(x(t), 200 - 200*exp(-t/2))\nEq(x(t), 200 - 200*exp(-t/2))\nEq(x(t), 200 - 200*exp(-t/2))\nEq(x(t), 200 - 200*exp(-t/2))\nEq(x(t), 200 - 200*exp(-t/2))\nEq(x(t), 200 - 200*exp(-t/2))\nEq(x(t), 200 - 200*exp(-t/2))\nEq(x(t), 200 - 200*exp(-t/2))\nEq(x(t), 200 - 200*exp(-t/2))\nEq(x(t), 200 - 200*exp(-t/2))\nEq(x(t), 200 - 200*exp(-t/2))\nEq(x(t), 200 - 200*exp(-t/2))\nEq(x(t), 200 - 200*exp(-t/2))\nEq(x(t), 200 - 200*exp(-t/2))\nEq(x(t), 200 - 200*exp(-t/2))\nEq(x(t), 200 - 200*exp(-t/2))\nEq(x(t), 200 - 200*exp(-t/2))\nEq(x(t), 200 - 200*exp(-t/2))\nEq(x(t), 200 - 200*exp(-t/2))\nEq(x(t), 200 - 200*exp(-t/2))\nEq(x(t), 200 - 200*exp(-t/2))\nEq(x(t), 200 - 200*exp(-t/2))\nEq(x(t), 200 - 200*exp(-t/2))\nEq(x(t), 200 - 200*exp(-t/2))\nEq(x(t), 200 - 200*exp(-t/2))\nEq(x(t), 200 - 200*exp(-t/2))\nEq(x(t), 200 - 200*exp(-t/2))\nEq(x(t), 200 - 200*exp(-t/2))\nEq(x(t), 200 - 200*exp(-t/2))\nEq(x(t), 200 - 200*exp(-t/2))\nEq(x(t), 200 - 200*exp(-t/2))\nEq(x(t), 200 - 200*exp(-t/2))\nEq(x(t), 200 - 200*exp(-t/2))\nEq(x(t), 200 - 200*exp(-t/2))\nEq(x(t), 200 - 200*exp(-t/2))\nEq(x(t), 200 - 200*exp(-t/2))\nEq(x(t), 200 - 200*exp(-t/2))\nEq(x(t), 200 - 200*exp(-t/2))\nEq(x(t), 200 - 200*exp(-t/2))\nEq(x(t), 200 - 200*exp(-t/2))\nEq(x(t), 200 - 200*exp(-t/2))\nEq(x(t), 200 - 200*exp(-t/2))\nEq(x(t), 200 - 200*exp(-t/2))\nEq(x(t), 200 - 200*exp(-t/2))\nEq(x(t), 200 - 200*exp(-t/2))\nEq(x(t), 200 - 200*exp(-t/2))\nEq(x(t), 200 - 200*exp(-t/2))\nEq(x(t), 200 - 200*exp(-t/2))\nEq(x(t), 200 - 200*exp(-t/2))\n"
        },
        {
         "name": "stdout",
         "output_type": "stream",
         "text": "Eq(x(t), 200 - 200*exp(-t/2))\nEq(x(t), 200 - 200*exp(-t/2))\nEq(x(t), 200 - 200*exp(-t/2))\nEq(x(t), 200 - 200*exp(-t/2))\nEq(x(t), 200 - 200*exp(-t/2))\nEq(x(t), 200 - 200*exp(-t/2))\nEq(x(t), 200 - 200*exp(-t/2))\nEq(x(t), 200 - 200*exp(-t/2))\nEq(x(t), 200 - 200*exp(-t/2))\nEq(x(t), 200 - 200*exp(-t/2))\nEq(x(t), 200 - 200*exp(-t/2))\nEq(x(t), 200 - 200*exp(-t/2))\nEq(x(t), 200 - 200*exp(-t/2))\nEq(x(t), 200 - 200*exp(-t/2))\nEq(x(t), 200 - 200*exp(-t/2))\nEq(x(t), 200 - 200*exp(-t/2))\nEq(x(t), 200 - 200*exp(-t/2))\nEq(x(t), 200 - 200*exp(-t/2))\nEq(x(t), 200 - 200*exp(-t/2))\nEq(x(t), 200 - 200*exp(-t/2))\nEq(x(t), 200 - 200*exp(-t/2))\nEq(x(t), 200 - 200*exp(-t/2))\nEq(x(t), 200 - 200*exp(-t/2))\nEq(x(t), 200 - 200*exp(-t/2))\nEq(x(t), 200 - 200*exp(-t/2))\nEq(x(t), 200 - 200*exp(-t/2))\nEq(x(t), 200 - 200*exp(-t/2))\nEq(x(t), 200 - 200*exp(-t/2))\nEq(x(t), 200 - 200*exp(-t/2))\nEq(x(t), 200 - 200*exp(-t/2))\nEq(x(t), 200 - 200*exp(-t/2))\nEq(x(t), 200 - 200*exp(-t/2))\nEq(x(t), 200 - 200*exp(-t/2))\nEq(x(t), 200 - 200*exp(-t/2))\nEq(x(t), 200 - 200*exp(-t/2))\nEq(x(t), 200 - 200*exp(-t/2))\nEq(x(t), 200 - 200*exp(-t/2))\nEq(x(t), 200 - 200*exp(-t/2))\nEq(x(t), 200 - 200*exp(-t/2))\nEq(x(t), 200 - 200*exp(-t/2))\nEq(x(t), 200 - 200*exp(-t/2))\nEq(x(t), 200 - 200*exp(-t/2))\nEq(x(t), 200 - 200*exp(-t/2))\nEq(x(t), 200 - 200*exp(-t/2))\nEq(x(t), 200 - 200*exp(-t/2))\nEq(x(t), 200 - 200*exp(-t/2))\nEq(x(t), 200 - 200*exp(-t/2))\nEq(x(t), 200 - 200*exp(-t/2))\nEq(x(t), 200 - 200*exp(-t/2))\nEq(x(t), 200 - 200*exp(-t/2))\nEq(x(t), 200 - 200*exp(-t/2))\nEq(x(t), 200 - 200*exp(-t/2))\nEq(x(t), 200 - 200*exp(-t/2))\nEq(x(t), 200 - 200*exp(-t/2))\nEq(x(t), 200 - 200*exp(-t/2))\nEq(x(t), 200 - 200*exp(-t/2))\nEq(x(t), 200 - 200*exp(-t/2))\nEq(x(t), 200 - 200*exp(-t/2))\nEq(x(t), 200 - 200*exp(-t/2))\nEq(x(t), 200 - 200*exp(-t/2))\nEq(x(t), 200 - 200*exp(-t/2))\nEq(x(t), 200 - 200*exp(-t/2))\nEq(x(t), 200 - 200*exp(-t/2))\nEq(x(t), 200 - 200*exp(-t/2))\nEq(x(t), 200 - 200*exp(-t/2))\nEq(x(t), 200 - 200*exp(-t/2))\nEq(x(t), 200 - 200*exp(-t/2))\nEq(x(t), 200 - 200*exp(-t/2))\nEq(x(t), 200 - 200*exp(-t/2))\nEq(x(t), 200 - 200*exp(-t/2))\nEq(x(t), 200 - 200*exp(-t/2))\nEq(x(t), 200 - 200*exp(-t/2))\nEq(x(t), 200 - 200*exp(-t/2))\nEq(x(t), 200 - 200*exp(-t/2))\nEq(x(t), 200 - 200*exp(-t/2))\nEq(x(t), 200 - 200*exp(-t/2))\nEq(x(t), 200 - 200*exp(-t/2))\nEq(x(t), 200 - 200*exp(-t/2))\nEq(x(t), 200 - 200*exp(-t/2))\nEq(x(t), 200 - 200*exp(-t/2))\nEq(x(t), 200 - 200*exp(-t/2))\nEq(x(t), 200 - 200*exp(-t/2))\nEq(x(t), 200 - 200*exp(-t/2))\nEq(x(t), 200 - 200*exp(-t/2))\nEq(x(t), 200 - 200*exp(-t/2))\nEq(x(t), 200 - 200*exp(-t/2))\nEq(x(t), 200 - 200*exp(-t/2))\nEq(x(t), 200 - 200*exp(-t/2))\nEq(x(t), 200 - 200*exp(-t/2))\nEq(x(t), 200 - 200*exp(-t/2))\nEq(x(t), 200 - 200*exp(-t/2))\nEq(x(t), 200 - 200*exp(-t/2))\nEq(x(t), 200 - 200*exp(-t/2))\nEq(x(t), 200 - 200*exp(-t/2))\nEq(x(t), 200 - 200*exp(-t/2))\nEq(x(t), 200 - 200*exp(-t/2))\nEq(x(t), 200 - 200*exp(-t/2))\nEq(x(t), 200 - 200*exp(-t/2))\nEq(x(t), 200 - 200*exp(-t/2))\nEq(x(t), 200 - 200*exp(-t/2))\nEq(x(t), 200 - 200*exp(-t/2))\nEq(x(t), 200 - 200*exp(-t/2))\nEq(x(t), 200 - 200*exp(-t/2))\nEq(x(t), 200 - 200*exp(-t/2))\nEq(x(t), 200 - 200*exp(-t/2))\nEq(x(t), 200 - 200*exp(-t/2))\nEq(x(t), 200 - 200*exp(-t/2))\nEq(x(t), 200 - 200*exp(-t/2))\nEq(x(t), 200 - 200*exp(-t/2))\nEq(x(t), 200 - 200*exp(-t/2))\nEq(x(t), 200 - 200*exp(-t/2))\nEq(x(t), 200 - 200*exp(-t/2))\nEq(x(t), 200 - 200*exp(-t/2))\nEq(x(t), 200 - 200*exp(-t/2))\nEq(x(t), 200 - 200*exp(-t/2))\nEq(x(t), 200 - 200*exp(-t/2))\nEq(x(t), 200 - 200*exp(-t/2))\nEq(x(t), 200 - 200*exp(-t/2))\nEq(x(t), 200 - 200*exp(-t/2))\nEq(x(t), 200 - 200*exp(-t/2))\nEq(x(t), 200 - 200*exp(-t/2))\nEq(x(t), 200 - 200*exp(-t/2))\nEq(x(t), 200 - 200*exp(-t/2))\nEq(x(t), 200 - 200*exp(-t/2))\nEq(x(t), 200 - 200*exp(-t/2))\nEq(x(t), 200 - 200*exp(-t/2))\nEq(x(t), 200 - 200*exp(-t/2))\nEq(x(t), 200 - 200*exp(-t/2))\nEq(x(t), 200 - 200*exp(-t/2))\nEq(x(t), 200 - 200*exp(-t/2))\nEq(x(t), 200 - 200*exp(-t/2))\nEq(x(t), 200 - 200*exp(-t/2))\nEq(x(t), 200 - 200*exp(-t/2))\nEq(x(t), 200 - 200*exp(-t/2))\nEq(x(t), 200 - 200*exp(-t/2))\nEq(x(t), 200 - 200*exp(-t/2))\nEq(x(t), 200 - 200*exp(-t/2))\nEq(x(t), 200 - 200*exp(-t/2))\nEq(x(t), 200 - 200*exp(-t/2))\nEq(x(t), 200 - 200*exp(-t/2))\nEq(x(t), 200 - 200*exp(-t/2))\nEq(x(t), 200 - 200*exp(-t/2))\nEq(x(t), 200 - 200*exp(-t/2))\nEq(x(t), 200 - 200*exp(-t/2))\nEq(x(t), 200 - 200*exp(-t/2))\nEq(x(t), 200 - 200*exp(-t/2))\nEq(x(t), 200 - 200*exp(-t/2))\nEq(x(t), 200 - 200*exp(-t/2))\nEq(x(t), 200 - 200*exp(-t/2))\nEq(x(t), 200 - 200*exp(-t/2))\nEq(x(t), 200 - 200*exp(-t/2))\nEq(x(t), 200 - 200*exp(-t/2))\nEq(x(t), 200 - 200*exp(-t/2))\nEq(x(t), 200 - 200*exp(-t/2))\nEq(x(t), 200 - 200*exp(-t/2))\nEq(x(t), 200 - 200*exp(-t/2))\nEq(x(t), 200 - 200*exp(-t/2))\nEq(x(t), 200 - 200*exp(-t/2))\nEq(x(t), 200 - 200*exp(-t/2))\nEq(x(t), 200 - 200*exp(-t/2))\nEq(x(t), 200 - 200*exp(-t/2))\nEq(x(t), 200 - 200*exp(-t/2))\nEq(x(t), 200 - 200*exp(-t/2))\nEq(x(t), 200 - 200*exp(-t/2))\nEq(x(t), 200 - 200*exp(-t/2))\nEq(x(t), 200 - 200*exp(-t/2))\nEq(x(t), 200 - 200*exp(-t/2))\nEq(x(t), 200 - 200*exp(-t/2))\nEq(x(t), 200 - 200*exp(-t/2))\nEq(x(t), 200 - 200*exp(-t/2))\nEq(x(t), 200 - 200*exp(-t/2))\nEq(x(t), 200 - 200*exp(-t/2))\nEq(x(t), 200 - 200*exp(-t/2))\nEq(x(t), 200 - 200*exp(-t/2))\nEq(x(t), 200 - 200*exp(-t/2))\nEq(x(t), 200 - 200*exp(-t/2))\nEq(x(t), 200 - 200*exp(-t/2))\nEq(x(t), 200 - 200*exp(-t/2))\nEq(x(t), 200 - 200*exp(-t/2))\nEq(x(t), 200 - 200*exp(-t/2))\nEq(x(t), 200 - 200*exp(-t/2))\nEq(x(t), 200 - 200*exp(-t/2))\nEq(x(t), 200 - 200*exp(-t/2))\nEq(x(t), 200 - 200*exp(-t/2))\nEq(x(t), 200 - 200*exp(-t/2))\nEq(x(t), 200 - 200*exp(-t/2))\nEq(x(t), 200 - 200*exp(-t/2))\nEq(x(t), 200 - 200*exp(-t/2))\nEq(x(t), 200 - 200*exp(-t/2))\nEq(x(t), 200 - 200*exp(-t/2))\nEq(x(t), 200 - 200*exp(-t/2))\nEq(x(t), 200 - 200*exp(-t/2))\nEq(x(t), 200 - 200*exp(-t/2))\nEq(x(t), 200 - 200*exp(-t/2))\nEq(x(t), 200 - 200*exp(-t/2))\nEq(x(t), 200 - 200*exp(-t/2))\nEq(x(t), 200 - 200*exp(-t/2))\nEq(x(t), 200 - 200*exp(-t/2))\nEq(x(t), 200 - 200*exp(-t/2))\nEq(x(t), 200 - 200*exp(-t/2))\nEq(x(t), 200 - 200*exp(-t/2))\nEq(x(t), 200 - 200*exp(-t/2))\nEq(x(t), 200 - 200*exp(-t/2))\nEq(x(t), 200 - 200*exp(-t/2))\nEq(x(t), 200 - 200*exp(-t/2))\nEq(x(t), 200 - 200*exp(-t/2))\nEq(x(t), 200 - 200*exp(-t/2))\nEq(x(t), 200 - 200*exp(-t/2))\nEq(x(t), 200 - 200*exp(-t/2))\nEq(x(t), 200 - 200*exp(-t/2))\nEq(x(t), 200 - 200*exp(-t/2))\nEq(x(t), 200 - 200*exp(-t/2))\nEq(x(t), 200 - 200*exp(-t/2))\nEq(x(t), 200 - 200*exp(-t/2))\nEq(x(t), 200 - 200*exp(-t/2))\nEq(x(t), 200 - 200*exp(-t/2))\nEq(x(t), 200 - 200*exp(-t/2))\nEq(x(t), 200 - 200*exp(-t/2))\nEq(x(t), 200 - 200*exp(-t/2))\nEq(x(t), 200 - 200*exp(-t/2))\nEq(x(t), 200 - 200*exp(-t/2))\nEq(x(t), 200 - 200*exp(-t/2))\nEq(x(t), 200 - 200*exp(-t/2))\nEq(x(t), 200 - 200*exp(-t/2))\nEq(x(t), 200 - 200*exp(-t/2))\nEq(x(t), 200 - 200*exp(-t/2))\nEq(x(t), 200 - 200*exp(-t/2))\nEq(x(t), 200 - 200*exp(-t/2))\nEq(x(t), 200 - 200*exp(-t/2))\nEq(x(t), 200 - 200*exp(-t/2))\nEq(x(t), 200 - 200*exp(-t/2))\nEq(x(t), 200 - 200*exp(-t/2))\nEq(x(t), 200 - 200*exp(-t/2))\nEq(x(t), 200 - 200*exp(-t/2))\nEq(x(t), 200 - 200*exp(-t/2))\nEq(x(t), 200 - 200*exp(-t/2))\nEq(x(t), 200 - 200*exp(-t/2))\nEq(x(t), 200 - 200*exp(-t/2))\nEq(x(t), 200 - 200*exp(-t/2))\nEq(x(t), 200 - 200*exp(-t/2))\nEq(x(t), 200 - 200*exp(-t/2))\nEq(x(t), 200 - 200*exp(-t/2))\nEq(x(t), 200 - 200*exp(-t/2))\nEq(x(t), 200 - 200*exp(-t/2))\nEq(x(t), 200 - 200*exp(-t/2))\nEq(x(t), 200 - 200*exp(-t/2))\nEq(x(t), 200 - 200*exp(-t/2))\nEq(x(t), 200 - 200*exp(-t/2))\nEq(x(t), 200 - 200*exp(-t/2))\nEq(x(t), 200 - 200*exp(-t/2))\nEq(x(t), 200 - 200*exp(-t/2))\nEq(x(t), 200 - 200*exp(-t/2))\nEq(x(t), 200 - 200*exp(-t/2))\nEq(x(t), 200 - 200*exp(-t/2))\nEq(x(t), 200 - 200*exp(-t/2))\nEq(x(t), 200 - 200*exp(-t/2))\nEq(x(t), 200 - 200*exp(-t/2))\nEq(x(t), 200 - 200*exp(-t/2))\nEq(x(t), 200 - 200*exp(-t/2))\nEq(x(t), 200 - 200*exp(-t/2))\nEq(x(t), 200 - 200*exp(-t/2))\nEq(x(t), 200 - 200*exp(-t/2))\nEq(x(t), 200 - 200*exp(-t/2))\nEq(x(t), 200 - 200*exp(-t/2))\nEq(x(t), 200 - 200*exp(-t/2))\nEq(x(t), 200 - 200*exp(-t/2))\nEq(x(t), 200 - 200*exp(-t/2))\nEq(x(t), 200 - 200*exp(-t/2))\nEq(x(t), 200 - 200*exp(-t/2))\nEq(x(t), 200 - 200*exp(-t/2))\nEq(x(t), 200 - 200*exp(-t/2))\nEq(x(t), 200 - 200*exp(-t/2))\nEq(x(t), 200 - 200*exp(-t/2))\nEq(x(t), 200 - 200*exp(-t/2))\nEq(x(t), 200 - 200*exp(-t/2))\nEq(x(t), 200 - 200*exp(-t/2))\nEq(x(t), 200 - 200*exp(-t/2))\nEq(x(t), 200 - 200*exp(-t/2))\nEq(x(t), 200 - 200*exp(-t/2))\nEq(x(t), 200 - 200*exp(-t/2))\nEq(x(t), 200 - 200*exp(-t/2))\nEq(x(t), 200 - 200*exp(-t/2))\nEq(x(t), 200 - 200*exp(-t/2))\nEq(x(t), 200 - 200*exp(-t/2))\nEq(x(t), 200 - 200*exp(-t/2))\nEq(x(t), 200 - 200*exp(-t/2))\nEq(x(t), 200 - 200*exp(-t/2))\nEq(x(t), 200 - 200*exp(-t/2))\nEq(x(t), 200 - 200*exp(-t/2))\nEq(x(t), 200 - 200*exp(-t/2))\nEq(x(t), 200 - 200*exp(-t/2))\nEq(x(t), 200 - 200*exp(-t/2))\nEq(x(t), 200 - 200*exp(-t/2))\nEq(x(t), 200 - 200*exp(-t/2))\nEq(x(t), 200 - 200*exp(-t/2))\nEq(x(t), 200 - 200*exp(-t/2))\nEq(x(t), 200 - 200*exp(-t/2))\nEq(x(t), 200 - 200*exp(-t/2))\nEq(x(t), 200 - 200*exp(-t/2))\nEq(x(t), 200 - 200*exp(-t/2))\nEq(x(t), 200 - 200*exp(-t/2))\nEq(x(t), 200 - 200*exp(-t/2))\nEq(x(t), 200 - 200*exp(-t/2))\nEq(x(t), 200 - 200*exp(-t/2))\nEq(x(t), 200 - 200*exp(-t/2))\nEq(x(t), 200 - 200*exp(-t/2))\nEq(x(t), 200 - 200*exp(-t/2))\nEq(x(t), 200 - 200*exp(-t/2))\nEq(x(t), 200 - 200*exp(-t/2))\nEq(x(t), 200 - 200*exp(-t/2))\nEq(x(t), 200 - 200*exp(-t/2))\nEq(x(t), 200 - 200*exp(-t/2))\nEq(x(t), 200 - 200*exp(-t/2))\nEq(x(t), 200 - 200*exp(-t/2))\nEq(x(t), 200 - 200*exp(-t/2))\nEq(x(t), 200 - 200*exp(-t/2))\nEq(x(t), 200 - 200*exp(-t/2))\nEq(x(t), 200 - 200*exp(-t/2))\nEq(x(t), 200 - 200*exp(-t/2))\nEq(x(t), 200 - 200*exp(-t/2))\nEq(x(t), 200 - 200*exp(-t/2))\nEq(x(t), 200 - 200*exp(-t/2))\nEq(x(t), 200 - 200*exp(-t/2))\nEq(x(t), 200 - 200*exp(-t/2))\nEq(x(t), 200 - 200*exp(-t/2))\nEq(x(t), 200 - 200*exp(-t/2))\nEq(x(t), 200 - 200*exp(-t/2))\nEq(x(t), 200 - 200*exp(-t/2))\nEq(x(t), 200 - 200*exp(-t/2))\nEq(x(t), 200 - 200*exp(-t/2))\nEq(x(t), 200 - 200*exp(-t/2))\nEq(x(t), 200 - 200*exp(-t/2))\nEq(x(t), 200 - 200*exp(-t/2))\nEq(x(t), 200 - 200*exp(-t/2))\nEq(x(t), 200 - 200*exp(-t/2))\nEq(x(t), 200 - 200*exp(-t/2))\nEq(x(t), 200 - 200*exp(-t/2))\nEq(x(t), 200 - 200*exp(-t/2))\nEq(x(t), 200 - 200*exp(-t/2))\nEq(x(t), 200 - 200*exp(-t/2))\nEq(x(t), 200 - 200*exp(-t/2))\nEq(x(t), 200 - 200*exp(-t/2))\nEq(x(t), 200 - 200*exp(-t/2))\nEq(x(t), 200 - 200*exp(-t/2))\nEq(x(t), 200 - 200*exp(-t/2))\nEq(x(t), 200 - 200*exp(-t/2))\nEq(x(t), 200 - 200*exp(-t/2))\nEq(x(t), 200 - 200*exp(-t/2))\nEq(x(t), 200 - 200*exp(-t/2))\nEq(x(t), 200 - 200*exp(-t/2))\nEq(x(t), 200 - 200*exp(-t/2))\nEq(x(t), 200 - 200*exp(-t/2))\nEq(x(t), 200 - 200*exp(-t/2))\nEq(x(t), 200 - 200*exp(-t/2))\nEq(x(t), 200 - 200*exp(-t/2))\nEq(x(t), 200 - 200*exp(-t/2))\nEq(x(t), 200 - 200*exp(-t/2))\nEq(x(t), 200 - 200*exp(-t/2))\nEq(x(t), 200 - 200*exp(-t/2))\nEq(x(t), 200 - 200*exp(-t/2))\nEq(x(t), 200 - 200*exp(-t/2))\nEq(x(t), 200 - 200*exp(-t/2))\nEq(x(t), 200 - 200*exp(-t/2))\nEq(x(t), 200 - 200*exp(-t/2))\nEq(x(t), 200 - 200*exp(-t/2))\nEq(x(t), 200 - 200*exp(-t/2))\nEq(x(t), 200 - 200*exp(-t/2))\nEq(x(t), 200 - 200*exp(-t/2))\nEq(x(t), 200 - 200*exp(-t/2))\nEq(x(t), 200 - 200*exp(-t/2))\nEq(x(t), 200 - 200*exp(-t/2))\nEq(x(t), 200 - 200*exp(-t/2))\nEq(x(t), 200 - 200*exp(-t/2))\nEq(x(t), 200 - 200*exp(-t/2))\nEq(x(t), 200 - 200*exp(-t/2))\nEq(x(t), 200 - 200*exp(-t/2))\nEq(x(t), 200 - 200*exp(-t/2))\nEq(x(t), 200 - 200*exp(-t/2))\nEq(x(t), 200 - 200*exp(-t/2))\nEq(x(t), 200 - 200*exp(-t/2))\nEq(x(t), 200 - 200*exp(-t/2))\nEq(x(t), 200 - 200*exp(-t/2))\nEq(x(t), 200 - 200*exp(-t/2))\nEq(x(t), 200 - 200*exp(-t/2))\nEq(x(t), 200 - 200*exp(-t/2))\nEq(x(t), 200 - 200*exp(-t/2))\nEq(x(t), 200 - 200*exp(-t/2))\nEq(x(t), 200 - 200*exp(-t/2))\nEq(x(t), 200 - 200*exp(-t/2))\nEq(x(t), 200 - 200*exp(-t/2))\nEq(x(t), 200 - 200*exp(-t/2))\nEq(x(t), 200 - 200*exp(-t/2))\nEq(x(t), 200 - 200*exp(-t/2))\nEq(x(t), 200 - 200*exp(-t/2))\nEq(x(t), 200 - 200*exp(-t/2))\nEq(x(t), 200 - 200*exp(-t/2))\nEq(x(t), 200 - 200*exp(-t/2))\nEq(x(t), 200 - 200*exp(-t/2))\nEq(x(t), 200 - 200*exp(-t/2))\nEq(x(t), 200 - 200*exp(-t/2))\nEq(x(t), 200 - 200*exp(-t/2))\nEq(x(t), 200 - 200*exp(-t/2))\nEq(x(t), 200 - 200*exp(-t/2))\nEq(x(t), 200 - 200*exp(-t/2))\nEq(x(t), 200 - 200*exp(-t/2))\nEq(x(t), 200 - 200*exp(-t/2))\nEq(x(t), 200 - 200*exp(-t/2))\nEq(x(t), 200 - 200*exp(-t/2))\nEq(x(t), 200 - 200*exp(-t/2))\nEq(x(t), 200 - 200*exp(-t/2))\nEq(x(t), 200 - 200*exp(-t/2))\nEq(x(t), 200 - 200*exp(-t/2))\nEq(x(t), 200 - 200*exp(-t/2))\nEq(x(t), 200 - 200*exp(-t/2))\nEq(x(t), 200 - 200*exp(-t/2))\nEq(x(t), 200 - 200*exp(-t/2))\nEq(x(t), 200 - 200*exp(-t/2))\nEq(x(t), 200 - 200*exp(-t/2))\nEq(x(t), 200 - 200*exp(-t/2))\nEq(x(t), 200 - 200*exp(-t/2))\nEq(x(t), 200 - 200*exp(-t/2))\nEq(x(t), 200 - 200*exp(-t/2))\nEq(x(t), 200 - 200*exp(-t/2))\nEq(x(t), 200 - 200*exp(-t/2))\nEq(x(t), 200 - 200*exp(-t/2))\nEq(x(t), 200 - 200*exp(-t/2))\nEq(x(t), 200 - 200*exp(-t/2))\nEq(x(t), 200 - 200*exp(-t/2))\nEq(x(t), 200 - 200*exp(-t/2))\nEq(x(t), 200 - 200*exp(-t/2))\nEq(x(t), 200 - 200*exp(-t/2))\nEq(x(t), 200 - 200*exp(-t/2))\nEq(x(t), 200 - 200*exp(-t/2))\nEq(x(t), 200 - 200*exp(-t/2))\nEq(x(t), 200 - 200*exp(-t/2))\nEq(x(t), 200 - 200*exp(-t/2))\nEq(x(t), 200 - 200*exp(-t/2))\nEq(x(t), 200 - 200*exp(-t/2))\nEq(x(t), 200 - 200*exp(-t/2))\nEq(x(t), 200 - 200*exp(-t/2))\nEq(x(t), 200 - 200*exp(-t/2))\nEq(x(t), 200 - 200*exp(-t/2))\nEq(x(t), 200 - 200*exp(-t/2))\nEq(x(t), 200 - 200*exp(-t/2))\nEq(x(t), 200 - 200*exp(-t/2))\nEq(x(t), 200 - 200*exp(-t/2))\nEq(x(t), 200 - 200*exp(-t/2))\nEq(x(t), 200 - 200*exp(-t/2))\nEq(x(t), 200 - 200*exp(-t/2))\nEq(x(t), 200 - 200*exp(-t/2))\nEq(x(t), 200 - 200*exp(-t/2))\nEq(x(t), 200 - 200*exp(-t/2))\nEq(x(t), 200 - 200*exp(-t/2))\nEq(x(t), 200 - 200*exp(-t/2))\nEq(x(t), 200 - 200*exp(-t/2))\nEq(x(t), 200 - 200*exp(-t/2))\nEq(x(t), 200 - 200*exp(-t/2))\nEq(x(t), 200 - 200*exp(-t/2))\nEq(x(t), 200 - 200*exp(-t/2))\nEq(x(t), 200 - 200*exp(-t/2))\nEq(x(t), 200 - 200*exp(-t/2))\nEq(x(t), 200 - 200*exp(-t/2))\nEq(x(t), 200 - 200*exp(-t/2))\nEq(x(t), 200 - 200*exp(-t/2))\nEq(x(t), 200 - 200*exp(-t/2))\nEq(x(t), 200 - 200*exp(-t/2))\nEq(x(t), 200 - 200*exp(-t/2))\nEq(x(t), 200 - 200*exp(-t/2))\nEq(x(t), 200 - 200*exp(-t/2))\nEq(x(t), 200 - 200*exp(-t/2))\nEq(x(t), 200 - 200*exp(-t/2))\nEq(x(t), 200 - 200*exp(-t/2))\nEq(x(t), 200 - 200*exp(-t/2))\nEq(x(t), 200 - 200*exp(-t/2))\nEq(x(t), 200 - 200*exp(-t/2))\nEq(x(t), 200 - 200*exp(-t/2))\nEq(x(t), 200 - 200*exp(-t/2))\nEq(x(t), 200 - 200*exp(-t/2))\nEq(x(t), 200 - 200*exp(-t/2))\nEq(x(t), 200 - 200*exp(-t/2))\nEq(x(t), 200 - 200*exp(-t/2))\nEq(x(t), 200 - 200*exp(-t/2))\nEq(x(t), 200 - 200*exp(-t/2))\nEq(x(t), 200 - 200*exp(-t/2))\nEq(x(t), 200 - 200*exp(-t/2))\nEq(x(t), 200 - 200*exp(-t/2))\nEq(x(t), 200 - 200*exp(-t/2))\nEq(x(t), 200 - 200*exp(-t/2))\nEq(x(t), 200 - 200*exp(-t/2))\nEq(x(t), 200 - 200*exp(-t/2))\nEq(x(t), 200 - 200*exp(-t/2))\nEq(x(t), 200 - 200*exp(-t/2))\nEq(x(t), 200 - 200*exp(-t/2))\nEq(x(t), 200 - 200*exp(-t/2))\nEq(x(t), 200 - 200*exp(-t/2))\nEq(x(t), 200 - 200*exp(-t/2))\nEq(x(t), 200 - 200*exp(-t/2))\nEq(x(t), 200 - 200*exp(-t/2))\nEq(x(t), 200 - 200*exp(-t/2))\nEq(x(t), 200 - 200*exp(-t/2))\nEq(x(t), 200 - 200*exp(-t/2))\nEq(x(t), 200 - 200*exp(-t/2))\nEq(x(t), 200 - 200*exp(-t/2))\nEq(x(t), 200 - 200*exp(-t/2))\nEq(x(t), 200 - 200*exp(-t/2))\nEq(x(t), 200 - 200*exp(-t/2))\nEq(x(t), 200 - 200*exp(-t/2))\nEq(x(t), 200 - 200*exp(-t/2))\nEq(x(t), 200 - 200*exp(-t/2))\nEq(x(t), 200 - 200*exp(-t/2))\nEq(x(t), 200 - 200*exp(-t/2))\nEq(x(t), 200 - 200*exp(-t/2))\nEq(x(t), 200 - 200*exp(-t/2))\nEq(x(t), 200 - 200*exp(-t/2))\nEq(x(t), 200 - 200*exp(-t/2))\nEq(x(t), 200 - 200*exp(-t/2))\nEq(x(t), 200 - 200*exp(-t/2))\nEq(x(t), 200 - 200*exp(-t/2))\nEq(x(t), 200 - 200*exp(-t/2))\nEq(x(t), 200 - 200*exp(-t/2))\nEq(x(t), 200 - 200*exp(-t/2))\nEq(x(t), 200 - 200*exp(-t/2))\nEq(x(t), 200 - 200*exp(-t/2))\nEq(x(t), 200 - 200*exp(-t/2))\nEq(x(t), 200 - 200*exp(-t/2))\nEq(x(t), 200 - 200*exp(-t/2))\nEq(x(t), 200 - 200*exp(-t/2))\nEq(x(t), 200 - 200*exp(-t/2))\nEq(x(t), 200 - 200*exp(-t/2))\nEq(x(t), 200 - 200*exp(-t/2))\nEq(x(t), 200 - 200*exp(-t/2))\nEq(x(t), 200 - 200*exp(-t/2))\nEq(x(t), 200 - 200*exp(-t/2))\nEq(x(t), 200 - 200*exp(-t/2))\nEq(x(t), 200 - 200*exp(-t/2))\nEq(x(t), 200 - 200*exp(-t/2))\nEq(x(t), 200 - 200*exp(-t/2))\nEq(x(t), 200 - 200*exp(-t/2))\nEq(x(t), 200 - 200*exp(-t/2))\nEq(x(t), 200 - 200*exp(-t/2))\nEq(x(t), 200 - 200*exp(-t/2))\nEq(x(t), 200 - 200*exp(-t/2))\nEq(x(t), 200 - 200*exp(-t/2))\nEq(x(t), 200 - 200*exp(-t/2))\nEq(x(t), 200 - 200*exp(-t/2))\nEq(x(t), 200 - 200*exp(-t/2))\nEq(x(t), 200 - 200*exp(-t/2))\nEq(x(t), 200 - 200*exp(-t/2))\nEq(x(t), 200 - 200*exp(-t/2))\nEq(x(t), 200 - 200*exp(-t/2))\nEq(x(t), 200 - 200*exp(-t/2))\nEq(x(t), 200 - 200*exp(-t/2))\nEq(x(t), 200 - 200*exp(-t/2))\nEq(x(t), 200 - 200*exp(-t/2))\nEq(x(t), 200 - 200*exp(-t/2))\nEq(x(t), 200 - 200*exp(-t/2))\nEq(x(t), 200 - 200*exp(-t/2))\nEq(x(t), 200 - 200*exp(-t/2))\nEq(x(t), 200 - 200*exp(-t/2))\nEq(x(t), 200 - 200*exp(-t/2))\nEq(x(t), 200 - 200*exp(-t/2))\nEq(x(t), 200 - 200*exp(-t/2))\nEq(x(t), 200 - 200*exp(-t/2))\nEq(x(t), 200 - 200*exp(-t/2))\nEq(x(t), 200 - 200*exp(-t/2))\nEq(x(t), 200 - 200*exp(-t/2))\nEq(x(t), 200 - 200*exp(-t/2))\nEq(x(t), 200 - 200*exp(-t/2))\nEq(x(t), 200 - 200*exp(-t/2))\nEq(x(t), 200 - 200*exp(-t/2))\nEq(x(t), 200 - 200*exp(-t/2))\nEq(x(t), 200 - 200*exp(-t/2))\nEq(x(t), 200 - 200*exp(-t/2))\nEq(x(t), 200 - 200*exp(-t/2))\nEq(x(t), 200 - 200*exp(-t/2))\nEq(x(t), 200 - 200*exp(-t/2))\nEq(x(t), 200 - 200*exp(-t/2))\nEq(x(t), 200 - 200*exp(-t/2))\nEq(x(t), 200 - 200*exp(-t/2))\nEq(x(t), 200 - 200*exp(-t/2))\nEq(x(t), 200 - 200*exp(-t/2))\nEq(x(t), 200 - 200*exp(-t/2))\nEq(x(t), 200 - 200*exp(-t/2))\nEq(x(t), 200 - 200*exp(-t/2))\nEq(x(t), 200 - 200*exp(-t/2))\nEq(x(t), 200 - 200*exp(-t/2))\nEq(x(t), 200 - 200*exp(-t/2))\nEq(x(t), 200 - 200*exp(-t/2))\nEq(x(t), 200 - 200*exp(-t/2))\nEq(x(t), 200 - 200*exp(-t/2))\nEq(x(t), 200 - 200*exp(-t/2))\nEq(x(t), 200 - 200*exp(-t/2))\nEq(x(t), 200 - 200*exp(-t/2))\nEq(x(t), 200 - 200*exp(-t/2))\nEq(x(t), 200 - 200*exp(-t/2))\nEq(x(t), 200 - 200*exp(-t/2))\nEq(x(t), 200 - 200*exp(-t/2))\nEq(x(t), 200 - 200*exp(-t/2))\nEq(x(t), 200 - 200*exp(-t/2))\nEq(x(t), 200 - 200*exp(-t/2))\nEq(x(t), 200 - 200*exp(-t/2))\nEq(x(t), 200 - 200*exp(-t/2))\nEq(x(t), 200 - 200*exp(-t/2))\nEq(x(t), 200 - 200*exp(-t/2))\nEq(x(t), 200 - 200*exp(-t/2))\nEq(x(t), 200 - 200*exp(-t/2))\nEq(x(t), 200 - 200*exp(-t/2))\nEq(x(t), 200 - 200*exp(-t/2))\nEq(x(t), 200 - 200*exp(-t/2))\nEq(x(t), 200 - 200*exp(-t/2))\nEq(x(t), 200 - 200*exp(-t/2))\nEq(x(t), 200 - 200*exp(-t/2))\nEq(x(t), 200 - 200*exp(-t/2))\nEq(x(t), 200 - 200*exp(-t/2))\nEq(x(t), 200 - 200*exp(-t/2))\nEq(x(t), 200 - 200*exp(-t/2))\nEq(x(t), 200 - 200*exp(-t/2))\nEq(x(t), 200 - 200*exp(-t/2))\nEq(x(t), 200 - 200*exp(-t/2))\nEq(x(t), 200 - 200*exp(-t/2))\nEq(x(t), 200 - 200*exp(-t/2))\nEq(x(t), 200 - 200*exp(-t/2))\nEq(x(t), 200 - 200*exp(-t/2))\nEq(x(t), 200 - 200*exp(-t/2))\nEq(x(t), 200 - 200*exp(-t/2))\nEq(x(t), 200 - 200*exp(-t/2))\nEq(x(t), 200 - 200*exp(-t/2))\nEq(x(t), 200 - 200*exp(-t/2))\nEq(x(t), 200 - 200*exp(-t/2))\nEq(x(t), 200 - 200*exp(-t/2))\nEq(x(t), 200 - 200*exp(-t/2))\nEq(x(t), 200 - 200*exp(-t/2))\nEq(x(t), 200 - 200*exp(-t/2))\nEq(x(t), 200 - 200*exp(-t/2))\nEq(x(t), 200 - 200*exp(-t/2))\nEq(x(t), 200 - 200*exp(-t/2))\nEq(x(t), 200 - 200*exp(-t/2))\nEq(x(t), 200 - 200*exp(-t/2))\nEq(x(t), 200 - 200*exp(-t/2))\nEq(x(t), 200 - 200*exp(-t/2))\nEq(x(t), 200 - 200*exp(-t/2))\nEq(x(t), 200 - 200*exp(-t/2))\nEq(x(t), 200 - 200*exp(-t/2))\nEq(x(t), 200 - 200*exp(-t/2))\nEq(x(t), 200 - 200*exp(-t/2))\nEq(x(t), 200 - 200*exp(-t/2))\nEq(x(t), 200 - 200*exp(-t/2))\nEq(x(t), 200 - 200*exp(-t/2))\nEq(x(t), 200 - 200*exp(-t/2))\nEq(x(t), 200 - 200*exp(-t/2))\nEq(x(t), 200 - 200*exp(-t/2))\nEq(x(t), 200 - 200*exp(-t/2))\nEq(x(t), 200 - 200*exp(-t/2))\nEq(x(t), 200 - 200*exp(-t/2))\nEq(x(t), 200 - 200*exp(-t/2))\nEq(x(t), 200 - 200*exp(-t/2))\nEq(x(t), 200 - 200*exp(-t/2))\nEq(x(t), 200 - 200*exp(-t/2))\nEq(x(t), 200 - 200*exp(-t/2))\nEq(x(t), 200 - 200*exp(-t/2))\nEq(x(t), 200 - 200*exp(-t/2))\nEq(x(t), 200 - 200*exp(-t/2))\nEq(x(t), 200 - 200*exp(-t/2))\nEq(x(t), 200 - 200*exp(-t/2))\nEq(x(t), 200 - 200*exp(-t/2))\nEq(x(t), 200 - 200*exp(-t/2))\nEq(x(t), 200 - 200*exp(-t/2))\nEq(x(t), 200 - 200*exp(-t/2))\nEq(x(t), 200 - 200*exp(-t/2))\nEq(x(t), 200 - 200*exp(-t/2))\nEq(x(t), 200 - 200*exp(-t/2))\nEq(x(t), 200 - 200*exp(-t/2))\nEq(x(t), 200 - 200*exp(-t/2))\nEq(x(t), 200 - 200*exp(-t/2))\nEq(x(t), 200 - 200*exp(-t/2))\nEq(x(t), 200 - 200*exp(-t/2))\nEq(x(t), 200 - 200*exp(-t/2))\nEq(x(t), 200 - 200*exp(-t/2))\nEq(x(t), 200 - 200*exp(-t/2))\nEq(x(t), 200 - 200*exp(-t/2))\nEq(x(t), 200 - 200*exp(-t/2))\nEq(x(t), 200 - 200*exp(-t/2))\nEq(x(t), 200 - 200*exp(-t/2))\nEq(x(t), 200 - 200*exp(-t/2))\nEq(x(t), 200 - 200*exp(-t/2))\nEq(x(t), 200 - 200*exp(-t/2))\nEq(x(t), 200 - 200*exp(-t/2))\nEq(x(t), 200 - 200*exp(-t/2))\nEq(x(t), 200 - 200*exp(-t/2))\nEq(x(t), 200 - 200*exp(-t/2))\nEq(x(t), 200 - 200*exp(-t/2))\nEq(x(t), 200 - 200*exp(-t/2))\nEq(x(t), 200 - 200*exp(-t/2))\nEq(x(t), 200 - 200*exp(-t/2))\nEq(x(t), 200 - 200*exp(-t/2))\nEq(x(t), 200 - 200*exp(-t/2))\nEq(x(t), 200 - 200*exp(-t/2))\nEq(x(t), 200 - 200*exp(-t/2))\nEq(x(t), 200 - 200*exp(-t/2))\nEq(x(t), 200 - 200*exp(-t/2))\nEq(x(t), 200 - 200*exp(-t/2))\nEq(x(t), 200 - 200*exp(-t/2))\nEq(x(t), 200 - 200*exp(-t/2))\nEq(x(t), 200 - 200*exp(-t/2))\nEq(x(t), 200 - 200*exp(-t/2))\nEq(x(t), 200 - 200*exp(-t/2))\nEq(x(t), 200 - 200*exp(-t/2))\nEq(x(t), 200 - 200*exp(-t/2))\nEq(x(t), 200 - 200*exp(-t/2))\nEq(x(t), 200 - 200*exp(-t/2))\nEq(x(t), 200 - 200*exp(-t/2))\nEq(x(t), 200 - 200*exp(-t/2))\nEq(x(t), 200 - 200*exp(-t/2))\nEq(x(t), 200 - 200*exp(-t/2))\nEq(x(t), 200 - 200*exp(-t/2))\nEq(x(t), 200 - 200*exp(-t/2))\nEq(x(t), 200 - 200*exp(-t/2))\nEq(x(t), 200 - 200*exp(-t/2))\nEq(x(t), 200 - 200*exp(-t/2))\nEq(x(t), 200 - 200*exp(-t/2))\nEq(x(t), 200 - 200*exp(-t/2))\nEq(x(t), 200 - 200*exp(-t/2))\nEq(x(t), 200 - 200*exp(-t/2))\nEq(x(t), 200 - 200*exp(-t/2))\nEq(x(t), 200 - 200*exp(-t/2))\nEq(x(t), 200 - 200*exp(-t/2))\nEq(x(t), 200 - 200*exp(-t/2))\nEq(x(t), 200 - 200*exp(-t/2))\nEq(x(t), 200 - 200*exp(-t/2))\nEq(x(t), 200 - 200*exp(-t/2))\nEq(x(t), 200 - 200*exp(-t/2))\nEq(x(t), 200 - 200*exp(-t/2))\nEq(x(t), 200 - 200*exp(-t/2))\nEq(x(t), 200 - 200*exp(-t/2))\nEq(x(t), 200 - 200*exp(-t/2))\nEq(x(t), 200 - 200*exp(-t/2))\nEq(x(t), 200 - 200*exp(-t/2))\nEq(x(t), 200 - 200*exp(-t/2))\nEq(x(t), 200 - 200*exp(-t/2))\nEq(x(t), 200 - 200*exp(-t/2))\nEq(x(t), 200 - 200*exp(-t/2))\nEq(x(t), 200 - 200*exp(-t/2))\nEq(x(t), 200 - 200*exp(-t/2))\nEq(x(t), 200 - 200*exp(-t/2))\nEq(x(t), 200 - 200*exp(-t/2))\nEq(x(t), 200 - 200*exp(-t/2))\nEq(x(t), 200 - 200*exp(-t/2))\nEq(x(t), 200 - 200*exp(-t/2))\nEq(x(t), 200 - 200*exp(-t/2))\nEq(x(t), 200 - 200*exp(-t/2))\nEq(x(t), 200 - 200*exp(-t/2))\nEq(x(t), 200 - 200*exp(-t/2))\nEq(x(t), 200 - 200*exp(-t/2))\nEq(x(t), 200 - 200*exp(-t/2))\nEq(x(t), 200 - 200*exp(-t/2))\nEq(x(t), 200 - 200*exp(-t/2))\nEq(x(t), 200 - 200*exp(-t/2))\nEq(x(t), 200 - 200*exp(-t/2))\nEq(x(t), 200 - 200*exp(-t/2))\nEq(x(t), 200 - 200*exp(-t/2))\nEq(x(t), 200 - 200*exp(-t/2))\nEq(x(t), 200 - 200*exp(-t/2))\nEq(x(t), 200 - 200*exp(-t/2))\nEq(x(t), 200 - 200*exp(-t/2))\nEq(x(t), 200 - 200*exp(-t/2))\nEq(x(t), 200 - 200*exp(-t/2))\nEq(x(t), 200 - 200*exp(-t/2))\nEq(x(t), 200 - 200*exp(-t/2))\nEq(x(t), 200 - 200*exp(-t/2))\nEq(x(t), 200 - 200*exp(-t/2))\nEq(x(t), 200 - 200*exp(-t/2))\nEq(x(t), 200 - 200*exp(-t/2))\nEq(x(t), 200 - 200*exp(-t/2))\nEq(x(t), 200 - 200*exp(-t/2))\nEq(x(t), 200 - 200*exp(-t/2))\nEq(x(t), 200 - 200*exp(-t/2))\nEq(x(t), 200 - 200*exp(-t/2))\nEq(x(t), 200 - 200*exp(-t/2))\nEq(x(t), 200 - 200*exp(-t/2))\nEq(x(t), 200 - 200*exp(-t/2))\nEq(x(t), 200 - 200*exp(-t/2))\nEq(x(t), 200 - 200*exp(-t/2))\nEq(x(t), 200 - 200*exp(-t/2))\nEq(x(t), 200 - 200*exp(-t/2))\nEq(x(t), 200 - 200*exp(-t/2))\nEq(x(t), 200 - 200*exp(-t/2))\nEq(x(t), 200 - 200*exp(-t/2))\nEq(x(t), 200 - 200*exp(-t/2))\nEq(x(t), 200 - 200*exp(-t/2))\nEq(x(t), 200 - 200*exp(-t/2))\nEq(x(t), 200 - 200*exp(-t/2))\nEq(x(t), 200 - 200*exp(-t/2))\nEq(x(t), 200 - 200*exp(-t/2))\nEq(x(t), 200 - 200*exp(-t/2))\nEq(x(t), 200 - 200*exp(-t/2))\nEq(x(t), 200 - 200*exp(-t/2))\nEq(x(t), 200 - 200*exp(-t/2))\nEq(x(t), 200 - 200*exp(-t/2))\nEq(x(t), 200 - 200*exp(-t/2))\nEq(x(t), 200 - 200*exp(-t/2))\nEq(x(t), 200 - 200*exp(-t/2))\nEq(x(t), 200 - 200*exp(-t/2))\nEq(x(t), 200 - 200*exp(-t/2))\nEq(x(t), 200 - 200*exp(-t/2))\nEq(x(t), 200 - 200*exp(-t/2))\nEq(x(t), 200 - 200*exp(-t/2))\nEq(x(t), 200 - 200*exp(-t/2))\nEq(x(t), 200 - 200*exp(-t/2))\nEq(x(t), 200 - 200*exp(-t/2))\nEq(x(t), 200 - 200*exp(-t/2))\nEq(x(t), 200 - 200*exp(-t/2))\nEq(x(t), 200 - 200*exp(-t/2))\nEq(x(t), 200 - 200*exp(-t/2))\nEq(x(t), 200 - 200*exp(-t/2))\nEq(x(t), 200 - 200*exp(-t/2))\nEq(x(t), 200 - 200*exp(-t/2))\nEq(x(t), 200 - 200*exp(-t/2))\nEq(x(t), 200 - 200*exp(-t/2))\nEq(x(t), 200 - 200*exp(-t/2))\nEq(x(t), 200 - 200*exp(-t/2))\nEq(x(t), 200 - 200*exp(-t/2))\nEq(x(t), 200 - 200*exp(-t/2))\nEq(x(t), 200 - 200*exp(-t/2))\nEq(x(t), 200 - 200*exp(-t/2))\nEq(x(t), 200 - 200*exp(-t/2))\nEq(x(t), 200 - 200*exp(-t/2))\nEq(x(t), 200 - 200*exp(-t/2))\nEq(x(t), 200 - 200*exp(-t/2))\nEq(x(t), 200 - 200*exp(-t/2))\nEq(x(t), 200 - 200*exp(-t/2))\nEq(x(t), 200 - 200*exp(-t/2))\nEq(x(t), 200 - 200*exp(-t/2))\nEq(x(t), 200 - 200*exp(-t/2))\nEq(x(t), 200 - 200*exp(-t/2))\nEq(x(t), 200 - 200*exp(-t/2))\nEq(x(t), 200 - 200*exp(-t/2))\nEq(x(t), 200 - 200*exp(-t/2))\nEq(x(t), 200 - 200*exp(-t/2))\nEq(x(t), 200 - 200*exp(-t/2))\nEq(x(t), 200 - 200*exp(-t/2))\nEq(x(t), 200 - 200*exp(-t/2))\nEq(x(t), 200 - 200*exp(-t/2))\nEq(x(t), 200 - 200*exp(-t/2))\nEq(x(t), 200 - 200*exp(-t/2))\nEq(x(t), 200 - 200*exp(-t/2))\nEq(x(t), 200 - 200*exp(-t/2))\nEq(x(t), 200 - 200*exp(-t/2))\nEq(x(t), 200 - 200*exp(-t/2))\nEq(x(t), 200 - 200*exp(-t/2))\nEq(x(t), 200 - 200*exp(-t/2))\nEq(x(t), 200 - 200*exp(-t/2))\nEq(x(t), 200 - 200*exp(-t/2))\nEq(x(t), 200 - 200*exp(-t/2))\nEq(x(t), 200 - 200*exp(-t/2))\nEq(x(t), 200 - 200*exp(-t/2))\nEq(x(t), 200 - 200*exp(-t/2))\nEq(x(t), 200 - 200*exp(-t/2))\nEq(x(t), 200 - 200*exp(-t/2))\nEq(x(t), 200 - 200*exp(-t/2))\nEq(x(t), 200 - 200*exp(-t/2))\nEq(x(t), 200 - 200*exp(-t/2))\nEq(x(t), 200 - 200*exp(-t/2))\nEq(x(t), 200 - 200*exp(-t/2))\nEq(x(t), 200 - 200*exp(-t/2))\nEq(x(t), 200 - 200*exp(-t/2))\nEq(x(t), 200 - 200*exp(-t/2))\nEq(x(t), 200 - 200*exp(-t/2))\nEq(x(t), 200 - 200*exp(-t/2))\nEq(x(t), 200 - 200*exp(-t/2))\nEq(x(t), 200 - 200*exp(-t/2))\nEq(x(t), 200 - 200*exp(-t/2))\nEq(x(t), 200 - 200*exp(-t/2))\nEq(x(t), 200 - 200*exp(-t/2))\nEq(x(t), 200 - 200*exp(-t/2))\nEq(x(t), 200 - 200*exp(-t/2))\nEq(x(t), 200 - 200*exp(-t/2))\nEq(x(t), 200 - 200*exp(-t/2))\nEq(x(t), 200 - 200*exp(-t/2))\nEq(x(t), 200 - 200*exp(-t/2))\nEq(x(t), 200 - 200*exp(-t/2))\nEq(x(t), 200 - 200*exp(-t/2))\nEq(x(t), 200 - 200*exp(-t/2))\nEq(x(t), 200 - 200*exp(-t/2))\nEq(x(t), 200 - 200*exp(-t/2))\nEq(x(t), 200 - 200*exp(-t/2))\nEq(x(t), 200 - 200*exp(-t/2))\nEq(x(t), 200 - 200*exp(-t/2))\nEq(x(t), 200 - 200*exp(-t/2))\nEq(x(t), 200 - 200*exp(-t/2))\nEq(x(t), 200 - 200*exp(-t/2))\nEq(x(t), 200 - 200*exp(-t/2))\nEq(x(t), 200 - 200*exp(-t/2))\nEq(x(t), 200 - 200*exp(-t/2))\nEq(x(t), 200 - 200*exp(-t/2))\nEq(x(t), 200 - 200*exp(-t/2))\nEq(x(t), 200 - 200*exp(-t/2))\nEq(x(t), 200 - 200*exp(-t/2))\nEq(x(t), 200 - 200*exp(-t/2))\nEq(x(t), 200 - 200*exp(-t/2))\nEq(x(t), 200 - 200*exp(-t/2))\nEq(x(t), 200 - 200*exp(-t/2))\nEq(x(t), 200 - 200*exp(-t/2))\nEq(x(t), 200 - 200*exp(-t/2))\nEq(x(t), 200 - 200*exp(-t/2))\nEq(x(t), 200 - 200*exp(-t/2))\nEq(x(t), 200 - 200*exp(-t/2))\nEq(x(t), 200 - 200*exp(-t/2))\nEq(x(t), 200 - 200*exp(-t/2))\nEq(x(t), 200 - 200*exp(-t/2))\nEq(x(t), 200 - 200*exp(-t/2))\nEq(x(t), 200 - 200*exp(-t/2))\nEq(x(t), 200 - 200*exp(-t/2))\nEq(x(t), 200 - 200*exp(-t/2))\nEq(x(t), 200 - 200*exp(-t/2))\nEq(x(t), 200 - 200*exp(-t/2))\nEq(x(t), 200 - 200*exp(-t/2))\nEq(x(t), 200 - 200*exp(-t/2))\nEq(x(t), 200 - 200*exp(-t/2))\nEq(x(t), 200 - 200*exp(-t/2))\nEq(x(t), 200 - 200*exp(-t/2))\nEq(x(t), 200 - 200*exp(-t/2))\nEq(x(t), 200 - 200*exp(-t/2))\nEq(x(t), 200 - 200*exp(-t/2))\nEq(x(t), 200 - 200*exp(-t/2))\nEq(x(t), 200 - 200*exp(-t/2))\nEq(x(t), 200 - 200*exp(-t/2))\nEq(x(t), 200 - 200*exp(-t/2))\nEq(x(t), 200 - 200*exp(-t/2))\nEq(x(t), 200 - 200*exp(-t/2))\nEq(x(t), 200 - 200*exp(-t/2))\nEq(x(t), 200 - 200*exp(-t/2))\nEq(x(t), 200 - 200*exp(-t/2))\nEq(x(t), 200 - 200*exp(-t/2))\nEq(x(t), 200 - 200*exp(-t/2))\nEq(x(t), 200 - 200*exp(-t/2))\nEq(x(t), 200 - 200*exp(-t/2))\nEq(x(t), 200 - 200*exp(-t/2))\nEq(x(t), 200 - 200*exp(-t/2))\nEq(x(t), 200 - 200*exp(-t/2))\nEq(x(t), 200 - 200*exp(-t/2))\nEq(x(t), 200 - 200*exp(-t/2))\nEq(x(t), 200 - 200*exp(-t/2))\nEq(x(t), 200 - 200*exp(-t/2))\nEq(x(t), 200 - 200*exp(-t/2))\nEq(x(t), 200 - 200*exp(-t/2))\nEq(x(t), 200 - 200*exp(-t/2))\nEq(x(t), 200 - 200*exp(-t/2))\nEq(x(t), 200 - 200*exp(-t/2))\nEq(x(t), 200 - 200*exp(-t/2))\nEq(x(t), 200 - 200*exp(-t/2))\nEq(x(t), 200 - 200*exp(-t/2))\nEq(x(t), 200 - 200*exp(-t/2))\nEq(x(t), 200 - 200*exp(-t/2))\nEq(x(t), 200 - 200*exp(-t/2))\nEq(x(t), 200 - 200*exp(-t/2))\nEq(x(t), 200 - 200*exp(-t/2))\nEq(x(t), 200 - 200*exp(-t/2))\nEq(x(t), 200 - 200*exp(-t/2))\nEq(x(t), 200 - 200*exp(-t/2))\nEq(x(t), 200 - 200*exp(-t/2))\nEq(x(t), 200 - 200*exp(-t/2))\nEq(x(t), 200 - 200*exp(-t/2))\nEq(x(t), 200 - 200*exp(-t/2))\nEq(x(t), 200 - 200*exp(-t/2))\nEq(x(t), 200 - 200*exp(-t/2))\nEq(x(t), 200 - 200*exp(-t/2))\nEq(x(t), 200 - 200*exp(-t/2))\nEq(x(t), 200 - 200*exp(-t/2))\nEq(x(t), 200 - 200*exp(-t/2))\nEq(x(t), 200 - 200*exp(-t/2))\nEq(x(t), 200 - 200*exp(-t/2))\nEq(x(t), 200 - 200*exp(-t/2))\nEq(x(t), 200 - 200*exp(-t/2))\nEq(x(t), 200 - 200*exp(-t/2))\nEq(x(t), 200 - 200*exp(-t/2))\nEq(x(t), 200 - 200*exp(-t/2))\nEq(x(t), 200 - 200*exp(-t/2))\nEq(x(t), 200 - 200*exp(-t/2))\nEq(x(t), 200 - 200*exp(-t/2))\nEq(x(t), 200 - 200*exp(-t/2))\nEq(x(t), 200 - 200*exp(-t/2))\nEq(x(t), 200 - 200*exp(-t/2))\nEq(x(t), 200 - 200*exp(-t/2))\nEq(x(t), 200 - 200*exp(-t/2))\nEq(x(t), 200 - 200*exp(-t/2))\nEq(x(t), 200 - 200*exp(-t/2))\nEq(x(t), 200 - 200*exp(-t/2))\nEq(x(t), 200 - 200*exp(-t/2))\nEq(x(t), 200 - 200*exp(-t/2))\nEq(x(t), 200 - 200*exp(-t/2))\nEq(x(t), 200 - 200*exp(-t/2))\nEq(x(t), 200 - 200*exp(-t/2))\nEq(x(t), 200 - 200*exp(-t/2))\nEq(x(t), 200 - 200*exp(-t/2))\nEq(x(t), 200 - 200*exp(-t/2))\nEq(x(t), 200 - 200*exp(-t/2))\nEq(x(t), 200 - 200*exp(-t/2))\nEq(x(t), 200 - 200*exp(-t/2))\nEq(x(t), 200 - 200*exp(-t/2))\nEq(x(t), 200 - 200*exp(-t/2))\nEq(x(t), 200 - 200*exp(-t/2))\nEq(x(t), 200 - 200*exp(-t/2))\nEq(x(t), 200 - 200*exp(-t/2))\nEq(x(t), 200 - 200*exp(-t/2))\nEq(x(t), 200 - 200*exp(-t/2))\nEq(x(t), 200 - 200*exp(-t/2))\nEq(x(t), 200 - 200*exp(-t/2))\nEq(x(t), 200 - 200*exp(-t/2))\nEq(x(t), 200 - 200*exp(-t/2))\nEq(x(t), 200 - 200*exp(-t/2))\nEq(x(t), 200 - 200*exp(-t/2))\nEq(x(t), 200 - 200*exp(-t/2))\nEq(x(t), 200 - 200*exp(-t/2))\nEq(x(t), 200 - 200*exp(-t/2))\nEq(x(t), 200 - 200*exp(-t/2))\nEq(x(t), 200 - 200*exp(-t/2))\nEq(x(t), 200 - 200*exp(-t/2))\nEq(x(t), 200 - 200*exp(-t/2))\nEq(x(t), 200 - 200*exp(-t/2))\nEq(x(t), 200 - 200*exp(-t/2))\nEq(x(t), 200 - 200*exp(-t/2))\nEq(x(t), 200 - 200*exp(-t/2))\nEq(x(t), 200 - 200*exp(-t/2))\nEq(x(t), 200 - 200*exp(-t/2))\nEq(x(t), 200 - 200*exp(-t/2))\nEq(x(t), 200 - 200*exp(-t/2))\nEq(x(t), 200 - 200*exp(-t/2))\nEq(x(t), 200 - 200*exp(-t/2))\nEq(x(t), 200 - 200*exp(-t/2))\nEq(x(t), 200 - 200*exp(-t/2))\nEq(x(t), 200 - 200*exp(-t/2))\nEq(x(t), 200 - 200*exp(-t/2))\nEq(x(t), 200 - 200*exp(-t/2))\nEq(x(t), 200 - 200*exp(-t/2))\nEq(x(t), 200 - 200*exp(-t/2))\nEq(x(t), 200 - 200*exp(-t/2))\nEq(x(t), 200 - 200*exp(-t/2))\nEq(x(t), 200 - 200*exp(-t/2))\nEq(x(t), 200 - 200*exp(-t/2))\nEq(x(t), 200 - 200*exp(-t/2))\nEq(x(t), 200 - 200*exp(-t/2))\nEq(x(t), 200 - 200*exp(-t/2))\nEq(x(t), 200 - 200*exp(-t/2))\nEq(x(t), 200 - 200*exp(-t/2))\nEq(x(t), 200 - 200*exp(-t/2))\nEq(x(t), 200 - 200*exp(-t/2))\nEq(x(t), 200 - 200*exp(-t/2))\nEq(x(t), 200 - 200*exp(-t/2))\nEq(x(t), 200 - 200*exp(-t/2))\nEq(x(t), 200 - 200*exp(-t/2))\nEq(x(t), 200 - 200*exp(-t/2))\nEq(x(t), 200 - 200*exp(-t/2))\nEq(x(t), 200 - 200*exp(-t/2))\nEq(x(t), 200 - 200*exp(-t/2))\nEq(x(t), 200 - 200*exp(-t/2))\nEq(x(t), 200 - 200*exp(-t/2))\nEq(x(t), 200 - 200*exp(-t/2))\nEq(x(t), 200 - 200*exp(-t/2))\nEq(x(t), 200 - 200*exp(-t/2))\nEq(x(t), 200 - 200*exp(-t/2))\nEq(x(t), 200 - 200*exp(-t/2))\nEq(x(t), 200 - 200*exp(-t/2))\nEq(x(t), 200 - 200*exp(-t/2))\nEq(x(t), 200 - 200*exp(-t/2))\nEq(x(t), 200 - 200*exp(-t/2))\nEq(x(t), 200 - 200*exp(-t/2))\nEq(x(t), 200 - 200*exp(-t/2))\nEq(x(t), 200 - 200*exp(-t/2))\nEq(x(t), 200 - 200*exp(-t/2))\nEq(x(t), 200 - 200*exp(-t/2))\nEq(x(t), 200 - 200*exp(-t/2))\nEq(x(t), 200 - 200*exp(-t/2))\nEq(x(t), 200 - 200*exp(-t/2))\nEq(x(t), 200 - 200*exp(-t/2))\nEq(x(t), 200 - 200*exp(-t/2))\nEq(x(t), 200 - 200*exp(-t/2))\nEq(x(t), 200 - 200*exp(-t/2))\nEq(x(t), 200 - 200*exp(-t/2))\nEq(x(t), 200 - 200*exp(-t/2))\nEq(x(t), 200 - 200*exp(-t/2))\nEq(x(t), 200 - 200*exp(-t/2))\nEq(x(t), 200 - 200*exp(-t/2))\nEq(x(t), 200 - 200*exp(-t/2))\nEq(x(t), 200 - 200*exp(-t/2))\nEq(x(t), 200 - 200*exp(-t/2))\nEq(x(t), 200 - 200*exp(-t/2))\nEq(x(t), 200 - 200*exp(-t/2))\nEq(x(t), 200 - 200*exp(-t/2))\nEq(x(t), 200 - 200*exp(-t/2))\nEq(x(t), 200 - 200*exp(-t/2))\nEq(x(t), 200 - 200*exp(-t/2))\nEq(x(t), 200 - 200*exp(-t/2))\nEq(x(t), 200 - 200*exp(-t/2))\nEq(x(t), 200 - 200*exp(-t/2))\nEq(x(t), 200 - 200*exp(-t/2))\nEq(x(t), 200 - 200*exp(-t/2))\nEq(x(t), 200 - 200*exp(-t/2))\nEq(x(t), 200 - 200*exp(-t/2))\nEq(x(t), 200 - 200*exp(-t/2))\nEq(x(t), 200 - 200*exp(-t/2))\nEq(x(t), 200 - 200*exp(-t/2))\nEq(x(t), 200 - 200*exp(-t/2))\nEq(x(t), 200 - 200*exp(-t/2))\nEq(x(t), 200 - 200*exp(-t/2))\nEq(x(t), 200 - 200*exp(-t/2))\nEq(x(t), 200 - 200*exp(-t/2))\nEq(x(t), 200 - 200*exp(-t/2))\nEq(x(t), 200 - 200*exp(-t/2))\nEq(x(t), 200 - 200*exp(-t/2))\nEq(x(t), 200 - 200*exp(-t/2))\nEq(x(t), 200 - 200*exp(-t/2))\nEq(x(t), 200 - 200*exp(-t/2))\nEq(x(t), 200 - 200*exp(-t/2))\nEq(x(t), 200 - 200*exp(-t/2))\nEq(x(t), 200 - 200*exp(-t/2))\nEq(x(t), 200 - 200*exp(-t/2))\nEq(x(t), 200 - 200*exp(-t/2))\nEq(x(t), 200 - 200*exp(-t/2))\nEq(x(t), 200 - 200*exp(-t/2))\nEq(x(t), 200 - 200*exp(-t/2))\nEq(x(t), 200 - 200*exp(-t/2))\nEq(x(t), 200 - 200*exp(-t/2))\nEq(x(t), 200 - 200*exp(-t/2))\nEq(x(t), 200 - 200*exp(-t/2))\nEq(x(t), 200 - 200*exp(-t/2))\nEq(x(t), 200 - 200*exp(-t/2))\nEq(x(t), 200 - 200*exp(-t/2))\nEq(x(t), 200 - 200*exp(-t/2))\nEq(x(t), 200 - 200*exp(-t/2))\nEq(x(t), 200 - 200*exp(-t/2))\nEq(x(t), 200 - 200*exp(-t/2))\nEq(x(t), 200 - 200*exp(-t/2))\nEq(x(t), 200 - 200*exp(-t/2))\nEq(x(t), 200 - 200*exp(-t/2))\nEq(x(t), 200 - 200*exp(-t/2))\nEq(x(t), 200 - 200*exp(-t/2))\nEq(x(t), 200 - 200*exp(-t/2))\nEq(x(t), 200 - 200*exp(-t/2))\nEq(x(t), 200 - 200*exp(-t/2))\nEq(x(t), 200 - 200*exp(-t/2))\nEq(x(t), 200 - 200*exp(-t/2))\nEq(x(t), 200 - 200*exp(-t/2))\nEq(x(t), 200 - 200*exp(-t/2))\nEq(x(t), 200 - 200*exp(-t/2))\nEq(x(t), 200 - 200*exp(-t/2))\nEq(x(t), 200 - 200*exp(-t/2))\nEq(x(t), 200 - 200*exp(-t/2))\nEq(x(t), 200 - 200*exp(-t/2))\nEq(x(t), 200 - 200*exp(-t/2))\nEq(x(t), 200 - 200*exp(-t/2))\nEq(x(t), 200 - 200*exp(-t/2))\nEq(x(t), 200 - 200*exp(-t/2))\nEq(x(t), 200 - 200*exp(-t/2))\nEq(x(t), 200 - 200*exp(-t/2))\nEq(x(t), 200 - 200*exp(-t/2))\nEq(x(t), 200 - 200*exp(-t/2))\nEq(x(t), 200 - 200*exp(-t/2))\nEq(x(t), 200 - 200*exp(-t/2))\nEq(x(t), 200 - 200*exp(-t/2))\nEq(x(t), 200 - 200*exp(-t/2))\nEq(x(t), 200 - 200*exp(-t/2))\nEq(x(t), 200 - 200*exp(-t/2))\nEq(x(t), 200 - 200*exp(-t/2))\nEq(x(t), 200 - 200*exp(-t/2))\nEq(x(t), 200 - 200*exp(-t/2))\nEq(x(t), 200 - 200*exp(-t/2))\nEq(x(t), 200 - 200*exp(-t/2))\nEq(x(t), 200 - 200*exp(-t/2))\nEq(x(t), 200 - 200*exp(-t/2))\nEq(x(t), 200 - 200*exp(-t/2))\nEq(x(t), 200 - 200*exp(-t/2))\nEq(x(t), 200 - 200*exp(-t/2))\nEq(x(t), 200 - 200*exp(-t/2))\nEq(x(t), 200 - 200*exp(-t/2))\nEq(x(t), 200 - 200*exp(-t/2))\nEq(x(t), 200 - 200*exp(-t/2))\nEq(x(t), 200 - 200*exp(-t/2))\nEq(x(t), 200 - 200*exp(-t/2))\nEq(x(t), 200 - 200*exp(-t/2))\nEq(x(t), 200 - 200*exp(-t/2))\nEq(x(t), 200 - 200*exp(-t/2))\nEq(x(t), 200 - 200*exp(-t/2))\nEq(x(t), 200 - 200*exp(-t/2))\nEq(x(t), 200 - 200*exp(-t/2))\nEq(x(t), 200 - 200*exp(-t/2))\nEq(x(t), 200 - 200*exp(-t/2))\nEq(x(t), 200 - 200*exp(-t/2))\nEq(x(t), 200 - 200*exp(-t/2))\nEq(x(t), 200 - 200*exp(-t/2))\nEq(x(t), 200 - 200*exp(-t/2))\nEq(x(t), 200 - 200*exp(-t/2))\nEq(x(t), 200 - 200*exp(-t/2))\nEq(x(t), 200 - 200*exp(-t/2))\nEq(x(t), 200 - 200*exp(-t/2))\nEq(x(t), 200 - 200*exp(-t/2))\nEq(x(t), 200 - 200*exp(-t/2))\nEq(x(t), 200 - 200*exp(-t/2))\nEq(x(t), 200 - 200*exp(-t/2))\nEq(x(t), 200 - 200*exp(-t/2))\nEq(x(t), 200 - 200*exp(-t/2))\nEq(x(t), 200 - 200*exp(-t/2))\nEq(x(t), 200 - 200*exp(-t/2))\nEq(x(t), 200 - 200*exp(-t/2))\nEq(x(t), 200 - 200*exp(-t/2))\nEq(x(t), 200 - 200*exp(-t/2))\nEq(x(t), 200 - 200*exp(-t/2))\nEq(x(t), 200 - 200*exp(-t/2))\nEq(x(t), 200 - 200*exp(-t/2))\nEq(x(t), 200 - 200*exp(-t/2))\nEq(x(t), 200 - 200*exp(-t/2))\nEq(x(t), 200 - 200*exp(-t/2))\nEq(x(t), 200 - 200*exp(-t/2))\nEq(x(t), 200 - 200*exp(-t/2))\nEq(x(t), 200 - 200*exp(-t/2))\nEq(x(t), 200 - 200*exp(-t/2))\nEq(x(t), 200 - 200*exp(-t/2))\nEq(x(t), 200 - 200*exp(-t/2))\nEq(x(t), 200 - 200*exp(-t/2))\nEq(x(t), 200 - 200*exp(-t/2))\nEq(x(t), 200 - 200*exp(-t/2))\nEq(x(t), 200 - 200*exp(-t/2))\nEq(x(t), 200 - 200*exp(-t/2))\nEq(x(t), 200 - 200*exp(-t/2))\nEq(x(t), 200 - 200*exp(-t/2))\nEq(x(t), 200 - 200*exp(-t/2))\nEq(x(t), 200 - 200*exp(-t/2))\nEq(x(t), 200 - 200*exp(-t/2))\nEq(x(t), 200 - 200*exp(-t/2))\nEq(x(t), 200 - 200*exp(-t/2))\nEq(x(t), 200 - 200*exp(-t/2))\nEq(x(t), 200 - 200*exp(-t/2))\nEq(x(t), 200 - 200*exp(-t/2))\nEq(x(t), 200 - 200*exp(-t/2))\nEq(x(t), 200 - 200*exp(-t/2))\nEq(x(t), 200 - 200*exp(-t/2))\nEq(x(t), 200 - 200*exp(-t/2))\nEq(x(t), 200 - 200*exp(-t/2))\nEq(x(t), 200 - 200*exp(-t/2))\nEq(x(t), 200 - 200*exp(-t/2))\nEq(x(t), 200 - 200*exp(-t/2))\nEq(x(t), 200 - 200*exp(-t/2))\nEq(x(t), 200 - 200*exp(-t/2))\nEq(x(t), 200 - 200*exp(-t/2))\nEq(x(t), 200 - 200*exp(-t/2))\nEq(x(t), 200 - 200*exp(-t/2))\nEq(x(t), 200 - 200*exp(-t/2))\nEq(x(t), 200 - 200*exp(-t/2))\nEq(x(t), 200 - 200*exp(-t/2))\nEq(x(t), 200 - 200*exp(-t/2))\nEq(x(t), 200 - 200*exp(-t/2))\nEq(x(t), 200 - 200*exp(-t/2))\nEq(x(t), 200 - 200*exp(-t/2))\nEq(x(t), 200 - 200*exp(-t/2))\nEq(x(t), 200 - 200*exp(-t/2))\nEq(x(t), 200 - 200*exp(-t/2))\nEq(x(t), 200 - 200*exp(-t/2))\nEq(x(t), 200 - 200*exp(-t/2))\nEq(x(t), 200 - 200*exp(-t/2))\nEq(x(t), 200 - 200*exp(-t/2))\nEq(x(t), 200 - 200*exp(-t/2))\nEq(x(t), 200 - 200*exp(-t/2))\nEq(x(t), 200 - 200*exp(-t/2))\nEq(x(t), 200 - 200*exp(-t/2))\nEq(x(t), 200 - 200*exp(-t/2))\nEq(x(t), 200 - 200*exp(-t/2))\nEq(x(t), 200 - 200*exp(-t/2))\nEq(x(t), 200 - 200*exp(-t/2))\nEq(x(t), 200 - 200*exp(-t/2))\nEq(x(t), 200 - 200*exp(-t/2))\nEq(x(t), 200 - 200*exp(-t/2))\nEq(x(t), 200 - 200*exp(-t/2))\nEq(x(t), 200 - 200*exp(-t/2))\nEq(x(t), 200 - 200*exp(-t/2))\nEq(x(t), 200 - 200*exp(-t/2))\nEq(x(t), 200 - 200*exp(-t/2))\nEq(x(t), 200 - 200*exp(-t/2))\nEq(x(t), 200 - 200*exp(-t/2))\nEq(x(t), 200 - 200*exp(-t/2))\nEq(x(t), 200 - 200*exp(-t/2))\nEq(x(t), 200 - 200*exp(-t/2))\nEq(x(t), 200 - 200*exp(-t/2))\nEq(x(t), 200 - 200*exp(-t/2))\nEq(x(t), 200 - 200*exp(-t/2))\nEq(x(t), 200 - 200*exp(-t/2))\nEq(x(t), 200 - 200*exp(-t/2))\nEq(x(t), 200 - 200*exp(-t/2))\nEq(x(t), 200 - 200*exp(-t/2))\nEq(x(t), 200 - 200*exp(-t/2))\nEq(x(t), 200 - 200*exp(-t/2))\nEq(x(t), 200 - 200*exp(-t/2))\nEq(x(t), 200 - 200*exp(-t/2))\nEq(x(t), 200 - 200*exp(-t/2))\nEq(x(t), 200 - 200*exp(-t/2))\nEq(x(t), 200 - 200*exp(-t/2))\nEq(x(t), 200 - 200*exp(-t/2))\nEq(x(t), 200 - 200*exp(-t/2))\nEq(x(t), 200 - 200*exp(-t/2))\nEq(x(t), 200 - 200*exp(-t/2))\nEq(x(t), 200 - 200*exp(-t/2))\nEq(x(t), 200 - 200*exp(-t/2))\nEq(x(t), 200 - 200*exp(-t/2))\nEq(x(t), 200 - 200*exp(-t/2))\nEq(x(t), 200 - 200*exp(-t/2))\nEq(x(t), 200 - 200*exp(-t/2))\nEq(x(t), 200 - 200*exp(-t/2))\nEq(x(t), 200 - 200*exp(-t/2))\nEq(x(t), 200 - 200*exp(-t/2))\nEq(x(t), 200 - 200*exp(-t/2))\nEq(x(t), 200 - 200*exp(-t/2))\nEq(x(t), 200 - 200*exp(-t/2))\nEq(x(t), 200 - 200*exp(-t/2))\nEq(x(t), 200 - 200*exp(-t/2))\nEq(x(t), 200 - 200*exp(-t/2))\nEq(x(t), 200 - 200*exp(-t/2))\nEq(x(t), 200 - 200*exp(-t/2))\nEq(x(t), 200 - 200*exp(-t/2))\nEq(x(t), 200 - 200*exp(-t/2))\nEq(x(t), 200 - 200*exp(-t/2))\nEq(x(t), 200 - 200*exp(-t/2))\nEq(x(t), 200 - 200*exp(-t/2))\nEq(x(t), 200 - 200*exp(-t/2))\nEq(x(t), 200 - 200*exp(-t/2))\nEq(x(t), 200 - 200*exp(-t/2))\nEq(x(t), 200 - 200*exp(-t/2))\nEq(x(t), 200 - 200*exp(-t/2))\nEq(x(t), 200 - 200*exp(-t/2))\nEq(x(t), 200 - 200*exp(-t/2))\nEq(x(t), 200 - 200*exp(-t/2))\nEq(x(t), 200 - 200*exp(-t/2))\nEq(x(t), 200 - 200*exp(-t/2))\nEq(x(t), 200 - 200*exp(-t/2))\nEq(x(t), 200 - 200*exp(-t/2))\nEq(x(t), 200 - 200*exp(-t/2))\nEq(x(t), 200 - 200*exp(-t/2))\nEq(x(t), 200 - 200*exp(-t/2))\nEq(x(t), 200 - 200*exp(-t/2))\nEq(x(t), 200 - 200*exp(-t/2))\nEq(x(t), 200 - 200*exp(-t/2))\nEq(x(t), 200 - 200*exp(-t/2))\nEq(x(t), 200 - 200*exp(-t/2))\nEq(x(t), 200 - 200*exp(-t/2))\nEq(x(t), 200 - 200*exp(-t/2))\nEq(x(t), 200 - 200*exp(-t/2))\nEq(x(t), 200 - 200*exp(-t/2))\nEq(x(t), 200 - 200*exp(-t/2))\nEq(x(t), 200 - 200*exp(-t/2))\nEq(x(t), 200 - 200*exp(-t/2))\nEq(x(t), 200 - 200*exp(-t/2))\nEq(x(t), 200 - 200*exp(-t/2))\nEq(x(t), 200 - 200*exp(-t/2))\nEq(x(t), 200 - 200*exp(-t/2))\nEq(x(t), 200 - 200*exp(-t/2))\nEq(x(t), 200 - 200*exp(-t/2))\nEq(x(t), 200 - 200*exp(-t/2))\nEq(x(t), 200 - 200*exp(-t/2))\nEq(x(t), 200 - 200*exp(-t/2))\nEq(x(t), 200 - 200*exp(-t/2))\nEq(x(t), 200 - 200*exp(-t/2))\nEq(x(t), 200 - 200*exp(-t/2))\nEq(x(t), 200 - 200*exp(-t/2))\nEq(x(t), 200 - 200*exp(-t/2))\nEq(x(t), 200 - 200*exp(-t/2))\nEq(x(t), 200 - 200*exp(-t/2))\nEq(x(t), 200 - 200*exp(-t/2))\nEq(x(t), 200 - 200*exp(-t/2))\nEq(x(t), 200 - 200*exp(-t/2))\nEq(x(t), 200 - 200*exp(-t/2))\nEq(x(t), 200 - 200*exp(-t/2))\nEq(x(t), 200 - 200*exp(-t/2))\nEq(x(t), 200 - 200*exp(-t/2))\nEq(x(t), 200 - 200*exp(-t/2))\nEq(x(t), 200 - 200*exp(-t/2))\nEq(x(t), 200 - 200*exp(-t/2))\nEq(x(t), 200 - 200*exp(-t/2))\nEq(x(t), 200 - 200*exp(-t/2))\nEq(x(t), 200 - 200*exp(-t/2))\nEq(x(t), 200 - 200*exp(-t/2))\nEq(x(t), 200 - 200*exp(-t/2))\nEq(x(t), 200 - 200*exp(-t/2))\nEq(x(t), 200 - 200*exp(-t/2))\nEq(x(t), 200 - 200*exp(-t/2))\nEq(x(t), 200 - 200*exp(-t/2))\nEq(x(t), 200 - 200*exp(-t/2))\nEq(x(t), 200 - 200*exp(-t/2))\nEq(x(t), 200 - 200*exp(-t/2))\nEq(x(t), 200 - 200*exp(-t/2))\nEq(x(t), 200 - 200*exp(-t/2))\nEq(x(t), 200 - 200*exp(-t/2))\nEq(x(t), 200 - 200*exp(-t/2))\nEq(x(t), 200 - 200*exp(-t/2))\n"
        },
        {
         "ename": "RecursionError",
         "evalue": "maximum recursion depth exceeded while calling a Python object",
         "output_type": "error",
         "traceback": [
          "\u001b[0;31m---------------------------------------------------------------------------\u001b[0m",
          "\u001b[0;31mRecursionError\u001b[0m                            Traceback (most recent call last)",
          "\u001b[0;32m~/.local/lib/python3.6/site-packages/ipywidgets/widgets/interaction.py\u001b[0m in \u001b[0;36mupdate\u001b[0;34m(self, *args)\u001b[0m\n\u001b[1;32m    248\u001b[0m                     \u001b[0mvalue\u001b[0m \u001b[0;34m=\u001b[0m \u001b[0mwidget\u001b[0m\u001b[0;34m.\u001b[0m\u001b[0mget_interact_value\u001b[0m\u001b[0;34m(\u001b[0m\u001b[0;34m)\u001b[0m\u001b[0;34m\u001b[0m\u001b[0m\n\u001b[1;32m    249\u001b[0m                     \u001b[0mself\u001b[0m\u001b[0;34m.\u001b[0m\u001b[0mkwargs\u001b[0m\u001b[0;34m[\u001b[0m\u001b[0mwidget\u001b[0m\u001b[0;34m.\u001b[0m\u001b[0m_kwarg\u001b[0m\u001b[0;34m]\u001b[0m \u001b[0;34m=\u001b[0m \u001b[0mvalue\u001b[0m\u001b[0;34m\u001b[0m\u001b[0m\n\u001b[0;32m--> 250\u001b[0;31m                 \u001b[0mself\u001b[0m\u001b[0;34m.\u001b[0m\u001b[0mresult\u001b[0m \u001b[0;34m=\u001b[0m \u001b[0mself\u001b[0m\u001b[0;34m.\u001b[0m\u001b[0mf\u001b[0m\u001b[0;34m(\u001b[0m\u001b[0;34m**\u001b[0m\u001b[0mself\u001b[0m\u001b[0;34m.\u001b[0m\u001b[0mkwargs\u001b[0m\u001b[0;34m)\u001b[0m\u001b[0;34m\u001b[0m\u001b[0m\n\u001b[0m\u001b[1;32m    251\u001b[0m                 \u001b[0mshow_inline_matplotlib_plots\u001b[0m\u001b[0;34m(\u001b[0m\u001b[0;34m)\u001b[0m\u001b[0;34m\u001b[0m\u001b[0m\n\u001b[1;32m    252\u001b[0m                 \u001b[0;32mif\u001b[0m \u001b[0mself\u001b[0m\u001b[0;34m.\u001b[0m\u001b[0mauto_display\u001b[0m \u001b[0;32mand\u001b[0m \u001b[0mself\u001b[0m\u001b[0;34m.\u001b[0m\u001b[0mresult\u001b[0m \u001b[0;32mis\u001b[0m \u001b[0;32mnot\u001b[0m \u001b[0;32mNone\u001b[0m\u001b[0;34m:\u001b[0m\u001b[0;34m\u001b[0m\u001b[0m\n",
          "\u001b[0;32m<ipython-input-14-3e76f4696eb3>\u001b[0m in \u001b[0;36mplot_f\u001b[0;34m(ω, α)\u001b[0m\n\u001b[1;32m     16\u001b[0m     \u001b[0;31m# Plot position vs time\u001b[0m\u001b[0;34m\u001b[0m\u001b[0;34m\u001b[0m\u001b[0m\n\u001b[1;32m     17\u001b[0m     \u001b[0mprint\u001b[0m\u001b[0;34m(\u001b[0m\u001b[0mx1\u001b[0m\u001b[0;34m)\u001b[0m\u001b[0;34m\u001b[0m\u001b[0m\n\u001b[0;32m---> 18\u001b[0;31m     \u001b[0mplot\u001b[0m\u001b[0;34m(\u001b[0m\u001b[0mx1\u001b[0m\u001b[0;34m.\u001b[0m\u001b[0margs\u001b[0m\u001b[0;34m[\u001b[0m\u001b[0;36m1\u001b[0m\u001b[0;34m]\u001b[0m\u001b[0;34m,\u001b[0m \u001b[0;34m(\u001b[0m\u001b[0mt\u001b[0m\u001b[0;34m,\u001b[0m \u001b[0;36m0.0\u001b[0m\u001b[0;34m,\u001b[0m \u001b[0;36m10.0\u001b[0m\u001b[0;34m)\u001b[0m\u001b[0;34m)\u001b[0m\u001b[0;34m;\u001b[0m\u001b[0;34m\u001b[0m\u001b[0m\n\u001b[0m\u001b[1;32m     19\u001b[0m \u001b[0;34m\u001b[0m\u001b[0m\n\u001b[1;32m     20\u001b[0m     \u001b[0;31m#t = np.linspace(0, 2*np.pi, 200)\u001b[0m\u001b[0;34m\u001b[0m\u001b[0;34m\u001b[0m\u001b[0m\n",
          "\u001b[0;32m<ipython-input-13-8beef1da2943>\u001b[0m in \u001b[0;36mplot\u001b[0;34m(ω, α)\u001b[0m\n\u001b[1;32m     16\u001b[0m     \u001b[0;31m# Plot position vs time\u001b[0m\u001b[0;34m\u001b[0m\u001b[0;34m\u001b[0m\u001b[0m\n\u001b[1;32m     17\u001b[0m     \u001b[0mprint\u001b[0m\u001b[0;34m(\u001b[0m\u001b[0mx1\u001b[0m\u001b[0;34m)\u001b[0m\u001b[0;34m\u001b[0m\u001b[0m\n\u001b[0;32m---> 18\u001b[0;31m     \u001b[0mplot\u001b[0m\u001b[0;34m(\u001b[0m\u001b[0mx1\u001b[0m\u001b[0;34m.\u001b[0m\u001b[0margs\u001b[0m\u001b[0;34m[\u001b[0m\u001b[0;36m1\u001b[0m\u001b[0;34m]\u001b[0m\u001b[0;34m,\u001b[0m \u001b[0;34m(\u001b[0m\u001b[0mt\u001b[0m\u001b[0;34m,\u001b[0m \u001b[0;36m0.0\u001b[0m\u001b[0;34m,\u001b[0m \u001b[0;36m10.0\u001b[0m\u001b[0;34m)\u001b[0m\u001b[0;34m)\u001b[0m\u001b[0;34m;\u001b[0m\u001b[0;34m\u001b[0m\u001b[0m\n\u001b[0m\u001b[1;32m     19\u001b[0m \u001b[0;34m\u001b[0m\u001b[0m\n\u001b[1;32m     20\u001b[0m     \u001b[0;31m#t = np.linspace(0, 2*np.pi, 200)\u001b[0m\u001b[0;34m\u001b[0m\u001b[0;34m\u001b[0m\u001b[0m\n",
          "\u001b[0;32m<ipython-input-13-8beef1da2943>\u001b[0m in \u001b[0;36mplot\u001b[0;34m(ω, α)\u001b[0m\n\u001b[1;32m     16\u001b[0m     \u001b[0;31m# Plot position vs time\u001b[0m\u001b[0;34m\u001b[0m\u001b[0;34m\u001b[0m\u001b[0m\n\u001b[1;32m     17\u001b[0m     \u001b[0mprint\u001b[0m\u001b[0;34m(\u001b[0m\u001b[0mx1\u001b[0m\u001b[0;34m)\u001b[0m\u001b[0;34m\u001b[0m\u001b[0m\n\u001b[0;32m---> 18\u001b[0;31m     \u001b[0mplot\u001b[0m\u001b[0;34m(\u001b[0m\u001b[0mx1\u001b[0m\u001b[0;34m.\u001b[0m\u001b[0margs\u001b[0m\u001b[0;34m[\u001b[0m\u001b[0;36m1\u001b[0m\u001b[0;34m]\u001b[0m\u001b[0;34m,\u001b[0m \u001b[0;34m(\u001b[0m\u001b[0mt\u001b[0m\u001b[0;34m,\u001b[0m \u001b[0;36m0.0\u001b[0m\u001b[0;34m,\u001b[0m \u001b[0;36m10.0\u001b[0m\u001b[0;34m)\u001b[0m\u001b[0;34m)\u001b[0m\u001b[0;34m;\u001b[0m\u001b[0;34m\u001b[0m\u001b[0m\n\u001b[0m\u001b[1;32m     19\u001b[0m \u001b[0;34m\u001b[0m\u001b[0m\n\u001b[1;32m     20\u001b[0m     \u001b[0;31m#t = np.linspace(0, 2*np.pi, 200)\u001b[0m\u001b[0;34m\u001b[0m\u001b[0;34m\u001b[0m\u001b[0m\n",
          "\u001b[0;32m<ipython-input-13-8beef1da2943>\u001b[0m in \u001b[0;36mplot\u001b[0;34m(ω, α)\u001b[0m\n\u001b[1;32m     16\u001b[0m     \u001b[0;31m# Plot position vs time\u001b[0m\u001b[0;34m\u001b[0m\u001b[0;34m\u001b[0m\u001b[0m\n\u001b[1;32m     17\u001b[0m     \u001b[0mprint\u001b[0m\u001b[0;34m(\u001b[0m\u001b[0mx1\u001b[0m\u001b[0;34m)\u001b[0m\u001b[0;34m\u001b[0m\u001b[0m\n\u001b[0;32m---> 18\u001b[0;31m     \u001b[0mplot\u001b[0m\u001b[0;34m(\u001b[0m\u001b[0mx1\u001b[0m\u001b[0;34m.\u001b[0m\u001b[0margs\u001b[0m\u001b[0;34m[\u001b[0m\u001b[0;36m1\u001b[0m\u001b[0;34m]\u001b[0m\u001b[0;34m,\u001b[0m \u001b[0;34m(\u001b[0m\u001b[0mt\u001b[0m\u001b[0;34m,\u001b[0m \u001b[0;36m0.0\u001b[0m\u001b[0;34m,\u001b[0m \u001b[0;36m10.0\u001b[0m\u001b[0;34m)\u001b[0m\u001b[0;34m)\u001b[0m\u001b[0;34m;\u001b[0m\u001b[0;34m\u001b[0m\u001b[0m\n\u001b[0m\u001b[1;32m     19\u001b[0m \u001b[0;34m\u001b[0m\u001b[0m\n\u001b[1;32m     20\u001b[0m     \u001b[0;31m#t = np.linspace(0, 2*np.pi, 200)\u001b[0m\u001b[0;34m\u001b[0m\u001b[0;34m\u001b[0m\u001b[0m\n",
          "\u001b[0;32m<ipython-input-13-8beef1da2943>\u001b[0m in \u001b[0;36mplot\u001b[0;34m(ω, α)\u001b[0m\n\u001b[1;32m     16\u001b[0m     \u001b[0;31m# Plot position vs time\u001b[0m\u001b[0;34m\u001b[0m\u001b[0;34m\u001b[0m\u001b[0m\n\u001b[1;32m     17\u001b[0m     \u001b[0mprint\u001b[0m\u001b[0;34m(\u001b[0m\u001b[0mx1\u001b[0m\u001b[0;34m)\u001b[0m\u001b[0;34m\u001b[0m\u001b[0m\n\u001b[0;32m---> 18\u001b[0;31m     \u001b[0mplot\u001b[0m\u001b[0;34m(\u001b[0m\u001b[0mx1\u001b[0m\u001b[0;34m.\u001b[0m\u001b[0margs\u001b[0m\u001b[0;34m[\u001b[0m\u001b[0;36m1\u001b[0m\u001b[0;34m]\u001b[0m\u001b[0;34m,\u001b[0m \u001b[0;34m(\u001b[0m\u001b[0mt\u001b[0m\u001b[0;34m,\u001b[0m \u001b[0;36m0.0\u001b[0m\u001b[0;34m,\u001b[0m \u001b[0;36m10.0\u001b[0m\u001b[0;34m)\u001b[0m\u001b[0;34m)\u001b[0m\u001b[0;34m;\u001b[0m\u001b[0;34m\u001b[0m\u001b[0m\n\u001b[0m\u001b[1;32m     19\u001b[0m \u001b[0;34m\u001b[0m\u001b[0m\n\u001b[1;32m     20\u001b[0m     \u001b[0;31m#t = np.linspace(0, 2*np.pi, 200)\u001b[0m\u001b[0;34m\u001b[0m\u001b[0;34m\u001b[0m\u001b[0m\n",
          "\u001b[0;32m<ipython-input-13-8beef1da2943>\u001b[0m in \u001b[0;36mplot\u001b[0;34m(ω, α)\u001b[0m\n\u001b[1;32m     16\u001b[0m     \u001b[0;31m# Plot position vs time\u001b[0m\u001b[0;34m\u001b[0m\u001b[0;34m\u001b[0m\u001b[0m\n\u001b[1;32m     17\u001b[0m     \u001b[0mprint\u001b[0m\u001b[0;34m(\u001b[0m\u001b[0mx1\u001b[0m\u001b[0;34m)\u001b[0m\u001b[0;34m\u001b[0m\u001b[0m\n\u001b[0;32m---> 18\u001b[0;31m     \u001b[0mplot\u001b[0m\u001b[0;34m(\u001b[0m\u001b[0mx1\u001b[0m\u001b[0;34m.\u001b[0m\u001b[0margs\u001b[0m\u001b[0;34m[\u001b[0m\u001b[0;36m1\u001b[0m\u001b[0;34m]\u001b[0m\u001b[0;34m,\u001b[0m \u001b[0;34m(\u001b[0m\u001b[0mt\u001b[0m\u001b[0;34m,\u001b[0m \u001b[0;36m0.0\u001b[0m\u001b[0;34m,\u001b[0m \u001b[0;36m10.0\u001b[0m\u001b[0;34m)\u001b[0m\u001b[0;34m)\u001b[0m\u001b[0;34m;\u001b[0m\u001b[0;34m\u001b[0m\u001b[0m\n\u001b[0m\u001b[1;32m     19\u001b[0m \u001b[0;34m\u001b[0m\u001b[0m\n\u001b[1;32m     20\u001b[0m     \u001b[0;31m#t = np.linspace(0, 2*np.pi, 200)\u001b[0m\u001b[0;34m\u001b[0m\u001b[0;34m\u001b[0m\u001b[0m\n",
          "... last 5 frames repeated, from the frame below ...\n",
          "\u001b[0;32m<ipython-input-13-8beef1da2943>\u001b[0m in \u001b[0;36mplot\u001b[0;34m(ω, α)\u001b[0m\n\u001b[1;32m     16\u001b[0m     \u001b[0;31m# Plot position vs time\u001b[0m\u001b[0;34m\u001b[0m\u001b[0;34m\u001b[0m\u001b[0m\n\u001b[1;32m     17\u001b[0m     \u001b[0mprint\u001b[0m\u001b[0;34m(\u001b[0m\u001b[0mx1\u001b[0m\u001b[0;34m)\u001b[0m\u001b[0;34m\u001b[0m\u001b[0m\n\u001b[0;32m---> 18\u001b[0;31m     \u001b[0mplot\u001b[0m\u001b[0;34m(\u001b[0m\u001b[0mx1\u001b[0m\u001b[0;34m.\u001b[0m\u001b[0margs\u001b[0m\u001b[0;34m[\u001b[0m\u001b[0;36m1\u001b[0m\u001b[0;34m]\u001b[0m\u001b[0;34m,\u001b[0m \u001b[0;34m(\u001b[0m\u001b[0mt\u001b[0m\u001b[0;34m,\u001b[0m \u001b[0;36m0.0\u001b[0m\u001b[0;34m,\u001b[0m \u001b[0;36m10.0\u001b[0m\u001b[0;34m)\u001b[0m\u001b[0;34m)\u001b[0m\u001b[0;34m;\u001b[0m\u001b[0;34m\u001b[0m\u001b[0m\n\u001b[0m\u001b[1;32m     19\u001b[0m \u001b[0;34m\u001b[0m\u001b[0m\n\u001b[1;32m     20\u001b[0m     \u001b[0;31m#t = np.linspace(0, 2*np.pi, 200)\u001b[0m\u001b[0;34m\u001b[0m\u001b[0;34m\u001b[0m\u001b[0m\n",
          "\u001b[0;31mRecursionError\u001b[0m: maximum recursion depth exceeded while calling a Python object"
         ]
        }
       ]
      }
     },
     "10deb420314146b2bd3683a8092e1f35": {
      "model_module": "@jupyter-widgets/controls",
      "model_module_version": "1.0.0",
      "model_name": "VBoxModel",
      "state": {
       "_dom_classes": [
        "widget-interact"
       ],
       "children": [
        "IPY_MODEL_b8fd675d4adb45e9abe9f7e8d99cda87",
        "IPY_MODEL_f959f9b0e0634d84b1daf853617c13b7",
        "IPY_MODEL_065e8c166a34405ab0c527625d5ba80e"
       ],
       "layout": "IPY_MODEL_bfcec36c360748589f330e3ccb2911c5"
      }
     },
     "121bc96660d94ab98d16500535715557": {
      "model_module": "@jupyter-widgets/output",
      "model_module_version": "1.0.0",
      "model_name": "OutputModel",
      "state": {
       "layout": "IPY_MODEL_f6d8a110b18a4c549b2a3f680d4f51a3"
      }
     },
     "148b57429abd4940bec10ff6fce55039": {
      "model_module": "@jupyter-widgets/controls",
      "model_module_version": "1.0.0",
      "model_name": "FloatSliderModel",
      "state": {
       "description": "v",
       "layout": "IPY_MODEL_51686bb39d834860ab70db027dbc51fc",
       "max": 10,
       "min": -10,
       "step": 0.25,
       "style": "IPY_MODEL_0d9d995618b24596b5a65f48acb10fc0",
       "value": 1
      }
     },
     "16b2826f64014a2cbc6b3c01d46aac97": {
      "model_module": "@jupyter-widgets/base",
      "model_module_version": "1.0.0",
      "model_name": "LayoutModel",
      "state": {}
     },
     "19141e486c444c4e89086a340c983f5e": {
      "model_module": "@jupyter-widgets/controls",
      "model_module_version": "1.0.0",
      "model_name": "SliderStyleModel",
      "state": {
       "description_width": ""
      }
     },
     "1a13f378129847a9ba4f59d6cd9b2861": {
      "model_module": "@jupyter-widgets/controls",
      "model_module_version": "1.0.0",
      "model_name": "FloatSliderModel",
      "state": {
       "description": "τ",
       "layout": "IPY_MODEL_c791a1502539414fb9cde2bbd463ee6e",
       "max": 10,
       "step": 0.2,
       "style": "IPY_MODEL_bbf54071c4dc455fa562541623434c40",
       "value": 1
      }
     },
     "1aa68962c93b4fffaa674627b94e008f": {
      "model_module": "@jupyter-widgets/base",
      "model_module_version": "1.0.0",
      "model_name": "LayoutModel",
      "state": {}
     },
     "1b48b1dfa0bc489099a661596c2efd9b": {
      "model_module": "@jupyter-widgets/base",
      "model_module_version": "1.0.0",
      "model_name": "LayoutModel",
      "state": {}
     },
     "1c0d20f5d9b44d6fa5461092fcdbd9bb": {
      "model_module": "@jupyter-widgets/base",
      "model_module_version": "1.0.0",
      "model_name": "LayoutModel",
      "state": {}
     },
     "1e06534413564188a764e32137c8c7f9": {
      "model_module": "@jupyter-widgets/controls",
      "model_module_version": "1.0.0",
      "model_name": "SliderStyleModel",
      "state": {
       "description_width": ""
      }
     },
     "1ee88dc40a6f448d8a96c9f2e503e155": {
      "model_module": "@jupyter-widgets/controls",
      "model_module_version": "1.0.0",
      "model_name": "SliderStyleModel",
      "state": {
       "description_width": ""
      }
     },
     "1fa1112f6e4745d7bc514fc852d76a3e": {
      "model_module": "@jupyter-widgets/controls",
      "model_module_version": "1.0.0",
      "model_name": "FloatSliderModel",
      "state": {
       "description": "α",
       "layout": "IPY_MODEL_2edbd44397ba4b108080049b113a7c15",
       "max": 2,
       "step": 0.25,
       "style": "IPY_MODEL_9fce6b5a9c0a4278af05e97a56d1b961"
      }
     },
     "212cdab2040346d7915a5e685fb863a5": {
      "model_module": "@jupyter-widgets/base",
      "model_module_version": "1.0.0",
      "model_name": "LayoutModel",
      "state": {}
     },
     "2175abe9127c430cb997498e1393057b": {
      "model_module": "@jupyter-widgets/controls",
      "model_module_version": "1.0.0",
      "model_name": "FloatSliderModel",
      "state": {
       "description": "xv0",
       "layout": "IPY_MODEL_d7ed453844884f66b5c418ba55e33542",
       "max": 10,
       "min": -10,
       "step": 0.25,
       "style": "IPY_MODEL_ce4f05db897247a8b4dc1ca16383d32a",
       "value": 1
      }
     },
     "21f14fac04b3426e999097f3908d495f": {
      "model_module": "@jupyter-widgets/base",
      "model_module_version": "1.0.0",
      "model_name": "LayoutModel",
      "state": {}
     },
     "220a95fbce0c4fd4be22bf1f4c922092": {
      "model_module": "@jupyter-widgets/output",
      "model_module_version": "1.0.0",
      "model_name": "OutputModel",
      "state": {
       "layout": "IPY_MODEL_bbafec65b19f49efbb7d9fc006a06dc4",
       "outputs": [
        {
         "name": "stdout",
         "output_type": "stream",
         "text": "Eq(x(t), 200 - 200*exp(-t/2))\nEq(x(t), 200 - 200*exp(-t/2))\nEq(x(t), 200 - 200*exp(-t/2))\nEq(x(t), 200 - 200*exp(-t/2))\nEq(x(t), 200 - 200*exp(-t/2))\nEq(x(t), 200 - 200*exp(-t/2))\nEq(x(t), 200 - 200*exp(-t/2))\nEq(x(t), 200 - 200*exp(-t/2))\nEq(x(t), 200 - 200*exp(-t/2))\nEq(x(t), 200 - 200*exp(-t/2))\nEq(x(t), 200 - 200*exp(-t/2))\nEq(x(t), 200 - 200*exp(-t/2))\nEq(x(t), 200 - 200*exp(-t/2))\nEq(x(t), 200 - 200*exp(-t/2))\nEq(x(t), 200 - 200*exp(-t/2))\nEq(x(t), 200 - 200*exp(-t/2))\nEq(x(t), 200 - 200*exp(-t/2))\nEq(x(t), 200 - 200*exp(-t/2))\nEq(x(t), 200 - 200*exp(-t/2))\nEq(x(t), 200 - 200*exp(-t/2))\nEq(x(t), 200 - 200*exp(-t/2))\nEq(x(t), 200 - 200*exp(-t/2))\nEq(x(t), 200 - 200*exp(-t/2))\nEq(x(t), 200 - 200*exp(-t/2))\nEq(x(t), 200 - 200*exp(-t/2))\nEq(x(t), 200 - 200*exp(-t/2))\nEq(x(t), 200 - 200*exp(-t/2))\nEq(x(t), 200 - 200*exp(-t/2))\nEq(x(t), 200 - 200*exp(-t/2))\nEq(x(t), 200 - 200*exp(-t/2))\nEq(x(t), 200 - 200*exp(-t/2))\nEq(x(t), 200 - 200*exp(-t/2))\nEq(x(t), 200 - 200*exp(-t/2))\nEq(x(t), 200 - 200*exp(-t/2))\nEq(x(t), 200 - 200*exp(-t/2))\nEq(x(t), 200 - 200*exp(-t/2))\nEq(x(t), 200 - 200*exp(-t/2))\nEq(x(t), 200 - 200*exp(-t/2))\nEq(x(t), 200 - 200*exp(-t/2))\nEq(x(t), 200 - 200*exp(-t/2))\nEq(x(t), 200 - 200*exp(-t/2))\nEq(x(t), 200 - 200*exp(-t/2))\nEq(x(t), 200 - 200*exp(-t/2))\nEq(x(t), 200 - 200*exp(-t/2))\nEq(x(t), 200 - 200*exp(-t/2))\nEq(x(t), 200 - 200*exp(-t/2))\nEq(x(t), 200 - 200*exp(-t/2))\nEq(x(t), 200 - 200*exp(-t/2))\nEq(x(t), 200 - 200*exp(-t/2))\nEq(x(t), 200 - 200*exp(-t/2))\nEq(x(t), 200 - 200*exp(-t/2))\nEq(x(t), 200 - 200*exp(-t/2))\nEq(x(t), 200 - 200*exp(-t/2))\nEq(x(t), 200 - 200*exp(-t/2))\nEq(x(t), 200 - 200*exp(-t/2))\nEq(x(t), 200 - 200*exp(-t/2))\nEq(x(t), 200 - 200*exp(-t/2))\nEq(x(t), 200 - 200*exp(-t/2))\nEq(x(t), 200 - 200*exp(-t/2))\nEq(x(t), 200 - 200*exp(-t/2))\nEq(x(t), 200 - 200*exp(-t/2))\nEq(x(t), 200 - 200*exp(-t/2))\nEq(x(t), 200 - 200*exp(-t/2))\nEq(x(t), 200 - 200*exp(-t/2))\nEq(x(t), 200 - 200*exp(-t/2))\nEq(x(t), 200 - 200*exp(-t/2))\nEq(x(t), 200 - 200*exp(-t/2))\nEq(x(t), 200 - 200*exp(-t/2))\nEq(x(t), 200 - 200*exp(-t/2))\nEq(x(t), 200 - 200*exp(-t/2))\nEq(x(t), 200 - 200*exp(-t/2))\nEq(x(t), 200 - 200*exp(-t/2))\nEq(x(t), 200 - 200*exp(-t/2))\nEq(x(t), 200 - 200*exp(-t/2))\nEq(x(t), 200 - 200*exp(-t/2))\nEq(x(t), 200 - 200*exp(-t/2))\nEq(x(t), 200 - 200*exp(-t/2))\nEq(x(t), 200 - 200*exp(-t/2))\nEq(x(t), 200 - 200*exp(-t/2))\nEq(x(t), 200 - 200*exp(-t/2))\nEq(x(t), 200 - 200*exp(-t/2))\nEq(x(t), 200 - 200*exp(-t/2))\nEq(x(t), 200 - 200*exp(-t/2))\nEq(x(t), 200 - 200*exp(-t/2))\nEq(x(t), 200 - 200*exp(-t/2))\nEq(x(t), 200 - 200*exp(-t/2))\nEq(x(t), 200 - 200*exp(-t/2))\nEq(x(t), 200 - 200*exp(-t/2))\nEq(x(t), 200 - 200*exp(-t/2))\nEq(x(t), 200 - 200*exp(-t/2))\nEq(x(t), 200 - 200*exp(-t/2))\nEq(x(t), 200 - 200*exp(-t/2))\nEq(x(t), 200 - 200*exp(-t/2))\nEq(x(t), 200 - 200*exp(-t/2))\nEq(x(t), 200 - 200*exp(-t/2))\nEq(x(t), 200 - 200*exp(-t/2))\nEq(x(t), 200 - 200*exp(-t/2))\nEq(x(t), 200 - 200*exp(-t/2))\nEq(x(t), 200 - 200*exp(-t/2))\nEq(x(t), 200 - 200*exp(-t/2))\nEq(x(t), 200 - 200*exp(-t/2))\nEq(x(t), 200 - 200*exp(-t/2))\nEq(x(t), 200 - 200*exp(-t/2))\nEq(x(t), 200 - 200*exp(-t/2))\nEq(x(t), 200 - 200*exp(-t/2))\nEq(x(t), 200 - 200*exp(-t/2))\nEq(x(t), 200 - 200*exp(-t/2))\nEq(x(t), 200 - 200*exp(-t/2))\nEq(x(t), 200 - 200*exp(-t/2))\nEq(x(t), 200 - 200*exp(-t/2))\nEq(x(t), 200 - 200*exp(-t/2))\nEq(x(t), 200 - 200*exp(-t/2))\nEq(x(t), 200 - 200*exp(-t/2))\nEq(x(t), 200 - 200*exp(-t/2))\nEq(x(t), 200 - 200*exp(-t/2))\nEq(x(t), 200 - 200*exp(-t/2))\nEq(x(t), 200 - 200*exp(-t/2))\nEq(x(t), 200 - 200*exp(-t/2))\nEq(x(t), 200 - 200*exp(-t/2))\nEq(x(t), 200 - 200*exp(-t/2))\nEq(x(t), 200 - 200*exp(-t/2))\nEq(x(t), 200 - 200*exp(-t/2))\nEq(x(t), 200 - 200*exp(-t/2))\nEq(x(t), 200 - 200*exp(-t/2))\nEq(x(t), 200 - 200*exp(-t/2))\nEq(x(t), 200 - 200*exp(-t/2))\nEq(x(t), 200 - 200*exp(-t/2))\nEq(x(t), 200 - 200*exp(-t/2))\nEq(x(t), 200 - 200*exp(-t/2))\nEq(x(t), 200 - 200*exp(-t/2))\nEq(x(t), 200 - 200*exp(-t/2))\nEq(x(t), 200 - 200*exp(-t/2))\nEq(x(t), 200 - 200*exp(-t/2))\nEq(x(t), 200 - 200*exp(-t/2))\nEq(x(t), 200 - 200*exp(-t/2))\nEq(x(t), 200 - 200*exp(-t/2))\nEq(x(t), 200 - 200*exp(-t/2))\nEq(x(t), 200 - 200*exp(-t/2))\nEq(x(t), 200 - 200*exp(-t/2))\nEq(x(t), 200 - 200*exp(-t/2))\nEq(x(t), 200 - 200*exp(-t/2))\nEq(x(t), 200 - 200*exp(-t/2))\nEq(x(t), 200 - 200*exp(-t/2))\nEq(x(t), 200 - 200*exp(-t/2))\nEq(x(t), 200 - 200*exp(-t/2))\nEq(x(t), 200 - 200*exp(-t/2))\nEq(x(t), 200 - 200*exp(-t/2))\nEq(x(t), 200 - 200*exp(-t/2))\nEq(x(t), 200 - 200*exp(-t/2))\nEq(x(t), 200 - 200*exp(-t/2))\nEq(x(t), 200 - 200*exp(-t/2))\nEq(x(t), 200 - 200*exp(-t/2))\nEq(x(t), 200 - 200*exp(-t/2))\nEq(x(t), 200 - 200*exp(-t/2))\nEq(x(t), 200 - 200*exp(-t/2))\nEq(x(t), 200 - 200*exp(-t/2))\nEq(x(t), 200 - 200*exp(-t/2))\nEq(x(t), 200 - 200*exp(-t/2))\nEq(x(t), 200 - 200*exp(-t/2))\nEq(x(t), 200 - 200*exp(-t/2))\nEq(x(t), 200 - 200*exp(-t/2))\nEq(x(t), 200 - 200*exp(-t/2))\nEq(x(t), 200 - 200*exp(-t/2))\nEq(x(t), 200 - 200*exp(-t/2))\nEq(x(t), 200 - 200*exp(-t/2))\nEq(x(t), 200 - 200*exp(-t/2))\nEq(x(t), 200 - 200*exp(-t/2))\nEq(x(t), 200 - 200*exp(-t/2))\nEq(x(t), 200 - 200*exp(-t/2))\nEq(x(t), 200 - 200*exp(-t/2))\nEq(x(t), 200 - 200*exp(-t/2))\nEq(x(t), 200 - 200*exp(-t/2))\nEq(x(t), 200 - 200*exp(-t/2))\nEq(x(t), 200 - 200*exp(-t/2))\nEq(x(t), 200 - 200*exp(-t/2))\nEq(x(t), 200 - 200*exp(-t/2))\nEq(x(t), 200 - 200*exp(-t/2))\nEq(x(t), 200 - 200*exp(-t/2))\nEq(x(t), 200 - 200*exp(-t/2))\nEq(x(t), 200 - 200*exp(-t/2))\nEq(x(t), 200 - 200*exp(-t/2))\nEq(x(t), 200 - 200*exp(-t/2))\nEq(x(t), 200 - 200*exp(-t/2))\nEq(x(t), 200 - 200*exp(-t/2))\nEq(x(t), 200 - 200*exp(-t/2))\nEq(x(t), 200 - 200*exp(-t/2))\nEq(x(t), 200 - 200*exp(-t/2))\nEq(x(t), 200 - 200*exp(-t/2))\nEq(x(t), 200 - 200*exp(-t/2))\nEq(x(t), 200 - 200*exp(-t/2))\nEq(x(t), 200 - 200*exp(-t/2))\nEq(x(t), 200 - 200*exp(-t/2))\nEq(x(t), 200 - 200*exp(-t/2))\nEq(x(t), 200 - 200*exp(-t/2))\nEq(x(t), 200 - 200*exp(-t/2))\nEq(x(t), 200 - 200*exp(-t/2))\nEq(x(t), 200 - 200*exp(-t/2))\nEq(x(t), 200 - 200*exp(-t/2))\nEq(x(t), 200 - 200*exp(-t/2))\nEq(x(t), 200 - 200*exp(-t/2))\nEq(x(t), 200 - 200*exp(-t/2))\nEq(x(t), 200 - 200*exp(-t/2))\nEq(x(t), 200 - 200*exp(-t/2))\nEq(x(t), 200 - 200*exp(-t/2))\nEq(x(t), 200 - 200*exp(-t/2))\nEq(x(t), 200 - 200*exp(-t/2))\nEq(x(t), 200 - 200*exp(-t/2))\nEq(x(t), 200 - 200*exp(-t/2))\nEq(x(t), 200 - 200*exp(-t/2))\nEq(x(t), 200 - 200*exp(-t/2))\nEq(x(t), 200 - 200*exp(-t/2))\nEq(x(t), 200 - 200*exp(-t/2))\nEq(x(t), 200 - 200*exp(-t/2))\nEq(x(t), 200 - 200*exp(-t/2))\nEq(x(t), 200 - 200*exp(-t/2))\nEq(x(t), 200 - 200*exp(-t/2))\nEq(x(t), 200 - 200*exp(-t/2))\nEq(x(t), 200 - 200*exp(-t/2))\nEq(x(t), 200 - 200*exp(-t/2))\nEq(x(t), 200 - 200*exp(-t/2))\nEq(x(t), 200 - 200*exp(-t/2))\nEq(x(t), 200 - 200*exp(-t/2))\nEq(x(t), 200 - 200*exp(-t/2))\nEq(x(t), 200 - 200*exp(-t/2))\nEq(x(t), 200 - 200*exp(-t/2))\nEq(x(t), 200 - 200*exp(-t/2))\nEq(x(t), 200 - 200*exp(-t/2))\nEq(x(t), 200 - 200*exp(-t/2))\nEq(x(t), 200 - 200*exp(-t/2))\nEq(x(t), 200 - 200*exp(-t/2))\nEq(x(t), 200 - 200*exp(-t/2))\nEq(x(t), 200 - 200*exp(-t/2))\nEq(x(t), 200 - 200*exp(-t/2))\nEq(x(t), 200 - 200*exp(-t/2))\nEq(x(t), 200 - 200*exp(-t/2))\nEq(x(t), 200 - 200*exp(-t/2))\nEq(x(t), 200 - 200*exp(-t/2))\nEq(x(t), 200 - 200*exp(-t/2))\nEq(x(t), 200 - 200*exp(-t/2))\nEq(x(t), 200 - 200*exp(-t/2))\nEq(x(t), 200 - 200*exp(-t/2))\nEq(x(t), 200 - 200*exp(-t/2))\nEq(x(t), 200 - 200*exp(-t/2))\nEq(x(t), 200 - 200*exp(-t/2))\nEq(x(t), 200 - 200*exp(-t/2))\nEq(x(t), 200 - 200*exp(-t/2))\nEq(x(t), 200 - 200*exp(-t/2))\nEq(x(t), 200 - 200*exp(-t/2))\nEq(x(t), 200 - 200*exp(-t/2))\nEq(x(t), 200 - 200*exp(-t/2))\nEq(x(t), 200 - 200*exp(-t/2))\nEq(x(t), 200 - 200*exp(-t/2))\nEq(x(t), 200 - 200*exp(-t/2))\nEq(x(t), 200 - 200*exp(-t/2))\nEq(x(t), 200 - 200*exp(-t/2))\nEq(x(t), 200 - 200*exp(-t/2))\nEq(x(t), 200 - 200*exp(-t/2))\nEq(x(t), 200 - 200*exp(-t/2))\nEq(x(t), 200 - 200*exp(-t/2))\nEq(x(t), 200 - 200*exp(-t/2))\nEq(x(t), 200 - 200*exp(-t/2))\nEq(x(t), 200 - 200*exp(-t/2))\nEq(x(t), 200 - 200*exp(-t/2))\nEq(x(t), 200 - 200*exp(-t/2))\nEq(x(t), 200 - 200*exp(-t/2))\nEq(x(t), 200 - 200*exp(-t/2))\nEq(x(t), 200 - 200*exp(-t/2))\nEq(x(t), 200 - 200*exp(-t/2))\nEq(x(t), 200 - 200*exp(-t/2))\nEq(x(t), 200 - 200*exp(-t/2))\nEq(x(t), 200 - 200*exp(-t/2))\nEq(x(t), 200 - 200*exp(-t/2))\nEq(x(t), 200 - 200*exp(-t/2))\nEq(x(t), 200 - 200*exp(-t/2))\nEq(x(t), 200 - 200*exp(-t/2))\nEq(x(t), 200 - 200*exp(-t/2))\nEq(x(t), 200 - 200*exp(-t/2))\nEq(x(t), 200 - 200*exp(-t/2))\nEq(x(t), 200 - 200*exp(-t/2))\nEq(x(t), 200 - 200*exp(-t/2))\nEq(x(t), 200 - 200*exp(-t/2))\nEq(x(t), 200 - 200*exp(-t/2))\nEq(x(t), 200 - 200*exp(-t/2))\nEq(x(t), 200 - 200*exp(-t/2))\nEq(x(t), 200 - 200*exp(-t/2))\nEq(x(t), 200 - 200*exp(-t/2))\nEq(x(t), 200 - 200*exp(-t/2))\nEq(x(t), 200 - 200*exp(-t/2))\nEq(x(t), 200 - 200*exp(-t/2))\nEq(x(t), 200 - 200*exp(-t/2))\nEq(x(t), 200 - 200*exp(-t/2))\nEq(x(t), 200 - 200*exp(-t/2))\nEq(x(t), 200 - 200*exp(-t/2))\nEq(x(t), 200 - 200*exp(-t/2))\nEq(x(t), 200 - 200*exp(-t/2))\nEq(x(t), 200 - 200*exp(-t/2))\nEq(x(t), 200 - 200*exp(-t/2))\nEq(x(t), 200 - 200*exp(-t/2))\nEq(x(t), 200 - 200*exp(-t/2))\nEq(x(t), 200 - 200*exp(-t/2))\nEq(x(t), 200 - 200*exp(-t/2))\nEq(x(t), 200 - 200*exp(-t/2))\nEq(x(t), 200 - 200*exp(-t/2))\nEq(x(t), 200 - 200*exp(-t/2))\nEq(x(t), 200 - 200*exp(-t/2))\nEq(x(t), 200 - 200*exp(-t/2))\nEq(x(t), 200 - 200*exp(-t/2))\nEq(x(t), 200 - 200*exp(-t/2))\nEq(x(t), 200 - 200*exp(-t/2))\nEq(x(t), 200 - 200*exp(-t/2))\nEq(x(t), 200 - 200*exp(-t/2))\nEq(x(t), 200 - 200*exp(-t/2))\nEq(x(t), 200 - 200*exp(-t/2))\nEq(x(t), 200 - 200*exp(-t/2))\nEq(x(t), 200 - 200*exp(-t/2))\nEq(x(t), 200 - 200*exp(-t/2))\nEq(x(t), 200 - 200*exp(-t/2))\nEq(x(t), 200 - 200*exp(-t/2))\nEq(x(t), 200 - 200*exp(-t/2))\nEq(x(t), 200 - 200*exp(-t/2))\nEq(x(t), 200 - 200*exp(-t/2))\nEq(x(t), 200 - 200*exp(-t/2))\nEq(x(t), 200 - 200*exp(-t/2))\nEq(x(t), 200 - 200*exp(-t/2))\nEq(x(t), 200 - 200*exp(-t/2))\nEq(x(t), 200 - 200*exp(-t/2))\nEq(x(t), 200 - 200*exp(-t/2))\nEq(x(t), 200 - 200*exp(-t/2))\nEq(x(t), 200 - 200*exp(-t/2))\nEq(x(t), 200 - 200*exp(-t/2))\nEq(x(t), 200 - 200*exp(-t/2))\nEq(x(t), 200 - 200*exp(-t/2))\nEq(x(t), 200 - 200*exp(-t/2))\nEq(x(t), 200 - 200*exp(-t/2))\nEq(x(t), 200 - 200*exp(-t/2))\nEq(x(t), 200 - 200*exp(-t/2))\nEq(x(t), 200 - 200*exp(-t/2))\nEq(x(t), 200 - 200*exp(-t/2))\nEq(x(t), 200 - 200*exp(-t/2))\nEq(x(t), 200 - 200*exp(-t/2))\nEq(x(t), 200 - 200*exp(-t/2))\nEq(x(t), 200 - 200*exp(-t/2))\nEq(x(t), 200 - 200*exp(-t/2))\nEq(x(t), 200 - 200*exp(-t/2))\nEq(x(t), 200 - 200*exp(-t/2))\nEq(x(t), 200 - 200*exp(-t/2))\nEq(x(t), 200 - 200*exp(-t/2))\nEq(x(t), 200 - 200*exp(-t/2))\nEq(x(t), 200 - 200*exp(-t/2))\nEq(x(t), 200 - 200*exp(-t/2))\nEq(x(t), 200 - 200*exp(-t/2))\nEq(x(t), 200 - 200*exp(-t/2))\nEq(x(t), 200 - 200*exp(-t/2))\nEq(x(t), 200 - 200*exp(-t/2))\nEq(x(t), 200 - 200*exp(-t/2))\nEq(x(t), 200 - 200*exp(-t/2))\nEq(x(t), 200 - 200*exp(-t/2))\nEq(x(t), 200 - 200*exp(-t/2))\nEq(x(t), 200 - 200*exp(-t/2))\nEq(x(t), 200 - 200*exp(-t/2))\nEq(x(t), 200 - 200*exp(-t/2))\nEq(x(t), 200 - 200*exp(-t/2))\nEq(x(t), 200 - 200*exp(-t/2))\nEq(x(t), 200 - 200*exp(-t/2))\nEq(x(t), 200 - 200*exp(-t/2))\nEq(x(t), 200 - 200*exp(-t/2))\nEq(x(t), 200 - 200*exp(-t/2))\nEq(x(t), 200 - 200*exp(-t/2))\nEq(x(t), 200 - 200*exp(-t/2))\nEq(x(t), 200 - 200*exp(-t/2))\nEq(x(t), 200 - 200*exp(-t/2))\nEq(x(t), 200 - 200*exp(-t/2))\nEq(x(t), 200 - 200*exp(-t/2))\nEq(x(t), 200 - 200*exp(-t/2))\nEq(x(t), 200 - 200*exp(-t/2))\nEq(x(t), 200 - 200*exp(-t/2))\nEq(x(t), 200 - 200*exp(-t/2))\nEq(x(t), 200 - 200*exp(-t/2))\nEq(x(t), 200 - 200*exp(-t/2))\nEq(x(t), 200 - 200*exp(-t/2))\nEq(x(t), 200 - 200*exp(-t/2))\nEq(x(t), 200 - 200*exp(-t/2))\nEq(x(t), 200 - 200*exp(-t/2))\nEq(x(t), 200 - 200*exp(-t/2))\nEq(x(t), 200 - 200*exp(-t/2))\nEq(x(t), 200 - 200*exp(-t/2))\nEq(x(t), 200 - 200*exp(-t/2))\nEq(x(t), 200 - 200*exp(-t/2))\nEq(x(t), 200 - 200*exp(-t/2))\nEq(x(t), 200 - 200*exp(-t/2))\nEq(x(t), 200 - 200*exp(-t/2))\nEq(x(t), 200 - 200*exp(-t/2))\nEq(x(t), 200 - 200*exp(-t/2))\nEq(x(t), 200 - 200*exp(-t/2))\nEq(x(t), 200 - 200*exp(-t/2))\nEq(x(t), 200 - 200*exp(-t/2))\nEq(x(t), 200 - 200*exp(-t/2))\nEq(x(t), 200 - 200*exp(-t/2))\nEq(x(t), 200 - 200*exp(-t/2))\nEq(x(t), 200 - 200*exp(-t/2))\nEq(x(t), 200 - 200*exp(-t/2))\nEq(x(t), 200 - 200*exp(-t/2))\nEq(x(t), 200 - 200*exp(-t/2))\nEq(x(t), 200 - 200*exp(-t/2))\nEq(x(t), 200 - 200*exp(-t/2))\nEq(x(t), 200 - 200*exp(-t/2))\nEq(x(t), 200 - 200*exp(-t/2))\nEq(x(t), 200 - 200*exp(-t/2))\nEq(x(t), 200 - 200*exp(-t/2))\nEq(x(t), 200 - 200*exp(-t/2))\nEq(x(t), 200 - 200*exp(-t/2))\nEq(x(t), 200 - 200*exp(-t/2))\nEq(x(t), 200 - 200*exp(-t/2))\nEq(x(t), 200 - 200*exp(-t/2))\nEq(x(t), 200 - 200*exp(-t/2))\nEq(x(t), 200 - 200*exp(-t/2))\nEq(x(t), 200 - 200*exp(-t/2))\nEq(x(t), 200 - 200*exp(-t/2))\nEq(x(t), 200 - 200*exp(-t/2))\nEq(x(t), 200 - 200*exp(-t/2))\nEq(x(t), 200 - 200*exp(-t/2))\nEq(x(t), 200 - 200*exp(-t/2))\nEq(x(t), 200 - 200*exp(-t/2))\nEq(x(t), 200 - 200*exp(-t/2))\nEq(x(t), 200 - 200*exp(-t/2))\nEq(x(t), 200 - 200*exp(-t/2))\nEq(x(t), 200 - 200*exp(-t/2))\nEq(x(t), 200 - 200*exp(-t/2))\nEq(x(t), 200 - 200*exp(-t/2))\nEq(x(t), 200 - 200*exp(-t/2))\nEq(x(t), 200 - 200*exp(-t/2))\nEq(x(t), 200 - 200*exp(-t/2))\nEq(x(t), 200 - 200*exp(-t/2))\nEq(x(t), 200 - 200*exp(-t/2))\nEq(x(t), 200 - 200*exp(-t/2))\nEq(x(t), 200 - 200*exp(-t/2))\nEq(x(t), 200 - 200*exp(-t/2))\nEq(x(t), 200 - 200*exp(-t/2))\nEq(x(t), 200 - 200*exp(-t/2))\nEq(x(t), 200 - 200*exp(-t/2))\nEq(x(t), 200 - 200*exp(-t/2))\nEq(x(t), 200 - 200*exp(-t/2))\nEq(x(t), 200 - 200*exp(-t/2))\nEq(x(t), 200 - 200*exp(-t/2))\nEq(x(t), 200 - 200*exp(-t/2))\nEq(x(t), 200 - 200*exp(-t/2))\nEq(x(t), 200 - 200*exp(-t/2))\nEq(x(t), 200 - 200*exp(-t/2))\nEq(x(t), 200 - 200*exp(-t/2))\nEq(x(t), 200 - 200*exp(-t/2))\nEq(x(t), 200 - 200*exp(-t/2))\nEq(x(t), 200 - 200*exp(-t/2))\nEq(x(t), 200 - 200*exp(-t/2))\nEq(x(t), 200 - 200*exp(-t/2))\nEq(x(t), 200 - 200*exp(-t/2))\nEq(x(t), 200 - 200*exp(-t/2))\nEq(x(t), 200 - 200*exp(-t/2))\nEq(x(t), 200 - 200*exp(-t/2))\nEq(x(t), 200 - 200*exp(-t/2))\nEq(x(t), 200 - 200*exp(-t/2))\nEq(x(t), 200 - 200*exp(-t/2))\nEq(x(t), 200 - 200*exp(-t/2))\nEq(x(t), 200 - 200*exp(-t/2))\nEq(x(t), 200 - 200*exp(-t/2))\nEq(x(t), 200 - 200*exp(-t/2))\nEq(x(t), 200 - 200*exp(-t/2))\nEq(x(t), 200 - 200*exp(-t/2))\nEq(x(t), 200 - 200*exp(-t/2))\nEq(x(t), 200 - 200*exp(-t/2))\nEq(x(t), 200 - 200*exp(-t/2))\nEq(x(t), 200 - 200*exp(-t/2))\nEq(x(t), 200 - 200*exp(-t/2))\nEq(x(t), 200 - 200*exp(-t/2))\nEq(x(t), 200 - 200*exp(-t/2))\nEq(x(t), 200 - 200*exp(-t/2))\nEq(x(t), 200 - 200*exp(-t/2))\nEq(x(t), 200 - 200*exp(-t/2))\nEq(x(t), 200 - 200*exp(-t/2))\nEq(x(t), 200 - 200*exp(-t/2))\nEq(x(t), 200 - 200*exp(-t/2))\nEq(x(t), 200 - 200*exp(-t/2))\nEq(x(t), 200 - 200*exp(-t/2))\nEq(x(t), 200 - 200*exp(-t/2))\nEq(x(t), 200 - 200*exp(-t/2))\nEq(x(t), 200 - 200*exp(-t/2))\nEq(x(t), 200 - 200*exp(-t/2))\nEq(x(t), 200 - 200*exp(-t/2))\nEq(x(t), 200 - 200*exp(-t/2))\nEq(x(t), 200 - 200*exp(-t/2))\nEq(x(t), 200 - 200*exp(-t/2))\nEq(x(t), 200 - 200*exp(-t/2))\nEq(x(t), 200 - 200*exp(-t/2))\nEq(x(t), 200 - 200*exp(-t/2))\nEq(x(t), 200 - 200*exp(-t/2))\nEq(x(t), 200 - 200*exp(-t/2))\nEq(x(t), 200 - 200*exp(-t/2))\nEq(x(t), 200 - 200*exp(-t/2))\nEq(x(t), 200 - 200*exp(-t/2))\nEq(x(t), 200 - 200*exp(-t/2))\nEq(x(t), 200 - 200*exp(-t/2))\nEq(x(t), 200 - 200*exp(-t/2))\nEq(x(t), 200 - 200*exp(-t/2))\nEq(x(t), 200 - 200*exp(-t/2))\nEq(x(t), 200 - 200*exp(-t/2))\nEq(x(t), 200 - 200*exp(-t/2))\nEq(x(t), 200 - 200*exp(-t/2))\nEq(x(t), 200 - 200*exp(-t/2))\nEq(x(t), 200 - 200*exp(-t/2))\nEq(x(t), 200 - 200*exp(-t/2))\nEq(x(t), 200 - 200*exp(-t/2))\nEq(x(t), 200 - 200*exp(-t/2))\nEq(x(t), 200 - 200*exp(-t/2))\nEq(x(t), 200 - 200*exp(-t/2))\nEq(x(t), 200 - 200*exp(-t/2))\nEq(x(t), 200 - 200*exp(-t/2))\nEq(x(t), 200 - 200*exp(-t/2))\nEq(x(t), 200 - 200*exp(-t/2))\nEq(x(t), 200 - 200*exp(-t/2))\nEq(x(t), 200 - 200*exp(-t/2))\nEq(x(t), 200 - 200*exp(-t/2))\nEq(x(t), 200 - 200*exp(-t/2))\nEq(x(t), 200 - 200*exp(-t/2))\nEq(x(t), 200 - 200*exp(-t/2))\nEq(x(t), 200 - 200*exp(-t/2))\nEq(x(t), 200 - 200*exp(-t/2))\nEq(x(t), 200 - 200*exp(-t/2))\nEq(x(t), 200 - 200*exp(-t/2))\nEq(x(t), 200 - 200*exp(-t/2))\nEq(x(t), 200 - 200*exp(-t/2))\nEq(x(t), 200 - 200*exp(-t/2))\nEq(x(t), 200 - 200*exp(-t/2))\nEq(x(t), 200 - 200*exp(-t/2))\nEq(x(t), 200 - 200*exp(-t/2))\nEq(x(t), 200 - 200*exp(-t/2))\nEq(x(t), 200 - 200*exp(-t/2))\nEq(x(t), 200 - 200*exp(-t/2))\nEq(x(t), 200 - 200*exp(-t/2))\nEq(x(t), 200 - 200*exp(-t/2))\nEq(x(t), 200 - 200*exp(-t/2))\nEq(x(t), 200 - 200*exp(-t/2))\nEq(x(t), 200 - 200*exp(-t/2))\nEq(x(t), 200 - 200*exp(-t/2))\nEq(x(t), 200 - 200*exp(-t/2))\nEq(x(t), 200 - 200*exp(-t/2))\nEq(x(t), 200 - 200*exp(-t/2))\nEq(x(t), 200 - 200*exp(-t/2))\nEq(x(t), 200 - 200*exp(-t/2))\nEq(x(t), 200 - 200*exp(-t/2))\nEq(x(t), 200 - 200*exp(-t/2))\nEq(x(t), 200 - 200*exp(-t/2))\nEq(x(t), 200 - 200*exp(-t/2))\nEq(x(t), 200 - 200*exp(-t/2))\nEq(x(t), 200 - 200*exp(-t/2))\nEq(x(t), 200 - 200*exp(-t/2))\nEq(x(t), 200 - 200*exp(-t/2))\nEq(x(t), 200 - 200*exp(-t/2))\nEq(x(t), 200 - 200*exp(-t/2))\nEq(x(t), 200 - 200*exp(-t/2))\nEq(x(t), 200 - 200*exp(-t/2))\nEq(x(t), 200 - 200*exp(-t/2))\nEq(x(t), 200 - 200*exp(-t/2))\nEq(x(t), 200 - 200*exp(-t/2))\nEq(x(t), 200 - 200*exp(-t/2))\nEq(x(t), 200 - 200*exp(-t/2))\nEq(x(t), 200 - 200*exp(-t/2))\nEq(x(t), 200 - 200*exp(-t/2))\nEq(x(t), 200 - 200*exp(-t/2))\nEq(x(t), 200 - 200*exp(-t/2))\nEq(x(t), 200 - 200*exp(-t/2))\nEq(x(t), 200 - 200*exp(-t/2))\nEq(x(t), 200 - 200*exp(-t/2))\nEq(x(t), 200 - 200*exp(-t/2))\nEq(x(t), 200 - 200*exp(-t/2))\nEq(x(t), 200 - 200*exp(-t/2))\nEq(x(t), 200 - 200*exp(-t/2))\nEq(x(t), 200 - 200*exp(-t/2))\nEq(x(t), 200 - 200*exp(-t/2))\nEq(x(t), 200 - 200*exp(-t/2))\nEq(x(t), 200 - 200*exp(-t/2))\nEq(x(t), 200 - 200*exp(-t/2))\nEq(x(t), 200 - 200*exp(-t/2))\nEq(x(t), 200 - 200*exp(-t/2))\nEq(x(t), 200 - 200*exp(-t/2))\nEq(x(t), 200 - 200*exp(-t/2))\nEq(x(t), 200 - 200*exp(-t/2))\nEq(x(t), 200 - 200*exp(-t/2))\nEq(x(t), 200 - 200*exp(-t/2))\nEq(x(t), 200 - 200*exp(-t/2))\nEq(x(t), 200 - 200*exp(-t/2))\nEq(x(t), 200 - 200*exp(-t/2))\nEq(x(t), 200 - 200*exp(-t/2))\nEq(x(t), 200 - 200*exp(-t/2))\nEq(x(t), 200 - 200*exp(-t/2))\nEq(x(t), 200 - 200*exp(-t/2))\nEq(x(t), 200 - 200*exp(-t/2))\nEq(x(t), 200 - 200*exp(-t/2))\nEq(x(t), 200 - 200*exp(-t/2))\nEq(x(t), 200 - 200*exp(-t/2))\nEq(x(t), 200 - 200*exp(-t/2))\nEq(x(t), 200 - 200*exp(-t/2))\nEq(x(t), 200 - 200*exp(-t/2))\nEq(x(t), 200 - 200*exp(-t/2))\nEq(x(t), 200 - 200*exp(-t/2))\nEq(x(t), 200 - 200*exp(-t/2))\nEq(x(t), 200 - 200*exp(-t/2))\nEq(x(t), 200 - 200*exp(-t/2))\nEq(x(t), 200 - 200*exp(-t/2))\nEq(x(t), 200 - 200*exp(-t/2))\nEq(x(t), 200 - 200*exp(-t/2))\nEq(x(t), 200 - 200*exp(-t/2))\nEq(x(t), 200 - 200*exp(-t/2))\nEq(x(t), 200 - 200*exp(-t/2))\nEq(x(t), 200 - 200*exp(-t/2))\nEq(x(t), 200 - 200*exp(-t/2))\nEq(x(t), 200 - 200*exp(-t/2))\nEq(x(t), 200 - 200*exp(-t/2))\nEq(x(t), 200 - 200*exp(-t/2))\nEq(x(t), 200 - 200*exp(-t/2))\nEq(x(t), 200 - 200*exp(-t/2))\nEq(x(t), 200 - 200*exp(-t/2))\nEq(x(t), 200 - 200*exp(-t/2))\nEq(x(t), 200 - 200*exp(-t/2))\nEq(x(t), 200 - 200*exp(-t/2))\nEq(x(t), 200 - 200*exp(-t/2))\nEq(x(t), 200 - 200*exp(-t/2))\nEq(x(t), 200 - 200*exp(-t/2))\nEq(x(t), 200 - 200*exp(-t/2))\nEq(x(t), 200 - 200*exp(-t/2))\nEq(x(t), 200 - 200*exp(-t/2))\nEq(x(t), 200 - 200*exp(-t/2))\nEq(x(t), 200 - 200*exp(-t/2))\nEq(x(t), 200 - 200*exp(-t/2))\nEq(x(t), 200 - 200*exp(-t/2))\nEq(x(t), 200 - 200*exp(-t/2))\nEq(x(t), 200 - 200*exp(-t/2))\nEq(x(t), 200 - 200*exp(-t/2))\nEq(x(t), 200 - 200*exp(-t/2))\nEq(x(t), 200 - 200*exp(-t/2))\nEq(x(t), 200 - 200*exp(-t/2))\nEq(x(t), 200 - 200*exp(-t/2))\nEq(x(t), 200 - 200*exp(-t/2))\nEq(x(t), 200 - 200*exp(-t/2))\nEq(x(t), 200 - 200*exp(-t/2))\nEq(x(t), 200 - 200*exp(-t/2))\nEq(x(t), 200 - 200*exp(-t/2))\nEq(x(t), 200 - 200*exp(-t/2))\nEq(x(t), 200 - 200*exp(-t/2))\nEq(x(t), 200 - 200*exp(-t/2))\nEq(x(t), 200 - 200*exp(-t/2))\nEq(x(t), 200 - 200*exp(-t/2))\nEq(x(t), 200 - 200*exp(-t/2))\nEq(x(t), 200 - 200*exp(-t/2))\nEq(x(t), 200 - 200*exp(-t/2))\nEq(x(t), 200 - 200*exp(-t/2))\nEq(x(t), 200 - 200*exp(-t/2))\nEq(x(t), 200 - 200*exp(-t/2))\nEq(x(t), 200 - 200*exp(-t/2))\nEq(x(t), 200 - 200*exp(-t/2))\nEq(x(t), 200 - 200*exp(-t/2))\nEq(x(t), 200 - 200*exp(-t/2))\nEq(x(t), 200 - 200*exp(-t/2))\nEq(x(t), 200 - 200*exp(-t/2))\nEq(x(t), 200 - 200*exp(-t/2))\nEq(x(t), 200 - 200*exp(-t/2))\nEq(x(t), 200 - 200*exp(-t/2))\nEq(x(t), 200 - 200*exp(-t/2))\nEq(x(t), 200 - 200*exp(-t/2))\nEq(x(t), 200 - 200*exp(-t/2))\nEq(x(t), 200 - 200*exp(-t/2))\nEq(x(t), 200 - 200*exp(-t/2))\nEq(x(t), 200 - 200*exp(-t/2))\nEq(x(t), 200 - 200*exp(-t/2))\nEq(x(t), 200 - 200*exp(-t/2))\nEq(x(t), 200 - 200*exp(-t/2))\nEq(x(t), 200 - 200*exp(-t/2))\nEq(x(t), 200 - 200*exp(-t/2))\nEq(x(t), 200 - 200*exp(-t/2))\nEq(x(t), 200 - 200*exp(-t/2))\nEq(x(t), 200 - 200*exp(-t/2))\nEq(x(t), 200 - 200*exp(-t/2))\nEq(x(t), 200 - 200*exp(-t/2))\nEq(x(t), 200 - 200*exp(-t/2))\nEq(x(t), 200 - 200*exp(-t/2))\nEq(x(t), 200 - 200*exp(-t/2))\nEq(x(t), 200 - 200*exp(-t/2))\nEq(x(t), 200 - 200*exp(-t/2))\nEq(x(t), 200 - 200*exp(-t/2))\nEq(x(t), 200 - 200*exp(-t/2))\nEq(x(t), 200 - 200*exp(-t/2))\nEq(x(t), 200 - 200*exp(-t/2))\nEq(x(t), 200 - 200*exp(-t/2))\nEq(x(t), 200 - 200*exp(-t/2))\nEq(x(t), 200 - 200*exp(-t/2))\nEq(x(t), 200 - 200*exp(-t/2))\nEq(x(t), 200 - 200*exp(-t/2))\nEq(x(t), 200 - 200*exp(-t/2))\nEq(x(t), 200 - 200*exp(-t/2))\nEq(x(t), 200 - 200*exp(-t/2))\nEq(x(t), 200 - 200*exp(-t/2))\nEq(x(t), 200 - 200*exp(-t/2))\nEq(x(t), 200 - 200*exp(-t/2))\nEq(x(t), 200 - 200*exp(-t/2))\nEq(x(t), 200 - 200*exp(-t/2))\nEq(x(t), 200 - 200*exp(-t/2))\nEq(x(t), 200 - 200*exp(-t/2))\nEq(x(t), 200 - 200*exp(-t/2))\nEq(x(t), 200 - 200*exp(-t/2))\nEq(x(t), 200 - 200*exp(-t/2))\nEq(x(t), 200 - 200*exp(-t/2))\nEq(x(t), 200 - 200*exp(-t/2))\nEq(x(t), 200 - 200*exp(-t/2))\nEq(x(t), 200 - 200*exp(-t/2))\nEq(x(t), 200 - 200*exp(-t/2))\nEq(x(t), 200 - 200*exp(-t/2))\nEq(x(t), 200 - 200*exp(-t/2))\nEq(x(t), 200 - 200*exp(-t/2))\nEq(x(t), 200 - 200*exp(-t/2))\nEq(x(t), 200 - 200*exp(-t/2))\nEq(x(t), 200 - 200*exp(-t/2))\nEq(x(t), 200 - 200*exp(-t/2))\nEq(x(t), 200 - 200*exp(-t/2))\nEq(x(t), 200 - 200*exp(-t/2))\nEq(x(t), 200 - 200*exp(-t/2))\nEq(x(t), 200 - 200*exp(-t/2))\nEq(x(t), 200 - 200*exp(-t/2))\nEq(x(t), 200 - 200*exp(-t/2))\nEq(x(t), 200 - 200*exp(-t/2))\nEq(x(t), 200 - 200*exp(-t/2))\nEq(x(t), 200 - 200*exp(-t/2))\nEq(x(t), 200 - 200*exp(-t/2))\nEq(x(t), 200 - 200*exp(-t/2))\nEq(x(t), 200 - 200*exp(-t/2))\nEq(x(t), 200 - 200*exp(-t/2))\nEq(x(t), 200 - 200*exp(-t/2))\nEq(x(t), 200 - 200*exp(-t/2))\nEq(x(t), 200 - 200*exp(-t/2))\nEq(x(t), 200 - 200*exp(-t/2))\nEq(x(t), 200 - 200*exp(-t/2))\nEq(x(t), 200 - 200*exp(-t/2))\nEq(x(t), 200 - 200*exp(-t/2))\nEq(x(t), 200 - 200*exp(-t/2))\nEq(x(t), 200 - 200*exp(-t/2))\nEq(x(t), 200 - 200*exp(-t/2))\nEq(x(t), 200 - 200*exp(-t/2))\nEq(x(t), 200 - 200*exp(-t/2))\nEq(x(t), 200 - 200*exp(-t/2))\nEq(x(t), 200 - 200*exp(-t/2))\nEq(x(t), 200 - 200*exp(-t/2))\nEq(x(t), 200 - 200*exp(-t/2))\nEq(x(t), 200 - 200*exp(-t/2))\nEq(x(t), 200 - 200*exp(-t/2))\nEq(x(t), 200 - 200*exp(-t/2))\nEq(x(t), 200 - 200*exp(-t/2))\nEq(x(t), 200 - 200*exp(-t/2))\nEq(x(t), 200 - 200*exp(-t/2))\nEq(x(t), 200 - 200*exp(-t/2))\nEq(x(t), 200 - 200*exp(-t/2))\nEq(x(t), 200 - 200*exp(-t/2))\nEq(x(t), 200 - 200*exp(-t/2))\nEq(x(t), 200 - 200*exp(-t/2))\nEq(x(t), 200 - 200*exp(-t/2))\nEq(x(t), 200 - 200*exp(-t/2))\nEq(x(t), 200 - 200*exp(-t/2))\nEq(x(t), 200 - 200*exp(-t/2))\nEq(x(t), 200 - 200*exp(-t/2))\nEq(x(t), 200 - 200*exp(-t/2))\nEq(x(t), 200 - 200*exp(-t/2))\nEq(x(t), 200 - 200*exp(-t/2))\nEq(x(t), 200 - 200*exp(-t/2))\nEq(x(t), 200 - 200*exp(-t/2))\nEq(x(t), 200 - 200*exp(-t/2))\nEq(x(t), 200 - 200*exp(-t/2))\nEq(x(t), 200 - 200*exp(-t/2))\nEq(x(t), 200 - 200*exp(-t/2))\nEq(x(t), 200 - 200*exp(-t/2))\nEq(x(t), 200 - 200*exp(-t/2))\nEq(x(t), 200 - 200*exp(-t/2))\nEq(x(t), 200 - 200*exp(-t/2))\nEq(x(t), 200 - 200*exp(-t/2))\nEq(x(t), 200 - 200*exp(-t/2))\nEq(x(t), 200 - 200*exp(-t/2))\nEq(x(t), 200 - 200*exp(-t/2))\nEq(x(t), 200 - 200*exp(-t/2))\nEq(x(t), 200 - 200*exp(-t/2))\nEq(x(t), 200 - 200*exp(-t/2))\nEq(x(t), 200 - 200*exp(-t/2))\nEq(x(t), 200 - 200*exp(-t/2))\nEq(x(t), 200 - 200*exp(-t/2))\nEq(x(t), 200 - 200*exp(-t/2))\nEq(x(t), 200 - 200*exp(-t/2))\nEq(x(t), 200 - 200*exp(-t/2))\nEq(x(t), 200 - 200*exp(-t/2))\nEq(x(t), 200 - 200*exp(-t/2))\nEq(x(t), 200 - 200*exp(-t/2))\nEq(x(t), 200 - 200*exp(-t/2))\nEq(x(t), 200 - 200*exp(-t/2))\nEq(x(t), 200 - 200*exp(-t/2))\nEq(x(t), 200 - 200*exp(-t/2))\nEq(x(t), 200 - 200*exp(-t/2))\nEq(x(t), 200 - 200*exp(-t/2))\nEq(x(t), 200 - 200*exp(-t/2))\nEq(x(t), 200 - 200*exp(-t/2))\nEq(x(t), 200 - 200*exp(-t/2))\nEq(x(t), 200 - 200*exp(-t/2))\nEq(x(t), 200 - 200*exp(-t/2))\nEq(x(t), 200 - 200*exp(-t/2))\nEq(x(t), 200 - 200*exp(-t/2))\nEq(x(t), 200 - 200*exp(-t/2))\nEq(x(t), 200 - 200*exp(-t/2))\nEq(x(t), 200 - 200*exp(-t/2))\nEq(x(t), 200 - 200*exp(-t/2))\nEq(x(t), 200 - 200*exp(-t/2))\nEq(x(t), 200 - 200*exp(-t/2))\nEq(x(t), 200 - 200*exp(-t/2))\nEq(x(t), 200 - 200*exp(-t/2))\nEq(x(t), 200 - 200*exp(-t/2))\nEq(x(t), 200 - 200*exp(-t/2))\nEq(x(t), 200 - 200*exp(-t/2))\nEq(x(t), 200 - 200*exp(-t/2))\nEq(x(t), 200 - 200*exp(-t/2))\nEq(x(t), 200 - 200*exp(-t/2))\nEq(x(t), 200 - 200*exp(-t/2))\nEq(x(t), 200 - 200*exp(-t/2))\nEq(x(t), 200 - 200*exp(-t/2))\nEq(x(t), 200 - 200*exp(-t/2))\nEq(x(t), 200 - 200*exp(-t/2))\nEq(x(t), 200 - 200*exp(-t/2))\nEq(x(t), 200 - 200*exp(-t/2))\nEq(x(t), 200 - 200*exp(-t/2))\nEq(x(t), 200 - 200*exp(-t/2))\nEq(x(t), 200 - 200*exp(-t/2))\nEq(x(t), 200 - 200*exp(-t/2))\nEq(x(t), 200 - 200*exp(-t/2))\nEq(x(t), 200 - 200*exp(-t/2))\nEq(x(t), 200 - 200*exp(-t/2))\nEq(x(t), 200 - 200*exp(-t/2))\nEq(x(t), 200 - 200*exp(-t/2))\nEq(x(t), 200 - 200*exp(-t/2))\nEq(x(t), 200 - 200*exp(-t/2))\nEq(x(t), 200 - 200*exp(-t/2))\nEq(x(t), 200 - 200*exp(-t/2))\nEq(x(t), 200 - 200*exp(-t/2))\nEq(x(t), 200 - 200*exp(-t/2))\nEq(x(t), 200 - 200*exp(-t/2))\nEq(x(t), 200 - 200*exp(-t/2))\nEq(x(t), 200 - 200*exp(-t/2))\nEq(x(t), 200 - 200*exp(-t/2))\nEq(x(t), 200 - 200*exp(-t/2))\nEq(x(t), 200 - 200*exp(-t/2))\nEq(x(t), 200 - 200*exp(-t/2))\nEq(x(t), 200 - 200*exp(-t/2))\nEq(x(t), 200 - 200*exp(-t/2))\nEq(x(t), 200 - 200*exp(-t/2))\nEq(x(t), 200 - 200*exp(-t/2))\nEq(x(t), 200 - 200*exp(-t/2))\nEq(x(t), 200 - 200*exp(-t/2))\nEq(x(t), 200 - 200*exp(-t/2))\nEq(x(t), 200 - 200*exp(-t/2))\nEq(x(t), 200 - 200*exp(-t/2))\nEq(x(t), 200 - 200*exp(-t/2))\nEq(x(t), 200 - 200*exp(-t/2))\nEq(x(t), 200 - 200*exp(-t/2))\nEq(x(t), 200 - 200*exp(-t/2))\nEq(x(t), 200 - 200*exp(-t/2))\nEq(x(t), 200 - 200*exp(-t/2))\nEq(x(t), 200 - 200*exp(-t/2))\nEq(x(t), 200 - 200*exp(-t/2))\nEq(x(t), 200 - 200*exp(-t/2))\nEq(x(t), 200 - 200*exp(-t/2))\nEq(x(t), 200 - 200*exp(-t/2))\nEq(x(t), 200 - 200*exp(-t/2))\n"
        },
        {
         "name": "stdout",
         "output_type": "stream",
         "text": "Eq(x(t), 200 - 200*exp(-t/2))\nEq(x(t), 200 - 200*exp(-t/2))\nEq(x(t), 200 - 200*exp(-t/2))\nEq(x(t), 200 - 200*exp(-t/2))\nEq(x(t), 200 - 200*exp(-t/2))\nEq(x(t), 200 - 200*exp(-t/2))\nEq(x(t), 200 - 200*exp(-t/2))\nEq(x(t), 200 - 200*exp(-t/2))\nEq(x(t), 200 - 200*exp(-t/2))\nEq(x(t), 200 - 200*exp(-t/2))\nEq(x(t), 200 - 200*exp(-t/2))\nEq(x(t), 200 - 200*exp(-t/2))\nEq(x(t), 200 - 200*exp(-t/2))\nEq(x(t), 200 - 200*exp(-t/2))\nEq(x(t), 200 - 200*exp(-t/2))\nEq(x(t), 200 - 200*exp(-t/2))\nEq(x(t), 200 - 200*exp(-t/2))\nEq(x(t), 200 - 200*exp(-t/2))\nEq(x(t), 200 - 200*exp(-t/2))\nEq(x(t), 200 - 200*exp(-t/2))\nEq(x(t), 200 - 200*exp(-t/2))\nEq(x(t), 200 - 200*exp(-t/2))\nEq(x(t), 200 - 200*exp(-t/2))\nEq(x(t), 200 - 200*exp(-t/2))\nEq(x(t), 200 - 200*exp(-t/2))\nEq(x(t), 200 - 200*exp(-t/2))\nEq(x(t), 200 - 200*exp(-t/2))\nEq(x(t), 200 - 200*exp(-t/2))\nEq(x(t), 200 - 200*exp(-t/2))\nEq(x(t), 200 - 200*exp(-t/2))\nEq(x(t), 200 - 200*exp(-t/2))\nEq(x(t), 200 - 200*exp(-t/2))\nEq(x(t), 200 - 200*exp(-t/2))\nEq(x(t), 200 - 200*exp(-t/2))\nEq(x(t), 200 - 200*exp(-t/2))\nEq(x(t), 200 - 200*exp(-t/2))\nEq(x(t), 200 - 200*exp(-t/2))\nEq(x(t), 200 - 200*exp(-t/2))\nEq(x(t), 200 - 200*exp(-t/2))\nEq(x(t), 200 - 200*exp(-t/2))\nEq(x(t), 200 - 200*exp(-t/2))\nEq(x(t), 200 - 200*exp(-t/2))\nEq(x(t), 200 - 200*exp(-t/2))\nEq(x(t), 200 - 200*exp(-t/2))\nEq(x(t), 200 - 200*exp(-t/2))\nEq(x(t), 200 - 200*exp(-t/2))\nEq(x(t), 200 - 200*exp(-t/2))\nEq(x(t), 200 - 200*exp(-t/2))\nEq(x(t), 200 - 200*exp(-t/2))\nEq(x(t), 200 - 200*exp(-t/2))\nEq(x(t), 200 - 200*exp(-t/2))\nEq(x(t), 200 - 200*exp(-t/2))\nEq(x(t), 200 - 200*exp(-t/2))\nEq(x(t), 200 - 200*exp(-t/2))\nEq(x(t), 200 - 200*exp(-t/2))\nEq(x(t), 200 - 200*exp(-t/2))\nEq(x(t), 200 - 200*exp(-t/2))\nEq(x(t), 200 - 200*exp(-t/2))\nEq(x(t), 200 - 200*exp(-t/2))\nEq(x(t), 200 - 200*exp(-t/2))\nEq(x(t), 200 - 200*exp(-t/2))\nEq(x(t), 200 - 200*exp(-t/2))\nEq(x(t), 200 - 200*exp(-t/2))\nEq(x(t), 200 - 200*exp(-t/2))\nEq(x(t), 200 - 200*exp(-t/2))\nEq(x(t), 200 - 200*exp(-t/2))\nEq(x(t), 200 - 200*exp(-t/2))\nEq(x(t), 200 - 200*exp(-t/2))\nEq(x(t), 200 - 200*exp(-t/2))\nEq(x(t), 200 - 200*exp(-t/2))\nEq(x(t), 200 - 200*exp(-t/2))\nEq(x(t), 200 - 200*exp(-t/2))\nEq(x(t), 200 - 200*exp(-t/2))\nEq(x(t), 200 - 200*exp(-t/2))\nEq(x(t), 200 - 200*exp(-t/2))\nEq(x(t), 200 - 200*exp(-t/2))\nEq(x(t), 200 - 200*exp(-t/2))\nEq(x(t), 200 - 200*exp(-t/2))\nEq(x(t), 200 - 200*exp(-t/2))\nEq(x(t), 200 - 200*exp(-t/2))\nEq(x(t), 200 - 200*exp(-t/2))\nEq(x(t), 200 - 200*exp(-t/2))\nEq(x(t), 200 - 200*exp(-t/2))\nEq(x(t), 200 - 200*exp(-t/2))\nEq(x(t), 200 - 200*exp(-t/2))\nEq(x(t), 200 - 200*exp(-t/2))\nEq(x(t), 200 - 200*exp(-t/2))\nEq(x(t), 200 - 200*exp(-t/2))\nEq(x(t), 200 - 200*exp(-t/2))\nEq(x(t), 200 - 200*exp(-t/2))\nEq(x(t), 200 - 200*exp(-t/2))\nEq(x(t), 200 - 200*exp(-t/2))\nEq(x(t), 200 - 200*exp(-t/2))\nEq(x(t), 200 - 200*exp(-t/2))\nEq(x(t), 200 - 200*exp(-t/2))\nEq(x(t), 200 - 200*exp(-t/2))\nEq(x(t), 200 - 200*exp(-t/2))\nEq(x(t), 200 - 200*exp(-t/2))\nEq(x(t), 200 - 200*exp(-t/2))\nEq(x(t), 200 - 200*exp(-t/2))\nEq(x(t), 200 - 200*exp(-t/2))\nEq(x(t), 200 - 200*exp(-t/2))\nEq(x(t), 200 - 200*exp(-t/2))\nEq(x(t), 200 - 200*exp(-t/2))\nEq(x(t), 200 - 200*exp(-t/2))\nEq(x(t), 200 - 200*exp(-t/2))\nEq(x(t), 200 - 200*exp(-t/2))\nEq(x(t), 200 - 200*exp(-t/2))\nEq(x(t), 200 - 200*exp(-t/2))\nEq(x(t), 200 - 200*exp(-t/2))\nEq(x(t), 200 - 200*exp(-t/2))\nEq(x(t), 200 - 200*exp(-t/2))\nEq(x(t), 200 - 200*exp(-t/2))\nEq(x(t), 200 - 200*exp(-t/2))\nEq(x(t), 200 - 200*exp(-t/2))\nEq(x(t), 200 - 200*exp(-t/2))\nEq(x(t), 200 - 200*exp(-t/2))\nEq(x(t), 200 - 200*exp(-t/2))\nEq(x(t), 200 - 200*exp(-t/2))\nEq(x(t), 200 - 200*exp(-t/2))\nEq(x(t), 200 - 200*exp(-t/2))\nEq(x(t), 200 - 200*exp(-t/2))\nEq(x(t), 200 - 200*exp(-t/2))\nEq(x(t), 200 - 200*exp(-t/2))\nEq(x(t), 200 - 200*exp(-t/2))\nEq(x(t), 200 - 200*exp(-t/2))\nEq(x(t), 200 - 200*exp(-t/2))\nEq(x(t), 200 - 200*exp(-t/2))\nEq(x(t), 200 - 200*exp(-t/2))\nEq(x(t), 200 - 200*exp(-t/2))\nEq(x(t), 200 - 200*exp(-t/2))\nEq(x(t), 200 - 200*exp(-t/2))\nEq(x(t), 200 - 200*exp(-t/2))\nEq(x(t), 200 - 200*exp(-t/2))\nEq(x(t), 200 - 200*exp(-t/2))\nEq(x(t), 200 - 200*exp(-t/2))\nEq(x(t), 200 - 200*exp(-t/2))\nEq(x(t), 200 - 200*exp(-t/2))\nEq(x(t), 200 - 200*exp(-t/2))\nEq(x(t), 200 - 200*exp(-t/2))\nEq(x(t), 200 - 200*exp(-t/2))\nEq(x(t), 200 - 200*exp(-t/2))\nEq(x(t), 200 - 200*exp(-t/2))\nEq(x(t), 200 - 200*exp(-t/2))\nEq(x(t), 200 - 200*exp(-t/2))\nEq(x(t), 200 - 200*exp(-t/2))\nEq(x(t), 200 - 200*exp(-t/2))\nEq(x(t), 200 - 200*exp(-t/2))\nEq(x(t), 200 - 200*exp(-t/2))\nEq(x(t), 200 - 200*exp(-t/2))\nEq(x(t), 200 - 200*exp(-t/2))\nEq(x(t), 200 - 200*exp(-t/2))\nEq(x(t), 200 - 200*exp(-t/2))\nEq(x(t), 200 - 200*exp(-t/2))\nEq(x(t), 200 - 200*exp(-t/2))\nEq(x(t), 200 - 200*exp(-t/2))\nEq(x(t), 200 - 200*exp(-t/2))\nEq(x(t), 200 - 200*exp(-t/2))\nEq(x(t), 200 - 200*exp(-t/2))\nEq(x(t), 200 - 200*exp(-t/2))\nEq(x(t), 200 - 200*exp(-t/2))\nEq(x(t), 200 - 200*exp(-t/2))\nEq(x(t), 200 - 200*exp(-t/2))\nEq(x(t), 200 - 200*exp(-t/2))\nEq(x(t), 200 - 200*exp(-t/2))\nEq(x(t), 200 - 200*exp(-t/2))\nEq(x(t), 200 - 200*exp(-t/2))\nEq(x(t), 200 - 200*exp(-t/2))\nEq(x(t), 200 - 200*exp(-t/2))\nEq(x(t), 200 - 200*exp(-t/2))\nEq(x(t), 200 - 200*exp(-t/2))\nEq(x(t), 200 - 200*exp(-t/2))\nEq(x(t), 200 - 200*exp(-t/2))\nEq(x(t), 200 - 200*exp(-t/2))\nEq(x(t), 200 - 200*exp(-t/2))\nEq(x(t), 200 - 200*exp(-t/2))\nEq(x(t), 200 - 200*exp(-t/2))\nEq(x(t), 200 - 200*exp(-t/2))\nEq(x(t), 200 - 200*exp(-t/2))\nEq(x(t), 200 - 200*exp(-t/2))\nEq(x(t), 200 - 200*exp(-t/2))\nEq(x(t), 200 - 200*exp(-t/2))\nEq(x(t), 200 - 200*exp(-t/2))\nEq(x(t), 200 - 200*exp(-t/2))\nEq(x(t), 200 - 200*exp(-t/2))\nEq(x(t), 200 - 200*exp(-t/2))\nEq(x(t), 200 - 200*exp(-t/2))\nEq(x(t), 200 - 200*exp(-t/2))\nEq(x(t), 200 - 200*exp(-t/2))\nEq(x(t), 200 - 200*exp(-t/2))\nEq(x(t), 200 - 200*exp(-t/2))\nEq(x(t), 200 - 200*exp(-t/2))\nEq(x(t), 200 - 200*exp(-t/2))\nEq(x(t), 200 - 200*exp(-t/2))\nEq(x(t), 200 - 200*exp(-t/2))\nEq(x(t), 200 - 200*exp(-t/2))\nEq(x(t), 200 - 200*exp(-t/2))\nEq(x(t), 200 - 200*exp(-t/2))\nEq(x(t), 200 - 200*exp(-t/2))\nEq(x(t), 200 - 200*exp(-t/2))\nEq(x(t), 200 - 200*exp(-t/2))\nEq(x(t), 200 - 200*exp(-t/2))\nEq(x(t), 200 - 200*exp(-t/2))\nEq(x(t), 200 - 200*exp(-t/2))\nEq(x(t), 200 - 200*exp(-t/2))\nEq(x(t), 200 - 200*exp(-t/2))\nEq(x(t), 200 - 200*exp(-t/2))\nEq(x(t), 200 - 200*exp(-t/2))\nEq(x(t), 200 - 200*exp(-t/2))\nEq(x(t), 200 - 200*exp(-t/2))\nEq(x(t), 200 - 200*exp(-t/2))\nEq(x(t), 200 - 200*exp(-t/2))\nEq(x(t), 200 - 200*exp(-t/2))\nEq(x(t), 200 - 200*exp(-t/2))\nEq(x(t), 200 - 200*exp(-t/2))\nEq(x(t), 200 - 200*exp(-t/2))\nEq(x(t), 200 - 200*exp(-t/2))\nEq(x(t), 200 - 200*exp(-t/2))\nEq(x(t), 200 - 200*exp(-t/2))\nEq(x(t), 200 - 200*exp(-t/2))\nEq(x(t), 200 - 200*exp(-t/2))\nEq(x(t), 200 - 200*exp(-t/2))\nEq(x(t), 200 - 200*exp(-t/2))\nEq(x(t), 200 - 200*exp(-t/2))\nEq(x(t), 200 - 200*exp(-t/2))\nEq(x(t), 200 - 200*exp(-t/2))\nEq(x(t), 200 - 200*exp(-t/2))\nEq(x(t), 200 - 200*exp(-t/2))\nEq(x(t), 200 - 200*exp(-t/2))\nEq(x(t), 200 - 200*exp(-t/2))\nEq(x(t), 200 - 200*exp(-t/2))\nEq(x(t), 200 - 200*exp(-t/2))\nEq(x(t), 200 - 200*exp(-t/2))\nEq(x(t), 200 - 200*exp(-t/2))\nEq(x(t), 200 - 200*exp(-t/2))\nEq(x(t), 200 - 200*exp(-t/2))\nEq(x(t), 200 - 200*exp(-t/2))\nEq(x(t), 200 - 200*exp(-t/2))\nEq(x(t), 200 - 200*exp(-t/2))\nEq(x(t), 200 - 200*exp(-t/2))\nEq(x(t), 200 - 200*exp(-t/2))\nEq(x(t), 200 - 200*exp(-t/2))\nEq(x(t), 200 - 200*exp(-t/2))\nEq(x(t), 200 - 200*exp(-t/2))\nEq(x(t), 200 - 200*exp(-t/2))\nEq(x(t), 200 - 200*exp(-t/2))\nEq(x(t), 200 - 200*exp(-t/2))\nEq(x(t), 200 - 200*exp(-t/2))\nEq(x(t), 200 - 200*exp(-t/2))\nEq(x(t), 200 - 200*exp(-t/2))\nEq(x(t), 200 - 200*exp(-t/2))\nEq(x(t), 200 - 200*exp(-t/2))\nEq(x(t), 200 - 200*exp(-t/2))\nEq(x(t), 200 - 200*exp(-t/2))\nEq(x(t), 200 - 200*exp(-t/2))\nEq(x(t), 200 - 200*exp(-t/2))\nEq(x(t), 200 - 200*exp(-t/2))\nEq(x(t), 200 - 200*exp(-t/2))\nEq(x(t), 200 - 200*exp(-t/2))\nEq(x(t), 200 - 200*exp(-t/2))\nEq(x(t), 200 - 200*exp(-t/2))\nEq(x(t), 200 - 200*exp(-t/2))\nEq(x(t), 200 - 200*exp(-t/2))\nEq(x(t), 200 - 200*exp(-t/2))\nEq(x(t), 200 - 200*exp(-t/2))\nEq(x(t), 200 - 200*exp(-t/2))\nEq(x(t), 200 - 200*exp(-t/2))\nEq(x(t), 200 - 200*exp(-t/2))\nEq(x(t), 200 - 200*exp(-t/2))\nEq(x(t), 200 - 200*exp(-t/2))\nEq(x(t), 200 - 200*exp(-t/2))\nEq(x(t), 200 - 200*exp(-t/2))\nEq(x(t), 200 - 200*exp(-t/2))\nEq(x(t), 200 - 200*exp(-t/2))\nEq(x(t), 200 - 200*exp(-t/2))\nEq(x(t), 200 - 200*exp(-t/2))\nEq(x(t), 200 - 200*exp(-t/2))\nEq(x(t), 200 - 200*exp(-t/2))\nEq(x(t), 200 - 200*exp(-t/2))\nEq(x(t), 200 - 200*exp(-t/2))\nEq(x(t), 200 - 200*exp(-t/2))\nEq(x(t), 200 - 200*exp(-t/2))\nEq(x(t), 200 - 200*exp(-t/2))\nEq(x(t), 200 - 200*exp(-t/2))\nEq(x(t), 200 - 200*exp(-t/2))\nEq(x(t), 200 - 200*exp(-t/2))\nEq(x(t), 200 - 200*exp(-t/2))\nEq(x(t), 200 - 200*exp(-t/2))\nEq(x(t), 200 - 200*exp(-t/2))\nEq(x(t), 200 - 200*exp(-t/2))\nEq(x(t), 200 - 200*exp(-t/2))\nEq(x(t), 200 - 200*exp(-t/2))\nEq(x(t), 200 - 200*exp(-t/2))\nEq(x(t), 200 - 200*exp(-t/2))\nEq(x(t), 200 - 200*exp(-t/2))\nEq(x(t), 200 - 200*exp(-t/2))\nEq(x(t), 200 - 200*exp(-t/2))\nEq(x(t), 200 - 200*exp(-t/2))\nEq(x(t), 200 - 200*exp(-t/2))\nEq(x(t), 200 - 200*exp(-t/2))\nEq(x(t), 200 - 200*exp(-t/2))\nEq(x(t), 200 - 200*exp(-t/2))\nEq(x(t), 200 - 200*exp(-t/2))\nEq(x(t), 200 - 200*exp(-t/2))\nEq(x(t), 200 - 200*exp(-t/2))\nEq(x(t), 200 - 200*exp(-t/2))\nEq(x(t), 200 - 200*exp(-t/2))\nEq(x(t), 200 - 200*exp(-t/2))\nEq(x(t), 200 - 200*exp(-t/2))\nEq(x(t), 200 - 200*exp(-t/2))\nEq(x(t), 200 - 200*exp(-t/2))\nEq(x(t), 200 - 200*exp(-t/2))\nEq(x(t), 200 - 200*exp(-t/2))\nEq(x(t), 200 - 200*exp(-t/2))\nEq(x(t), 200 - 200*exp(-t/2))\nEq(x(t), 200 - 200*exp(-t/2))\nEq(x(t), 200 - 200*exp(-t/2))\nEq(x(t), 200 - 200*exp(-t/2))\nEq(x(t), 200 - 200*exp(-t/2))\nEq(x(t), 200 - 200*exp(-t/2))\nEq(x(t), 200 - 200*exp(-t/2))\nEq(x(t), 200 - 200*exp(-t/2))\nEq(x(t), 200 - 200*exp(-t/2))\nEq(x(t), 200 - 200*exp(-t/2))\nEq(x(t), 200 - 200*exp(-t/2))\nEq(x(t), 200 - 200*exp(-t/2))\nEq(x(t), 200 - 200*exp(-t/2))\nEq(x(t), 200 - 200*exp(-t/2))\nEq(x(t), 200 - 200*exp(-t/2))\nEq(x(t), 200 - 200*exp(-t/2))\nEq(x(t), 200 - 200*exp(-t/2))\nEq(x(t), 200 - 200*exp(-t/2))\nEq(x(t), 200 - 200*exp(-t/2))\nEq(x(t), 200 - 200*exp(-t/2))\nEq(x(t), 200 - 200*exp(-t/2))\nEq(x(t), 200 - 200*exp(-t/2))\nEq(x(t), 200 - 200*exp(-t/2))\nEq(x(t), 200 - 200*exp(-t/2))\nEq(x(t), 200 - 200*exp(-t/2))\nEq(x(t), 200 - 200*exp(-t/2))\nEq(x(t), 200 - 200*exp(-t/2))\nEq(x(t), 200 - 200*exp(-t/2))\nEq(x(t), 200 - 200*exp(-t/2))\nEq(x(t), 200 - 200*exp(-t/2))\nEq(x(t), 200 - 200*exp(-t/2))\nEq(x(t), 200 - 200*exp(-t/2))\nEq(x(t), 200 - 200*exp(-t/2))\nEq(x(t), 200 - 200*exp(-t/2))\nEq(x(t), 200 - 200*exp(-t/2))\nEq(x(t), 200 - 200*exp(-t/2))\nEq(x(t), 200 - 200*exp(-t/2))\nEq(x(t), 200 - 200*exp(-t/2))\nEq(x(t), 200 - 200*exp(-t/2))\nEq(x(t), 200 - 200*exp(-t/2))\nEq(x(t), 200 - 200*exp(-t/2))\nEq(x(t), 200 - 200*exp(-t/2))\nEq(x(t), 200 - 200*exp(-t/2))\nEq(x(t), 200 - 200*exp(-t/2))\nEq(x(t), 200 - 200*exp(-t/2))\nEq(x(t), 200 - 200*exp(-t/2))\nEq(x(t), 200 - 200*exp(-t/2))\nEq(x(t), 200 - 200*exp(-t/2))\nEq(x(t), 200 - 200*exp(-t/2))\nEq(x(t), 200 - 200*exp(-t/2))\nEq(x(t), 200 - 200*exp(-t/2))\nEq(x(t), 200 - 200*exp(-t/2))\nEq(x(t), 200 - 200*exp(-t/2))\nEq(x(t), 200 - 200*exp(-t/2))\nEq(x(t), 200 - 200*exp(-t/2))\nEq(x(t), 200 - 200*exp(-t/2))\nEq(x(t), 200 - 200*exp(-t/2))\nEq(x(t), 200 - 200*exp(-t/2))\nEq(x(t), 200 - 200*exp(-t/2))\nEq(x(t), 200 - 200*exp(-t/2))\nEq(x(t), 200 - 200*exp(-t/2))\nEq(x(t), 200 - 200*exp(-t/2))\nEq(x(t), 200 - 200*exp(-t/2))\nEq(x(t), 200 - 200*exp(-t/2))\nEq(x(t), 200 - 200*exp(-t/2))\nEq(x(t), 200 - 200*exp(-t/2))\nEq(x(t), 200 - 200*exp(-t/2))\nEq(x(t), 200 - 200*exp(-t/2))\nEq(x(t), 200 - 200*exp(-t/2))\nEq(x(t), 200 - 200*exp(-t/2))\nEq(x(t), 200 - 200*exp(-t/2))\nEq(x(t), 200 - 200*exp(-t/2))\nEq(x(t), 200 - 200*exp(-t/2))\nEq(x(t), 200 - 200*exp(-t/2))\nEq(x(t), 200 - 200*exp(-t/2))\nEq(x(t), 200 - 200*exp(-t/2))\nEq(x(t), 200 - 200*exp(-t/2))\nEq(x(t), 200 - 200*exp(-t/2))\nEq(x(t), 200 - 200*exp(-t/2))\nEq(x(t), 200 - 200*exp(-t/2))\nEq(x(t), 200 - 200*exp(-t/2))\nEq(x(t), 200 - 200*exp(-t/2))\nEq(x(t), 200 - 200*exp(-t/2))\nEq(x(t), 200 - 200*exp(-t/2))\nEq(x(t), 200 - 200*exp(-t/2))\nEq(x(t), 200 - 200*exp(-t/2))\nEq(x(t), 200 - 200*exp(-t/2))\nEq(x(t), 200 - 200*exp(-t/2))\nEq(x(t), 200 - 200*exp(-t/2))\nEq(x(t), 200 - 200*exp(-t/2))\nEq(x(t), 200 - 200*exp(-t/2))\nEq(x(t), 200 - 200*exp(-t/2))\nEq(x(t), 200 - 200*exp(-t/2))\nEq(x(t), 200 - 200*exp(-t/2))\nEq(x(t), 200 - 200*exp(-t/2))\nEq(x(t), 200 - 200*exp(-t/2))\nEq(x(t), 200 - 200*exp(-t/2))\nEq(x(t), 200 - 200*exp(-t/2))\nEq(x(t), 200 - 200*exp(-t/2))\nEq(x(t), 200 - 200*exp(-t/2))\nEq(x(t), 200 - 200*exp(-t/2))\nEq(x(t), 200 - 200*exp(-t/2))\nEq(x(t), 200 - 200*exp(-t/2))\nEq(x(t), 200 - 200*exp(-t/2))\nEq(x(t), 200 - 200*exp(-t/2))\nEq(x(t), 200 - 200*exp(-t/2))\nEq(x(t), 200 - 200*exp(-t/2))\nEq(x(t), 200 - 200*exp(-t/2))\nEq(x(t), 200 - 200*exp(-t/2))\nEq(x(t), 200 - 200*exp(-t/2))\nEq(x(t), 200 - 200*exp(-t/2))\nEq(x(t), 200 - 200*exp(-t/2))\nEq(x(t), 200 - 200*exp(-t/2))\nEq(x(t), 200 - 200*exp(-t/2))\nEq(x(t), 200 - 200*exp(-t/2))\nEq(x(t), 200 - 200*exp(-t/2))\nEq(x(t), 200 - 200*exp(-t/2))\nEq(x(t), 200 - 200*exp(-t/2))\nEq(x(t), 200 - 200*exp(-t/2))\nEq(x(t), 200 - 200*exp(-t/2))\nEq(x(t), 200 - 200*exp(-t/2))\nEq(x(t), 200 - 200*exp(-t/2))\nEq(x(t), 200 - 200*exp(-t/2))\nEq(x(t), 200 - 200*exp(-t/2))\nEq(x(t), 200 - 200*exp(-t/2))\nEq(x(t), 200 - 200*exp(-t/2))\nEq(x(t), 200 - 200*exp(-t/2))\nEq(x(t), 200 - 200*exp(-t/2))\nEq(x(t), 200 - 200*exp(-t/2))\nEq(x(t), 200 - 200*exp(-t/2))\nEq(x(t), 200 - 200*exp(-t/2))\nEq(x(t), 200 - 200*exp(-t/2))\nEq(x(t), 200 - 200*exp(-t/2))\nEq(x(t), 200 - 200*exp(-t/2))\nEq(x(t), 200 - 200*exp(-t/2))\nEq(x(t), 200 - 200*exp(-t/2))\nEq(x(t), 200 - 200*exp(-t/2))\nEq(x(t), 200 - 200*exp(-t/2))\nEq(x(t), 200 - 200*exp(-t/2))\nEq(x(t), 200 - 200*exp(-t/2))\nEq(x(t), 200 - 200*exp(-t/2))\nEq(x(t), 200 - 200*exp(-t/2))\nEq(x(t), 200 - 200*exp(-t/2))\nEq(x(t), 200 - 200*exp(-t/2))\nEq(x(t), 200 - 200*exp(-t/2))\nEq(x(t), 200 - 200*exp(-t/2))\nEq(x(t), 200 - 200*exp(-t/2))\nEq(x(t), 200 - 200*exp(-t/2))\nEq(x(t), 200 - 200*exp(-t/2))\nEq(x(t), 200 - 200*exp(-t/2))\nEq(x(t), 200 - 200*exp(-t/2))\nEq(x(t), 200 - 200*exp(-t/2))\nEq(x(t), 200 - 200*exp(-t/2))\nEq(x(t), 200 - 200*exp(-t/2))\nEq(x(t), 200 - 200*exp(-t/2))\nEq(x(t), 200 - 200*exp(-t/2))\nEq(x(t), 200 - 200*exp(-t/2))\nEq(x(t), 200 - 200*exp(-t/2))\nEq(x(t), 200 - 200*exp(-t/2))\nEq(x(t), 200 - 200*exp(-t/2))\nEq(x(t), 200 - 200*exp(-t/2))\nEq(x(t), 200 - 200*exp(-t/2))\nEq(x(t), 200 - 200*exp(-t/2))\nEq(x(t), 200 - 200*exp(-t/2))\nEq(x(t), 200 - 200*exp(-t/2))\nEq(x(t), 200 - 200*exp(-t/2))\nEq(x(t), 200 - 200*exp(-t/2))\nEq(x(t), 200 - 200*exp(-t/2))\nEq(x(t), 200 - 200*exp(-t/2))\nEq(x(t), 200 - 200*exp(-t/2))\nEq(x(t), 200 - 200*exp(-t/2))\nEq(x(t), 200 - 200*exp(-t/2))\nEq(x(t), 200 - 200*exp(-t/2))\nEq(x(t), 200 - 200*exp(-t/2))\nEq(x(t), 200 - 200*exp(-t/2))\nEq(x(t), 200 - 200*exp(-t/2))\nEq(x(t), 200 - 200*exp(-t/2))\nEq(x(t), 200 - 200*exp(-t/2))\nEq(x(t), 200 - 200*exp(-t/2))\nEq(x(t), 200 - 200*exp(-t/2))\nEq(x(t), 200 - 200*exp(-t/2))\nEq(x(t), 200 - 200*exp(-t/2))\nEq(x(t), 200 - 200*exp(-t/2))\nEq(x(t), 200 - 200*exp(-t/2))\nEq(x(t), 200 - 200*exp(-t/2))\nEq(x(t), 200 - 200*exp(-t/2))\nEq(x(t), 200 - 200*exp(-t/2))\nEq(x(t), 200 - 200*exp(-t/2))\nEq(x(t), 200 - 200*exp(-t/2))\nEq(x(t), 200 - 200*exp(-t/2))\nEq(x(t), 200 - 200*exp(-t/2))\nEq(x(t), 200 - 200*exp(-t/2))\nEq(x(t), 200 - 200*exp(-t/2))\nEq(x(t), 200 - 200*exp(-t/2))\nEq(x(t), 200 - 200*exp(-t/2))\nEq(x(t), 200 - 200*exp(-t/2))\nEq(x(t), 200 - 200*exp(-t/2))\nEq(x(t), 200 - 200*exp(-t/2))\nEq(x(t), 200 - 200*exp(-t/2))\nEq(x(t), 200 - 200*exp(-t/2))\nEq(x(t), 200 - 200*exp(-t/2))\nEq(x(t), 200 - 200*exp(-t/2))\nEq(x(t), 200 - 200*exp(-t/2))\nEq(x(t), 200 - 200*exp(-t/2))\nEq(x(t), 200 - 200*exp(-t/2))\nEq(x(t), 200 - 200*exp(-t/2))\nEq(x(t), 200 - 200*exp(-t/2))\nEq(x(t), 200 - 200*exp(-t/2))\nEq(x(t), 200 - 200*exp(-t/2))\nEq(x(t), 200 - 200*exp(-t/2))\nEq(x(t), 200 - 200*exp(-t/2))\nEq(x(t), 200 - 200*exp(-t/2))\nEq(x(t), 200 - 200*exp(-t/2))\nEq(x(t), 200 - 200*exp(-t/2))\nEq(x(t), 200 - 200*exp(-t/2))\nEq(x(t), 200 - 200*exp(-t/2))\nEq(x(t), 200 - 200*exp(-t/2))\nEq(x(t), 200 - 200*exp(-t/2))\nEq(x(t), 200 - 200*exp(-t/2))\nEq(x(t), 200 - 200*exp(-t/2))\nEq(x(t), 200 - 200*exp(-t/2))\nEq(x(t), 200 - 200*exp(-t/2))\nEq(x(t), 200 - 200*exp(-t/2))\nEq(x(t), 200 - 200*exp(-t/2))\nEq(x(t), 200 - 200*exp(-t/2))\nEq(x(t), 200 - 200*exp(-t/2))\nEq(x(t), 200 - 200*exp(-t/2))\nEq(x(t), 200 - 200*exp(-t/2))\nEq(x(t), 200 - 200*exp(-t/2))\nEq(x(t), 200 - 200*exp(-t/2))\nEq(x(t), 200 - 200*exp(-t/2))\nEq(x(t), 200 - 200*exp(-t/2))\nEq(x(t), 200 - 200*exp(-t/2))\nEq(x(t), 200 - 200*exp(-t/2))\nEq(x(t), 200 - 200*exp(-t/2))\nEq(x(t), 200 - 200*exp(-t/2))\nEq(x(t), 200 - 200*exp(-t/2))\nEq(x(t), 200 - 200*exp(-t/2))\nEq(x(t), 200 - 200*exp(-t/2))\nEq(x(t), 200 - 200*exp(-t/2))\nEq(x(t), 200 - 200*exp(-t/2))\nEq(x(t), 200 - 200*exp(-t/2))\nEq(x(t), 200 - 200*exp(-t/2))\nEq(x(t), 200 - 200*exp(-t/2))\nEq(x(t), 200 - 200*exp(-t/2))\nEq(x(t), 200 - 200*exp(-t/2))\nEq(x(t), 200 - 200*exp(-t/2))\nEq(x(t), 200 - 200*exp(-t/2))\nEq(x(t), 200 - 200*exp(-t/2))\nEq(x(t), 200 - 200*exp(-t/2))\nEq(x(t), 200 - 200*exp(-t/2))\nEq(x(t), 200 - 200*exp(-t/2))\nEq(x(t), 200 - 200*exp(-t/2))\nEq(x(t), 200 - 200*exp(-t/2))\nEq(x(t), 200 - 200*exp(-t/2))\nEq(x(t), 200 - 200*exp(-t/2))\nEq(x(t), 200 - 200*exp(-t/2))\nEq(x(t), 200 - 200*exp(-t/2))\nEq(x(t), 200 - 200*exp(-t/2))\nEq(x(t), 200 - 200*exp(-t/2))\nEq(x(t), 200 - 200*exp(-t/2))\nEq(x(t), 200 - 200*exp(-t/2))\nEq(x(t), 200 - 200*exp(-t/2))\nEq(x(t), 200 - 200*exp(-t/2))\nEq(x(t), 200 - 200*exp(-t/2))\nEq(x(t), 200 - 200*exp(-t/2))\nEq(x(t), 200 - 200*exp(-t/2))\nEq(x(t), 200 - 200*exp(-t/2))\nEq(x(t), 200 - 200*exp(-t/2))\nEq(x(t), 200 - 200*exp(-t/2))\nEq(x(t), 200 - 200*exp(-t/2))\nEq(x(t), 200 - 200*exp(-t/2))\nEq(x(t), 200 - 200*exp(-t/2))\nEq(x(t), 200 - 200*exp(-t/2))\nEq(x(t), 200 - 200*exp(-t/2))\nEq(x(t), 200 - 200*exp(-t/2))\nEq(x(t), 200 - 200*exp(-t/2))\nEq(x(t), 200 - 200*exp(-t/2))\nEq(x(t), 200 - 200*exp(-t/2))\nEq(x(t), 200 - 200*exp(-t/2))\nEq(x(t), 200 - 200*exp(-t/2))\nEq(x(t), 200 - 200*exp(-t/2))\nEq(x(t), 200 - 200*exp(-t/2))\nEq(x(t), 200 - 200*exp(-t/2))\nEq(x(t), 200 - 200*exp(-t/2))\nEq(x(t), 200 - 200*exp(-t/2))\nEq(x(t), 200 - 200*exp(-t/2))\nEq(x(t), 200 - 200*exp(-t/2))\nEq(x(t), 200 - 200*exp(-t/2))\nEq(x(t), 200 - 200*exp(-t/2))\nEq(x(t), 200 - 200*exp(-t/2))\nEq(x(t), 200 - 200*exp(-t/2))\nEq(x(t), 200 - 200*exp(-t/2))\nEq(x(t), 200 - 200*exp(-t/2))\nEq(x(t), 200 - 200*exp(-t/2))\nEq(x(t), 200 - 200*exp(-t/2))\nEq(x(t), 200 - 200*exp(-t/2))\nEq(x(t), 200 - 200*exp(-t/2))\nEq(x(t), 200 - 200*exp(-t/2))\nEq(x(t), 200 - 200*exp(-t/2))\nEq(x(t), 200 - 200*exp(-t/2))\nEq(x(t), 200 - 200*exp(-t/2))\nEq(x(t), 200 - 200*exp(-t/2))\nEq(x(t), 200 - 200*exp(-t/2))\nEq(x(t), 200 - 200*exp(-t/2))\nEq(x(t), 200 - 200*exp(-t/2))\nEq(x(t), 200 - 200*exp(-t/2))\nEq(x(t), 200 - 200*exp(-t/2))\nEq(x(t), 200 - 200*exp(-t/2))\nEq(x(t), 200 - 200*exp(-t/2))\nEq(x(t), 200 - 200*exp(-t/2))\nEq(x(t), 200 - 200*exp(-t/2))\nEq(x(t), 200 - 200*exp(-t/2))\nEq(x(t), 200 - 200*exp(-t/2))\nEq(x(t), 200 - 200*exp(-t/2))\nEq(x(t), 200 - 200*exp(-t/2))\nEq(x(t), 200 - 200*exp(-t/2))\nEq(x(t), 200 - 200*exp(-t/2))\nEq(x(t), 200 - 200*exp(-t/2))\nEq(x(t), 200 - 200*exp(-t/2))\nEq(x(t), 200 - 200*exp(-t/2))\nEq(x(t), 200 - 200*exp(-t/2))\nEq(x(t), 200 - 200*exp(-t/2))\nEq(x(t), 200 - 200*exp(-t/2))\nEq(x(t), 200 - 200*exp(-t/2))\nEq(x(t), 200 - 200*exp(-t/2))\nEq(x(t), 200 - 200*exp(-t/2))\nEq(x(t), 200 - 200*exp(-t/2))\nEq(x(t), 200 - 200*exp(-t/2))\nEq(x(t), 200 - 200*exp(-t/2))\nEq(x(t), 200 - 200*exp(-t/2))\nEq(x(t), 200 - 200*exp(-t/2))\nEq(x(t), 200 - 200*exp(-t/2))\nEq(x(t), 200 - 200*exp(-t/2))\nEq(x(t), 200 - 200*exp(-t/2))\nEq(x(t), 200 - 200*exp(-t/2))\nEq(x(t), 200 - 200*exp(-t/2))\nEq(x(t), 200 - 200*exp(-t/2))\nEq(x(t), 200 - 200*exp(-t/2))\nEq(x(t), 200 - 200*exp(-t/2))\nEq(x(t), 200 - 200*exp(-t/2))\nEq(x(t), 200 - 200*exp(-t/2))\nEq(x(t), 200 - 200*exp(-t/2))\nEq(x(t), 200 - 200*exp(-t/2))\nEq(x(t), 200 - 200*exp(-t/2))\nEq(x(t), 200 - 200*exp(-t/2))\nEq(x(t), 200 - 200*exp(-t/2))\nEq(x(t), 200 - 200*exp(-t/2))\nEq(x(t), 200 - 200*exp(-t/2))\nEq(x(t), 200 - 200*exp(-t/2))\nEq(x(t), 200 - 200*exp(-t/2))\nEq(x(t), 200 - 200*exp(-t/2))\nEq(x(t), 200 - 200*exp(-t/2))\nEq(x(t), 200 - 200*exp(-t/2))\nEq(x(t), 200 - 200*exp(-t/2))\nEq(x(t), 200 - 200*exp(-t/2))\nEq(x(t), 200 - 200*exp(-t/2))\nEq(x(t), 200 - 200*exp(-t/2))\nEq(x(t), 200 - 200*exp(-t/2))\nEq(x(t), 200 - 200*exp(-t/2))\nEq(x(t), 200 - 200*exp(-t/2))\nEq(x(t), 200 - 200*exp(-t/2))\nEq(x(t), 200 - 200*exp(-t/2))\nEq(x(t), 200 - 200*exp(-t/2))\nEq(x(t), 200 - 200*exp(-t/2))\nEq(x(t), 200 - 200*exp(-t/2))\nEq(x(t), 200 - 200*exp(-t/2))\nEq(x(t), 200 - 200*exp(-t/2))\nEq(x(t), 200 - 200*exp(-t/2))\nEq(x(t), 200 - 200*exp(-t/2))\nEq(x(t), 200 - 200*exp(-t/2))\nEq(x(t), 200 - 200*exp(-t/2))\nEq(x(t), 200 - 200*exp(-t/2))\nEq(x(t), 200 - 200*exp(-t/2))\nEq(x(t), 200 - 200*exp(-t/2))\nEq(x(t), 200 - 200*exp(-t/2))\nEq(x(t), 200 - 200*exp(-t/2))\nEq(x(t), 200 - 200*exp(-t/2))\nEq(x(t), 200 - 200*exp(-t/2))\nEq(x(t), 200 - 200*exp(-t/2))\nEq(x(t), 200 - 200*exp(-t/2))\nEq(x(t), 200 - 200*exp(-t/2))\nEq(x(t), 200 - 200*exp(-t/2))\nEq(x(t), 200 - 200*exp(-t/2))\nEq(x(t), 200 - 200*exp(-t/2))\nEq(x(t), 200 - 200*exp(-t/2))\nEq(x(t), 200 - 200*exp(-t/2))\nEq(x(t), 200 - 200*exp(-t/2))\nEq(x(t), 200 - 200*exp(-t/2))\nEq(x(t), 200 - 200*exp(-t/2))\nEq(x(t), 200 - 200*exp(-t/2))\nEq(x(t), 200 - 200*exp(-t/2))\nEq(x(t), 200 - 200*exp(-t/2))\nEq(x(t), 200 - 200*exp(-t/2))\nEq(x(t), 200 - 200*exp(-t/2))\nEq(x(t), 200 - 200*exp(-t/2))\nEq(x(t), 200 - 200*exp(-t/2))\nEq(x(t), 200 - 200*exp(-t/2))\nEq(x(t), 200 - 200*exp(-t/2))\nEq(x(t), 200 - 200*exp(-t/2))\nEq(x(t), 200 - 200*exp(-t/2))\nEq(x(t), 200 - 200*exp(-t/2))\nEq(x(t), 200 - 200*exp(-t/2))\nEq(x(t), 200 - 200*exp(-t/2))\nEq(x(t), 200 - 200*exp(-t/2))\nEq(x(t), 200 - 200*exp(-t/2))\nEq(x(t), 200 - 200*exp(-t/2))\nEq(x(t), 200 - 200*exp(-t/2))\nEq(x(t), 200 - 200*exp(-t/2))\nEq(x(t), 200 - 200*exp(-t/2))\nEq(x(t), 200 - 200*exp(-t/2))\nEq(x(t), 200 - 200*exp(-t/2))\nEq(x(t), 200 - 200*exp(-t/2))\nEq(x(t), 200 - 200*exp(-t/2))\nEq(x(t), 200 - 200*exp(-t/2))\nEq(x(t), 200 - 200*exp(-t/2))\nEq(x(t), 200 - 200*exp(-t/2))\nEq(x(t), 200 - 200*exp(-t/2))\nEq(x(t), 200 - 200*exp(-t/2))\nEq(x(t), 200 - 200*exp(-t/2))\nEq(x(t), 200 - 200*exp(-t/2))\nEq(x(t), 200 - 200*exp(-t/2))\nEq(x(t), 200 - 200*exp(-t/2))\nEq(x(t), 200 - 200*exp(-t/2))\nEq(x(t), 200 - 200*exp(-t/2))\nEq(x(t), 200 - 200*exp(-t/2))\nEq(x(t), 200 - 200*exp(-t/2))\nEq(x(t), 200 - 200*exp(-t/2))\nEq(x(t), 200 - 200*exp(-t/2))\nEq(x(t), 200 - 200*exp(-t/2))\nEq(x(t), 200 - 200*exp(-t/2))\nEq(x(t), 200 - 200*exp(-t/2))\nEq(x(t), 200 - 200*exp(-t/2))\nEq(x(t), 200 - 200*exp(-t/2))\nEq(x(t), 200 - 200*exp(-t/2))\nEq(x(t), 200 - 200*exp(-t/2))\nEq(x(t), 200 - 200*exp(-t/2))\nEq(x(t), 200 - 200*exp(-t/2))\nEq(x(t), 200 - 200*exp(-t/2))\nEq(x(t), 200 - 200*exp(-t/2))\nEq(x(t), 200 - 200*exp(-t/2))\nEq(x(t), 200 - 200*exp(-t/2))\nEq(x(t), 200 - 200*exp(-t/2))\nEq(x(t), 200 - 200*exp(-t/2))\nEq(x(t), 200 - 200*exp(-t/2))\nEq(x(t), 200 - 200*exp(-t/2))\nEq(x(t), 200 - 200*exp(-t/2))\nEq(x(t), 200 - 200*exp(-t/2))\nEq(x(t), 200 - 200*exp(-t/2))\nEq(x(t), 200 - 200*exp(-t/2))\nEq(x(t), 200 - 200*exp(-t/2))\nEq(x(t), 200 - 200*exp(-t/2))\nEq(x(t), 200 - 200*exp(-t/2))\nEq(x(t), 200 - 200*exp(-t/2))\nEq(x(t), 200 - 200*exp(-t/2))\nEq(x(t), 200 - 200*exp(-t/2))\nEq(x(t), 200 - 200*exp(-t/2))\nEq(x(t), 200 - 200*exp(-t/2))\nEq(x(t), 200 - 200*exp(-t/2))\nEq(x(t), 200 - 200*exp(-t/2))\nEq(x(t), 200 - 200*exp(-t/2))\nEq(x(t), 200 - 200*exp(-t/2))\nEq(x(t), 200 - 200*exp(-t/2))\nEq(x(t), 200 - 200*exp(-t/2))\nEq(x(t), 200 - 200*exp(-t/2))\nEq(x(t), 200 - 200*exp(-t/2))\nEq(x(t), 200 - 200*exp(-t/2))\nEq(x(t), 200 - 200*exp(-t/2))\nEq(x(t), 200 - 200*exp(-t/2))\nEq(x(t), 200 - 200*exp(-t/2))\nEq(x(t), 200 - 200*exp(-t/2))\nEq(x(t), 200 - 200*exp(-t/2))\nEq(x(t), 200 - 200*exp(-t/2))\nEq(x(t), 200 - 200*exp(-t/2))\nEq(x(t), 200 - 200*exp(-t/2))\nEq(x(t), 200 - 200*exp(-t/2))\nEq(x(t), 200 - 200*exp(-t/2))\nEq(x(t), 200 - 200*exp(-t/2))\nEq(x(t), 200 - 200*exp(-t/2))\nEq(x(t), 200 - 200*exp(-t/2))\nEq(x(t), 200 - 200*exp(-t/2))\nEq(x(t), 200 - 200*exp(-t/2))\nEq(x(t), 200 - 200*exp(-t/2))\nEq(x(t), 200 - 200*exp(-t/2))\nEq(x(t), 200 - 200*exp(-t/2))\nEq(x(t), 200 - 200*exp(-t/2))\nEq(x(t), 200 - 200*exp(-t/2))\nEq(x(t), 200 - 200*exp(-t/2))\nEq(x(t), 200 - 200*exp(-t/2))\nEq(x(t), 200 - 200*exp(-t/2))\nEq(x(t), 200 - 200*exp(-t/2))\nEq(x(t), 200 - 200*exp(-t/2))\nEq(x(t), 200 - 200*exp(-t/2))\nEq(x(t), 200 - 200*exp(-t/2))\nEq(x(t), 200 - 200*exp(-t/2))\nEq(x(t), 200 - 200*exp(-t/2))\nEq(x(t), 200 - 200*exp(-t/2))\nEq(x(t), 200 - 200*exp(-t/2))\nEq(x(t), 200 - 200*exp(-t/2))\nEq(x(t), 200 - 200*exp(-t/2))\nEq(x(t), 200 - 200*exp(-t/2))\nEq(x(t), 200 - 200*exp(-t/2))\nEq(x(t), 200 - 200*exp(-t/2))\nEq(x(t), 200 - 200*exp(-t/2))\nEq(x(t), 200 - 200*exp(-t/2))\nEq(x(t), 200 - 200*exp(-t/2))\nEq(x(t), 200 - 200*exp(-t/2))\nEq(x(t), 200 - 200*exp(-t/2))\nEq(x(t), 200 - 200*exp(-t/2))\nEq(x(t), 200 - 200*exp(-t/2))\nEq(x(t), 200 - 200*exp(-t/2))\nEq(x(t), 200 - 200*exp(-t/2))\nEq(x(t), 200 - 200*exp(-t/2))\nEq(x(t), 200 - 200*exp(-t/2))\nEq(x(t), 200 - 200*exp(-t/2))\nEq(x(t), 200 - 200*exp(-t/2))\nEq(x(t), 200 - 200*exp(-t/2))\nEq(x(t), 200 - 200*exp(-t/2))\nEq(x(t), 200 - 200*exp(-t/2))\nEq(x(t), 200 - 200*exp(-t/2))\nEq(x(t), 200 - 200*exp(-t/2))\nEq(x(t), 200 - 200*exp(-t/2))\nEq(x(t), 200 - 200*exp(-t/2))\nEq(x(t), 200 - 200*exp(-t/2))\nEq(x(t), 200 - 200*exp(-t/2))\nEq(x(t), 200 - 200*exp(-t/2))\nEq(x(t), 200 - 200*exp(-t/2))\nEq(x(t), 200 - 200*exp(-t/2))\nEq(x(t), 200 - 200*exp(-t/2))\nEq(x(t), 200 - 200*exp(-t/2))\nEq(x(t), 200 - 200*exp(-t/2))\nEq(x(t), 200 - 200*exp(-t/2))\nEq(x(t), 200 - 200*exp(-t/2))\nEq(x(t), 200 - 200*exp(-t/2))\nEq(x(t), 200 - 200*exp(-t/2))\nEq(x(t), 200 - 200*exp(-t/2))\nEq(x(t), 200 - 200*exp(-t/2))\nEq(x(t), 200 - 200*exp(-t/2))\nEq(x(t), 200 - 200*exp(-t/2))\nEq(x(t), 200 - 200*exp(-t/2))\nEq(x(t), 200 - 200*exp(-t/2))\nEq(x(t), 200 - 200*exp(-t/2))\nEq(x(t), 200 - 200*exp(-t/2))\nEq(x(t), 200 - 200*exp(-t/2))\nEq(x(t), 200 - 200*exp(-t/2))\nEq(x(t), 200 - 200*exp(-t/2))\nEq(x(t), 200 - 200*exp(-t/2))\nEq(x(t), 200 - 200*exp(-t/2))\nEq(x(t), 200 - 200*exp(-t/2))\nEq(x(t), 200 - 200*exp(-t/2))\nEq(x(t), 200 - 200*exp(-t/2))\nEq(x(t), 200 - 200*exp(-t/2))\nEq(x(t), 200 - 200*exp(-t/2))\nEq(x(t), 200 - 200*exp(-t/2))\nEq(x(t), 200 - 200*exp(-t/2))\nEq(x(t), 200 - 200*exp(-t/2))\nEq(x(t), 200 - 200*exp(-t/2))\nEq(x(t), 200 - 200*exp(-t/2))\n"
        }
       ]
      }
     },
     "231b9162401a4c3f9bb2c73511278109": {
      "model_module": "@jupyter-widgets/controls",
      "model_module_version": "1.0.0",
      "model_name": "SliderStyleModel",
      "state": {
       "description_width": ""
      }
     },
     "235025c1c6404a18b10a1d940c9acf4c": {
      "model_module": "@jupyter-widgets/controls",
      "model_module_version": "1.0.0",
      "model_name": "SliderStyleModel",
      "state": {
       "description_width": ""
      }
     },
     "23687c2859224c428b80ca9592c1c5c9": {
      "model_module": "@jupyter-widgets/base",
      "model_module_version": "1.0.0",
      "model_name": "LayoutModel",
      "state": {}
     },
     "23adebb027954dff851e2af83e90eef7": {
      "model_module": "@jupyter-widgets/base",
      "model_module_version": "1.0.0",
      "model_name": "LayoutModel",
      "state": {}
     },
     "23d9747f30bb42c99b0bd516dc1efa23": {
      "model_module": "@jupyter-widgets/controls",
      "model_module_version": "1.0.0",
      "model_name": "FloatSliderModel",
      "state": {
       "description": "v0",
       "layout": "IPY_MODEL_8721d5a319ac409b93ec4f02ca6e8290",
       "max": 10,
       "min": -10,
       "step": 0.25,
       "style": "IPY_MODEL_ca70ab6d1cbb4ff8a06e36840046ebe5"
      }
     },
     "247ea8fbff9b4f56bd94d55b70f51239": {
      "model_module": "@jupyter-widgets/controls",
      "model_module_version": "1.0.0",
      "model_name": "FloatSliderModel",
      "state": {
       "description": "ω",
       "layout": "IPY_MODEL_52791a9fc2b848cfb5ef9877c5ba473f",
       "max": 10,
       "min": -10,
       "step": 0.25,
       "style": "IPY_MODEL_b89215fb4e8a4353bed41025f0a72e35",
       "value": 1
      }
     },
     "256b5a62515048e7957e4f73fe1963e6": {
      "model_module": "@jupyter-widgets/controls",
      "model_module_version": "1.0.0",
      "model_name": "SliderStyleModel",
      "state": {
       "description_width": ""
      }
     },
     "27976dfd299943aca598f7d35115bf0e": {
      "model_module": "@jupyter-widgets/base",
      "model_module_version": "1.0.0",
      "model_name": "LayoutModel",
      "state": {}
     },
     "27ca3ece8a484b7b8dcc99a3377959bb": {
      "model_module": "@jupyter-widgets/output",
      "model_module_version": "1.0.0",
      "model_name": "OutputModel",
      "state": {
       "layout": "IPY_MODEL_a8ee4f7a2bb24786aed02e149421b0fe",
       "outputs": [
        {
         "data": {
          "image/png": "iVBORw0KGgoAAAANSUhEUgAAAYsAAAEECAYAAADZBhiGAAAABHNCSVQICAgIfAhkiAAAAAlwSFlz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\npbAQEZFBKSxERGRQCgsRERnU/wfVz/GBSdEpxwAAAABJRU5ErkJggg==\n",
          "text/plain": "<matplotlib.figure.Figure at 0x7f5db86742e8>"
         },
         "metadata": {},
         "output_type": "display_data"
        }
       ]
      }
     },
     "27d1170656c84cba9128c30edde983e7": {
      "model_module": "@jupyter-widgets/base",
      "model_module_version": "1.0.0",
      "model_name": "LayoutModel",
      "state": {}
     },
     "286630c383f648cea26fcaf65a82b102": {
      "model_module": "@jupyter-widgets/controls",
      "model_module_version": "1.0.0",
      "model_name": "VBoxModel",
      "state": {
       "_dom_classes": [
        "widget-interact"
       ],
       "children": [
        "IPY_MODEL_1a13f378129847a9ba4f59d6cd9b2861",
        "IPY_MODEL_5f5e06dfce824238b7ed04196f7dff89"
       ],
       "layout": "IPY_MODEL_f55f138529614a9b9f1fc797c0fc35a5"
      }
     },
     "2993ea741f5b404da2308c090c24f8bc": {
      "model_module": "@jupyter-widgets/controls",
      "model_module_version": "1.0.0",
      "model_name": "FloatSliderModel",
      "state": {
       "description": "v0",
       "layout": "IPY_MODEL_660673f188364808a0eaeb302e0dac91",
       "max": 10,
       "min": -10,
       "step": 0.25,
       "style": "IPY_MODEL_db5c6fe9ec8b4a0683e2a50d0bcb995c"
      }
     },
     "2afa12f8638042baaa21b568d3135cde": {
      "model_module": "@jupyter-widgets/controls",
      "model_module_version": "1.0.0",
      "model_name": "FloatSliderModel",
      "state": {
       "description": "τ",
       "layout": "IPY_MODEL_09540058f01a4e99909d924a359c5381",
       "max": 2,
       "min": 0.2,
       "step": 0.2,
       "style": "IPY_MODEL_1e06534413564188a764e32137c8c7f9",
       "value": 0.2
      }
     },
     "2ce64c2d21c3401fb3370e0ecbb16d37": {
      "model_module": "@jupyter-widgets/base",
      "model_module_version": "1.0.0",
      "model_name": "LayoutModel",
      "state": {}
     },
     "2da448aee30b43d49e96e8dd5452add7": {
      "model_module": "@jupyter-widgets/controls",
      "model_module_version": "1.0.0",
      "model_name": "VBoxModel",
      "state": {
       "_dom_classes": [
        "widget-interact"
       ],
       "children": [
        "IPY_MODEL_56a3bda74af648c6b381ac5ebf662a80",
        "IPY_MODEL_462cb367c1904b54a5cd3b4cd613d643",
        "IPY_MODEL_5e91c66d2bcc4d21996eb53a19d5ae45"
       ],
       "layout": "IPY_MODEL_f61e15b577db48479cdc9d8320b44942"
      }
     },
     "2dc8ac044c0e4c29adf34bd747920fb1": {
      "model_module": "@jupyter-widgets/base",
      "model_module_version": "1.0.0",
      "model_name": "LayoutModel",
      "state": {}
     },
     "2ea7550686ee4e04a51c51ffefb0ccc6": {
      "model_module": "@jupyter-widgets/base",
      "model_module_version": "1.0.0",
      "model_name": "LayoutModel",
      "state": {}
     },
     "2edbd44397ba4b108080049b113a7c15": {
      "model_module": "@jupyter-widgets/base",
      "model_module_version": "1.0.0",
      "model_name": "LayoutModel",
      "state": {}
     },
     "2f028770b02d49a5938a4652ae468436": {
      "model_module": "@jupyter-widgets/controls",
      "model_module_version": "1.0.0",
      "model_name": "FloatSliderModel",
      "state": {
       "description": "v0",
       "layout": "IPY_MODEL_af631b997ea14ad3a47adee3a241aa19",
       "max": 10,
       "min": -10,
       "step": 0.25,
       "style": "IPY_MODEL_677173934a194ea898e35852857913a9",
       "value": 1
      }
     },
     "2fcb3b85f67d46948abb1e453c99b1f9": {
      "model_module": "@jupyter-widgets/controls",
      "model_module_version": "1.0.0",
      "model_name": "SliderStyleModel",
      "state": {
       "description_width": ""
      }
     },
     "3056145322f242f9b0360889c38d3016": {
      "model_module": "@jupyter-widgets/controls",
      "model_module_version": "1.0.0",
      "model_name": "SliderStyleModel",
      "state": {
       "description_width": ""
      }
     },
     "30fca47a16fa4c8bbaef29fd72b79638": {
      "model_module": "@jupyter-widgets/base",
      "model_module_version": "1.0.0",
      "model_name": "LayoutModel",
      "state": {}
     },
     "31224a8fce9f43499008d0da1c37180c": {
      "model_module": "@jupyter-widgets/base",
      "model_module_version": "1.0.0",
      "model_name": "LayoutModel",
      "state": {}
     },
     "315f491a46034687bc9c6dc7760e215a": {
      "model_module": "@jupyter-widgets/controls",
      "model_module_version": "1.0.0",
      "model_name": "SliderStyleModel",
      "state": {
       "description_width": ""
      }
     },
     "324c16796dd54cc68e3a5881660b216a": {
      "model_module": "@jupyter-widgets/output",
      "model_module_version": "1.0.0",
      "model_name": "OutputModel",
      "state": {
       "layout": "IPY_MODEL_4e2a0139b82945bab1f1830f0a3e58e3"
      }
     },
     "3295f101158c4822b7cb9a2c592000e1": {
      "model_module": "@jupyter-widgets/controls",
      "model_module_version": "1.0.0",
      "model_name": "SliderStyleModel",
      "state": {
       "description_width": ""
      }
     },
     "32e08c712fa14d45a1f49ffa52836d50": {
      "model_module": "@jupyter-widgets/base",
      "model_module_version": "1.0.0",
      "model_name": "LayoutModel",
      "state": {}
     },
     "32f16352a29942dd8c1d0ac081a8fde7": {
      "model_module": "@jupyter-widgets/output",
      "model_module_version": "1.0.0",
      "model_name": "OutputModel",
      "state": {
       "layout": "IPY_MODEL_4d2f954b1f1f4ab49f0c3ef054b56ad2",
       "outputs": [
        {
         "name": "stdout",
         "output_type": "stream",
         "text": "Eq(x(t), 200 - 200*exp(-t/2))\nEq(x(t), 200 - 200*exp(-t/2))\nEq(x(t), 200 - 200*exp(-t/2))\nEq(x(t), 200 - 200*exp(-t/2))\nEq(x(t), 200 - 200*exp(-t/2))\nEq(x(t), 200 - 200*exp(-t/2))\nEq(x(t), 200 - 200*exp(-t/2))\nEq(x(t), 200 - 200*exp(-t/2))\nEq(x(t), 200 - 200*exp(-t/2))\nEq(x(t), 200 - 200*exp(-t/2))\nEq(x(t), 200 - 200*exp(-t/2))\nEq(x(t), 200 - 200*exp(-t/2))\nEq(x(t), 200 - 200*exp(-t/2))\nEq(x(t), 200 - 200*exp(-t/2))\nEq(x(t), 200 - 200*exp(-t/2))\nEq(x(t), 200 - 200*exp(-t/2))\nEq(x(t), 200 - 200*exp(-t/2))\nEq(x(t), 200 - 200*exp(-t/2))\nEq(x(t), 200 - 200*exp(-t/2))\nEq(x(t), 200 - 200*exp(-t/2))\nEq(x(t), 200 - 200*exp(-t/2))\nEq(x(t), 200 - 200*exp(-t/2))\nEq(x(t), 200 - 200*exp(-t/2))\nEq(x(t), 200 - 200*exp(-t/2))\nEq(x(t), 200 - 200*exp(-t/2))\nEq(x(t), 200 - 200*exp(-t/2))\nEq(x(t), 200 - 200*exp(-t/2))\nEq(x(t), 200 - 200*exp(-t/2))\nEq(x(t), 200 - 200*exp(-t/2))\nEq(x(t), 200 - 200*exp(-t/2))\nEq(x(t), 200 - 200*exp(-t/2))\nEq(x(t), 200 - 200*exp(-t/2))\nEq(x(t), 200 - 200*exp(-t/2))\nEq(x(t), 200 - 200*exp(-t/2))\nEq(x(t), 200 - 200*exp(-t/2))\nEq(x(t), 200 - 200*exp(-t/2))\nEq(x(t), 200 - 200*exp(-t/2))\nEq(x(t), 200 - 200*exp(-t/2))\nEq(x(t), 200 - 200*exp(-t/2))\nEq(x(t), 200 - 200*exp(-t/2))\nEq(x(t), 200 - 200*exp(-t/2))\nEq(x(t), 200 - 200*exp(-t/2))\nEq(x(t), 200 - 200*exp(-t/2))\nEq(x(t), 200 - 200*exp(-t/2))\nEq(x(t), 200 - 200*exp(-t/2))\nEq(x(t), 200 - 200*exp(-t/2))\nEq(x(t), 200 - 200*exp(-t/2))\nEq(x(t), 200 - 200*exp(-t/2))\nEq(x(t), 200 - 200*exp(-t/2))\nEq(x(t), 200 - 200*exp(-t/2))\nEq(x(t), 200 - 200*exp(-t/2))\nEq(x(t), 200 - 200*exp(-t/2))\nEq(x(t), 200 - 200*exp(-t/2))\nEq(x(t), 200 - 200*exp(-t/2))\nEq(x(t), 200 - 200*exp(-t/2))\nEq(x(t), 200 - 200*exp(-t/2))\nEq(x(t), 200 - 200*exp(-t/2))\nEq(x(t), 200 - 200*exp(-t/2))\nEq(x(t), 200 - 200*exp(-t/2))\nEq(x(t), 200 - 200*exp(-t/2))\nEq(x(t), 200 - 200*exp(-t/2))\nEq(x(t), 200 - 200*exp(-t/2))\nEq(x(t), 200 - 200*exp(-t/2))\nEq(x(t), 200 - 200*exp(-t/2))\nEq(x(t), 200 - 200*exp(-t/2))\nEq(x(t), 200 - 200*exp(-t/2))\nEq(x(t), 200 - 200*exp(-t/2))\nEq(x(t), 200 - 200*exp(-t/2))\nEq(x(t), 200 - 200*exp(-t/2))\nEq(x(t), 200 - 200*exp(-t/2))\nEq(x(t), 200 - 200*exp(-t/2))\nEq(x(t), 200 - 200*exp(-t/2))\nEq(x(t), 200 - 200*exp(-t/2))\nEq(x(t), 200 - 200*exp(-t/2))\nEq(x(t), 200 - 200*exp(-t/2))\nEq(x(t), 200 - 200*exp(-t/2))\nEq(x(t), 200 - 200*exp(-t/2))\nEq(x(t), 200 - 200*exp(-t/2))\nEq(x(t), 200 - 200*exp(-t/2))\nEq(x(t), 200 - 200*exp(-t/2))\nEq(x(t), 200 - 200*exp(-t/2))\nEq(x(t), 200 - 200*exp(-t/2))\nEq(x(t), 200 - 200*exp(-t/2))\nEq(x(t), 200 - 200*exp(-t/2))\nEq(x(t), 200 - 200*exp(-t/2))\nEq(x(t), 200 - 200*exp(-t/2))\nEq(x(t), 200 - 200*exp(-t/2))\nEq(x(t), 200 - 200*exp(-t/2))\nEq(x(t), 200 - 200*exp(-t/2))\nEq(x(t), 200 - 200*exp(-t/2))\nEq(x(t), 200 - 200*exp(-t/2))\nEq(x(t), 200 - 200*exp(-t/2))\nEq(x(t), 200 - 200*exp(-t/2))\nEq(x(t), 200 - 200*exp(-t/2))\nEq(x(t), 200 - 200*exp(-t/2))\nEq(x(t), 200 - 200*exp(-t/2))\nEq(x(t), 200 - 200*exp(-t/2))\nEq(x(t), 200 - 200*exp(-t/2))\nEq(x(t), 200 - 200*exp(-t/2))\nEq(x(t), 200 - 200*exp(-t/2))\nEq(x(t), 200 - 200*exp(-t/2))\nEq(x(t), 200 - 200*exp(-t/2))\nEq(x(t), 200 - 200*exp(-t/2))\nEq(x(t), 200 - 200*exp(-t/2))\nEq(x(t), 200 - 200*exp(-t/2))\nEq(x(t), 200 - 200*exp(-t/2))\nEq(x(t), 200 - 200*exp(-t/2))\nEq(x(t), 200 - 200*exp(-t/2))\nEq(x(t), 200 - 200*exp(-t/2))\nEq(x(t), 200 - 200*exp(-t/2))\nEq(x(t), 200 - 200*exp(-t/2))\nEq(x(t), 200 - 200*exp(-t/2))\nEq(x(t), 200 - 200*exp(-t/2))\nEq(x(t), 200 - 200*exp(-t/2))\nEq(x(t), 200 - 200*exp(-t/2))\nEq(x(t), 200 - 200*exp(-t/2))\nEq(x(t), 200 - 200*exp(-t/2))\nEq(x(t), 200 - 200*exp(-t/2))\nEq(x(t), 200 - 200*exp(-t/2))\nEq(x(t), 200 - 200*exp(-t/2))\nEq(x(t), 200 - 200*exp(-t/2))\nEq(x(t), 200 - 200*exp(-t/2))\nEq(x(t), 200 - 200*exp(-t/2))\nEq(x(t), 200 - 200*exp(-t/2))\nEq(x(t), 200 - 200*exp(-t/2))\nEq(x(t), 200 - 200*exp(-t/2))\nEq(x(t), 200 - 200*exp(-t/2))\nEq(x(t), 200 - 200*exp(-t/2))\nEq(x(t), 200 - 200*exp(-t/2))\nEq(x(t), 200 - 200*exp(-t/2))\nEq(x(t), 200 - 200*exp(-t/2))\nEq(x(t), 200 - 200*exp(-t/2))\nEq(x(t), 200 - 200*exp(-t/2))\nEq(x(t), 200 - 200*exp(-t/2))\nEq(x(t), 200 - 200*exp(-t/2))\nEq(x(t), 200 - 200*exp(-t/2))\nEq(x(t), 200 - 200*exp(-t/2))\nEq(x(t), 200 - 200*exp(-t/2))\nEq(x(t), 200 - 200*exp(-t/2))\nEq(x(t), 200 - 200*exp(-t/2))\nEq(x(t), 200 - 200*exp(-t/2))\nEq(x(t), 200 - 200*exp(-t/2))\nEq(x(t), 200 - 200*exp(-t/2))\nEq(x(t), 200 - 200*exp(-t/2))\nEq(x(t), 200 - 200*exp(-t/2))\nEq(x(t), 200 - 200*exp(-t/2))\nEq(x(t), 200 - 200*exp(-t/2))\nEq(x(t), 200 - 200*exp(-t/2))\nEq(x(t), 200 - 200*exp(-t/2))\nEq(x(t), 200 - 200*exp(-t/2))\nEq(x(t), 200 - 200*exp(-t/2))\nEq(x(t), 200 - 200*exp(-t/2))\nEq(x(t), 200 - 200*exp(-t/2))\nEq(x(t), 200 - 200*exp(-t/2))\nEq(x(t), 200 - 200*exp(-t/2))\nEq(x(t), 200 - 200*exp(-t/2))\nEq(x(t), 200 - 200*exp(-t/2))\nEq(x(t), 200 - 200*exp(-t/2))\nEq(x(t), 200 - 200*exp(-t/2))\nEq(x(t), 200 - 200*exp(-t/2))\nEq(x(t), 200 - 200*exp(-t/2))\nEq(x(t), 200 - 200*exp(-t/2))\nEq(x(t), 200 - 200*exp(-t/2))\nEq(x(t), 200 - 200*exp(-t/2))\nEq(x(t), 200 - 200*exp(-t/2))\nEq(x(t), 200 - 200*exp(-t/2))\nEq(x(t), 200 - 200*exp(-t/2))\nEq(x(t), 200 - 200*exp(-t/2))\nEq(x(t), 200 - 200*exp(-t/2))\nEq(x(t), 200 - 200*exp(-t/2))\nEq(x(t), 200 - 200*exp(-t/2))\nEq(x(t), 200 - 200*exp(-t/2))\nEq(x(t), 200 - 200*exp(-t/2))\nEq(x(t), 200 - 200*exp(-t/2))\nEq(x(t), 200 - 200*exp(-t/2))\nEq(x(t), 200 - 200*exp(-t/2))\nEq(x(t), 200 - 200*exp(-t/2))\nEq(x(t), 200 - 200*exp(-t/2))\nEq(x(t), 200 - 200*exp(-t/2))\nEq(x(t), 200 - 200*exp(-t/2))\nEq(x(t), 200 - 200*exp(-t/2))\nEq(x(t), 200 - 200*exp(-t/2))\nEq(x(t), 200 - 200*exp(-t/2))\nEq(x(t), 200 - 200*exp(-t/2))\nEq(x(t), 200 - 200*exp(-t/2))\nEq(x(t), 200 - 200*exp(-t/2))\nEq(x(t), 200 - 200*exp(-t/2))\nEq(x(t), 200 - 200*exp(-t/2))\nEq(x(t), 200 - 200*exp(-t/2))\nEq(x(t), 200 - 200*exp(-t/2))\nEq(x(t), 200 - 200*exp(-t/2))\nEq(x(t), 200 - 200*exp(-t/2))\nEq(x(t), 200 - 200*exp(-t/2))\nEq(x(t), 200 - 200*exp(-t/2))\nEq(x(t), 200 - 200*exp(-t/2))\nEq(x(t), 200 - 200*exp(-t/2))\nEq(x(t), 200 - 200*exp(-t/2))\nEq(x(t), 200 - 200*exp(-t/2))\nEq(x(t), 200 - 200*exp(-t/2))\nEq(x(t), 200 - 200*exp(-t/2))\nEq(x(t), 200 - 200*exp(-t/2))\nEq(x(t), 200 - 200*exp(-t/2))\nEq(x(t), 200 - 200*exp(-t/2))\nEq(x(t), 200 - 200*exp(-t/2))\nEq(x(t), 200 - 200*exp(-t/2))\nEq(x(t), 200 - 200*exp(-t/2))\nEq(x(t), 200 - 200*exp(-t/2))\nEq(x(t), 200 - 200*exp(-t/2))\nEq(x(t), 200 - 200*exp(-t/2))\nEq(x(t), 200 - 200*exp(-t/2))\nEq(x(t), 200 - 200*exp(-t/2))\nEq(x(t), 200 - 200*exp(-t/2))\nEq(x(t), 200 - 200*exp(-t/2))\nEq(x(t), 200 - 200*exp(-t/2))\nEq(x(t), 200 - 200*exp(-t/2))\nEq(x(t), 200 - 200*exp(-t/2))\nEq(x(t), 200 - 200*exp(-t/2))\nEq(x(t), 200 - 200*exp(-t/2))\nEq(x(t), 200 - 200*exp(-t/2))\nEq(x(t), 200 - 200*exp(-t/2))\nEq(x(t), 200 - 200*exp(-t/2))\nEq(x(t), 200 - 200*exp(-t/2))\nEq(x(t), 200 - 200*exp(-t/2))\nEq(x(t), 200 - 200*exp(-t/2))\nEq(x(t), 200 - 200*exp(-t/2))\nEq(x(t), 200 - 200*exp(-t/2))\nEq(x(t), 200 - 200*exp(-t/2))\nEq(x(t), 200 - 200*exp(-t/2))\nEq(x(t), 200 - 200*exp(-t/2))\nEq(x(t), 200 - 200*exp(-t/2))\nEq(x(t), 200 - 200*exp(-t/2))\nEq(x(t), 200 - 200*exp(-t/2))\nEq(x(t), 200 - 200*exp(-t/2))\nEq(x(t), 200 - 200*exp(-t/2))\nEq(x(t), 200 - 200*exp(-t/2))\nEq(x(t), 200 - 200*exp(-t/2))\nEq(x(t), 200 - 200*exp(-t/2))\nEq(x(t), 200 - 200*exp(-t/2))\nEq(x(t), 200 - 200*exp(-t/2))\nEq(x(t), 200 - 200*exp(-t/2))\nEq(x(t), 200 - 200*exp(-t/2))\nEq(x(t), 200 - 200*exp(-t/2))\nEq(x(t), 200 - 200*exp(-t/2))\nEq(x(t), 200 - 200*exp(-t/2))\nEq(x(t), 200 - 200*exp(-t/2))\nEq(x(t), 200 - 200*exp(-t/2))\nEq(x(t), 200 - 200*exp(-t/2))\nEq(x(t), 200 - 200*exp(-t/2))\nEq(x(t), 200 - 200*exp(-t/2))\nEq(x(t), 200 - 200*exp(-t/2))\nEq(x(t), 200 - 200*exp(-t/2))\nEq(x(t), 200 - 200*exp(-t/2))\nEq(x(t), 200 - 200*exp(-t/2))\nEq(x(t), 200 - 200*exp(-t/2))\nEq(x(t), 200 - 200*exp(-t/2))\nEq(x(t), 200 - 200*exp(-t/2))\nEq(x(t), 200 - 200*exp(-t/2))\nEq(x(t), 200 - 200*exp(-t/2))\nEq(x(t), 200 - 200*exp(-t/2))\nEq(x(t), 200 - 200*exp(-t/2))\nEq(x(t), 200 - 200*exp(-t/2))\nEq(x(t), 200 - 200*exp(-t/2))\nEq(x(t), 200 - 200*exp(-t/2))\nEq(x(t), 200 - 200*exp(-t/2))\nEq(x(t), 200 - 200*exp(-t/2))\nEq(x(t), 200 - 200*exp(-t/2))\nEq(x(t), 200 - 200*exp(-t/2))\nEq(x(t), 200 - 200*exp(-t/2))\nEq(x(t), 200 - 200*exp(-t/2))\nEq(x(t), 200 - 200*exp(-t/2))\nEq(x(t), 200 - 200*exp(-t/2))\nEq(x(t), 200 - 200*exp(-t/2))\nEq(x(t), 200 - 200*exp(-t/2))\nEq(x(t), 200 - 200*exp(-t/2))\nEq(x(t), 200 - 200*exp(-t/2))\nEq(x(t), 200 - 200*exp(-t/2))\nEq(x(t), 200 - 200*exp(-t/2))\nEq(x(t), 200 - 200*exp(-t/2))\nEq(x(t), 200 - 200*exp(-t/2))\nEq(x(t), 200 - 200*exp(-t/2))\nEq(x(t), 200 - 200*exp(-t/2))\nEq(x(t), 200 - 200*exp(-t/2))\nEq(x(t), 200 - 200*exp(-t/2))\nEq(x(t), 200 - 200*exp(-t/2))\nEq(x(t), 200 - 200*exp(-t/2))\nEq(x(t), 200 - 200*exp(-t/2))\nEq(x(t), 200 - 200*exp(-t/2))\nEq(x(t), 200 - 200*exp(-t/2))\nEq(x(t), 200 - 200*exp(-t/2))\nEq(x(t), 200 - 200*exp(-t/2))\nEq(x(t), 200 - 200*exp(-t/2))\nEq(x(t), 200 - 200*exp(-t/2))\nEq(x(t), 200 - 200*exp(-t/2))\nEq(x(t), 200 - 200*exp(-t/2))\nEq(x(t), 200 - 200*exp(-t/2))\nEq(x(t), 200 - 200*exp(-t/2))\nEq(x(t), 200 - 200*exp(-t/2))\nEq(x(t), 200 - 200*exp(-t/2))\nEq(x(t), 200 - 200*exp(-t/2))\nEq(x(t), 200 - 200*exp(-t/2))\nEq(x(t), 200 - 200*exp(-t/2))\nEq(x(t), 200 - 200*exp(-t/2))\nEq(x(t), 200 - 200*exp(-t/2))\nEq(x(t), 200 - 200*exp(-t/2))\nEq(x(t), 200 - 200*exp(-t/2))\nEq(x(t), 200 - 200*exp(-t/2))\nEq(x(t), 200 - 200*exp(-t/2))\nEq(x(t), 200 - 200*exp(-t/2))\nEq(x(t), 200 - 200*exp(-t/2))\nEq(x(t), 200 - 200*exp(-t/2))\nEq(x(t), 200 - 200*exp(-t/2))\nEq(x(t), 200 - 200*exp(-t/2))\nEq(x(t), 200 - 200*exp(-t/2))\nEq(x(t), 200 - 200*exp(-t/2))\nEq(x(t), 200 - 200*exp(-t/2))\nEq(x(t), 200 - 200*exp(-t/2))\nEq(x(t), 200 - 200*exp(-t/2))\nEq(x(t), 200 - 200*exp(-t/2))\nEq(x(t), 200 - 200*exp(-t/2))\nEq(x(t), 200 - 200*exp(-t/2))\nEq(x(t), 200 - 200*exp(-t/2))\nEq(x(t), 200 - 200*exp(-t/2))\nEq(x(t), 200 - 200*exp(-t/2))\nEq(x(t), 200 - 200*exp(-t/2))\nEq(x(t), 200 - 200*exp(-t/2))\nEq(x(t), 200 - 200*exp(-t/2))\nEq(x(t), 200 - 200*exp(-t/2))\nEq(x(t), 200 - 200*exp(-t/2))\nEq(x(t), 200 - 200*exp(-t/2))\nEq(x(t), 200 - 200*exp(-t/2))\nEq(x(t), 200 - 200*exp(-t/2))\nEq(x(t), 200 - 200*exp(-t/2))\nEq(x(t), 200 - 200*exp(-t/2))\nEq(x(t), 200 - 200*exp(-t/2))\nEq(x(t), 200 - 200*exp(-t/2))\nEq(x(t), 200 - 200*exp(-t/2))\nEq(x(t), 200 - 200*exp(-t/2))\nEq(x(t), 200 - 200*exp(-t/2))\nEq(x(t), 200 - 200*exp(-t/2))\nEq(x(t), 200 - 200*exp(-t/2))\nEq(x(t), 200 - 200*exp(-t/2))\nEq(x(t), 200 - 200*exp(-t/2))\nEq(x(t), 200 - 200*exp(-t/2))\nEq(x(t), 200 - 200*exp(-t/2))\nEq(x(t), 200 - 200*exp(-t/2))\nEq(x(t), 200 - 200*exp(-t/2))\nEq(x(t), 200 - 200*exp(-t/2))\nEq(x(t), 200 - 200*exp(-t/2))\nEq(x(t), 200 - 200*exp(-t/2))\nEq(x(t), 200 - 200*exp(-t/2))\nEq(x(t), 200 - 200*exp(-t/2))\nEq(x(t), 200 - 200*exp(-t/2))\nEq(x(t), 200 - 200*exp(-t/2))\nEq(x(t), 200 - 200*exp(-t/2))\nEq(x(t), 200 - 200*exp(-t/2))\nEq(x(t), 200 - 200*exp(-t/2))\nEq(x(t), 200 - 200*exp(-t/2))\nEq(x(t), 200 - 200*exp(-t/2))\nEq(x(t), 200 - 200*exp(-t/2))\nEq(x(t), 200 - 200*exp(-t/2))\nEq(x(t), 200 - 200*exp(-t/2))\nEq(x(t), 200 - 200*exp(-t/2))\nEq(x(t), 200 - 200*exp(-t/2))\nEq(x(t), 200 - 200*exp(-t/2))\nEq(x(t), 200 - 200*exp(-t/2))\nEq(x(t), 200 - 200*exp(-t/2))\nEq(x(t), 200 - 200*exp(-t/2))\nEq(x(t), 200 - 200*exp(-t/2))\nEq(x(t), 200 - 200*exp(-t/2))\nEq(x(t), 200 - 200*exp(-t/2))\nEq(x(t), 200 - 200*exp(-t/2))\nEq(x(t), 200 - 200*exp(-t/2))\nEq(x(t), 200 - 200*exp(-t/2))\nEq(x(t), 200 - 200*exp(-t/2))\nEq(x(t), 200 - 200*exp(-t/2))\nEq(x(t), 200 - 200*exp(-t/2))\nEq(x(t), 200 - 200*exp(-t/2))\nEq(x(t), 200 - 200*exp(-t/2))\nEq(x(t), 200 - 200*exp(-t/2))\nEq(x(t), 200 - 200*exp(-t/2))\nEq(x(t), 200 - 200*exp(-t/2))\nEq(x(t), 200 - 200*exp(-t/2))\nEq(x(t), 200 - 200*exp(-t/2))\nEq(x(t), 200 - 200*exp(-t/2))\nEq(x(t), 200 - 200*exp(-t/2))\nEq(x(t), 200 - 200*exp(-t/2))\nEq(x(t), 200 - 200*exp(-t/2))\nEq(x(t), 200 - 200*exp(-t/2))\nEq(x(t), 200 - 200*exp(-t/2))\nEq(x(t), 200 - 200*exp(-t/2))\nEq(x(t), 200 - 200*exp(-t/2))\nEq(x(t), 200 - 200*exp(-t/2))\nEq(x(t), 200 - 200*exp(-t/2))\nEq(x(t), 200 - 200*exp(-t/2))\nEq(x(t), 200 - 200*exp(-t/2))\nEq(x(t), 200 - 200*exp(-t/2))\nEq(x(t), 200 - 200*exp(-t/2))\nEq(x(t), 200 - 200*exp(-t/2))\nEq(x(t), 200 - 200*exp(-t/2))\nEq(x(t), 200 - 200*exp(-t/2))\nEq(x(t), 200 - 200*exp(-t/2))\nEq(x(t), 200 - 200*exp(-t/2))\nEq(x(t), 200 - 200*exp(-t/2))\nEq(x(t), 200 - 200*exp(-t/2))\nEq(x(t), 200 - 200*exp(-t/2))\nEq(x(t), 200 - 200*exp(-t/2))\nEq(x(t), 200 - 200*exp(-t/2))\nEq(x(t), 200 - 200*exp(-t/2))\nEq(x(t), 200 - 200*exp(-t/2))\nEq(x(t), 200 - 200*exp(-t/2))\nEq(x(t), 200 - 200*exp(-t/2))\nEq(x(t), 200 - 200*exp(-t/2))\nEq(x(t), 200 - 200*exp(-t/2))\nEq(x(t), 200 - 200*exp(-t/2))\nEq(x(t), 200 - 200*exp(-t/2))\nEq(x(t), 200 - 200*exp(-t/2))\nEq(x(t), 200 - 200*exp(-t/2))\nEq(x(t), 200 - 200*exp(-t/2))\nEq(x(t), 200 - 200*exp(-t/2))\nEq(x(t), 200 - 200*exp(-t/2))\nEq(x(t), 200 - 200*exp(-t/2))\nEq(x(t), 200 - 200*exp(-t/2))\nEq(x(t), 200 - 200*exp(-t/2))\nEq(x(t), 200 - 200*exp(-t/2))\nEq(x(t), 200 - 200*exp(-t/2))\nEq(x(t), 200 - 200*exp(-t/2))\nEq(x(t), 200 - 200*exp(-t/2))\nEq(x(t), 200 - 200*exp(-t/2))\nEq(x(t), 200 - 200*exp(-t/2))\nEq(x(t), 200 - 200*exp(-t/2))\nEq(x(t), 200 - 200*exp(-t/2))\nEq(x(t), 200 - 200*exp(-t/2))\nEq(x(t), 200 - 200*exp(-t/2))\nEq(x(t), 200 - 200*exp(-t/2))\nEq(x(t), 200 - 200*exp(-t/2))\nEq(x(t), 200 - 200*exp(-t/2))\nEq(x(t), 200 - 200*exp(-t/2))\nEq(x(t), 200 - 200*exp(-t/2))\nEq(x(t), 200 - 200*exp(-t/2))\nEq(x(t), 200 - 200*exp(-t/2))\nEq(x(t), 200 - 200*exp(-t/2))\nEq(x(t), 200 - 200*exp(-t/2))\nEq(x(t), 200 - 200*exp(-t/2))\nEq(x(t), 200 - 200*exp(-t/2))\nEq(x(t), 200 - 200*exp(-t/2))\nEq(x(t), 200 - 200*exp(-t/2))\nEq(x(t), 200 - 200*exp(-t/2))\nEq(x(t), 200 - 200*exp(-t/2))\nEq(x(t), 200 - 200*exp(-t/2))\nEq(x(t), 200 - 200*exp(-t/2))\nEq(x(t), 200 - 200*exp(-t/2))\nEq(x(t), 200 - 200*exp(-t/2))\nEq(x(t), 200 - 200*exp(-t/2))\nEq(x(t), 200 - 200*exp(-t/2))\nEq(x(t), 200 - 200*exp(-t/2))\nEq(x(t), 200 - 200*exp(-t/2))\nEq(x(t), 200 - 200*exp(-t/2))\nEq(x(t), 200 - 200*exp(-t/2))\nEq(x(t), 200 - 200*exp(-t/2))\nEq(x(t), 200 - 200*exp(-t/2))\nEq(x(t), 200 - 200*exp(-t/2))\nEq(x(t), 200 - 200*exp(-t/2))\nEq(x(t), 200 - 200*exp(-t/2))\nEq(x(t), 200 - 200*exp(-t/2))\nEq(x(t), 200 - 200*exp(-t/2))\nEq(x(t), 200 - 200*exp(-t/2))\nEq(x(t), 200 - 200*exp(-t/2))\nEq(x(t), 200 - 200*exp(-t/2))\nEq(x(t), 200 - 200*exp(-t/2))\nEq(x(t), 200 - 200*exp(-t/2))\nEq(x(t), 200 - 200*exp(-t/2))\nEq(x(t), 200 - 200*exp(-t/2))\nEq(x(t), 200 - 200*exp(-t/2))\nEq(x(t), 200 - 200*exp(-t/2))\nEq(x(t), 200 - 200*exp(-t/2))\nEq(x(t), 200 - 200*exp(-t/2))\nEq(x(t), 200 - 200*exp(-t/2))\nEq(x(t), 200 - 200*exp(-t/2))\nEq(x(t), 200 - 200*exp(-t/2))\nEq(x(t), 200 - 200*exp(-t/2))\nEq(x(t), 200 - 200*exp(-t/2))\nEq(x(t), 200 - 200*exp(-t/2))\nEq(x(t), 200 - 200*exp(-t/2))\nEq(x(t), 200 - 200*exp(-t/2))\nEq(x(t), 200 - 200*exp(-t/2))\nEq(x(t), 200 - 200*exp(-t/2))\nEq(x(t), 200 - 200*exp(-t/2))\nEq(x(t), 200 - 200*exp(-t/2))\nEq(x(t), 200 - 200*exp(-t/2))\nEq(x(t), 200 - 200*exp(-t/2))\nEq(x(t), 200 - 200*exp(-t/2))\nEq(x(t), 200 - 200*exp(-t/2))\nEq(x(t), 200 - 200*exp(-t/2))\nEq(x(t), 200 - 200*exp(-t/2))\nEq(x(t), 200 - 200*exp(-t/2))\nEq(x(t), 200 - 200*exp(-t/2))\nEq(x(t), 200 - 200*exp(-t/2))\nEq(x(t), 200 - 200*exp(-t/2))\nEq(x(t), 200 - 200*exp(-t/2))\nEq(x(t), 200 - 200*exp(-t/2))\nEq(x(t), 200 - 200*exp(-t/2))\nEq(x(t), 200 - 200*exp(-t/2))\nEq(x(t), 200 - 200*exp(-t/2))\nEq(x(t), 200 - 200*exp(-t/2))\nEq(x(t), 200 - 200*exp(-t/2))\nEq(x(t), 200 - 200*exp(-t/2))\nEq(x(t), 200 - 200*exp(-t/2))\nEq(x(t), 200 - 200*exp(-t/2))\nEq(x(t), 200 - 200*exp(-t/2))\nEq(x(t), 200 - 200*exp(-t/2))\nEq(x(t), 200 - 200*exp(-t/2))\nEq(x(t), 200 - 200*exp(-t/2))\nEq(x(t), 200 - 200*exp(-t/2))\nEq(x(t), 200 - 200*exp(-t/2))\nEq(x(t), 200 - 200*exp(-t/2))\nEq(x(t), 200 - 200*exp(-t/2))\nEq(x(t), 200 - 200*exp(-t/2))\nEq(x(t), 200 - 200*exp(-t/2))\nEq(x(t), 200 - 200*exp(-t/2))\nEq(x(t), 200 - 200*exp(-t/2))\nEq(x(t), 200 - 200*exp(-t/2))\nEq(x(t), 200 - 200*exp(-t/2))\nEq(x(t), 200 - 200*exp(-t/2))\nEq(x(t), 200 - 200*exp(-t/2))\nEq(x(t), 200 - 200*exp(-t/2))\nEq(x(t), 200 - 200*exp(-t/2))\nEq(x(t), 200 - 200*exp(-t/2))\nEq(x(t), 200 - 200*exp(-t/2))\nEq(x(t), 200 - 200*exp(-t/2))\nEq(x(t), 200 - 200*exp(-t/2))\nEq(x(t), 200 - 200*exp(-t/2))\nEq(x(t), 200 - 200*exp(-t/2))\nEq(x(t), 200 - 200*exp(-t/2))\nEq(x(t), 200 - 200*exp(-t/2))\nEq(x(t), 200 - 200*exp(-t/2))\nEq(x(t), 200 - 200*exp(-t/2))\nEq(x(t), 200 - 200*exp(-t/2))\nEq(x(t), 200 - 200*exp(-t/2))\nEq(x(t), 200 - 200*exp(-t/2))\nEq(x(t), 200 - 200*exp(-t/2))\nEq(x(t), 200 - 200*exp(-t/2))\nEq(x(t), 200 - 200*exp(-t/2))\nEq(x(t), 200 - 200*exp(-t/2))\nEq(x(t), 200 - 200*exp(-t/2))\nEq(x(t), 200 - 200*exp(-t/2))\nEq(x(t), 200 - 200*exp(-t/2))\nEq(x(t), 200 - 200*exp(-t/2))\nEq(x(t), 200 - 200*exp(-t/2))\nEq(x(t), 200 - 200*exp(-t/2))\nEq(x(t), 200 - 200*exp(-t/2))\nEq(x(t), 200 - 200*exp(-t/2))\nEq(x(t), 200 - 200*exp(-t/2))\nEq(x(t), 200 - 200*exp(-t/2))\nEq(x(t), 200 - 200*exp(-t/2))\nEq(x(t), 200 - 200*exp(-t/2))\nEq(x(t), 200 - 200*exp(-t/2))\nEq(x(t), 200 - 200*exp(-t/2))\nEq(x(t), 200 - 200*exp(-t/2))\nEq(x(t), 200 - 200*exp(-t/2))\nEq(x(t), 200 - 200*exp(-t/2))\nEq(x(t), 200 - 200*exp(-t/2))\nEq(x(t), 200 - 200*exp(-t/2))\nEq(x(t), 200 - 200*exp(-t/2))\nEq(x(t), 200 - 200*exp(-t/2))\nEq(x(t), 200 - 200*exp(-t/2))\nEq(x(t), 200 - 200*exp(-t/2))\nEq(x(t), 200 - 200*exp(-t/2))\nEq(x(t), 200 - 200*exp(-t/2))\nEq(x(t), 200 - 200*exp(-t/2))\nEq(x(t), 200 - 200*exp(-t/2))\nEq(x(t), 200 - 200*exp(-t/2))\nEq(x(t), 200 - 200*exp(-t/2))\nEq(x(t), 200 - 200*exp(-t/2))\nEq(x(t), 200 - 200*exp(-t/2))\nEq(x(t), 200 - 200*exp(-t/2))\nEq(x(t), 200 - 200*exp(-t/2))\nEq(x(t), 200 - 200*exp(-t/2))\nEq(x(t), 200 - 200*exp(-t/2))\nEq(x(t), 200 - 200*exp(-t/2))\nEq(x(t), 200 - 200*exp(-t/2))\nEq(x(t), 200 - 200*exp(-t/2))\nEq(x(t), 200 - 200*exp(-t/2))\nEq(x(t), 200 - 200*exp(-t/2))\nEq(x(t), 200 - 200*exp(-t/2))\nEq(x(t), 200 - 200*exp(-t/2))\nEq(x(t), 200 - 200*exp(-t/2))\nEq(x(t), 200 - 200*exp(-t/2))\nEq(x(t), 200 - 200*exp(-t/2))\nEq(x(t), 200 - 200*exp(-t/2))\nEq(x(t), 200 - 200*exp(-t/2))\nEq(x(t), 200 - 200*exp(-t/2))\nEq(x(t), 200 - 200*exp(-t/2))\nEq(x(t), 200 - 200*exp(-t/2))\nEq(x(t), 200 - 200*exp(-t/2))\nEq(x(t), 200 - 200*exp(-t/2))\nEq(x(t), 200 - 200*exp(-t/2))\nEq(x(t), 200 - 200*exp(-t/2))\nEq(x(t), 200 - 200*exp(-t/2))\nEq(x(t), 200 - 200*exp(-t/2))\nEq(x(t), 200 - 200*exp(-t/2))\nEq(x(t), 200 - 200*exp(-t/2))\nEq(x(t), 200 - 200*exp(-t/2))\nEq(x(t), 200 - 200*exp(-t/2))\nEq(x(t), 200 - 200*exp(-t/2))\nEq(x(t), 200 - 200*exp(-t/2))\nEq(x(t), 200 - 200*exp(-t/2))\nEq(x(t), 200 - 200*exp(-t/2))\nEq(x(t), 200 - 200*exp(-t/2))\nEq(x(t), 200 - 200*exp(-t/2))\nEq(x(t), 200 - 200*exp(-t/2))\nEq(x(t), 200 - 200*exp(-t/2))\nEq(x(t), 200 - 200*exp(-t/2))\nEq(x(t), 200 - 200*exp(-t/2))\nEq(x(t), 200 - 200*exp(-t/2))\nEq(x(t), 200 - 200*exp(-t/2))\nEq(x(t), 200 - 200*exp(-t/2))\nEq(x(t), 200 - 200*exp(-t/2))\nEq(x(t), 200 - 200*exp(-t/2))\nEq(x(t), 200 - 200*exp(-t/2))\nEq(x(t), 200 - 200*exp(-t/2))\nEq(x(t), 200 - 200*exp(-t/2))\nEq(x(t), 200 - 200*exp(-t/2))\nEq(x(t), 200 - 200*exp(-t/2))\nEq(x(t), 200 - 200*exp(-t/2))\nEq(x(t), 200 - 200*exp(-t/2))\nEq(x(t), 200 - 200*exp(-t/2))\nEq(x(t), 200 - 200*exp(-t/2))\nEq(x(t), 200 - 200*exp(-t/2))\nEq(x(t), 200 - 200*exp(-t/2))\nEq(x(t), 200 - 200*exp(-t/2))\nEq(x(t), 200 - 200*exp(-t/2))\nEq(x(t), 200 - 200*exp(-t/2))\nEq(x(t), 200 - 200*exp(-t/2))\nEq(x(t), 200 - 200*exp(-t/2))\nEq(x(t), 200 - 200*exp(-t/2))\nEq(x(t), 200 - 200*exp(-t/2))\nEq(x(t), 200 - 200*exp(-t/2))\nEq(x(t), 200 - 200*exp(-t/2))\nEq(x(t), 200 - 200*exp(-t/2))\nEq(x(t), 200 - 200*exp(-t/2))\nEq(x(t), 200 - 200*exp(-t/2))\nEq(x(t), 200 - 200*exp(-t/2))\nEq(x(t), 200 - 200*exp(-t/2))\nEq(x(t), 200 - 200*exp(-t/2))\nEq(x(t), 200 - 200*exp(-t/2))\nEq(x(t), 200 - 200*exp(-t/2))\nEq(x(t), 200 - 200*exp(-t/2))\nEq(x(t), 200 - 200*exp(-t/2))\nEq(x(t), 200 - 200*exp(-t/2))\nEq(x(t), 200 - 200*exp(-t/2))\nEq(x(t), 200 - 200*exp(-t/2))\nEq(x(t), 200 - 200*exp(-t/2))\nEq(x(t), 200 - 200*exp(-t/2))\nEq(x(t), 200 - 200*exp(-t/2))\nEq(x(t), 200 - 200*exp(-t/2))\nEq(x(t), 200 - 200*exp(-t/2))\nEq(x(t), 200 - 200*exp(-t/2))\nEq(x(t), 200 - 200*exp(-t/2))\nEq(x(t), 200 - 200*exp(-t/2))\nEq(x(t), 200 - 200*exp(-t/2))\nEq(x(t), 200 - 200*exp(-t/2))\nEq(x(t), 200 - 200*exp(-t/2))\nEq(x(t), 200 - 200*exp(-t/2))\nEq(x(t), 200 - 200*exp(-t/2))\nEq(x(t), 200 - 200*exp(-t/2))\nEq(x(t), 200 - 200*exp(-t/2))\nEq(x(t), 200 - 200*exp(-t/2))\nEq(x(t), 200 - 200*exp(-t/2))\nEq(x(t), 200 - 200*exp(-t/2))\nEq(x(t), 200 - 200*exp(-t/2))\nEq(x(t), 200 - 200*exp(-t/2))\nEq(x(t), 200 - 200*exp(-t/2))\nEq(x(t), 200 - 200*exp(-t/2))\nEq(x(t), 200 - 200*exp(-t/2))\nEq(x(t), 200 - 200*exp(-t/2))\nEq(x(t), 200 - 200*exp(-t/2))\nEq(x(t), 200 - 200*exp(-t/2))\nEq(x(t), 200 - 200*exp(-t/2))\nEq(x(t), 200 - 200*exp(-t/2))\nEq(x(t), 200 - 200*exp(-t/2))\nEq(x(t), 200 - 200*exp(-t/2))\nEq(x(t), 200 - 200*exp(-t/2))\nEq(x(t), 200 - 200*exp(-t/2))\nEq(x(t), 200 - 200*exp(-t/2))\nEq(x(t), 200 - 200*exp(-t/2))\nEq(x(t), 200 - 200*exp(-t/2))\nEq(x(t), 200 - 200*exp(-t/2))\nEq(x(t), 200 - 200*exp(-t/2))\nEq(x(t), 200 - 200*exp(-t/2))\nEq(x(t), 200 - 200*exp(-t/2))\nEq(x(t), 200 - 200*exp(-t/2))\nEq(x(t), 200 - 200*exp(-t/2))\nEq(x(t), 200 - 200*exp(-t/2))\nEq(x(t), 200 - 200*exp(-t/2))\nEq(x(t), 200 - 200*exp(-t/2))\nEq(x(t), 200 - 200*exp(-t/2))\nEq(x(t), 200 - 200*exp(-t/2))\nEq(x(t), 200 - 200*exp(-t/2))\nEq(x(t), 200 - 200*exp(-t/2))\nEq(x(t), 200 - 200*exp(-t/2))\nEq(x(t), 200 - 200*exp(-t/2))\nEq(x(t), 200 - 200*exp(-t/2))\nEq(x(t), 200 - 200*exp(-t/2))\nEq(x(t), 200 - 200*exp(-t/2))\nEq(x(t), 200 - 200*exp(-t/2))\nEq(x(t), 200 - 200*exp(-t/2))\nEq(x(t), 200 - 200*exp(-t/2))\nEq(x(t), 200 - 200*exp(-t/2))\nEq(x(t), 200 - 200*exp(-t/2))\nEq(x(t), 200 - 200*exp(-t/2))\nEq(x(t), 200 - 200*exp(-t/2))\nEq(x(t), 200 - 200*exp(-t/2))\nEq(x(t), 200 - 200*exp(-t/2))\nEq(x(t), 200 - 200*exp(-t/2))\nEq(x(t), 200 - 200*exp(-t/2))\nEq(x(t), 200 - 200*exp(-t/2))\nEq(x(t), 200 - 200*exp(-t/2))\nEq(x(t), 200 - 200*exp(-t/2))\nEq(x(t), 200 - 200*exp(-t/2))\nEq(x(t), 200 - 200*exp(-t/2))\nEq(x(t), 200 - 200*exp(-t/2))\nEq(x(t), 200 - 200*exp(-t/2))\nEq(x(t), 200 - 200*exp(-t/2))\nEq(x(t), 200 - 200*exp(-t/2))\nEq(x(t), 200 - 200*exp(-t/2))\nEq(x(t), 200 - 200*exp(-t/2))\nEq(x(t), 200 - 200*exp(-t/2))\nEq(x(t), 200 - 200*exp(-t/2))\nEq(x(t), 200 - 200*exp(-t/2))\nEq(x(t), 200 - 200*exp(-t/2))\nEq(x(t), 200 - 200*exp(-t/2))\nEq(x(t), 200 - 200*exp(-t/2))\nEq(x(t), 200 - 200*exp(-t/2))\nEq(x(t), 200 - 200*exp(-t/2))\nEq(x(t), 200 - 200*exp(-t/2))\nEq(x(t), 200 - 200*exp(-t/2))\nEq(x(t), 200 - 200*exp(-t/2))\nEq(x(t), 200 - 200*exp(-t/2))\nEq(x(t), 200 - 200*exp(-t/2))\nEq(x(t), 200 - 200*exp(-t/2))\nEq(x(t), 200 - 200*exp(-t/2))\nEq(x(t), 200 - 200*exp(-t/2))\nEq(x(t), 200 - 200*exp(-t/2))\nEq(x(t), 200 - 200*exp(-t/2))\nEq(x(t), 200 - 200*exp(-t/2))\nEq(x(t), 200 - 200*exp(-t/2))\nEq(x(t), 200 - 200*exp(-t/2))\nEq(x(t), 200 - 200*exp(-t/2))\nEq(x(t), 200 - 200*exp(-t/2))\nEq(x(t), 200 - 200*exp(-t/2))\nEq(x(t), 200 - 200*exp(-t/2))\nEq(x(t), 200 - 200*exp(-t/2))\nEq(x(t), 200 - 200*exp(-t/2))\nEq(x(t), 200 - 200*exp(-t/2))\nEq(x(t), 200 - 200*exp(-t/2))\nEq(x(t), 200 - 200*exp(-t/2))\nEq(x(t), 200 - 200*exp(-t/2))\nEq(x(t), 200 - 200*exp(-t/2))\nEq(x(t), 200 - 200*exp(-t/2))\nEq(x(t), 200 - 200*exp(-t/2))\nEq(x(t), 200 - 200*exp(-t/2))\nEq(x(t), 200 - 200*exp(-t/2))\nEq(x(t), 200 - 200*exp(-t/2))\nEq(x(t), 200 - 200*exp(-t/2))\nEq(x(t), 200 - 200*exp(-t/2))\nEq(x(t), 200 - 200*exp(-t/2))\nEq(x(t), 200 - 200*exp(-t/2))\nEq(x(t), 200 - 200*exp(-t/2))\nEq(x(t), 200 - 200*exp(-t/2))\nEq(x(t), 200 - 200*exp(-t/2))\nEq(x(t), 200 - 200*exp(-t/2))\nEq(x(t), 200 - 200*exp(-t/2))\nEq(x(t), 200 - 200*exp(-t/2))\nEq(x(t), 200 - 200*exp(-t/2))\nEq(x(t), 200 - 200*exp(-t/2))\nEq(x(t), 200 - 200*exp(-t/2))\nEq(x(t), 200 - 200*exp(-t/2))\nEq(x(t), 200 - 200*exp(-t/2))\nEq(x(t), 200 - 200*exp(-t/2))\nEq(x(t), 200 - 200*exp(-t/2))\nEq(x(t), 200 - 200*exp(-t/2))\nEq(x(t), 200 - 200*exp(-t/2))\nEq(x(t), 200 - 200*exp(-t/2))\nEq(x(t), 200 - 200*exp(-t/2))\nEq(x(t), 200 - 200*exp(-t/2))\nEq(x(t), 200 - 200*exp(-t/2))\nEq(x(t), 200 - 200*exp(-t/2))\nEq(x(t), 200 - 200*exp(-t/2))\nEq(x(t), 200 - 200*exp(-t/2))\nEq(x(t), 200 - 200*exp(-t/2))\nEq(x(t), 200 - 200*exp(-t/2))\nEq(x(t), 200 - 200*exp(-t/2))\nEq(x(t), 200 - 200*exp(-t/2))\nEq(x(t), 200 - 200*exp(-t/2))\nEq(x(t), 200 - 200*exp(-t/2))\nEq(x(t), 200 - 200*exp(-t/2))\nEq(x(t), 200 - 200*exp(-t/2))\nEq(x(t), 200 - 200*exp(-t/2))\nEq(x(t), 200 - 200*exp(-t/2))\nEq(x(t), 200 - 200*exp(-t/2))\nEq(x(t), 200 - 200*exp(-t/2))\nEq(x(t), 200 - 200*exp(-t/2))\nEq(x(t), 200 - 200*exp(-t/2))\nEq(x(t), 200 - 200*exp(-t/2))\nEq(x(t), 200 - 200*exp(-t/2))\nEq(x(t), 200 - 200*exp(-t/2))\nEq(x(t), 200 - 200*exp(-t/2))\nEq(x(t), 200 - 200*exp(-t/2))\nEq(x(t), 200 - 200*exp(-t/2))\nEq(x(t), 200 - 200*exp(-t/2))\nEq(x(t), 200 - 200*exp(-t/2))\nEq(x(t), 200 - 200*exp(-t/2))\nEq(x(t), 200 - 200*exp(-t/2))\nEq(x(t), 200 - 200*exp(-t/2))\nEq(x(t), 200 - 200*exp(-t/2))\nEq(x(t), 200 - 200*exp(-t/2))\nEq(x(t), 200 - 200*exp(-t/2))\nEq(x(t), 200 - 200*exp(-t/2))\nEq(x(t), 200 - 200*exp(-t/2))\nEq(x(t), 200 - 200*exp(-t/2))\nEq(x(t), 200 - 200*exp(-t/2))\nEq(x(t), 200 - 200*exp(-t/2))\nEq(x(t), 200 - 200*exp(-t/2))\nEq(x(t), 200 - 200*exp(-t/2))\nEq(x(t), 200 - 200*exp(-t/2))\nEq(x(t), 200 - 200*exp(-t/2))\nEq(x(t), 200 - 200*exp(-t/2))\nEq(x(t), 200 - 200*exp(-t/2))\nEq(x(t), 200 - 200*exp(-t/2))\nEq(x(t), 200 - 200*exp(-t/2))\nEq(x(t), 200 - 200*exp(-t/2))\nEq(x(t), 200 - 200*exp(-t/2))\nEq(x(t), 200 - 200*exp(-t/2))\nEq(x(t), 200 - 200*exp(-t/2))\nEq(x(t), 200 - 200*exp(-t/2))\nEq(x(t), 200 - 200*exp(-t/2))\nEq(x(t), 200 - 200*exp(-t/2))\nEq(x(t), 200 - 200*exp(-t/2))\nEq(x(t), 200 - 200*exp(-t/2))\nEq(x(t), 200 - 200*exp(-t/2))\nEq(x(t), 200 - 200*exp(-t/2))\nEq(x(t), 200 - 200*exp(-t/2))\nEq(x(t), 200 - 200*exp(-t/2))\nEq(x(t), 200 - 200*exp(-t/2))\nEq(x(t), 200 - 200*exp(-t/2))\nEq(x(t), 200 - 200*exp(-t/2))\nEq(x(t), 200 - 200*exp(-t/2))\nEq(x(t), 200 - 200*exp(-t/2))\nEq(x(t), 200 - 200*exp(-t/2))\nEq(x(t), 200 - 200*exp(-t/2))\nEq(x(t), 200 - 200*exp(-t/2))\nEq(x(t), 200 - 200*exp(-t/2))\nEq(x(t), 200 - 200*exp(-t/2))\nEq(x(t), 200 - 200*exp(-t/2))\nEq(x(t), 200 - 200*exp(-t/2))\nEq(x(t), 200 - 200*exp(-t/2))\nEq(x(t), 200 - 200*exp(-t/2))\nEq(x(t), 200 - 200*exp(-t/2))\nEq(x(t), 200 - 200*exp(-t/2))\nEq(x(t), 200 - 200*exp(-t/2))\nEq(x(t), 200 - 200*exp(-t/2))\nEq(x(t), 200 - 200*exp(-t/2))\nEq(x(t), 200 - 200*exp(-t/2))\nEq(x(t), 200 - 200*exp(-t/2))\nEq(x(t), 200 - 200*exp(-t/2))\nEq(x(t), 200 - 200*exp(-t/2))\nEq(x(t), 200 - 200*exp(-t/2))\nEq(x(t), 200 - 200*exp(-t/2))\nEq(x(t), 200 - 200*exp(-t/2))\nEq(x(t), 200 - 200*exp(-t/2))\nEq(x(t), 200 - 200*exp(-t/2))\nEq(x(t), 200 - 200*exp(-t/2))\nEq(x(t), 200 - 200*exp(-t/2))\nEq(x(t), 200 - 200*exp(-t/2))\nEq(x(t), 200 - 200*exp(-t/2))\nEq(x(t), 200 - 200*exp(-t/2))\nEq(x(t), 200 - 200*exp(-t/2))\nEq(x(t), 200 - 200*exp(-t/2))\nEq(x(t), 200 - 200*exp(-t/2))\nEq(x(t), 200 - 200*exp(-t/2))\nEq(x(t), 200 - 200*exp(-t/2))\nEq(x(t), 200 - 200*exp(-t/2))\nEq(x(t), 200 - 200*exp(-t/2))\nEq(x(t), 200 - 200*exp(-t/2))\nEq(x(t), 200 - 200*exp(-t/2))\nEq(x(t), 200 - 200*exp(-t/2))\nEq(x(t), 200 - 200*exp(-t/2))\nEq(x(t), 200 - 200*exp(-t/2))\nEq(x(t), 200 - 200*exp(-t/2))\nEq(x(t), 200 - 200*exp(-t/2))\nEq(x(t), 200 - 200*exp(-t/2))\nEq(x(t), 200 - 200*exp(-t/2))\nEq(x(t), 200 - 200*exp(-t/2))\nEq(x(t), 200 - 200*exp(-t/2))\nEq(x(t), 200 - 200*exp(-t/2))\nEq(x(t), 200 - 200*exp(-t/2))\nEq(x(t), 200 - 200*exp(-t/2))\nEq(x(t), 200 - 200*exp(-t/2))\nEq(x(t), 200 - 200*exp(-t/2))\nEq(x(t), 200 - 200*exp(-t/2))\nEq(x(t), 200 - 200*exp(-t/2))\nEq(x(t), 200 - 200*exp(-t/2))\nEq(x(t), 200 - 200*exp(-t/2))\nEq(x(t), 200 - 200*exp(-t/2))\nEq(x(t), 200 - 200*exp(-t/2))\nEq(x(t), 200 - 200*exp(-t/2))\nEq(x(t), 200 - 200*exp(-t/2))\nEq(x(t), 200 - 200*exp(-t/2))\nEq(x(t), 200 - 200*exp(-t/2))\nEq(x(t), 200 - 200*exp(-t/2))\nEq(x(t), 200 - 200*exp(-t/2))\nEq(x(t), 200 - 200*exp(-t/2))\nEq(x(t), 200 - 200*exp(-t/2))\nEq(x(t), 200 - 200*exp(-t/2))\nEq(x(t), 200 - 200*exp(-t/2))\nEq(x(t), 200 - 200*exp(-t/2))\nEq(x(t), 200 - 200*exp(-t/2))\nEq(x(t), 200 - 200*exp(-t/2))\nEq(x(t), 200 - 200*exp(-t/2))\n"
        },
        {
         "name": "stdout",
         "output_type": "stream",
         "text": "Eq(x(t), 200 - 200*exp(-t/2))\nEq(x(t), 200 - 200*exp(-t/2))\nEq(x(t), 200 - 200*exp(-t/2))\nEq(x(t), 200 - 200*exp(-t/2))\nEq(x(t), 200 - 200*exp(-t/2))\nEq(x(t), 200 - 200*exp(-t/2))\nEq(x(t), 200 - 200*exp(-t/2))\nEq(x(t), 200 - 200*exp(-t/2))\nEq(x(t), 200 - 200*exp(-t/2))\nEq(x(t), 200 - 200*exp(-t/2))\nEq(x(t), 200 - 200*exp(-t/2))\nEq(x(t), 200 - 200*exp(-t/2))\nEq(x(t), 200 - 200*exp(-t/2))\nEq(x(t), 200 - 200*exp(-t/2))\nEq(x(t), 200 - 200*exp(-t/2))\nEq(x(t), 200 - 200*exp(-t/2))\nEq(x(t), 200 - 200*exp(-t/2))\nEq(x(t), 200 - 200*exp(-t/2))\nEq(x(t), 200 - 200*exp(-t/2))\nEq(x(t), 200 - 200*exp(-t/2))\nEq(x(t), 200 - 200*exp(-t/2))\nEq(x(t), 200 - 200*exp(-t/2))\nEq(x(t), 200 - 200*exp(-t/2))\nEq(x(t), 200 - 200*exp(-t/2))\nEq(x(t), 200 - 200*exp(-t/2))\nEq(x(t), 200 - 200*exp(-t/2))\nEq(x(t), 200 - 200*exp(-t/2))\nEq(x(t), 200 - 200*exp(-t/2))\nEq(x(t), 200 - 200*exp(-t/2))\nEq(x(t), 200 - 200*exp(-t/2))\nEq(x(t), 200 - 200*exp(-t/2))\nEq(x(t), 200 - 200*exp(-t/2))\nEq(x(t), 200 - 200*exp(-t/2))\nEq(x(t), 200 - 200*exp(-t/2))\nEq(x(t), 200 - 200*exp(-t/2))\nEq(x(t), 200 - 200*exp(-t/2))\nEq(x(t), 200 - 200*exp(-t/2))\nEq(x(t), 200 - 200*exp(-t/2))\nEq(x(t), 200 - 200*exp(-t/2))\nEq(x(t), 200 - 200*exp(-t/2))\nEq(x(t), 200 - 200*exp(-t/2))\nEq(x(t), 200 - 200*exp(-t/2))\nEq(x(t), 200 - 200*exp(-t/2))\nEq(x(t), 200 - 200*exp(-t/2))\nEq(x(t), 200 - 200*exp(-t/2))\nEq(x(t), 200 - 200*exp(-t/2))\nEq(x(t), 200 - 200*exp(-t/2))\nEq(x(t), 200 - 200*exp(-t/2))\nEq(x(t), 200 - 200*exp(-t/2))\nEq(x(t), 200 - 200*exp(-t/2))\nEq(x(t), 200 - 200*exp(-t/2))\nEq(x(t), 200 - 200*exp(-t/2))\nEq(x(t), 200 - 200*exp(-t/2))\nEq(x(t), 200 - 200*exp(-t/2))\nEq(x(t), 200 - 200*exp(-t/2))\nEq(x(t), 200 - 200*exp(-t/2))\nEq(x(t), 200 - 200*exp(-t/2))\nEq(x(t), 200 - 200*exp(-t/2))\nEq(x(t), 200 - 200*exp(-t/2))\nEq(x(t), 200 - 200*exp(-t/2))\nEq(x(t), 200 - 200*exp(-t/2))\nEq(x(t), 200 - 200*exp(-t/2))\nEq(x(t), 200 - 200*exp(-t/2))\nEq(x(t), 200 - 200*exp(-t/2))\nEq(x(t), 200 - 200*exp(-t/2))\nEq(x(t), 200 - 200*exp(-t/2))\nEq(x(t), 200 - 200*exp(-t/2))\nEq(x(t), 200 - 200*exp(-t/2))\nEq(x(t), 200 - 200*exp(-t/2))\nEq(x(t), 200 - 200*exp(-t/2))\nEq(x(t), 200 - 200*exp(-t/2))\nEq(x(t), 200 - 200*exp(-t/2))\nEq(x(t), 200 - 200*exp(-t/2))\nEq(x(t), 200 - 200*exp(-t/2))\nEq(x(t), 200 - 200*exp(-t/2))\nEq(x(t), 200 - 200*exp(-t/2))\nEq(x(t), 200 - 200*exp(-t/2))\nEq(x(t), 200 - 200*exp(-t/2))\nEq(x(t), 200 - 200*exp(-t/2))\nEq(x(t), 200 - 200*exp(-t/2))\nEq(x(t), 200 - 200*exp(-t/2))\nEq(x(t), 200 - 200*exp(-t/2))\nEq(x(t), 200 - 200*exp(-t/2))\nEq(x(t), 200 - 200*exp(-t/2))\nEq(x(t), 200 - 200*exp(-t/2))\nEq(x(t), 200 - 200*exp(-t/2))\nEq(x(t), 200 - 200*exp(-t/2))\nEq(x(t), 200 - 200*exp(-t/2))\nEq(x(t), 200 - 200*exp(-t/2))\nEq(x(t), 200 - 200*exp(-t/2))\nEq(x(t), 200 - 200*exp(-t/2))\nEq(x(t), 200 - 200*exp(-t/2))\nEq(x(t), 200 - 200*exp(-t/2))\nEq(x(t), 200 - 200*exp(-t/2))\nEq(x(t), 200 - 200*exp(-t/2))\nEq(x(t), 200 - 200*exp(-t/2))\nEq(x(t), 200 - 200*exp(-t/2))\nEq(x(t), 200 - 200*exp(-t/2))\nEq(x(t), 200 - 200*exp(-t/2))\nEq(x(t), 200 - 200*exp(-t/2))\nEq(x(t), 200 - 200*exp(-t/2))\nEq(x(t), 200 - 200*exp(-t/2))\nEq(x(t), 200 - 200*exp(-t/2))\nEq(x(t), 200 - 200*exp(-t/2))\nEq(x(t), 200 - 200*exp(-t/2))\nEq(x(t), 200 - 200*exp(-t/2))\nEq(x(t), 200 - 200*exp(-t/2))\nEq(x(t), 200 - 200*exp(-t/2))\nEq(x(t), 200 - 200*exp(-t/2))\nEq(x(t), 200 - 200*exp(-t/2))\nEq(x(t), 200 - 200*exp(-t/2))\nEq(x(t), 200 - 200*exp(-t/2))\nEq(x(t), 200 - 200*exp(-t/2))\nEq(x(t), 200 - 200*exp(-t/2))\nEq(x(t), 200 - 200*exp(-t/2))\nEq(x(t), 200 - 200*exp(-t/2))\nEq(x(t), 200 - 200*exp(-t/2))\nEq(x(t), 200 - 200*exp(-t/2))\nEq(x(t), 200 - 200*exp(-t/2))\nEq(x(t), 200 - 200*exp(-t/2))\nEq(x(t), 200 - 200*exp(-t/2))\nEq(x(t), 200 - 200*exp(-t/2))\nEq(x(t), 200 - 200*exp(-t/2))\nEq(x(t), 200 - 200*exp(-t/2))\nEq(x(t), 200 - 200*exp(-t/2))\nEq(x(t), 200 - 200*exp(-t/2))\nEq(x(t), 200 - 200*exp(-t/2))\nEq(x(t), 200 - 200*exp(-t/2))\nEq(x(t), 200 - 200*exp(-t/2))\nEq(x(t), 200 - 200*exp(-t/2))\nEq(x(t), 200 - 200*exp(-t/2))\nEq(x(t), 200 - 200*exp(-t/2))\nEq(x(t), 200 - 200*exp(-t/2))\nEq(x(t), 200 - 200*exp(-t/2))\nEq(x(t), 200 - 200*exp(-t/2))\nEq(x(t), 200 - 200*exp(-t/2))\nEq(x(t), 200 - 200*exp(-t/2))\nEq(x(t), 200 - 200*exp(-t/2))\nEq(x(t), 200 - 200*exp(-t/2))\nEq(x(t), 200 - 200*exp(-t/2))\nEq(x(t), 200 - 200*exp(-t/2))\nEq(x(t), 200 - 200*exp(-t/2))\nEq(x(t), 200 - 200*exp(-t/2))\nEq(x(t), 200 - 200*exp(-t/2))\nEq(x(t), 200 - 200*exp(-t/2))\nEq(x(t), 200 - 200*exp(-t/2))\nEq(x(t), 200 - 200*exp(-t/2))\nEq(x(t), 200 - 200*exp(-t/2))\nEq(x(t), 200 - 200*exp(-t/2))\nEq(x(t), 200 - 200*exp(-t/2))\nEq(x(t), 200 - 200*exp(-t/2))\nEq(x(t), 200 - 200*exp(-t/2))\nEq(x(t), 200 - 200*exp(-t/2))\nEq(x(t), 200 - 200*exp(-t/2))\nEq(x(t), 200 - 200*exp(-t/2))\nEq(x(t), 200 - 200*exp(-t/2))\nEq(x(t), 200 - 200*exp(-t/2))\nEq(x(t), 200 - 200*exp(-t/2))\nEq(x(t), 200 - 200*exp(-t/2))\nEq(x(t), 200 - 200*exp(-t/2))\nEq(x(t), 200 - 200*exp(-t/2))\nEq(x(t), 200 - 200*exp(-t/2))\nEq(x(t), 200 - 200*exp(-t/2))\nEq(x(t), 200 - 200*exp(-t/2))\nEq(x(t), 200 - 200*exp(-t/2))\nEq(x(t), 200 - 200*exp(-t/2))\nEq(x(t), 200 - 200*exp(-t/2))\nEq(x(t), 200 - 200*exp(-t/2))\nEq(x(t), 200 - 200*exp(-t/2))\nEq(x(t), 200 - 200*exp(-t/2))\nEq(x(t), 200 - 200*exp(-t/2))\nEq(x(t), 200 - 200*exp(-t/2))\nEq(x(t), 200 - 200*exp(-t/2))\nEq(x(t), 200 - 200*exp(-t/2))\nEq(x(t), 200 - 200*exp(-t/2))\nEq(x(t), 200 - 200*exp(-t/2))\nEq(x(t), 200 - 200*exp(-t/2))\nEq(x(t), 200 - 200*exp(-t/2))\nEq(x(t), 200 - 200*exp(-t/2))\nEq(x(t), 200 - 200*exp(-t/2))\nEq(x(t), 200 - 200*exp(-t/2))\nEq(x(t), 200 - 200*exp(-t/2))\nEq(x(t), 200 - 200*exp(-t/2))\nEq(x(t), 200 - 200*exp(-t/2))\nEq(x(t), 200 - 200*exp(-t/2))\nEq(x(t), 200 - 200*exp(-t/2))\nEq(x(t), 200 - 200*exp(-t/2))\nEq(x(t), 200 - 200*exp(-t/2))\nEq(x(t), 200 - 200*exp(-t/2))\nEq(x(t), 200 - 200*exp(-t/2))\nEq(x(t), 200 - 200*exp(-t/2))\nEq(x(t), 200 - 200*exp(-t/2))\nEq(x(t), 200 - 200*exp(-t/2))\nEq(x(t), 200 - 200*exp(-t/2))\nEq(x(t), 200 - 200*exp(-t/2))\nEq(x(t), 200 - 200*exp(-t/2))\nEq(x(t), 200 - 200*exp(-t/2))\nEq(x(t), 200 - 200*exp(-t/2))\nEq(x(t), 200 - 200*exp(-t/2))\nEq(x(t), 200 - 200*exp(-t/2))\nEq(x(t), 200 - 200*exp(-t/2))\nEq(x(t), 200 - 200*exp(-t/2))\nEq(x(t), 200 - 200*exp(-t/2))\nEq(x(t), 200 - 200*exp(-t/2))\nEq(x(t), 200 - 200*exp(-t/2))\nEq(x(t), 200 - 200*exp(-t/2))\nEq(x(t), 200 - 200*exp(-t/2))\nEq(x(t), 200 - 200*exp(-t/2))\nEq(x(t), 200 - 200*exp(-t/2))\nEq(x(t), 200 - 200*exp(-t/2))\nEq(x(t), 200 - 200*exp(-t/2))\nEq(x(t), 200 - 200*exp(-t/2))\nEq(x(t), 200 - 200*exp(-t/2))\nEq(x(t), 200 - 200*exp(-t/2))\nEq(x(t), 200 - 200*exp(-t/2))\nEq(x(t), 200 - 200*exp(-t/2))\nEq(x(t), 200 - 200*exp(-t/2))\nEq(x(t), 200 - 200*exp(-t/2))\nEq(x(t), 200 - 200*exp(-t/2))\nEq(x(t), 200 - 200*exp(-t/2))\nEq(x(t), 200 - 200*exp(-t/2))\nEq(x(t), 200 - 200*exp(-t/2))\nEq(x(t), 200 - 200*exp(-t/2))\nEq(x(t), 200 - 200*exp(-t/2))\nEq(x(t), 200 - 200*exp(-t/2))\nEq(x(t), 200 - 200*exp(-t/2))\nEq(x(t), 200 - 200*exp(-t/2))\nEq(x(t), 200 - 200*exp(-t/2))\nEq(x(t), 200 - 200*exp(-t/2))\nEq(x(t), 200 - 200*exp(-t/2))\nEq(x(t), 200 - 200*exp(-t/2))\nEq(x(t), 200 - 200*exp(-t/2))\nEq(x(t), 200 - 200*exp(-t/2))\nEq(x(t), 200 - 200*exp(-t/2))\nEq(x(t), 200 - 200*exp(-t/2))\nEq(x(t), 200 - 200*exp(-t/2))\nEq(x(t), 200 - 200*exp(-t/2))\nEq(x(t), 200 - 200*exp(-t/2))\nEq(x(t), 200 - 200*exp(-t/2))\nEq(x(t), 200 - 200*exp(-t/2))\nEq(x(t), 200 - 200*exp(-t/2))\nEq(x(t), 200 - 200*exp(-t/2))\nEq(x(t), 200 - 200*exp(-t/2))\nEq(x(t), 200 - 200*exp(-t/2))\nEq(x(t), 200 - 200*exp(-t/2))\nEq(x(t), 200 - 200*exp(-t/2))\nEq(x(t), 200 - 200*exp(-t/2))\nEq(x(t), 200 - 200*exp(-t/2))\nEq(x(t), 200 - 200*exp(-t/2))\nEq(x(t), 200 - 200*exp(-t/2))\nEq(x(t), 200 - 200*exp(-t/2))\nEq(x(t), 200 - 200*exp(-t/2))\nEq(x(t), 200 - 200*exp(-t/2))\nEq(x(t), 200 - 200*exp(-t/2))\nEq(x(t), 200 - 200*exp(-t/2))\nEq(x(t), 200 - 200*exp(-t/2))\nEq(x(t), 200 - 200*exp(-t/2))\nEq(x(t), 200 - 200*exp(-t/2))\nEq(x(t), 200 - 200*exp(-t/2))\nEq(x(t), 200 - 200*exp(-t/2))\nEq(x(t), 200 - 200*exp(-t/2))\nEq(x(t), 200 - 200*exp(-t/2))\nEq(x(t), 200 - 200*exp(-t/2))\nEq(x(t), 200 - 200*exp(-t/2))\nEq(x(t), 200 - 200*exp(-t/2))\nEq(x(t), 200 - 200*exp(-t/2))\nEq(x(t), 200 - 200*exp(-t/2))\nEq(x(t), 200 - 200*exp(-t/2))\nEq(x(t), 200 - 200*exp(-t/2))\nEq(x(t), 200 - 200*exp(-t/2))\nEq(x(t), 200 - 200*exp(-t/2))\nEq(x(t), 200 - 200*exp(-t/2))\nEq(x(t), 200 - 200*exp(-t/2))\nEq(x(t), 200 - 200*exp(-t/2))\nEq(x(t), 200 - 200*exp(-t/2))\nEq(x(t), 200 - 200*exp(-t/2))\nEq(x(t), 200 - 200*exp(-t/2))\nEq(x(t), 200 - 200*exp(-t/2))\nEq(x(t), 200 - 200*exp(-t/2))\nEq(x(t), 200 - 200*exp(-t/2))\nEq(x(t), 200 - 200*exp(-t/2))\nEq(x(t), 200 - 200*exp(-t/2))\nEq(x(t), 200 - 200*exp(-t/2))\nEq(x(t), 200 - 200*exp(-t/2))\nEq(x(t), 200 - 200*exp(-t/2))\nEq(x(t), 200 - 200*exp(-t/2))\nEq(x(t), 200 - 200*exp(-t/2))\nEq(x(t), 200 - 200*exp(-t/2))\nEq(x(t), 200 - 200*exp(-t/2))\nEq(x(t), 200 - 200*exp(-t/2))\nEq(x(t), 200 - 200*exp(-t/2))\nEq(x(t), 200 - 200*exp(-t/2))\nEq(x(t), 200 - 200*exp(-t/2))\nEq(x(t), 200 - 200*exp(-t/2))\nEq(x(t), 200 - 200*exp(-t/2))\nEq(x(t), 200 - 200*exp(-t/2))\nEq(x(t), 200 - 200*exp(-t/2))\nEq(x(t), 200 - 200*exp(-t/2))\nEq(x(t), 200 - 200*exp(-t/2))\nEq(x(t), 200 - 200*exp(-t/2))\nEq(x(t), 200 - 200*exp(-t/2))\nEq(x(t), 200 - 200*exp(-t/2))\nEq(x(t), 200 - 200*exp(-t/2))\nEq(x(t), 200 - 200*exp(-t/2))\nEq(x(t), 200 - 200*exp(-t/2))\nEq(x(t), 200 - 200*exp(-t/2))\nEq(x(t), 200 - 200*exp(-t/2))\nEq(x(t), 200 - 200*exp(-t/2))\nEq(x(t), 200 - 200*exp(-t/2))\nEq(x(t), 200 - 200*exp(-t/2))\nEq(x(t), 200 - 200*exp(-t/2))\nEq(x(t), 200 - 200*exp(-t/2))\nEq(x(t), 200 - 200*exp(-t/2))\nEq(x(t), 200 - 200*exp(-t/2))\nEq(x(t), 200 - 200*exp(-t/2))\nEq(x(t), 200 - 200*exp(-t/2))\nEq(x(t), 200 - 200*exp(-t/2))\nEq(x(t), 200 - 200*exp(-t/2))\nEq(x(t), 200 - 200*exp(-t/2))\nEq(x(t), 200 - 200*exp(-t/2))\nEq(x(t), 200 - 200*exp(-t/2))\nEq(x(t), 200 - 200*exp(-t/2))\nEq(x(t), 200 - 200*exp(-t/2))\nEq(x(t), 200 - 200*exp(-t/2))\nEq(x(t), 200 - 200*exp(-t/2))\nEq(x(t), 200 - 200*exp(-t/2))\nEq(x(t), 200 - 200*exp(-t/2))\nEq(x(t), 200 - 200*exp(-t/2))\nEq(x(t), 200 - 200*exp(-t/2))\nEq(x(t), 200 - 200*exp(-t/2))\nEq(x(t), 200 - 200*exp(-t/2))\nEq(x(t), 200 - 200*exp(-t/2))\nEq(x(t), 200 - 200*exp(-t/2))\nEq(x(t), 200 - 200*exp(-t/2))\nEq(x(t), 200 - 200*exp(-t/2))\nEq(x(t), 200 - 200*exp(-t/2))\nEq(x(t), 200 - 200*exp(-t/2))\nEq(x(t), 200 - 200*exp(-t/2))\nEq(x(t), 200 - 200*exp(-t/2))\nEq(x(t), 200 - 200*exp(-t/2))\nEq(x(t), 200 - 200*exp(-t/2))\nEq(x(t), 200 - 200*exp(-t/2))\nEq(x(t), 200 - 200*exp(-t/2))\nEq(x(t), 200 - 200*exp(-t/2))\nEq(x(t), 200 - 200*exp(-t/2))\nEq(x(t), 200 - 200*exp(-t/2))\nEq(x(t), 200 - 200*exp(-t/2))\nEq(x(t), 200 - 200*exp(-t/2))\nEq(x(t), 200 - 200*exp(-t/2))\nEq(x(t), 200 - 200*exp(-t/2))\nEq(x(t), 200 - 200*exp(-t/2))\nEq(x(t), 200 - 200*exp(-t/2))\nEq(x(t), 200 - 200*exp(-t/2))\nEq(x(t), 200 - 200*exp(-t/2))\nEq(x(t), 200 - 200*exp(-t/2))\nEq(x(t), 200 - 200*exp(-t/2))\nEq(x(t), 200 - 200*exp(-t/2))\nEq(x(t), 200 - 200*exp(-t/2))\nEq(x(t), 200 - 200*exp(-t/2))\nEq(x(t), 200 - 200*exp(-t/2))\nEq(x(t), 200 - 200*exp(-t/2))\nEq(x(t), 200 - 200*exp(-t/2))\nEq(x(t), 200 - 200*exp(-t/2))\nEq(x(t), 200 - 200*exp(-t/2))\nEq(x(t), 200 - 200*exp(-t/2))\nEq(x(t), 200 - 200*exp(-t/2))\nEq(x(t), 200 - 200*exp(-t/2))\nEq(x(t), 200 - 200*exp(-t/2))\nEq(x(t), 200 - 200*exp(-t/2))\nEq(x(t), 200 - 200*exp(-t/2))\nEq(x(t), 200 - 200*exp(-t/2))\nEq(x(t), 200 - 200*exp(-t/2))\nEq(x(t), 200 - 200*exp(-t/2))\nEq(x(t), 200 - 200*exp(-t/2))\nEq(x(t), 200 - 200*exp(-t/2))\nEq(x(t), 200 - 200*exp(-t/2))\nEq(x(t), 200 - 200*exp(-t/2))\nEq(x(t), 200 - 200*exp(-t/2))\nEq(x(t), 200 - 200*exp(-t/2))\nEq(x(t), 200 - 200*exp(-t/2))\nEq(x(t), 200 - 200*exp(-t/2))\nEq(x(t), 200 - 200*exp(-t/2))\nEq(x(t), 200 - 200*exp(-t/2))\nEq(x(t), 200 - 200*exp(-t/2))\nEq(x(t), 200 - 200*exp(-t/2))\nEq(x(t), 200 - 200*exp(-t/2))\nEq(x(t), 200 - 200*exp(-t/2))\nEq(x(t), 200 - 200*exp(-t/2))\nEq(x(t), 200 - 200*exp(-t/2))\nEq(x(t), 200 - 200*exp(-t/2))\nEq(x(t), 200 - 200*exp(-t/2))\nEq(x(t), 200 - 200*exp(-t/2))\nEq(x(t), 200 - 200*exp(-t/2))\nEq(x(t), 200 - 200*exp(-t/2))\nEq(x(t), 200 - 200*exp(-t/2))\nEq(x(t), 200 - 200*exp(-t/2))\nEq(x(t), 200 - 200*exp(-t/2))\nEq(x(t), 200 - 200*exp(-t/2))\nEq(x(t), 200 - 200*exp(-t/2))\nEq(x(t), 200 - 200*exp(-t/2))\nEq(x(t), 200 - 200*exp(-t/2))\nEq(x(t), 200 - 200*exp(-t/2))\nEq(x(t), 200 - 200*exp(-t/2))\nEq(x(t), 200 - 200*exp(-t/2))\nEq(x(t), 200 - 200*exp(-t/2))\nEq(x(t), 200 - 200*exp(-t/2))\nEq(x(t), 200 - 200*exp(-t/2))\nEq(x(t), 200 - 200*exp(-t/2))\nEq(x(t), 200 - 200*exp(-t/2))\nEq(x(t), 200 - 200*exp(-t/2))\nEq(x(t), 200 - 200*exp(-t/2))\nEq(x(t), 200 - 200*exp(-t/2))\nEq(x(t), 200 - 200*exp(-t/2))\nEq(x(t), 200 - 200*exp(-t/2))\nEq(x(t), 200 - 200*exp(-t/2))\nEq(x(t), 200 - 200*exp(-t/2))\nEq(x(t), 200 - 200*exp(-t/2))\nEq(x(t), 200 - 200*exp(-t/2))\nEq(x(t), 200 - 200*exp(-t/2))\nEq(x(t), 200 - 200*exp(-t/2))\nEq(x(t), 200 - 200*exp(-t/2))\nEq(x(t), 200 - 200*exp(-t/2))\nEq(x(t), 200 - 200*exp(-t/2))\nEq(x(t), 200 - 200*exp(-t/2))\nEq(x(t), 200 - 200*exp(-t/2))\nEq(x(t), 200 - 200*exp(-t/2))\nEq(x(t), 200 - 200*exp(-t/2))\nEq(x(t), 200 - 200*exp(-t/2))\nEq(x(t), 200 - 200*exp(-t/2))\nEq(x(t), 200 - 200*exp(-t/2))\nEq(x(t), 200 - 200*exp(-t/2))\nEq(x(t), 200 - 200*exp(-t/2))\nEq(x(t), 200 - 200*exp(-t/2))\nEq(x(t), 200 - 200*exp(-t/2))\nEq(x(t), 200 - 200*exp(-t/2))\nEq(x(t), 200 - 200*exp(-t/2))\nEq(x(t), 200 - 200*exp(-t/2))\nEq(x(t), 200 - 200*exp(-t/2))\nEq(x(t), 200 - 200*exp(-t/2))\nEq(x(t), 200 - 200*exp(-t/2))\nEq(x(t), 200 - 200*exp(-t/2))\nEq(x(t), 200 - 200*exp(-t/2))\nEq(x(t), 200 - 200*exp(-t/2))\nEq(x(t), 200 - 200*exp(-t/2))\nEq(x(t), 200 - 200*exp(-t/2))\nEq(x(t), 200 - 200*exp(-t/2))\nEq(x(t), 200 - 200*exp(-t/2))\nEq(x(t), 200 - 200*exp(-t/2))\nEq(x(t), 200 - 200*exp(-t/2))\nEq(x(t), 200 - 200*exp(-t/2))\nEq(x(t), 200 - 200*exp(-t/2))\nEq(x(t), 200 - 200*exp(-t/2))\nEq(x(t), 200 - 200*exp(-t/2))\nEq(x(t), 200 - 200*exp(-t/2))\nEq(x(t), 200 - 200*exp(-t/2))\nEq(x(t), 200 - 200*exp(-t/2))\nEq(x(t), 200 - 200*exp(-t/2))\nEq(x(t), 200 - 200*exp(-t/2))\nEq(x(t), 200 - 200*exp(-t/2))\nEq(x(t), 200 - 200*exp(-t/2))\nEq(x(t), 200 - 200*exp(-t/2))\nEq(x(t), 200 - 200*exp(-t/2))\nEq(x(t), 200 - 200*exp(-t/2))\nEq(x(t), 200 - 200*exp(-t/2))\nEq(x(t), 200 - 200*exp(-t/2))\nEq(x(t), 200 - 200*exp(-t/2))\nEq(x(t), 200 - 200*exp(-t/2))\nEq(x(t), 200 - 200*exp(-t/2))\nEq(x(t), 200 - 200*exp(-t/2))\nEq(x(t), 200 - 200*exp(-t/2))\nEq(x(t), 200 - 200*exp(-t/2))\nEq(x(t), 200 - 200*exp(-t/2))\nEq(x(t), 200 - 200*exp(-t/2))\nEq(x(t), 200 - 200*exp(-t/2))\nEq(x(t), 200 - 200*exp(-t/2))\nEq(x(t), 200 - 200*exp(-t/2))\nEq(x(t), 200 - 200*exp(-t/2))\nEq(x(t), 200 - 200*exp(-t/2))\nEq(x(t), 200 - 200*exp(-t/2))\nEq(x(t), 200 - 200*exp(-t/2))\nEq(x(t), 200 - 200*exp(-t/2))\nEq(x(t), 200 - 200*exp(-t/2))\nEq(x(t), 200 - 200*exp(-t/2))\nEq(x(t), 200 - 200*exp(-t/2))\nEq(x(t), 200 - 200*exp(-t/2))\nEq(x(t), 200 - 200*exp(-t/2))\nEq(x(t), 200 - 200*exp(-t/2))\nEq(x(t), 200 - 200*exp(-t/2))\nEq(x(t), 200 - 200*exp(-t/2))\nEq(x(t), 200 - 200*exp(-t/2))\nEq(x(t), 200 - 200*exp(-t/2))\nEq(x(t), 200 - 200*exp(-t/2))\nEq(x(t), 200 - 200*exp(-t/2))\nEq(x(t), 200 - 200*exp(-t/2))\nEq(x(t), 200 - 200*exp(-t/2))\nEq(x(t), 200 - 200*exp(-t/2))\nEq(x(t), 200 - 200*exp(-t/2))\nEq(x(t), 200 - 200*exp(-t/2))\nEq(x(t), 200 - 200*exp(-t/2))\nEq(x(t), 200 - 200*exp(-t/2))\nEq(x(t), 200 - 200*exp(-t/2))\nEq(x(t), 200 - 200*exp(-t/2))\nEq(x(t), 200 - 200*exp(-t/2))\nEq(x(t), 200 - 200*exp(-t/2))\nEq(x(t), 200 - 200*exp(-t/2))\nEq(x(t), 200 - 200*exp(-t/2))\nEq(x(t), 200 - 200*exp(-t/2))\nEq(x(t), 200 - 200*exp(-t/2))\nEq(x(t), 200 - 200*exp(-t/2))\nEq(x(t), 200 - 200*exp(-t/2))\nEq(x(t), 200 - 200*exp(-t/2))\nEq(x(t), 200 - 200*exp(-t/2))\nEq(x(t), 200 - 200*exp(-t/2))\nEq(x(t), 200 - 200*exp(-t/2))\nEq(x(t), 200 - 200*exp(-t/2))\nEq(x(t), 200 - 200*exp(-t/2))\nEq(x(t), 200 - 200*exp(-t/2))\nEq(x(t), 200 - 200*exp(-t/2))\nEq(x(t), 200 - 200*exp(-t/2))\nEq(x(t), 200 - 200*exp(-t/2))\nEq(x(t), 200 - 200*exp(-t/2))\nEq(x(t), 200 - 200*exp(-t/2))\nEq(x(t), 200 - 200*exp(-t/2))\nEq(x(t), 200 - 200*exp(-t/2))\nEq(x(t), 200 - 200*exp(-t/2))\nEq(x(t), 200 - 200*exp(-t/2))\nEq(x(t), 200 - 200*exp(-t/2))\nEq(x(t), 200 - 200*exp(-t/2))\nEq(x(t), 200 - 200*exp(-t/2))\nEq(x(t), 200 - 200*exp(-t/2))\nEq(x(t), 200 - 200*exp(-t/2))\nEq(x(t), 200 - 200*exp(-t/2))\nEq(x(t), 200 - 200*exp(-t/2))\nEq(x(t), 200 - 200*exp(-t/2))\nEq(x(t), 200 - 200*exp(-t/2))\nEq(x(t), 200 - 200*exp(-t/2))\nEq(x(t), 200 - 200*exp(-t/2))\nEq(x(t), 200 - 200*exp(-t/2))\nEq(x(t), 200 - 200*exp(-t/2))\nEq(x(t), 200 - 200*exp(-t/2))\nEq(x(t), 200 - 200*exp(-t/2))\nEq(x(t), 200 - 200*exp(-t/2))\nEq(x(t), 200 - 200*exp(-t/2))\nEq(x(t), 200 - 200*exp(-t/2))\nEq(x(t), 200 - 200*exp(-t/2))\nEq(x(t), 200 - 200*exp(-t/2))\nEq(x(t), 200 - 200*exp(-t/2))\nEq(x(t), 200 - 200*exp(-t/2))\nEq(x(t), 200 - 200*exp(-t/2))\nEq(x(t), 200 - 200*exp(-t/2))\nEq(x(t), 200 - 200*exp(-t/2))\nEq(x(t), 200 - 200*exp(-t/2))\nEq(x(t), 200 - 200*exp(-t/2))\nEq(x(t), 200 - 200*exp(-t/2))\nEq(x(t), 200 - 200*exp(-t/2))\nEq(x(t), 200 - 200*exp(-t/2))\nEq(x(t), 200 - 200*exp(-t/2))\nEq(x(t), 200 - 200*exp(-t/2))\nEq(x(t), 200 - 200*exp(-t/2))\nEq(x(t), 200 - 200*exp(-t/2))\nEq(x(t), 200 - 200*exp(-t/2))\nEq(x(t), 200 - 200*exp(-t/2))\nEq(x(t), 200 - 200*exp(-t/2))\nEq(x(t), 200 - 200*exp(-t/2))\nEq(x(t), 200 - 200*exp(-t/2))\nEq(x(t), 200 - 200*exp(-t/2))\nEq(x(t), 200 - 200*exp(-t/2))\nEq(x(t), 200 - 200*exp(-t/2))\nEq(x(t), 200 - 200*exp(-t/2))\nEq(x(t), 200 - 200*exp(-t/2))\nEq(x(t), 200 - 200*exp(-t/2))\nEq(x(t), 200 - 200*exp(-t/2))\nEq(x(t), 200 - 200*exp(-t/2))\nEq(x(t), 200 - 200*exp(-t/2))\nEq(x(t), 200 - 200*exp(-t/2))\nEq(x(t), 200 - 200*exp(-t/2))\nEq(x(t), 200 - 200*exp(-t/2))\nEq(x(t), 200 - 200*exp(-t/2))\nEq(x(t), 200 - 200*exp(-t/2))\nEq(x(t), 200 - 200*exp(-t/2))\nEq(x(t), 200 - 200*exp(-t/2))\nEq(x(t), 200 - 200*exp(-t/2))\nEq(x(t), 200 - 200*exp(-t/2))\nEq(x(t), 200 - 200*exp(-t/2))\nEq(x(t), 200 - 200*exp(-t/2))\nEq(x(t), 200 - 200*exp(-t/2))\nEq(x(t), 200 - 200*exp(-t/2))\nEq(x(t), 200 - 200*exp(-t/2))\nEq(x(t), 200 - 200*exp(-t/2))\nEq(x(t), 200 - 200*exp(-t/2))\nEq(x(t), 200 - 200*exp(-t/2))\nEq(x(t), 200 - 200*exp(-t/2))\nEq(x(t), 200 - 200*exp(-t/2))\nEq(x(t), 200 - 200*exp(-t/2))\nEq(x(t), 200 - 200*exp(-t/2))\nEq(x(t), 200 - 200*exp(-t/2))\nEq(x(t), 200 - 200*exp(-t/2))\nEq(x(t), 200 - 200*exp(-t/2))\nEq(x(t), 200 - 200*exp(-t/2))\nEq(x(t), 200 - 200*exp(-t/2))\nEq(x(t), 200 - 200*exp(-t/2))\nEq(x(t), 200 - 200*exp(-t/2))\nEq(x(t), 200 - 200*exp(-t/2))\nEq(x(t), 200 - 200*exp(-t/2))\nEq(x(t), 200 - 200*exp(-t/2))\nEq(x(t), 200 - 200*exp(-t/2))\nEq(x(t), 200 - 200*exp(-t/2))\nEq(x(t), 200 - 200*exp(-t/2))\nEq(x(t), 200 - 200*exp(-t/2))\nEq(x(t), 200 - 200*exp(-t/2))\nEq(x(t), 200 - 200*exp(-t/2))\nEq(x(t), 200 - 200*exp(-t/2))\nEq(x(t), 200 - 200*exp(-t/2))\nEq(x(t), 200 - 200*exp(-t/2))\nEq(x(t), 200 - 200*exp(-t/2))\nEq(x(t), 200 - 200*exp(-t/2))\nEq(x(t), 200 - 200*exp(-t/2))\nEq(x(t), 200 - 200*exp(-t/2))\nEq(x(t), 200 - 200*exp(-t/2))\nEq(x(t), 200 - 200*exp(-t/2))\nEq(x(t), 200 - 200*exp(-t/2))\nEq(x(t), 200 - 200*exp(-t/2))\nEq(x(t), 200 - 200*exp(-t/2))\nEq(x(t), 200 - 200*exp(-t/2))\nEq(x(t), 200 - 200*exp(-t/2))\nEq(x(t), 200 - 200*exp(-t/2))\nEq(x(t), 200 - 200*exp(-t/2))\nEq(x(t), 200 - 200*exp(-t/2))\nEq(x(t), 200 - 200*exp(-t/2))\nEq(x(t), 200 - 200*exp(-t/2))\nEq(x(t), 200 - 200*exp(-t/2))\nEq(x(t), 200 - 200*exp(-t/2))\nEq(x(t), 200 - 200*exp(-t/2))\nEq(x(t), 200 - 200*exp(-t/2))\nEq(x(t), 200 - 200*exp(-t/2))\nEq(x(t), 200 - 200*exp(-t/2))\nEq(x(t), 200 - 200*exp(-t/2))\nEq(x(t), 200 - 200*exp(-t/2))\nEq(x(t), 200 - 200*exp(-t/2))\nEq(x(t), 200 - 200*exp(-t/2))\nEq(x(t), 200 - 200*exp(-t/2))\nEq(x(t), 200 - 200*exp(-t/2))\nEq(x(t), 200 - 200*exp(-t/2))\nEq(x(t), 200 - 200*exp(-t/2))\nEq(x(t), 200 - 200*exp(-t/2))\nEq(x(t), 200 - 200*exp(-t/2))\nEq(x(t), 200 - 200*exp(-t/2))\nEq(x(t), 200 - 200*exp(-t/2))\nEq(x(t), 200 - 200*exp(-t/2))\nEq(x(t), 200 - 200*exp(-t/2))\nEq(x(t), 200 - 200*exp(-t/2))\nEq(x(t), 200 - 200*exp(-t/2))\nEq(x(t), 200 - 200*exp(-t/2))\nEq(x(t), 200 - 200*exp(-t/2))\nEq(x(t), 200 - 200*exp(-t/2))\nEq(x(t), 200 - 200*exp(-t/2))\nEq(x(t), 200 - 200*exp(-t/2))\nEq(x(t), 200 - 200*exp(-t/2))\nEq(x(t), 200 - 200*exp(-t/2))\nEq(x(t), 200 - 200*exp(-t/2))\nEq(x(t), 200 - 200*exp(-t/2))\nEq(x(t), 200 - 200*exp(-t/2))\nEq(x(t), 200 - 200*exp(-t/2))\nEq(x(t), 200 - 200*exp(-t/2))\nEq(x(t), 200 - 200*exp(-t/2))\nEq(x(t), 200 - 200*exp(-t/2))\nEq(x(t), 200 - 200*exp(-t/2))\nEq(x(t), 200 - 200*exp(-t/2))\nEq(x(t), 200 - 200*exp(-t/2))\nEq(x(t), 200 - 200*exp(-t/2))\nEq(x(t), 200 - 200*exp(-t/2))\nEq(x(t), 200 - 200*exp(-t/2))\nEq(x(t), 200 - 200*exp(-t/2))\nEq(x(t), 200 - 200*exp(-t/2))\nEq(x(t), 200 - 200*exp(-t/2))\nEq(x(t), 200 - 200*exp(-t/2))\nEq(x(t), 200 - 200*exp(-t/2))\nEq(x(t), 200 - 200*exp(-t/2))\nEq(x(t), 200 - 200*exp(-t/2))\nEq(x(t), 200 - 200*exp(-t/2))\nEq(x(t), 200 - 200*exp(-t/2))\nEq(x(t), 200 - 200*exp(-t/2))\nEq(x(t), 200 - 200*exp(-t/2))\nEq(x(t), 200 - 200*exp(-t/2))\nEq(x(t), 200 - 200*exp(-t/2))\nEq(x(t), 200 - 200*exp(-t/2))\nEq(x(t), 200 - 200*exp(-t/2))\nEq(x(t), 200 - 200*exp(-t/2))\nEq(x(t), 200 - 200*exp(-t/2))\nEq(x(t), 200 - 200*exp(-t/2))\nEq(x(t), 200 - 200*exp(-t/2))\nEq(x(t), 200 - 200*exp(-t/2))\nEq(x(t), 200 - 200*exp(-t/2))\nEq(x(t), 200 - 200*exp(-t/2))\nEq(x(t), 200 - 200*exp(-t/2))\nEq(x(t), 200 - 200*exp(-t/2))\nEq(x(t), 200 - 200*exp(-t/2))\nEq(x(t), 200 - 200*exp(-t/2))\nEq(x(t), 200 - 200*exp(-t/2))\nEq(x(t), 200 - 200*exp(-t/2))\nEq(x(t), 200 - 200*exp(-t/2))\nEq(x(t), 200 - 200*exp(-t/2))\nEq(x(t), 200 - 200*exp(-t/2))\nEq(x(t), 200 - 200*exp(-t/2))\nEq(x(t), 200 - 200*exp(-t/2))\nEq(x(t), 200 - 200*exp(-t/2))\nEq(x(t), 200 - 200*exp(-t/2))\nEq(x(t), 200 - 200*exp(-t/2))\nEq(x(t), 200 - 200*exp(-t/2))\nEq(x(t), 200 - 200*exp(-t/2))\nEq(x(t), 200 - 200*exp(-t/2))\nEq(x(t), 200 - 200*exp(-t/2))\nEq(x(t), 200 - 200*exp(-t/2))\nEq(x(t), 200 - 200*exp(-t/2))\nEq(x(t), 200 - 200*exp(-t/2))\nEq(x(t), 200 - 200*exp(-t/2))\nEq(x(t), 200 - 200*exp(-t/2))\nEq(x(t), 200 - 200*exp(-t/2))\nEq(x(t), 200 - 200*exp(-t/2))\nEq(x(t), 200 - 200*exp(-t/2))\nEq(x(t), 200 - 200*exp(-t/2))\nEq(x(t), 200 - 200*exp(-t/2))\nEq(x(t), 200 - 200*exp(-t/2))\nEq(x(t), 200 - 200*exp(-t/2))\nEq(x(t), 200 - 200*exp(-t/2))\nEq(x(t), 200 - 200*exp(-t/2))\nEq(x(t), 200 - 200*exp(-t/2))\nEq(x(t), 200 - 200*exp(-t/2))\nEq(x(t), 200 - 200*exp(-t/2))\nEq(x(t), 200 - 200*exp(-t/2))\nEq(x(t), 200 - 200*exp(-t/2))\nEq(x(t), 200 - 200*exp(-t/2))\nEq(x(t), 200 - 200*exp(-t/2))\nEq(x(t), 200 - 200*exp(-t/2))\nEq(x(t), 200 - 200*exp(-t/2))\nEq(x(t), 200 - 200*exp(-t/2))\nEq(x(t), 200 - 200*exp(-t/2))\nEq(x(t), 200 - 200*exp(-t/2))\nEq(x(t), 200 - 200*exp(-t/2))\nEq(x(t), 200 - 200*exp(-t/2))\nEq(x(t), 200 - 200*exp(-t/2))\nEq(x(t), 200 - 200*exp(-t/2))\nEq(x(t), 200 - 200*exp(-t/2))\nEq(x(t), 200 - 200*exp(-t/2))\nEq(x(t), 200 - 200*exp(-t/2))\nEq(x(t), 200 - 200*exp(-t/2))\nEq(x(t), 200 - 200*exp(-t/2))\nEq(x(t), 200 - 200*exp(-t/2))\nEq(x(t), 200 - 200*exp(-t/2))\nEq(x(t), 200 - 200*exp(-t/2))\nEq(x(t), 200 - 200*exp(-t/2))\nEq(x(t), 200 - 200*exp(-t/2))\nEq(x(t), 200 - 200*exp(-t/2))\nEq(x(t), 200 - 200*exp(-t/2))\nEq(x(t), 200 - 200*exp(-t/2))\nEq(x(t), 200 - 200*exp(-t/2))\nEq(x(t), 200 - 200*exp(-t/2))\nEq(x(t), 200 - 200*exp(-t/2))\nEq(x(t), 200 - 200*exp(-t/2))\nEq(x(t), 200 - 200*exp(-t/2))\nEq(x(t), 200 - 200*exp(-t/2))\nEq(x(t), 200 - 200*exp(-t/2))\nEq(x(t), 200 - 200*exp(-t/2))\nEq(x(t), 200 - 200*exp(-t/2))\nEq(x(t), 200 - 200*exp(-t/2))\nEq(x(t), 200 - 200*exp(-t/2))\nEq(x(t), 200 - 200*exp(-t/2))\nEq(x(t), 200 - 200*exp(-t/2))\nEq(x(t), 200 - 200*exp(-t/2))\nEq(x(t), 200 - 200*exp(-t/2))\nEq(x(t), 200 - 200*exp(-t/2))\nEq(x(t), 200 - 200*exp(-t/2))\nEq(x(t), 200 - 200*exp(-t/2))\nEq(x(t), 200 - 200*exp(-t/2))\nEq(x(t), 200 - 200*exp(-t/2))\nEq(x(t), 200 - 200*exp(-t/2))\nEq(x(t), 200 - 200*exp(-t/2))\nEq(x(t), 200 - 200*exp(-t/2))\nEq(x(t), 200 - 200*exp(-t/2))\nEq(x(t), 200 - 200*exp(-t/2))\nEq(x(t), 200 - 200*exp(-t/2))\nEq(x(t), 200 - 200*exp(-t/2))\nEq(x(t), 200 - 200*exp(-t/2))\nEq(x(t), 200 - 200*exp(-t/2))\nEq(x(t), 200 - 200*exp(-t/2))\nEq(x(t), 200 - 200*exp(-t/2))\nEq(x(t), 200 - 200*exp(-t/2))\nEq(x(t), 200 - 200*exp(-t/2))\nEq(x(t), 200 - 200*exp(-t/2))\nEq(x(t), 200 - 200*exp(-t/2))\nEq(x(t), 200 - 200*exp(-t/2))\nEq(x(t), 200 - 200*exp(-t/2))\nEq(x(t), 200 - 200*exp(-t/2))\nEq(x(t), 200 - 200*exp(-t/2))\nEq(x(t), 200 - 200*exp(-t/2))\nEq(x(t), 200 - 200*exp(-t/2))\nEq(x(t), 200 - 200*exp(-t/2))\nEq(x(t), 200 - 200*exp(-t/2))\nEq(x(t), 200 - 200*exp(-t/2))\nEq(x(t), 200 - 200*exp(-t/2))\nEq(x(t), 200 - 200*exp(-t/2))\nEq(x(t), 200 - 200*exp(-t/2))\nEq(x(t), 200 - 200*exp(-t/2))\nEq(x(t), 200 - 200*exp(-t/2))\nEq(x(t), 200 - 200*exp(-t/2))\nEq(x(t), 200 - 200*exp(-t/2))\nEq(x(t), 200 - 200*exp(-t/2))\nEq(x(t), 200 - 200*exp(-t/2))\nEq(x(t), 200 - 200*exp(-t/2))\nEq(x(t), 200 - 200*exp(-t/2))\nEq(x(t), 200 - 200*exp(-t/2))\nEq(x(t), 200 - 200*exp(-t/2))\nEq(x(t), 200 - 200*exp(-t/2))\nEq(x(t), 200 - 200*exp(-t/2))\nEq(x(t), 200 - 200*exp(-t/2))\nEq(x(t), 200 - 200*exp(-t/2))\nEq(x(t), 200 - 200*exp(-t/2))\nEq(x(t), 200 - 200*exp(-t/2))\nEq(x(t), 200 - 200*exp(-t/2))\nEq(x(t), 200 - 200*exp(-t/2))\nEq(x(t), 200 - 200*exp(-t/2))\nEq(x(t), 200 - 200*exp(-t/2))\nEq(x(t), 200 - 200*exp(-t/2))\nEq(x(t), 200 - 200*exp(-t/2))\nEq(x(t), 200 - 200*exp(-t/2))\nEq(x(t), 200 - 200*exp(-t/2))\nEq(x(t), 200 - 200*exp(-t/2))\nEq(x(t), 200 - 200*exp(-t/2))\nEq(x(t), 200 - 200*exp(-t/2))\nEq(x(t), 200 - 200*exp(-t/2))\nEq(x(t), 200 - 200*exp(-t/2))\nEq(x(t), 200 - 200*exp(-t/2))\nEq(x(t), 200 - 200*exp(-t/2))\nEq(x(t), 200 - 200*exp(-t/2))\nEq(x(t), 200 - 200*exp(-t/2))\nEq(x(t), 200 - 200*exp(-t/2))\nEq(x(t), 200 - 200*exp(-t/2))\nEq(x(t), 200 - 200*exp(-t/2))\nEq(x(t), 200 - 200*exp(-t/2))\nEq(x(t), 200 - 200*exp(-t/2))\nEq(x(t), 200 - 200*exp(-t/2))\nEq(x(t), 200 - 200*exp(-t/2))\nEq(x(t), 200 - 200*exp(-t/2))\nEq(x(t), 200 - 200*exp(-t/2))\nEq(x(t), 200 - 200*exp(-t/2))\nEq(x(t), 200 - 200*exp(-t/2))\nEq(x(t), 200 - 200*exp(-t/2))\nEq(x(t), 200 - 200*exp(-t/2))\nEq(x(t), 200 - 200*exp(-t/2))\nEq(x(t), 200 - 200*exp(-t/2))\nEq(x(t), 200 - 200*exp(-t/2))\nEq(x(t), 200 - 200*exp(-t/2))\nEq(x(t), 200 - 200*exp(-t/2))\nEq(x(t), 200 - 200*exp(-t/2))\nEq(x(t), 200 - 200*exp(-t/2))\nEq(x(t), 200 - 200*exp(-t/2))\nEq(x(t), 200 - 200*exp(-t/2))\nEq(x(t), 200 - 200*exp(-t/2))\nEq(x(t), 200 - 200*exp(-t/2))\nEq(x(t), 200 - 200*exp(-t/2))\nEq(x(t), 200 - 200*exp(-t/2))\nEq(x(t), 200 - 200*exp(-t/2))\nEq(x(t), 200 - 200*exp(-t/2))\nEq(x(t), 200 - 200*exp(-t/2))\nEq(x(t), 200 - 200*exp(-t/2))\nEq(x(t), 200 - 200*exp(-t/2))\nEq(x(t), 200 - 200*exp(-t/2))\nEq(x(t), 200 - 200*exp(-t/2))\nEq(x(t), 200 - 200*exp(-t/2))\nEq(x(t), 200 - 200*exp(-t/2))\nEq(x(t), 200 - 200*exp(-t/2))\nEq(x(t), 200 - 200*exp(-t/2))\nEq(x(t), 200 - 200*exp(-t/2))\nEq(x(t), 200 - 200*exp(-t/2))\nEq(x(t), 200 - 200*exp(-t/2))\nEq(x(t), 200 - 200*exp(-t/2))\nEq(x(t), 200 - 200*exp(-t/2))\nEq(x(t), 200 - 200*exp(-t/2))\nEq(x(t), 200 - 200*exp(-t/2))\nEq(x(t), 200 - 200*exp(-t/2))\nEq(x(t), 200 - 200*exp(-t/2))\nEq(x(t), 200 - 200*exp(-t/2))\nEq(x(t), 200 - 200*exp(-t/2))\nEq(x(t), 200 - 200*exp(-t/2))\nEq(x(t), 200 - 200*exp(-t/2))\nEq(x(t), 200 - 200*exp(-t/2))\nEq(x(t), 200 - 200*exp(-t/2))\nEq(x(t), 200 - 200*exp(-t/2))\nEq(x(t), 200 - 200*exp(-t/2))\nEq(x(t), 200 - 200*exp(-t/2))\nEq(x(t), 200 - 200*exp(-t/2))\nEq(x(t), 200 - 200*exp(-t/2))\nEq(x(t), 200 - 200*exp(-t/2))\nEq(x(t), 200 - 200*exp(-t/2))\nEq(x(t), 200 - 200*exp(-t/2))\nEq(x(t), 200 - 200*exp(-t/2))\nEq(x(t), 200 - 200*exp(-t/2))\nEq(x(t), 200 - 200*exp(-t/2))\nEq(x(t), 200 - 200*exp(-t/2))\nEq(x(t), 200 - 200*exp(-t/2))\nEq(x(t), 200 - 200*exp(-t/2))\nEq(x(t), 200 - 200*exp(-t/2))\nEq(x(t), 200 - 200*exp(-t/2))\nEq(x(t), 200 - 200*exp(-t/2))\nEq(x(t), 200 - 200*exp(-t/2))\nEq(x(t), 200 - 200*exp(-t/2))\nEq(x(t), 200 - 200*exp(-t/2))\nEq(x(t), 200 - 200*exp(-t/2))\nEq(x(t), 200 - 200*exp(-t/2))\nEq(x(t), 200 - 200*exp(-t/2))\nEq(x(t), 200 - 200*exp(-t/2))\nEq(x(t), 200 - 200*exp(-t/2))\nEq(x(t), 200 - 200*exp(-t/2))\nEq(x(t), 200 - 200*exp(-t/2))\nEq(x(t), 200 - 200*exp(-t/2))\nEq(x(t), 200 - 200*exp(-t/2))\nEq(x(t), 200 - 200*exp(-t/2))\nEq(x(t), 200 - 200*exp(-t/2))\nEq(x(t), 200 - 200*exp(-t/2))\nEq(x(t), 200 - 200*exp(-t/2))\nEq(x(t), 200 - 200*exp(-t/2))\nEq(x(t), 200 - 200*exp(-t/2))\nEq(x(t), 200 - 200*exp(-t/2))\nEq(x(t), 200 - 200*exp(-t/2))\nEq(x(t), 200 - 200*exp(-t/2))\nEq(x(t), 200 - 200*exp(-t/2))\nEq(x(t), 200 - 200*exp(-t/2))\nEq(x(t), 200 - 200*exp(-t/2))\nEq(x(t), 200 - 200*exp(-t/2))\nEq(x(t), 200 - 200*exp(-t/2))\nEq(x(t), 200 - 200*exp(-t/2))\nEq(x(t), 200 - 200*exp(-t/2))\nEq(x(t), 200 - 200*exp(-t/2))\nEq(x(t), 200 - 200*exp(-t/2))\nEq(x(t), 200 - 200*exp(-t/2))\nEq(x(t), 200 - 200*exp(-t/2))\nEq(x(t), 200 - 200*exp(-t/2))\nEq(x(t), 200 - 200*exp(-t/2))\nEq(x(t), 200 - 200*exp(-t/2))\nEq(x(t), 200 - 200*exp(-t/2))\nEq(x(t), 200 - 200*exp(-t/2))\nEq(x(t), 200 - 200*exp(-t/2))\nEq(x(t), 200 - 200*exp(-t/2))\nEq(x(t), 200 - 200*exp(-t/2))\nEq(x(t), 200 - 200*exp(-t/2))\nEq(x(t), 200 - 200*exp(-t/2))\nEq(x(t), 200 - 200*exp(-t/2))\nEq(x(t), 200 - 200*exp(-t/2))\nEq(x(t), 200 - 200*exp(-t/2))\nEq(x(t), 200 - 200*exp(-t/2))\nEq(x(t), 200 - 200*exp(-t/2))\nEq(x(t), 200 - 200*exp(-t/2))\nEq(x(t), 200 - 200*exp(-t/2))\nEq(x(t), 200 - 200*exp(-t/2))\nEq(x(t), 200 - 200*exp(-t/2))\nEq(x(t), 200 - 200*exp(-t/2))\nEq(x(t), 200 - 200*exp(-t/2))\nEq(x(t), 200 - 200*exp(-t/2))\nEq(x(t), 200 - 200*exp(-t/2))\nEq(x(t), 200 - 200*exp(-t/2))\nEq(x(t), 200 - 200*exp(-t/2))\nEq(x(t), 200 - 200*exp(-t/2))\nEq(x(t), 200 - 200*exp(-t/2))\nEq(x(t), 200 - 200*exp(-t/2))\nEq(x(t), 200 - 200*exp(-t/2))\nEq(x(t), 200 - 200*exp(-t/2))\nEq(x(t), 200 - 200*exp(-t/2))\nEq(x(t), 200 - 200*exp(-t/2))\nEq(x(t), 200 - 200*exp(-t/2))\nEq(x(t), 200 - 200*exp(-t/2))\nEq(x(t), 200 - 200*exp(-t/2))\nEq(x(t), 200 - 200*exp(-t/2))\nEq(x(t), 200 - 200*exp(-t/2))\nEq(x(t), 200 - 200*exp(-t/2))\nEq(x(t), 200 - 200*exp(-t/2))\nEq(x(t), 200 - 200*exp(-t/2))\nEq(x(t), 200 - 200*exp(-t/2))\nEq(x(t), 200 - 200*exp(-t/2))\nEq(x(t), 200 - 200*exp(-t/2))\nEq(x(t), 200 - 200*exp(-t/2))\nEq(x(t), 200 - 200*exp(-t/2))\nEq(x(t), 200 - 200*exp(-t/2))\nEq(x(t), 200 - 200*exp(-t/2))\nEq(x(t), 200 - 200*exp(-t/2))\nEq(x(t), 200 - 200*exp(-t/2))\nEq(x(t), 200 - 200*exp(-t/2))\nEq(x(t), 200 - 200*exp(-t/2))\nEq(x(t), 200 - 200*exp(-t/2))\nEq(x(t), 200 - 200*exp(-t/2))\nEq(x(t), 200 - 200*exp(-t/2))\nEq(x(t), 200 - 200*exp(-t/2))\nEq(x(t), 200 - 200*exp(-t/2))\nEq(x(t), 200 - 200*exp(-t/2))\nEq(x(t), 200 - 200*exp(-t/2))\nEq(x(t), 200 - 200*exp(-t/2))\nEq(x(t), 200 - 200*exp(-t/2))\nEq(x(t), 200 - 200*exp(-t/2))\nEq(x(t), 200 - 200*exp(-t/2))\nEq(x(t), 200 - 200*exp(-t/2))\nEq(x(t), 200 - 200*exp(-t/2))\nEq(x(t), 200 - 200*exp(-t/2))\nEq(x(t), 200 - 200*exp(-t/2))\nEq(x(t), 200 - 200*exp(-t/2))\nEq(x(t), 200 - 200*exp(-t/2))\nEq(x(t), 200 - 200*exp(-t/2))\nEq(x(t), 200 - 200*exp(-t/2))\nEq(x(t), 200 - 200*exp(-t/2))\nEq(x(t), 200 - 200*exp(-t/2))\nEq(x(t), 200 - 200*exp(-t/2))\nEq(x(t), 200 - 200*exp(-t/2))\nEq(x(t), 200 - 200*exp(-t/2))\nEq(x(t), 200 - 200*exp(-t/2))\nEq(x(t), 200 - 200*exp(-t/2))\nEq(x(t), 200 - 200*exp(-t/2))\nEq(x(t), 200 - 200*exp(-t/2))\nEq(x(t), 200 - 200*exp(-t/2))\nEq(x(t), 200 - 200*exp(-t/2))\nEq(x(t), 200 - 200*exp(-t/2))\nEq(x(t), 200 - 200*exp(-t/2))\nEq(x(t), 200 - 200*exp(-t/2))\nEq(x(t), 200 - 200*exp(-t/2))\nEq(x(t), 200 - 200*exp(-t/2))\nEq(x(t), 200 - 200*exp(-t/2))\nEq(x(t), 200 - 200*exp(-t/2))\nEq(x(t), 200 - 200*exp(-t/2))\nEq(x(t), 200 - 200*exp(-t/2))\nEq(x(t), 200 - 200*exp(-t/2))\nEq(x(t), 200 - 200*exp(-t/2))\nEq(x(t), 200 - 200*exp(-t/2))\nEq(x(t), 200 - 200*exp(-t/2))\nEq(x(t), 200 - 200*exp(-t/2))\nEq(x(t), 200 - 200*exp(-t/2))\nEq(x(t), 200 - 200*exp(-t/2))\nEq(x(t), 200 - 200*exp(-t/2))\nEq(x(t), 200 - 200*exp(-t/2))\nEq(x(t), 200 - 200*exp(-t/2))\nEq(x(t), 200 - 200*exp(-t/2))\nEq(x(t), 200 - 200*exp(-t/2))\nEq(x(t), 200 - 200*exp(-t/2))\nEq(x(t), 200 - 200*exp(-t/2))\nEq(x(t), 200 - 200*exp(-t/2))\nEq(x(t), 200 - 200*exp(-t/2))\nEq(x(t), 200 - 200*exp(-t/2))\nEq(x(t), 200 - 200*exp(-t/2))\nEq(x(t), 200 - 200*exp(-t/2))\nEq(x(t), 200 - 200*exp(-t/2))\nEq(x(t), 200 - 200*exp(-t/2))\nEq(x(t), 200 - 200*exp(-t/2))\n"
        },
        {
         "name": "stdout",
         "output_type": "stream",
         "text": "Eq(x(t), 200 - 200*exp(-t/2))\nEq(x(t), 200 - 200*exp(-t/2))\nEq(x(t), 200 - 200*exp(-t/2))\nEq(x(t), 200 - 200*exp(-t/2))\nEq(x(t), 200 - 200*exp(-t/2))\nEq(x(t), 200 - 200*exp(-t/2))\nEq(x(t), 200 - 200*exp(-t/2))\nEq(x(t), 200 - 200*exp(-t/2))\nEq(x(t), 200 - 200*exp(-t/2))\nEq(x(t), 200 - 200*exp(-t/2))\nEq(x(t), 200 - 200*exp(-t/2))\nEq(x(t), 200 - 200*exp(-t/2))\nEq(x(t), 200 - 200*exp(-t/2))\nEq(x(t), 200 - 200*exp(-t/2))\nEq(x(t), 200 - 200*exp(-t/2))\nEq(x(t), 200 - 200*exp(-t/2))\nEq(x(t), 200 - 200*exp(-t/2))\nEq(x(t), 200 - 200*exp(-t/2))\nEq(x(t), 200 - 200*exp(-t/2))\nEq(x(t), 200 - 200*exp(-t/2))\nEq(x(t), 200 - 200*exp(-t/2))\nEq(x(t), 200 - 200*exp(-t/2))\nEq(x(t), 200 - 200*exp(-t/2))\nEq(x(t), 200 - 200*exp(-t/2))\nEq(x(t), 200 - 200*exp(-t/2))\nEq(x(t), 200 - 200*exp(-t/2))\nEq(x(t), 200 - 200*exp(-t/2))\nEq(x(t), 200 - 200*exp(-t/2))\nEq(x(t), 200 - 200*exp(-t/2))\nEq(x(t), 200 - 200*exp(-t/2))\nEq(x(t), 200 - 200*exp(-t/2))\nEq(x(t), 200 - 200*exp(-t/2))\nEq(x(t), 200 - 200*exp(-t/2))\nEq(x(t), 200 - 200*exp(-t/2))\nEq(x(t), 200 - 200*exp(-t/2))\nEq(x(t), 200 - 200*exp(-t/2))\nEq(x(t), 200 - 200*exp(-t/2))\nEq(x(t), 200 - 200*exp(-t/2))\nEq(x(t), 200 - 200*exp(-t/2))\nEq(x(t), 200 - 200*exp(-t/2))\nEq(x(t), 200 - 200*exp(-t/2))\nEq(x(t), 200 - 200*exp(-t/2))\nEq(x(t), 200 - 200*exp(-t/2))\nEq(x(t), 200 - 200*exp(-t/2))\nEq(x(t), 200 - 200*exp(-t/2))\nEq(x(t), 200 - 200*exp(-t/2))\nEq(x(t), 200 - 200*exp(-t/2))\nEq(x(t), 200 - 200*exp(-t/2))\nEq(x(t), 200 - 200*exp(-t/2))\nEq(x(t), 200 - 200*exp(-t/2))\nEq(x(t), 200 - 200*exp(-t/2))\nEq(x(t), 200 - 200*exp(-t/2))\nEq(x(t), 200 - 200*exp(-t/2))\nEq(x(t), 200 - 200*exp(-t/2))\nEq(x(t), 200 - 200*exp(-t/2))\nEq(x(t), 200 - 200*exp(-t/2))\nEq(x(t), 200 - 200*exp(-t/2))\nEq(x(t), 200 - 200*exp(-t/2))\nEq(x(t), 200 - 200*exp(-t/2))\nEq(x(t), 200 - 200*exp(-t/2))\nEq(x(t), 200 - 200*exp(-t/2))\nEq(x(t), 200 - 200*exp(-t/2))\nEq(x(t), 200 - 200*exp(-t/2))\nEq(x(t), 200 - 200*exp(-t/2))\nEq(x(t), 200 - 200*exp(-t/2))\nEq(x(t), 200 - 200*exp(-t/2))\nEq(x(t), 200 - 200*exp(-t/2))\nEq(x(t), 200 - 200*exp(-t/2))\nEq(x(t), 200 - 200*exp(-t/2))\nEq(x(t), 200 - 200*exp(-t/2))\nEq(x(t), 200 - 200*exp(-t/2))\nEq(x(t), 200 - 200*exp(-t/2))\nEq(x(t), 200 - 200*exp(-t/2))\nEq(x(t), 200 - 200*exp(-t/2))\nEq(x(t), 200 - 200*exp(-t/2))\nEq(x(t), 200 - 200*exp(-t/2))\nEq(x(t), 200 - 200*exp(-t/2))\nEq(x(t), 200 - 200*exp(-t/2))\nEq(x(t), 200 - 200*exp(-t/2))\nEq(x(t), 200 - 200*exp(-t/2))\nEq(x(t), 200 - 200*exp(-t/2))\nEq(x(t), 200 - 200*exp(-t/2))\nEq(x(t), 200 - 200*exp(-t/2))\nEq(x(t), 200 - 200*exp(-t/2))\nEq(x(t), 200 - 200*exp(-t/2))\nEq(x(t), 200 - 200*exp(-t/2))\nEq(x(t), 200 - 200*exp(-t/2))\nEq(x(t), 200 - 200*exp(-t/2))\nEq(x(t), 200 - 200*exp(-t/2))\nEq(x(t), 200 - 200*exp(-t/2))\nEq(x(t), 200 - 200*exp(-t/2))\nEq(x(t), 200 - 200*exp(-t/2))\nEq(x(t), 200 - 200*exp(-t/2))\nEq(x(t), 200 - 200*exp(-t/2))\nEq(x(t), 200 - 200*exp(-t/2))\nEq(x(t), 200 - 200*exp(-t/2))\nEq(x(t), 200 - 200*exp(-t/2))\nEq(x(t), 200 - 200*exp(-t/2))\nEq(x(t), 200 - 200*exp(-t/2))\nEq(x(t), 200 - 200*exp(-t/2))\nEq(x(t), 200 - 200*exp(-t/2))\nEq(x(t), 200 - 200*exp(-t/2))\nEq(x(t), 200 - 200*exp(-t/2))\nEq(x(t), 200 - 200*exp(-t/2))\nEq(x(t), 200 - 200*exp(-t/2))\nEq(x(t), 200 - 200*exp(-t/2))\nEq(x(t), 200 - 200*exp(-t/2))\nEq(x(t), 200 - 200*exp(-t/2))\nEq(x(t), 200 - 200*exp(-t/2))\nEq(x(t), 200 - 200*exp(-t/2))\nEq(x(t), 200 - 200*exp(-t/2))\nEq(x(t), 200 - 200*exp(-t/2))\nEq(x(t), 200 - 200*exp(-t/2))\nEq(x(t), 200 - 200*exp(-t/2))\nEq(x(t), 200 - 200*exp(-t/2))\nEq(x(t), 200 - 200*exp(-t/2))\nEq(x(t), 200 - 200*exp(-t/2))\nEq(x(t), 200 - 200*exp(-t/2))\nEq(x(t), 200 - 200*exp(-t/2))\nEq(x(t), 200 - 200*exp(-t/2))\nEq(x(t), 200 - 200*exp(-t/2))\nEq(x(t), 200 - 200*exp(-t/2))\nEq(x(t), 200 - 200*exp(-t/2))\nEq(x(t), 200 - 200*exp(-t/2))\nEq(x(t), 200 - 200*exp(-t/2))\nEq(x(t), 200 - 200*exp(-t/2))\nEq(x(t), 200 - 200*exp(-t/2))\nEq(x(t), 200 - 200*exp(-t/2))\nEq(x(t), 200 - 200*exp(-t/2))\nEq(x(t), 200 - 200*exp(-t/2))\nEq(x(t), 200 - 200*exp(-t/2))\nEq(x(t), 200 - 200*exp(-t/2))\nEq(x(t), 200 - 200*exp(-t/2))\nEq(x(t), 200 - 200*exp(-t/2))\nEq(x(t), 200 - 200*exp(-t/2))\nEq(x(t), 200 - 200*exp(-t/2))\nEq(x(t), 200 - 200*exp(-t/2))\nEq(x(t), 200 - 200*exp(-t/2))\nEq(x(t), 200 - 200*exp(-t/2))\nEq(x(t), 200 - 200*exp(-t/2))\nEq(x(t), 200 - 200*exp(-t/2))\nEq(x(t), 200 - 200*exp(-t/2))\nEq(x(t), 200 - 200*exp(-t/2))\nEq(x(t), 200 - 200*exp(-t/2))\nEq(x(t), 200 - 200*exp(-t/2))\nEq(x(t), 200 - 200*exp(-t/2))\nEq(x(t), 200 - 200*exp(-t/2))\nEq(x(t), 200 - 200*exp(-t/2))\nEq(x(t), 200 - 200*exp(-t/2))\nEq(x(t), 200 - 200*exp(-t/2))\nEq(x(t), 200 - 200*exp(-t/2))\nEq(x(t), 200 - 200*exp(-t/2))\nEq(x(t), 200 - 200*exp(-t/2))\nEq(x(t), 200 - 200*exp(-t/2))\nEq(x(t), 200 - 200*exp(-t/2))\nEq(x(t), 200 - 200*exp(-t/2))\nEq(x(t), 200 - 200*exp(-t/2))\nEq(x(t), 200 - 200*exp(-t/2))\nEq(x(t), 200 - 200*exp(-t/2))\nEq(x(t), 200 - 200*exp(-t/2))\nEq(x(t), 200 - 200*exp(-t/2))\nEq(x(t), 200 - 200*exp(-t/2))\nEq(x(t), 200 - 200*exp(-t/2))\nEq(x(t), 200 - 200*exp(-t/2))\nEq(x(t), 200 - 200*exp(-t/2))\nEq(x(t), 200 - 200*exp(-t/2))\nEq(x(t), 200 - 200*exp(-t/2))\nEq(x(t), 200 - 200*exp(-t/2))\nEq(x(t), 200 - 200*exp(-t/2))\nEq(x(t), 200 - 200*exp(-t/2))\nEq(x(t), 200 - 200*exp(-t/2))\nEq(x(t), 200 - 200*exp(-t/2))\nEq(x(t), 200 - 200*exp(-t/2))\nEq(x(t), 200 - 200*exp(-t/2))\nEq(x(t), 200 - 200*exp(-t/2))\nEq(x(t), 200 - 200*exp(-t/2))\nEq(x(t), 200 - 200*exp(-t/2))\nEq(x(t), 200 - 200*exp(-t/2))\nEq(x(t), 200 - 200*exp(-t/2))\nEq(x(t), 200 - 200*exp(-t/2))\nEq(x(t), 200 - 200*exp(-t/2))\nEq(x(t), 200 - 200*exp(-t/2))\nEq(x(t), 200 - 200*exp(-t/2))\nEq(x(t), 200 - 200*exp(-t/2))\nEq(x(t), 200 - 200*exp(-t/2))\nEq(x(t), 200 - 200*exp(-t/2))\nEq(x(t), 200 - 200*exp(-t/2))\nEq(x(t), 200 - 200*exp(-t/2))\nEq(x(t), 200 - 200*exp(-t/2))\nEq(x(t), 200 - 200*exp(-t/2))\nEq(x(t), 200 - 200*exp(-t/2))\nEq(x(t), 200 - 200*exp(-t/2))\nEq(x(t), 200 - 200*exp(-t/2))\nEq(x(t), 200 - 200*exp(-t/2))\nEq(x(t), 200 - 200*exp(-t/2))\nEq(x(t), 200 - 200*exp(-t/2))\nEq(x(t), 200 - 200*exp(-t/2))\nEq(x(t), 200 - 200*exp(-t/2))\nEq(x(t), 200 - 200*exp(-t/2))\nEq(x(t), 200 - 200*exp(-t/2))\nEq(x(t), 200 - 200*exp(-t/2))\nEq(x(t), 200 - 200*exp(-t/2))\nEq(x(t), 200 - 200*exp(-t/2))\nEq(x(t), 200 - 200*exp(-t/2))\nEq(x(t), 200 - 200*exp(-t/2))\nEq(x(t), 200 - 200*exp(-t/2))\nEq(x(t), 200 - 200*exp(-t/2))\nEq(x(t), 200 - 200*exp(-t/2))\nEq(x(t), 200 - 200*exp(-t/2))\nEq(x(t), 200 - 200*exp(-t/2))\nEq(x(t), 200 - 200*exp(-t/2))\nEq(x(t), 200 - 200*exp(-t/2))\nEq(x(t), 200 - 200*exp(-t/2))\nEq(x(t), 200 - 200*exp(-t/2))\nEq(x(t), 200 - 200*exp(-t/2))\nEq(x(t), 200 - 200*exp(-t/2))\nEq(x(t), 200 - 200*exp(-t/2))\nEq(x(t), 200 - 200*exp(-t/2))\nEq(x(t), 200 - 200*exp(-t/2))\nEq(x(t), 200 - 200*exp(-t/2))\nEq(x(t), 200 - 200*exp(-t/2))\nEq(x(t), 200 - 200*exp(-t/2))\nEq(x(t), 200 - 200*exp(-t/2))\nEq(x(t), 200 - 200*exp(-t/2))\nEq(x(t), 200 - 200*exp(-t/2))\nEq(x(t), 200 - 200*exp(-t/2))\nEq(x(t), 200 - 200*exp(-t/2))\nEq(x(t), 200 - 200*exp(-t/2))\nEq(x(t), 200 - 200*exp(-t/2))\nEq(x(t), 200 - 200*exp(-t/2))\nEq(x(t), 200 - 200*exp(-t/2))\nEq(x(t), 200 - 200*exp(-t/2))\nEq(x(t), 200 - 200*exp(-t/2))\nEq(x(t), 200 - 200*exp(-t/2))\nEq(x(t), 200 - 200*exp(-t/2))\nEq(x(t), 200 - 200*exp(-t/2))\nEq(x(t), 200 - 200*exp(-t/2))\nEq(x(t), 200 - 200*exp(-t/2))\nEq(x(t), 200 - 200*exp(-t/2))\nEq(x(t), 200 - 200*exp(-t/2))\nEq(x(t), 200 - 200*exp(-t/2))\nEq(x(t), 200 - 200*exp(-t/2))\nEq(x(t), 200 - 200*exp(-t/2))\nEq(x(t), 200 - 200*exp(-t/2))\nEq(x(t), 200 - 200*exp(-t/2))\nEq(x(t), 200 - 200*exp(-t/2))\nEq(x(t), 200 - 200*exp(-t/2))\nEq(x(t), 200 - 200*exp(-t/2))\nEq(x(t), 200 - 200*exp(-t/2))\nEq(x(t), 200 - 200*exp(-t/2))\nEq(x(t), 200 - 200*exp(-t/2))\nEq(x(t), 200 - 200*exp(-t/2))\nEq(x(t), 200 - 200*exp(-t/2))\nEq(x(t), 200 - 200*exp(-t/2))\nEq(x(t), 200 - 200*exp(-t/2))\nEq(x(t), 200 - 200*exp(-t/2))\nEq(x(t), 200 - 200*exp(-t/2))\nEq(x(t), 200 - 200*exp(-t/2))\nEq(x(t), 200 - 200*exp(-t/2))\nEq(x(t), 200 - 200*exp(-t/2))\nEq(x(t), 200 - 200*exp(-t/2))\nEq(x(t), 200 - 200*exp(-t/2))\nEq(x(t), 200 - 200*exp(-t/2))\nEq(x(t), 200 - 200*exp(-t/2))\nEq(x(t), 200 - 200*exp(-t/2))\nEq(x(t), 200 - 200*exp(-t/2))\nEq(x(t), 200 - 200*exp(-t/2))\nEq(x(t), 200 - 200*exp(-t/2))\nEq(x(t), 200 - 200*exp(-t/2))\nEq(x(t), 200 - 200*exp(-t/2))\nEq(x(t), 200 - 200*exp(-t/2))\nEq(x(t), 200 - 200*exp(-t/2))\nEq(x(t), 200 - 200*exp(-t/2))\nEq(x(t), 200 - 200*exp(-t/2))\nEq(x(t), 200 - 200*exp(-t/2))\nEq(x(t), 200 - 200*exp(-t/2))\nEq(x(t), 200 - 200*exp(-t/2))\nEq(x(t), 200 - 200*exp(-t/2))\nEq(x(t), 200 - 200*exp(-t/2))\nEq(x(t), 200 - 200*exp(-t/2))\nEq(x(t), 200 - 200*exp(-t/2))\nEq(x(t), 200 - 200*exp(-t/2))\nEq(x(t), 200 - 200*exp(-t/2))\nEq(x(t), 200 - 200*exp(-t/2))\nEq(x(t), 200 - 200*exp(-t/2))\nEq(x(t), 200 - 200*exp(-t/2))\nEq(x(t), 200 - 200*exp(-t/2))\nEq(x(t), 200 - 200*exp(-t/2))\nEq(x(t), 200 - 200*exp(-t/2))\nEq(x(t), 200 - 200*exp(-t/2))\nEq(x(t), 200 - 200*exp(-t/2))\nEq(x(t), 200 - 200*exp(-t/2))\nEq(x(t), 200 - 200*exp(-t/2))\nEq(x(t), 200 - 200*exp(-t/2))\nEq(x(t), 200 - 200*exp(-t/2))\nEq(x(t), 200 - 200*exp(-t/2))\nEq(x(t), 200 - 200*exp(-t/2))\nEq(x(t), 200 - 200*exp(-t/2))\nEq(x(t), 200 - 200*exp(-t/2))\nEq(x(t), 200 - 200*exp(-t/2))\nEq(x(t), 200 - 200*exp(-t/2))\nEq(x(t), 200 - 200*exp(-t/2))\nEq(x(t), 200 - 200*exp(-t/2))\nEq(x(t), 200 - 200*exp(-t/2))\nEq(x(t), 200 - 200*exp(-t/2))\nEq(x(t), 200 - 200*exp(-t/2))\nEq(x(t), 200 - 200*exp(-t/2))\nEq(x(t), 200 - 200*exp(-t/2))\nEq(x(t), 200 - 200*exp(-t/2))\nEq(x(t), 200 - 200*exp(-t/2))\nEq(x(t), 200 - 200*exp(-t/2))\nEq(x(t), 200 - 200*exp(-t/2))\nEq(x(t), 200 - 200*exp(-t/2))\nEq(x(t), 200 - 200*exp(-t/2))\nEq(x(t), 200 - 200*exp(-t/2))\nEq(x(t), 200 - 200*exp(-t/2))\nEq(x(t), 200 - 200*exp(-t/2))\nEq(x(t), 200 - 200*exp(-t/2))\nEq(x(t), 200 - 200*exp(-t/2))\nEq(x(t), 200 - 200*exp(-t/2))\nEq(x(t), 200 - 200*exp(-t/2))\nEq(x(t), 200 - 200*exp(-t/2))\nEq(x(t), 200 - 200*exp(-t/2))\nEq(x(t), 200 - 200*exp(-t/2))\nEq(x(t), 200 - 200*exp(-t/2))\nEq(x(t), 200 - 200*exp(-t/2))\nEq(x(t), 200 - 200*exp(-t/2))\nEq(x(t), 200 - 200*exp(-t/2))\nEq(x(t), 200 - 200*exp(-t/2))\nEq(x(t), 200 - 200*exp(-t/2))\nEq(x(t), 200 - 200*exp(-t/2))\nEq(x(t), 200 - 200*exp(-t/2))\nEq(x(t), 200 - 200*exp(-t/2))\nEq(x(t), 200 - 200*exp(-t/2))\nEq(x(t), 200 - 200*exp(-t/2))\nEq(x(t), 200 - 200*exp(-t/2))\nEq(x(t), 200 - 200*exp(-t/2))\nEq(x(t), 200 - 200*exp(-t/2))\nEq(x(t), 200 - 200*exp(-t/2))\nEq(x(t), 200 - 200*exp(-t/2))\nEq(x(t), 200 - 200*exp(-t/2))\nEq(x(t), 200 - 200*exp(-t/2))\nEq(x(t), 200 - 200*exp(-t/2))\nEq(x(t), 200 - 200*exp(-t/2))\nEq(x(t), 200 - 200*exp(-t/2))\nEq(x(t), 200 - 200*exp(-t/2))\nEq(x(t), 200 - 200*exp(-t/2))\nEq(x(t), 200 - 200*exp(-t/2))\nEq(x(t), 200 - 200*exp(-t/2))\nEq(x(t), 200 - 200*exp(-t/2))\nEq(x(t), 200 - 200*exp(-t/2))\nEq(x(t), 200 - 200*exp(-t/2))\nEq(x(t), 200 - 200*exp(-t/2))\nEq(x(t), 200 - 200*exp(-t/2))\nEq(x(t), 200 - 200*exp(-t/2))\nEq(x(t), 200 - 200*exp(-t/2))\nEq(x(t), 200 - 200*exp(-t/2))\nEq(x(t), 200 - 200*exp(-t/2))\nEq(x(t), 200 - 200*exp(-t/2))\nEq(x(t), 200 - 200*exp(-t/2))\nEq(x(t), 200 - 200*exp(-t/2))\nEq(x(t), 200 - 200*exp(-t/2))\nEq(x(t), 200 - 200*exp(-t/2))\nEq(x(t), 200 - 200*exp(-t/2))\nEq(x(t), 200 - 200*exp(-t/2))\nEq(x(t), 200 - 200*exp(-t/2))\nEq(x(t), 200 - 200*exp(-t/2))\nEq(x(t), 200 - 200*exp(-t/2))\nEq(x(t), 200 - 200*exp(-t/2))\nEq(x(t), 200 - 200*exp(-t/2))\nEq(x(t), 200 - 200*exp(-t/2))\nEq(x(t), 200 - 200*exp(-t/2))\nEq(x(t), 200 - 200*exp(-t/2))\nEq(x(t), 200 - 200*exp(-t/2))\nEq(x(t), 200 - 200*exp(-t/2))\nEq(x(t), 200 - 200*exp(-t/2))\nEq(x(t), 200 - 200*exp(-t/2))\nEq(x(t), 200 - 200*exp(-t/2))\nEq(x(t), 200 - 200*exp(-t/2))\nEq(x(t), 200 - 200*exp(-t/2))\nEq(x(t), 200 - 200*exp(-t/2))\nEq(x(t), 200 - 200*exp(-t/2))\nEq(x(t), 200 - 200*exp(-t/2))\nEq(x(t), 200 - 200*exp(-t/2))\nEq(x(t), 200 - 200*exp(-t/2))\nEq(x(t), 200 - 200*exp(-t/2))\nEq(x(t), 200 - 200*exp(-t/2))\nEq(x(t), 200 - 200*exp(-t/2))\nEq(x(t), 200 - 200*exp(-t/2))\nEq(x(t), 200 - 200*exp(-t/2))\nEq(x(t), 200 - 200*exp(-t/2))\nEq(x(t), 200 - 200*exp(-t/2))\nEq(x(t), 200 - 200*exp(-t/2))\nEq(x(t), 200 - 200*exp(-t/2))\nEq(x(t), 200 - 200*exp(-t/2))\nEq(x(t), 200 - 200*exp(-t/2))\nEq(x(t), 200 - 200*exp(-t/2))\nEq(x(t), 200 - 200*exp(-t/2))\nEq(x(t), 200 - 200*exp(-t/2))\nEq(x(t), 200 - 200*exp(-t/2))\nEq(x(t), 200 - 200*exp(-t/2))\nEq(x(t), 200 - 200*exp(-t/2))\nEq(x(t), 200 - 200*exp(-t/2))\nEq(x(t), 200 - 200*exp(-t/2))\nEq(x(t), 200 - 200*exp(-t/2))\nEq(x(t), 200 - 200*exp(-t/2))\nEq(x(t), 200 - 200*exp(-t/2))\nEq(x(t), 200 - 200*exp(-t/2))\nEq(x(t), 200 - 200*exp(-t/2))\nEq(x(t), 200 - 200*exp(-t/2))\nEq(x(t), 200 - 200*exp(-t/2))\nEq(x(t), 200 - 200*exp(-t/2))\nEq(x(t), 200 - 200*exp(-t/2))\nEq(x(t), 200 - 200*exp(-t/2))\nEq(x(t), 200 - 200*exp(-t/2))\nEq(x(t), 200 - 200*exp(-t/2))\nEq(x(t), 200 - 200*exp(-t/2))\nEq(x(t), 200 - 200*exp(-t/2))\nEq(x(t), 200 - 200*exp(-t/2))\nEq(x(t), 200 - 200*exp(-t/2))\nEq(x(t), 200 - 200*exp(-t/2))\nEq(x(t), 200 - 200*exp(-t/2))\nEq(x(t), 200 - 200*exp(-t/2))\nEq(x(t), 200 - 200*exp(-t/2))\nEq(x(t), 200 - 200*exp(-t/2))\nEq(x(t), 200 - 200*exp(-t/2))\nEq(x(t), 200 - 200*exp(-t/2))\nEq(x(t), 200 - 200*exp(-t/2))\nEq(x(t), 200 - 200*exp(-t/2))\nEq(x(t), 200 - 200*exp(-t/2))\nEq(x(t), 200 - 200*exp(-t/2))\nEq(x(t), 200 - 200*exp(-t/2))\nEq(x(t), 200 - 200*exp(-t/2))\nEq(x(t), 200 - 200*exp(-t/2))\nEq(x(t), 200 - 200*exp(-t/2))\nEq(x(t), 200 - 200*exp(-t/2))\nEq(x(t), 200 - 200*exp(-t/2))\nEq(x(t), 200 - 200*exp(-t/2))\nEq(x(t), 200 - 200*exp(-t/2))\nEq(x(t), 200 - 200*exp(-t/2))\nEq(x(t), 200 - 200*exp(-t/2))\nEq(x(t), 200 - 200*exp(-t/2))\nEq(x(t), 200 - 200*exp(-t/2))\nEq(x(t), 200 - 200*exp(-t/2))\nEq(x(t), 200 - 200*exp(-t/2))\nEq(x(t), 200 - 200*exp(-t/2))\nEq(x(t), 200 - 200*exp(-t/2))\nEq(x(t), 200 - 200*exp(-t/2))\nEq(x(t), 200 - 200*exp(-t/2))\nEq(x(t), 200 - 200*exp(-t/2))\nEq(x(t), 200 - 200*exp(-t/2))\nEq(x(t), 200 - 200*exp(-t/2))\nEq(x(t), 200 - 200*exp(-t/2))\nEq(x(t), 200 - 200*exp(-t/2))\nEq(x(t), 200 - 200*exp(-t/2))\nEq(x(t), 200 - 200*exp(-t/2))\nEq(x(t), 200 - 200*exp(-t/2))\nEq(x(t), 200 - 200*exp(-t/2))\nEq(x(t), 200 - 200*exp(-t/2))\nEq(x(t), 200 - 200*exp(-t/2))\nEq(x(t), 200 - 200*exp(-t/2))\nEq(x(t), 200 - 200*exp(-t/2))\nEq(x(t), 200 - 200*exp(-t/2))\nEq(x(t), 200 - 200*exp(-t/2))\nEq(x(t), 200 - 200*exp(-t/2))\nEq(x(t), 200 - 200*exp(-t/2))\nEq(x(t), 200 - 200*exp(-t/2))\nEq(x(t), 200 - 200*exp(-t/2))\nEq(x(t), 200 - 200*exp(-t/2))\nEq(x(t), 200 - 200*exp(-t/2))\nEq(x(t), 200 - 200*exp(-t/2))\nEq(x(t), 200 - 200*exp(-t/2))\nEq(x(t), 200 - 200*exp(-t/2))\nEq(x(t), 200 - 200*exp(-t/2))\nEq(x(t), 200 - 200*exp(-t/2))\nEq(x(t), 200 - 200*exp(-t/2))\nEq(x(t), 200 - 200*exp(-t/2))\nEq(x(t), 200 - 200*exp(-t/2))\nEq(x(t), 200 - 200*exp(-t/2))\nEq(x(t), 200 - 200*exp(-t/2))\nEq(x(t), 200 - 200*exp(-t/2))\nEq(x(t), 200 - 200*exp(-t/2))\nEq(x(t), 200 - 200*exp(-t/2))\nEq(x(t), 200 - 200*exp(-t/2))\nEq(x(t), 200 - 200*exp(-t/2))\nEq(x(t), 200 - 200*exp(-t/2))\nEq(x(t), 200 - 200*exp(-t/2))\nEq(x(t), 200 - 200*exp(-t/2))\nEq(x(t), 200 - 200*exp(-t/2))\nEq(x(t), 200 - 200*exp(-t/2))\nEq(x(t), 200 - 200*exp(-t/2))\nEq(x(t), 200 - 200*exp(-t/2))\nEq(x(t), 200 - 200*exp(-t/2))\nEq(x(t), 200 - 200*exp(-t/2))\nEq(x(t), 200 - 200*exp(-t/2))\nEq(x(t), 200 - 200*exp(-t/2))\nEq(x(t), 200 - 200*exp(-t/2))\nEq(x(t), 200 - 200*exp(-t/2))\nEq(x(t), 200 - 200*exp(-t/2))\nEq(x(t), 200 - 200*exp(-t/2))\nEq(x(t), 200 - 200*exp(-t/2))\nEq(x(t), 200 - 200*exp(-t/2))\nEq(x(t), 200 - 200*exp(-t/2))\nEq(x(t), 200 - 200*exp(-t/2))\nEq(x(t), 200 - 200*exp(-t/2))\nEq(x(t), 200 - 200*exp(-t/2))\nEq(x(t), 200 - 200*exp(-t/2))\nEq(x(t), 200 - 200*exp(-t/2))\nEq(x(t), 200 - 200*exp(-t/2))\nEq(x(t), 200 - 200*exp(-t/2))\nEq(x(t), 200 - 200*exp(-t/2))\nEq(x(t), 200 - 200*exp(-t/2))\nEq(x(t), 200 - 200*exp(-t/2))\nEq(x(t), 200 - 200*exp(-t/2))\nEq(x(t), 200 - 200*exp(-t/2))\nEq(x(t), 200 - 200*exp(-t/2))\nEq(x(t), 200 - 200*exp(-t/2))\nEq(x(t), 200 - 200*exp(-t/2))\nEq(x(t), 200 - 200*exp(-t/2))\nEq(x(t), 200 - 200*exp(-t/2))\nEq(x(t), 200 - 200*exp(-t/2))\nEq(x(t), 200 - 200*exp(-t/2))\nEq(x(t), 200 - 200*exp(-t/2))\nEq(x(t), 200 - 200*exp(-t/2))\nEq(x(t), 200 - 200*exp(-t/2))\nEq(x(t), 200 - 200*exp(-t/2))\nEq(x(t), 200 - 200*exp(-t/2))\nEq(x(t), 200 - 200*exp(-t/2))\nEq(x(t), 200 - 200*exp(-t/2))\nEq(x(t), 200 - 200*exp(-t/2))\nEq(x(t), 200 - 200*exp(-t/2))\nEq(x(t), 200 - 200*exp(-t/2))\nEq(x(t), 200 - 200*exp(-t/2))\nEq(x(t), 200 - 200*exp(-t/2))\nEq(x(t), 200 - 200*exp(-t/2))\nEq(x(t), 200 - 200*exp(-t/2))\nEq(x(t), 200 - 200*exp(-t/2))\nEq(x(t), 200 - 200*exp(-t/2))\nEq(x(t), 200 - 200*exp(-t/2))\nEq(x(t), 200 - 200*exp(-t/2))\nEq(x(t), 200 - 200*exp(-t/2))\nEq(x(t), 200 - 200*exp(-t/2))\nEq(x(t), 200 - 200*exp(-t/2))\nEq(x(t), 200 - 200*exp(-t/2))\nEq(x(t), 200 - 200*exp(-t/2))\nEq(x(t), 200 - 200*exp(-t/2))\nEq(x(t), 200 - 200*exp(-t/2))\nEq(x(t), 200 - 200*exp(-t/2))\nEq(x(t), 200 - 200*exp(-t/2))\nEq(x(t), 200 - 200*exp(-t/2))\nEq(x(t), 200 - 200*exp(-t/2))\nEq(x(t), 200 - 200*exp(-t/2))\nEq(x(t), 200 - 200*exp(-t/2))\nEq(x(t), 200 - 200*exp(-t/2))\nEq(x(t), 200 - 200*exp(-t/2))\nEq(x(t), 200 - 200*exp(-t/2))\nEq(x(t), 200 - 200*exp(-t/2))\nEq(x(t), 200 - 200*exp(-t/2))\nEq(x(t), 200 - 200*exp(-t/2))\nEq(x(t), 200 - 200*exp(-t/2))\nEq(x(t), 200 - 200*exp(-t/2))\nEq(x(t), 200 - 200*exp(-t/2))\nEq(x(t), 200 - 200*exp(-t/2))\nEq(x(t), 200 - 200*exp(-t/2))\nEq(x(t), 200 - 200*exp(-t/2))\nEq(x(t), 200 - 200*exp(-t/2))\nEq(x(t), 200 - 200*exp(-t/2))\nEq(x(t), 200 - 200*exp(-t/2))\nEq(x(t), 200 - 200*exp(-t/2))\nEq(x(t), 200 - 200*exp(-t/2))\nEq(x(t), 200 - 200*exp(-t/2))\nEq(x(t), 200 - 200*exp(-t/2))\nEq(x(t), 200 - 200*exp(-t/2))\nEq(x(t), 200 - 200*exp(-t/2))\nEq(x(t), 200 - 200*exp(-t/2))\nEq(x(t), 200 - 200*exp(-t/2))\nEq(x(t), 200 - 200*exp(-t/2))\nEq(x(t), 200 - 200*exp(-t/2))\nEq(x(t), 200 - 200*exp(-t/2))\nEq(x(t), 200 - 200*exp(-t/2))\nEq(x(t), 200 - 200*exp(-t/2))\nEq(x(t), 200 - 200*exp(-t/2))\nEq(x(t), 200 - 200*exp(-t/2))\nEq(x(t), 200 - 200*exp(-t/2))\nEq(x(t), 200 - 200*exp(-t/2))\nEq(x(t), 200 - 200*exp(-t/2))\nEq(x(t), 200 - 200*exp(-t/2))\nEq(x(t), 200 - 200*exp(-t/2))\nEq(x(t), 200 - 200*exp(-t/2))\nEq(x(t), 200 - 200*exp(-t/2))\nEq(x(t), 200 - 200*exp(-t/2))\nEq(x(t), 200 - 200*exp(-t/2))\nEq(x(t), 200 - 200*exp(-t/2))\nEq(x(t), 200 - 200*exp(-t/2))\nEq(x(t), 200 - 200*exp(-t/2))\nEq(x(t), 200 - 200*exp(-t/2))\nEq(x(t), 200 - 200*exp(-t/2))\nEq(x(t), 200 - 200*exp(-t/2))\nEq(x(t), 200 - 200*exp(-t/2))\nEq(x(t), 200 - 200*exp(-t/2))\nEq(x(t), 200 - 200*exp(-t/2))\nEq(x(t), 200 - 200*exp(-t/2))\nEq(x(t), 200 - 200*exp(-t/2))\nEq(x(t), 200 - 200*exp(-t/2))\nEq(x(t), 200 - 200*exp(-t/2))\nEq(x(t), 200 - 200*exp(-t/2))\nEq(x(t), 200 - 200*exp(-t/2))\nEq(x(t), 200 - 200*exp(-t/2))\nEq(x(t), 200 - 200*exp(-t/2))\nEq(x(t), 200 - 200*exp(-t/2))\nEq(x(t), 200 - 200*exp(-t/2))\nEq(x(t), 200 - 200*exp(-t/2))\nEq(x(t), 200 - 200*exp(-t/2))\nEq(x(t), 200 - 200*exp(-t/2))\nEq(x(t), 200 - 200*exp(-t/2))\nEq(x(t), 200 - 200*exp(-t/2))\nEq(x(t), 200 - 200*exp(-t/2))\nEq(x(t), 200 - 200*exp(-t/2))\nEq(x(t), 200 - 200*exp(-t/2))\nEq(x(t), 200 - 200*exp(-t/2))\nEq(x(t), 200 - 200*exp(-t/2))\nEq(x(t), 200 - 200*exp(-t/2))\nEq(x(t), 200 - 200*exp(-t/2))\nEq(x(t), 200 - 200*exp(-t/2))\nEq(x(t), 200 - 200*exp(-t/2))\nEq(x(t), 200 - 200*exp(-t/2))\nEq(x(t), 200 - 200*exp(-t/2))\nEq(x(t), 200 - 200*exp(-t/2))\nEq(x(t), 200 - 200*exp(-t/2))\nEq(x(t), 200 - 200*exp(-t/2))\nEq(x(t), 200 - 200*exp(-t/2))\nEq(x(t), 200 - 200*exp(-t/2))\nEq(x(t), 200 - 200*exp(-t/2))\nEq(x(t), 200 - 200*exp(-t/2))\nEq(x(t), 200 - 200*exp(-t/2))\nEq(x(t), 200 - 200*exp(-t/2))\nEq(x(t), 200 - 200*exp(-t/2))\nEq(x(t), 200 - 200*exp(-t/2))\nEq(x(t), 200 - 200*exp(-t/2))\nEq(x(t), 200 - 200*exp(-t/2))\nEq(x(t), 200 - 200*exp(-t/2))\nEq(x(t), 200 - 200*exp(-t/2))\nEq(x(t), 200 - 200*exp(-t/2))\nEq(x(t), 200 - 200*exp(-t/2))\nEq(x(t), 200 - 200*exp(-t/2))\nEq(x(t), 200 - 200*exp(-t/2))\nEq(x(t), 200 - 200*exp(-t/2))\nEq(x(t), 200 - 200*exp(-t/2))\nEq(x(t), 200 - 200*exp(-t/2))\nEq(x(t), 200 - 200*exp(-t/2))\nEq(x(t), 200 - 200*exp(-t/2))\nEq(x(t), 200 - 200*exp(-t/2))\nEq(x(t), 200 - 200*exp(-t/2))\nEq(x(t), 200 - 200*exp(-t/2))\nEq(x(t), 200 - 200*exp(-t/2))\nEq(x(t), 200 - 200*exp(-t/2))\nEq(x(t), 200 - 200*exp(-t/2))\nEq(x(t), 200 - 200*exp(-t/2))\nEq(x(t), 200 - 200*exp(-t/2))\nEq(x(t), 200 - 200*exp(-t/2))\nEq(x(t), 200 - 200*exp(-t/2))\nEq(x(t), 200 - 200*exp(-t/2))\nEq(x(t), 200 - 200*exp(-t/2))\nEq(x(t), 200 - 200*exp(-t/2))\nEq(x(t), 200 - 200*exp(-t/2))\nEq(x(t), 200 - 200*exp(-t/2))\nEq(x(t), 200 - 200*exp(-t/2))\nEq(x(t), 200 - 200*exp(-t/2))\nEq(x(t), 200 - 200*exp(-t/2))\nEq(x(t), 200 - 200*exp(-t/2))\nEq(x(t), 200 - 200*exp(-t/2))\nEq(x(t), 200 - 200*exp(-t/2))\nEq(x(t), 200 - 200*exp(-t/2))\nEq(x(t), 200 - 200*exp(-t/2))\nEq(x(t), 200 - 200*exp(-t/2))\nEq(x(t), 200 - 200*exp(-t/2))\nEq(x(t), 200 - 200*exp(-t/2))\nEq(x(t), 200 - 200*exp(-t/2))\nEq(x(t), 200 - 200*exp(-t/2))\nEq(x(t), 200 - 200*exp(-t/2))\nEq(x(t), 200 - 200*exp(-t/2))\nEq(x(t), 200 - 200*exp(-t/2))\nEq(x(t), 200 - 200*exp(-t/2))\nEq(x(t), 200 - 200*exp(-t/2))\nEq(x(t), 200 - 200*exp(-t/2))\nEq(x(t), 200 - 200*exp(-t/2))\nEq(x(t), 200 - 200*exp(-t/2))\nEq(x(t), 200 - 200*exp(-t/2))\nEq(x(t), 200 - 200*exp(-t/2))\nEq(x(t), 200 - 200*exp(-t/2))\nEq(x(t), 200 - 200*exp(-t/2))\nEq(x(t), 200 - 200*exp(-t/2))\nEq(x(t), 200 - 200*exp(-t/2))\nEq(x(t), 200 - 200*exp(-t/2))\nEq(x(t), 200 - 200*exp(-t/2))\nEq(x(t), 200 - 200*exp(-t/2))\nEq(x(t), 200 - 200*exp(-t/2))\nEq(x(t), 200 - 200*exp(-t/2))\nEq(x(t), 200 - 200*exp(-t/2))\nEq(x(t), 200 - 200*exp(-t/2))\nEq(x(t), 200 - 200*exp(-t/2))\nEq(x(t), 200 - 200*exp(-t/2))\nEq(x(t), 200 - 200*exp(-t/2))\nEq(x(t), 200 - 200*exp(-t/2))\nEq(x(t), 200 - 200*exp(-t/2))\nEq(x(t), 200 - 200*exp(-t/2))\nEq(x(t), 200 - 200*exp(-t/2))\nEq(x(t), 200 - 200*exp(-t/2))\nEq(x(t), 200 - 200*exp(-t/2))\nEq(x(t), 200 - 200*exp(-t/2))\nEq(x(t), 200 - 200*exp(-t/2))\nEq(x(t), 200 - 200*exp(-t/2))\nEq(x(t), 200 - 200*exp(-t/2))\nEq(x(t), 200 - 200*exp(-t/2))\nEq(x(t), 200 - 200*exp(-t/2))\nEq(x(t), 200 - 200*exp(-t/2))\nEq(x(t), 200 - 200*exp(-t/2))\nEq(x(t), 200 - 200*exp(-t/2))\nEq(x(t), 200 - 200*exp(-t/2))\nEq(x(t), 200 - 200*exp(-t/2))\nEq(x(t), 200 - 200*exp(-t/2))\nEq(x(t), 200 - 200*exp(-t/2))\nEq(x(t), 200 - 200*exp(-t/2))\nEq(x(t), 200 - 200*exp(-t/2))\nEq(x(t), 200 - 200*exp(-t/2))\nEq(x(t), 200 - 200*exp(-t/2))\nEq(x(t), 200 - 200*exp(-t/2))\nEq(x(t), 200 - 200*exp(-t/2))\nEq(x(t), 200 - 200*exp(-t/2))\nEq(x(t), 200 - 200*exp(-t/2))\nEq(x(t), 200 - 200*exp(-t/2))\nEq(x(t), 200 - 200*exp(-t/2))\nEq(x(t), 200 - 200*exp(-t/2))\nEq(x(t), 200 - 200*exp(-t/2))\nEq(x(t), 200 - 200*exp(-t/2))\nEq(x(t), 200 - 200*exp(-t/2))\nEq(x(t), 200 - 200*exp(-t/2))\nEq(x(t), 200 - 200*exp(-t/2))\nEq(x(t), 200 - 200*exp(-t/2))\nEq(x(t), 200 - 200*exp(-t/2))\nEq(x(t), 200 - 200*exp(-t/2))\nEq(x(t), 200 - 200*exp(-t/2))\nEq(x(t), 200 - 200*exp(-t/2))\nEq(x(t), 200 - 200*exp(-t/2))\nEq(x(t), 200 - 200*exp(-t/2))\nEq(x(t), 200 - 200*exp(-t/2))\nEq(x(t), 200 - 200*exp(-t/2))\nEq(x(t), 200 - 200*exp(-t/2))\nEq(x(t), 200 - 200*exp(-t/2))\nEq(x(t), 200 - 200*exp(-t/2))\nEq(x(t), 200 - 200*exp(-t/2))\nEq(x(t), 200 - 200*exp(-t/2))\nEq(x(t), 200 - 200*exp(-t/2))\nEq(x(t), 200 - 200*exp(-t/2))\nEq(x(t), 200 - 200*exp(-t/2))\nEq(x(t), 200 - 200*exp(-t/2))\nEq(x(t), 200 - 200*exp(-t/2))\nEq(x(t), 200 - 200*exp(-t/2))\nEq(x(t), 200 - 200*exp(-t/2))\nEq(x(t), 200 - 200*exp(-t/2))\nEq(x(t), 200 - 200*exp(-t/2))\nEq(x(t), 200 - 200*exp(-t/2))\nEq(x(t), 200 - 200*exp(-t/2))\nEq(x(t), 200 - 200*exp(-t/2))\nEq(x(t), 200 - 200*exp(-t/2))\nEq(x(t), 200 - 200*exp(-t/2))\nEq(x(t), 200 - 200*exp(-t/2))\nEq(x(t), 200 - 200*exp(-t/2))\nEq(x(t), 200 - 200*exp(-t/2))\nEq(x(t), 200 - 200*exp(-t/2))\nEq(x(t), 200 - 200*exp(-t/2))\nEq(x(t), 200 - 200*exp(-t/2))\nEq(x(t), 200 - 200*exp(-t/2))\nEq(x(t), 200 - 200*exp(-t/2))\nEq(x(t), 200 - 200*exp(-t/2))\nEq(x(t), 200 - 200*exp(-t/2))\nEq(x(t), 200 - 200*exp(-t/2))\nEq(x(t), 200 - 200*exp(-t/2))\nEq(x(t), 200 - 200*exp(-t/2))\nEq(x(t), 200 - 200*exp(-t/2))\nEq(x(t), 200 - 200*exp(-t/2))\nEq(x(t), 200 - 200*exp(-t/2))\nEq(x(t), 200 - 200*exp(-t/2))\nEq(x(t), 200 - 200*exp(-t/2))\nEq(x(t), 200 - 200*exp(-t/2))\nEq(x(t), 200 - 200*exp(-t/2))\nEq(x(t), 200 - 200*exp(-t/2))\nEq(x(t), 200 - 200*exp(-t/2))\nEq(x(t), 200 - 200*exp(-t/2))\nEq(x(t), 200 - 200*exp(-t/2))\nEq(x(t), 200 - 200*exp(-t/2))\nEq(x(t), 200 - 200*exp(-t/2))\nEq(x(t), 200 - 200*exp(-t/2))\nEq(x(t), 200 - 200*exp(-t/2))\nEq(x(t), 200 - 200*exp(-t/2))\nEq(x(t), 200 - 200*exp(-t/2))\nEq(x(t), 200 - 200*exp(-t/2))\nEq(x(t), 200 - 200*exp(-t/2))\nEq(x(t), 200 - 200*exp(-t/2))\nEq(x(t), 200 - 200*exp(-t/2))\nEq(x(t), 200 - 200*exp(-t/2))\nEq(x(t), 200 - 200*exp(-t/2))\nEq(x(t), 200 - 200*exp(-t/2))\nEq(x(t), 200 - 200*exp(-t/2))\nEq(x(t), 200 - 200*exp(-t/2))\nEq(x(t), 200 - 200*exp(-t/2))\nEq(x(t), 200 - 200*exp(-t/2))\nEq(x(t), 200 - 200*exp(-t/2))\nEq(x(t), 200 - 200*exp(-t/2))\nEq(x(t), 200 - 200*exp(-t/2))\nEq(x(t), 200 - 200*exp(-t/2))\nEq(x(t), 200 - 200*exp(-t/2))\nEq(x(t), 200 - 200*exp(-t/2))\nEq(x(t), 200 - 200*exp(-t/2))\nEq(x(t), 200 - 200*exp(-t/2))\nEq(x(t), 200 - 200*exp(-t/2))\nEq(x(t), 200 - 200*exp(-t/2))\nEq(x(t), 200 - 200*exp(-t/2))\nEq(x(t), 200 - 200*exp(-t/2))\nEq(x(t), 200 - 200*exp(-t/2))\nEq(x(t), 200 - 200*exp(-t/2))\nEq(x(t), 200 - 200*exp(-t/2))\nEq(x(t), 200 - 200*exp(-t/2))\nEq(x(t), 200 - 200*exp(-t/2))\nEq(x(t), 200 - 200*exp(-t/2))\nEq(x(t), 200 - 200*exp(-t/2))\nEq(x(t), 200 - 200*exp(-t/2))\nEq(x(t), 200 - 200*exp(-t/2))\nEq(x(t), 200 - 200*exp(-t/2))\nEq(x(t), 200 - 200*exp(-t/2))\nEq(x(t), 200 - 200*exp(-t/2))\nEq(x(t), 200 - 200*exp(-t/2))\nEq(x(t), 200 - 200*exp(-t/2))\nEq(x(t), 200 - 200*exp(-t/2))\nEq(x(t), 200 - 200*exp(-t/2))\nEq(x(t), 200 - 200*exp(-t/2))\nEq(x(t), 200 - 200*exp(-t/2))\nEq(x(t), 200 - 200*exp(-t/2))\nEq(x(t), 200 - 200*exp(-t/2))\nEq(x(t), 200 - 200*exp(-t/2))\nEq(x(t), 200 - 200*exp(-t/2))\nEq(x(t), 200 - 200*exp(-t/2))\nEq(x(t), 200 - 200*exp(-t/2))\nEq(x(t), 200 - 200*exp(-t/2))\nEq(x(t), 200 - 200*exp(-t/2))\nEq(x(t), 200 - 200*exp(-t/2))\nEq(x(t), 200 - 200*exp(-t/2))\nEq(x(t), 200 - 200*exp(-t/2))\nEq(x(t), 200 - 200*exp(-t/2))\nEq(x(t), 200 - 200*exp(-t/2))\nEq(x(t), 200 - 200*exp(-t/2))\nEq(x(t), 200 - 200*exp(-t/2))\nEq(x(t), 200 - 200*exp(-t/2))\nEq(x(t), 200 - 200*exp(-t/2))\nEq(x(t), 200 - 200*exp(-t/2))\nEq(x(t), 200 - 200*exp(-t/2))\nEq(x(t), 200 - 200*exp(-t/2))\nEq(x(t), 200 - 200*exp(-t/2))\nEq(x(t), 200 - 200*exp(-t/2))\nEq(x(t), 200 - 200*exp(-t/2))\nEq(x(t), 200 - 200*exp(-t/2))\nEq(x(t), 200 - 200*exp(-t/2))\nEq(x(t), 200 - 200*exp(-t/2))\nEq(x(t), 200 - 200*exp(-t/2))\nEq(x(t), 200 - 200*exp(-t/2))\nEq(x(t), 200 - 200*exp(-t/2))\nEq(x(t), 200 - 200*exp(-t/2))\nEq(x(t), 200 - 200*exp(-t/2))\nEq(x(t), 200 - 200*exp(-t/2))\nEq(x(t), 200 - 200*exp(-t/2))\nEq(x(t), 200 - 200*exp(-t/2))\nEq(x(t), 200 - 200*exp(-t/2))\nEq(x(t), 200 - 200*exp(-t/2))\nEq(x(t), 200 - 200*exp(-t/2))\nEq(x(t), 200 - 200*exp(-t/2))\nEq(x(t), 200 - 200*exp(-t/2))\nEq(x(t), 200 - 200*exp(-t/2))\nEq(x(t), 200 - 200*exp(-t/2))\nEq(x(t), 200 - 200*exp(-t/2))\nEq(x(t), 200 - 200*exp(-t/2))\nEq(x(t), 200 - 200*exp(-t/2))\nEq(x(t), 200 - 200*exp(-t/2))\nEq(x(t), 200 - 200*exp(-t/2))\nEq(x(t), 200 - 200*exp(-t/2))\nEq(x(t), 200 - 200*exp(-t/2))\nEq(x(t), 200 - 200*exp(-t/2))\nEq(x(t), 200 - 200*exp(-t/2))\nEq(x(t), 200 - 200*exp(-t/2))\nEq(x(t), 200 - 200*exp(-t/2))\nEq(x(t), 200 - 200*exp(-t/2))\nEq(x(t), 200 - 200*exp(-t/2))\nEq(x(t), 200 - 200*exp(-t/2))\nEq(x(t), 200 - 200*exp(-t/2))\nEq(x(t), 200 - 200*exp(-t/2))\nEq(x(t), 200 - 200*exp(-t/2))\nEq(x(t), 200 - 200*exp(-t/2))\nEq(x(t), 200 - 200*exp(-t/2))\nEq(x(t), 200 - 200*exp(-t/2))\nEq(x(t), 200 - 200*exp(-t/2))\nEq(x(t), 200 - 200*exp(-t/2))\nEq(x(t), 200 - 200*exp(-t/2))\nEq(x(t), 200 - 200*exp(-t/2))\nEq(x(t), 200 - 200*exp(-t/2))\nEq(x(t), 200 - 200*exp(-t/2))\nEq(x(t), 200 - 200*exp(-t/2))\nEq(x(t), 200 - 200*exp(-t/2))\nEq(x(t), 200 - 200*exp(-t/2))\nEq(x(t), 200 - 200*exp(-t/2))\nEq(x(t), 200 - 200*exp(-t/2))\nEq(x(t), 200 - 200*exp(-t/2))\nEq(x(t), 200 - 200*exp(-t/2))\nEq(x(t), 200 - 200*exp(-t/2))\nEq(x(t), 200 - 200*exp(-t/2))\nEq(x(t), 200 - 200*exp(-t/2))\nEq(x(t), 200 - 200*exp(-t/2))\nEq(x(t), 200 - 200*exp(-t/2))\nEq(x(t), 200 - 200*exp(-t/2))\nEq(x(t), 200 - 200*exp(-t/2))\nEq(x(t), 200 - 200*exp(-t/2))\nEq(x(t), 200 - 200*exp(-t/2))\nEq(x(t), 200 - 200*exp(-t/2))\nEq(x(t), 200 - 200*exp(-t/2))\nEq(x(t), 200 - 200*exp(-t/2))\nEq(x(t), 200 - 200*exp(-t/2))\n"
        },
        {
         "ename": "RecursionError",
         "evalue": "maximum recursion depth exceeded while calling a Python object",
         "output_type": "error",
         "traceback": [
          "\u001b[0;31m---------------------------------------------------------------------------\u001b[0m",
          "\u001b[0;31mRecursionError\u001b[0m                            Traceback (most recent call last)",
          "\u001b[0;32m~/.local/lib/python3.6/site-packages/ipywidgets/widgets/interaction.py\u001b[0m in \u001b[0;36mupdate\u001b[0;34m(self, *args)\u001b[0m\n\u001b[1;32m    248\u001b[0m                     \u001b[0mvalue\u001b[0m \u001b[0;34m=\u001b[0m \u001b[0mwidget\u001b[0m\u001b[0;34m.\u001b[0m\u001b[0mget_interact_value\u001b[0m\u001b[0;34m(\u001b[0m\u001b[0;34m)\u001b[0m\u001b[0;34m\u001b[0m\u001b[0m\n\u001b[1;32m    249\u001b[0m                     \u001b[0mself\u001b[0m\u001b[0;34m.\u001b[0m\u001b[0mkwargs\u001b[0m\u001b[0;34m[\u001b[0m\u001b[0mwidget\u001b[0m\u001b[0;34m.\u001b[0m\u001b[0m_kwarg\u001b[0m\u001b[0;34m]\u001b[0m \u001b[0;34m=\u001b[0m \u001b[0mvalue\u001b[0m\u001b[0;34m\u001b[0m\u001b[0m\n\u001b[0;32m--> 250\u001b[0;31m                 \u001b[0mself\u001b[0m\u001b[0;34m.\u001b[0m\u001b[0mresult\u001b[0m \u001b[0;34m=\u001b[0m \u001b[0mself\u001b[0m\u001b[0;34m.\u001b[0m\u001b[0mf\u001b[0m\u001b[0;34m(\u001b[0m\u001b[0;34m**\u001b[0m\u001b[0mself\u001b[0m\u001b[0;34m.\u001b[0m\u001b[0mkwargs\u001b[0m\u001b[0;34m)\u001b[0m\u001b[0;34m\u001b[0m\u001b[0m\n\u001b[0m\u001b[1;32m    251\u001b[0m                 \u001b[0mshow_inline_matplotlib_plots\u001b[0m\u001b[0;34m(\u001b[0m\u001b[0;34m)\u001b[0m\u001b[0;34m\u001b[0m\u001b[0m\n\u001b[1;32m    252\u001b[0m                 \u001b[0;32mif\u001b[0m \u001b[0mself\u001b[0m\u001b[0;34m.\u001b[0m\u001b[0mauto_display\u001b[0m \u001b[0;32mand\u001b[0m \u001b[0mself\u001b[0m\u001b[0;34m.\u001b[0m\u001b[0mresult\u001b[0m \u001b[0;32mis\u001b[0m \u001b[0;32mnot\u001b[0m \u001b[0;32mNone\u001b[0m\u001b[0;34m:\u001b[0m\u001b[0;34m\u001b[0m\u001b[0m\n",
          "\u001b[0;32m<ipython-input-13-8beef1da2943>\u001b[0m in \u001b[0;36mplot\u001b[0;34m(ω, α)\u001b[0m\n\u001b[1;32m     16\u001b[0m     \u001b[0;31m# Plot position vs time\u001b[0m\u001b[0;34m\u001b[0m\u001b[0;34m\u001b[0m\u001b[0m\n\u001b[1;32m     17\u001b[0m     \u001b[0mprint\u001b[0m\u001b[0;34m(\u001b[0m\u001b[0mx1\u001b[0m\u001b[0;34m)\u001b[0m\u001b[0;34m\u001b[0m\u001b[0m\n\u001b[0;32m---> 18\u001b[0;31m     \u001b[0mplot\u001b[0m\u001b[0;34m(\u001b[0m\u001b[0mx1\u001b[0m\u001b[0;34m.\u001b[0m\u001b[0margs\u001b[0m\u001b[0;34m[\u001b[0m\u001b[0;36m1\u001b[0m\u001b[0;34m]\u001b[0m\u001b[0;34m,\u001b[0m \u001b[0;34m(\u001b[0m\u001b[0mt\u001b[0m\u001b[0;34m,\u001b[0m \u001b[0;36m0.0\u001b[0m\u001b[0;34m,\u001b[0m \u001b[0;36m10.0\u001b[0m\u001b[0;34m)\u001b[0m\u001b[0;34m)\u001b[0m\u001b[0;34m;\u001b[0m\u001b[0;34m\u001b[0m\u001b[0m\n\u001b[0m\u001b[1;32m     19\u001b[0m \u001b[0;34m\u001b[0m\u001b[0m\n\u001b[1;32m     20\u001b[0m     \u001b[0;31m#t = np.linspace(0, 2*np.pi, 200)\u001b[0m\u001b[0;34m\u001b[0m\u001b[0;34m\u001b[0m\u001b[0m\n",
          "\u001b[0;32m<ipython-input-13-8beef1da2943>\u001b[0m in \u001b[0;36mplot\u001b[0;34m(ω, α)\u001b[0m\n\u001b[1;32m     16\u001b[0m     \u001b[0;31m# Plot position vs time\u001b[0m\u001b[0;34m\u001b[0m\u001b[0;34m\u001b[0m\u001b[0m\n\u001b[1;32m     17\u001b[0m     \u001b[0mprint\u001b[0m\u001b[0;34m(\u001b[0m\u001b[0mx1\u001b[0m\u001b[0;34m)\u001b[0m\u001b[0;34m\u001b[0m\u001b[0m\n\u001b[0;32m---> 18\u001b[0;31m     \u001b[0mplot\u001b[0m\u001b[0;34m(\u001b[0m\u001b[0mx1\u001b[0m\u001b[0;34m.\u001b[0m\u001b[0margs\u001b[0m\u001b[0;34m[\u001b[0m\u001b[0;36m1\u001b[0m\u001b[0;34m]\u001b[0m\u001b[0;34m,\u001b[0m \u001b[0;34m(\u001b[0m\u001b[0mt\u001b[0m\u001b[0;34m,\u001b[0m \u001b[0;36m0.0\u001b[0m\u001b[0;34m,\u001b[0m \u001b[0;36m10.0\u001b[0m\u001b[0;34m)\u001b[0m\u001b[0;34m)\u001b[0m\u001b[0;34m;\u001b[0m\u001b[0;34m\u001b[0m\u001b[0m\n\u001b[0m\u001b[1;32m     19\u001b[0m \u001b[0;34m\u001b[0m\u001b[0m\n\u001b[1;32m     20\u001b[0m     \u001b[0;31m#t = np.linspace(0, 2*np.pi, 200)\u001b[0m\u001b[0;34m\u001b[0m\u001b[0;34m\u001b[0m\u001b[0m\n",
          "\u001b[0;32m<ipython-input-13-8beef1da2943>\u001b[0m in \u001b[0;36mplot\u001b[0;34m(ω, α)\u001b[0m\n\u001b[1;32m     16\u001b[0m     \u001b[0;31m# Plot position vs time\u001b[0m\u001b[0;34m\u001b[0m\u001b[0;34m\u001b[0m\u001b[0m\n\u001b[1;32m     17\u001b[0m     \u001b[0mprint\u001b[0m\u001b[0;34m(\u001b[0m\u001b[0mx1\u001b[0m\u001b[0;34m)\u001b[0m\u001b[0;34m\u001b[0m\u001b[0m\n\u001b[0;32m---> 18\u001b[0;31m     \u001b[0mplot\u001b[0m\u001b[0;34m(\u001b[0m\u001b[0mx1\u001b[0m\u001b[0;34m.\u001b[0m\u001b[0margs\u001b[0m\u001b[0;34m[\u001b[0m\u001b[0;36m1\u001b[0m\u001b[0;34m]\u001b[0m\u001b[0;34m,\u001b[0m \u001b[0;34m(\u001b[0m\u001b[0mt\u001b[0m\u001b[0;34m,\u001b[0m \u001b[0;36m0.0\u001b[0m\u001b[0;34m,\u001b[0m \u001b[0;36m10.0\u001b[0m\u001b[0;34m)\u001b[0m\u001b[0;34m)\u001b[0m\u001b[0;34m;\u001b[0m\u001b[0;34m\u001b[0m\u001b[0m\n\u001b[0m\u001b[1;32m     19\u001b[0m \u001b[0;34m\u001b[0m\u001b[0m\n\u001b[1;32m     20\u001b[0m     \u001b[0;31m#t = np.linspace(0, 2*np.pi, 200)\u001b[0m\u001b[0;34m\u001b[0m\u001b[0;34m\u001b[0m\u001b[0m\n",
          "\u001b[0;32m<ipython-input-13-8beef1da2943>\u001b[0m in \u001b[0;36mplot\u001b[0;34m(ω, α)\u001b[0m\n\u001b[1;32m     16\u001b[0m     \u001b[0;31m# Plot position vs time\u001b[0m\u001b[0;34m\u001b[0m\u001b[0;34m\u001b[0m\u001b[0m\n\u001b[1;32m     17\u001b[0m     \u001b[0mprint\u001b[0m\u001b[0;34m(\u001b[0m\u001b[0mx1\u001b[0m\u001b[0;34m)\u001b[0m\u001b[0;34m\u001b[0m\u001b[0m\n\u001b[0;32m---> 18\u001b[0;31m     \u001b[0mplot\u001b[0m\u001b[0;34m(\u001b[0m\u001b[0mx1\u001b[0m\u001b[0;34m.\u001b[0m\u001b[0margs\u001b[0m\u001b[0;34m[\u001b[0m\u001b[0;36m1\u001b[0m\u001b[0;34m]\u001b[0m\u001b[0;34m,\u001b[0m \u001b[0;34m(\u001b[0m\u001b[0mt\u001b[0m\u001b[0;34m,\u001b[0m \u001b[0;36m0.0\u001b[0m\u001b[0;34m,\u001b[0m \u001b[0;36m10.0\u001b[0m\u001b[0;34m)\u001b[0m\u001b[0;34m)\u001b[0m\u001b[0;34m;\u001b[0m\u001b[0;34m\u001b[0m\u001b[0m\n\u001b[0m\u001b[1;32m     19\u001b[0m \u001b[0;34m\u001b[0m\u001b[0m\n\u001b[1;32m     20\u001b[0m     \u001b[0;31m#t = np.linspace(0, 2*np.pi, 200)\u001b[0m\u001b[0;34m\u001b[0m\u001b[0;34m\u001b[0m\u001b[0m\n",
          "\u001b[0;32m<ipython-input-13-8beef1da2943>\u001b[0m in \u001b[0;36mplot\u001b[0;34m(ω, α)\u001b[0m\n\u001b[1;32m     16\u001b[0m     \u001b[0;31m# Plot position vs time\u001b[0m\u001b[0;34m\u001b[0m\u001b[0;34m\u001b[0m\u001b[0m\n\u001b[1;32m     17\u001b[0m     \u001b[0mprint\u001b[0m\u001b[0;34m(\u001b[0m\u001b[0mx1\u001b[0m\u001b[0;34m)\u001b[0m\u001b[0;34m\u001b[0m\u001b[0m\n\u001b[0;32m---> 18\u001b[0;31m     \u001b[0mplot\u001b[0m\u001b[0;34m(\u001b[0m\u001b[0mx1\u001b[0m\u001b[0;34m.\u001b[0m\u001b[0margs\u001b[0m\u001b[0;34m[\u001b[0m\u001b[0;36m1\u001b[0m\u001b[0;34m]\u001b[0m\u001b[0;34m,\u001b[0m \u001b[0;34m(\u001b[0m\u001b[0mt\u001b[0m\u001b[0;34m,\u001b[0m \u001b[0;36m0.0\u001b[0m\u001b[0;34m,\u001b[0m \u001b[0;36m10.0\u001b[0m\u001b[0;34m)\u001b[0m\u001b[0;34m)\u001b[0m\u001b[0;34m;\u001b[0m\u001b[0;34m\u001b[0m\u001b[0m\n\u001b[0m\u001b[1;32m     19\u001b[0m \u001b[0;34m\u001b[0m\u001b[0m\n\u001b[1;32m     20\u001b[0m     \u001b[0;31m#t = np.linspace(0, 2*np.pi, 200)\u001b[0m\u001b[0;34m\u001b[0m\u001b[0;34m\u001b[0m\u001b[0m\n",
          "... last 5 frames repeated, from the frame below ...\n",
          "\u001b[0;32m<ipython-input-13-8beef1da2943>\u001b[0m in \u001b[0;36mplot\u001b[0;34m(ω, α)\u001b[0m\n\u001b[1;32m     16\u001b[0m     \u001b[0;31m# Plot position vs time\u001b[0m\u001b[0;34m\u001b[0m\u001b[0;34m\u001b[0m\u001b[0m\n\u001b[1;32m     17\u001b[0m     \u001b[0mprint\u001b[0m\u001b[0;34m(\u001b[0m\u001b[0mx1\u001b[0m\u001b[0;34m)\u001b[0m\u001b[0;34m\u001b[0m\u001b[0m\n\u001b[0;32m---> 18\u001b[0;31m     \u001b[0mplot\u001b[0m\u001b[0;34m(\u001b[0m\u001b[0mx1\u001b[0m\u001b[0;34m.\u001b[0m\u001b[0margs\u001b[0m\u001b[0;34m[\u001b[0m\u001b[0;36m1\u001b[0m\u001b[0;34m]\u001b[0m\u001b[0;34m,\u001b[0m \u001b[0;34m(\u001b[0m\u001b[0mt\u001b[0m\u001b[0;34m,\u001b[0m \u001b[0;36m0.0\u001b[0m\u001b[0;34m,\u001b[0m \u001b[0;36m10.0\u001b[0m\u001b[0;34m)\u001b[0m\u001b[0;34m)\u001b[0m\u001b[0;34m;\u001b[0m\u001b[0;34m\u001b[0m\u001b[0m\n\u001b[0m\u001b[1;32m     19\u001b[0m \u001b[0;34m\u001b[0m\u001b[0m\n\u001b[1;32m     20\u001b[0m     \u001b[0;31m#t = np.linspace(0, 2*np.pi, 200)\u001b[0m\u001b[0;34m\u001b[0m\u001b[0;34m\u001b[0m\u001b[0m\n",
          "\u001b[0;31mRecursionError\u001b[0m: maximum recursion depth exceeded while calling a Python object"
         ]
        }
       ]
      }
     },
     "334ac1ca5e784acdb9e66d167e8837a2": {
      "model_module": "@jupyter-widgets/base",
      "model_module_version": "1.0.0",
      "model_name": "LayoutModel",
      "state": {}
     },
     "34089a18c8b9469a9466e5855259f131": {
      "model_module": "@jupyter-widgets/controls",
      "model_module_version": "1.0.0",
      "model_name": "SliderStyleModel",
      "state": {
       "description_width": ""
      }
     },
     "34b3a8516d3e4d7b9b5c69018a19bb24": {
      "model_module": "@jupyter-widgets/controls",
      "model_module_version": "1.0.0",
      "model_name": "FloatSliderModel",
      "state": {
       "description": "ω",
       "layout": "IPY_MODEL_366e8fa45b8641bdadccf00caa57f34d",
       "max": 10,
       "min": -10,
       "step": 0.25,
       "style": "IPY_MODEL_8864348048924635898374161af38df6",
       "value": 1
      }
     },
     "34cf801200c345b3839e0f62423733b5": {
      "model_module": "@jupyter-widgets/base",
      "model_module_version": "1.0.0",
      "model_name": "LayoutModel",
      "state": {}
     },
     "35166525597f406a9d039efc535e2716": {
      "model_module": "@jupyter-widgets/base",
      "model_module_version": "1.0.0",
      "model_name": "LayoutModel",
      "state": {}
     },
     "3565af44bac24a3cba31e7ba49ee470b": {
      "model_module": "@jupyter-widgets/controls",
      "model_module_version": "1.0.0",
      "model_name": "SliderStyleModel",
      "state": {
       "description_width": ""
      }
     },
     "357bcfadd62548a6bf01f6b1a45209f2": {
      "model_module": "@jupyter-widgets/controls",
      "model_module_version": "1.0.0",
      "model_name": "FloatSliderModel",
      "state": {
       "description": "ω",
       "layout": "IPY_MODEL_47417ba5877449eabeecd61a257681e1",
       "max": 10,
       "min": -10,
       "step": 0.25,
       "style": "IPY_MODEL_07a9f914ccbb432b8979ff29e3e1a507",
       "value": 1
      }
     },
     "366e8fa45b8641bdadccf00caa57f34d": {
      "model_module": "@jupyter-widgets/base",
      "model_module_version": "1.0.0",
      "model_name": "LayoutModel",
      "state": {}
     },
     "384b1a08373340488126a9dfdaf32e50": {
      "model_module": "@jupyter-widgets/base",
      "model_module_version": "1.0.0",
      "model_name": "LayoutModel",
      "state": {}
     },
     "385ccd1a0eef4177be30fa69fa2b7bc9": {
      "model_module": "@jupyter-widgets/base",
      "model_module_version": "1.0.0",
      "model_name": "LayoutModel",
      "state": {}
     },
     "389b2e64fc3048bc8d70aed577e7eb0b": {
      "model_module": "@jupyter-widgets/controls",
      "model_module_version": "1.0.0",
      "model_name": "VBoxModel",
      "state": {
       "_dom_classes": [
        "widget-interact"
       ],
       "children": [
        "IPY_MODEL_409bedf92d5449d2a05e489afed83f1a",
        "IPY_MODEL_59ac2b4f93534671b3b9848ad9cded91"
       ],
       "layout": "IPY_MODEL_f3d1689cce5b40518007da94d6096183"
      }
     },
     "38aacd0033ec4f20952e11398320b1f8": {
      "model_module": "@jupyter-widgets/controls",
      "model_module_version": "1.0.0",
      "model_name": "SliderStyleModel",
      "state": {
       "description_width": ""
      }
     },
     "39afa789855c4c5db72fc80b29613da7": {
      "model_module": "@jupyter-widgets/controls",
      "model_module_version": "1.0.0",
      "model_name": "IntSliderModel",
      "state": {
       "description": "τ",
       "layout": "IPY_MODEL_d1b40c428abd43c1b963a323b1364dbc",
       "max": 1,
       "style": "IPY_MODEL_5ab8c9b0c53a4a3fbccebd9b58ebf1eb"
      }
     },
     "3ad200a709274be3ba1165cd91aebbd8": {
      "model_module": "@jupyter-widgets/base",
      "model_module_version": "1.0.0",
      "model_name": "LayoutModel",
      "state": {}
     },
     "3af4a5db2856446ba01dee3d3610245a": {
      "model_module": "@jupyter-widgets/controls",
      "model_module_version": "1.0.0",
      "model_name": "SliderStyleModel",
      "state": {
       "description_width": ""
      }
     },
     "3b02eda6256d455789485fa42b505ea9": {
      "model_module": "@jupyter-widgets/base",
      "model_module_version": "1.0.0",
      "model_name": "LayoutModel",
      "state": {}
     },
     "3b55a7d2e7de4cdfaf7245a0a9283d08": {
      "model_module": "@jupyter-widgets/controls",
      "model_module_version": "1.0.0",
      "model_name": "SliderStyleModel",
      "state": {
       "description_width": ""
      }
     },
     "3b6bb175aa1746b680043d9583ad2e39": {
      "model_module": "@jupyter-widgets/base",
      "model_module_version": "1.0.0",
      "model_name": "LayoutModel",
      "state": {}
     },
     "3b713a151b67472eb6f6bc1935fe7b9b": {
      "model_module": "@jupyter-widgets/controls",
      "model_module_version": "1.0.0",
      "model_name": "VBoxModel",
      "state": {
       "_dom_classes": [
        "widget-interact"
       ],
       "children": [
        "IPY_MODEL_de7fb4a231584890bbb14f9151c6d64b",
        "IPY_MODEL_b31cff390274466dacf48898db7f67bf",
        "IPY_MODEL_7934ece9053543cda1a95495527b35d7"
       ],
       "layout": "IPY_MODEL_334ac1ca5e784acdb9e66d167e8837a2"
      }
     },
     "3c22e88a3ea14dca9a9f3a3f532ff32b": {
      "model_module": "@jupyter-widgets/controls",
      "model_module_version": "1.0.0",
      "model_name": "FloatSliderModel",
      "state": {
       "description": "ω",
       "layout": "IPY_MODEL_c48b5edf5771409dbab89122bf6c93c7",
       "max": 10,
       "min": -10,
       "step": 0.25,
       "style": "IPY_MODEL_34089a18c8b9469a9466e5855259f131",
       "value": 1
      }
     },
     "3ca52ce0ec254e428ae66cb4bfc54664": {
      "model_module": "@jupyter-widgets/controls",
      "model_module_version": "1.0.0",
      "model_name": "FloatSliderModel",
      "state": {
       "description": "α",
       "layout": "IPY_MODEL_3e8746d4dd0747d1924a566b5ea4f039",
       "max": 2,
       "step": 0.25,
       "style": "IPY_MODEL_7687c717facf49409229dddea8b60d2e"
      }
     },
     "3d9ee1df8df34d4a998c6445a6b9264e": {
      "model_module": "@jupyter-widgets/controls",
      "model_module_version": "1.0.0",
      "model_name": "SliderStyleModel",
      "state": {
       "description_width": ""
      }
     },
     "3e4090ba5afd47f5a5b9ba28b4281585": {
      "model_module": "@jupyter-widgets/base",
      "model_module_version": "1.0.0",
      "model_name": "LayoutModel",
      "state": {}
     },
     "3e8746d4dd0747d1924a566b5ea4f039": {
      "model_module": "@jupyter-widgets/base",
      "model_module_version": "1.0.0",
      "model_name": "LayoutModel",
      "state": {}
     },
     "3e9f33f881a44f11988943e71e700d2c": {
      "model_module": "@jupyter-widgets/output",
      "model_module_version": "1.0.0",
      "model_name": "OutputModel",
      "state": {
       "layout": "IPY_MODEL_ff9b7a3ae0184acbaffdc54ba8df8866",
       "outputs": [
        {
         "data": {
          "image/png": "iVBORw0KGgoAAAANSUhEUgAAAZAAAAEQCAYAAACeDyIUAAAABHNCSVQICAgIfAhkiAAAAAlwSFlz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\n",
          "text/plain": "<matplotlib.figure.Figure at 0x7fa84c3e8710>"
         },
         "metadata": {},
         "output_type": "display_data"
        }
       ]
      }
     },
     "409bedf92d5449d2a05e489afed83f1a": {
      "model_module": "@jupyter-widgets/controls",
      "model_module_version": "1.0.0",
      "model_name": "FloatSliderModel",
      "state": {
       "description": "τ",
       "layout": "IPY_MODEL_1aa68962c93b4fffaa674627b94e008f",
       "max": 10,
       "step": 0.2,
       "style": "IPY_MODEL_c54877abd2cc48158d64912b726f742e",
       "value": 1
      }
     },
     "40e556f077df4e65bcd062b9fe6200f0": {
      "model_module": "@jupyter-widgets/controls",
      "model_module_version": "1.0.0",
      "model_name": "SliderStyleModel",
      "state": {
       "description_width": ""
      }
     },
     "41219021bb424a10ae943991306cfa4c": {
      "model_module": "@jupyter-widgets/controls",
      "model_module_version": "1.0.0",
      "model_name": "VBoxModel",
      "state": {
       "_dom_classes": [
        "widget-interact"
       ],
       "children": [
        "IPY_MODEL_e1ae28d8ddd04a5088d2e188346e5254",
        "IPY_MODEL_eb076ee42a234122860008f2543968b4",
        "IPY_MODEL_d6295fa6efc0451188033207b425e6a4"
       ],
       "layout": "IPY_MODEL_ab4a1b85dd244213acfa2ab5c0b918da"
      }
     },
     "41a669d21c514c419fb4f6785a81c074": {
      "model_module": "@jupyter-widgets/controls",
      "model_module_version": "1.0.0",
      "model_name": "VBoxModel",
      "state": {
       "_dom_classes": [
        "widget-interact"
       ],
       "children": [
        "IPY_MODEL_919b6684fa4244758c0c25b67b61e9ed",
        "IPY_MODEL_6e239b0e708d4584af42c7500904bd42"
       ],
       "layout": "IPY_MODEL_62a8338540c3414aac1ca918293515be"
      }
     },
     "43058345f2da4e5eb4fffa3bf4c9c72a": {
      "model_module": "@jupyter-widgets/base",
      "model_module_version": "1.0.0",
      "model_name": "LayoutModel",
      "state": {}
     },
     "4310c30bcef943a8ad843c436dde1df6": {
      "model_module": "@jupyter-widgets/controls",
      "model_module_version": "1.0.0",
      "model_name": "IntSliderModel",
      "state": {
       "description": "tau0",
       "layout": "IPY_MODEL_95360a6c92f84f1f969bb89d27aa0f46",
       "max": 1,
       "style": "IPY_MODEL_5335329384c04eaba50af75c4c3df376"
      }
     },
     "43841b275748487d9bfbc1d3d32d8649": {
      "model_module": "@jupyter-widgets/controls",
      "model_module_version": "1.0.0",
      "model_name": "VBoxModel",
      "state": {
       "_dom_classes": [
        "widget-interact"
       ],
       "children": [
        "IPY_MODEL_2993ea741f5b404da2308c090c24f8bc",
        "IPY_MODEL_54080417458a43c598af8d9ab10c375d",
        "IPY_MODEL_8ea19a37e08048cd98a39067462cdd60"
       ],
       "layout": "IPY_MODEL_7ad38b18c2c44eda9b25707afb8f6233"
      }
     },
     "43f35f2a83bb44aab5b3ecadac0fdb5e": {
      "model_module": "@jupyter-widgets/controls",
      "model_module_version": "1.0.0",
      "model_name": "FloatSliderModel",
      "state": {
       "description": "α",
       "layout": "IPY_MODEL_6c519a25ff714b26b9dc6cfd834d203f",
       "max": 2,
       "step": 0.25,
       "style": "IPY_MODEL_89141d857585406ca23fabcf43fe41c1"
      }
     },
     "44cfc49d768841dca2f59257d2c5773a": {
      "model_module": "@jupyter-widgets/base",
      "model_module_version": "1.0.0",
      "model_name": "LayoutModel",
      "state": {}
     },
     "45222fa6cddb4d938dcbab7bfc2385b9": {
      "model_module": "@jupyter-widgets/controls",
      "model_module_version": "1.0.0",
      "model_name": "IntSliderModel",
      "state": {
       "description": "v",
       "layout": "IPY_MODEL_c11867cd431f437fb7bb6deabedde54e",
       "max": 3,
       "min": -1,
       "style": "IPY_MODEL_b3e5cd33521e48d0bc9d261f8d06798a",
       "value": 1
      }
     },
     "4583c66bb0784b54a78bfce0c519e330": {
      "model_module": "@jupyter-widgets/controls",
      "model_module_version": "1.0.0",
      "model_name": "SliderStyleModel",
      "state": {
       "description_width": ""
      }
     },
     "462cb367c1904b54a5cd3b4cd613d643": {
      "model_module": "@jupyter-widgets/controls",
      "model_module_version": "1.0.0",
      "model_name": "FloatSliderModel",
      "state": {
       "description": "tau",
       "layout": "IPY_MODEL_44cfc49d768841dca2f59257d2c5773a",
       "max": 2,
       "step": 0.25,
       "style": "IPY_MODEL_315f491a46034687bc9c6dc7760e215a",
       "value": 0.1
      }
     },
     "46f0714ccbf84418b453ee78b360e774": {
      "model_module": "@jupyter-widgets/controls",
      "model_module_version": "1.0.0",
      "model_name": "VBoxModel",
      "state": {
       "_dom_classes": [
        "widget-interact"
       ],
       "children": [
        "IPY_MODEL_f21556635f89404aac34c8fe6de32089",
        "IPY_MODEL_f483164063b84f1eb3c8e9091e09e408",
        "IPY_MODEL_ac685f07145d4d47919939b553086770"
       ],
       "layout": "IPY_MODEL_0e3c738626d849dabebe1944ff36fdd8"
      }
     },
     "47417ba5877449eabeecd61a257681e1": {
      "model_module": "@jupyter-widgets/base",
      "model_module_version": "1.0.0",
      "model_name": "LayoutModel",
      "state": {}
     },
     "47d848256ae04724b331dde9e9aee141": {
      "model_module": "@jupyter-widgets/controls",
      "model_module_version": "1.0.0",
      "model_name": "SliderStyleModel",
      "state": {
       "description_width": ""
      }
     },
     "48f9c2f5548e45b4aa9fbb1424b9f8f0": {
      "model_module": "@jupyter-widgets/controls",
      "model_module_version": "1.0.0",
      "model_name": "FloatSliderModel",
      "state": {
       "description": "τ",
       "layout": "IPY_MODEL_b1b2ed145a0f45298559e477fe998db4",
       "max": 10,
       "step": 0.2,
       "style": "IPY_MODEL_0e08ea5aaebc4a6b86245e1569971f8b",
       "value": 1
      }
     },
     "490bbc4984234780a9908324e9bf6946": {
      "model_module": "@jupyter-widgets/base",
      "model_module_version": "1.0.0",
      "model_name": "LayoutModel",
      "state": {}
     },
     "4a265e47e5004024b5766eff9828420c": {
      "model_module": "@jupyter-widgets/controls",
      "model_module_version": "1.0.0",
      "model_name": "FloatSliderModel",
      "state": {
       "description": "τ",
       "layout": "IPY_MODEL_78e53fd206c04831b5ae4cee6be9b9d4",
       "max": 2,
       "min": 0.2,
       "step": 0.2,
       "style": "IPY_MODEL_38aacd0033ec4f20952e11398320b1f8",
       "value": 2
      }
     },
     "4b087553c7e44a8db78f4760adc80644": {
      "model_module": "@jupyter-widgets/base",
      "model_module_version": "1.0.0",
      "model_name": "LayoutModel",
      "state": {}
     },
     "4bbbe8077b604676ae194dd4164cdd75": {
      "model_module": "@jupyter-widgets/base",
      "model_module_version": "1.0.0",
      "model_name": "LayoutModel",
      "state": {}
     },
     "4d2f954b1f1f4ab49f0c3ef054b56ad2": {
      "model_module": "@jupyter-widgets/base",
      "model_module_version": "1.0.0",
      "model_name": "LayoutModel",
      "state": {}
     },
     "4d8bf08967344deb8d35ede73be969df": {
      "model_module": "@jupyter-widgets/controls",
      "model_module_version": "1.0.0",
      "model_name": "FloatSliderModel",
      "state": {
       "description": "α",
       "layout": "IPY_MODEL_572a2f67bee44e48baaf322e9c5b133b",
       "max": 2,
       "step": 0.25,
       "style": "IPY_MODEL_e75097d3bec943bb85d9dbaee971a49e"
      }
     },
     "4dddc8139c3747ea94332563c1f221cd": {
      "model_module": "@jupyter-widgets/output",
      "model_module_version": "1.0.0",
      "model_name": "OutputModel",
      "state": {
       "layout": "IPY_MODEL_c00bd3502c8e4bc59d42ce03d2c20e2b",
       "outputs": [
        {
         "ename": "NameError",
         "evalue": "name 'plot' is not defined",
         "output_type": "error",
         "traceback": [
          "\u001b[0;31m---------------------------------------------------------------------------\u001b[0m",
          "\u001b[0;31mNameError\u001b[0m                                 Traceback (most recent call last)",
          "\u001b[0;32m~/.local/lib/python3.6/site-packages/ipywidgets/widgets/interaction.py\u001b[0m in \u001b[0;36mupdate\u001b[0;34m(self, *args)\u001b[0m\n\u001b[1;32m    248\u001b[0m                     \u001b[0mvalue\u001b[0m \u001b[0;34m=\u001b[0m \u001b[0mwidget\u001b[0m\u001b[0;34m.\u001b[0m\u001b[0mget_interact_value\u001b[0m\u001b[0;34m(\u001b[0m\u001b[0;34m)\u001b[0m\u001b[0;34m\u001b[0m\u001b[0m\n\u001b[1;32m    249\u001b[0m                     \u001b[0mself\u001b[0m\u001b[0;34m.\u001b[0m\u001b[0mkwargs\u001b[0m\u001b[0;34m[\u001b[0m\u001b[0mwidget\u001b[0m\u001b[0;34m.\u001b[0m\u001b[0m_kwarg\u001b[0m\u001b[0;34m]\u001b[0m \u001b[0;34m=\u001b[0m \u001b[0mvalue\u001b[0m\u001b[0;34m\u001b[0m\u001b[0m\n\u001b[0;32m--> 250\u001b[0;31m                 \u001b[0mself\u001b[0m\u001b[0;34m.\u001b[0m\u001b[0mresult\u001b[0m \u001b[0;34m=\u001b[0m \u001b[0mself\u001b[0m\u001b[0;34m.\u001b[0m\u001b[0mf\u001b[0m\u001b[0;34m(\u001b[0m\u001b[0;34m**\u001b[0m\u001b[0mself\u001b[0m\u001b[0;34m.\u001b[0m\u001b[0mkwargs\u001b[0m\u001b[0;34m)\u001b[0m\u001b[0;34m\u001b[0m\u001b[0m\n\u001b[0m\u001b[1;32m    251\u001b[0m                 \u001b[0mshow_inline_matplotlib_plots\u001b[0m\u001b[0;34m(\u001b[0m\u001b[0;34m)\u001b[0m\u001b[0;34m\u001b[0m\u001b[0m\n\u001b[1;32m    252\u001b[0m                 \u001b[0;32mif\u001b[0m \u001b[0mself\u001b[0m\u001b[0;34m.\u001b[0m\u001b[0mauto_display\u001b[0m \u001b[0;32mand\u001b[0m \u001b[0mself\u001b[0m\u001b[0;34m.\u001b[0m\u001b[0mresult\u001b[0m \u001b[0;32mis\u001b[0m \u001b[0;32mnot\u001b[0m \u001b[0;32mNone\u001b[0m\u001b[0;34m:\u001b[0m\u001b[0;34m\u001b[0m\u001b[0m\n",
          "\u001b[0;32m<ipython-input-18-c9e266be32ab>\u001b[0m in \u001b[0;36mplot_f\u001b[0;34m(ω, α)\u001b[0m\n\u001b[1;32m     15\u001b[0m \u001b[0;34m\u001b[0m\u001b[0m\n\u001b[1;32m     16\u001b[0m     \u001b[0;31m# Plot position vs time\u001b[0m\u001b[0;34m\u001b[0m\u001b[0;34m\u001b[0m\u001b[0m\n\u001b[0;32m---> 17\u001b[0;31m     \u001b[0mplot\u001b[0m\u001b[0;34m(\u001b[0m\u001b[0mx1\u001b[0m\u001b[0;34m.\u001b[0m\u001b[0margs\u001b[0m\u001b[0;34m[\u001b[0m\u001b[0;36m1\u001b[0m\u001b[0;34m]\u001b[0m\u001b[0;34m,\u001b[0m \u001b[0;34m(\u001b[0m\u001b[0mt\u001b[0m\u001b[0;34m,\u001b[0m \u001b[0;36m0.0\u001b[0m\u001b[0;34m,\u001b[0m \u001b[0;36m10.0\u001b[0m\u001b[0;34m)\u001b[0m\u001b[0;34m)\u001b[0m\u001b[0;34m;\u001b[0m\u001b[0;34m\u001b[0m\u001b[0m\n\u001b[0m\u001b[1;32m     18\u001b[0m \u001b[0;34m\u001b[0m\u001b[0m\n\u001b[1;32m     19\u001b[0m     \u001b[0;31m#t = np.linspace(0, 2*np.pi, 200)\u001b[0m\u001b[0;34m\u001b[0m\u001b[0;34m\u001b[0m\u001b[0m\n",
          "\u001b[0;31mNameError\u001b[0m: name 'plot' is not defined"
         ]
        }
       ]
      }
     },
     "4e2a0139b82945bab1f1830f0a3e58e3": {
      "model_module": "@jupyter-widgets/base",
      "model_module_version": "1.0.0",
      "model_name": "LayoutModel",
      "state": {}
     },
     "4eb13963f5854bb9affa76da0763ee8a": {
      "model_module": "@jupyter-widgets/controls",
      "model_module_version": "1.0.0",
      "model_name": "SliderStyleModel",
      "state": {
       "description_width": ""
      }
     },
     "4efbf7d6ed2146dfb523e1a299063601": {
      "model_module": "@jupyter-widgets/base",
      "model_module_version": "1.0.0",
      "model_name": "LayoutModel",
      "state": {}
     },
     "5008f39e7e874aa795338f65fe8caa5b": {
      "model_module": "@jupyter-widgets/base",
      "model_module_version": "1.0.0",
      "model_name": "LayoutModel",
      "state": {}
     },
     "50d76727251d429b94bdd4d9957c68a6": {
      "model_module": "@jupyter-widgets/controls",
      "model_module_version": "1.0.0",
      "model_name": "SliderStyleModel",
      "state": {
       "description_width": ""
      }
     },
     "50ea55cbdfda4a57b931a35e75da51f9": {
      "model_module": "@jupyter-widgets/output",
      "model_module_version": "1.0.0",
      "model_name": "OutputModel",
      "state": {
       "layout": "IPY_MODEL_30fca47a16fa4c8bbaef29fd72b79638",
       "outputs": [
        {
         "data": {
          "image/png": "iVBORw0KGgoAAAANSUhEUgAAAY4AAADzCAYAAACRz/HXAAAABHNCSVQICAgIfAhkiAAAAAlwSFlz\nAAALEgAACxIB0t1+/AAAADl0RVh0U29mdHdhcmUAbWF0cGxvdGxpYiB2ZXJzaW9uIDIuMS4wLCBo\ndHRwOi8vbWF0cGxvdGxpYi5vcmcvpW3flQAAC5lJREFUeJzt3X2MXXVex/HPD9q6BnkQ0y6lA0IF\noQ8ghbLEh5DAH1AJAUMbbSnrAq0g0QRCiMGEP0QSYDENFGR1N3HZBQzdzZpIBUGlSIiF7tK0gWUr\nRGKrtLgiCJgCtbQe/+isLRWY+bLcnmnn9fpn5j787v3OSdv33HPvOW1d1wUARuugvgcAYP8iHACU\nCAcAJcIBQIlwAFAiHACUCAcAJcIBQMmE0dyptTYlyS8nOTrJ+0leTLK267r/GeBsAIxB7ZOOHG+t\nnZPkxiRHJlmf5PUkn0vy80l+Lsl3kizruu6/Bj8qAGPBSOH4oyT3dF33rx9x24QkFyY5uOu6vxjc\niACMJZ8YDgDY26jeHG+tPdBaO3yPy8e11lYNbiwAxqrRfqrqH5J8t7V2QWvtt5L8bZK7BjcWAGPV\nqHdVtdZ+JcnfJ3kjyZyu6344yME+BfvcAOpadcFod1V9McnXk/xmkm8k+evW2i9UnwyA/d+oXnG0\n1v4yyVVd170+fPkLSb7add2cAc9X4RUHQF35Fcen/lRVa21S13XbP9XiwRAOgLrPdldVa+2m1tqR\nH3Vb13XbW2vnttYurD4pAPuvkU458v0kf9Va25ZkXZL/yK4jx09MclqSJ5LcOtAJARhTRjpy/IGu\n677YWvu97DrdyNTsOlfVPyZ5uuu69/fNmKNiVxVAXXlX1UivOM5orR2dZHGSc/a67SezKyIAjCMj\nheNPk6xKMj3J2j2ub9n1G/70Ac0FwBg12o/j/knXddfsg3l+HHZVAdTtu4/jjkEHzA8CsA8N5shx\nAPgR4QCgRDgAKBEOAEqEA4AS4QCgRDgAKBEOAEqEA4AS4QCgRDgAKBEOAEqEA4AS4QCgRDgAKBEO\nAEqEA4AS4QCgRDgAKBEOAEqEA4AS4QCgRDgAKBEOAEqEA4AS4QCgRDgAKBEOAEqEA4AS4QCgRDgA\nKBEOAEqEA4AS4QCgRDgAKBEOAEqEA4AS4QCgRDgAKBEOAEqEA4AS4QCgRDgAKBEOAEqEA4AS4QCg\nRDgAKBEOAEqEA4AS4QCgRDgAKBEOAEqEA4AS4QCgRDgAKBEOAEqEA4AS4QCgRDgAKBEOAEqEA4AS\n4QCgRDgAKBEOAEqEA4AS4QCgRDgAKBEOAEqEA4AS4QCgRDgAKBEOAEqEA4AS4QCgRDgAKBEOAEqE\nA4AS4QCgRDgAKBEOAEqEA4AS4QCgRDgAKBEOAEqEA4AS4QCgRDgAKBEOAEqEA4AS4QCgRDgAKBEO\nAEqEA4AS4QCgRDgAKBloOFpr81prL7fWXmmt3fgRt/9Ea+1bw7d/t7V23B63/f7w9S+31s4f5JwA\njN7AwtFaOzjJvUl+NcnMJItaazP3utuSJG91XXdCkjuTfHl47cwkC5PMSjIvyVeGHw+Ank0Y4GN/\nIckrXdf9c5K01lYkuTjJhj3uc3GSPxj+/jtJ/ri11oavX9F13X8n2dhae2X48Z79uCf7ja9+7E0A\nfIxvXf2L5TWDDMe0JK/ucXlzkrM+7j5d1+1orb2T5GeGr1+z19ppez9Ba+2qJFclyU/97OxM7HZ8\nZsPvzz744INMnDix7zHGBNtiN9tiN9tit/bbL73Ydd3syppBhmPguq77WpKvJcncuXO7tWu/3/NE\nY8PcuXOzdu3avscYE2yL3WyL3WyL3Vpr26prBvnm+JYkx+xxeWj4uo+8T2ttQpLDk7w5yrUA9GCQ\n4XguyYmtteNba5Oy683ulXvdZ2WSLw1/vyDJk13XdcPXLxz+1NXxSU5M8r0BzgrAKA1sV9Xwexa/\nm+Rvkhyc5Otd1/2gtfaHSdZ2XbcyyZ8leWD4ze//zK64ZPh+386uN9J3JPmdrut2ftLzXXXVVYP6\nUfY7tsVutsVutsVutsWHfK26oO36Bf+AcMD8IAD7UKsucOQ4ACXCAUDJARGO1tq8k046KSeccEJu\nv/32vsfpzauvvppzzjknM2fOzKxZs7J8+fK+R+rVzp07M2fOnFx44YV9j9K7t99+OwsWLMjJJ5+c\nGTNm5Nlnx+8Bs3feeWdmzZqV2bNnZ9GiRdm2rfxp1P3WlVdemSlTpmT27N2HbbTWjmyt/V1r7Z+G\nv/70SI+z34fjR6c2eeyxx7Jhw4Y89NBD2bBhw4jrDkQTJkzIsmXLsmHDhqxZsyb33nvvuN0WSbJ8\n+fLMmDGj7zHGhGuvvTbz5s3LSy+9lOeff37cbpctW7bk7rvvztq1a/Piiy9m586dWbFiRd9j7TOX\nX355Hn/88b2vvjHJqq7rTkyyavjyJ9rvw5HhU5tMnz49kyZNysKFC/Pwww/3PVMvpk6dmtNPPz1J\ncuihh2bGjBnZsmV8Hv6yefPmPProo1m6dGnfo/TunXfeydNPP50lS5YkSSZNmpQjjjii56n6s2PH\njrz//vvZsWNH3nvvvRx99NF9j7TPnH322TnyyCP3vvriJN8c/v6bSX5tpMc5EMLxoVObDA0Njdt/\nLPe0adOmrF+/PmedtfdZXsaH6667LnfccUcOOuhA+CP+49m4cWMmT56cK664InPmzMnSpUvz7rvv\n9j1WL6ZNm5Ybbrghxx57bKZOnZrDDz885513Xt9j9e3zXdf92/D3P0zy+ZEW+Ft1ANq6dWvmz5+f\nu+66K4cddljf4+xzjzzySKZMmZIzzjij71HGhB07dmTdunW55pprsn79+hxyyCHj9r3At956Kw8/\n/HA2btyY1157Le+++24efPDBvscaM4YPwB7x0IYDIRwfOj3J5s2bM23a/zsf4rjxwQcfZP78+Vm8\neHEuueSSvsfpxerVq7Ny5cocd9xxWbhwYZ588slcdtllfY/Vm6GhoQwNDf3fq88FCxZk3bp1PU/V\njyeeeCLHH398Jk+enIkTJ+aSSy7JM8880/dYffv31trUJBn++vpICw6EcDyX5MSNGzdm+/btWbFi\nRS666KK+Z+pF13VZsmRJZsyYkeuvv77vcXpz2223ZfPmzdm0aVNWrFiRc889d1z/VnnUUUflmGOO\nycsvv5wkWbVqVWbO3Pu/xhkfjj322KxZsybvvfdeuq7LqlWrxu0HBfaw56mfvpRkxDeJ9+uz4ya7\nT21y/vnnP7pz585ceeWVmTVrVt9j9WL16tV54IEHcsopp+S0005Lktx666254IILep6Mvt1zzz1Z\nvHhxtm/fnunTp+e+++7re6RenHXWWVmwYEFOP/30TJgwIXPmzBlXpx9ZtGhRnnrqqbzxxhsZGhrK\nzTffnCS3J/l2a21Jkn9J8usjPY5TjgCMb045AsBgCQcAJcIBQIlwAFAiHACUCAcAJcIBQIlwAIwz\nzz33XE499dRs27YtrbVDWms/aK3NHnnlLg4ABBiHbrrppmzbti3Lli37SpLNXdfdNtq1wgEwDm3f\nvj1nnnlmXnjhhe8l+aWu63aOdq1dVQDj0JtvvpmtW7cmyaFJPldZKxwA49DVV1+dW265JUn+PMmX\nK2uFA2Ccuf/++zNx4sRceumlya6z457ZWjt3tOu9xwEwvjk7LgCDJRwAlAgHACXCAUCJcABQIhwA\nlAgHACXCAUCJcABQIhwAlAgHACXCAUCJcABQIhwAlAgHACXCAUCJcABQIhwAlAgHACXCAUCJcABQ\nIhwAlAgHACXCAUCJcABQIhwAlAgHACXCAUCJcABQIhwAlAgHACXCAUCJcABQIhwAlAgHACXCAUCJ\ncABQIhwAlAgHACXCAUCJcABQIhwAlAgHACXCAUCJcABQIhwAlAgHACXCAUCJcABQIhwAlAgHACXC\nAUCJcABQIhwAlAgHACXCAUCJcABQIhwAlAgHACXCAUCJcABQIhwAlAgHACXCAUCJcABQIhwAlAgH\nACXCAUCJcABQIhwAlAgHACXCAUCJcABQIhwAlAgHACXCAUCJcABQMqHvAT5Dre8BAMYDrzgAKBEO\nAEqEA4AS4QCgRDgAKBEOAEqEA4AS4QCgRDgAKBEOAEr+F5hfd7Zpw5giAAAAAElFTkSuQmCC\n",
          "text/plain": "<matplotlib.figure.Figure at 0x7f5db65276a0>"
         },
         "metadata": {},
         "output_type": "display_data"
        }
       ]
      }
     },
     "51380a73326c460c8578b9ba7a0fe537": {
      "model_module": "@jupyter-widgets/controls",
      "model_module_version": "1.0.0",
      "model_name": "FloatSliderModel",
      "state": {
       "description": "τ",
       "layout": "IPY_MODEL_af719c4eca3548599405ad1e54eed1c1",
       "max": 10,
       "step": 0.2,
       "style": "IPY_MODEL_c4e42f76b5184372a85ccccc3d0c33c4",
       "value": 1
      }
     },
     "51686bb39d834860ab70db027dbc51fc": {
      "model_module": "@jupyter-widgets/base",
      "model_module_version": "1.0.0",
      "model_name": "LayoutModel",
      "state": {}
     },
     "52791a9fc2b848cfb5ef9877c5ba473f": {
      "model_module": "@jupyter-widgets/base",
      "model_module_version": "1.0.0",
      "model_name": "LayoutModel",
      "state": {}
     },
     "530b67f5e4614bab9c9e6a762844facf": {
      "model_module": "@jupyter-widgets/output",
      "model_module_version": "1.0.0",
      "model_name": "OutputModel",
      "state": {
       "layout": "IPY_MODEL_cdf36ae511054b3e8de87994412948f8",
       "outputs": [
        {
         "data": {
          "image/png": "iVBORw0KGgoAAAANSUhEUgAAAY4AAAEECAYAAAA/L9PCAAAABHNCSVQICAgIfAhkiAAAAAlwSFlz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\nkjg4zMysJA4OMzMryf8HNw5cXcjMDM4AAAAASUVORK5CYII=\n",
          "text/plain": "<matplotlib.figure.Figure at 0x7f5db638e208>"
         },
         "metadata": {},
         "output_type": "display_data"
        }
       ]
      }
     },
     "5335329384c04eaba50af75c4c3df376": {
      "model_module": "@jupyter-widgets/controls",
      "model_module_version": "1.0.0",
      "model_name": "SliderStyleModel",
      "state": {
       "description_width": ""
      }
     },
     "53636134af094c9ca8d530e327336f82": {
      "model_module": "@jupyter-widgets/base",
      "model_module_version": "1.0.0",
      "model_name": "LayoutModel",
      "state": {}
     },
     "539b3c14e5f840d7824e79a867a87453": {
      "model_module": "@jupyter-widgets/base",
      "model_module_version": "1.0.0",
      "model_name": "LayoutModel",
      "state": {}
     },
     "53e8ab57a02f422cb28dfbaa25b32ce4": {
      "model_module": "@jupyter-widgets/base",
      "model_module_version": "1.0.0",
      "model_name": "LayoutModel",
      "state": {}
     },
     "54080417458a43c598af8d9ab10c375d": {
      "model_module": "@jupyter-widgets/controls",
      "model_module_version": "1.0.0",
      "model_name": "FloatSliderModel",
      "state": {
       "description": "tau",
       "layout": "IPY_MODEL_27976dfd299943aca598f7d35115bf0e",
       "max": 2,
       "step": 0.25,
       "style": "IPY_MODEL_b7a8f91ec7de47bfae47fe877fccc100",
       "value": 1
      }
     },
     "544873f2cfd64d0194439e939d088729": {
      "model_module": "@jupyter-widgets/base",
      "model_module_version": "1.0.0",
      "model_name": "LayoutModel",
      "state": {}
     },
     "559e1c28340a483596182580ab828780": {
      "model_module": "@jupyter-widgets/controls",
      "model_module_version": "1.0.0",
      "model_name": "FloatSliderModel",
      "state": {
       "description": "α",
       "layout": "IPY_MODEL_795a0a810ed4494fa09ef46769bd50e8",
       "max": 2,
       "step": 0.25,
       "style": "IPY_MODEL_0f5cf1597c5c4ca7b47430102a12b01d"
      }
     },
     "55c1ca6dd5e047c0947a1e901d92ee03": {
      "model_module": "@jupyter-widgets/base",
      "model_module_version": "1.0.0",
      "model_name": "LayoutModel",
      "state": {}
     },
     "55cbbd3c3a054763a17afdc4d92b48c2": {
      "model_module": "@jupyter-widgets/controls",
      "model_module_version": "1.0.0",
      "model_name": "FloatSliderModel",
      "state": {
       "description": "ω",
       "layout": "IPY_MODEL_1b48b1dfa0bc489099a661596c2efd9b",
       "max": 10,
       "min": -10,
       "step": 0.25,
       "style": "IPY_MODEL_62e94f9f5564441d9be63dadc284afb2",
       "value": 1
      }
     },
     "56a3bda74af648c6b381ac5ebf662a80": {
      "model_module": "@jupyter-widgets/controls",
      "model_module_version": "1.0.0",
      "model_name": "FloatSliderModel",
      "state": {
       "description": "v0",
       "layout": "IPY_MODEL_e2fde16287e941a99cc155ba59210d44",
       "max": 10,
       "min": -10,
       "step": 0.25,
       "style": "IPY_MODEL_60df53474d9e42168a9dc21bcb828eec",
       "value": 1
      }
     },
     "572a2f67bee44e48baaf322e9c5b133b": {
      "model_module": "@jupyter-widgets/base",
      "model_module_version": "1.0.0",
      "model_name": "LayoutModel",
      "state": {}
     },
     "57633138dfb54c6bb7e5ae9bc56d5285": {
      "model_module": "@jupyter-widgets/output",
      "model_module_version": "1.0.0",
      "model_name": "OutputModel",
      "state": {
       "layout": "IPY_MODEL_35166525597f406a9d039efc535e2716",
       "outputs": [
        {
         "data": {
          "image/png": "iVBORw0KGgoAAAANSUhEUgAAAYsAAAEECAYAAADZBhiGAAAABHNCSVQICAgIfAhkiAAAAAlwSFlz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\nTkSuQmCC\n",
          "text/plain": "<matplotlib.figure.Figure at 0x7f30b9a79e10>"
         },
         "metadata": {},
         "output_type": "display_data"
        }
       ]
      }
     },
     "58744959060845f399badd83d3df5168": {
      "model_module": "@jupyter-widgets/controls",
      "model_module_version": "1.0.0",
      "model_name": "SliderStyleModel",
      "state": {
       "description_width": ""
      }
     },
     "59ac2b4f93534671b3b9848ad9cded91": {
      "model_module": "@jupyter-widgets/output",
      "model_module_version": "1.0.0",
      "model_name": "OutputModel",
      "state": {
       "layout": "IPY_MODEL_fa4eee88a5844b4f8e24532d6046041a",
       "outputs": [
        {
         "data": {
          "image/png": "iVBORw0KGgoAAAANSUhEUgAAAYsAAAEECAYAAADZBhiGAAAABHNCSVQICAgIfAhkiAAAAAlwSFlz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\nKoWFiIiM6v8DZaULZHitUk8AAAAASUVORK5CYII=\n",
          "text/plain": "<matplotlib.figure.Figure at 0x7f5db6090320>"
         },
         "metadata": {},
         "output_type": "display_data"
        }
       ]
      }
     },
     "5ab8c9b0c53a4a3fbccebd9b58ebf1eb": {
      "model_module": "@jupyter-widgets/controls",
      "model_module_version": "1.0.0",
      "model_name": "SliderStyleModel",
      "state": {
       "description_width": ""
      }
     },
     "5b0f96d2fc94423f828c2707d57e9814": {
      "model_module": "@jupyter-widgets/base",
      "model_module_version": "1.0.0",
      "model_name": "LayoutModel",
      "state": {}
     },
     "5c1eb075bb7a4fe288d6d52e2b225b38": {
      "model_module": "@jupyter-widgets/controls",
      "model_module_version": "1.0.0",
      "model_name": "SliderStyleModel",
      "state": {
       "description_width": ""
      }
     },
     "5e0810582d60441bb70f79080874cd30": {
      "model_module": "@jupyter-widgets/controls",
      "model_module_version": "1.0.0",
      "model_name": "VBoxModel",
      "state": {
       "_dom_classes": [
        "widget-interact"
       ],
       "children": [
        "IPY_MODEL_4a265e47e5004024b5766eff9828420c",
        "IPY_MODEL_74dad1c0cc1f47238a226458401b842b"
       ],
       "layout": "IPY_MODEL_4b087553c7e44a8db78f4760adc80644"
      }
     },
     "5e91c66d2bcc4d21996eb53a19d5ae45": {
      "model_module": "@jupyter-widgets/output",
      "model_module_version": "1.0.0",
      "model_name": "OutputModel",
      "state": {
       "layout": "IPY_MODEL_e2e71d9228214b358208ab5ca5364019"
      }
     },
     "5f5e06dfce824238b7ed04196f7dff89": {
      "model_module": "@jupyter-widgets/output",
      "model_module_version": "1.0.0",
      "model_name": "OutputModel",
      "state": {
       "layout": "IPY_MODEL_b49b83d08219476abbf5654b684ca1bf",
       "outputs": [
        {
         "data": {
          "image/png": "iVBORw0KGgoAAAANSUhEUgAAAYsAAAEECAYAAADZBhiGAAAABHNCSVQICAgIfAhkiAAAAAlwSFlz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\nAqKxWooAAAAASUVORK5CYII=\n",
          "text/plain": "<matplotlib.figure.Figure at 0x7f30b9ae96a0>"
         },
         "metadata": {},
         "output_type": "display_data"
        }
       ]
      }
     },
     "5f9b7cc944e34351b19095880843b425": {
      "model_module": "@jupyter-widgets/controls",
      "model_module_version": "1.0.0",
      "model_name": "IntSliderModel",
      "state": {
       "description": "v",
       "layout": "IPY_MODEL_0b92f6d4fc7f4c7297dd5c470c2bc11f",
       "max": 3,
       "min": -1,
       "style": "IPY_MODEL_07c4af3734ac44d6b9f0d591c982479f",
       "value": 1
      }
     },
     "60d05ceffff044099a8afc027016a081": {
      "model_module": "@jupyter-widgets/controls",
      "model_module_version": "1.0.0",
      "model_name": "FloatSliderModel",
      "state": {
       "description": "tau",
       "layout": "IPY_MODEL_b14efbae88584299aa7f2ffe214bcead",
       "max": 2,
       "step": 0.25,
       "style": "IPY_MODEL_3b55a7d2e7de4cdfaf7245a0a9283d08",
       "value": 1
      }
     },
     "60df53474d9e42168a9dc21bcb828eec": {
      "model_module": "@jupyter-widgets/controls",
      "model_module_version": "1.0.0",
      "model_name": "SliderStyleModel",
      "state": {
       "description_width": ""
      }
     },
     "618e35c1571e430f99f81434817d9460": {
      "model_module": "@jupyter-widgets/controls",
      "model_module_version": "1.0.0",
      "model_name": "SliderStyleModel",
      "state": {
       "description_width": ""
      }
     },
     "62a8338540c3414aac1ca918293515be": {
      "model_module": "@jupyter-widgets/base",
      "model_module_version": "1.0.0",
      "model_name": "LayoutModel",
      "state": {}
     },
     "62e94f9f5564441d9be63dadc284afb2": {
      "model_module": "@jupyter-widgets/controls",
      "model_module_version": "1.0.0",
      "model_name": "SliderStyleModel",
      "state": {
       "description_width": ""
      }
     },
     "633730c7c07444e3a8cc538a3e6f98c8": {
      "model_module": "@jupyter-widgets/base",
      "model_module_version": "1.0.0",
      "model_name": "LayoutModel",
      "state": {}
     },
     "65d0f0292db7446eb4ad339eb1d92b2b": {
      "model_module": "@jupyter-widgets/controls",
      "model_module_version": "1.0.0",
      "model_name": "FloatSliderModel",
      "state": {
       "description": "τ",
       "layout": "IPY_MODEL_3b6bb175aa1746b680043d9583ad2e39",
       "max": 2,
       "min": 0.2,
       "step": 0.2,
       "style": "IPY_MODEL_c30f0899633b47dabd157be403efb6e0",
       "value": 0.2
      }
     },
     "65ff7b9d3a4c4b93bf9adcf63870ebde": {
      "model_module": "@jupyter-widgets/controls",
      "model_module_version": "1.0.0",
      "model_name": "FloatSliderModel",
      "state": {
       "description": "ω",
       "layout": "IPY_MODEL_093a04ffd4be4304887ada9ab5c21c6e",
       "max": 10,
       "min": -10,
       "step": 0.25,
       "style": "IPY_MODEL_9f9a898b18f941deba48a671bb2bf968",
       "value": 1
      }
     },
     "660673f188364808a0eaeb302e0dac91": {
      "model_module": "@jupyter-widgets/base",
      "model_module_version": "1.0.0",
      "model_name": "LayoutModel",
      "state": {}
     },
     "66354bdedddc4c49a7807dedddb551c4": {
      "model_module": "@jupyter-widgets/controls",
      "model_module_version": "1.0.0",
      "model_name": "SliderStyleModel",
      "state": {
       "description_width": ""
      }
     },
     "677173934a194ea898e35852857913a9": {
      "model_module": "@jupyter-widgets/controls",
      "model_module_version": "1.0.0",
      "model_name": "SliderStyleModel",
      "state": {
       "description_width": ""
      }
     },
     "67b4764cadf34593929a2ce2aa8e23ba": {
      "model_module": "@jupyter-widgets/controls",
      "model_module_version": "1.0.0",
      "model_name": "VBoxModel",
      "state": {
       "_dom_classes": [
        "widget-interact"
       ],
       "children": [
        "IPY_MODEL_08de6057e8a944bbb99a0dc8ea3c2484",
        "IPY_MODEL_a6c8c0c1ff0649948aa406670d48c486",
        "IPY_MODEL_ddbd4f28d2654195bf15c7d24b8c8c8f"
       ],
       "layout": "IPY_MODEL_eed041245e634e7eb384e76d4197e573"
      }
     },
     "68c8086dcce74d838dcbbd5d53cdc689": {
      "model_module": "@jupyter-widgets/base",
      "model_module_version": "1.0.0",
      "model_name": "LayoutModel",
      "state": {}
     },
     "6a774a024ee549ad894d16f5b84db515": {
      "model_module": "@jupyter-widgets/base",
      "model_module_version": "1.0.0",
      "model_name": "LayoutModel",
      "state": {}
     },
     "6b490bd19d9646e3b74c0deb3c86d579": {
      "model_module": "@jupyter-widgets/controls",
      "model_module_version": "1.0.0",
      "model_name": "VBoxModel",
      "state": {
       "_dom_classes": [
        "widget-interact"
       ],
       "children": [
        "IPY_MODEL_5f9b7cc944e34351b19095880843b425",
        "IPY_MODEL_4310c30bcef943a8ad843c436dde1df6",
        "IPY_MODEL_c20a0c2898bf42bf898a28e4993c376e"
       ],
       "layout": "IPY_MODEL_f95fd867a1304ff2854e240b25151bce"
      }
     },
     "6bba3f337c8c44c18ec083f207e9184c": {
      "model_module": "@jupyter-widgets/controls",
      "model_module_version": "1.0.0",
      "model_name": "FloatSliderModel",
      "state": {
       "description": "τ",
       "layout": "IPY_MODEL_c72210f067a641f4b0251d8e3ac35637",
       "max": 2,
       "step": 0.25,
       "style": "IPY_MODEL_7ba6be592be44307898d12a3f0960966"
      }
     },
     "6c519a25ff714b26b9dc6cfd834d203f": {
      "model_module": "@jupyter-widgets/base",
      "model_module_version": "1.0.0",
      "model_name": "LayoutModel",
      "state": {}
     },
     "6cf69700afe548c780e7b85cd19e8726": {
      "model_module": "@jupyter-widgets/controls",
      "model_module_version": "1.0.0",
      "model_name": "FloatSliderModel",
      "state": {
       "description": "tau",
       "layout": "IPY_MODEL_d7ecedb72fd84bf19a978fc80dfb28ca",
       "max": 2,
       "step": 0.25,
       "style": "IPY_MODEL_3056145322f242f9b0360889c38d3016",
       "value": 1
      }
     },
     "6d1cc07e71164a798157bdd13328bcab": {
      "model_module": "@jupyter-widgets/base",
      "model_module_version": "1.0.0",
      "model_name": "LayoutModel",
      "state": {}
     },
     "6d4ccd3ac60448d290bba8978f925ffa": {
      "model_module": "@jupyter-widgets/base",
      "model_module_version": "1.0.0",
      "model_name": "LayoutModel",
      "state": {}
     },
     "6df24fde965c4745866522958761499b": {
      "model_module": "@jupyter-widgets/controls",
      "model_module_version": "1.0.0",
      "model_name": "FloatSliderModel",
      "state": {
       "description": "xv0",
       "layout": "IPY_MODEL_d8e095c8b7d147b5be81e8c540340dcf",
       "max": 10,
       "min": -10,
       "step": 0.25,
       "style": "IPY_MODEL_e1a2687003614fd187b4f90ef41feb9d",
       "value": 1
      }
     },
     "6e239b0e708d4584af42c7500904bd42": {
      "model_module": "@jupyter-widgets/output",
      "model_module_version": "1.0.0",
      "model_name": "OutputModel",
      "state": {
       "layout": "IPY_MODEL_2ce64c2d21c3401fb3370e0ecbb16d37",
       "outputs": [
        {
         "data": {
          "image/png": "iVBORw0KGgoAAAANSUhEUgAAAZAAAAEQCAYAAACeDyIUAAAABHNCSVQICAgIfAhkiAAAAAlwSFlz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\nAAAAAElFTkSuQmCC\n",
          "text/plain": "<matplotlib.figure.Figure at 0x7f2b10036710>"
         },
         "metadata": {},
         "output_type": "display_data"
        }
       ]
      }
     },
     "6e26b6f84e194eb0862de68210b52ec6": {
      "model_module": "@jupyter-widgets/base",
      "model_module_version": "1.0.0",
      "model_name": "LayoutModel",
      "state": {}
     },
     "6e78cd3eec5046959ee4ab51c0b7c1cf": {
      "model_module": "@jupyter-widgets/base",
      "model_module_version": "1.0.0",
      "model_name": "LayoutModel",
      "state": {}
     },
     "6e9326c9372645a5a8bdf0514335f8c3": {
      "model_module": "@jupyter-widgets/output",
      "model_module_version": "1.0.0",
      "model_name": "OutputModel",
      "state": {
       "layout": "IPY_MODEL_32e08c712fa14d45a1f49ffa52836d50",
       "outputs": [
        {
         "data": {
          "image/png": "iVBORw0KGgoAAAANSUhEUgAAAYsAAAEECAYAAADZBhiGAAAABHNCSVQICAgIfAhkiAAAAAlwSFlz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\nqZbCQkREqvX/PENpKt2GDvgAAAAASUVORK5CYII=\n",
          "text/plain": "<matplotlib.figure.Figure at 0x7f5db8921f98>"
         },
         "metadata": {},
         "output_type": "display_data"
        }
       ]
      }
     },
     "704d4422cc044ee891c192f6b9b09dd4": {
      "model_module": "@jupyter-widgets/output",
      "model_module_version": "1.0.0",
      "model_name": "OutputModel",
      "state": {
       "layout": "IPY_MODEL_43058345f2da4e5eb4fffa3bf4c9c72a",
       "outputs": [
        {
         "ename": "NameError",
         "evalue": "name 'sympy' is not defined",
         "output_type": "error",
         "traceback": [
          "\u001b[0;31m---------------------------------------------------------------------------\u001b[0m",
          "\u001b[0;31mNameError\u001b[0m                                 Traceback (most recent call last)",
          "\u001b[0;32m~/.local/lib/python3.6/site-packages/ipywidgets/widgets/interaction.py\u001b[0m in \u001b[0;36mupdate\u001b[0;34m(self, *args)\u001b[0m\n\u001b[1;32m    248\u001b[0m                     \u001b[0mvalue\u001b[0m \u001b[0;34m=\u001b[0m \u001b[0mwidget\u001b[0m\u001b[0;34m.\u001b[0m\u001b[0mget_interact_value\u001b[0m\u001b[0;34m(\u001b[0m\u001b[0;34m)\u001b[0m\u001b[0;34m\u001b[0m\u001b[0m\n\u001b[1;32m    249\u001b[0m                     \u001b[0mself\u001b[0m\u001b[0;34m.\u001b[0m\u001b[0mkwargs\u001b[0m\u001b[0;34m[\u001b[0m\u001b[0mwidget\u001b[0m\u001b[0;34m.\u001b[0m\u001b[0m_kwarg\u001b[0m\u001b[0;34m]\u001b[0m \u001b[0;34m=\u001b[0m \u001b[0mvalue\u001b[0m\u001b[0;34m\u001b[0m\u001b[0m\n\u001b[0;32m--> 250\u001b[0;31m                 \u001b[0mself\u001b[0m\u001b[0;34m.\u001b[0m\u001b[0mresult\u001b[0m \u001b[0;34m=\u001b[0m \u001b[0mself\u001b[0m\u001b[0;34m.\u001b[0m\u001b[0mf\u001b[0m\u001b[0;34m(\u001b[0m\u001b[0;34m**\u001b[0m\u001b[0mself\u001b[0m\u001b[0;34m.\u001b[0m\u001b[0mkwargs\u001b[0m\u001b[0;34m)\u001b[0m\u001b[0;34m\u001b[0m\u001b[0m\n\u001b[0m\u001b[1;32m    251\u001b[0m                 \u001b[0mshow_inline_matplotlib_plots\u001b[0m\u001b[0;34m(\u001b[0m\u001b[0;34m)\u001b[0m\u001b[0;34m\u001b[0m\u001b[0m\n\u001b[1;32m    252\u001b[0m                 \u001b[0;32mif\u001b[0m \u001b[0mself\u001b[0m\u001b[0;34m.\u001b[0m\u001b[0mauto_display\u001b[0m \u001b[0;32mand\u001b[0m \u001b[0mself\u001b[0m\u001b[0;34m.\u001b[0m\u001b[0mresult\u001b[0m \u001b[0;32mis\u001b[0m \u001b[0;32mnot\u001b[0m \u001b[0;32mNone\u001b[0m\u001b[0;34m:\u001b[0m\u001b[0;34m\u001b[0m\u001b[0m\n",
          "\u001b[0;32m<ipython-input-20-015c91441dea>\u001b[0m in \u001b[0;36mplot_f\u001b[0;34m(ω, α)\u001b[0m\n\u001b[1;32m     15\u001b[0m \u001b[0;34m\u001b[0m\u001b[0m\n\u001b[1;32m     16\u001b[0m     \u001b[0;31m# Plot position vs time\u001b[0m\u001b[0;34m\u001b[0m\u001b[0;34m\u001b[0m\u001b[0m\n\u001b[0;32m---> 17\u001b[0;31m     \u001b[0msympy\u001b[0m\u001b[0;34m.\u001b[0m\u001b[0mplot\u001b[0m\u001b[0;34m(\u001b[0m\u001b[0mx1\u001b[0m\u001b[0;34m.\u001b[0m\u001b[0margs\u001b[0m\u001b[0;34m[\u001b[0m\u001b[0;36m1\u001b[0m\u001b[0;34m]\u001b[0m\u001b[0;34m,\u001b[0m \u001b[0;34m(\u001b[0m\u001b[0mt\u001b[0m\u001b[0;34m,\u001b[0m \u001b[0;36m0.0\u001b[0m\u001b[0;34m,\u001b[0m \u001b[0;36m10.0\u001b[0m\u001b[0;34m)\u001b[0m\u001b[0;34m)\u001b[0m\u001b[0;34m;\u001b[0m\u001b[0;34m\u001b[0m\u001b[0m\n\u001b[0m\u001b[1;32m     18\u001b[0m \u001b[0;34m\u001b[0m\u001b[0m\n\u001b[1;32m     19\u001b[0m     \u001b[0;31m#t = np.linspace(0, 2*np.pi, 200)\u001b[0m\u001b[0;34m\u001b[0m\u001b[0;34m\u001b[0m\u001b[0m\n",
          "\u001b[0;31mNameError\u001b[0m: name 'sympy' is not defined"
         ]
        }
       ]
      }
     },
     "7073960cc1c542c991f20212d860a774": {
      "model_module": "@jupyter-widgets/base",
      "model_module_version": "1.0.0",
      "model_name": "LayoutModel",
      "state": {}
     },
     "70794b846b2f40d29dd2245c0c045486": {
      "model_module": "@jupyter-widgets/controls",
      "model_module_version": "1.0.0",
      "model_name": "VBoxModel",
      "state": {
       "_dom_classes": [
        "widget-interact"
       ],
       "children": [
        "IPY_MODEL_34b3a8516d3e4d7b9b5c69018a19bb24",
        "IPY_MODEL_f1da5098febe443991daeb921e7c3e6f",
        "IPY_MODEL_220a95fbce0c4fd4be22bf1f4c922092"
       ],
       "layout": "IPY_MODEL_23adebb027954dff851e2af83e90eef7"
      }
     },
     "734ddaa7987a4a6a87e6dce8c4437fba": {
      "model_module": "@jupyter-widgets/output",
      "model_module_version": "1.0.0",
      "model_name": "OutputModel",
      "state": {
       "layout": "IPY_MODEL_e14a21659b4c4a218702e70405881827",
       "outputs": [
        {
         "data": {
          "image/png": "iVBORw0KGgoAAAANSUhEUgAAAZYAAAEZCAYAAAC0HgObAAAABHNCSVQICAgIfAhkiAAAAAlwSFlz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\n9zcAAAAASUVORK5CYII=\n",
          "text/plain": "<matplotlib.figure.Figure at 0x7f30bbadc8d0>"
         },
         "metadata": {},
         "output_type": "display_data"
        }
       ]
      }
     },
     "7405792ffafa4a1fa52ed63a8bc993b1": {
      "model_module": "@jupyter-widgets/base",
      "model_module_version": "1.0.0",
      "model_name": "LayoutModel",
      "state": {}
     },
     "7409fd87db9d45a094164cf91ad28f3b": {
      "model_module": "@jupyter-widgets/base",
      "model_module_version": "1.0.0",
      "model_name": "LayoutModel",
      "state": {}
     },
     "74dad1c0cc1f47238a226458401b842b": {
      "model_module": "@jupyter-widgets/output",
      "model_module_version": "1.0.0",
      "model_name": "OutputModel",
      "state": {
       "layout": "IPY_MODEL_be6c522360f64eeeae41c400d384d031",
       "outputs": [
        {
         "data": {
          "image/png": "iVBORw0KGgoAAAANSUhEUgAAAYsAAAEECAYAAADZBhiGAAAABHNCSVQICAgIfAhkiAAAAAlwSFlz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\n",
          "text/plain": "<matplotlib.figure.Figure at 0x7f5db62c1ac8>"
         },
         "metadata": {},
         "output_type": "display_data"
        }
       ]
      }
     },
     "7520c5162e1343ff8903dc5e14cd0ac9": {
      "model_module": "@jupyter-widgets/controls",
      "model_module_version": "1.0.0",
      "model_name": "SliderStyleModel",
      "state": {
       "description_width": ""
      }
     },
     "7648f00a6ee649b6b66351103c7a6c5f": {
      "model_module": "@jupyter-widgets/base",
      "model_module_version": "1.0.0",
      "model_name": "LayoutModel",
      "state": {}
     },
     "7687c717facf49409229dddea8b60d2e": {
      "model_module": "@jupyter-widgets/controls",
      "model_module_version": "1.0.0",
      "model_name": "SliderStyleModel",
      "state": {
       "description_width": ""
      }
     },
     "76ed8395302d4326818877b412519b76": {
      "model_module": "@jupyter-widgets/controls",
      "model_module_version": "1.0.0",
      "model_name": "VBoxModel",
      "state": {
       "_dom_classes": [
        "widget-interact"
       ],
       "children": [
        "IPY_MODEL_357bcfadd62548a6bf01f6b1a45209f2",
        "IPY_MODEL_848aa8651a354124955d9896399677cf",
        "IPY_MODEL_734ddaa7987a4a6a87e6dce8c4437fba"
       ],
       "layout": "IPY_MODEL_cf91d3086dc94c81bdbd25a953897442"
      }
     },
     "78e53fd206c04831b5ae4cee6be9b9d4": {
      "model_module": "@jupyter-widgets/base",
      "model_module_version": "1.0.0",
      "model_name": "LayoutModel",
      "state": {}
     },
     "7934ece9053543cda1a95495527b35d7": {
      "model_module": "@jupyter-widgets/output",
      "model_module_version": "1.0.0",
      "model_name": "OutputModel",
      "state": {
       "layout": "IPY_MODEL_544873f2cfd64d0194439e939d088729",
       "outputs": [
        {
         "data": {
          "image/png": "iVBORw0KGgoAAAANSUhEUgAAAYsAAAEECAYAAADZBhiGAAAABHNCSVQICAgIfAhkiAAAAAlwSFlz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\niIh0SmEhIiKdUliIiEin/j/7BFTZeDYCNAAAAABJRU5ErkJggg==\n",
          "text/plain": "<matplotlib.figure.Figure at 0x7f5db85ce550>"
         },
         "metadata": {},
         "output_type": "display_data"
        }
       ]
      }
     },
     "795a0a810ed4494fa09ef46769bd50e8": {
      "model_module": "@jupyter-widgets/base",
      "model_module_version": "1.0.0",
      "model_name": "LayoutModel",
      "state": {}
     },
     "7ad38b18c2c44eda9b25707afb8f6233": {
      "model_module": "@jupyter-widgets/base",
      "model_module_version": "1.0.0",
      "model_name": "LayoutModel",
      "state": {}
     },
     "7b43936f80c2401e97a9f7754974df08": {
      "model_module": "@jupyter-widgets/controls",
      "model_module_version": "1.0.0",
      "model_name": "VBoxModel",
      "state": {
       "_dom_classes": [
        "widget-interact"
       ],
       "children": [
        "IPY_MODEL_55cbbd3c3a054763a17afdc4d92b48c2",
        "IPY_MODEL_4d8bf08967344deb8d35ede73be969df",
        "IPY_MODEL_4dddc8139c3747ea94332563c1f221cd"
       ],
       "layout": "IPY_MODEL_7648f00a6ee649b6b66351103c7a6c5f"
      }
     },
     "7ba6be592be44307898d12a3f0960966": {
      "model_module": "@jupyter-widgets/controls",
      "model_module_version": "1.0.0",
      "model_name": "SliderStyleModel",
      "state": {
       "description_width": ""
      }
     },
     "7cedba93607247f38e07e6203a9c41d4": {
      "model_module": "@jupyter-widgets/controls",
      "model_module_version": "1.0.0",
      "model_name": "FloatSliderModel",
      "state": {
       "description": "ω",
       "layout": "IPY_MODEL_6d4ccd3ac60448d290bba8978f925ffa",
       "max": 10,
       "min": -10,
       "step": 0.25,
       "style": "IPY_MODEL_b1c7559ba99640e098adb540566a29e0",
       "value": 1
      }
     },
     "7df6d508d4e44a4085ce7b98e60bc7cb": {
      "model_module": "@jupyter-widgets/base",
      "model_module_version": "1.0.0",
      "model_name": "LayoutModel",
      "state": {}
     },
     "80cfe71a6b534414b26370f3cbfa64fa": {
      "model_module": "@jupyter-widgets/base",
      "model_module_version": "1.0.0",
      "model_name": "LayoutModel",
      "state": {}
     },
     "8316f6ede821489f8d90f89c82499def": {
      "model_module": "@jupyter-widgets/controls",
      "model_module_version": "1.0.0",
      "model_name": "VBoxModel",
      "state": {
       "_dom_classes": [
        "widget-interact"
       ],
       "children": [
        "IPY_MODEL_a52567bf267b48fe84965530bff70e1d",
        "IPY_MODEL_1fa1112f6e4745d7bc514fc852d76a3e",
        "IPY_MODEL_32f16352a29942dd8c1d0ac081a8fde7"
       ],
       "layout": "IPY_MODEL_fed43b563b59467a9a62da44b40621bb"
      }
     },
     "848aa8651a354124955d9896399677cf": {
      "model_module": "@jupyter-widgets/controls",
      "model_module_version": "1.0.0",
      "model_name": "FloatSliderModel",
      "state": {
       "description": "α",
       "layout": "IPY_MODEL_3e4090ba5afd47f5a5b9ba28b4281585",
       "max": 2,
       "step": 0.25,
       "style": "IPY_MODEL_618e35c1571e430f99f81434817d9460"
      }
     },
     "84b7de7618924eabb6988bf769352dee": {
      "model_module": "@jupyter-widgets/controls",
      "model_module_version": "1.0.0",
      "model_name": "FloatSliderModel",
      "state": {
       "description": "v0",
       "layout": "IPY_MODEL_80cfe71a6b534414b26370f3cbfa64fa",
       "max": 10,
       "min": -10,
       "step": 0.25,
       "style": "IPY_MODEL_1ee88dc40a6f448d8a96c9f2e503e155"
      }
     },
     "85744dcfbc9349f88ce51cfeff7f5de6": {
      "model_module": "@jupyter-widgets/controls",
      "model_module_version": "1.0.0",
      "model_name": "SliderStyleModel",
      "state": {
       "description_width": ""
      }
     },
     "868dd689d5be48548129088f5264e15f": {
      "model_module": "@jupyter-widgets/base",
      "model_module_version": "1.0.0",
      "model_name": "LayoutModel",
      "state": {}
     },
     "8721d5a319ac409b93ec4f02ca6e8290": {
      "model_module": "@jupyter-widgets/base",
      "model_module_version": "1.0.0",
      "model_name": "LayoutModel",
      "state": {}
     },
     "87f0625dd5e34524af68ac4207ad8419": {
      "model_module": "@jupyter-widgets/controls",
      "model_module_version": "1.0.0",
      "model_name": "SliderStyleModel",
      "state": {
       "description_width": ""
      }
     },
     "881c161dad434657ba49e353513646e1": {
      "model_module": "@jupyter-widgets/output",
      "model_module_version": "1.0.0",
      "model_name": "OutputModel",
      "state": {
       "layout": "IPY_MODEL_96905b9819ab417180527962a93dd4ab",
       "outputs": [
        {
         "ename": "RecursionError",
         "evalue": "maximum recursion depth exceeded",
         "output_type": "error",
         "traceback": [
          "\u001b[0;31m---------------------------------------------------------------------------\u001b[0m",
          "\u001b[0;31mRecursionError\u001b[0m                            Traceback (most recent call last)",
          "\u001b[0;32m~/.local/lib/python3.6/site-packages/ipywidgets/widgets/interaction.py\u001b[0m in \u001b[0;36mupdate\u001b[0;34m(self, *args)\u001b[0m\n\u001b[1;32m    248\u001b[0m                     \u001b[0mvalue\u001b[0m \u001b[0;34m=\u001b[0m \u001b[0mwidget\u001b[0m\u001b[0;34m.\u001b[0m\u001b[0mget_interact_value\u001b[0m\u001b[0;34m(\u001b[0m\u001b[0;34m)\u001b[0m\u001b[0;34m\u001b[0m\u001b[0m\n\u001b[1;32m    249\u001b[0m                     \u001b[0mself\u001b[0m\u001b[0;34m.\u001b[0m\u001b[0mkwargs\u001b[0m\u001b[0;34m[\u001b[0m\u001b[0mwidget\u001b[0m\u001b[0;34m.\u001b[0m\u001b[0m_kwarg\u001b[0m\u001b[0;34m]\u001b[0m \u001b[0;34m=\u001b[0m \u001b[0mvalue\u001b[0m\u001b[0;34m\u001b[0m\u001b[0m\n\u001b[0;32m--> 250\u001b[0;31m                 \u001b[0mself\u001b[0m\u001b[0;34m.\u001b[0m\u001b[0mresult\u001b[0m \u001b[0;34m=\u001b[0m \u001b[0mself\u001b[0m\u001b[0;34m.\u001b[0m\u001b[0mf\u001b[0m\u001b[0;34m(\u001b[0m\u001b[0;34m**\u001b[0m\u001b[0mself\u001b[0m\u001b[0;34m.\u001b[0m\u001b[0mkwargs\u001b[0m\u001b[0;34m)\u001b[0m\u001b[0;34m\u001b[0m\u001b[0m\n\u001b[0m\u001b[1;32m    251\u001b[0m                 \u001b[0mshow_inline_matplotlib_plots\u001b[0m\u001b[0;34m(\u001b[0m\u001b[0;34m)\u001b[0m\u001b[0;34m\u001b[0m\u001b[0m\n\u001b[1;32m    252\u001b[0m                 \u001b[0;32mif\u001b[0m \u001b[0mself\u001b[0m\u001b[0;34m.\u001b[0m\u001b[0mauto_display\u001b[0m \u001b[0;32mand\u001b[0m \u001b[0mself\u001b[0m\u001b[0;34m.\u001b[0m\u001b[0mresult\u001b[0m \u001b[0;32mis\u001b[0m \u001b[0;32mnot\u001b[0m \u001b[0;32mNone\u001b[0m\u001b[0;34m:\u001b[0m\u001b[0;34m\u001b[0m\u001b[0m\n",
          "\u001b[0;32m<ipython-input-12-c0b5680df848>\u001b[0m in \u001b[0;36mplot\u001b[0;34m(ω, α)\u001b[0m\n\u001b[1;32m     15\u001b[0m \u001b[0;34m\u001b[0m\u001b[0m\n\u001b[1;32m     16\u001b[0m     \u001b[0;31m# Plot position vs time\u001b[0m\u001b[0;34m\u001b[0m\u001b[0;34m\u001b[0m\u001b[0m\n\u001b[0;32m---> 17\u001b[0;31m     \u001b[0mplot\u001b[0m\u001b[0;34m(\u001b[0m\u001b[0mx1\u001b[0m\u001b[0;34m.\u001b[0m\u001b[0margs\u001b[0m\u001b[0;34m[\u001b[0m\u001b[0;36m1\u001b[0m\u001b[0;34m]\u001b[0m\u001b[0;34m,\u001b[0m \u001b[0;34m(\u001b[0m\u001b[0mt\u001b[0m\u001b[0;34m,\u001b[0m \u001b[0;36m0.0\u001b[0m\u001b[0;34m,\u001b[0m \u001b[0;36m10.0\u001b[0m\u001b[0;34m)\u001b[0m\u001b[0;34m)\u001b[0m\u001b[0;34m;\u001b[0m\u001b[0;34m\u001b[0m\u001b[0m\n\u001b[0m\u001b[1;32m     18\u001b[0m \u001b[0;34m\u001b[0m\u001b[0m\n\u001b[1;32m     19\u001b[0m     \u001b[0;31m#t = np.linspace(0, 2*np.pi, 200)\u001b[0m\u001b[0;34m\u001b[0m\u001b[0;34m\u001b[0m\u001b[0m\n",
          "... last 1 frames repeated, from the frame below ...\n",
          "\u001b[0;32m<ipython-input-12-c0b5680df848>\u001b[0m in \u001b[0;36mplot\u001b[0;34m(ω, α)\u001b[0m\n\u001b[1;32m     15\u001b[0m \u001b[0;34m\u001b[0m\u001b[0m\n\u001b[1;32m     16\u001b[0m     \u001b[0;31m# Plot position vs time\u001b[0m\u001b[0;34m\u001b[0m\u001b[0;34m\u001b[0m\u001b[0m\n\u001b[0;32m---> 17\u001b[0;31m     \u001b[0mplot\u001b[0m\u001b[0;34m(\u001b[0m\u001b[0mx1\u001b[0m\u001b[0;34m.\u001b[0m\u001b[0margs\u001b[0m\u001b[0;34m[\u001b[0m\u001b[0;36m1\u001b[0m\u001b[0;34m]\u001b[0m\u001b[0;34m,\u001b[0m \u001b[0;34m(\u001b[0m\u001b[0mt\u001b[0m\u001b[0;34m,\u001b[0m \u001b[0;36m0.0\u001b[0m\u001b[0;34m,\u001b[0m \u001b[0;36m10.0\u001b[0m\u001b[0;34m)\u001b[0m\u001b[0;34m)\u001b[0m\u001b[0;34m;\u001b[0m\u001b[0;34m\u001b[0m\u001b[0m\n\u001b[0m\u001b[1;32m     18\u001b[0m \u001b[0;34m\u001b[0m\u001b[0m\n\u001b[1;32m     19\u001b[0m     \u001b[0;31m#t = np.linspace(0, 2*np.pi, 200)\u001b[0m\u001b[0;34m\u001b[0m\u001b[0;34m\u001b[0m\u001b[0m\n",
          "\u001b[0;31mRecursionError\u001b[0m: maximum recursion depth exceeded"
         ]
        }
       ]
      }
     },
     "8848371c0bd14572af8df0a3a8b2f25b": {
      "model_module": "@jupyter-widgets/controls",
      "model_module_version": "1.0.0",
      "model_name": "VBoxModel",
      "state": {
       "_dom_classes": [
        "widget-interact"
       ],
       "children": [
        "IPY_MODEL_23d9747f30bb42c99b0bd516dc1efa23",
        "IPY_MODEL_60d05ceffff044099a8afc027016a081",
        "IPY_MODEL_121bc96660d94ab98d16500535715557"
       ],
       "layout": "IPY_MODEL_8bec98747c42434eab17ebd2e11ffcfa"
      }
     },
     "8864348048924635898374161af38df6": {
      "model_module": "@jupyter-widgets/controls",
      "model_module_version": "1.0.0",
      "model_name": "SliderStyleModel",
      "state": {
       "description_width": ""
      }
     },
     "88a5256b66f642ef9018f9bf7952f3a0": {
      "model_module": "@jupyter-widgets/base",
      "model_module_version": "1.0.0",
      "model_name": "LayoutModel",
      "state": {}
     },
     "89141d857585406ca23fabcf43fe41c1": {
      "model_module": "@jupyter-widgets/controls",
      "model_module_version": "1.0.0",
      "model_name": "SliderStyleModel",
      "state": {
       "description_width": ""
      }
     },
     "8979e9d7b1a64a28b9c329089de5f8ce": {
      "model_module": "@jupyter-widgets/controls",
      "model_module_version": "1.0.0",
      "model_name": "FloatSliderModel",
      "state": {
       "description": "τ",
       "layout": "IPY_MODEL_34cf801200c345b3839e0f62423733b5",
       "max": 10,
       "step": 0.2,
       "style": "IPY_MODEL_ebe0151631134defa791f83073ad18a5",
       "value": 1
      }
     },
     "8a12082d2a7545b5a8cf3ee59fe2ddbe": {
      "model_module": "@jupyter-widgets/base",
      "model_module_version": "1.0.0",
      "model_name": "LayoutModel",
      "state": {}
     },
     "8a1ab8988812478a854f12858ba5429a": {
      "model_module": "@jupyter-widgets/controls",
      "model_module_version": "1.0.0",
      "model_name": "VBoxModel",
      "state": {
       "_dom_classes": [
        "widget-interact"
       ],
       "children": [
        "IPY_MODEL_a75e7d4fec0a4d498fe1890599b6fecb",
        "IPY_MODEL_081da3a683a640fa9ef6542f8a16e929"
       ],
       "layout": "IPY_MODEL_967646cf495a4744b2127faa2540dd82"
      }
     },
     "8bec98747c42434eab17ebd2e11ffcfa": {
      "model_module": "@jupyter-widgets/base",
      "model_module_version": "1.0.0",
      "model_name": "LayoutModel",
      "state": {}
     },
     "8c83228186704260a1b65990f604b3d6": {
      "model_module": "@jupyter-widgets/controls",
      "model_module_version": "1.0.0",
      "model_name": "VBoxModel",
      "state": {
       "_dom_classes": [
        "widget-interact"
       ],
       "children": [
        "IPY_MODEL_2175abe9127c430cb997498e1393057b",
        "IPY_MODEL_dc7c295ff99d49a09df448f16d40b7d7",
        "IPY_MODEL_df7b50d567c64025971ec8b9b51212d7"
       ],
       "layout": "IPY_MODEL_6a774a024ee549ad894d16f5b84db515"
      }
     },
     "8ea19a37e08048cd98a39067462cdd60": {
      "model_module": "@jupyter-widgets/output",
      "model_module_version": "1.0.0",
      "model_name": "OutputModel",
      "state": {
       "layout": "IPY_MODEL_a8c354b21c94413aaff2b84943a5d4a6"
      }
     },
     "8f3cd0276fa54bcea6fee5af01049873": {
      "model_module": "@jupyter-widgets/base",
      "model_module_version": "1.0.0",
      "model_name": "LayoutModel",
      "state": {}
     },
     "8fa06513ca7148dfaee9be31cff94e15": {
      "model_module": "@jupyter-widgets/output",
      "model_module_version": "1.0.0",
      "model_name": "OutputModel",
      "state": {
       "layout": "IPY_MODEL_490bbc4984234780a9908324e9bf6946",
       "outputs": [
        {
         "data": {
          "image/png": "iVBORw0KGgoAAAANSUhEUgAAAY4AAAEECAYAAAA/L9PCAAAABHNCSVQICAgIfAhkiAAAAAlwSFlz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\nWVkcHGZmVhYHh5mZleX/A/ygYVv1nCz3AAAAAElFTkSuQmCC\n",
          "text/plain": "<matplotlib.figure.Figure at 0x7f5db635fa58>"
         },
         "metadata": {},
         "output_type": "display_data"
        }
       ]
      }
     },
     "8fdc38d62bb44435a37d3a1e9c1f31a8": {
      "model_module": "@jupyter-widgets/output",
      "model_module_version": "1.0.0",
      "model_name": "OutputModel",
      "state": {
       "layout": "IPY_MODEL_cd870c5a2d8e4a8ba52ca7baaa5122ac"
      }
     },
     "919b6684fa4244758c0c25b67b61e9ed": {
      "model_module": "@jupyter-widgets/controls",
      "model_module_version": "1.0.0",
      "model_name": "FloatSliderModel",
      "state": {
       "description": "τ",
       "layout": "IPY_MODEL_27d1170656c84cba9128c30edde983e7",
       "max": 10,
       "step": 0.2,
       "style": "IPY_MODEL_47d848256ae04724b331dde9e9aee141",
       "value": 1
      }
     },
     "9201bf64722e45d8b36d90b06d2febff": {
      "model_module": "@jupyter-widgets/controls",
      "model_module_version": "1.0.0",
      "model_name": "FloatSliderModel",
      "state": {
       "description": "tau",
       "layout": "IPY_MODEL_d417de3525cc41988f0ebaf4b0273bd7",
       "max": 2,
       "step": 0.25,
       "style": "IPY_MODEL_07cb9f2db35444d7863f9e5998c1343a",
       "value": 0.1
      }
     },
     "95360a6c92f84f1f969bb89d27aa0f46": {
      "model_module": "@jupyter-widgets/base",
      "model_module_version": "1.0.0",
      "model_name": "LayoutModel",
      "state": {}
     },
     "959b7cf016284007a8e4a95cec209c47": {
      "model_module": "@jupyter-widgets/controls",
      "model_module_version": "1.0.0",
      "model_name": "FloatSliderModel",
      "state": {
       "description": "α",
       "layout": "IPY_MODEL_55c1ca6dd5e047c0947a1e901d92ee03",
       "max": 2,
       "step": 0.25,
       "style": "IPY_MODEL_19141e486c444c4e89086a340c983f5e"
      }
     },
     "967646cf495a4744b2127faa2540dd82": {
      "model_module": "@jupyter-widgets/base",
      "model_module_version": "1.0.0",
      "model_name": "LayoutModel",
      "state": {}
     },
     "96905b9819ab417180527962a93dd4ab": {
      "model_module": "@jupyter-widgets/base",
      "model_module_version": "1.0.0",
      "model_name": "LayoutModel",
      "state": {}
     },
     "97ecfa6d45ea4657a227aa7d4d52b684": {
      "model_module": "@jupyter-widgets/base",
      "model_module_version": "1.0.0",
      "model_name": "LayoutModel",
      "state": {}
     },
     "9847bbac90d749129b186c2d7a01751e": {
      "model_module": "@jupyter-widgets/base",
      "model_module_version": "1.0.0",
      "model_name": "LayoutModel",
      "state": {}
     },
     "99614216856b41fbbaac920cbac316f1": {
      "model_module": "@jupyter-widgets/base",
      "model_module_version": "1.0.0",
      "model_name": "LayoutModel",
      "state": {}
     },
     "9aad4e866afc4244aef2866b80ac6e82": {
      "model_module": "@jupyter-widgets/output",
      "model_module_version": "1.0.0",
      "model_name": "OutputModel",
      "state": {
       "layout": "IPY_MODEL_1c0d20f5d9b44d6fa5461092fcdbd9bb"
      }
     },
     "9b2ea821f66a4d85926cf47668ba0da9": {
      "model_module": "@jupyter-widgets/controls",
      "model_module_version": "1.0.0",
      "model_name": "FloatSliderModel",
      "state": {
       "description": "v",
       "layout": "IPY_MODEL_5008f39e7e874aa795338f65fe8caa5b",
       "max": 10,
       "min": -10,
       "step": 0.25,
       "style": "IPY_MODEL_4eb13963f5854bb9affa76da0763ee8a",
       "value": 1.75
      }
     },
     "9be014ebc2eb4a0ea0b249eb9a7500ef": {
      "model_module": "@jupyter-widgets/base",
      "model_module_version": "1.0.0",
      "model_name": "LayoutModel",
      "state": {}
     },
     "9db0288172584757ab22a8c200eb3cf5": {
      "model_module": "@jupyter-widgets/controls",
      "model_module_version": "1.0.0",
      "model_name": "VBoxModel",
      "state": {
       "_dom_classes": [
        "widget-interact"
       ],
       "children": [
        "IPY_MODEL_9b2ea821f66a4d85926cf47668ba0da9",
        "IPY_MODEL_08d656715bf24ea18124dca4494fe842",
        "IPY_MODEL_c0d7eed7b92a4c9eac2aa6b287a16c78"
       ],
       "layout": "IPY_MODEL_53636134af094c9ca8d530e327336f82"
      }
     },
     "9dd8f3d1b9f843269e5edef44ae75885": {
      "model_module": "@jupyter-widgets/base",
      "model_module_version": "1.0.0",
      "model_name": "LayoutModel",
      "state": {}
     },
     "9e2ebfabca5d4ad7b32bc2b08a5a3da9": {
      "model_module": "@jupyter-widgets/base",
      "model_module_version": "1.0.0",
      "model_name": "LayoutModel",
      "state": {}
     },
     "9e3629772d6c45d3aafb7a325e663c9d": {
      "model_module": "@jupyter-widgets/base",
      "model_module_version": "1.0.0",
      "model_name": "LayoutModel",
      "state": {}
     },
     "9e6e521370424115a3c13e06691737a7": {
      "model_module": "@jupyter-widgets/controls",
      "model_module_version": "1.0.0",
      "model_name": "VBoxModel",
      "state": {
       "_dom_classes": [
        "widget-interact"
       ],
       "children": [
        "IPY_MODEL_bd6b3acc8f1741f79ac337f0c8837ba4",
        "IPY_MODEL_559e1c28340a483596182580ab828780",
        "IPY_MODEL_103a9f03efd94b4ea6c6ce6a6334a863"
       ],
       "layout": "IPY_MODEL_4bbbe8077b604676ae194dd4164cdd75"
      }
     },
     "9e706b0e571e44c49c3da80a31938f50": {
      "model_module": "@jupyter-widgets/controls",
      "model_module_version": "1.0.0",
      "model_name": "SliderStyleModel",
      "state": {
       "description_width": ""
      }
     },
     "9ea6910e03f94ab6bc8a07443f7c825d": {
      "model_module": "@jupyter-widgets/controls",
      "model_module_version": "1.0.0",
      "model_name": "VBoxModel",
      "state": {
       "_dom_classes": [
        "widget-interact"
       ],
       "children": [
        "IPY_MODEL_148b57429abd4940bec10ff6fce55039",
        "IPY_MODEL_6bba3f337c8c44c18ec083f207e9184c",
        "IPY_MODEL_adb545f2a0f7437d93e49efdb3cc7436"
       ],
       "layout": "IPY_MODEL_2dc8ac044c0e4c29adf34bd747920fb1"
      }
     },
     "9f9a898b18f941deba48a671bb2bf968": {
      "model_module": "@jupyter-widgets/controls",
      "model_module_version": "1.0.0",
      "model_name": "SliderStyleModel",
      "state": {
       "description_width": ""
      }
     },
     "9fce6b5a9c0a4278af05e97a56d1b961": {
      "model_module": "@jupyter-widgets/controls",
      "model_module_version": "1.0.0",
      "model_name": "SliderStyleModel",
      "state": {
       "description_width": ""
      }
     },
     "a0a97a5711f748178338399fcb0cac20": {
      "model_module": "@jupyter-widgets/base",
      "model_module_version": "1.0.0",
      "model_name": "LayoutModel",
      "state": {}
     },
     "a395e7c50f404c3388902a8e692afcde": {
      "model_module": "@jupyter-widgets/base",
      "model_module_version": "1.0.0",
      "model_name": "LayoutModel",
      "state": {}
     },
     "a3cdead6b3ab4216a63d4bf3c2abbf28": {
      "model_module": "@jupyter-widgets/base",
      "model_module_version": "1.0.0",
      "model_name": "LayoutModel",
      "state": {}
     },
     "a52567bf267b48fe84965530bff70e1d": {
      "model_module": "@jupyter-widgets/controls",
      "model_module_version": "1.0.0",
      "model_name": "FloatSliderModel",
      "state": {
       "description": "ω",
       "layout": "IPY_MODEL_2ea7550686ee4e04a51c51ffefb0ccc6",
       "max": 10,
       "min": -10,
       "step": 0.25,
       "style": "IPY_MODEL_2fcb3b85f67d46948abb1e453c99b1f9",
       "value": 1
      }
     },
     "a5331b8c9f8948a4b1f5aace9ec3ad27": {
      "model_module": "@jupyter-widgets/base",
      "model_module_version": "1.0.0",
      "model_name": "LayoutModel",
      "state": {}
     },
     "a6c8c0c1ff0649948aa406670d48c486": {
      "model_module": "@jupyter-widgets/controls",
      "model_module_version": "1.0.0",
      "model_name": "IntSliderModel",
      "state": {
       "description": "tau",
       "layout": "IPY_MODEL_fedbd61dfe3b4fc288bcc2115c2ac9d9",
       "max": 1,
       "style": "IPY_MODEL_40e556f077df4e65bcd062b9fe6200f0"
      }
     },
     "a74dd0d220154198bf1a6e0d2dbe56f1": {
      "model_module": "@jupyter-widgets/controls",
      "model_module_version": "1.0.0",
      "model_name": "VBoxModel",
      "state": {
       "_dom_classes": [
        "widget-interact"
       ],
       "children": [
        "IPY_MODEL_8979e9d7b1a64a28b9c329089de5f8ce",
        "IPY_MODEL_c8a22a0fc1194780bf25e76bb66268a2"
       ],
       "layout": "IPY_MODEL_cd3129fd91d54f2fbd5a99955c58b8f9"
      }
     },
     "a75e7d4fec0a4d498fe1890599b6fecb": {
      "model_module": "@jupyter-widgets/controls",
      "model_module_version": "1.0.0",
      "model_name": "FloatSliderModel",
      "state": {
       "description": "τ",
       "layout": "IPY_MODEL_7409fd87db9d45a094164cf91ad28f3b",
       "max": 10,
       "step": 0.2,
       "style": "IPY_MODEL_b289fe469484406597ea9cf92fa7a207",
       "value": 0.8
      }
     },
     "a7cefe4d499a48599b8c75ffe8d04663": {
      "model_module": "@jupyter-widgets/controls",
      "model_module_version": "1.0.0",
      "model_name": "VBoxModel",
      "state": {
       "_dom_classes": [
        "widget-interact"
       ],
       "children": [
        "IPY_MODEL_6df24fde965c4745866522958761499b",
        "IPY_MODEL_f6fdf9eb289448949e8444bdcefce6d9",
        "IPY_MODEL_b0278b82f6314da4b14cc1980b6bad13"
       ],
       "layout": "IPY_MODEL_a8b8329ecef242cda2fb7cdff3668c07"
      }
     },
     "a8b8329ecef242cda2fb7cdff3668c07": {
      "model_module": "@jupyter-widgets/base",
      "model_module_version": "1.0.0",
      "model_name": "LayoutModel",
      "state": {}
     },
     "a8c354b21c94413aaff2b84943a5d4a6": {
      "model_module": "@jupyter-widgets/base",
      "model_module_version": "1.0.0",
      "model_name": "LayoutModel",
      "state": {}
     },
     "a8ee4f7a2bb24786aed02e149421b0fe": {
      "model_module": "@jupyter-widgets/base",
      "model_module_version": "1.0.0",
      "model_name": "LayoutModel",
      "state": {}
     },
     "a979b072bf98410cb81170a3b985a4bb": {
      "model_module": "@jupyter-widgets/base",
      "model_module_version": "1.0.0",
      "model_name": "LayoutModel",
      "state": {}
     },
     "aa15ddbe66b44d169406db93d21b1c8e": {
      "model_module": "@jupyter-widgets/base",
      "model_module_version": "1.0.0",
      "model_name": "LayoutModel",
      "state": {}
     },
     "ab4a1b85dd244213acfa2ab5c0b918da": {
      "model_module": "@jupyter-widgets/base",
      "model_module_version": "1.0.0",
      "model_name": "LayoutModel",
      "state": {}
     },
     "ac2f72f5fc8942ce8e5358406eeed060": {
      "model_module": "@jupyter-widgets/controls",
      "model_module_version": "1.0.0",
      "model_name": "FloatSliderModel",
      "state": {
       "description": "τ",
       "layout": "IPY_MODEL_dc2b25f4264c4608a9fdc160c9683a3f",
       "max": 2,
       "min": 0.2,
       "step": 0.2,
       "style": "IPY_MODEL_7520c5162e1343ff8903dc5e14cd0ac9",
       "value": 0.2
      }
     },
     "ac685f07145d4d47919939b553086770": {
      "model_module": "@jupyter-widgets/output",
      "model_module_version": "1.0.0",
      "model_name": "OutputModel",
      "state": {
       "layout": "IPY_MODEL_9be014ebc2eb4a0ea0b249eb9a7500ef"
      }
     },
     "adb545f2a0f7437d93e49efdb3cc7436": {
      "model_module": "@jupyter-widgets/output",
      "model_module_version": "1.0.0",
      "model_name": "OutputModel",
      "state": {
       "layout": "IPY_MODEL_9dd8f3d1b9f843269e5edef44ae75885",
       "outputs": [
        {
         "data": {
          "image/png": "iVBORw0KGgoAAAANSUhEUgAAAY4AAADzCAYAAACRz/HXAAAABHNCSVQICAgIfAhkiAAAAAlwSFlz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\n",
          "text/plain": "<matplotlib.figure.Figure at 0x7f5db62f9898>"
         },
         "metadata": {},
         "output_type": "display_data"
        }
       ]
      }
     },
     "af578a1557ee493899a4c2de9066240f": {
      "model_module": "@jupyter-widgets/controls",
      "model_module_version": "1.0.0",
      "model_name": "VBoxModel",
      "state": {
       "_dom_classes": [
        "widget-interact"
       ],
       "children": [
        "IPY_MODEL_fc689f894cb34a8db1e3796b39404a8b",
        "IPY_MODEL_cd29fdc0946a4af19d9f96e6d869a4dc",
        "IPY_MODEL_8fdc38d62bb44435a37d3a1e9c1f31a8"
       ],
       "layout": "IPY_MODEL_539b3c14e5f840d7824e79a867a87453"
      }
     },
     "af631b997ea14ad3a47adee3a241aa19": {
      "model_module": "@jupyter-widgets/base",
      "model_module_version": "1.0.0",
      "model_name": "LayoutModel",
      "state": {}
     },
     "af6adb2bfb434a84b79079ce7ebfdc60": {
      "model_module": "@jupyter-widgets/controls",
      "model_module_version": "1.0.0",
      "model_name": "FloatSliderModel",
      "state": {
       "description": "τ",
       "layout": "IPY_MODEL_0c47d93799de4b2d967e1c442727df21",
       "max": 10,
       "step": 0.2,
       "style": "IPY_MODEL_3295f101158c4822b7cb9a2c592000e1",
       "value": 10
      }
     },
     "af719c4eca3548599405ad1e54eed1c1": {
      "model_module": "@jupyter-widgets/base",
      "model_module_version": "1.0.0",
      "model_name": "LayoutModel",
      "state": {}
     },
     "afd173138f4743a5a0eb75de5caad1f4": {
      "model_module": "@jupyter-widgets/base",
      "model_module_version": "1.0.0",
      "model_name": "LayoutModel",
      "state": {}
     },
     "b01ba1a98dc34297891d7d3f5ccb0f9e": {
      "model_module": "@jupyter-widgets/controls",
      "model_module_version": "1.0.0",
      "model_name": "VBoxModel",
      "state": {
       "_dom_classes": [
        "widget-interact"
       ],
       "children": [
        "IPY_MODEL_ff3093192fbb4fc89028bf05007cf867",
        "IPY_MODEL_e07f8925cee54fbb9820e5098ca569b3",
        "IPY_MODEL_f9ae6999c3c4466f9e4ff57ef12b4f5c"
       ],
       "layout": "IPY_MODEL_385ccd1a0eef4177be30fa69fa2b7bc9"
      }
     },
     "b0278b82f6314da4b14cc1980b6bad13": {
      "model_module": "@jupyter-widgets/output",
      "model_module_version": "1.0.0",
      "model_name": "OutputModel",
      "state": {
       "layout": "IPY_MODEL_88a5256b66f642ef9018f9bf7952f3a0"
      }
     },
     "b14efbae88584299aa7f2ffe214bcead": {
      "model_module": "@jupyter-widgets/base",
      "model_module_version": "1.0.0",
      "model_name": "LayoutModel",
      "state": {}
     },
     "b1b2ed145a0f45298559e477fe998db4": {
      "model_module": "@jupyter-widgets/base",
      "model_module_version": "1.0.0",
      "model_name": "LayoutModel",
      "state": {}
     },
     "b1c7559ba99640e098adb540566a29e0": {
      "model_module": "@jupyter-widgets/controls",
      "model_module_version": "1.0.0",
      "model_name": "SliderStyleModel",
      "state": {
       "description_width": ""
      }
     },
     "b289fe469484406597ea9cf92fa7a207": {
      "model_module": "@jupyter-widgets/controls",
      "model_module_version": "1.0.0",
      "model_name": "SliderStyleModel",
      "state": {
       "description_width": ""
      }
     },
     "b2e45b9a4d7e4a6d8800fe5bee95d604": {
      "model_module": "@jupyter-widgets/output",
      "model_module_version": "1.0.0",
      "model_name": "OutputModel",
      "state": {
       "layout": "IPY_MODEL_6d1cc07e71164a798157bdd13328bcab"
      }
     },
     "b31cff390274466dacf48898db7f67bf": {
      "model_module": "@jupyter-widgets/controls",
      "model_module_version": "1.0.0",
      "model_name": "FloatSliderModel",
      "state": {
       "description": "α",
       "layout": "IPY_MODEL_99614216856b41fbbaac920cbac316f1",
       "max": 2,
       "step": 0.25,
       "style": "IPY_MODEL_9e706b0e571e44c49c3da80a31938f50"
      }
     },
     "b3e5cd33521e48d0bc9d261f8d06798a": {
      "model_module": "@jupyter-widgets/controls",
      "model_module_version": "1.0.0",
      "model_name": "SliderStyleModel",
      "state": {
       "description_width": ""
      }
     },
     "b49b83d08219476abbf5654b684ca1bf": {
      "model_module": "@jupyter-widgets/base",
      "model_module_version": "1.0.0",
      "model_name": "LayoutModel",
      "state": {}
     },
     "b4c6e6083dce49559a90956ec2fd6f6a": {
      "model_module": "@jupyter-widgets/controls",
      "model_module_version": "1.0.0",
      "model_name": "FloatSliderModel",
      "state": {
       "description": "α",
       "layout": "IPY_MODEL_fc52ae63a41e4da2a587e49c285c6887",
       "max": 2,
       "step": 0.25,
       "style": "IPY_MODEL_f5ffe8ab94fc433e949c4ce5dda04e4e"
      }
     },
     "b4c95ebdd2d549de87543a0347333593": {
      "model_module": "@jupyter-widgets/base",
      "model_module_version": "1.0.0",
      "model_name": "LayoutModel",
      "state": {}
     },
     "b7a8f91ec7de47bfae47fe877fccc100": {
      "model_module": "@jupyter-widgets/controls",
      "model_module_version": "1.0.0",
      "model_name": "SliderStyleModel",
      "state": {
       "description_width": ""
      }
     },
     "b85c15fc7ca74a03a9e7dc4b14f6ee32": {
      "model_module": "@jupyter-widgets/base",
      "model_module_version": "1.0.0",
      "model_name": "LayoutModel",
      "state": {}
     },
     "b89215fb4e8a4353bed41025f0a72e35": {
      "model_module": "@jupyter-widgets/controls",
      "model_module_version": "1.0.0",
      "model_name": "SliderStyleModel",
      "state": {
       "description_width": ""
      }
     },
     "b8b41c39180b4272990dab18b552e40c": {
      "model_module": "@jupyter-widgets/base",
      "model_module_version": "1.0.0",
      "model_name": "LayoutModel",
      "state": {}
     },
     "b8fd675d4adb45e9abe9f7e8d99cda87": {
      "model_module": "@jupyter-widgets/controls",
      "model_module_version": "1.0.0",
      "model_name": "FloatSliderModel",
      "state": {
       "description": "ω",
       "layout": "IPY_MODEL_16b2826f64014a2cbc6b3c01d46aac97",
       "max": 10,
       "min": -10,
       "step": 0.25,
       "style": "IPY_MODEL_f21be3d747d349d9a18606510fb3be09",
       "value": 1
      }
     },
     "b93a4a0fd7a244c08c24894994fb76a4": {
      "model_module": "@jupyter-widgets/controls",
      "model_module_version": "1.0.0",
      "model_name": "VBoxModel",
      "state": {
       "_dom_classes": [
        "widget-interact"
       ],
       "children": [
        "IPY_MODEL_65d0f0292db7446eb4ad339eb1d92b2b",
        "IPY_MODEL_fd8e97d68227408a803709a1a3b08248"
       ],
       "layout": "IPY_MODEL_d2e22ba3293b4be29a794366a93f0fe1"
      }
     },
     "b9590390b77845b4ad8f150e99d5412e": {
      "model_module": "@jupyter-widgets/base",
      "model_module_version": "1.0.0",
      "model_name": "LayoutModel",
      "state": {}
     },
     "bb5277cf106f4179966914a945252067": {
      "model_module": "@jupyter-widgets/base",
      "model_module_version": "1.0.0",
      "model_name": "LayoutModel",
      "state": {}
     },
     "bb78ba9fce5a44c28c544b80c2911bda": {
      "model_module": "@jupyter-widgets/controls",
      "model_module_version": "1.0.0",
      "model_name": "FloatSliderModel",
      "state": {
       "description": "α",
       "layout": "IPY_MODEL_05ef7dae7ed1410aac85a1e65b2065c9",
       "max": 2,
       "step": 0.25,
       "style": "IPY_MODEL_3af4a5db2856446ba01dee3d3610245a"
      }
     },
     "bb8b324be4154d918ce6c32f773e3d26": {
      "model_module": "@jupyter-widgets/base",
      "model_module_version": "1.0.0",
      "model_name": "LayoutModel",
      "state": {}
     },
     "bbafec65b19f49efbb7d9fc006a06dc4": {
      "model_module": "@jupyter-widgets/base",
      "model_module_version": "1.0.0",
      "model_name": "LayoutModel",
      "state": {}
     },
     "bbf54071c4dc455fa562541623434c40": {
      "model_module": "@jupyter-widgets/controls",
      "model_module_version": "1.0.0",
      "model_name": "SliderStyleModel",
      "state": {
       "description_width": ""
      }
     },
     "bc4a69aa37f741e098a4ac63e1e58ee7": {
      "model_module": "@jupyter-widgets/controls",
      "model_module_version": "1.0.0",
      "model_name": "VBoxModel",
      "state": {
       "_dom_classes": [
        "widget-interact"
       ],
       "children": [
        "IPY_MODEL_2afa12f8638042baaa21b568d3135cde",
        "IPY_MODEL_8fa06513ca7148dfaee9be31cff94e15"
       ],
       "layout": "IPY_MODEL_b8b41c39180b4272990dab18b552e40c"
      }
     },
     "bc570f771a7e421ea5de177f0518c8f3": {
      "model_module": "@jupyter-widgets/output",
      "model_module_version": "1.0.0",
      "model_name": "OutputModel",
      "state": {
       "layout": "IPY_MODEL_97ecfa6d45ea4657a227aa7d4d52b684"
      }
     },
     "bd6b3acc8f1741f79ac337f0c8837ba4": {
      "model_module": "@jupyter-widgets/controls",
      "model_module_version": "1.0.0",
      "model_name": "FloatSliderModel",
      "state": {
       "description": "ω",
       "layout": "IPY_MODEL_7073960cc1c542c991f20212d860a774",
       "max": 10,
       "min": -10,
       "step": 0.25,
       "style": "IPY_MODEL_231b9162401a4c3f9bb2c73511278109",
       "value": 1
      }
     },
     "be6c522360f64eeeae41c400d384d031": {
      "model_module": "@jupyter-widgets/base",
      "model_module_version": "1.0.0",
      "model_name": "LayoutModel",
      "state": {}
     },
     "be72ec19c39948a0b144c7c7ca191fca": {
      "model_module": "@jupyter-widgets/controls",
      "model_module_version": "1.0.0",
      "model_name": "SliderStyleModel",
      "state": {
       "description_width": ""
      }
     },
     "bfcec36c360748589f330e3ccb2911c5": {
      "model_module": "@jupyter-widgets/base",
      "model_module_version": "1.0.0",
      "model_name": "LayoutModel",
      "state": {}
     },
     "c00bd3502c8e4bc59d42ce03d2c20e2b": {
      "model_module": "@jupyter-widgets/base",
      "model_module_version": "1.0.0",
      "model_name": "LayoutModel",
      "state": {}
     },
     "c0d7eed7b92a4c9eac2aa6b287a16c78": {
      "model_module": "@jupyter-widgets/output",
      "model_module_version": "1.0.0",
      "model_name": "OutputModel",
      "state": {
       "layout": "IPY_MODEL_aa15ddbe66b44d169406db93d21b1c8e",
       "outputs": [
        {
         "data": {
          "image/png": "iVBORw0KGgoAAAANSUhEUgAAAYgAAAEECAYAAAAyMaOFAAAABHNCSVQICAgIfAhkiAAAAAlwSFlz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\nISIiXfo/yw9AdorJcpYAAAAASUVORK5CYII=\n",
          "text/plain": "<matplotlib.figure.Figure at 0x7f5db5f83cf8>"
         },
         "metadata": {},
         "output_type": "display_data"
        }
       ]
      }
     },
     "c11867cd431f437fb7bb6deabedde54e": {
      "model_module": "@jupyter-widgets/base",
      "model_module_version": "1.0.0",
      "model_name": "LayoutModel",
      "state": {}
     },
     "c1341214923f46058cb82fcfc417cb1b": {
      "model_module": "@jupyter-widgets/base",
      "model_module_version": "1.0.0",
      "model_name": "LayoutModel",
      "state": {}
     },
     "c20a0c2898bf42bf898a28e4993c376e": {
      "model_module": "@jupyter-widgets/output",
      "model_module_version": "1.0.0",
      "model_name": "OutputModel",
      "state": {
       "layout": "IPY_MODEL_a3cdead6b3ab4216a63d4bf3c2abbf28",
       "outputs": [
        {
         "data": {
          "image/png": "iVBORw0KGgoAAAANSUhEUgAAAY4AAADzCAYAAACRz/HXAAAABHNCSVQICAgIfAhkiAAAAAlwSFlz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\n",
          "text/plain": "<matplotlib.figure.Figure at 0x7f5db6596da0>"
         },
         "metadata": {},
         "output_type": "display_data"
        }
       ]
      }
     },
     "c297a5d53e57455bad1ffde3865b0c60": {
      "model_module": "@jupyter-widgets/controls",
      "model_module_version": "1.0.0",
      "model_name": "SliderStyleModel",
      "state": {
       "description_width": ""
      }
     },
     "c30f0899633b47dabd157be403efb6e0": {
      "model_module": "@jupyter-widgets/controls",
      "model_module_version": "1.0.0",
      "model_name": "SliderStyleModel",
      "state": {
       "description_width": ""
      }
     },
     "c48b5edf5771409dbab89122bf6c93c7": {
      "model_module": "@jupyter-widgets/base",
      "model_module_version": "1.0.0",
      "model_name": "LayoutModel",
      "state": {}
     },
     "c4e42f76b5184372a85ccccc3d0c33c4": {
      "model_module": "@jupyter-widgets/controls",
      "model_module_version": "1.0.0",
      "model_name": "SliderStyleModel",
      "state": {
       "description_width": ""
      }
     },
     "c54877abd2cc48158d64912b726f742e": {
      "model_module": "@jupyter-widgets/controls",
      "model_module_version": "1.0.0",
      "model_name": "SliderStyleModel",
      "state": {
       "description_width": ""
      }
     },
     "c584df73d6314ca4b3c6f37d6b82c40f": {
      "model_module": "@jupyter-widgets/controls",
      "model_module_version": "1.0.0",
      "model_name": "VBoxModel",
      "state": {
       "_dom_classes": [
        "widget-interact"
       ],
       "children": [
        "IPY_MODEL_ac2f72f5fc8942ce8e5358406eeed060",
        "IPY_MODEL_530b67f5e4614bab9c9e6a762844facf"
       ],
       "layout": "IPY_MODEL_8f3cd0276fa54bcea6fee5af01049873"
      }
     },
     "c65099674f794db7acc5102992afff7d": {
      "model_module": "@jupyter-widgets/controls",
      "model_module_version": "1.0.0",
      "model_name": "SliderStyleModel",
      "state": {
       "description_width": ""
      }
     },
     "c661fd207b3e422cb73197a0d60c917f": {
      "model_module": "@jupyter-widgets/base",
      "model_module_version": "1.0.0",
      "model_name": "LayoutModel",
      "state": {}
     },
     "c72210f067a641f4b0251d8e3ac35637": {
      "model_module": "@jupyter-widgets/base",
      "model_module_version": "1.0.0",
      "model_name": "LayoutModel",
      "state": {}
     },
     "c7576c8412d34cb9a5b0be148a044e5a": {
      "model_module": "@jupyter-widgets/base",
      "model_module_version": "1.0.0",
      "model_name": "LayoutModel",
      "state": {}
     },
     "c791a1502539414fb9cde2bbd463ee6e": {
      "model_module": "@jupyter-widgets/base",
      "model_module_version": "1.0.0",
      "model_name": "LayoutModel",
      "state": {}
     },
     "c7924c418bd2458e93f6a2df6c97d29b": {
      "model_module": "@jupyter-widgets/output",
      "model_module_version": "1.0.0",
      "model_name": "OutputModel",
      "state": {
       "layout": "IPY_MODEL_868dd689d5be48548129088f5264e15f",
       "outputs": [
        {
         "name": "stdout",
         "output_type": "stream",
         "text": "Eq(x(t), 200 - 200*exp(-t/2))\nEq(x(t), 200 - 200*exp(-t/2))\nEq(x(t), 200 - 200*exp(-t/2))\nEq(x(t), 200 - 200*exp(-t/2))\nEq(x(t), 200 - 200*exp(-t/2))\nEq(x(t), 200 - 200*exp(-t/2))\nEq(x(t), 200 - 200*exp(-t/2))\nEq(x(t), 200 - 200*exp(-t/2))\nEq(x(t), 200 - 200*exp(-t/2))\nEq(x(t), 200 - 200*exp(-t/2))\nEq(x(t), 200 - 200*exp(-t/2))\nEq(x(t), 200 - 200*exp(-t/2))\nEq(x(t), 200 - 200*exp(-t/2))\nEq(x(t), 200 - 200*exp(-t/2))\nEq(x(t), 200 - 200*exp(-t/2))\nEq(x(t), 200 - 200*exp(-t/2))\nEq(x(t), 200 - 200*exp(-t/2))\nEq(x(t), 200 - 200*exp(-t/2))\nEq(x(t), 200 - 200*exp(-t/2))\nEq(x(t), 200 - 200*exp(-t/2))\nEq(x(t), 200 - 200*exp(-t/2))\nEq(x(t), 200 - 200*exp(-t/2))\nEq(x(t), 200 - 200*exp(-t/2))\nEq(x(t), 200 - 200*exp(-t/2))\nEq(x(t), 200 - 200*exp(-t/2))\nEq(x(t), 200 - 200*exp(-t/2))\nEq(x(t), 200 - 200*exp(-t/2))\nEq(x(t), 200 - 200*exp(-t/2))\nEq(x(t), 200 - 200*exp(-t/2))\nEq(x(t), 200 - 200*exp(-t/2))\nEq(x(t), 200 - 200*exp(-t/2))\nEq(x(t), 200 - 200*exp(-t/2))\nEq(x(t), 200 - 200*exp(-t/2))\nEq(x(t), 200 - 200*exp(-t/2))\nEq(x(t), 200 - 200*exp(-t/2))\nEq(x(t), 200 - 200*exp(-t/2))\nEq(x(t), 200 - 200*exp(-t/2))\nEq(x(t), 200 - 200*exp(-t/2))\nEq(x(t), 200 - 200*exp(-t/2))\nEq(x(t), 200 - 200*exp(-t/2))\nEq(x(t), 200 - 200*exp(-t/2))\nEq(x(t), 200 - 200*exp(-t/2))\nEq(x(t), 200 - 200*exp(-t/2))\nEq(x(t), 200 - 200*exp(-t/2))\nEq(x(t), 200 - 200*exp(-t/2))\nEq(x(t), 200 - 200*exp(-t/2))\nEq(x(t), 200 - 200*exp(-t/2))\nEq(x(t), 200 - 200*exp(-t/2))\nEq(x(t), 200 - 200*exp(-t/2))\nEq(x(t), 200 - 200*exp(-t/2))\nEq(x(t), 200 - 200*exp(-t/2))\nEq(x(t), 200 - 200*exp(-t/2))\nEq(x(t), 200 - 200*exp(-t/2))\nEq(x(t), 200 - 200*exp(-t/2))\nEq(x(t), 200 - 200*exp(-t/2))\nEq(x(t), 200 - 200*exp(-t/2))\nEq(x(t), 200 - 200*exp(-t/2))\nEq(x(t), 200 - 200*exp(-t/2))\nEq(x(t), 200 - 200*exp(-t/2))\nEq(x(t), 200 - 200*exp(-t/2))\nEq(x(t), 200 - 200*exp(-t/2))\nEq(x(t), 200 - 200*exp(-t/2))\nEq(x(t), 200 - 200*exp(-t/2))\nEq(x(t), 200 - 200*exp(-t/2))\nEq(x(t), 200 - 200*exp(-t/2))\nEq(x(t), 200 - 200*exp(-t/2))\nEq(x(t), 200 - 200*exp(-t/2))\nEq(x(t), 200 - 200*exp(-t/2))\nEq(x(t), 200 - 200*exp(-t/2))\nEq(x(t), 200 - 200*exp(-t/2))\nEq(x(t), 200 - 200*exp(-t/2))\nEq(x(t), 200 - 200*exp(-t/2))\nEq(x(t), 200 - 200*exp(-t/2))\nEq(x(t), 200 - 200*exp(-t/2))\nEq(x(t), 200 - 200*exp(-t/2))\nEq(x(t), 200 - 200*exp(-t/2))\nEq(x(t), 200 - 200*exp(-t/2))\nEq(x(t), 200 - 200*exp(-t/2))\nEq(x(t), 200 - 200*exp(-t/2))\nEq(x(t), 200 - 200*exp(-t/2))\nEq(x(t), 200 - 200*exp(-t/2))\nEq(x(t), 200 - 200*exp(-t/2))\nEq(x(t), 200 - 200*exp(-t/2))\nEq(x(t), 200 - 200*exp(-t/2))\nEq(x(t), 200 - 200*exp(-t/2))\nEq(x(t), 200 - 200*exp(-t/2))\nEq(x(t), 200 - 200*exp(-t/2))\nEq(x(t), 200 - 200*exp(-t/2))\nEq(x(t), 200 - 200*exp(-t/2))\nEq(x(t), 200 - 200*exp(-t/2))\nEq(x(t), 200 - 200*exp(-t/2))\nEq(x(t), 200 - 200*exp(-t/2))\nEq(x(t), 200 - 200*exp(-t/2))\nEq(x(t), 200 - 200*exp(-t/2))\nEq(x(t), 200 - 200*exp(-t/2))\nEq(x(t), 200 - 200*exp(-t/2))\nEq(x(t), 200 - 200*exp(-t/2))\nEq(x(t), 200 - 200*exp(-t/2))\nEq(x(t), 200 - 200*exp(-t/2))\nEq(x(t), 200 - 200*exp(-t/2))\nEq(x(t), 200 - 200*exp(-t/2))\nEq(x(t), 200 - 200*exp(-t/2))\nEq(x(t), 200 - 200*exp(-t/2))\nEq(x(t), 200 - 200*exp(-t/2))\nEq(x(t), 200 - 200*exp(-t/2))\nEq(x(t), 200 - 200*exp(-t/2))\nEq(x(t), 200 - 200*exp(-t/2))\nEq(x(t), 200 - 200*exp(-t/2))\nEq(x(t), 200 - 200*exp(-t/2))\nEq(x(t), 200 - 200*exp(-t/2))\nEq(x(t), 200 - 200*exp(-t/2))\nEq(x(t), 200 - 200*exp(-t/2))\nEq(x(t), 200 - 200*exp(-t/2))\nEq(x(t), 200 - 200*exp(-t/2))\nEq(x(t), 200 - 200*exp(-t/2))\nEq(x(t), 200 - 200*exp(-t/2))\nEq(x(t), 200 - 200*exp(-t/2))\nEq(x(t), 200 - 200*exp(-t/2))\nEq(x(t), 200 - 200*exp(-t/2))\nEq(x(t), 200 - 200*exp(-t/2))\nEq(x(t), 200 - 200*exp(-t/2))\nEq(x(t), 200 - 200*exp(-t/2))\nEq(x(t), 200 - 200*exp(-t/2))\nEq(x(t), 200 - 200*exp(-t/2))\nEq(x(t), 200 - 200*exp(-t/2))\nEq(x(t), 200 - 200*exp(-t/2))\nEq(x(t), 200 - 200*exp(-t/2))\nEq(x(t), 200 - 200*exp(-t/2))\nEq(x(t), 200 - 200*exp(-t/2))\nEq(x(t), 200 - 200*exp(-t/2))\nEq(x(t), 200 - 200*exp(-t/2))\nEq(x(t), 200 - 200*exp(-t/2))\nEq(x(t), 200 - 200*exp(-t/2))\nEq(x(t), 200 - 200*exp(-t/2))\nEq(x(t), 200 - 200*exp(-t/2))\nEq(x(t), 200 - 200*exp(-t/2))\nEq(x(t), 200 - 200*exp(-t/2))\nEq(x(t), 200 - 200*exp(-t/2))\nEq(x(t), 200 - 200*exp(-t/2))\nEq(x(t), 200 - 200*exp(-t/2))\nEq(x(t), 200 - 200*exp(-t/2))\nEq(x(t), 200 - 200*exp(-t/2))\nEq(x(t), 200 - 200*exp(-t/2))\nEq(x(t), 200 - 200*exp(-t/2))\nEq(x(t), 200 - 200*exp(-t/2))\nEq(x(t), 200 - 200*exp(-t/2))\nEq(x(t), 200 - 200*exp(-t/2))\nEq(x(t), 200 - 200*exp(-t/2))\nEq(x(t), 200 - 200*exp(-t/2))\nEq(x(t), 200 - 200*exp(-t/2))\nEq(x(t), 200 - 200*exp(-t/2))\nEq(x(t), 200 - 200*exp(-t/2))\nEq(x(t), 200 - 200*exp(-t/2))\nEq(x(t), 200 - 200*exp(-t/2))\nEq(x(t), 200 - 200*exp(-t/2))\nEq(x(t), 200 - 200*exp(-t/2))\nEq(x(t), 200 - 200*exp(-t/2))\nEq(x(t), 200 - 200*exp(-t/2))\nEq(x(t), 200 - 200*exp(-t/2))\nEq(x(t), 200 - 200*exp(-t/2))\nEq(x(t), 200 - 200*exp(-t/2))\nEq(x(t), 200 - 200*exp(-t/2))\nEq(x(t), 200 - 200*exp(-t/2))\nEq(x(t), 200 - 200*exp(-t/2))\nEq(x(t), 200 - 200*exp(-t/2))\nEq(x(t), 200 - 200*exp(-t/2))\nEq(x(t), 200 - 200*exp(-t/2))\nEq(x(t), 200 - 200*exp(-t/2))\nEq(x(t), 200 - 200*exp(-t/2))\nEq(x(t), 200 - 200*exp(-t/2))\nEq(x(t), 200 - 200*exp(-t/2))\nEq(x(t), 200 - 200*exp(-t/2))\nEq(x(t), 200 - 200*exp(-t/2))\nEq(x(t), 200 - 200*exp(-t/2))\nEq(x(t), 200 - 200*exp(-t/2))\nEq(x(t), 200 - 200*exp(-t/2))\nEq(x(t), 200 - 200*exp(-t/2))\nEq(x(t), 200 - 200*exp(-t/2))\nEq(x(t), 200 - 200*exp(-t/2))\nEq(x(t), 200 - 200*exp(-t/2))\nEq(x(t), 200 - 200*exp(-t/2))\nEq(x(t), 200 - 200*exp(-t/2))\nEq(x(t), 200 - 200*exp(-t/2))\nEq(x(t), 200 - 200*exp(-t/2))\nEq(x(t), 200 - 200*exp(-t/2))\nEq(x(t), 200 - 200*exp(-t/2))\nEq(x(t), 200 - 200*exp(-t/2))\nEq(x(t), 200 - 200*exp(-t/2))\nEq(x(t), 200 - 200*exp(-t/2))\nEq(x(t), 200 - 200*exp(-t/2))\nEq(x(t), 200 - 200*exp(-t/2))\nEq(x(t), 200 - 200*exp(-t/2))\nEq(x(t), 200 - 200*exp(-t/2))\nEq(x(t), 200 - 200*exp(-t/2))\nEq(x(t), 200 - 200*exp(-t/2))\nEq(x(t), 200 - 200*exp(-t/2))\nEq(x(t), 200 - 200*exp(-t/2))\nEq(x(t), 200 - 200*exp(-t/2))\nEq(x(t), 200 - 200*exp(-t/2))\nEq(x(t), 200 - 200*exp(-t/2))\nEq(x(t), 200 - 200*exp(-t/2))\nEq(x(t), 200 - 200*exp(-t/2))\nEq(x(t), 200 - 200*exp(-t/2))\nEq(x(t), 200 - 200*exp(-t/2))\nEq(x(t), 200 - 200*exp(-t/2))\nEq(x(t), 200 - 200*exp(-t/2))\nEq(x(t), 200 - 200*exp(-t/2))\nEq(x(t), 200 - 200*exp(-t/2))\nEq(x(t), 200 - 200*exp(-t/2))\nEq(x(t), 200 - 200*exp(-t/2))\nEq(x(t), 200 - 200*exp(-t/2))\nEq(x(t), 200 - 200*exp(-t/2))\nEq(x(t), 200 - 200*exp(-t/2))\nEq(x(t), 200 - 200*exp(-t/2))\nEq(x(t), 200 - 200*exp(-t/2))\nEq(x(t), 200 - 200*exp(-t/2))\nEq(x(t), 200 - 200*exp(-t/2))\nEq(x(t), 200 - 200*exp(-t/2))\nEq(x(t), 200 - 200*exp(-t/2))\nEq(x(t), 200 - 200*exp(-t/2))\nEq(x(t), 200 - 200*exp(-t/2))\nEq(x(t), 200 - 200*exp(-t/2))\nEq(x(t), 200 - 200*exp(-t/2))\nEq(x(t), 200 - 200*exp(-t/2))\nEq(x(t), 200 - 200*exp(-t/2))\nEq(x(t), 200 - 200*exp(-t/2))\nEq(x(t), 200 - 200*exp(-t/2))\nEq(x(t), 200 - 200*exp(-t/2))\nEq(x(t), 200 - 200*exp(-t/2))\nEq(x(t), 200 - 200*exp(-t/2))\nEq(x(t), 200 - 200*exp(-t/2))\nEq(x(t), 200 - 200*exp(-t/2))\nEq(x(t), 200 - 200*exp(-t/2))\nEq(x(t), 200 - 200*exp(-t/2))\nEq(x(t), 200 - 200*exp(-t/2))\nEq(x(t), 200 - 200*exp(-t/2))\nEq(x(t), 200 - 200*exp(-t/2))\nEq(x(t), 200 - 200*exp(-t/2))\nEq(x(t), 200 - 200*exp(-t/2))\nEq(x(t), 200 - 200*exp(-t/2))\nEq(x(t), 200 - 200*exp(-t/2))\nEq(x(t), 200 - 200*exp(-t/2))\nEq(x(t), 200 - 200*exp(-t/2))\nEq(x(t), 200 - 200*exp(-t/2))\nEq(x(t), 200 - 200*exp(-t/2))\nEq(x(t), 200 - 200*exp(-t/2))\nEq(x(t), 200 - 200*exp(-t/2))\nEq(x(t), 200 - 200*exp(-t/2))\nEq(x(t), 200 - 200*exp(-t/2))\nEq(x(t), 200 - 200*exp(-t/2))\nEq(x(t), 200 - 200*exp(-t/2))\nEq(x(t), 200 - 200*exp(-t/2))\nEq(x(t), 200 - 200*exp(-t/2))\nEq(x(t), 200 - 200*exp(-t/2))\nEq(x(t), 200 - 200*exp(-t/2))\nEq(x(t), 200 - 200*exp(-t/2))\nEq(x(t), 200 - 200*exp(-t/2))\nEq(x(t), 200 - 200*exp(-t/2))\nEq(x(t), 200 - 200*exp(-t/2))\nEq(x(t), 200 - 200*exp(-t/2))\nEq(x(t), 200 - 200*exp(-t/2))\nEq(x(t), 200 - 200*exp(-t/2))\nEq(x(t), 200 - 200*exp(-t/2))\nEq(x(t), 200 - 200*exp(-t/2))\nEq(x(t), 200 - 200*exp(-t/2))\nEq(x(t), 200 - 200*exp(-t/2))\nEq(x(t), 200 - 200*exp(-t/2))\nEq(x(t), 200 - 200*exp(-t/2))\nEq(x(t), 200 - 200*exp(-t/2))\nEq(x(t), 200 - 200*exp(-t/2))\nEq(x(t), 200 - 200*exp(-t/2))\nEq(x(t), 200 - 200*exp(-t/2))\nEq(x(t), 200 - 200*exp(-t/2))\nEq(x(t), 200 - 200*exp(-t/2))\nEq(x(t), 200 - 200*exp(-t/2))\nEq(x(t), 200 - 200*exp(-t/2))\nEq(x(t), 200 - 200*exp(-t/2))\nEq(x(t), 200 - 200*exp(-t/2))\nEq(x(t), 200 - 200*exp(-t/2))\nEq(x(t), 200 - 200*exp(-t/2))\nEq(x(t), 200 - 200*exp(-t/2))\nEq(x(t), 200 - 200*exp(-t/2))\nEq(x(t), 200 - 200*exp(-t/2))\nEq(x(t), 200 - 200*exp(-t/2))\nEq(x(t), 200 - 200*exp(-t/2))\nEq(x(t), 200 - 200*exp(-t/2))\nEq(x(t), 200 - 200*exp(-t/2))\nEq(x(t), 200 - 200*exp(-t/2))\nEq(x(t), 200 - 200*exp(-t/2))\nEq(x(t), 200 - 200*exp(-t/2))\nEq(x(t), 200 - 200*exp(-t/2))\nEq(x(t), 200 - 200*exp(-t/2))\nEq(x(t), 200 - 200*exp(-t/2))\nEq(x(t), 200 - 200*exp(-t/2))\nEq(x(t), 200 - 200*exp(-t/2))\nEq(x(t), 200 - 200*exp(-t/2))\nEq(x(t), 200 - 200*exp(-t/2))\nEq(x(t), 200 - 200*exp(-t/2))\nEq(x(t), 200 - 200*exp(-t/2))\nEq(x(t), 200 - 200*exp(-t/2))\nEq(x(t), 200 - 200*exp(-t/2))\nEq(x(t), 200 - 200*exp(-t/2))\nEq(x(t), 200 - 200*exp(-t/2))\nEq(x(t), 200 - 200*exp(-t/2))\nEq(x(t), 200 - 200*exp(-t/2))\nEq(x(t), 200 - 200*exp(-t/2))\nEq(x(t), 200 - 200*exp(-t/2))\nEq(x(t), 200 - 200*exp(-t/2))\nEq(x(t), 200 - 200*exp(-t/2))\nEq(x(t), 200 - 200*exp(-t/2))\nEq(x(t), 200 - 200*exp(-t/2))\nEq(x(t), 200 - 200*exp(-t/2))\nEq(x(t), 200 - 200*exp(-t/2))\nEq(x(t), 200 - 200*exp(-t/2))\nEq(x(t), 200 - 200*exp(-t/2))\nEq(x(t), 200 - 200*exp(-t/2))\nEq(x(t), 200 - 200*exp(-t/2))\nEq(x(t), 200 - 200*exp(-t/2))\nEq(x(t), 200 - 200*exp(-t/2))\nEq(x(t), 200 - 200*exp(-t/2))\nEq(x(t), 200 - 200*exp(-t/2))\nEq(x(t), 200 - 200*exp(-t/2))\nEq(x(t), 200 - 200*exp(-t/2))\nEq(x(t), 200 - 200*exp(-t/2))\nEq(x(t), 200 - 200*exp(-t/2))\nEq(x(t), 200 - 200*exp(-t/2))\nEq(x(t), 200 - 200*exp(-t/2))\nEq(x(t), 200 - 200*exp(-t/2))\nEq(x(t), 200 - 200*exp(-t/2))\nEq(x(t), 200 - 200*exp(-t/2))\nEq(x(t), 200 - 200*exp(-t/2))\nEq(x(t), 200 - 200*exp(-t/2))\nEq(x(t), 200 - 200*exp(-t/2))\nEq(x(t), 200 - 200*exp(-t/2))\nEq(x(t), 200 - 200*exp(-t/2))\nEq(x(t), 200 - 200*exp(-t/2))\nEq(x(t), 200 - 200*exp(-t/2))\nEq(x(t), 200 - 200*exp(-t/2))\nEq(x(t), 200 - 200*exp(-t/2))\nEq(x(t), 200 - 200*exp(-t/2))\nEq(x(t), 200 - 200*exp(-t/2))\nEq(x(t), 200 - 200*exp(-t/2))\nEq(x(t), 200 - 200*exp(-t/2))\nEq(x(t), 200 - 200*exp(-t/2))\nEq(x(t), 200 - 200*exp(-t/2))\nEq(x(t), 200 - 200*exp(-t/2))\nEq(x(t), 200 - 200*exp(-t/2))\nEq(x(t), 200 - 200*exp(-t/2))\nEq(x(t), 200 - 200*exp(-t/2))\nEq(x(t), 200 - 200*exp(-t/2))\nEq(x(t), 200 - 200*exp(-t/2))\nEq(x(t), 200 - 200*exp(-t/2))\nEq(x(t), 200 - 200*exp(-t/2))\nEq(x(t), 200 - 200*exp(-t/2))\nEq(x(t), 200 - 200*exp(-t/2))\nEq(x(t), 200 - 200*exp(-t/2))\nEq(x(t), 200 - 200*exp(-t/2))\nEq(x(t), 200 - 200*exp(-t/2))\nEq(x(t), 200 - 200*exp(-t/2))\nEq(x(t), 200 - 200*exp(-t/2))\nEq(x(t), 200 - 200*exp(-t/2))\nEq(x(t), 200 - 200*exp(-t/2))\nEq(x(t), 200 - 200*exp(-t/2))\nEq(x(t), 200 - 200*exp(-t/2))\nEq(x(t), 200 - 200*exp(-t/2))\nEq(x(t), 200 - 200*exp(-t/2))\nEq(x(t), 200 - 200*exp(-t/2))\nEq(x(t), 200 - 200*exp(-t/2))\nEq(x(t), 200 - 200*exp(-t/2))\nEq(x(t), 200 - 200*exp(-t/2))\nEq(x(t), 200 - 200*exp(-t/2))\nEq(x(t), 200 - 200*exp(-t/2))\nEq(x(t), 200 - 200*exp(-t/2))\nEq(x(t), 200 - 200*exp(-t/2))\nEq(x(t), 200 - 200*exp(-t/2))\nEq(x(t), 200 - 200*exp(-t/2))\nEq(x(t), 200 - 200*exp(-t/2))\nEq(x(t), 200 - 200*exp(-t/2))\nEq(x(t), 200 - 200*exp(-t/2))\nEq(x(t), 200 - 200*exp(-t/2))\nEq(x(t), 200 - 200*exp(-t/2))\nEq(x(t), 200 - 200*exp(-t/2))\nEq(x(t), 200 - 200*exp(-t/2))\nEq(x(t), 200 - 200*exp(-t/2))\nEq(x(t), 200 - 200*exp(-t/2))\nEq(x(t), 200 - 200*exp(-t/2))\nEq(x(t), 200 - 200*exp(-t/2))\nEq(x(t), 200 - 200*exp(-t/2))\nEq(x(t), 200 - 200*exp(-t/2))\nEq(x(t), 200 - 200*exp(-t/2))\nEq(x(t), 200 - 200*exp(-t/2))\nEq(x(t), 200 - 200*exp(-t/2))\nEq(x(t), 200 - 200*exp(-t/2))\nEq(x(t), 200 - 200*exp(-t/2))\nEq(x(t), 200 - 200*exp(-t/2))\nEq(x(t), 200 - 200*exp(-t/2))\nEq(x(t), 200 - 200*exp(-t/2))\nEq(x(t), 200 - 200*exp(-t/2))\nEq(x(t), 200 - 200*exp(-t/2))\nEq(x(t), 200 - 200*exp(-t/2))\nEq(x(t), 200 - 200*exp(-t/2))\nEq(x(t), 200 - 200*exp(-t/2))\nEq(x(t), 200 - 200*exp(-t/2))\nEq(x(t), 200 - 200*exp(-t/2))\nEq(x(t), 200 - 200*exp(-t/2))\nEq(x(t), 200 - 200*exp(-t/2))\nEq(x(t), 200 - 200*exp(-t/2))\nEq(x(t), 200 - 200*exp(-t/2))\nEq(x(t), 200 - 200*exp(-t/2))\nEq(x(t), 200 - 200*exp(-t/2))\nEq(x(t), 200 - 200*exp(-t/2))\nEq(x(t), 200 - 200*exp(-t/2))\nEq(x(t), 200 - 200*exp(-t/2))\nEq(x(t), 200 - 200*exp(-t/2))\nEq(x(t), 200 - 200*exp(-t/2))\nEq(x(t), 200 - 200*exp(-t/2))\nEq(x(t), 200 - 200*exp(-t/2))\nEq(x(t), 200 - 200*exp(-t/2))\nEq(x(t), 200 - 200*exp(-t/2))\nEq(x(t), 200 - 200*exp(-t/2))\nEq(x(t), 200 - 200*exp(-t/2))\nEq(x(t), 200 - 200*exp(-t/2))\nEq(x(t), 200 - 200*exp(-t/2))\nEq(x(t), 200 - 200*exp(-t/2))\nEq(x(t), 200 - 200*exp(-t/2))\nEq(x(t), 200 - 200*exp(-t/2))\nEq(x(t), 200 - 200*exp(-t/2))\nEq(x(t), 200 - 200*exp(-t/2))\nEq(x(t), 200 - 200*exp(-t/2))\nEq(x(t), 200 - 200*exp(-t/2))\nEq(x(t), 200 - 200*exp(-t/2))\nEq(x(t), 200 - 200*exp(-t/2))\nEq(x(t), 200 - 200*exp(-t/2))\nEq(x(t), 200 - 200*exp(-t/2))\nEq(x(t), 200 - 200*exp(-t/2))\nEq(x(t), 200 - 200*exp(-t/2))\nEq(x(t), 200 - 200*exp(-t/2))\nEq(x(t), 200 - 200*exp(-t/2))\nEq(x(t), 200 - 200*exp(-t/2))\nEq(x(t), 200 - 200*exp(-t/2))\nEq(x(t), 200 - 200*exp(-t/2))\nEq(x(t), 200 - 200*exp(-t/2))\nEq(x(t), 200 - 200*exp(-t/2))\nEq(x(t), 200 - 200*exp(-t/2))\nEq(x(t), 200 - 200*exp(-t/2))\nEq(x(t), 200 - 200*exp(-t/2))\nEq(x(t), 200 - 200*exp(-t/2))\nEq(x(t), 200 - 200*exp(-t/2))\nEq(x(t), 200 - 200*exp(-t/2))\nEq(x(t), 200 - 200*exp(-t/2))\nEq(x(t), 200 - 200*exp(-t/2))\nEq(x(t), 200 - 200*exp(-t/2))\nEq(x(t), 200 - 200*exp(-t/2))\nEq(x(t), 200 - 200*exp(-t/2))\nEq(x(t), 200 - 200*exp(-t/2))\nEq(x(t), 200 - 200*exp(-t/2))\nEq(x(t), 200 - 200*exp(-t/2))\nEq(x(t), 200 - 200*exp(-t/2))\nEq(x(t), 200 - 200*exp(-t/2))\nEq(x(t), 200 - 200*exp(-t/2))\nEq(x(t), 200 - 200*exp(-t/2))\nEq(x(t), 200 - 200*exp(-t/2))\nEq(x(t), 200 - 200*exp(-t/2))\nEq(x(t), 200 - 200*exp(-t/2))\nEq(x(t), 200 - 200*exp(-t/2))\nEq(x(t), 200 - 200*exp(-t/2))\nEq(x(t), 200 - 200*exp(-t/2))\nEq(x(t), 200 - 200*exp(-t/2))\nEq(x(t), 200 - 200*exp(-t/2))\nEq(x(t), 200 - 200*exp(-t/2))\nEq(x(t), 200 - 200*exp(-t/2))\nEq(x(t), 200 - 200*exp(-t/2))\nEq(x(t), 200 - 200*exp(-t/2))\nEq(x(t), 200 - 200*exp(-t/2))\nEq(x(t), 200 - 200*exp(-t/2))\nEq(x(t), 200 - 200*exp(-t/2))\nEq(x(t), 200 - 200*exp(-t/2))\nEq(x(t), 200 - 200*exp(-t/2))\nEq(x(t), 200 - 200*exp(-t/2))\nEq(x(t), 200 - 200*exp(-t/2))\nEq(x(t), 200 - 200*exp(-t/2))\nEq(x(t), 200 - 200*exp(-t/2))\nEq(x(t), 200 - 200*exp(-t/2))\nEq(x(t), 200 - 200*exp(-t/2))\nEq(x(t), 200 - 200*exp(-t/2))\nEq(x(t), 200 - 200*exp(-t/2))\nEq(x(t), 200 - 200*exp(-t/2))\nEq(x(t), 200 - 200*exp(-t/2))\nEq(x(t), 200 - 200*exp(-t/2))\nEq(x(t), 200 - 200*exp(-t/2))\nEq(x(t), 200 - 200*exp(-t/2))\nEq(x(t), 200 - 200*exp(-t/2))\nEq(x(t), 200 - 200*exp(-t/2))\nEq(x(t), 200 - 200*exp(-t/2))\nEq(x(t), 200 - 200*exp(-t/2))\nEq(x(t), 200 - 200*exp(-t/2))\nEq(x(t), 200 - 200*exp(-t/2))\nEq(x(t), 200 - 200*exp(-t/2))\nEq(x(t), 200 - 200*exp(-t/2))\nEq(x(t), 200 - 200*exp(-t/2))\nEq(x(t), 200 - 200*exp(-t/2))\nEq(x(t), 200 - 200*exp(-t/2))\nEq(x(t), 200 - 200*exp(-t/2))\nEq(x(t), 200 - 200*exp(-t/2))\nEq(x(t), 200 - 200*exp(-t/2))\nEq(x(t), 200 - 200*exp(-t/2))\nEq(x(t), 200 - 200*exp(-t/2))\nEq(x(t), 200 - 200*exp(-t/2))\nEq(x(t), 200 - 200*exp(-t/2))\nEq(x(t), 200 - 200*exp(-t/2))\nEq(x(t), 200 - 200*exp(-t/2))\nEq(x(t), 200 - 200*exp(-t/2))\nEq(x(t), 200 - 200*exp(-t/2))\nEq(x(t), 200 - 200*exp(-t/2))\nEq(x(t), 200 - 200*exp(-t/2))\nEq(x(t), 200 - 200*exp(-t/2))\nEq(x(t), 200 - 200*exp(-t/2))\nEq(x(t), 200 - 200*exp(-t/2))\nEq(x(t), 200 - 200*exp(-t/2))\nEq(x(t), 200 - 200*exp(-t/2))\nEq(x(t), 200 - 200*exp(-t/2))\nEq(x(t), 200 - 200*exp(-t/2))\nEq(x(t), 200 - 200*exp(-t/2))\nEq(x(t), 200 - 200*exp(-t/2))\nEq(x(t), 200 - 200*exp(-t/2))\nEq(x(t), 200 - 200*exp(-t/2))\nEq(x(t), 200 - 200*exp(-t/2))\nEq(x(t), 200 - 200*exp(-t/2))\nEq(x(t), 200 - 200*exp(-t/2))\nEq(x(t), 200 - 200*exp(-t/2))\nEq(x(t), 200 - 200*exp(-t/2))\nEq(x(t), 200 - 200*exp(-t/2))\nEq(x(t), 200 - 200*exp(-t/2))\nEq(x(t), 200 - 200*exp(-t/2))\nEq(x(t), 200 - 200*exp(-t/2))\nEq(x(t), 200 - 200*exp(-t/2))\nEq(x(t), 200 - 200*exp(-t/2))\nEq(x(t), 200 - 200*exp(-t/2))\nEq(x(t), 200 - 200*exp(-t/2))\nEq(x(t), 200 - 200*exp(-t/2))\nEq(x(t), 200 - 200*exp(-t/2))\nEq(x(t), 200 - 200*exp(-t/2))\nEq(x(t), 200 - 200*exp(-t/2))\nEq(x(t), 200 - 200*exp(-t/2))\nEq(x(t), 200 - 200*exp(-t/2))\nEq(x(t), 200 - 200*exp(-t/2))\nEq(x(t), 200 - 200*exp(-t/2))\nEq(x(t), 200 - 200*exp(-t/2))\nEq(x(t), 200 - 200*exp(-t/2))\nEq(x(t), 200 - 200*exp(-t/2))\nEq(x(t), 200 - 200*exp(-t/2))\nEq(x(t), 200 - 200*exp(-t/2))\nEq(x(t), 200 - 200*exp(-t/2))\nEq(x(t), 200 - 200*exp(-t/2))\nEq(x(t), 200 - 200*exp(-t/2))\nEq(x(t), 200 - 200*exp(-t/2))\nEq(x(t), 200 - 200*exp(-t/2))\nEq(x(t), 200 - 200*exp(-t/2))\nEq(x(t), 200 - 200*exp(-t/2))\nEq(x(t), 200 - 200*exp(-t/2))\nEq(x(t), 200 - 200*exp(-t/2))\nEq(x(t), 200 - 200*exp(-t/2))\nEq(x(t), 200 - 200*exp(-t/2))\nEq(x(t), 200 - 200*exp(-t/2))\nEq(x(t), 200 - 200*exp(-t/2))\nEq(x(t), 200 - 200*exp(-t/2))\nEq(x(t), 200 - 200*exp(-t/2))\nEq(x(t), 200 - 200*exp(-t/2))\nEq(x(t), 200 - 200*exp(-t/2))\nEq(x(t), 200 - 200*exp(-t/2))\nEq(x(t), 200 - 200*exp(-t/2))\nEq(x(t), 200 - 200*exp(-t/2))\nEq(x(t), 200 - 200*exp(-t/2))\nEq(x(t), 200 - 200*exp(-t/2))\nEq(x(t), 200 - 200*exp(-t/2))\nEq(x(t), 200 - 200*exp(-t/2))\nEq(x(t), 200 - 200*exp(-t/2))\nEq(x(t), 200 - 200*exp(-t/2))\nEq(x(t), 200 - 200*exp(-t/2))\nEq(x(t), 200 - 200*exp(-t/2))\nEq(x(t), 200 - 200*exp(-t/2))\nEq(x(t), 200 - 200*exp(-t/2))\nEq(x(t), 200 - 200*exp(-t/2))\nEq(x(t), 200 - 200*exp(-t/2))\nEq(x(t), 200 - 200*exp(-t/2))\nEq(x(t), 200 - 200*exp(-t/2))\nEq(x(t), 200 - 200*exp(-t/2))\nEq(x(t), 200 - 200*exp(-t/2))\nEq(x(t), 200 - 200*exp(-t/2))\nEq(x(t), 200 - 200*exp(-t/2))\nEq(x(t), 200 - 200*exp(-t/2))\nEq(x(t), 200 - 200*exp(-t/2))\nEq(x(t), 200 - 200*exp(-t/2))\nEq(x(t), 200 - 200*exp(-t/2))\nEq(x(t), 200 - 200*exp(-t/2))\nEq(x(t), 200 - 200*exp(-t/2))\nEq(x(t), 200 - 200*exp(-t/2))\nEq(x(t), 200 - 200*exp(-t/2))\nEq(x(t), 200 - 200*exp(-t/2))\nEq(x(t), 200 - 200*exp(-t/2))\nEq(x(t), 200 - 200*exp(-t/2))\nEq(x(t), 200 - 200*exp(-t/2))\nEq(x(t), 200 - 200*exp(-t/2))\nEq(x(t), 200 - 200*exp(-t/2))\nEq(x(t), 200 - 200*exp(-t/2))\nEq(x(t), 200 - 200*exp(-t/2))\nEq(x(t), 200 - 200*exp(-t/2))\nEq(x(t), 200 - 200*exp(-t/2))\nEq(x(t), 200 - 200*exp(-t/2))\nEq(x(t), 200 - 200*exp(-t/2))\nEq(x(t), 200 - 200*exp(-t/2))\nEq(x(t), 200 - 200*exp(-t/2))\nEq(x(t), 200 - 200*exp(-t/2))\nEq(x(t), 200 - 200*exp(-t/2))\nEq(x(t), 200 - 200*exp(-t/2))\nEq(x(t), 200 - 200*exp(-t/2))\nEq(x(t), 200 - 200*exp(-t/2))\nEq(x(t), 200 - 200*exp(-t/2))\nEq(x(t), 200 - 200*exp(-t/2))\n"
        },
        {
         "name": "stdout",
         "output_type": "stream",
         "text": "Eq(x(t), 200 - 200*exp(-t/2))\nEq(x(t), 200 - 200*exp(-t/2))\nEq(x(t), 200 - 200*exp(-t/2))\nEq(x(t), 200 - 200*exp(-t/2))\nEq(x(t), 200 - 200*exp(-t/2))\nEq(x(t), 200 - 200*exp(-t/2))\nEq(x(t), 200 - 200*exp(-t/2))\nEq(x(t), 200 - 200*exp(-t/2))\nEq(x(t), 200 - 200*exp(-t/2))\nEq(x(t), 200 - 200*exp(-t/2))\nEq(x(t), 200 - 200*exp(-t/2))\nEq(x(t), 200 - 200*exp(-t/2))\nEq(x(t), 200 - 200*exp(-t/2))\nEq(x(t), 200 - 200*exp(-t/2))\nEq(x(t), 200 - 200*exp(-t/2))\nEq(x(t), 200 - 200*exp(-t/2))\nEq(x(t), 200 - 200*exp(-t/2))\nEq(x(t), 200 - 200*exp(-t/2))\nEq(x(t), 200 - 200*exp(-t/2))\nEq(x(t), 200 - 200*exp(-t/2))\nEq(x(t), 200 - 200*exp(-t/2))\nEq(x(t), 200 - 200*exp(-t/2))\nEq(x(t), 200 - 200*exp(-t/2))\nEq(x(t), 200 - 200*exp(-t/2))\nEq(x(t), 200 - 200*exp(-t/2))\nEq(x(t), 200 - 200*exp(-t/2))\nEq(x(t), 200 - 200*exp(-t/2))\nEq(x(t), 200 - 200*exp(-t/2))\nEq(x(t), 200 - 200*exp(-t/2))\nEq(x(t), 200 - 200*exp(-t/2))\nEq(x(t), 200 - 200*exp(-t/2))\nEq(x(t), 200 - 200*exp(-t/2))\nEq(x(t), 200 - 200*exp(-t/2))\nEq(x(t), 200 - 200*exp(-t/2))\nEq(x(t), 200 - 200*exp(-t/2))\nEq(x(t), 200 - 200*exp(-t/2))\nEq(x(t), 200 - 200*exp(-t/2))\nEq(x(t), 200 - 200*exp(-t/2))\nEq(x(t), 200 - 200*exp(-t/2))\nEq(x(t), 200 - 200*exp(-t/2))\nEq(x(t), 200 - 200*exp(-t/2))\nEq(x(t), 200 - 200*exp(-t/2))\nEq(x(t), 200 - 200*exp(-t/2))\nEq(x(t), 200 - 200*exp(-t/2))\nEq(x(t), 200 - 200*exp(-t/2))\nEq(x(t), 200 - 200*exp(-t/2))\nEq(x(t), 200 - 200*exp(-t/2))\nEq(x(t), 200 - 200*exp(-t/2))\nEq(x(t), 200 - 200*exp(-t/2))\nEq(x(t), 200 - 200*exp(-t/2))\nEq(x(t), 200 - 200*exp(-t/2))\nEq(x(t), 200 - 200*exp(-t/2))\nEq(x(t), 200 - 200*exp(-t/2))\nEq(x(t), 200 - 200*exp(-t/2))\nEq(x(t), 200 - 200*exp(-t/2))\nEq(x(t), 200 - 200*exp(-t/2))\nEq(x(t), 200 - 200*exp(-t/2))\nEq(x(t), 200 - 200*exp(-t/2))\nEq(x(t), 200 - 200*exp(-t/2))\nEq(x(t), 200 - 200*exp(-t/2))\nEq(x(t), 200 - 200*exp(-t/2))\nEq(x(t), 200 - 200*exp(-t/2))\nEq(x(t), 200 - 200*exp(-t/2))\nEq(x(t), 200 - 200*exp(-t/2))\nEq(x(t), 200 - 200*exp(-t/2))\nEq(x(t), 200 - 200*exp(-t/2))\nEq(x(t), 200 - 200*exp(-t/2))\nEq(x(t), 200 - 200*exp(-t/2))\nEq(x(t), 200 - 200*exp(-t/2))\nEq(x(t), 200 - 200*exp(-t/2))\nEq(x(t), 200 - 200*exp(-t/2))\nEq(x(t), 200 - 200*exp(-t/2))\nEq(x(t), 200 - 200*exp(-t/2))\nEq(x(t), 200 - 200*exp(-t/2))\nEq(x(t), 200 - 200*exp(-t/2))\nEq(x(t), 200 - 200*exp(-t/2))\nEq(x(t), 200 - 200*exp(-t/2))\nEq(x(t), 200 - 200*exp(-t/2))\nEq(x(t), 200 - 200*exp(-t/2))\nEq(x(t), 200 - 200*exp(-t/2))\nEq(x(t), 200 - 200*exp(-t/2))\nEq(x(t), 200 - 200*exp(-t/2))\nEq(x(t), 200 - 200*exp(-t/2))\nEq(x(t), 200 - 200*exp(-t/2))\nEq(x(t), 200 - 200*exp(-t/2))\nEq(x(t), 200 - 200*exp(-t/2))\nEq(x(t), 200 - 200*exp(-t/2))\nEq(x(t), 200 - 200*exp(-t/2))\nEq(x(t), 200 - 200*exp(-t/2))\nEq(x(t), 200 - 200*exp(-t/2))\nEq(x(t), 200 - 200*exp(-t/2))\nEq(x(t), 200 - 200*exp(-t/2))\nEq(x(t), 200 - 200*exp(-t/2))\nEq(x(t), 200 - 200*exp(-t/2))\nEq(x(t), 200 - 200*exp(-t/2))\nEq(x(t), 200 - 200*exp(-t/2))\nEq(x(t), 200 - 200*exp(-t/2))\nEq(x(t), 200 - 200*exp(-t/2))\nEq(x(t), 200 - 200*exp(-t/2))\nEq(x(t), 200 - 200*exp(-t/2))\nEq(x(t), 200 - 200*exp(-t/2))\nEq(x(t), 200 - 200*exp(-t/2))\nEq(x(t), 200 - 200*exp(-t/2))\nEq(x(t), 200 - 200*exp(-t/2))\nEq(x(t), 200 - 200*exp(-t/2))\nEq(x(t), 200 - 200*exp(-t/2))\nEq(x(t), 200 - 200*exp(-t/2))\nEq(x(t), 200 - 200*exp(-t/2))\nEq(x(t), 200 - 200*exp(-t/2))\nEq(x(t), 200 - 200*exp(-t/2))\nEq(x(t), 200 - 200*exp(-t/2))\nEq(x(t), 200 - 200*exp(-t/2))\nEq(x(t), 200 - 200*exp(-t/2))\nEq(x(t), 200 - 200*exp(-t/2))\nEq(x(t), 200 - 200*exp(-t/2))\nEq(x(t), 200 - 200*exp(-t/2))\nEq(x(t), 200 - 200*exp(-t/2))\nEq(x(t), 200 - 200*exp(-t/2))\nEq(x(t), 200 - 200*exp(-t/2))\nEq(x(t), 200 - 200*exp(-t/2))\nEq(x(t), 200 - 200*exp(-t/2))\nEq(x(t), 200 - 200*exp(-t/2))\nEq(x(t), 200 - 200*exp(-t/2))\nEq(x(t), 200 - 200*exp(-t/2))\nEq(x(t), 200 - 200*exp(-t/2))\nEq(x(t), 200 - 200*exp(-t/2))\nEq(x(t), 200 - 200*exp(-t/2))\nEq(x(t), 200 - 200*exp(-t/2))\nEq(x(t), 200 - 200*exp(-t/2))\nEq(x(t), 200 - 200*exp(-t/2))\nEq(x(t), 200 - 200*exp(-t/2))\nEq(x(t), 200 - 200*exp(-t/2))\nEq(x(t), 200 - 200*exp(-t/2))\nEq(x(t), 200 - 200*exp(-t/2))\nEq(x(t), 200 - 200*exp(-t/2))\nEq(x(t), 200 - 200*exp(-t/2))\nEq(x(t), 200 - 200*exp(-t/2))\nEq(x(t), 200 - 200*exp(-t/2))\nEq(x(t), 200 - 200*exp(-t/2))\nEq(x(t), 200 - 200*exp(-t/2))\nEq(x(t), 200 - 200*exp(-t/2))\nEq(x(t), 200 - 200*exp(-t/2))\nEq(x(t), 200 - 200*exp(-t/2))\nEq(x(t), 200 - 200*exp(-t/2))\nEq(x(t), 200 - 200*exp(-t/2))\nEq(x(t), 200 - 200*exp(-t/2))\nEq(x(t), 200 - 200*exp(-t/2))\nEq(x(t), 200 - 200*exp(-t/2))\nEq(x(t), 200 - 200*exp(-t/2))\nEq(x(t), 200 - 200*exp(-t/2))\nEq(x(t), 200 - 200*exp(-t/2))\nEq(x(t), 200 - 200*exp(-t/2))\nEq(x(t), 200 - 200*exp(-t/2))\nEq(x(t), 200 - 200*exp(-t/2))\nEq(x(t), 200 - 200*exp(-t/2))\nEq(x(t), 200 - 200*exp(-t/2))\nEq(x(t), 200 - 200*exp(-t/2))\nEq(x(t), 200 - 200*exp(-t/2))\nEq(x(t), 200 - 200*exp(-t/2))\nEq(x(t), 200 - 200*exp(-t/2))\nEq(x(t), 200 - 200*exp(-t/2))\nEq(x(t), 200 - 200*exp(-t/2))\nEq(x(t), 200 - 200*exp(-t/2))\nEq(x(t), 200 - 200*exp(-t/2))\nEq(x(t), 200 - 200*exp(-t/2))\nEq(x(t), 200 - 200*exp(-t/2))\nEq(x(t), 200 - 200*exp(-t/2))\nEq(x(t), 200 - 200*exp(-t/2))\nEq(x(t), 200 - 200*exp(-t/2))\nEq(x(t), 200 - 200*exp(-t/2))\nEq(x(t), 200 - 200*exp(-t/2))\nEq(x(t), 200 - 200*exp(-t/2))\nEq(x(t), 200 - 200*exp(-t/2))\nEq(x(t), 200 - 200*exp(-t/2))\nEq(x(t), 200 - 200*exp(-t/2))\nEq(x(t), 200 - 200*exp(-t/2))\nEq(x(t), 200 - 200*exp(-t/2))\nEq(x(t), 200 - 200*exp(-t/2))\nEq(x(t), 200 - 200*exp(-t/2))\nEq(x(t), 200 - 200*exp(-t/2))\nEq(x(t), 200 - 200*exp(-t/2))\nEq(x(t), 200 - 200*exp(-t/2))\nEq(x(t), 200 - 200*exp(-t/2))\nEq(x(t), 200 - 200*exp(-t/2))\nEq(x(t), 200 - 200*exp(-t/2))\nEq(x(t), 200 - 200*exp(-t/2))\nEq(x(t), 200 - 200*exp(-t/2))\nEq(x(t), 200 - 200*exp(-t/2))\nEq(x(t), 200 - 200*exp(-t/2))\nEq(x(t), 200 - 200*exp(-t/2))\nEq(x(t), 200 - 200*exp(-t/2))\nEq(x(t), 200 - 200*exp(-t/2))\nEq(x(t), 200 - 200*exp(-t/2))\nEq(x(t), 200 - 200*exp(-t/2))\nEq(x(t), 200 - 200*exp(-t/2))\nEq(x(t), 200 - 200*exp(-t/2))\nEq(x(t), 200 - 200*exp(-t/2))\nEq(x(t), 200 - 200*exp(-t/2))\nEq(x(t), 200 - 200*exp(-t/2))\nEq(x(t), 200 - 200*exp(-t/2))\nEq(x(t), 200 - 200*exp(-t/2))\nEq(x(t), 200 - 200*exp(-t/2))\nEq(x(t), 200 - 200*exp(-t/2))\nEq(x(t), 200 - 200*exp(-t/2))\nEq(x(t), 200 - 200*exp(-t/2))\nEq(x(t), 200 - 200*exp(-t/2))\nEq(x(t), 200 - 200*exp(-t/2))\nEq(x(t), 200 - 200*exp(-t/2))\nEq(x(t), 200 - 200*exp(-t/2))\nEq(x(t), 200 - 200*exp(-t/2))\nEq(x(t), 200 - 200*exp(-t/2))\nEq(x(t), 200 - 200*exp(-t/2))\nEq(x(t), 200 - 200*exp(-t/2))\nEq(x(t), 200 - 200*exp(-t/2))\nEq(x(t), 200 - 200*exp(-t/2))\nEq(x(t), 200 - 200*exp(-t/2))\nEq(x(t), 200 - 200*exp(-t/2))\nEq(x(t), 200 - 200*exp(-t/2))\nEq(x(t), 200 - 200*exp(-t/2))\nEq(x(t), 200 - 200*exp(-t/2))\nEq(x(t), 200 - 200*exp(-t/2))\nEq(x(t), 200 - 200*exp(-t/2))\nEq(x(t), 200 - 200*exp(-t/2))\nEq(x(t), 200 - 200*exp(-t/2))\nEq(x(t), 200 - 200*exp(-t/2))\nEq(x(t), 200 - 200*exp(-t/2))\nEq(x(t), 200 - 200*exp(-t/2))\nEq(x(t), 200 - 200*exp(-t/2))\nEq(x(t), 200 - 200*exp(-t/2))\nEq(x(t), 200 - 200*exp(-t/2))\nEq(x(t), 200 - 200*exp(-t/2))\nEq(x(t), 200 - 200*exp(-t/2))\nEq(x(t), 200 - 200*exp(-t/2))\nEq(x(t), 200 - 200*exp(-t/2))\nEq(x(t), 200 - 200*exp(-t/2))\nEq(x(t), 200 - 200*exp(-t/2))\nEq(x(t), 200 - 200*exp(-t/2))\nEq(x(t), 200 - 200*exp(-t/2))\nEq(x(t), 200 - 200*exp(-t/2))\nEq(x(t), 200 - 200*exp(-t/2))\nEq(x(t), 200 - 200*exp(-t/2))\nEq(x(t), 200 - 200*exp(-t/2))\nEq(x(t), 200 - 200*exp(-t/2))\nEq(x(t), 200 - 200*exp(-t/2))\nEq(x(t), 200 - 200*exp(-t/2))\nEq(x(t), 200 - 200*exp(-t/2))\nEq(x(t), 200 - 200*exp(-t/2))\nEq(x(t), 200 - 200*exp(-t/2))\nEq(x(t), 200 - 200*exp(-t/2))\nEq(x(t), 200 - 200*exp(-t/2))\nEq(x(t), 200 - 200*exp(-t/2))\nEq(x(t), 200 - 200*exp(-t/2))\nEq(x(t), 200 - 200*exp(-t/2))\nEq(x(t), 200 - 200*exp(-t/2))\nEq(x(t), 200 - 200*exp(-t/2))\nEq(x(t), 200 - 200*exp(-t/2))\nEq(x(t), 200 - 200*exp(-t/2))\nEq(x(t), 200 - 200*exp(-t/2))\nEq(x(t), 200 - 200*exp(-t/2))\nEq(x(t), 200 - 200*exp(-t/2))\nEq(x(t), 200 - 200*exp(-t/2))\nEq(x(t), 200 - 200*exp(-t/2))\nEq(x(t), 200 - 200*exp(-t/2))\nEq(x(t), 200 - 200*exp(-t/2))\nEq(x(t), 200 - 200*exp(-t/2))\nEq(x(t), 200 - 200*exp(-t/2))\nEq(x(t), 200 - 200*exp(-t/2))\nEq(x(t), 200 - 200*exp(-t/2))\nEq(x(t), 200 - 200*exp(-t/2))\nEq(x(t), 200 - 200*exp(-t/2))\nEq(x(t), 200 - 200*exp(-t/2))\nEq(x(t), 200 - 200*exp(-t/2))\nEq(x(t), 200 - 200*exp(-t/2))\nEq(x(t), 200 - 200*exp(-t/2))\nEq(x(t), 200 - 200*exp(-t/2))\nEq(x(t), 200 - 200*exp(-t/2))\nEq(x(t), 200 - 200*exp(-t/2))\nEq(x(t), 200 - 200*exp(-t/2))\nEq(x(t), 200 - 200*exp(-t/2))\nEq(x(t), 200 - 200*exp(-t/2))\nEq(x(t), 200 - 200*exp(-t/2))\nEq(x(t), 200 - 200*exp(-t/2))\nEq(x(t), 200 - 200*exp(-t/2))\nEq(x(t), 200 - 200*exp(-t/2))\nEq(x(t), 200 - 200*exp(-t/2))\nEq(x(t), 200 - 200*exp(-t/2))\nEq(x(t), 200 - 200*exp(-t/2))\nEq(x(t), 200 - 200*exp(-t/2))\nEq(x(t), 200 - 200*exp(-t/2))\nEq(x(t), 200 - 200*exp(-t/2))\nEq(x(t), 200 - 200*exp(-t/2))\nEq(x(t), 200 - 200*exp(-t/2))\nEq(x(t), 200 - 200*exp(-t/2))\nEq(x(t), 200 - 200*exp(-t/2))\nEq(x(t), 200 - 200*exp(-t/2))\nEq(x(t), 200 - 200*exp(-t/2))\nEq(x(t), 200 - 200*exp(-t/2))\nEq(x(t), 200 - 200*exp(-t/2))\nEq(x(t), 200 - 200*exp(-t/2))\nEq(x(t), 200 - 200*exp(-t/2))\nEq(x(t), 200 - 200*exp(-t/2))\nEq(x(t), 200 - 200*exp(-t/2))\nEq(x(t), 200 - 200*exp(-t/2))\nEq(x(t), 200 - 200*exp(-t/2))\nEq(x(t), 200 - 200*exp(-t/2))\nEq(x(t), 200 - 200*exp(-t/2))\nEq(x(t), 200 - 200*exp(-t/2))\nEq(x(t), 200 - 200*exp(-t/2))\nEq(x(t), 200 - 200*exp(-t/2))\nEq(x(t), 200 - 200*exp(-t/2))\nEq(x(t), 200 - 200*exp(-t/2))\nEq(x(t), 200 - 200*exp(-t/2))\nEq(x(t), 200 - 200*exp(-t/2))\nEq(x(t), 200 - 200*exp(-t/2))\nEq(x(t), 200 - 200*exp(-t/2))\nEq(x(t), 200 - 200*exp(-t/2))\nEq(x(t), 200 - 200*exp(-t/2))\nEq(x(t), 200 - 200*exp(-t/2))\nEq(x(t), 200 - 200*exp(-t/2))\nEq(x(t), 200 - 200*exp(-t/2))\nEq(x(t), 200 - 200*exp(-t/2))\nEq(x(t), 200 - 200*exp(-t/2))\nEq(x(t), 200 - 200*exp(-t/2))\nEq(x(t), 200 - 200*exp(-t/2))\nEq(x(t), 200 - 200*exp(-t/2))\nEq(x(t), 200 - 200*exp(-t/2))\nEq(x(t), 200 - 200*exp(-t/2))\nEq(x(t), 200 - 200*exp(-t/2))\nEq(x(t), 200 - 200*exp(-t/2))\nEq(x(t), 200 - 200*exp(-t/2))\nEq(x(t), 200 - 200*exp(-t/2))\nEq(x(t), 200 - 200*exp(-t/2))\nEq(x(t), 200 - 200*exp(-t/2))\nEq(x(t), 200 - 200*exp(-t/2))\nEq(x(t), 200 - 200*exp(-t/2))\nEq(x(t), 200 - 200*exp(-t/2))\nEq(x(t), 200 - 200*exp(-t/2))\nEq(x(t), 200 - 200*exp(-t/2))\nEq(x(t), 200 - 200*exp(-t/2))\nEq(x(t), 200 - 200*exp(-t/2))\nEq(x(t), 200 - 200*exp(-t/2))\nEq(x(t), 200 - 200*exp(-t/2))\nEq(x(t), 200 - 200*exp(-t/2))\nEq(x(t), 200 - 200*exp(-t/2))\nEq(x(t), 200 - 200*exp(-t/2))\nEq(x(t), 200 - 200*exp(-t/2))\nEq(x(t), 200 - 200*exp(-t/2))\nEq(x(t), 200 - 200*exp(-t/2))\nEq(x(t), 200 - 200*exp(-t/2))\nEq(x(t), 200 - 200*exp(-t/2))\nEq(x(t), 200 - 200*exp(-t/2))\nEq(x(t), 200 - 200*exp(-t/2))\nEq(x(t), 200 - 200*exp(-t/2))\nEq(x(t), 200 - 200*exp(-t/2))\nEq(x(t), 200 - 200*exp(-t/2))\nEq(x(t), 200 - 200*exp(-t/2))\nEq(x(t), 200 - 200*exp(-t/2))\nEq(x(t), 200 - 200*exp(-t/2))\nEq(x(t), 200 - 200*exp(-t/2))\nEq(x(t), 200 - 200*exp(-t/2))\nEq(x(t), 200 - 200*exp(-t/2))\nEq(x(t), 200 - 200*exp(-t/2))\nEq(x(t), 200 - 200*exp(-t/2))\nEq(x(t), 200 - 200*exp(-t/2))\nEq(x(t), 200 - 200*exp(-t/2))\nEq(x(t), 200 - 200*exp(-t/2))\nEq(x(t), 200 - 200*exp(-t/2))\nEq(x(t), 200 - 200*exp(-t/2))\nEq(x(t), 200 - 200*exp(-t/2))\nEq(x(t), 200 - 200*exp(-t/2))\nEq(x(t), 200 - 200*exp(-t/2))\nEq(x(t), 200 - 200*exp(-t/2))\nEq(x(t), 200 - 200*exp(-t/2))\nEq(x(t), 200 - 200*exp(-t/2))\nEq(x(t), 200 - 200*exp(-t/2))\nEq(x(t), 200 - 200*exp(-t/2))\nEq(x(t), 200 - 200*exp(-t/2))\nEq(x(t), 200 - 200*exp(-t/2))\nEq(x(t), 200 - 200*exp(-t/2))\nEq(x(t), 200 - 200*exp(-t/2))\nEq(x(t), 200 - 200*exp(-t/2))\nEq(x(t), 200 - 200*exp(-t/2))\nEq(x(t), 200 - 200*exp(-t/2))\nEq(x(t), 200 - 200*exp(-t/2))\nEq(x(t), 200 - 200*exp(-t/2))\nEq(x(t), 200 - 200*exp(-t/2))\nEq(x(t), 200 - 200*exp(-t/2))\nEq(x(t), 200 - 200*exp(-t/2))\nEq(x(t), 200 - 200*exp(-t/2))\nEq(x(t), 200 - 200*exp(-t/2))\nEq(x(t), 200 - 200*exp(-t/2))\nEq(x(t), 200 - 200*exp(-t/2))\nEq(x(t), 200 - 200*exp(-t/2))\nEq(x(t), 200 - 200*exp(-t/2))\nEq(x(t), 200 - 200*exp(-t/2))\nEq(x(t), 200 - 200*exp(-t/2))\nEq(x(t), 200 - 200*exp(-t/2))\nEq(x(t), 200 - 200*exp(-t/2))\nEq(x(t), 200 - 200*exp(-t/2))\nEq(x(t), 200 - 200*exp(-t/2))\nEq(x(t), 200 - 200*exp(-t/2))\nEq(x(t), 200 - 200*exp(-t/2))\nEq(x(t), 200 - 200*exp(-t/2))\nEq(x(t), 200 - 200*exp(-t/2))\nEq(x(t), 200 - 200*exp(-t/2))\nEq(x(t), 200 - 200*exp(-t/2))\nEq(x(t), 200 - 200*exp(-t/2))\nEq(x(t), 200 - 200*exp(-t/2))\nEq(x(t), 200 - 200*exp(-t/2))\nEq(x(t), 200 - 200*exp(-t/2))\nEq(x(t), 200 - 200*exp(-t/2))\nEq(x(t), 200 - 200*exp(-t/2))\nEq(x(t), 200 - 200*exp(-t/2))\nEq(x(t), 200 - 200*exp(-t/2))\nEq(x(t), 200 - 200*exp(-t/2))\nEq(x(t), 200 - 200*exp(-t/2))\nEq(x(t), 200 - 200*exp(-t/2))\nEq(x(t), 200 - 200*exp(-t/2))\nEq(x(t), 200 - 200*exp(-t/2))\nEq(x(t), 200 - 200*exp(-t/2))\nEq(x(t), 200 - 200*exp(-t/2))\nEq(x(t), 200 - 200*exp(-t/2))\nEq(x(t), 200 - 200*exp(-t/2))\nEq(x(t), 200 - 200*exp(-t/2))\nEq(x(t), 200 - 200*exp(-t/2))\nEq(x(t), 200 - 200*exp(-t/2))\nEq(x(t), 200 - 200*exp(-t/2))\nEq(x(t), 200 - 200*exp(-t/2))\nEq(x(t), 200 - 200*exp(-t/2))\nEq(x(t), 200 - 200*exp(-t/2))\nEq(x(t), 200 - 200*exp(-t/2))\nEq(x(t), 200 - 200*exp(-t/2))\nEq(x(t), 200 - 200*exp(-t/2))\nEq(x(t), 200 - 200*exp(-t/2))\nEq(x(t), 200 - 200*exp(-t/2))\nEq(x(t), 200 - 200*exp(-t/2))\nEq(x(t), 200 - 200*exp(-t/2))\nEq(x(t), 200 - 200*exp(-t/2))\nEq(x(t), 200 - 200*exp(-t/2))\nEq(x(t), 200 - 200*exp(-t/2))\nEq(x(t), 200 - 200*exp(-t/2))\nEq(x(t), 200 - 200*exp(-t/2))\nEq(x(t), 200 - 200*exp(-t/2))\nEq(x(t), 200 - 200*exp(-t/2))\nEq(x(t), 200 - 200*exp(-t/2))\nEq(x(t), 200 - 200*exp(-t/2))\nEq(x(t), 200 - 200*exp(-t/2))\nEq(x(t), 200 - 200*exp(-t/2))\nEq(x(t), 200 - 200*exp(-t/2))\nEq(x(t), 200 - 200*exp(-t/2))\nEq(x(t), 200 - 200*exp(-t/2))\nEq(x(t), 200 - 200*exp(-t/2))\nEq(x(t), 200 - 200*exp(-t/2))\nEq(x(t), 200 - 200*exp(-t/2))\nEq(x(t), 200 - 200*exp(-t/2))\nEq(x(t), 200 - 200*exp(-t/2))\nEq(x(t), 200 - 200*exp(-t/2))\nEq(x(t), 200 - 200*exp(-t/2))\nEq(x(t), 200 - 200*exp(-t/2))\nEq(x(t), 200 - 200*exp(-t/2))\nEq(x(t), 200 - 200*exp(-t/2))\nEq(x(t), 200 - 200*exp(-t/2))\nEq(x(t), 200 - 200*exp(-t/2))\nEq(x(t), 200 - 200*exp(-t/2))\nEq(x(t), 200 - 200*exp(-t/2))\nEq(x(t), 200 - 200*exp(-t/2))\nEq(x(t), 200 - 200*exp(-t/2))\nEq(x(t), 200 - 200*exp(-t/2))\nEq(x(t), 200 - 200*exp(-t/2))\nEq(x(t), 200 - 200*exp(-t/2))\nEq(x(t), 200 - 200*exp(-t/2))\nEq(x(t), 200 - 200*exp(-t/2))\nEq(x(t), 200 - 200*exp(-t/2))\nEq(x(t), 200 - 200*exp(-t/2))\nEq(x(t), 200 - 200*exp(-t/2))\nEq(x(t), 200 - 200*exp(-t/2))\nEq(x(t), 200 - 200*exp(-t/2))\nEq(x(t), 200 - 200*exp(-t/2))\nEq(x(t), 200 - 200*exp(-t/2))\nEq(x(t), 200 - 200*exp(-t/2))\nEq(x(t), 200 - 200*exp(-t/2))\nEq(x(t), 200 - 200*exp(-t/2))\nEq(x(t), 200 - 200*exp(-t/2))\nEq(x(t), 200 - 200*exp(-t/2))\nEq(x(t), 200 - 200*exp(-t/2))\nEq(x(t), 200 - 200*exp(-t/2))\nEq(x(t), 200 - 200*exp(-t/2))\nEq(x(t), 200 - 200*exp(-t/2))\nEq(x(t), 200 - 200*exp(-t/2))\nEq(x(t), 200 - 200*exp(-t/2))\nEq(x(t), 200 - 200*exp(-t/2))\nEq(x(t), 200 - 200*exp(-t/2))\nEq(x(t), 200 - 200*exp(-t/2))\nEq(x(t), 200 - 200*exp(-t/2))\nEq(x(t), 200 - 200*exp(-t/2))\nEq(x(t), 200 - 200*exp(-t/2))\nEq(x(t), 200 - 200*exp(-t/2))\nEq(x(t), 200 - 200*exp(-t/2))\nEq(x(t), 200 - 200*exp(-t/2))\nEq(x(t), 200 - 200*exp(-t/2))\nEq(x(t), 200 - 200*exp(-t/2))\nEq(x(t), 200 - 200*exp(-t/2))\nEq(x(t), 200 - 200*exp(-t/2))\nEq(x(t), 200 - 200*exp(-t/2))\nEq(x(t), 200 - 200*exp(-t/2))\nEq(x(t), 200 - 200*exp(-t/2))\nEq(x(t), 200 - 200*exp(-t/2))\nEq(x(t), 200 - 200*exp(-t/2))\nEq(x(t), 200 - 200*exp(-t/2))\nEq(x(t), 200 - 200*exp(-t/2))\nEq(x(t), 200 - 200*exp(-t/2))\nEq(x(t), 200 - 200*exp(-t/2))\nEq(x(t), 200 - 200*exp(-t/2))\nEq(x(t), 200 - 200*exp(-t/2))\nEq(x(t), 200 - 200*exp(-t/2))\nEq(x(t), 200 - 200*exp(-t/2))\nEq(x(t), 200 - 200*exp(-t/2))\nEq(x(t), 200 - 200*exp(-t/2))\nEq(x(t), 200 - 200*exp(-t/2))\nEq(x(t), 200 - 200*exp(-t/2))\nEq(x(t), 200 - 200*exp(-t/2))\nEq(x(t), 200 - 200*exp(-t/2))\nEq(x(t), 200 - 200*exp(-t/2))\nEq(x(t), 200 - 200*exp(-t/2))\nEq(x(t), 200 - 200*exp(-t/2))\nEq(x(t), 200 - 200*exp(-t/2))\nEq(x(t), 200 - 200*exp(-t/2))\nEq(x(t), 200 - 200*exp(-t/2))\nEq(x(t), 200 - 200*exp(-t/2))\nEq(x(t), 200 - 200*exp(-t/2))\nEq(x(t), 200 - 200*exp(-t/2))\nEq(x(t), 200 - 200*exp(-t/2))\nEq(x(t), 200 - 200*exp(-t/2))\nEq(x(t), 200 - 200*exp(-t/2))\nEq(x(t), 200 - 200*exp(-t/2))\nEq(x(t), 200 - 200*exp(-t/2))\nEq(x(t), 200 - 200*exp(-t/2))\nEq(x(t), 200 - 200*exp(-t/2))\nEq(x(t), 200 - 200*exp(-t/2))\nEq(x(t), 200 - 200*exp(-t/2))\nEq(x(t), 200 - 200*exp(-t/2))\nEq(x(t), 200 - 200*exp(-t/2))\nEq(x(t), 200 - 200*exp(-t/2))\nEq(x(t), 200 - 200*exp(-t/2))\nEq(x(t), 200 - 200*exp(-t/2))\nEq(x(t), 200 - 200*exp(-t/2))\nEq(x(t), 200 - 200*exp(-t/2))\nEq(x(t), 200 - 200*exp(-t/2))\nEq(x(t), 200 - 200*exp(-t/2))\nEq(x(t), 200 - 200*exp(-t/2))\nEq(x(t), 200 - 200*exp(-t/2))\nEq(x(t), 200 - 200*exp(-t/2))\nEq(x(t), 200 - 200*exp(-t/2))\nEq(x(t), 200 - 200*exp(-t/2))\nEq(x(t), 200 - 200*exp(-t/2))\nEq(x(t), 200 - 200*exp(-t/2))\nEq(x(t), 200 - 200*exp(-t/2))\nEq(x(t), 200 - 200*exp(-t/2))\nEq(x(t), 200 - 200*exp(-t/2))\nEq(x(t), 200 - 200*exp(-t/2))\nEq(x(t), 200 - 200*exp(-t/2))\nEq(x(t), 200 - 200*exp(-t/2))\nEq(x(t), 200 - 200*exp(-t/2))\nEq(x(t), 200 - 200*exp(-t/2))\nEq(x(t), 200 - 200*exp(-t/2))\nEq(x(t), 200 - 200*exp(-t/2))\nEq(x(t), 200 - 200*exp(-t/2))\nEq(x(t), 200 - 200*exp(-t/2))\nEq(x(t), 200 - 200*exp(-t/2))\nEq(x(t), 200 - 200*exp(-t/2))\nEq(x(t), 200 - 200*exp(-t/2))\nEq(x(t), 200 - 200*exp(-t/2))\nEq(x(t), 200 - 200*exp(-t/2))\nEq(x(t), 200 - 200*exp(-t/2))\nEq(x(t), 200 - 200*exp(-t/2))\nEq(x(t), 200 - 200*exp(-t/2))\nEq(x(t), 200 - 200*exp(-t/2))\nEq(x(t), 200 - 200*exp(-t/2))\nEq(x(t), 200 - 200*exp(-t/2))\nEq(x(t), 200 - 200*exp(-t/2))\nEq(x(t), 200 - 200*exp(-t/2))\nEq(x(t), 200 - 200*exp(-t/2))\nEq(x(t), 200 - 200*exp(-t/2))\nEq(x(t), 200 - 200*exp(-t/2))\nEq(x(t), 200 - 200*exp(-t/2))\nEq(x(t), 200 - 200*exp(-t/2))\nEq(x(t), 200 - 200*exp(-t/2))\nEq(x(t), 200 - 200*exp(-t/2))\nEq(x(t), 200 - 200*exp(-t/2))\nEq(x(t), 200 - 200*exp(-t/2))\nEq(x(t), 200 - 200*exp(-t/2))\nEq(x(t), 200 - 200*exp(-t/2))\nEq(x(t), 200 - 200*exp(-t/2))\nEq(x(t), 200 - 200*exp(-t/2))\nEq(x(t), 200 - 200*exp(-t/2))\nEq(x(t), 200 - 200*exp(-t/2))\nEq(x(t), 200 - 200*exp(-t/2))\nEq(x(t), 200 - 200*exp(-t/2))\nEq(x(t), 200 - 200*exp(-t/2))\nEq(x(t), 200 - 200*exp(-t/2))\nEq(x(t), 200 - 200*exp(-t/2))\nEq(x(t), 200 - 200*exp(-t/2))\nEq(x(t), 200 - 200*exp(-t/2))\nEq(x(t), 200 - 200*exp(-t/2))\nEq(x(t), 200 - 200*exp(-t/2))\nEq(x(t), 200 - 200*exp(-t/2))\nEq(x(t), 200 - 200*exp(-t/2))\nEq(x(t), 200 - 200*exp(-t/2))\nEq(x(t), 200 - 200*exp(-t/2))\nEq(x(t), 200 - 200*exp(-t/2))\nEq(x(t), 200 - 200*exp(-t/2))\nEq(x(t), 200 - 200*exp(-t/2))\nEq(x(t), 200 - 200*exp(-t/2))\nEq(x(t), 200 - 200*exp(-t/2))\nEq(x(t), 200 - 200*exp(-t/2))\nEq(x(t), 200 - 200*exp(-t/2))\nEq(x(t), 200 - 200*exp(-t/2))\nEq(x(t), 200 - 200*exp(-t/2))\nEq(x(t), 200 - 200*exp(-t/2))\nEq(x(t), 200 - 200*exp(-t/2))\nEq(x(t), 200 - 200*exp(-t/2))\nEq(x(t), 200 - 200*exp(-t/2))\nEq(x(t), 200 - 200*exp(-t/2))\nEq(x(t), 200 - 200*exp(-t/2))\nEq(x(t), 200 - 200*exp(-t/2))\nEq(x(t), 200 - 200*exp(-t/2))\nEq(x(t), 200 - 200*exp(-t/2))\nEq(x(t), 200 - 200*exp(-t/2))\nEq(x(t), 200 - 200*exp(-t/2))\nEq(x(t), 200 - 200*exp(-t/2))\nEq(x(t), 200 - 200*exp(-t/2))\nEq(x(t), 200 - 200*exp(-t/2))\nEq(x(t), 200 - 200*exp(-t/2))\nEq(x(t), 200 - 200*exp(-t/2))\nEq(x(t), 200 - 200*exp(-t/2))\nEq(x(t), 200 - 200*exp(-t/2))\nEq(x(t), 200 - 200*exp(-t/2))\nEq(x(t), 200 - 200*exp(-t/2))\nEq(x(t), 200 - 200*exp(-t/2))\nEq(x(t), 200 - 200*exp(-t/2))\nEq(x(t), 200 - 200*exp(-t/2))\nEq(x(t), 200 - 200*exp(-t/2))\nEq(x(t), 200 - 200*exp(-t/2))\nEq(x(t), 200 - 200*exp(-t/2))\nEq(x(t), 200 - 200*exp(-t/2))\nEq(x(t), 200 - 200*exp(-t/2))\nEq(x(t), 200 - 200*exp(-t/2))\nEq(x(t), 200 - 200*exp(-t/2))\nEq(x(t), 200 - 200*exp(-t/2))\nEq(x(t), 200 - 200*exp(-t/2))\nEq(x(t), 200 - 200*exp(-t/2))\nEq(x(t), 200 - 200*exp(-t/2))\nEq(x(t), 200 - 200*exp(-t/2))\nEq(x(t), 200 - 200*exp(-t/2))\nEq(x(t), 200 - 200*exp(-t/2))\nEq(x(t), 200 - 200*exp(-t/2))\nEq(x(t), 200 - 200*exp(-t/2))\nEq(x(t), 200 - 200*exp(-t/2))\nEq(x(t), 200 - 200*exp(-t/2))\nEq(x(t), 200 - 200*exp(-t/2))\nEq(x(t), 200 - 200*exp(-t/2))\nEq(x(t), 200 - 200*exp(-t/2))\nEq(x(t), 200 - 200*exp(-t/2))\nEq(x(t), 200 - 200*exp(-t/2))\nEq(x(t), 200 - 200*exp(-t/2))\nEq(x(t), 200 - 200*exp(-t/2))\nEq(x(t), 200 - 200*exp(-t/2))\nEq(x(t), 200 - 200*exp(-t/2))\nEq(x(t), 200 - 200*exp(-t/2))\nEq(x(t), 200 - 200*exp(-t/2))\nEq(x(t), 200 - 200*exp(-t/2))\nEq(x(t), 200 - 200*exp(-t/2))\nEq(x(t), 200 - 200*exp(-t/2))\nEq(x(t), 200 - 200*exp(-t/2))\nEq(x(t), 200 - 200*exp(-t/2))\nEq(x(t), 200 - 200*exp(-t/2))\nEq(x(t), 200 - 200*exp(-t/2))\nEq(x(t), 200 - 200*exp(-t/2))\nEq(x(t), 200 - 200*exp(-t/2))\nEq(x(t), 200 - 200*exp(-t/2))\nEq(x(t), 200 - 200*exp(-t/2))\nEq(x(t), 200 - 200*exp(-t/2))\nEq(x(t), 200 - 200*exp(-t/2))\nEq(x(t), 200 - 200*exp(-t/2))\nEq(x(t), 200 - 200*exp(-t/2))\nEq(x(t), 200 - 200*exp(-t/2))\nEq(x(t), 200 - 200*exp(-t/2))\nEq(x(t), 200 - 200*exp(-t/2))\nEq(x(t), 200 - 200*exp(-t/2))\nEq(x(t), 200 - 200*exp(-t/2))\nEq(x(t), 200 - 200*exp(-t/2))\nEq(x(t), 200 - 200*exp(-t/2))\nEq(x(t), 200 - 200*exp(-t/2))\nEq(x(t), 200 - 200*exp(-t/2))\nEq(x(t), 200 - 200*exp(-t/2))\nEq(x(t), 200 - 200*exp(-t/2))\nEq(x(t), 200 - 200*exp(-t/2))\nEq(x(t), 200 - 200*exp(-t/2))\nEq(x(t), 200 - 200*exp(-t/2))\nEq(x(t), 200 - 200*exp(-t/2))\nEq(x(t), 200 - 200*exp(-t/2))\nEq(x(t), 200 - 200*exp(-t/2))\nEq(x(t), 200 - 200*exp(-t/2))\nEq(x(t), 200 - 200*exp(-t/2))\nEq(x(t), 200 - 200*exp(-t/2))\nEq(x(t), 200 - 200*exp(-t/2))\nEq(x(t), 200 - 200*exp(-t/2))\nEq(x(t), 200 - 200*exp(-t/2))\nEq(x(t), 200 - 200*exp(-t/2))\nEq(x(t), 200 - 200*exp(-t/2))\nEq(x(t), 200 - 200*exp(-t/2))\nEq(x(t), 200 - 200*exp(-t/2))\nEq(x(t), 200 - 200*exp(-t/2))\nEq(x(t), 200 - 200*exp(-t/2))\nEq(x(t), 200 - 200*exp(-t/2))\nEq(x(t), 200 - 200*exp(-t/2))\nEq(x(t), 200 - 200*exp(-t/2))\nEq(x(t), 200 - 200*exp(-t/2))\nEq(x(t), 200 - 200*exp(-t/2))\nEq(x(t), 200 - 200*exp(-t/2))\nEq(x(t), 200 - 200*exp(-t/2))\nEq(x(t), 200 - 200*exp(-t/2))\nEq(x(t), 200 - 200*exp(-t/2))\nEq(x(t), 200 - 200*exp(-t/2))\nEq(x(t), 200 - 200*exp(-t/2))\nEq(x(t), 200 - 200*exp(-t/2))\nEq(x(t), 200 - 200*exp(-t/2))\nEq(x(t), 200 - 200*exp(-t/2))\nEq(x(t), 200 - 200*exp(-t/2))\nEq(x(t), 200 - 200*exp(-t/2))\nEq(x(t), 200 - 200*exp(-t/2))\nEq(x(t), 200 - 200*exp(-t/2))\nEq(x(t), 200 - 200*exp(-t/2))\nEq(x(t), 200 - 200*exp(-t/2))\nEq(x(t), 200 - 200*exp(-t/2))\nEq(x(t), 200 - 200*exp(-t/2))\nEq(x(t), 200 - 200*exp(-t/2))\nEq(x(t), 200 - 200*exp(-t/2))\nEq(x(t), 200 - 200*exp(-t/2))\nEq(x(t), 200 - 200*exp(-t/2))\nEq(x(t), 200 - 200*exp(-t/2))\nEq(x(t), 200 - 200*exp(-t/2))\nEq(x(t), 200 - 200*exp(-t/2))\nEq(x(t), 200 - 200*exp(-t/2))\nEq(x(t), 200 - 200*exp(-t/2))\nEq(x(t), 200 - 200*exp(-t/2))\nEq(x(t), 200 - 200*exp(-t/2))\nEq(x(t), 200 - 200*exp(-t/2))\nEq(x(t), 200 - 200*exp(-t/2))\nEq(x(t), 200 - 200*exp(-t/2))\nEq(x(t), 200 - 200*exp(-t/2))\nEq(x(t), 200 - 200*exp(-t/2))\nEq(x(t), 200 - 200*exp(-t/2))\nEq(x(t), 200 - 200*exp(-t/2))\nEq(x(t), 200 - 200*exp(-t/2))\nEq(x(t), 200 - 200*exp(-t/2))\nEq(x(t), 200 - 200*exp(-t/2))\nEq(x(t), 200 - 200*exp(-t/2))\nEq(x(t), 200 - 200*exp(-t/2))\nEq(x(t), 200 - 200*exp(-t/2))\nEq(x(t), 200 - 200*exp(-t/2))\nEq(x(t), 200 - 200*exp(-t/2))\nEq(x(t), 200 - 200*exp(-t/2))\nEq(x(t), 200 - 200*exp(-t/2))\nEq(x(t), 200 - 200*exp(-t/2))\nEq(x(t), 200 - 200*exp(-t/2))\nEq(x(t), 200 - 200*exp(-t/2))\nEq(x(t), 200 - 200*exp(-t/2))\nEq(x(t), 200 - 200*exp(-t/2))\nEq(x(t), 200 - 200*exp(-t/2))\nEq(x(t), 200 - 200*exp(-t/2))\nEq(x(t), 200 - 200*exp(-t/2))\nEq(x(t), 200 - 200*exp(-t/2))\nEq(x(t), 200 - 200*exp(-t/2))\nEq(x(t), 200 - 200*exp(-t/2))\nEq(x(t), 200 - 200*exp(-t/2))\nEq(x(t), 200 - 200*exp(-t/2))\nEq(x(t), 200 - 200*exp(-t/2))\nEq(x(t), 200 - 200*exp(-t/2))\nEq(x(t), 200 - 200*exp(-t/2))\nEq(x(t), 200 - 200*exp(-t/2))\nEq(x(t), 200 - 200*exp(-t/2))\nEq(x(t), 200 - 200*exp(-t/2))\nEq(x(t), 200 - 200*exp(-t/2))\nEq(x(t), 200 - 200*exp(-t/2))\nEq(x(t), 200 - 200*exp(-t/2))\nEq(x(t), 200 - 200*exp(-t/2))\nEq(x(t), 200 - 200*exp(-t/2))\nEq(x(t), 200 - 200*exp(-t/2))\nEq(x(t), 200 - 200*exp(-t/2))\nEq(x(t), 200 - 200*exp(-t/2))\nEq(x(t), 200 - 200*exp(-t/2))\nEq(x(t), 200 - 200*exp(-t/2))\nEq(x(t), 200 - 200*exp(-t/2))\nEq(x(t), 200 - 200*exp(-t/2))\nEq(x(t), 200 - 200*exp(-t/2))\nEq(x(t), 200 - 200*exp(-t/2))\nEq(x(t), 200 - 200*exp(-t/2))\nEq(x(t), 200 - 200*exp(-t/2))\nEq(x(t), 200 - 200*exp(-t/2))\nEq(x(t), 200 - 200*exp(-t/2))\nEq(x(t), 200 - 200*exp(-t/2))\nEq(x(t), 200 - 200*exp(-t/2))\nEq(x(t), 200 - 200*exp(-t/2))\nEq(x(t), 200 - 200*exp(-t/2))\nEq(x(t), 200 - 200*exp(-t/2))\nEq(x(t), 200 - 200*exp(-t/2))\nEq(x(t), 200 - 200*exp(-t/2))\nEq(x(t), 200 - 200*exp(-t/2))\nEq(x(t), 200 - 200*exp(-t/2))\nEq(x(t), 200 - 200*exp(-t/2))\nEq(x(t), 200 - 200*exp(-t/2))\nEq(x(t), 200 - 200*exp(-t/2))\nEq(x(t), 200 - 200*exp(-t/2))\nEq(x(t), 200 - 200*exp(-t/2))\nEq(x(t), 200 - 200*exp(-t/2))\nEq(x(t), 200 - 200*exp(-t/2))\nEq(x(t), 200 - 200*exp(-t/2))\nEq(x(t), 200 - 200*exp(-t/2))\nEq(x(t), 200 - 200*exp(-t/2))\nEq(x(t), 200 - 200*exp(-t/2))\nEq(x(t), 200 - 200*exp(-t/2))\nEq(x(t), 200 - 200*exp(-t/2))\nEq(x(t), 200 - 200*exp(-t/2))\nEq(x(t), 200 - 200*exp(-t/2))\nEq(x(t), 200 - 200*exp(-t/2))\nEq(x(t), 200 - 200*exp(-t/2))\nEq(x(t), 200 - 200*exp(-t/2))\nEq(x(t), 200 - 200*exp(-t/2))\nEq(x(t), 200 - 200*exp(-t/2))\nEq(x(t), 200 - 200*exp(-t/2))\nEq(x(t), 200 - 200*exp(-t/2))\nEq(x(t), 200 - 200*exp(-t/2))\nEq(x(t), 200 - 200*exp(-t/2))\nEq(x(t), 200 - 200*exp(-t/2))\nEq(x(t), 200 - 200*exp(-t/2))\nEq(x(t), 200 - 200*exp(-t/2))\nEq(x(t), 200 - 200*exp(-t/2))\nEq(x(t), 200 - 200*exp(-t/2))\nEq(x(t), 200 - 200*exp(-t/2))\nEq(x(t), 200 - 200*exp(-t/2))\nEq(x(t), 200 - 200*exp(-t/2))\nEq(x(t), 200 - 200*exp(-t/2))\nEq(x(t), 200 - 200*exp(-t/2))\nEq(x(t), 200 - 200*exp(-t/2))\nEq(x(t), 200 - 200*exp(-t/2))\nEq(x(t), 200 - 200*exp(-t/2))\nEq(x(t), 200 - 200*exp(-t/2))\nEq(x(t), 200 - 200*exp(-t/2))\nEq(x(t), 200 - 200*exp(-t/2))\nEq(x(t), 200 - 200*exp(-t/2))\nEq(x(t), 200 - 200*exp(-t/2))\nEq(x(t), 200 - 200*exp(-t/2))\nEq(x(t), 200 - 200*exp(-t/2))\nEq(x(t), 200 - 200*exp(-t/2))\nEq(x(t), 200 - 200*exp(-t/2))\nEq(x(t), 200 - 200*exp(-t/2))\nEq(x(t), 200 - 200*exp(-t/2))\nEq(x(t), 200 - 200*exp(-t/2))\nEq(x(t), 200 - 200*exp(-t/2))\nEq(x(t), 200 - 200*exp(-t/2))\nEq(x(t), 200 - 200*exp(-t/2))\nEq(x(t), 200 - 200*exp(-t/2))\nEq(x(t), 200 - 200*exp(-t/2))\nEq(x(t), 200 - 200*exp(-t/2))\nEq(x(t), 200 - 200*exp(-t/2))\nEq(x(t), 200 - 200*exp(-t/2))\nEq(x(t), 200 - 200*exp(-t/2))\nEq(x(t), 200 - 200*exp(-t/2))\nEq(x(t), 200 - 200*exp(-t/2))\nEq(x(t), 200 - 200*exp(-t/2))\nEq(x(t), 200 - 200*exp(-t/2))\nEq(x(t), 200 - 200*exp(-t/2))\nEq(x(t), 200 - 200*exp(-t/2))\nEq(x(t), 200 - 200*exp(-t/2))\nEq(x(t), 200 - 200*exp(-t/2))\nEq(x(t), 200 - 200*exp(-t/2))\nEq(x(t), 200 - 200*exp(-t/2))\nEq(x(t), 200 - 200*exp(-t/2))\nEq(x(t), 200 - 200*exp(-t/2))\nEq(x(t), 200 - 200*exp(-t/2))\nEq(x(t), 200 - 200*exp(-t/2))\nEq(x(t), 200 - 200*exp(-t/2))\nEq(x(t), 200 - 200*exp(-t/2))\nEq(x(t), 200 - 200*exp(-t/2))\nEq(x(t), 200 - 200*exp(-t/2))\nEq(x(t), 200 - 200*exp(-t/2))\nEq(x(t), 200 - 200*exp(-t/2))\nEq(x(t), 200 - 200*exp(-t/2))\nEq(x(t), 200 - 200*exp(-t/2))\nEq(x(t), 200 - 200*exp(-t/2))\nEq(x(t), 200 - 200*exp(-t/2))\nEq(x(t), 200 - 200*exp(-t/2))\nEq(x(t), 200 - 200*exp(-t/2))\nEq(x(t), 200 - 200*exp(-t/2))\nEq(x(t), 200 - 200*exp(-t/2))\nEq(x(t), 200 - 200*exp(-t/2))\nEq(x(t), 200 - 200*exp(-t/2))\nEq(x(t), 200 - 200*exp(-t/2))\nEq(x(t), 200 - 200*exp(-t/2))\nEq(x(t), 200 - 200*exp(-t/2))\nEq(x(t), 200 - 200*exp(-t/2))\nEq(x(t), 200 - 200*exp(-t/2))\nEq(x(t), 200 - 200*exp(-t/2))\nEq(x(t), 200 - 200*exp(-t/2))\nEq(x(t), 200 - 200*exp(-t/2))\nEq(x(t), 200 - 200*exp(-t/2))\nEq(x(t), 200 - 200*exp(-t/2))\nEq(x(t), 200 - 200*exp(-t/2))\nEq(x(t), 200 - 200*exp(-t/2))\nEq(x(t), 200 - 200*exp(-t/2))\nEq(x(t), 200 - 200*exp(-t/2))\nEq(x(t), 200 - 200*exp(-t/2))\nEq(x(t), 200 - 200*exp(-t/2))\nEq(x(t), 200 - 200*exp(-t/2))\nEq(x(t), 200 - 200*exp(-t/2))\nEq(x(t), 200 - 200*exp(-t/2))\nEq(x(t), 200 - 200*exp(-t/2))\nEq(x(t), 200 - 200*exp(-t/2))\nEq(x(t), 200 - 200*exp(-t/2))\nEq(x(t), 200 - 200*exp(-t/2))\nEq(x(t), 200 - 200*exp(-t/2))\nEq(x(t), 200 - 200*exp(-t/2))\nEq(x(t), 200 - 200*exp(-t/2))\nEq(x(t), 200 - 200*exp(-t/2))\nEq(x(t), 200 - 200*exp(-t/2))\nEq(x(t), 200 - 200*exp(-t/2))\nEq(x(t), 200 - 200*exp(-t/2))\nEq(x(t), 200 - 200*exp(-t/2))\nEq(x(t), 200 - 200*exp(-t/2))\nEq(x(t), 200 - 200*exp(-t/2))\nEq(x(t), 200 - 200*exp(-t/2))\nEq(x(t), 200 - 200*exp(-t/2))\nEq(x(t), 200 - 200*exp(-t/2))\nEq(x(t), 200 - 200*exp(-t/2))\nEq(x(t), 200 - 200*exp(-t/2))\nEq(x(t), 200 - 200*exp(-t/2))\nEq(x(t), 200 - 200*exp(-t/2))\nEq(x(t), 200 - 200*exp(-t/2))\nEq(x(t), 200 - 200*exp(-t/2))\nEq(x(t), 200 - 200*exp(-t/2))\nEq(x(t), 200 - 200*exp(-t/2))\nEq(x(t), 200 - 200*exp(-t/2))\nEq(x(t), 200 - 200*exp(-t/2))\nEq(x(t), 200 - 200*exp(-t/2))\nEq(x(t), 200 - 200*exp(-t/2))\nEq(x(t), 200 - 200*exp(-t/2))\nEq(x(t), 200 - 200*exp(-t/2))\nEq(x(t), 200 - 200*exp(-t/2))\nEq(x(t), 200 - 200*exp(-t/2))\nEq(x(t), 200 - 200*exp(-t/2))\nEq(x(t), 200 - 200*exp(-t/2))\nEq(x(t), 200 - 200*exp(-t/2))\nEq(x(t), 200 - 200*exp(-t/2))\nEq(x(t), 200 - 200*exp(-t/2))\nEq(x(t), 200 - 200*exp(-t/2))\nEq(x(t), 200 - 200*exp(-t/2))\nEq(x(t), 200 - 200*exp(-t/2))\nEq(x(t), 200 - 200*exp(-t/2))\nEq(x(t), 200 - 200*exp(-t/2))\nEq(x(t), 200 - 200*exp(-t/2))\nEq(x(t), 200 - 200*exp(-t/2))\nEq(x(t), 200 - 200*exp(-t/2))\nEq(x(t), 200 - 200*exp(-t/2))\nEq(x(t), 200 - 200*exp(-t/2))\nEq(x(t), 200 - 200*exp(-t/2))\nEq(x(t), 200 - 200*exp(-t/2))\nEq(x(t), 200 - 200*exp(-t/2))\nEq(x(t), 200 - 200*exp(-t/2))\nEq(x(t), 200 - 200*exp(-t/2))\nEq(x(t), 200 - 200*exp(-t/2))\nEq(x(t), 200 - 200*exp(-t/2))\nEq(x(t), 200 - 200*exp(-t/2))\nEq(x(t), 200 - 200*exp(-t/2))\nEq(x(t), 200 - 200*exp(-t/2))\nEq(x(t), 200 - 200*exp(-t/2))\nEq(x(t), 200 - 200*exp(-t/2))\nEq(x(t), 200 - 200*exp(-t/2))\nEq(x(t), 200 - 200*exp(-t/2))\nEq(x(t), 200 - 200*exp(-t/2))\nEq(x(t), 200 - 200*exp(-t/2))\nEq(x(t), 200 - 200*exp(-t/2))\nEq(x(t), 200 - 200*exp(-t/2))\nEq(x(t), 200 - 200*exp(-t/2))\nEq(x(t), 200 - 200*exp(-t/2))\nEq(x(t), 200 - 200*exp(-t/2))\nEq(x(t), 200 - 200*exp(-t/2))\nEq(x(t), 200 - 200*exp(-t/2))\nEq(x(t), 200 - 200*exp(-t/2))\nEq(x(t), 200 - 200*exp(-t/2))\nEq(x(t), 200 - 200*exp(-t/2))\nEq(x(t), 200 - 200*exp(-t/2))\nEq(x(t), 200 - 200*exp(-t/2))\nEq(x(t), 200 - 200*exp(-t/2))\nEq(x(t), 200 - 200*exp(-t/2))\nEq(x(t), 200 - 200*exp(-t/2))\nEq(x(t), 200 - 200*exp(-t/2))\nEq(x(t), 200 - 200*exp(-t/2))\nEq(x(t), 200 - 200*exp(-t/2))\nEq(x(t), 200 - 200*exp(-t/2))\nEq(x(t), 200 - 200*exp(-t/2))\nEq(x(t), 200 - 200*exp(-t/2))\nEq(x(t), 200 - 200*exp(-t/2))\nEq(x(t), 200 - 200*exp(-t/2))\nEq(x(t), 200 - 200*exp(-t/2))\nEq(x(t), 200 - 200*exp(-t/2))\nEq(x(t), 200 - 200*exp(-t/2))\nEq(x(t), 200 - 200*exp(-t/2))\nEq(x(t), 200 - 200*exp(-t/2))\nEq(x(t), 200 - 200*exp(-t/2))\nEq(x(t), 200 - 200*exp(-t/2))\nEq(x(t), 200 - 200*exp(-t/2))\nEq(x(t), 200 - 200*exp(-t/2))\nEq(x(t), 200 - 200*exp(-t/2))\nEq(x(t), 200 - 200*exp(-t/2))\nEq(x(t), 200 - 200*exp(-t/2))\nEq(x(t), 200 - 200*exp(-t/2))\nEq(x(t), 200 - 200*exp(-t/2))\nEq(x(t), 200 - 200*exp(-t/2))\nEq(x(t), 200 - 200*exp(-t/2))\nEq(x(t), 200 - 200*exp(-t/2))\nEq(x(t), 200 - 200*exp(-t/2))\nEq(x(t), 200 - 200*exp(-t/2))\nEq(x(t), 200 - 200*exp(-t/2))\nEq(x(t), 200 - 200*exp(-t/2))\nEq(x(t), 200 - 200*exp(-t/2))\nEq(x(t), 200 - 200*exp(-t/2))\nEq(x(t), 200 - 200*exp(-t/2))\nEq(x(t), 200 - 200*exp(-t/2))\nEq(x(t), 200 - 200*exp(-t/2))\nEq(x(t), 200 - 200*exp(-t/2))\nEq(x(t), 200 - 200*exp(-t/2))\nEq(x(t), 200 - 200*exp(-t/2))\nEq(x(t), 200 - 200*exp(-t/2))\nEq(x(t), 200 - 200*exp(-t/2))\nEq(x(t), 200 - 200*exp(-t/2))\nEq(x(t), 200 - 200*exp(-t/2))\nEq(x(t), 200 - 200*exp(-t/2))\nEq(x(t), 200 - 200*exp(-t/2))\nEq(x(t), 200 - 200*exp(-t/2))\nEq(x(t), 200 - 200*exp(-t/2))\nEq(x(t), 200 - 200*exp(-t/2))\nEq(x(t), 200 - 200*exp(-t/2))\nEq(x(t), 200 - 200*exp(-t/2))\nEq(x(t), 200 - 200*exp(-t/2))\nEq(x(t), 200 - 200*exp(-t/2))\nEq(x(t), 200 - 200*exp(-t/2))\nEq(x(t), 200 - 200*exp(-t/2))\nEq(x(t), 200 - 200*exp(-t/2))\nEq(x(t), 200 - 200*exp(-t/2))\nEq(x(t), 200 - 200*exp(-t/2))\nEq(x(t), 200 - 200*exp(-t/2))\nEq(x(t), 200 - 200*exp(-t/2))\nEq(x(t), 200 - 200*exp(-t/2))\nEq(x(t), 200 - 200*exp(-t/2))\nEq(x(t), 200 - 200*exp(-t/2))\nEq(x(t), 200 - 200*exp(-t/2))\nEq(x(t), 200 - 200*exp(-t/2))\nEq(x(t), 200 - 200*exp(-t/2))\nEq(x(t), 200 - 200*exp(-t/2))\nEq(x(t), 200 - 200*exp(-t/2))\nEq(x(t), 200 - 200*exp(-t/2))\nEq(x(t), 200 - 200*exp(-t/2))\nEq(x(t), 200 - 200*exp(-t/2))\nEq(x(t), 200 - 200*exp(-t/2))\nEq(x(t), 200 - 200*exp(-t/2))\nEq(x(t), 200 - 200*exp(-t/2))\nEq(x(t), 200 - 200*exp(-t/2))\nEq(x(t), 200 - 200*exp(-t/2))\nEq(x(t), 200 - 200*exp(-t/2))\nEq(x(t), 200 - 200*exp(-t/2))\nEq(x(t), 200 - 200*exp(-t/2))\nEq(x(t), 200 - 200*exp(-t/2))\nEq(x(t), 200 - 200*exp(-t/2))\nEq(x(t), 200 - 200*exp(-t/2))\nEq(x(t), 200 - 200*exp(-t/2))\nEq(x(t), 200 - 200*exp(-t/2))\nEq(x(t), 200 - 200*exp(-t/2))\nEq(x(t), 200 - 200*exp(-t/2))\nEq(x(t), 200 - 200*exp(-t/2))\nEq(x(t), 200 - 200*exp(-t/2))\nEq(x(t), 200 - 200*exp(-t/2))\nEq(x(t), 200 - 200*exp(-t/2))\nEq(x(t), 200 - 200*exp(-t/2))\nEq(x(t), 200 - 200*exp(-t/2))\nEq(x(t), 200 - 200*exp(-t/2))\nEq(x(t), 200 - 200*exp(-t/2))\nEq(x(t), 200 - 200*exp(-t/2))\nEq(x(t), 200 - 200*exp(-t/2))\nEq(x(t), 200 - 200*exp(-t/2))\nEq(x(t), 200 - 200*exp(-t/2))\nEq(x(t), 200 - 200*exp(-t/2))\nEq(x(t), 200 - 200*exp(-t/2))\nEq(x(t), 200 - 200*exp(-t/2))\nEq(x(t), 200 - 200*exp(-t/2))\nEq(x(t), 200 - 200*exp(-t/2))\nEq(x(t), 200 - 200*exp(-t/2))\nEq(x(t), 200 - 200*exp(-t/2))\nEq(x(t), 200 - 200*exp(-t/2))\nEq(x(t), 200 - 200*exp(-t/2))\nEq(x(t), 200 - 200*exp(-t/2))\nEq(x(t), 200 - 200*exp(-t/2))\nEq(x(t), 200 - 200*exp(-t/2))\nEq(x(t), 200 - 200*exp(-t/2))\nEq(x(t), 200 - 200*exp(-t/2))\nEq(x(t), 200 - 200*exp(-t/2))\nEq(x(t), 200 - 200*exp(-t/2))\nEq(x(t), 200 - 200*exp(-t/2))\nEq(x(t), 200 - 200*exp(-t/2))\nEq(x(t), 200 - 200*exp(-t/2))\nEq(x(t), 200 - 200*exp(-t/2))\nEq(x(t), 200 - 200*exp(-t/2))\nEq(x(t), 200 - 200*exp(-t/2))\nEq(x(t), 200 - 200*exp(-t/2))\nEq(x(t), 200 - 200*exp(-t/2))\nEq(x(t), 200 - 200*exp(-t/2))\nEq(x(t), 200 - 200*exp(-t/2))\nEq(x(t), 200 - 200*exp(-t/2))\nEq(x(t), 200 - 200*exp(-t/2))\nEq(x(t), 200 - 200*exp(-t/2))\nEq(x(t), 200 - 200*exp(-t/2))\nEq(x(t), 200 - 200*exp(-t/2))\nEq(x(t), 200 - 200*exp(-t/2))\nEq(x(t), 200 - 200*exp(-t/2))\nEq(x(t), 200 - 200*exp(-t/2))\nEq(x(t), 200 - 200*exp(-t/2))\nEq(x(t), 200 - 200*exp(-t/2))\nEq(x(t), 200 - 200*exp(-t/2))\nEq(x(t), 200 - 200*exp(-t/2))\nEq(x(t), 200 - 200*exp(-t/2))\nEq(x(t), 200 - 200*exp(-t/2))\nEq(x(t), 200 - 200*exp(-t/2))\nEq(x(t), 200 - 200*exp(-t/2))\nEq(x(t), 200 - 200*exp(-t/2))\nEq(x(t), 200 - 200*exp(-t/2))\nEq(x(t), 200 - 200*exp(-t/2))\nEq(x(t), 200 - 200*exp(-t/2))\nEq(x(t), 200 - 200*exp(-t/2))\nEq(x(t), 200 - 200*exp(-t/2))\nEq(x(t), 200 - 200*exp(-t/2))\nEq(x(t), 200 - 200*exp(-t/2))\n"
        },
        {
         "name": "stdout",
         "output_type": "stream",
         "text": "Eq(x(t), 200 - 200*exp(-t/2))\nEq(x(t), 200 - 200*exp(-t/2))\nEq(x(t), 200 - 200*exp(-t/2))\nEq(x(t), 200 - 200*exp(-t/2))\nEq(x(t), 200 - 200*exp(-t/2))\nEq(x(t), 200 - 200*exp(-t/2))\nEq(x(t), 200 - 200*exp(-t/2))\nEq(x(t), 200 - 200*exp(-t/2))\nEq(x(t), 200 - 200*exp(-t/2))\nEq(x(t), 200 - 200*exp(-t/2))\nEq(x(t), 200 - 200*exp(-t/2))\nEq(x(t), 200 - 200*exp(-t/2))\nEq(x(t), 200 - 200*exp(-t/2))\nEq(x(t), 200 - 200*exp(-t/2))\nEq(x(t), 200 - 200*exp(-t/2))\nEq(x(t), 200 - 200*exp(-t/2))\nEq(x(t), 200 - 200*exp(-t/2))\nEq(x(t), 200 - 200*exp(-t/2))\nEq(x(t), 200 - 200*exp(-t/2))\nEq(x(t), 200 - 200*exp(-t/2))\nEq(x(t), 200 - 200*exp(-t/2))\nEq(x(t), 200 - 200*exp(-t/2))\nEq(x(t), 200 - 200*exp(-t/2))\nEq(x(t), 200 - 200*exp(-t/2))\nEq(x(t), 200 - 200*exp(-t/2))\nEq(x(t), 200 - 200*exp(-t/2))\nEq(x(t), 200 - 200*exp(-t/2))\nEq(x(t), 200 - 200*exp(-t/2))\nEq(x(t), 200 - 200*exp(-t/2))\nEq(x(t), 200 - 200*exp(-t/2))\nEq(x(t), 200 - 200*exp(-t/2))\nEq(x(t), 200 - 200*exp(-t/2))\nEq(x(t), 200 - 200*exp(-t/2))\nEq(x(t), 200 - 200*exp(-t/2))\nEq(x(t), 200 - 200*exp(-t/2))\nEq(x(t), 200 - 200*exp(-t/2))\nEq(x(t), 200 - 200*exp(-t/2))\nEq(x(t), 200 - 200*exp(-t/2))\nEq(x(t), 200 - 200*exp(-t/2))\nEq(x(t), 200 - 200*exp(-t/2))\nEq(x(t), 200 - 200*exp(-t/2))\nEq(x(t), 200 - 200*exp(-t/2))\nEq(x(t), 200 - 200*exp(-t/2))\nEq(x(t), 200 - 200*exp(-t/2))\nEq(x(t), 200 - 200*exp(-t/2))\nEq(x(t), 200 - 200*exp(-t/2))\nEq(x(t), 200 - 200*exp(-t/2))\nEq(x(t), 200 - 200*exp(-t/2))\nEq(x(t), 200 - 200*exp(-t/2))\nEq(x(t), 200 - 200*exp(-t/2))\nEq(x(t), 200 - 200*exp(-t/2))\nEq(x(t), 200 - 200*exp(-t/2))\nEq(x(t), 200 - 200*exp(-t/2))\nEq(x(t), 200 - 200*exp(-t/2))\nEq(x(t), 200 - 200*exp(-t/2))\nEq(x(t), 200 - 200*exp(-t/2))\nEq(x(t), 200 - 200*exp(-t/2))\nEq(x(t), 200 - 200*exp(-t/2))\nEq(x(t), 200 - 200*exp(-t/2))\nEq(x(t), 200 - 200*exp(-t/2))\nEq(x(t), 200 - 200*exp(-t/2))\nEq(x(t), 200 - 200*exp(-t/2))\nEq(x(t), 200 - 200*exp(-t/2))\nEq(x(t), 200 - 200*exp(-t/2))\nEq(x(t), 200 - 200*exp(-t/2))\nEq(x(t), 200 - 200*exp(-t/2))\nEq(x(t), 200 - 200*exp(-t/2))\nEq(x(t), 200 - 200*exp(-t/2))\nEq(x(t), 200 - 200*exp(-t/2))\nEq(x(t), 200 - 200*exp(-t/2))\nEq(x(t), 200 - 200*exp(-t/2))\nEq(x(t), 200 - 200*exp(-t/2))\nEq(x(t), 200 - 200*exp(-t/2))\nEq(x(t), 200 - 200*exp(-t/2))\nEq(x(t), 200 - 200*exp(-t/2))\nEq(x(t), 200 - 200*exp(-t/2))\nEq(x(t), 200 - 200*exp(-t/2))\nEq(x(t), 200 - 200*exp(-t/2))\nEq(x(t), 200 - 200*exp(-t/2))\nEq(x(t), 200 - 200*exp(-t/2))\nEq(x(t), 200 - 200*exp(-t/2))\nEq(x(t), 200 - 200*exp(-t/2))\nEq(x(t), 200 - 200*exp(-t/2))\nEq(x(t), 200 - 200*exp(-t/2))\nEq(x(t), 200 - 200*exp(-t/2))\nEq(x(t), 200 - 200*exp(-t/2))\nEq(x(t), 200 - 200*exp(-t/2))\nEq(x(t), 200 - 200*exp(-t/2))\nEq(x(t), 200 - 200*exp(-t/2))\nEq(x(t), 200 - 200*exp(-t/2))\nEq(x(t), 200 - 200*exp(-t/2))\nEq(x(t), 200 - 200*exp(-t/2))\nEq(x(t), 200 - 200*exp(-t/2))\nEq(x(t), 200 - 200*exp(-t/2))\nEq(x(t), 200 - 200*exp(-t/2))\nEq(x(t), 200 - 200*exp(-t/2))\nEq(x(t), 200 - 200*exp(-t/2))\nEq(x(t), 200 - 200*exp(-t/2))\nEq(x(t), 200 - 200*exp(-t/2))\nEq(x(t), 200 - 200*exp(-t/2))\nEq(x(t), 200 - 200*exp(-t/2))\nEq(x(t), 200 - 200*exp(-t/2))\nEq(x(t), 200 - 200*exp(-t/2))\nEq(x(t), 200 - 200*exp(-t/2))\nEq(x(t), 200 - 200*exp(-t/2))\nEq(x(t), 200 - 200*exp(-t/2))\nEq(x(t), 200 - 200*exp(-t/2))\nEq(x(t), 200 - 200*exp(-t/2))\nEq(x(t), 200 - 200*exp(-t/2))\nEq(x(t), 200 - 200*exp(-t/2))\nEq(x(t), 200 - 200*exp(-t/2))\nEq(x(t), 200 - 200*exp(-t/2))\nEq(x(t), 200 - 200*exp(-t/2))\nEq(x(t), 200 - 200*exp(-t/2))\nEq(x(t), 200 - 200*exp(-t/2))\nEq(x(t), 200 - 200*exp(-t/2))\nEq(x(t), 200 - 200*exp(-t/2))\nEq(x(t), 200 - 200*exp(-t/2))\nEq(x(t), 200 - 200*exp(-t/2))\nEq(x(t), 200 - 200*exp(-t/2))\nEq(x(t), 200 - 200*exp(-t/2))\nEq(x(t), 200 - 200*exp(-t/2))\nEq(x(t), 200 - 200*exp(-t/2))\nEq(x(t), 200 - 200*exp(-t/2))\nEq(x(t), 200 - 200*exp(-t/2))\nEq(x(t), 200 - 200*exp(-t/2))\nEq(x(t), 200 - 200*exp(-t/2))\nEq(x(t), 200 - 200*exp(-t/2))\nEq(x(t), 200 - 200*exp(-t/2))\nEq(x(t), 200 - 200*exp(-t/2))\nEq(x(t), 200 - 200*exp(-t/2))\nEq(x(t), 200 - 200*exp(-t/2))\nEq(x(t), 200 - 200*exp(-t/2))\nEq(x(t), 200 - 200*exp(-t/2))\nEq(x(t), 200 - 200*exp(-t/2))\nEq(x(t), 200 - 200*exp(-t/2))\nEq(x(t), 200 - 200*exp(-t/2))\nEq(x(t), 200 - 200*exp(-t/2))\nEq(x(t), 200 - 200*exp(-t/2))\nEq(x(t), 200 - 200*exp(-t/2))\nEq(x(t), 200 - 200*exp(-t/2))\nEq(x(t), 200 - 200*exp(-t/2))\nEq(x(t), 200 - 200*exp(-t/2))\nEq(x(t), 200 - 200*exp(-t/2))\nEq(x(t), 200 - 200*exp(-t/2))\nEq(x(t), 200 - 200*exp(-t/2))\nEq(x(t), 200 - 200*exp(-t/2))\nEq(x(t), 200 - 200*exp(-t/2))\nEq(x(t), 200 - 200*exp(-t/2))\nEq(x(t), 200 - 200*exp(-t/2))\nEq(x(t), 200 - 200*exp(-t/2))\nEq(x(t), 200 - 200*exp(-t/2))\nEq(x(t), 200 - 200*exp(-t/2))\nEq(x(t), 200 - 200*exp(-t/2))\nEq(x(t), 200 - 200*exp(-t/2))\nEq(x(t), 200 - 200*exp(-t/2))\nEq(x(t), 200 - 200*exp(-t/2))\nEq(x(t), 200 - 200*exp(-t/2))\nEq(x(t), 200 - 200*exp(-t/2))\nEq(x(t), 200 - 200*exp(-t/2))\nEq(x(t), 200 - 200*exp(-t/2))\nEq(x(t), 200 - 200*exp(-t/2))\nEq(x(t), 200 - 200*exp(-t/2))\nEq(x(t), 200 - 200*exp(-t/2))\nEq(x(t), 200 - 200*exp(-t/2))\nEq(x(t), 200 - 200*exp(-t/2))\nEq(x(t), 200 - 200*exp(-t/2))\nEq(x(t), 200 - 200*exp(-t/2))\nEq(x(t), 200 - 200*exp(-t/2))\nEq(x(t), 200 - 200*exp(-t/2))\nEq(x(t), 200 - 200*exp(-t/2))\nEq(x(t), 200 - 200*exp(-t/2))\nEq(x(t), 200 - 200*exp(-t/2))\nEq(x(t), 200 - 200*exp(-t/2))\nEq(x(t), 200 - 200*exp(-t/2))\nEq(x(t), 200 - 200*exp(-t/2))\nEq(x(t), 200 - 200*exp(-t/2))\nEq(x(t), 200 - 200*exp(-t/2))\nEq(x(t), 200 - 200*exp(-t/2))\nEq(x(t), 200 - 200*exp(-t/2))\nEq(x(t), 200 - 200*exp(-t/2))\nEq(x(t), 200 - 200*exp(-t/2))\nEq(x(t), 200 - 200*exp(-t/2))\nEq(x(t), 200 - 200*exp(-t/2))\nEq(x(t), 200 - 200*exp(-t/2))\nEq(x(t), 200 - 200*exp(-t/2))\nEq(x(t), 200 - 200*exp(-t/2))\nEq(x(t), 200 - 200*exp(-t/2))\nEq(x(t), 200 - 200*exp(-t/2))\nEq(x(t), 200 - 200*exp(-t/2))\nEq(x(t), 200 - 200*exp(-t/2))\nEq(x(t), 200 - 200*exp(-t/2))\nEq(x(t), 200 - 200*exp(-t/2))\nEq(x(t), 200 - 200*exp(-t/2))\nEq(x(t), 200 - 200*exp(-t/2))\nEq(x(t), 200 - 200*exp(-t/2))\nEq(x(t), 200 - 200*exp(-t/2))\nEq(x(t), 200 - 200*exp(-t/2))\nEq(x(t), 200 - 200*exp(-t/2))\nEq(x(t), 200 - 200*exp(-t/2))\nEq(x(t), 200 - 200*exp(-t/2))\nEq(x(t), 200 - 200*exp(-t/2))\nEq(x(t), 200 - 200*exp(-t/2))\nEq(x(t), 200 - 200*exp(-t/2))\nEq(x(t), 200 - 200*exp(-t/2))\nEq(x(t), 200 - 200*exp(-t/2))\nEq(x(t), 200 - 200*exp(-t/2))\nEq(x(t), 200 - 200*exp(-t/2))\nEq(x(t), 200 - 200*exp(-t/2))\nEq(x(t), 200 - 200*exp(-t/2))\nEq(x(t), 200 - 200*exp(-t/2))\nEq(x(t), 200 - 200*exp(-t/2))\nEq(x(t), 200 - 200*exp(-t/2))\nEq(x(t), 200 - 200*exp(-t/2))\nEq(x(t), 200 - 200*exp(-t/2))\nEq(x(t), 200 - 200*exp(-t/2))\nEq(x(t), 200 - 200*exp(-t/2))\nEq(x(t), 200 - 200*exp(-t/2))\nEq(x(t), 200 - 200*exp(-t/2))\nEq(x(t), 200 - 200*exp(-t/2))\nEq(x(t), 200 - 200*exp(-t/2))\nEq(x(t), 200 - 200*exp(-t/2))\nEq(x(t), 200 - 200*exp(-t/2))\nEq(x(t), 200 - 200*exp(-t/2))\nEq(x(t), 200 - 200*exp(-t/2))\nEq(x(t), 200 - 200*exp(-t/2))\nEq(x(t), 200 - 200*exp(-t/2))\nEq(x(t), 200 - 200*exp(-t/2))\nEq(x(t), 200 - 200*exp(-t/2))\nEq(x(t), 200 - 200*exp(-t/2))\nEq(x(t), 200 - 200*exp(-t/2))\nEq(x(t), 200 - 200*exp(-t/2))\nEq(x(t), 200 - 200*exp(-t/2))\nEq(x(t), 200 - 200*exp(-t/2))\nEq(x(t), 200 - 200*exp(-t/2))\nEq(x(t), 200 - 200*exp(-t/2))\nEq(x(t), 200 - 200*exp(-t/2))\nEq(x(t), 200 - 200*exp(-t/2))\nEq(x(t), 200 - 200*exp(-t/2))\nEq(x(t), 200 - 200*exp(-t/2))\nEq(x(t), 200 - 200*exp(-t/2))\nEq(x(t), 200 - 200*exp(-t/2))\nEq(x(t), 200 - 200*exp(-t/2))\nEq(x(t), 200 - 200*exp(-t/2))\nEq(x(t), 200 - 200*exp(-t/2))\nEq(x(t), 200 - 200*exp(-t/2))\nEq(x(t), 200 - 200*exp(-t/2))\nEq(x(t), 200 - 200*exp(-t/2))\nEq(x(t), 200 - 200*exp(-t/2))\nEq(x(t), 200 - 200*exp(-t/2))\nEq(x(t), 200 - 200*exp(-t/2))\nEq(x(t), 200 - 200*exp(-t/2))\nEq(x(t), 200 - 200*exp(-t/2))\nEq(x(t), 200 - 200*exp(-t/2))\nEq(x(t), 200 - 200*exp(-t/2))\nEq(x(t), 200 - 200*exp(-t/2))\nEq(x(t), 200 - 200*exp(-t/2))\nEq(x(t), 200 - 200*exp(-t/2))\nEq(x(t), 200 - 200*exp(-t/2))\nEq(x(t), 200 - 200*exp(-t/2))\nEq(x(t), 200 - 200*exp(-t/2))\nEq(x(t), 200 - 200*exp(-t/2))\nEq(x(t), 200 - 200*exp(-t/2))\nEq(x(t), 200 - 200*exp(-t/2))\nEq(x(t), 200 - 200*exp(-t/2))\nEq(x(t), 200 - 200*exp(-t/2))\nEq(x(t), 200 - 200*exp(-t/2))\nEq(x(t), 200 - 200*exp(-t/2))\nEq(x(t), 200 - 200*exp(-t/2))\nEq(x(t), 200 - 200*exp(-t/2))\nEq(x(t), 200 - 200*exp(-t/2))\nEq(x(t), 200 - 200*exp(-t/2))\nEq(x(t), 200 - 200*exp(-t/2))\nEq(x(t), 200 - 200*exp(-t/2))\nEq(x(t), 200 - 200*exp(-t/2))\nEq(x(t), 200 - 200*exp(-t/2))\nEq(x(t), 200 - 200*exp(-t/2))\nEq(x(t), 200 - 200*exp(-t/2))\nEq(x(t), 200 - 200*exp(-t/2))\nEq(x(t), 200 - 200*exp(-t/2))\nEq(x(t), 200 - 200*exp(-t/2))\nEq(x(t), 200 - 200*exp(-t/2))\nEq(x(t), 200 - 200*exp(-t/2))\nEq(x(t), 200 - 200*exp(-t/2))\nEq(x(t), 200 - 200*exp(-t/2))\nEq(x(t), 200 - 200*exp(-t/2))\nEq(x(t), 200 - 200*exp(-t/2))\nEq(x(t), 200 - 200*exp(-t/2))\nEq(x(t), 200 - 200*exp(-t/2))\nEq(x(t), 200 - 200*exp(-t/2))\nEq(x(t), 200 - 200*exp(-t/2))\nEq(x(t), 200 - 200*exp(-t/2))\nEq(x(t), 200 - 200*exp(-t/2))\nEq(x(t), 200 - 200*exp(-t/2))\nEq(x(t), 200 - 200*exp(-t/2))\nEq(x(t), 200 - 200*exp(-t/2))\nEq(x(t), 200 - 200*exp(-t/2))\nEq(x(t), 200 - 200*exp(-t/2))\nEq(x(t), 200 - 200*exp(-t/2))\nEq(x(t), 200 - 200*exp(-t/2))\nEq(x(t), 200 - 200*exp(-t/2))\nEq(x(t), 200 - 200*exp(-t/2))\nEq(x(t), 200 - 200*exp(-t/2))\nEq(x(t), 200 - 200*exp(-t/2))\nEq(x(t), 200 - 200*exp(-t/2))\nEq(x(t), 200 - 200*exp(-t/2))\nEq(x(t), 200 - 200*exp(-t/2))\nEq(x(t), 200 - 200*exp(-t/2))\nEq(x(t), 200 - 200*exp(-t/2))\nEq(x(t), 200 - 200*exp(-t/2))\nEq(x(t), 200 - 200*exp(-t/2))\nEq(x(t), 200 - 200*exp(-t/2))\nEq(x(t), 200 - 200*exp(-t/2))\nEq(x(t), 200 - 200*exp(-t/2))\nEq(x(t), 200 - 200*exp(-t/2))\nEq(x(t), 200 - 200*exp(-t/2))\nEq(x(t), 200 - 200*exp(-t/2))\nEq(x(t), 200 - 200*exp(-t/2))\nEq(x(t), 200 - 200*exp(-t/2))\nEq(x(t), 200 - 200*exp(-t/2))\nEq(x(t), 200 - 200*exp(-t/2))\nEq(x(t), 200 - 200*exp(-t/2))\nEq(x(t), 200 - 200*exp(-t/2))\nEq(x(t), 200 - 200*exp(-t/2))\nEq(x(t), 200 - 200*exp(-t/2))\nEq(x(t), 200 - 200*exp(-t/2))\nEq(x(t), 200 - 200*exp(-t/2))\nEq(x(t), 200 - 200*exp(-t/2))\nEq(x(t), 200 - 200*exp(-t/2))\nEq(x(t), 200 - 200*exp(-t/2))\nEq(x(t), 200 - 200*exp(-t/2))\nEq(x(t), 200 - 200*exp(-t/2))\nEq(x(t), 200 - 200*exp(-t/2))\nEq(x(t), 200 - 200*exp(-t/2))\nEq(x(t), 200 - 200*exp(-t/2))\nEq(x(t), 200 - 200*exp(-t/2))\nEq(x(t), 200 - 200*exp(-t/2))\nEq(x(t), 200 - 200*exp(-t/2))\nEq(x(t), 200 - 200*exp(-t/2))\nEq(x(t), 200 - 200*exp(-t/2))\nEq(x(t), 200 - 200*exp(-t/2))\nEq(x(t), 200 - 200*exp(-t/2))\nEq(x(t), 200 - 200*exp(-t/2))\nEq(x(t), 200 - 200*exp(-t/2))\nEq(x(t), 200 - 200*exp(-t/2))\nEq(x(t), 200 - 200*exp(-t/2))\nEq(x(t), 200 - 200*exp(-t/2))\nEq(x(t), 200 - 200*exp(-t/2))\nEq(x(t), 200 - 200*exp(-t/2))\nEq(x(t), 200 - 200*exp(-t/2))\nEq(x(t), 200 - 200*exp(-t/2))\nEq(x(t), 200 - 200*exp(-t/2))\nEq(x(t), 200 - 200*exp(-t/2))\nEq(x(t), 200 - 200*exp(-t/2))\nEq(x(t), 200 - 200*exp(-t/2))\nEq(x(t), 200 - 200*exp(-t/2))\nEq(x(t), 200 - 200*exp(-t/2))\nEq(x(t), 200 - 200*exp(-t/2))\nEq(x(t), 200 - 200*exp(-t/2))\nEq(x(t), 200 - 200*exp(-t/2))\nEq(x(t), 200 - 200*exp(-t/2))\nEq(x(t), 200 - 200*exp(-t/2))\nEq(x(t), 200 - 200*exp(-t/2))\nEq(x(t), 200 - 200*exp(-t/2))\nEq(x(t), 200 - 200*exp(-t/2))\nEq(x(t), 200 - 200*exp(-t/2))\nEq(x(t), 200 - 200*exp(-t/2))\nEq(x(t), 200 - 200*exp(-t/2))\nEq(x(t), 200 - 200*exp(-t/2))\nEq(x(t), 200 - 200*exp(-t/2))\nEq(x(t), 200 - 200*exp(-t/2))\nEq(x(t), 200 - 200*exp(-t/2))\nEq(x(t), 200 - 200*exp(-t/2))\nEq(x(t), 200 - 200*exp(-t/2))\nEq(x(t), 200 - 200*exp(-t/2))\nEq(x(t), 200 - 200*exp(-t/2))\nEq(x(t), 200 - 200*exp(-t/2))\nEq(x(t), 200 - 200*exp(-t/2))\nEq(x(t), 200 - 200*exp(-t/2))\nEq(x(t), 200 - 200*exp(-t/2))\nEq(x(t), 200 - 200*exp(-t/2))\nEq(x(t), 200 - 200*exp(-t/2))\nEq(x(t), 200 - 200*exp(-t/2))\nEq(x(t), 200 - 200*exp(-t/2))\nEq(x(t), 200 - 200*exp(-t/2))\nEq(x(t), 200 - 200*exp(-t/2))\nEq(x(t), 200 - 200*exp(-t/2))\nEq(x(t), 200 - 200*exp(-t/2))\nEq(x(t), 200 - 200*exp(-t/2))\nEq(x(t), 200 - 200*exp(-t/2))\nEq(x(t), 200 - 200*exp(-t/2))\nEq(x(t), 200 - 200*exp(-t/2))\nEq(x(t), 200 - 200*exp(-t/2))\nEq(x(t), 200 - 200*exp(-t/2))\nEq(x(t), 200 - 200*exp(-t/2))\nEq(x(t), 200 - 200*exp(-t/2))\nEq(x(t), 200 - 200*exp(-t/2))\nEq(x(t), 200 - 200*exp(-t/2))\nEq(x(t), 200 - 200*exp(-t/2))\nEq(x(t), 200 - 200*exp(-t/2))\nEq(x(t), 200 - 200*exp(-t/2))\nEq(x(t), 200 - 200*exp(-t/2))\nEq(x(t), 200 - 200*exp(-t/2))\nEq(x(t), 200 - 200*exp(-t/2))\nEq(x(t), 200 - 200*exp(-t/2))\nEq(x(t), 200 - 200*exp(-t/2))\nEq(x(t), 200 - 200*exp(-t/2))\nEq(x(t), 200 - 200*exp(-t/2))\nEq(x(t), 200 - 200*exp(-t/2))\nEq(x(t), 200 - 200*exp(-t/2))\nEq(x(t), 200 - 200*exp(-t/2))\nEq(x(t), 200 - 200*exp(-t/2))\nEq(x(t), 200 - 200*exp(-t/2))\nEq(x(t), 200 - 200*exp(-t/2))\nEq(x(t), 200 - 200*exp(-t/2))\nEq(x(t), 200 - 200*exp(-t/2))\nEq(x(t), 200 - 200*exp(-t/2))\nEq(x(t), 200 - 200*exp(-t/2))\nEq(x(t), 200 - 200*exp(-t/2))\nEq(x(t), 200 - 200*exp(-t/2))\nEq(x(t), 200 - 200*exp(-t/2))\nEq(x(t), 200 - 200*exp(-t/2))\nEq(x(t), 200 - 200*exp(-t/2))\nEq(x(t), 200 - 200*exp(-t/2))\nEq(x(t), 200 - 200*exp(-t/2))\nEq(x(t), 200 - 200*exp(-t/2))\nEq(x(t), 200 - 200*exp(-t/2))\nEq(x(t), 200 - 200*exp(-t/2))\nEq(x(t), 200 - 200*exp(-t/2))\nEq(x(t), 200 - 200*exp(-t/2))\nEq(x(t), 200 - 200*exp(-t/2))\nEq(x(t), 200 - 200*exp(-t/2))\nEq(x(t), 200 - 200*exp(-t/2))\nEq(x(t), 200 - 200*exp(-t/2))\nEq(x(t), 200 - 200*exp(-t/2))\nEq(x(t), 200 - 200*exp(-t/2))\nEq(x(t), 200 - 200*exp(-t/2))\nEq(x(t), 200 - 200*exp(-t/2))\nEq(x(t), 200 - 200*exp(-t/2))\nEq(x(t), 200 - 200*exp(-t/2))\nEq(x(t), 200 - 200*exp(-t/2))\nEq(x(t), 200 - 200*exp(-t/2))\nEq(x(t), 200 - 200*exp(-t/2))\nEq(x(t), 200 - 200*exp(-t/2))\nEq(x(t), 200 - 200*exp(-t/2))\nEq(x(t), 200 - 200*exp(-t/2))\nEq(x(t), 200 - 200*exp(-t/2))\nEq(x(t), 200 - 200*exp(-t/2))\nEq(x(t), 200 - 200*exp(-t/2))\nEq(x(t), 200 - 200*exp(-t/2))\nEq(x(t), 200 - 200*exp(-t/2))\nEq(x(t), 200 - 200*exp(-t/2))\nEq(x(t), 200 - 200*exp(-t/2))\nEq(x(t), 200 - 200*exp(-t/2))\nEq(x(t), 200 - 200*exp(-t/2))\nEq(x(t), 200 - 200*exp(-t/2))\nEq(x(t), 200 - 200*exp(-t/2))\nEq(x(t), 200 - 200*exp(-t/2))\nEq(x(t), 200 - 200*exp(-t/2))\nEq(x(t), 200 - 200*exp(-t/2))\nEq(x(t), 200 - 200*exp(-t/2))\nEq(x(t), 200 - 200*exp(-t/2))\nEq(x(t), 200 - 200*exp(-t/2))\nEq(x(t), 200 - 200*exp(-t/2))\nEq(x(t), 200 - 200*exp(-t/2))\nEq(x(t), 200 - 200*exp(-t/2))\nEq(x(t), 200 - 200*exp(-t/2))\nEq(x(t), 200 - 200*exp(-t/2))\nEq(x(t), 200 - 200*exp(-t/2))\nEq(x(t), 200 - 200*exp(-t/2))\nEq(x(t), 200 - 200*exp(-t/2))\nEq(x(t), 200 - 200*exp(-t/2))\nEq(x(t), 200 - 200*exp(-t/2))\nEq(x(t), 200 - 200*exp(-t/2))\nEq(x(t), 200 - 200*exp(-t/2))\nEq(x(t), 200 - 200*exp(-t/2))\nEq(x(t), 200 - 200*exp(-t/2))\nEq(x(t), 200 - 200*exp(-t/2))\nEq(x(t), 200 - 200*exp(-t/2))\nEq(x(t), 200 - 200*exp(-t/2))\nEq(x(t), 200 - 200*exp(-t/2))\nEq(x(t), 200 - 200*exp(-t/2))\nEq(x(t), 200 - 200*exp(-t/2))\nEq(x(t), 200 - 200*exp(-t/2))\nEq(x(t), 200 - 200*exp(-t/2))\nEq(x(t), 200 - 200*exp(-t/2))\nEq(x(t), 200 - 200*exp(-t/2))\nEq(x(t), 200 - 200*exp(-t/2))\nEq(x(t), 200 - 200*exp(-t/2))\nEq(x(t), 200 - 200*exp(-t/2))\nEq(x(t), 200 - 200*exp(-t/2))\nEq(x(t), 200 - 200*exp(-t/2))\nEq(x(t), 200 - 200*exp(-t/2))\nEq(x(t), 200 - 200*exp(-t/2))\nEq(x(t), 200 - 200*exp(-t/2))\nEq(x(t), 200 - 200*exp(-t/2))\nEq(x(t), 200 - 200*exp(-t/2))\nEq(x(t), 200 - 200*exp(-t/2))\nEq(x(t), 200 - 200*exp(-t/2))\nEq(x(t), 200 - 200*exp(-t/2))\nEq(x(t), 200 - 200*exp(-t/2))\nEq(x(t), 200 - 200*exp(-t/2))\nEq(x(t), 200 - 200*exp(-t/2))\nEq(x(t), 200 - 200*exp(-t/2))\nEq(x(t), 200 - 200*exp(-t/2))\nEq(x(t), 200 - 200*exp(-t/2))\nEq(x(t), 200 - 200*exp(-t/2))\nEq(x(t), 200 - 200*exp(-t/2))\nEq(x(t), 200 - 200*exp(-t/2))\nEq(x(t), 200 - 200*exp(-t/2))\nEq(x(t), 200 - 200*exp(-t/2))\nEq(x(t), 200 - 200*exp(-t/2))\nEq(x(t), 200 - 200*exp(-t/2))\nEq(x(t), 200 - 200*exp(-t/2))\nEq(x(t), 200 - 200*exp(-t/2))\nEq(x(t), 200 - 200*exp(-t/2))\nEq(x(t), 200 - 200*exp(-t/2))\nEq(x(t), 200 - 200*exp(-t/2))\nEq(x(t), 200 - 200*exp(-t/2))\nEq(x(t), 200 - 200*exp(-t/2))\nEq(x(t), 200 - 200*exp(-t/2))\nEq(x(t), 200 - 200*exp(-t/2))\nEq(x(t), 200 - 200*exp(-t/2))\nEq(x(t), 200 - 200*exp(-t/2))\nEq(x(t), 200 - 200*exp(-t/2))\nEq(x(t), 200 - 200*exp(-t/2))\nEq(x(t), 200 - 200*exp(-t/2))\nEq(x(t), 200 - 200*exp(-t/2))\nEq(x(t), 200 - 200*exp(-t/2))\nEq(x(t), 200 - 200*exp(-t/2))\nEq(x(t), 200 - 200*exp(-t/2))\nEq(x(t), 200 - 200*exp(-t/2))\nEq(x(t), 200 - 200*exp(-t/2))\nEq(x(t), 200 - 200*exp(-t/2))\nEq(x(t), 200 - 200*exp(-t/2))\nEq(x(t), 200 - 200*exp(-t/2))\nEq(x(t), 200 - 200*exp(-t/2))\nEq(x(t), 200 - 200*exp(-t/2))\nEq(x(t), 200 - 200*exp(-t/2))\nEq(x(t), 200 - 200*exp(-t/2))\nEq(x(t), 200 - 200*exp(-t/2))\nEq(x(t), 200 - 200*exp(-t/2))\nEq(x(t), 200 - 200*exp(-t/2))\nEq(x(t), 200 - 200*exp(-t/2))\nEq(x(t), 200 - 200*exp(-t/2))\nEq(x(t), 200 - 200*exp(-t/2))\nEq(x(t), 200 - 200*exp(-t/2))\nEq(x(t), 200 - 200*exp(-t/2))\nEq(x(t), 200 - 200*exp(-t/2))\nEq(x(t), 200 - 200*exp(-t/2))\nEq(x(t), 200 - 200*exp(-t/2))\nEq(x(t), 200 - 200*exp(-t/2))\nEq(x(t), 200 - 200*exp(-t/2))\nEq(x(t), 200 - 200*exp(-t/2))\nEq(x(t), 200 - 200*exp(-t/2))\nEq(x(t), 200 - 200*exp(-t/2))\nEq(x(t), 200 - 200*exp(-t/2))\nEq(x(t), 200 - 200*exp(-t/2))\nEq(x(t), 200 - 200*exp(-t/2))\nEq(x(t), 200 - 200*exp(-t/2))\nEq(x(t), 200 - 200*exp(-t/2))\nEq(x(t), 200 - 200*exp(-t/2))\nEq(x(t), 200 - 200*exp(-t/2))\nEq(x(t), 200 - 200*exp(-t/2))\nEq(x(t), 200 - 200*exp(-t/2))\nEq(x(t), 200 - 200*exp(-t/2))\nEq(x(t), 200 - 200*exp(-t/2))\nEq(x(t), 200 - 200*exp(-t/2))\nEq(x(t), 200 - 200*exp(-t/2))\nEq(x(t), 200 - 200*exp(-t/2))\nEq(x(t), 200 - 200*exp(-t/2))\nEq(x(t), 200 - 200*exp(-t/2))\nEq(x(t), 200 - 200*exp(-t/2))\nEq(x(t), 200 - 200*exp(-t/2))\nEq(x(t), 200 - 200*exp(-t/2))\nEq(x(t), 200 - 200*exp(-t/2))\nEq(x(t), 200 - 200*exp(-t/2))\nEq(x(t), 200 - 200*exp(-t/2))\nEq(x(t), 200 - 200*exp(-t/2))\nEq(x(t), 200 - 200*exp(-t/2))\nEq(x(t), 200 - 200*exp(-t/2))\nEq(x(t), 200 - 200*exp(-t/2))\nEq(x(t), 200 - 200*exp(-t/2))\nEq(x(t), 200 - 200*exp(-t/2))\nEq(x(t), 200 - 200*exp(-t/2))\nEq(x(t), 200 - 200*exp(-t/2))\nEq(x(t), 200 - 200*exp(-t/2))\nEq(x(t), 200 - 200*exp(-t/2))\nEq(x(t), 200 - 200*exp(-t/2))\nEq(x(t), 200 - 200*exp(-t/2))\nEq(x(t), 200 - 200*exp(-t/2))\nEq(x(t), 200 - 200*exp(-t/2))\nEq(x(t), 200 - 200*exp(-t/2))\nEq(x(t), 200 - 200*exp(-t/2))\nEq(x(t), 200 - 200*exp(-t/2))\nEq(x(t), 200 - 200*exp(-t/2))\nEq(x(t), 200 - 200*exp(-t/2))\nEq(x(t), 200 - 200*exp(-t/2))\nEq(x(t), 200 - 200*exp(-t/2))\nEq(x(t), 200 - 200*exp(-t/2))\nEq(x(t), 200 - 200*exp(-t/2))\nEq(x(t), 200 - 200*exp(-t/2))\nEq(x(t), 200 - 200*exp(-t/2))\nEq(x(t), 200 - 200*exp(-t/2))\nEq(x(t), 200 - 200*exp(-t/2))\nEq(x(t), 200 - 200*exp(-t/2))\nEq(x(t), 200 - 200*exp(-t/2))\nEq(x(t), 200 - 200*exp(-t/2))\nEq(x(t), 200 - 200*exp(-t/2))\nEq(x(t), 200 - 200*exp(-t/2))\nEq(x(t), 200 - 200*exp(-t/2))\nEq(x(t), 200 - 200*exp(-t/2))\nEq(x(t), 200 - 200*exp(-t/2))\nEq(x(t), 200 - 200*exp(-t/2))\nEq(x(t), 200 - 200*exp(-t/2))\nEq(x(t), 200 - 200*exp(-t/2))\nEq(x(t), 200 - 200*exp(-t/2))\nEq(x(t), 200 - 200*exp(-t/2))\nEq(x(t), 200 - 200*exp(-t/2))\nEq(x(t), 200 - 200*exp(-t/2))\nEq(x(t), 200 - 200*exp(-t/2))\nEq(x(t), 200 - 200*exp(-t/2))\nEq(x(t), 200 - 200*exp(-t/2))\nEq(x(t), 200 - 200*exp(-t/2))\nEq(x(t), 200 - 200*exp(-t/2))\nEq(x(t), 200 - 200*exp(-t/2))\nEq(x(t), 200 - 200*exp(-t/2))\nEq(x(t), 200 - 200*exp(-t/2))\nEq(x(t), 200 - 200*exp(-t/2))\nEq(x(t), 200 - 200*exp(-t/2))\nEq(x(t), 200 - 200*exp(-t/2))\nEq(x(t), 200 - 200*exp(-t/2))\nEq(x(t), 200 - 200*exp(-t/2))\nEq(x(t), 200 - 200*exp(-t/2))\nEq(x(t), 200 - 200*exp(-t/2))\nEq(x(t), 200 - 200*exp(-t/2))\nEq(x(t), 200 - 200*exp(-t/2))\nEq(x(t), 200 - 200*exp(-t/2))\nEq(x(t), 200 - 200*exp(-t/2))\nEq(x(t), 200 - 200*exp(-t/2))\nEq(x(t), 200 - 200*exp(-t/2))\nEq(x(t), 200 - 200*exp(-t/2))\nEq(x(t), 200 - 200*exp(-t/2))\nEq(x(t), 200 - 200*exp(-t/2))\nEq(x(t), 200 - 200*exp(-t/2))\nEq(x(t), 200 - 200*exp(-t/2))\nEq(x(t), 200 - 200*exp(-t/2))\nEq(x(t), 200 - 200*exp(-t/2))\nEq(x(t), 200 - 200*exp(-t/2))\nEq(x(t), 200 - 200*exp(-t/2))\nEq(x(t), 200 - 200*exp(-t/2))\nEq(x(t), 200 - 200*exp(-t/2))\nEq(x(t), 200 - 200*exp(-t/2))\nEq(x(t), 200 - 200*exp(-t/2))\nEq(x(t), 200 - 200*exp(-t/2))\nEq(x(t), 200 - 200*exp(-t/2))\nEq(x(t), 200 - 200*exp(-t/2))\nEq(x(t), 200 - 200*exp(-t/2))\nEq(x(t), 200 - 200*exp(-t/2))\nEq(x(t), 200 - 200*exp(-t/2))\nEq(x(t), 200 - 200*exp(-t/2))\nEq(x(t), 200 - 200*exp(-t/2))\nEq(x(t), 200 - 200*exp(-t/2))\nEq(x(t), 200 - 200*exp(-t/2))\nEq(x(t), 200 - 200*exp(-t/2))\nEq(x(t), 200 - 200*exp(-t/2))\nEq(x(t), 200 - 200*exp(-t/2))\nEq(x(t), 200 - 200*exp(-t/2))\nEq(x(t), 200 - 200*exp(-t/2))\nEq(x(t), 200 - 200*exp(-t/2))\nEq(x(t), 200 - 200*exp(-t/2))\nEq(x(t), 200 - 200*exp(-t/2))\nEq(x(t), 200 - 200*exp(-t/2))\nEq(x(t), 200 - 200*exp(-t/2))\nEq(x(t), 200 - 200*exp(-t/2))\nEq(x(t), 200 - 200*exp(-t/2))\nEq(x(t), 200 - 200*exp(-t/2))\nEq(x(t), 200 - 200*exp(-t/2))\nEq(x(t), 200 - 200*exp(-t/2))\nEq(x(t), 200 - 200*exp(-t/2))\nEq(x(t), 200 - 200*exp(-t/2))\nEq(x(t), 200 - 200*exp(-t/2))\nEq(x(t), 200 - 200*exp(-t/2))\nEq(x(t), 200 - 200*exp(-t/2))\nEq(x(t), 200 - 200*exp(-t/2))\nEq(x(t), 200 - 200*exp(-t/2))\nEq(x(t), 200 - 200*exp(-t/2))\nEq(x(t), 200 - 200*exp(-t/2))\nEq(x(t), 200 - 200*exp(-t/2))\nEq(x(t), 200 - 200*exp(-t/2))\nEq(x(t), 200 - 200*exp(-t/2))\nEq(x(t), 200 - 200*exp(-t/2))\nEq(x(t), 200 - 200*exp(-t/2))\nEq(x(t), 200 - 200*exp(-t/2))\nEq(x(t), 200 - 200*exp(-t/2))\nEq(x(t), 200 - 200*exp(-t/2))\nEq(x(t), 200 - 200*exp(-t/2))\nEq(x(t), 200 - 200*exp(-t/2))\nEq(x(t), 200 - 200*exp(-t/2))\nEq(x(t), 200 - 200*exp(-t/2))\nEq(x(t), 200 - 200*exp(-t/2))\nEq(x(t), 200 - 200*exp(-t/2))\nEq(x(t), 200 - 200*exp(-t/2))\nEq(x(t), 200 - 200*exp(-t/2))\nEq(x(t), 200 - 200*exp(-t/2))\nEq(x(t), 200 - 200*exp(-t/2))\nEq(x(t), 200 - 200*exp(-t/2))\nEq(x(t), 200 - 200*exp(-t/2))\nEq(x(t), 200 - 200*exp(-t/2))\nEq(x(t), 200 - 200*exp(-t/2))\nEq(x(t), 200 - 200*exp(-t/2))\nEq(x(t), 200 - 200*exp(-t/2))\nEq(x(t), 200 - 200*exp(-t/2))\nEq(x(t), 200 - 200*exp(-t/2))\nEq(x(t), 200 - 200*exp(-t/2))\nEq(x(t), 200 - 200*exp(-t/2))\nEq(x(t), 200 - 200*exp(-t/2))\nEq(x(t), 200 - 200*exp(-t/2))\nEq(x(t), 200 - 200*exp(-t/2))\nEq(x(t), 200 - 200*exp(-t/2))\nEq(x(t), 200 - 200*exp(-t/2))\nEq(x(t), 200 - 200*exp(-t/2))\nEq(x(t), 200 - 200*exp(-t/2))\nEq(x(t), 200 - 200*exp(-t/2))\nEq(x(t), 200 - 200*exp(-t/2))\nEq(x(t), 200 - 200*exp(-t/2))\nEq(x(t), 200 - 200*exp(-t/2))\nEq(x(t), 200 - 200*exp(-t/2))\nEq(x(t), 200 - 200*exp(-t/2))\nEq(x(t), 200 - 200*exp(-t/2))\nEq(x(t), 200 - 200*exp(-t/2))\nEq(x(t), 200 - 200*exp(-t/2))\nEq(x(t), 200 - 200*exp(-t/2))\nEq(x(t), 200 - 200*exp(-t/2))\nEq(x(t), 200 - 200*exp(-t/2))\nEq(x(t), 200 - 200*exp(-t/2))\nEq(x(t), 200 - 200*exp(-t/2))\nEq(x(t), 200 - 200*exp(-t/2))\nEq(x(t), 200 - 200*exp(-t/2))\nEq(x(t), 200 - 200*exp(-t/2))\nEq(x(t), 200 - 200*exp(-t/2))\nEq(x(t), 200 - 200*exp(-t/2))\nEq(x(t), 200 - 200*exp(-t/2))\nEq(x(t), 200 - 200*exp(-t/2))\nEq(x(t), 200 - 200*exp(-t/2))\nEq(x(t), 200 - 200*exp(-t/2))\nEq(x(t), 200 - 200*exp(-t/2))\nEq(x(t), 200 - 200*exp(-t/2))\nEq(x(t), 200 - 200*exp(-t/2))\nEq(x(t), 200 - 200*exp(-t/2))\nEq(x(t), 200 - 200*exp(-t/2))\nEq(x(t), 200 - 200*exp(-t/2))\nEq(x(t), 200 - 200*exp(-t/2))\nEq(x(t), 200 - 200*exp(-t/2))\nEq(x(t), 200 - 200*exp(-t/2))\nEq(x(t), 200 - 200*exp(-t/2))\nEq(x(t), 200 - 200*exp(-t/2))\nEq(x(t), 200 - 200*exp(-t/2))\nEq(x(t), 200 - 200*exp(-t/2))\nEq(x(t), 200 - 200*exp(-t/2))\nEq(x(t), 200 - 200*exp(-t/2))\nEq(x(t), 200 - 200*exp(-t/2))\nEq(x(t), 200 - 200*exp(-t/2))\nEq(x(t), 200 - 200*exp(-t/2))\nEq(x(t), 200 - 200*exp(-t/2))\nEq(x(t), 200 - 200*exp(-t/2))\nEq(x(t), 200 - 200*exp(-t/2))\nEq(x(t), 200 - 200*exp(-t/2))\nEq(x(t), 200 - 200*exp(-t/2))\nEq(x(t), 200 - 200*exp(-t/2))\nEq(x(t), 200 - 200*exp(-t/2))\nEq(x(t), 200 - 200*exp(-t/2))\nEq(x(t), 200 - 200*exp(-t/2))\nEq(x(t), 200 - 200*exp(-t/2))\nEq(x(t), 200 - 200*exp(-t/2))\nEq(x(t), 200 - 200*exp(-t/2))\nEq(x(t), 200 - 200*exp(-t/2))\nEq(x(t), 200 - 200*exp(-t/2))\nEq(x(t), 200 - 200*exp(-t/2))\nEq(x(t), 200 - 200*exp(-t/2))\nEq(x(t), 200 - 200*exp(-t/2))\nEq(x(t), 200 - 200*exp(-t/2))\nEq(x(t), 200 - 200*exp(-t/2))\nEq(x(t), 200 - 200*exp(-t/2))\nEq(x(t), 200 - 200*exp(-t/2))\nEq(x(t), 200 - 200*exp(-t/2))\nEq(x(t), 200 - 200*exp(-t/2))\nEq(x(t), 200 - 200*exp(-t/2))\nEq(x(t), 200 - 200*exp(-t/2))\nEq(x(t), 200 - 200*exp(-t/2))\nEq(x(t), 200 - 200*exp(-t/2))\nEq(x(t), 200 - 200*exp(-t/2))\nEq(x(t), 200 - 200*exp(-t/2))\nEq(x(t), 200 - 200*exp(-t/2))\nEq(x(t), 200 - 200*exp(-t/2))\nEq(x(t), 200 - 200*exp(-t/2))\nEq(x(t), 200 - 200*exp(-t/2))\nEq(x(t), 200 - 200*exp(-t/2))\nEq(x(t), 200 - 200*exp(-t/2))\nEq(x(t), 200 - 200*exp(-t/2))\nEq(x(t), 200 - 200*exp(-t/2))\nEq(x(t), 200 - 200*exp(-t/2))\nEq(x(t), 200 - 200*exp(-t/2))\nEq(x(t), 200 - 200*exp(-t/2))\nEq(x(t), 200 - 200*exp(-t/2))\nEq(x(t), 200 - 200*exp(-t/2))\nEq(x(t), 200 - 200*exp(-t/2))\nEq(x(t), 200 - 200*exp(-t/2))\nEq(x(t), 200 - 200*exp(-t/2))\nEq(x(t), 200 - 200*exp(-t/2))\nEq(x(t), 200 - 200*exp(-t/2))\nEq(x(t), 200 - 200*exp(-t/2))\nEq(x(t), 200 - 200*exp(-t/2))\nEq(x(t), 200 - 200*exp(-t/2))\nEq(x(t), 200 - 200*exp(-t/2))\nEq(x(t), 200 - 200*exp(-t/2))\nEq(x(t), 200 - 200*exp(-t/2))\nEq(x(t), 200 - 200*exp(-t/2))\nEq(x(t), 200 - 200*exp(-t/2))\nEq(x(t), 200 - 200*exp(-t/2))\nEq(x(t), 200 - 200*exp(-t/2))\nEq(x(t), 200 - 200*exp(-t/2))\nEq(x(t), 200 - 200*exp(-t/2))\nEq(x(t), 200 - 200*exp(-t/2))\nEq(x(t), 200 - 200*exp(-t/2))\nEq(x(t), 200 - 200*exp(-t/2))\nEq(x(t), 200 - 200*exp(-t/2))\nEq(x(t), 200 - 200*exp(-t/2))\nEq(x(t), 200 - 200*exp(-t/2))\nEq(x(t), 200 - 200*exp(-t/2))\nEq(x(t), 200 - 200*exp(-t/2))\nEq(x(t), 200 - 200*exp(-t/2))\nEq(x(t), 200 - 200*exp(-t/2))\nEq(x(t), 200 - 200*exp(-t/2))\nEq(x(t), 200 - 200*exp(-t/2))\nEq(x(t), 200 - 200*exp(-t/2))\nEq(x(t), 200 - 200*exp(-t/2))\nEq(x(t), 200 - 200*exp(-t/2))\nEq(x(t), 200 - 200*exp(-t/2))\nEq(x(t), 200 - 200*exp(-t/2))\nEq(x(t), 200 - 200*exp(-t/2))\nEq(x(t), 200 - 200*exp(-t/2))\nEq(x(t), 200 - 200*exp(-t/2))\nEq(x(t), 200 - 200*exp(-t/2))\nEq(x(t), 200 - 200*exp(-t/2))\nEq(x(t), 200 - 200*exp(-t/2))\nEq(x(t), 200 - 200*exp(-t/2))\nEq(x(t), 200 - 200*exp(-t/2))\nEq(x(t), 200 - 200*exp(-t/2))\nEq(x(t), 200 - 200*exp(-t/2))\nEq(x(t), 200 - 200*exp(-t/2))\nEq(x(t), 200 - 200*exp(-t/2))\nEq(x(t), 200 - 200*exp(-t/2))\nEq(x(t), 200 - 200*exp(-t/2))\nEq(x(t), 200 - 200*exp(-t/2))\nEq(x(t), 200 - 200*exp(-t/2))\nEq(x(t), 200 - 200*exp(-t/2))\nEq(x(t), 200 - 200*exp(-t/2))\nEq(x(t), 200 - 200*exp(-t/2))\nEq(x(t), 200 - 200*exp(-t/2))\nEq(x(t), 200 - 200*exp(-t/2))\nEq(x(t), 200 - 200*exp(-t/2))\nEq(x(t), 200 - 200*exp(-t/2))\nEq(x(t), 200 - 200*exp(-t/2))\nEq(x(t), 200 - 200*exp(-t/2))\nEq(x(t), 200 - 200*exp(-t/2))\nEq(x(t), 200 - 200*exp(-t/2))\nEq(x(t), 200 - 200*exp(-t/2))\nEq(x(t), 200 - 200*exp(-t/2))\nEq(x(t), 200 - 200*exp(-t/2))\nEq(x(t), 200 - 200*exp(-t/2))\nEq(x(t), 200 - 200*exp(-t/2))\nEq(x(t), 200 - 200*exp(-t/2))\nEq(x(t), 200 - 200*exp(-t/2))\nEq(x(t), 200 - 200*exp(-t/2))\nEq(x(t), 200 - 200*exp(-t/2))\nEq(x(t), 200 - 200*exp(-t/2))\nEq(x(t), 200 - 200*exp(-t/2))\nEq(x(t), 200 - 200*exp(-t/2))\nEq(x(t), 200 - 200*exp(-t/2))\nEq(x(t), 200 - 200*exp(-t/2))\nEq(x(t), 200 - 200*exp(-t/2))\nEq(x(t), 200 - 200*exp(-t/2))\nEq(x(t), 200 - 200*exp(-t/2))\nEq(x(t), 200 - 200*exp(-t/2))\nEq(x(t), 200 - 200*exp(-t/2))\nEq(x(t), 200 - 200*exp(-t/2))\nEq(x(t), 200 - 200*exp(-t/2))\nEq(x(t), 200 - 200*exp(-t/2))\nEq(x(t), 200 - 200*exp(-t/2))\nEq(x(t), 200 - 200*exp(-t/2))\nEq(x(t), 200 - 200*exp(-t/2))\nEq(x(t), 200 - 200*exp(-t/2))\nEq(x(t), 200 - 200*exp(-t/2))\nEq(x(t), 200 - 200*exp(-t/2))\nEq(x(t), 200 - 200*exp(-t/2))\nEq(x(t), 200 - 200*exp(-t/2))\nEq(x(t), 200 - 200*exp(-t/2))\nEq(x(t), 200 - 200*exp(-t/2))\nEq(x(t), 200 - 200*exp(-t/2))\nEq(x(t), 200 - 200*exp(-t/2))\nEq(x(t), 200 - 200*exp(-t/2))\nEq(x(t), 200 - 200*exp(-t/2))\nEq(x(t), 200 - 200*exp(-t/2))\nEq(x(t), 200 - 200*exp(-t/2))\nEq(x(t), 200 - 200*exp(-t/2))\nEq(x(t), 200 - 200*exp(-t/2))\nEq(x(t), 200 - 200*exp(-t/2))\nEq(x(t), 200 - 200*exp(-t/2))\nEq(x(t), 200 - 200*exp(-t/2))\nEq(x(t), 200 - 200*exp(-t/2))\nEq(x(t), 200 - 200*exp(-t/2))\nEq(x(t), 200 - 200*exp(-t/2))\nEq(x(t), 200 - 200*exp(-t/2))\nEq(x(t), 200 - 200*exp(-t/2))\nEq(x(t), 200 - 200*exp(-t/2))\nEq(x(t), 200 - 200*exp(-t/2))\nEq(x(t), 200 - 200*exp(-t/2))\nEq(x(t), 200 - 200*exp(-t/2))\nEq(x(t), 200 - 200*exp(-t/2))\nEq(x(t), 200 - 200*exp(-t/2))\nEq(x(t), 200 - 200*exp(-t/2))\nEq(x(t), 200 - 200*exp(-t/2))\nEq(x(t), 200 - 200*exp(-t/2))\nEq(x(t), 200 - 200*exp(-t/2))\nEq(x(t), 200 - 200*exp(-t/2))\nEq(x(t), 200 - 200*exp(-t/2))\nEq(x(t), 200 - 200*exp(-t/2))\nEq(x(t), 200 - 200*exp(-t/2))\nEq(x(t), 200 - 200*exp(-t/2))\nEq(x(t), 200 - 200*exp(-t/2))\nEq(x(t), 200 - 200*exp(-t/2))\nEq(x(t), 200 - 200*exp(-t/2))\nEq(x(t), 200 - 200*exp(-t/2))\nEq(x(t), 200 - 200*exp(-t/2))\nEq(x(t), 200 - 200*exp(-t/2))\nEq(x(t), 200 - 200*exp(-t/2))\nEq(x(t), 200 - 200*exp(-t/2))\nEq(x(t), 200 - 200*exp(-t/2))\nEq(x(t), 200 - 200*exp(-t/2))\nEq(x(t), 200 - 200*exp(-t/2))\nEq(x(t), 200 - 200*exp(-t/2))\nEq(x(t), 200 - 200*exp(-t/2))\nEq(x(t), 200 - 200*exp(-t/2))\nEq(x(t), 200 - 200*exp(-t/2))\nEq(x(t), 200 - 200*exp(-t/2))\nEq(x(t), 200 - 200*exp(-t/2))\nEq(x(t), 200 - 200*exp(-t/2))\nEq(x(t), 200 - 200*exp(-t/2))\nEq(x(t), 200 - 200*exp(-t/2))\nEq(x(t), 200 - 200*exp(-t/2))\nEq(x(t), 200 - 200*exp(-t/2))\nEq(x(t), 200 - 200*exp(-t/2))\nEq(x(t), 200 - 200*exp(-t/2))\nEq(x(t), 200 - 200*exp(-t/2))\nEq(x(t), 200 - 200*exp(-t/2))\nEq(x(t), 200 - 200*exp(-t/2))\nEq(x(t), 200 - 200*exp(-t/2))\nEq(x(t), 200 - 200*exp(-t/2))\nEq(x(t), 200 - 200*exp(-t/2))\nEq(x(t), 200 - 200*exp(-t/2))\nEq(x(t), 200 - 200*exp(-t/2))\nEq(x(t), 200 - 200*exp(-t/2))\nEq(x(t), 200 - 200*exp(-t/2))\nEq(x(t), 200 - 200*exp(-t/2))\nEq(x(t), 200 - 200*exp(-t/2))\nEq(x(t), 200 - 200*exp(-t/2))\nEq(x(t), 200 - 200*exp(-t/2))\nEq(x(t), 200 - 200*exp(-t/2))\nEq(x(t), 200 - 200*exp(-t/2))\nEq(x(t), 200 - 200*exp(-t/2))\nEq(x(t), 200 - 200*exp(-t/2))\nEq(x(t), 200 - 200*exp(-t/2))\nEq(x(t), 200 - 200*exp(-t/2))\nEq(x(t), 200 - 200*exp(-t/2))\nEq(x(t), 200 - 200*exp(-t/2))\nEq(x(t), 200 - 200*exp(-t/2))\nEq(x(t), 200 - 200*exp(-t/2))\nEq(x(t), 200 - 200*exp(-t/2))\nEq(x(t), 200 - 200*exp(-t/2))\nEq(x(t), 200 - 200*exp(-t/2))\nEq(x(t), 200 - 200*exp(-t/2))\nEq(x(t), 200 - 200*exp(-t/2))\nEq(x(t), 200 - 200*exp(-t/2))\nEq(x(t), 200 - 200*exp(-t/2))\nEq(x(t), 200 - 200*exp(-t/2))\nEq(x(t), 200 - 200*exp(-t/2))\nEq(x(t), 200 - 200*exp(-t/2))\nEq(x(t), 200 - 200*exp(-t/2))\nEq(x(t), 200 - 200*exp(-t/2))\nEq(x(t), 200 - 200*exp(-t/2))\nEq(x(t), 200 - 200*exp(-t/2))\nEq(x(t), 200 - 200*exp(-t/2))\nEq(x(t), 200 - 200*exp(-t/2))\nEq(x(t), 200 - 200*exp(-t/2))\nEq(x(t), 200 - 200*exp(-t/2))\nEq(x(t), 200 - 200*exp(-t/2))\nEq(x(t), 200 - 200*exp(-t/2))\nEq(x(t), 200 - 200*exp(-t/2))\nEq(x(t), 200 - 200*exp(-t/2))\nEq(x(t), 200 - 200*exp(-t/2))\nEq(x(t), 200 - 200*exp(-t/2))\nEq(x(t), 200 - 200*exp(-t/2))\nEq(x(t), 200 - 200*exp(-t/2))\nEq(x(t), 200 - 200*exp(-t/2))\nEq(x(t), 200 - 200*exp(-t/2))\nEq(x(t), 200 - 200*exp(-t/2))\nEq(x(t), 200 - 200*exp(-t/2))\nEq(x(t), 200 - 200*exp(-t/2))\nEq(x(t), 200 - 200*exp(-t/2))\nEq(x(t), 200 - 200*exp(-t/2))\nEq(x(t), 200 - 200*exp(-t/2))\nEq(x(t), 200 - 200*exp(-t/2))\nEq(x(t), 200 - 200*exp(-t/2))\nEq(x(t), 200 - 200*exp(-t/2))\nEq(x(t), 200 - 200*exp(-t/2))\nEq(x(t), 200 - 200*exp(-t/2))\nEq(x(t), 200 - 200*exp(-t/2))\nEq(x(t), 200 - 200*exp(-t/2))\nEq(x(t), 200 - 200*exp(-t/2))\nEq(x(t), 200 - 200*exp(-t/2))\nEq(x(t), 200 - 200*exp(-t/2))\nEq(x(t), 200 - 200*exp(-t/2))\nEq(x(t), 200 - 200*exp(-t/2))\nEq(x(t), 200 - 200*exp(-t/2))\nEq(x(t), 200 - 200*exp(-t/2))\nEq(x(t), 200 - 200*exp(-t/2))\nEq(x(t), 200 - 200*exp(-t/2))\nEq(x(t), 200 - 200*exp(-t/2))\nEq(x(t), 200 - 200*exp(-t/2))\nEq(x(t), 200 - 200*exp(-t/2))\nEq(x(t), 200 - 200*exp(-t/2))\nEq(x(t), 200 - 200*exp(-t/2))\nEq(x(t), 200 - 200*exp(-t/2))\nEq(x(t), 200 - 200*exp(-t/2))\nEq(x(t), 200 - 200*exp(-t/2))\nEq(x(t), 200 - 200*exp(-t/2))\nEq(x(t), 200 - 200*exp(-t/2))\nEq(x(t), 200 - 200*exp(-t/2))\nEq(x(t), 200 - 200*exp(-t/2))\nEq(x(t), 200 - 200*exp(-t/2))\nEq(x(t), 200 - 200*exp(-t/2))\nEq(x(t), 200 - 200*exp(-t/2))\nEq(x(t), 200 - 200*exp(-t/2))\nEq(x(t), 200 - 200*exp(-t/2))\nEq(x(t), 200 - 200*exp(-t/2))\nEq(x(t), 200 - 200*exp(-t/2))\nEq(x(t), 200 - 200*exp(-t/2))\nEq(x(t), 200 - 200*exp(-t/2))\nEq(x(t), 200 - 200*exp(-t/2))\nEq(x(t), 200 - 200*exp(-t/2))\nEq(x(t), 200 - 200*exp(-t/2))\nEq(x(t), 200 - 200*exp(-t/2))\nEq(x(t), 200 - 200*exp(-t/2))\nEq(x(t), 200 - 200*exp(-t/2))\nEq(x(t), 200 - 200*exp(-t/2))\nEq(x(t), 200 - 200*exp(-t/2))\nEq(x(t), 200 - 200*exp(-t/2))\nEq(x(t), 200 - 200*exp(-t/2))\nEq(x(t), 200 - 200*exp(-t/2))\nEq(x(t), 200 - 200*exp(-t/2))\nEq(x(t), 200 - 200*exp(-t/2))\nEq(x(t), 200 - 200*exp(-t/2))\nEq(x(t), 200 - 200*exp(-t/2))\nEq(x(t), 200 - 200*exp(-t/2))\nEq(x(t), 200 - 200*exp(-t/2))\nEq(x(t), 200 - 200*exp(-t/2))\nEq(x(t), 200 - 200*exp(-t/2))\nEq(x(t), 200 - 200*exp(-t/2))\nEq(x(t), 200 - 200*exp(-t/2))\nEq(x(t), 200 - 200*exp(-t/2))\nEq(x(t), 200 - 200*exp(-t/2))\nEq(x(t), 200 - 200*exp(-t/2))\nEq(x(t), 200 - 200*exp(-t/2))\nEq(x(t), 200 - 200*exp(-t/2))\nEq(x(t), 200 - 200*exp(-t/2))\nEq(x(t), 200 - 200*exp(-t/2))\nEq(x(t), 200 - 200*exp(-t/2))\nEq(x(t), 200 - 200*exp(-t/2))\nEq(x(t), 200 - 200*exp(-t/2))\nEq(x(t), 200 - 200*exp(-t/2))\nEq(x(t), 200 - 200*exp(-t/2))\nEq(x(t), 200 - 200*exp(-t/2))\nEq(x(t), 200 - 200*exp(-t/2))\nEq(x(t), 200 - 200*exp(-t/2))\nEq(x(t), 200 - 200*exp(-t/2))\nEq(x(t), 200 - 200*exp(-t/2))\nEq(x(t), 200 - 200*exp(-t/2))\nEq(x(t), 200 - 200*exp(-t/2))\nEq(x(t), 200 - 200*exp(-t/2))\nEq(x(t), 200 - 200*exp(-t/2))\nEq(x(t), 200 - 200*exp(-t/2))\nEq(x(t), 200 - 200*exp(-t/2))\nEq(x(t), 200 - 200*exp(-t/2))\nEq(x(t), 200 - 200*exp(-t/2))\nEq(x(t), 200 - 200*exp(-t/2))\nEq(x(t), 200 - 200*exp(-t/2))\nEq(x(t), 200 - 200*exp(-t/2))\nEq(x(t), 200 - 200*exp(-t/2))\nEq(x(t), 200 - 200*exp(-t/2))\nEq(x(t), 200 - 200*exp(-t/2))\nEq(x(t), 200 - 200*exp(-t/2))\nEq(x(t), 200 - 200*exp(-t/2))\nEq(x(t), 200 - 200*exp(-t/2))\nEq(x(t), 200 - 200*exp(-t/2))\nEq(x(t), 200 - 200*exp(-t/2))\nEq(x(t), 200 - 200*exp(-t/2))\nEq(x(t), 200 - 200*exp(-t/2))\nEq(x(t), 200 - 200*exp(-t/2))\nEq(x(t), 200 - 200*exp(-t/2))\nEq(x(t), 200 - 200*exp(-t/2))\nEq(x(t), 200 - 200*exp(-t/2))\nEq(x(t), 200 - 200*exp(-t/2))\nEq(x(t), 200 - 200*exp(-t/2))\nEq(x(t), 200 - 200*exp(-t/2))\nEq(x(t), 200 - 200*exp(-t/2))\nEq(x(t), 200 - 200*exp(-t/2))\nEq(x(t), 200 - 200*exp(-t/2))\nEq(x(t), 200 - 200*exp(-t/2))\nEq(x(t), 200 - 200*exp(-t/2))\nEq(x(t), 200 - 200*exp(-t/2))\nEq(x(t), 200 - 200*exp(-t/2))\nEq(x(t), 200 - 200*exp(-t/2))\nEq(x(t), 200 - 200*exp(-t/2))\nEq(x(t), 200 - 200*exp(-t/2))\nEq(x(t), 200 - 200*exp(-t/2))\nEq(x(t), 200 - 200*exp(-t/2))\nEq(x(t), 200 - 200*exp(-t/2))\nEq(x(t), 200 - 200*exp(-t/2))\nEq(x(t), 200 - 200*exp(-t/2))\n"
        },
        {
         "ename": "RecursionError",
         "evalue": "maximum recursion depth exceeded while calling a Python object",
         "output_type": "error",
         "traceback": [
          "\u001b[0;31m---------------------------------------------------------------------------\u001b[0m",
          "\u001b[0;31mRecursionError\u001b[0m                            Traceback (most recent call last)",
          "\u001b[0;32m~/.local/lib/python3.6/site-packages/ipywidgets/widgets/interaction.py\u001b[0m in \u001b[0;36mupdate\u001b[0;34m(self, *args)\u001b[0m\n\u001b[1;32m    248\u001b[0m                     \u001b[0mvalue\u001b[0m \u001b[0;34m=\u001b[0m \u001b[0mwidget\u001b[0m\u001b[0;34m.\u001b[0m\u001b[0mget_interact_value\u001b[0m\u001b[0;34m(\u001b[0m\u001b[0;34m)\u001b[0m\u001b[0;34m\u001b[0m\u001b[0m\n\u001b[1;32m    249\u001b[0m                     \u001b[0mself\u001b[0m\u001b[0;34m.\u001b[0m\u001b[0mkwargs\u001b[0m\u001b[0;34m[\u001b[0m\u001b[0mwidget\u001b[0m\u001b[0;34m.\u001b[0m\u001b[0m_kwarg\u001b[0m\u001b[0;34m]\u001b[0m \u001b[0;34m=\u001b[0m \u001b[0mvalue\u001b[0m\u001b[0;34m\u001b[0m\u001b[0m\n\u001b[0;32m--> 250\u001b[0;31m                 \u001b[0mself\u001b[0m\u001b[0;34m.\u001b[0m\u001b[0mresult\u001b[0m \u001b[0;34m=\u001b[0m \u001b[0mself\u001b[0m\u001b[0;34m.\u001b[0m\u001b[0mf\u001b[0m\u001b[0;34m(\u001b[0m\u001b[0;34m**\u001b[0m\u001b[0mself\u001b[0m\u001b[0;34m.\u001b[0m\u001b[0mkwargs\u001b[0m\u001b[0;34m)\u001b[0m\u001b[0;34m\u001b[0m\u001b[0m\n\u001b[0m\u001b[1;32m    251\u001b[0m                 \u001b[0mshow_inline_matplotlib_plots\u001b[0m\u001b[0;34m(\u001b[0m\u001b[0;34m)\u001b[0m\u001b[0;34m\u001b[0m\u001b[0m\n\u001b[1;32m    252\u001b[0m                 \u001b[0;32mif\u001b[0m \u001b[0mself\u001b[0m\u001b[0;34m.\u001b[0m\u001b[0mauto_display\u001b[0m \u001b[0;32mand\u001b[0m \u001b[0mself\u001b[0m\u001b[0;34m.\u001b[0m\u001b[0mresult\u001b[0m \u001b[0;32mis\u001b[0m \u001b[0;32mnot\u001b[0m \u001b[0;32mNone\u001b[0m\u001b[0;34m:\u001b[0m\u001b[0;34m\u001b[0m\u001b[0m\n",
          "\u001b[0;32m<ipython-input-16-c9e266be32ab>\u001b[0m in \u001b[0;36mplot_f\u001b[0;34m(ω, α)\u001b[0m\n\u001b[1;32m     15\u001b[0m \u001b[0;34m\u001b[0m\u001b[0m\n\u001b[1;32m     16\u001b[0m     \u001b[0;31m# Plot position vs time\u001b[0m\u001b[0;34m\u001b[0m\u001b[0;34m\u001b[0m\u001b[0m\n\u001b[0;32m---> 17\u001b[0;31m     \u001b[0mplot\u001b[0m\u001b[0;34m(\u001b[0m\u001b[0mx1\u001b[0m\u001b[0;34m.\u001b[0m\u001b[0margs\u001b[0m\u001b[0;34m[\u001b[0m\u001b[0;36m1\u001b[0m\u001b[0;34m]\u001b[0m\u001b[0;34m,\u001b[0m \u001b[0;34m(\u001b[0m\u001b[0mt\u001b[0m\u001b[0;34m,\u001b[0m \u001b[0;36m0.0\u001b[0m\u001b[0;34m,\u001b[0m \u001b[0;36m10.0\u001b[0m\u001b[0;34m)\u001b[0m\u001b[0;34m)\u001b[0m\u001b[0;34m;\u001b[0m\u001b[0;34m\u001b[0m\u001b[0m\n\u001b[0m\u001b[1;32m     18\u001b[0m \u001b[0;34m\u001b[0m\u001b[0m\n\u001b[1;32m     19\u001b[0m     \u001b[0;31m#t = np.linspace(0, 2*np.pi, 200)\u001b[0m\u001b[0;34m\u001b[0m\u001b[0;34m\u001b[0m\u001b[0m\n",
          "\u001b[0;32m<ipython-input-13-8beef1da2943>\u001b[0m in \u001b[0;36mplot\u001b[0;34m(ω, α)\u001b[0m\n\u001b[1;32m     16\u001b[0m     \u001b[0;31m# Plot position vs time\u001b[0m\u001b[0;34m\u001b[0m\u001b[0;34m\u001b[0m\u001b[0m\n\u001b[1;32m     17\u001b[0m     \u001b[0mprint\u001b[0m\u001b[0;34m(\u001b[0m\u001b[0mx1\u001b[0m\u001b[0;34m)\u001b[0m\u001b[0;34m\u001b[0m\u001b[0m\n\u001b[0;32m---> 18\u001b[0;31m     \u001b[0mplot\u001b[0m\u001b[0;34m(\u001b[0m\u001b[0mx1\u001b[0m\u001b[0;34m.\u001b[0m\u001b[0margs\u001b[0m\u001b[0;34m[\u001b[0m\u001b[0;36m1\u001b[0m\u001b[0;34m]\u001b[0m\u001b[0;34m,\u001b[0m \u001b[0;34m(\u001b[0m\u001b[0mt\u001b[0m\u001b[0;34m,\u001b[0m \u001b[0;36m0.0\u001b[0m\u001b[0;34m,\u001b[0m \u001b[0;36m10.0\u001b[0m\u001b[0;34m)\u001b[0m\u001b[0;34m)\u001b[0m\u001b[0;34m;\u001b[0m\u001b[0;34m\u001b[0m\u001b[0m\n\u001b[0m\u001b[1;32m     19\u001b[0m \u001b[0;34m\u001b[0m\u001b[0m\n\u001b[1;32m     20\u001b[0m     \u001b[0;31m#t = np.linspace(0, 2*np.pi, 200)\u001b[0m\u001b[0;34m\u001b[0m\u001b[0;34m\u001b[0m\u001b[0m\n",
          "\u001b[0;32m<ipython-input-13-8beef1da2943>\u001b[0m in \u001b[0;36mplot\u001b[0;34m(ω, α)\u001b[0m\n\u001b[1;32m     16\u001b[0m     \u001b[0;31m# Plot position vs time\u001b[0m\u001b[0;34m\u001b[0m\u001b[0;34m\u001b[0m\u001b[0m\n\u001b[1;32m     17\u001b[0m     \u001b[0mprint\u001b[0m\u001b[0;34m(\u001b[0m\u001b[0mx1\u001b[0m\u001b[0;34m)\u001b[0m\u001b[0;34m\u001b[0m\u001b[0m\n\u001b[0;32m---> 18\u001b[0;31m     \u001b[0mplot\u001b[0m\u001b[0;34m(\u001b[0m\u001b[0mx1\u001b[0m\u001b[0;34m.\u001b[0m\u001b[0margs\u001b[0m\u001b[0;34m[\u001b[0m\u001b[0;36m1\u001b[0m\u001b[0;34m]\u001b[0m\u001b[0;34m,\u001b[0m \u001b[0;34m(\u001b[0m\u001b[0mt\u001b[0m\u001b[0;34m,\u001b[0m \u001b[0;36m0.0\u001b[0m\u001b[0;34m,\u001b[0m \u001b[0;36m10.0\u001b[0m\u001b[0;34m)\u001b[0m\u001b[0;34m)\u001b[0m\u001b[0;34m;\u001b[0m\u001b[0;34m\u001b[0m\u001b[0m\n\u001b[0m\u001b[1;32m     19\u001b[0m \u001b[0;34m\u001b[0m\u001b[0m\n\u001b[1;32m     20\u001b[0m     \u001b[0;31m#t = np.linspace(0, 2*np.pi, 200)\u001b[0m\u001b[0;34m\u001b[0m\u001b[0;34m\u001b[0m\u001b[0m\n",
          "\u001b[0;32m<ipython-input-13-8beef1da2943>\u001b[0m in \u001b[0;36mplot\u001b[0;34m(ω, α)\u001b[0m\n\u001b[1;32m     16\u001b[0m     \u001b[0;31m# Plot position vs time\u001b[0m\u001b[0;34m\u001b[0m\u001b[0;34m\u001b[0m\u001b[0m\n\u001b[1;32m     17\u001b[0m     \u001b[0mprint\u001b[0m\u001b[0;34m(\u001b[0m\u001b[0mx1\u001b[0m\u001b[0;34m)\u001b[0m\u001b[0;34m\u001b[0m\u001b[0m\n\u001b[0;32m---> 18\u001b[0;31m     \u001b[0mplot\u001b[0m\u001b[0;34m(\u001b[0m\u001b[0mx1\u001b[0m\u001b[0;34m.\u001b[0m\u001b[0margs\u001b[0m\u001b[0;34m[\u001b[0m\u001b[0;36m1\u001b[0m\u001b[0;34m]\u001b[0m\u001b[0;34m,\u001b[0m \u001b[0;34m(\u001b[0m\u001b[0mt\u001b[0m\u001b[0;34m,\u001b[0m \u001b[0;36m0.0\u001b[0m\u001b[0;34m,\u001b[0m \u001b[0;36m10.0\u001b[0m\u001b[0;34m)\u001b[0m\u001b[0;34m)\u001b[0m\u001b[0;34m;\u001b[0m\u001b[0;34m\u001b[0m\u001b[0m\n\u001b[0m\u001b[1;32m     19\u001b[0m \u001b[0;34m\u001b[0m\u001b[0m\n\u001b[1;32m     20\u001b[0m     \u001b[0;31m#t = np.linspace(0, 2*np.pi, 200)\u001b[0m\u001b[0;34m\u001b[0m\u001b[0;34m\u001b[0m\u001b[0m\n",
          "\u001b[0;32m<ipython-input-13-8beef1da2943>\u001b[0m in \u001b[0;36mplot\u001b[0;34m(ω, α)\u001b[0m\n\u001b[1;32m     16\u001b[0m     \u001b[0;31m# Plot position vs time\u001b[0m\u001b[0;34m\u001b[0m\u001b[0;34m\u001b[0m\u001b[0m\n\u001b[1;32m     17\u001b[0m     \u001b[0mprint\u001b[0m\u001b[0;34m(\u001b[0m\u001b[0mx1\u001b[0m\u001b[0;34m)\u001b[0m\u001b[0;34m\u001b[0m\u001b[0m\n\u001b[0;32m---> 18\u001b[0;31m     \u001b[0mplot\u001b[0m\u001b[0;34m(\u001b[0m\u001b[0mx1\u001b[0m\u001b[0;34m.\u001b[0m\u001b[0margs\u001b[0m\u001b[0;34m[\u001b[0m\u001b[0;36m1\u001b[0m\u001b[0;34m]\u001b[0m\u001b[0;34m,\u001b[0m \u001b[0;34m(\u001b[0m\u001b[0mt\u001b[0m\u001b[0;34m,\u001b[0m \u001b[0;36m0.0\u001b[0m\u001b[0;34m,\u001b[0m \u001b[0;36m10.0\u001b[0m\u001b[0;34m)\u001b[0m\u001b[0;34m)\u001b[0m\u001b[0;34m;\u001b[0m\u001b[0;34m\u001b[0m\u001b[0m\n\u001b[0m\u001b[1;32m     19\u001b[0m \u001b[0;34m\u001b[0m\u001b[0m\n\u001b[1;32m     20\u001b[0m     \u001b[0;31m#t = np.linspace(0, 2*np.pi, 200)\u001b[0m\u001b[0;34m\u001b[0m\u001b[0;34m\u001b[0m\u001b[0m\n",
          "\u001b[0;32m<ipython-input-13-8beef1da2943>\u001b[0m in \u001b[0;36mplot\u001b[0;34m(ω, α)\u001b[0m\n\u001b[1;32m     16\u001b[0m     \u001b[0;31m# Plot position vs time\u001b[0m\u001b[0;34m\u001b[0m\u001b[0;34m\u001b[0m\u001b[0m\n\u001b[1;32m     17\u001b[0m     \u001b[0mprint\u001b[0m\u001b[0;34m(\u001b[0m\u001b[0mx1\u001b[0m\u001b[0;34m)\u001b[0m\u001b[0;34m\u001b[0m\u001b[0m\n\u001b[0;32m---> 18\u001b[0;31m     \u001b[0mplot\u001b[0m\u001b[0;34m(\u001b[0m\u001b[0mx1\u001b[0m\u001b[0;34m.\u001b[0m\u001b[0margs\u001b[0m\u001b[0;34m[\u001b[0m\u001b[0;36m1\u001b[0m\u001b[0;34m]\u001b[0m\u001b[0;34m,\u001b[0m \u001b[0;34m(\u001b[0m\u001b[0mt\u001b[0m\u001b[0;34m,\u001b[0m \u001b[0;36m0.0\u001b[0m\u001b[0;34m,\u001b[0m \u001b[0;36m10.0\u001b[0m\u001b[0;34m)\u001b[0m\u001b[0;34m)\u001b[0m\u001b[0;34m;\u001b[0m\u001b[0;34m\u001b[0m\u001b[0m\n\u001b[0m\u001b[1;32m     19\u001b[0m \u001b[0;34m\u001b[0m\u001b[0m\n\u001b[1;32m     20\u001b[0m     \u001b[0;31m#t = np.linspace(0, 2*np.pi, 200)\u001b[0m\u001b[0;34m\u001b[0m\u001b[0;34m\u001b[0m\u001b[0m\n",
          "... last 5 frames repeated, from the frame below ...\n",
          "\u001b[0;32m<ipython-input-13-8beef1da2943>\u001b[0m in \u001b[0;36mplot\u001b[0;34m(ω, α)\u001b[0m\n\u001b[1;32m     16\u001b[0m     \u001b[0;31m# Plot position vs time\u001b[0m\u001b[0;34m\u001b[0m\u001b[0;34m\u001b[0m\u001b[0m\n\u001b[1;32m     17\u001b[0m     \u001b[0mprint\u001b[0m\u001b[0;34m(\u001b[0m\u001b[0mx1\u001b[0m\u001b[0;34m)\u001b[0m\u001b[0;34m\u001b[0m\u001b[0m\n\u001b[0;32m---> 18\u001b[0;31m     \u001b[0mplot\u001b[0m\u001b[0;34m(\u001b[0m\u001b[0mx1\u001b[0m\u001b[0;34m.\u001b[0m\u001b[0margs\u001b[0m\u001b[0;34m[\u001b[0m\u001b[0;36m1\u001b[0m\u001b[0;34m]\u001b[0m\u001b[0;34m,\u001b[0m \u001b[0;34m(\u001b[0m\u001b[0mt\u001b[0m\u001b[0;34m,\u001b[0m \u001b[0;36m0.0\u001b[0m\u001b[0;34m,\u001b[0m \u001b[0;36m10.0\u001b[0m\u001b[0;34m)\u001b[0m\u001b[0;34m)\u001b[0m\u001b[0;34m;\u001b[0m\u001b[0;34m\u001b[0m\u001b[0m\n\u001b[0m\u001b[1;32m     19\u001b[0m \u001b[0;34m\u001b[0m\u001b[0m\n\u001b[1;32m     20\u001b[0m     \u001b[0;31m#t = np.linspace(0, 2*np.pi, 200)\u001b[0m\u001b[0;34m\u001b[0m\u001b[0;34m\u001b[0m\u001b[0m\n",
          "\u001b[0;31mRecursionError\u001b[0m: maximum recursion depth exceeded while calling a Python object"
         ]
        }
       ]
      }
     },
     "c8a22a0fc1194780bf25e76bb66268a2": {
      "model_module": "@jupyter-widgets/output",
      "model_module_version": "1.0.0",
      "model_name": "OutputModel",
      "state": {
       "layout": "IPY_MODEL_0f31bb493cdd4795a54c1d999cf56bcd",
       "outputs": [
        {
         "data": {
          "image/png": "iVBORw0KGgoAAAANSUhEUgAAAZAAAAEQCAYAAACeDyIUAAAABHNCSVQICAgIfAhkiAAAAAlwSFlz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\nBygJc4DXzK8IAAAAAElFTkSuQmCC\n",
          "text/plain": "<matplotlib.figure.Figure at 0x7f2b0fff0b00>"
         },
         "metadata": {},
         "output_type": "display_data"
        }
       ]
      }
     },
     "c9b65f7284484cd2a70bdbf3f172c021": {
      "model_module": "@jupyter-widgets/controls",
      "model_module_version": "1.0.0",
      "model_name": "VBoxModel",
      "state": {
       "_dom_classes": [
        "widget-interact"
       ],
       "children": [
        "IPY_MODEL_51380a73326c460c8578b9ba7a0fe537",
        "IPY_MODEL_57633138dfb54c6bb7e5ae9bc56d5285"
       ],
       "layout": "IPY_MODEL_d129db1065bc4c8baa2db5b401a5776e"
      }
     },
     "ca4e6672a2b546828397ff9040c1a96d": {
      "model_module": "@jupyter-widgets/controls",
      "model_module_version": "1.0.0",
      "model_name": "VBoxModel",
      "state": {
       "_dom_classes": [
        "widget-interact"
       ],
       "children": [
        "IPY_MODEL_3c22e88a3ea14dca9a9f3a3f532ff32b",
        "IPY_MODEL_b4c6e6083dce49559a90956ec2fd6f6a",
        "IPY_MODEL_c7924c418bd2458e93f6a2df6c97d29b"
       ],
       "layout": "IPY_MODEL_6e26b6f84e194eb0862de68210b52ec6"
      }
     },
     "ca70ab6d1cbb4ff8a06e36840046ebe5": {
      "model_module": "@jupyter-widgets/controls",
      "model_module_version": "1.0.0",
      "model_name": "SliderStyleModel",
      "state": {
       "description_width": ""
      }
     },
     "cb874c764dde4c8e8896226bd0346212": {
      "model_module": "@jupyter-widgets/base",
      "model_module_version": "1.0.0",
      "model_name": "LayoutModel",
      "state": {}
     },
     "cbe00ab18f2146babf6d12aa7c7d20d8": {
      "model_module": "@jupyter-widgets/controls",
      "model_module_version": "1.0.0",
      "model_name": "VBoxModel",
      "state": {
       "_dom_classes": [
        "widget-interact"
       ],
       "children": [
        "IPY_MODEL_af6adb2bfb434a84b79079ce7ebfdc60",
        "IPY_MODEL_6e9326c9372645a5a8bdf0514335f8c3"
       ],
       "layout": "IPY_MODEL_f425fb396a4b4a28b5aec11ec91eeb61"
      }
     },
     "cc087ee59607422387d76402b2b63b87": {
      "model_module": "@jupyter-widgets/controls",
      "model_module_version": "1.0.0",
      "model_name": "FloatSliderModel",
      "state": {
       "description": "α",
       "layout": "IPY_MODEL_b85c15fc7ca74a03a9e7dc4b14f6ee32",
       "max": 2,
       "step": 0.25,
       "style": "IPY_MODEL_66354bdedddc4c49a7807dedddb551c4"
      }
     },
     "cc4e56578fc34314849024bf9747e5df": {
      "model_module": "@jupyter-widgets/controls",
      "model_module_version": "1.0.0",
      "model_name": "VBoxModel",
      "state": {
       "_dom_classes": [
        "widget-interact"
       ],
       "children": [
        "IPY_MODEL_7cedba93607247f38e07e6203a9c41d4",
        "IPY_MODEL_959b7cf016284007a8e4a95cec209c47",
        "IPY_MODEL_d397495e99a9464a824c3e078e0da7b7"
       ],
       "layout": "IPY_MODEL_e806e4e36aef4e17837cacbda5f56e31"
      }
     },
     "cd29fdc0946a4af19d9f96e6d869a4dc": {
      "model_module": "@jupyter-widgets/controls",
      "model_module_version": "1.0.0",
      "model_name": "FloatSliderModel",
      "state": {
       "description": "α",
       "layout": "IPY_MODEL_68c8086dcce74d838dcbbd5d53cdc689",
       "max": 2,
       "step": 0.25,
       "style": "IPY_MODEL_235025c1c6404a18b10a1d940c9acf4c"
      }
     },
     "cd3129fd91d54f2fbd5a99955c58b8f9": {
      "model_module": "@jupyter-widgets/base",
      "model_module_version": "1.0.0",
      "model_name": "LayoutModel",
      "state": {}
     },
     "cd54a828f385466cbeb2946d41e90075": {
      "model_module": "@jupyter-widgets/output",
      "model_module_version": "1.0.0",
      "model_name": "OutputModel",
      "state": {
       "layout": "IPY_MODEL_dc03c8216c41492a8370fd797388e31e",
       "outputs": [
        {
         "name": "stdout",
         "output_type": "stream",
         "text": "Eq(x(t), 200 - 200*exp(-t/2))\nEq(x(t), 200 - 200*exp(-t/2))\nEq(x(t), 200 - 200*exp(-t/2))\nEq(x(t), 200 - 200*exp(-t/2))\nEq(x(t), 200 - 200*exp(-t/2))\nEq(x(t), 200 - 200*exp(-t/2))\nEq(x(t), 200 - 200*exp(-t/2))\nEq(x(t), 200 - 200*exp(-t/2))\nEq(x(t), 200 - 200*exp(-t/2))\nEq(x(t), 200 - 200*exp(-t/2))\nEq(x(t), 200 - 200*exp(-t/2))\nEq(x(t), 200 - 200*exp(-t/2))\nEq(x(t), 200 - 200*exp(-t/2))\nEq(x(t), 200 - 200*exp(-t/2))\nEq(x(t), 200 - 200*exp(-t/2))\nEq(x(t), 200 - 200*exp(-t/2))\nEq(x(t), 200 - 200*exp(-t/2))\nEq(x(t), 200 - 200*exp(-t/2))\nEq(x(t), 200 - 200*exp(-t/2))\nEq(x(t), 200 - 200*exp(-t/2))\nEq(x(t), 200 - 200*exp(-t/2))\nEq(x(t), 200 - 200*exp(-t/2))\nEq(x(t), 200 - 200*exp(-t/2))\nEq(x(t), 200 - 200*exp(-t/2))\nEq(x(t), 200 - 200*exp(-t/2))\nEq(x(t), 200 - 200*exp(-t/2))\nEq(x(t), 200 - 200*exp(-t/2))\nEq(x(t), 200 - 200*exp(-t/2))\nEq(x(t), 200 - 200*exp(-t/2))\nEq(x(t), 200 - 200*exp(-t/2))\nEq(x(t), 200 - 200*exp(-t/2))\nEq(x(t), 200 - 200*exp(-t/2))\nEq(x(t), 200 - 200*exp(-t/2))\nEq(x(t), 200 - 200*exp(-t/2))\nEq(x(t), 200 - 200*exp(-t/2))\nEq(x(t), 200 - 200*exp(-t/2))\nEq(x(t), 200 - 200*exp(-t/2))\nEq(x(t), 200 - 200*exp(-t/2))\nEq(x(t), 200 - 200*exp(-t/2))\nEq(x(t), 200 - 200*exp(-t/2))\nEq(x(t), 200 - 200*exp(-t/2))\nEq(x(t), 200 - 200*exp(-t/2))\nEq(x(t), 200 - 200*exp(-t/2))\nEq(x(t), 200 - 200*exp(-t/2))\nEq(x(t), 200 - 200*exp(-t/2))\nEq(x(t), 200 - 200*exp(-t/2))\nEq(x(t), 200 - 200*exp(-t/2))\nEq(x(t), 200 - 200*exp(-t/2))\nEq(x(t), 200 - 200*exp(-t/2))\nEq(x(t), 200 - 200*exp(-t/2))\nEq(x(t), 200 - 200*exp(-t/2))\nEq(x(t), 200 - 200*exp(-t/2))\nEq(x(t), 200 - 200*exp(-t/2))\nEq(x(t), 200 - 200*exp(-t/2))\nEq(x(t), 200 - 200*exp(-t/2))\nEq(x(t), 200 - 200*exp(-t/2))\nEq(x(t), 200 - 200*exp(-t/2))\nEq(x(t), 200 - 200*exp(-t/2))\nEq(x(t), 200 - 200*exp(-t/2))\nEq(x(t), 200 - 200*exp(-t/2))\nEq(x(t), 200 - 200*exp(-t/2))\nEq(x(t), 200 - 200*exp(-t/2))\nEq(x(t), 200 - 200*exp(-t/2))\nEq(x(t), 200 - 200*exp(-t/2))\nEq(x(t), 200 - 200*exp(-t/2))\nEq(x(t), 200 - 200*exp(-t/2))\nEq(x(t), 200 - 200*exp(-t/2))\nEq(x(t), 200 - 200*exp(-t/2))\nEq(x(t), 200 - 200*exp(-t/2))\nEq(x(t), 200 - 200*exp(-t/2))\nEq(x(t), 200 - 200*exp(-t/2))\nEq(x(t), 200 - 200*exp(-t/2))\nEq(x(t), 200 - 200*exp(-t/2))\nEq(x(t), 200 - 200*exp(-t/2))\nEq(x(t), 200 - 200*exp(-t/2))\nEq(x(t), 200 - 200*exp(-t/2))\nEq(x(t), 200 - 200*exp(-t/2))\nEq(x(t), 200 - 200*exp(-t/2))\nEq(x(t), 200 - 200*exp(-t/2))\nEq(x(t), 200 - 200*exp(-t/2))\nEq(x(t), 200 - 200*exp(-t/2))\nEq(x(t), 200 - 200*exp(-t/2))\nEq(x(t), 200 - 200*exp(-t/2))\nEq(x(t), 200 - 200*exp(-t/2))\nEq(x(t), 200 - 200*exp(-t/2))\nEq(x(t), 200 - 200*exp(-t/2))\nEq(x(t), 200 - 200*exp(-t/2))\nEq(x(t), 200 - 200*exp(-t/2))\nEq(x(t), 200 - 200*exp(-t/2))\nEq(x(t), 200 - 200*exp(-t/2))\nEq(x(t), 200 - 200*exp(-t/2))\nEq(x(t), 200 - 200*exp(-t/2))\nEq(x(t), 200 - 200*exp(-t/2))\nEq(x(t), 200 - 200*exp(-t/2))\nEq(x(t), 200 - 200*exp(-t/2))\nEq(x(t), 200 - 200*exp(-t/2))\nEq(x(t), 200 - 200*exp(-t/2))\nEq(x(t), 200 - 200*exp(-t/2))\nEq(x(t), 200 - 200*exp(-t/2))\nEq(x(t), 200 - 200*exp(-t/2))\nEq(x(t), 200 - 200*exp(-t/2))\nEq(x(t), 200 - 200*exp(-t/2))\nEq(x(t), 200 - 200*exp(-t/2))\nEq(x(t), 200 - 200*exp(-t/2))\nEq(x(t), 200 - 200*exp(-t/2))\nEq(x(t), 200 - 200*exp(-t/2))\nEq(x(t), 200 - 200*exp(-t/2))\nEq(x(t), 200 - 200*exp(-t/2))\nEq(x(t), 200 - 200*exp(-t/2))\nEq(x(t), 200 - 200*exp(-t/2))\nEq(x(t), 200 - 200*exp(-t/2))\nEq(x(t), 200 - 200*exp(-t/2))\nEq(x(t), 200 - 200*exp(-t/2))\nEq(x(t), 200 - 200*exp(-t/2))\nEq(x(t), 200 - 200*exp(-t/2))\nEq(x(t), 200 - 200*exp(-t/2))\nEq(x(t), 200 - 200*exp(-t/2))\nEq(x(t), 200 - 200*exp(-t/2))\nEq(x(t), 200 - 200*exp(-t/2))\nEq(x(t), 200 - 200*exp(-t/2))\nEq(x(t), 200 - 200*exp(-t/2))\nEq(x(t), 200 - 200*exp(-t/2))\nEq(x(t), 200 - 200*exp(-t/2))\nEq(x(t), 200 - 200*exp(-t/2))\nEq(x(t), 200 - 200*exp(-t/2))\nEq(x(t), 200 - 200*exp(-t/2))\nEq(x(t), 200 - 200*exp(-t/2))\nEq(x(t), 200 - 200*exp(-t/2))\nEq(x(t), 200 - 200*exp(-t/2))\nEq(x(t), 200 - 200*exp(-t/2))\nEq(x(t), 200 - 200*exp(-t/2))\nEq(x(t), 200 - 200*exp(-t/2))\nEq(x(t), 200 - 200*exp(-t/2))\nEq(x(t), 200 - 200*exp(-t/2))\nEq(x(t), 200 - 200*exp(-t/2))\nEq(x(t), 200 - 200*exp(-t/2))\nEq(x(t), 200 - 200*exp(-t/2))\nEq(x(t), 200 - 200*exp(-t/2))\nEq(x(t), 200 - 200*exp(-t/2))\nEq(x(t), 200 - 200*exp(-t/2))\nEq(x(t), 200 - 200*exp(-t/2))\nEq(x(t), 200 - 200*exp(-t/2))\nEq(x(t), 200 - 200*exp(-t/2))\nEq(x(t), 200 - 200*exp(-t/2))\nEq(x(t), 200 - 200*exp(-t/2))\nEq(x(t), 200 - 200*exp(-t/2))\nEq(x(t), 200 - 200*exp(-t/2))\nEq(x(t), 200 - 200*exp(-t/2))\nEq(x(t), 200 - 200*exp(-t/2))\nEq(x(t), 200 - 200*exp(-t/2))\nEq(x(t), 200 - 200*exp(-t/2))\nEq(x(t), 200 - 200*exp(-t/2))\nEq(x(t), 200 - 200*exp(-t/2))\nEq(x(t), 200 - 200*exp(-t/2))\nEq(x(t), 200 - 200*exp(-t/2))\nEq(x(t), 200 - 200*exp(-t/2))\nEq(x(t), 200 - 200*exp(-t/2))\nEq(x(t), 200 - 200*exp(-t/2))\nEq(x(t), 200 - 200*exp(-t/2))\nEq(x(t), 200 - 200*exp(-t/2))\nEq(x(t), 200 - 200*exp(-t/2))\nEq(x(t), 200 - 200*exp(-t/2))\nEq(x(t), 200 - 200*exp(-t/2))\nEq(x(t), 200 - 200*exp(-t/2))\nEq(x(t), 200 - 200*exp(-t/2))\nEq(x(t), 200 - 200*exp(-t/2))\nEq(x(t), 200 - 200*exp(-t/2))\nEq(x(t), 200 - 200*exp(-t/2))\nEq(x(t), 200 - 200*exp(-t/2))\nEq(x(t), 200 - 200*exp(-t/2))\nEq(x(t), 200 - 200*exp(-t/2))\nEq(x(t), 200 - 200*exp(-t/2))\nEq(x(t), 200 - 200*exp(-t/2))\nEq(x(t), 200 - 200*exp(-t/2))\nEq(x(t), 200 - 200*exp(-t/2))\nEq(x(t), 200 - 200*exp(-t/2))\nEq(x(t), 200 - 200*exp(-t/2))\nEq(x(t), 200 - 200*exp(-t/2))\nEq(x(t), 200 - 200*exp(-t/2))\nEq(x(t), 200 - 200*exp(-t/2))\nEq(x(t), 200 - 200*exp(-t/2))\nEq(x(t), 200 - 200*exp(-t/2))\nEq(x(t), 200 - 200*exp(-t/2))\nEq(x(t), 200 - 200*exp(-t/2))\nEq(x(t), 200 - 200*exp(-t/2))\nEq(x(t), 200 - 200*exp(-t/2))\nEq(x(t), 200 - 200*exp(-t/2))\nEq(x(t), 200 - 200*exp(-t/2))\nEq(x(t), 200 - 200*exp(-t/2))\nEq(x(t), 200 - 200*exp(-t/2))\nEq(x(t), 200 - 200*exp(-t/2))\nEq(x(t), 200 - 200*exp(-t/2))\nEq(x(t), 200 - 200*exp(-t/2))\nEq(x(t), 200 - 200*exp(-t/2))\nEq(x(t), 200 - 200*exp(-t/2))\nEq(x(t), 200 - 200*exp(-t/2))\nEq(x(t), 200 - 200*exp(-t/2))\nEq(x(t), 200 - 200*exp(-t/2))\nEq(x(t), 200 - 200*exp(-t/2))\nEq(x(t), 200 - 200*exp(-t/2))\nEq(x(t), 200 - 200*exp(-t/2))\nEq(x(t), 200 - 200*exp(-t/2))\nEq(x(t), 200 - 200*exp(-t/2))\nEq(x(t), 200 - 200*exp(-t/2))\nEq(x(t), 200 - 200*exp(-t/2))\nEq(x(t), 200 - 200*exp(-t/2))\nEq(x(t), 200 - 200*exp(-t/2))\nEq(x(t), 200 - 200*exp(-t/2))\nEq(x(t), 200 - 200*exp(-t/2))\nEq(x(t), 200 - 200*exp(-t/2))\nEq(x(t), 200 - 200*exp(-t/2))\nEq(x(t), 200 - 200*exp(-t/2))\nEq(x(t), 200 - 200*exp(-t/2))\nEq(x(t), 200 - 200*exp(-t/2))\nEq(x(t), 200 - 200*exp(-t/2))\nEq(x(t), 200 - 200*exp(-t/2))\nEq(x(t), 200 - 200*exp(-t/2))\nEq(x(t), 200 - 200*exp(-t/2))\nEq(x(t), 200 - 200*exp(-t/2))\nEq(x(t), 200 - 200*exp(-t/2))\nEq(x(t), 200 - 200*exp(-t/2))\nEq(x(t), 200 - 200*exp(-t/2))\nEq(x(t), 200 - 200*exp(-t/2))\nEq(x(t), 200 - 200*exp(-t/2))\nEq(x(t), 200 - 200*exp(-t/2))\nEq(x(t), 200 - 200*exp(-t/2))\nEq(x(t), 200 - 200*exp(-t/2))\nEq(x(t), 200 - 200*exp(-t/2))\nEq(x(t), 200 - 200*exp(-t/2))\nEq(x(t), 200 - 200*exp(-t/2))\nEq(x(t), 200 - 200*exp(-t/2))\nEq(x(t), 200 - 200*exp(-t/2))\nEq(x(t), 200 - 200*exp(-t/2))\nEq(x(t), 200 - 200*exp(-t/2))\nEq(x(t), 200 - 200*exp(-t/2))\nEq(x(t), 200 - 200*exp(-t/2))\nEq(x(t), 200 - 200*exp(-t/2))\nEq(x(t), 200 - 200*exp(-t/2))\nEq(x(t), 200 - 200*exp(-t/2))\nEq(x(t), 200 - 200*exp(-t/2))\nEq(x(t), 200 - 200*exp(-t/2))\nEq(x(t), 200 - 200*exp(-t/2))\nEq(x(t), 200 - 200*exp(-t/2))\nEq(x(t), 200 - 200*exp(-t/2))\nEq(x(t), 200 - 200*exp(-t/2))\nEq(x(t), 200 - 200*exp(-t/2))\nEq(x(t), 200 - 200*exp(-t/2))\nEq(x(t), 200 - 200*exp(-t/2))\nEq(x(t), 200 - 200*exp(-t/2))\nEq(x(t), 200 - 200*exp(-t/2))\nEq(x(t), 200 - 200*exp(-t/2))\nEq(x(t), 200 - 200*exp(-t/2))\nEq(x(t), 200 - 200*exp(-t/2))\nEq(x(t), 200 - 200*exp(-t/2))\nEq(x(t), 200 - 200*exp(-t/2))\nEq(x(t), 200 - 200*exp(-t/2))\nEq(x(t), 200 - 200*exp(-t/2))\nEq(x(t), 200 - 200*exp(-t/2))\nEq(x(t), 200 - 200*exp(-t/2))\nEq(x(t), 200 - 200*exp(-t/2))\nEq(x(t), 200 - 200*exp(-t/2))\nEq(x(t), 200 - 200*exp(-t/2))\nEq(x(t), 200 - 200*exp(-t/2))\nEq(x(t), 200 - 200*exp(-t/2))\nEq(x(t), 200 - 200*exp(-t/2))\nEq(x(t), 200 - 200*exp(-t/2))\nEq(x(t), 200 - 200*exp(-t/2))\nEq(x(t), 200 - 200*exp(-t/2))\nEq(x(t), 200 - 200*exp(-t/2))\nEq(x(t), 200 - 200*exp(-t/2))\nEq(x(t), 200 - 200*exp(-t/2))\nEq(x(t), 200 - 200*exp(-t/2))\nEq(x(t), 200 - 200*exp(-t/2))\nEq(x(t), 200 - 200*exp(-t/2))\nEq(x(t), 200 - 200*exp(-t/2))\nEq(x(t), 200 - 200*exp(-t/2))\nEq(x(t), 200 - 200*exp(-t/2))\nEq(x(t), 200 - 200*exp(-t/2))\nEq(x(t), 200 - 200*exp(-t/2))\nEq(x(t), 200 - 200*exp(-t/2))\nEq(x(t), 200 - 200*exp(-t/2))\nEq(x(t), 200 - 200*exp(-t/2))\nEq(x(t), 200 - 200*exp(-t/2))\nEq(x(t), 200 - 200*exp(-t/2))\nEq(x(t), 200 - 200*exp(-t/2))\nEq(x(t), 200 - 200*exp(-t/2))\nEq(x(t), 200 - 200*exp(-t/2))\nEq(x(t), 200 - 200*exp(-t/2))\nEq(x(t), 200 - 200*exp(-t/2))\nEq(x(t), 200 - 200*exp(-t/2))\nEq(x(t), 200 - 200*exp(-t/2))\nEq(x(t), 200 - 200*exp(-t/2))\nEq(x(t), 200 - 200*exp(-t/2))\nEq(x(t), 200 - 200*exp(-t/2))\nEq(x(t), 200 - 200*exp(-t/2))\nEq(x(t), 200 - 200*exp(-t/2))\nEq(x(t), 200 - 200*exp(-t/2))\nEq(x(t), 200 - 200*exp(-t/2))\nEq(x(t), 200 - 200*exp(-t/2))\nEq(x(t), 200 - 200*exp(-t/2))\nEq(x(t), 200 - 200*exp(-t/2))\nEq(x(t), 200 - 200*exp(-t/2))\nEq(x(t), 200 - 200*exp(-t/2))\nEq(x(t), 200 - 200*exp(-t/2))\nEq(x(t), 200 - 200*exp(-t/2))\nEq(x(t), 200 - 200*exp(-t/2))\nEq(x(t), 200 - 200*exp(-t/2))\nEq(x(t), 200 - 200*exp(-t/2))\nEq(x(t), 200 - 200*exp(-t/2))\nEq(x(t), 200 - 200*exp(-t/2))\nEq(x(t), 200 - 200*exp(-t/2))\nEq(x(t), 200 - 200*exp(-t/2))\nEq(x(t), 200 - 200*exp(-t/2))\nEq(x(t), 200 - 200*exp(-t/2))\nEq(x(t), 200 - 200*exp(-t/2))\nEq(x(t), 200 - 200*exp(-t/2))\nEq(x(t), 200 - 200*exp(-t/2))\nEq(x(t), 200 - 200*exp(-t/2))\nEq(x(t), 200 - 200*exp(-t/2))\nEq(x(t), 200 - 200*exp(-t/2))\nEq(x(t), 200 - 200*exp(-t/2))\nEq(x(t), 200 - 200*exp(-t/2))\nEq(x(t), 200 - 200*exp(-t/2))\nEq(x(t), 200 - 200*exp(-t/2))\nEq(x(t), 200 - 200*exp(-t/2))\nEq(x(t), 200 - 200*exp(-t/2))\nEq(x(t), 200 - 200*exp(-t/2))\nEq(x(t), 200 - 200*exp(-t/2))\nEq(x(t), 200 - 200*exp(-t/2))\nEq(x(t), 200 - 200*exp(-t/2))\nEq(x(t), 200 - 200*exp(-t/2))\nEq(x(t), 200 - 200*exp(-t/2))\nEq(x(t), 200 - 200*exp(-t/2))\nEq(x(t), 200 - 200*exp(-t/2))\nEq(x(t), 200 - 200*exp(-t/2))\nEq(x(t), 200 - 200*exp(-t/2))\nEq(x(t), 200 - 200*exp(-t/2))\nEq(x(t), 200 - 200*exp(-t/2))\nEq(x(t), 200 - 200*exp(-t/2))\nEq(x(t), 200 - 200*exp(-t/2))\nEq(x(t), 200 - 200*exp(-t/2))\nEq(x(t), 200 - 200*exp(-t/2))\nEq(x(t), 200 - 200*exp(-t/2))\nEq(x(t), 200 - 200*exp(-t/2))\nEq(x(t), 200 - 200*exp(-t/2))\nEq(x(t), 200 - 200*exp(-t/2))\nEq(x(t), 200 - 200*exp(-t/2))\nEq(x(t), 200 - 200*exp(-t/2))\nEq(x(t), 200 - 200*exp(-t/2))\nEq(x(t), 200 - 200*exp(-t/2))\nEq(x(t), 200 - 200*exp(-t/2))\nEq(x(t), 200 - 200*exp(-t/2))\nEq(x(t), 200 - 200*exp(-t/2))\nEq(x(t), 200 - 200*exp(-t/2))\nEq(x(t), 200 - 200*exp(-t/2))\nEq(x(t), 200 - 200*exp(-t/2))\nEq(x(t), 200 - 200*exp(-t/2))\nEq(x(t), 200 - 200*exp(-t/2))\nEq(x(t), 200 - 200*exp(-t/2))\nEq(x(t), 200 - 200*exp(-t/2))\nEq(x(t), 200 - 200*exp(-t/2))\nEq(x(t), 200 - 200*exp(-t/2))\nEq(x(t), 200 - 200*exp(-t/2))\nEq(x(t), 200 - 200*exp(-t/2))\nEq(x(t), 200 - 200*exp(-t/2))\nEq(x(t), 200 - 200*exp(-t/2))\nEq(x(t), 200 - 200*exp(-t/2))\nEq(x(t), 200 - 200*exp(-t/2))\nEq(x(t), 200 - 200*exp(-t/2))\nEq(x(t), 200 - 200*exp(-t/2))\nEq(x(t), 200 - 200*exp(-t/2))\nEq(x(t), 200 - 200*exp(-t/2))\nEq(x(t), 200 - 200*exp(-t/2))\nEq(x(t), 200 - 200*exp(-t/2))\nEq(x(t), 200 - 200*exp(-t/2))\nEq(x(t), 200 - 200*exp(-t/2))\nEq(x(t), 200 - 200*exp(-t/2))\nEq(x(t), 200 - 200*exp(-t/2))\nEq(x(t), 200 - 200*exp(-t/2))\nEq(x(t), 200 - 200*exp(-t/2))\nEq(x(t), 200 - 200*exp(-t/2))\nEq(x(t), 200 - 200*exp(-t/2))\nEq(x(t), 200 - 200*exp(-t/2))\nEq(x(t), 200 - 200*exp(-t/2))\nEq(x(t), 200 - 200*exp(-t/2))\nEq(x(t), 200 - 200*exp(-t/2))\nEq(x(t), 200 - 200*exp(-t/2))\nEq(x(t), 200 - 200*exp(-t/2))\nEq(x(t), 200 - 200*exp(-t/2))\nEq(x(t), 200 - 200*exp(-t/2))\nEq(x(t), 200 - 200*exp(-t/2))\nEq(x(t), 200 - 200*exp(-t/2))\nEq(x(t), 200 - 200*exp(-t/2))\nEq(x(t), 200 - 200*exp(-t/2))\nEq(x(t), 200 - 200*exp(-t/2))\nEq(x(t), 200 - 200*exp(-t/2))\nEq(x(t), 200 - 200*exp(-t/2))\nEq(x(t), 200 - 200*exp(-t/2))\nEq(x(t), 200 - 200*exp(-t/2))\nEq(x(t), 200 - 200*exp(-t/2))\nEq(x(t), 200 - 200*exp(-t/2))\nEq(x(t), 200 - 200*exp(-t/2))\nEq(x(t), 200 - 200*exp(-t/2))\nEq(x(t), 200 - 200*exp(-t/2))\nEq(x(t), 200 - 200*exp(-t/2))\nEq(x(t), 200 - 200*exp(-t/2))\nEq(x(t), 200 - 200*exp(-t/2))\nEq(x(t), 200 - 200*exp(-t/2))\nEq(x(t), 200 - 200*exp(-t/2))\nEq(x(t), 200 - 200*exp(-t/2))\nEq(x(t), 200 - 200*exp(-t/2))\nEq(x(t), 200 - 200*exp(-t/2))\nEq(x(t), 200 - 200*exp(-t/2))\nEq(x(t), 200 - 200*exp(-t/2))\nEq(x(t), 200 - 200*exp(-t/2))\nEq(x(t), 200 - 200*exp(-t/2))\nEq(x(t), 200 - 200*exp(-t/2))\nEq(x(t), 200 - 200*exp(-t/2))\nEq(x(t), 200 - 200*exp(-t/2))\nEq(x(t), 200 - 200*exp(-t/2))\nEq(x(t), 200 - 200*exp(-t/2))\nEq(x(t), 200 - 200*exp(-t/2))\nEq(x(t), 200 - 200*exp(-t/2))\nEq(x(t), 200 - 200*exp(-t/2))\nEq(x(t), 200 - 200*exp(-t/2))\nEq(x(t), 200 - 200*exp(-t/2))\nEq(x(t), 200 - 200*exp(-t/2))\nEq(x(t), 200 - 200*exp(-t/2))\nEq(x(t), 200 - 200*exp(-t/2))\nEq(x(t), 200 - 200*exp(-t/2))\nEq(x(t), 200 - 200*exp(-t/2))\nEq(x(t), 200 - 200*exp(-t/2))\nEq(x(t), 200 - 200*exp(-t/2))\nEq(x(t), 200 - 200*exp(-t/2))\nEq(x(t), 200 - 200*exp(-t/2))\nEq(x(t), 200 - 200*exp(-t/2))\nEq(x(t), 200 - 200*exp(-t/2))\nEq(x(t), 200 - 200*exp(-t/2))\nEq(x(t), 200 - 200*exp(-t/2))\nEq(x(t), 200 - 200*exp(-t/2))\nEq(x(t), 200 - 200*exp(-t/2))\nEq(x(t), 200 - 200*exp(-t/2))\nEq(x(t), 200 - 200*exp(-t/2))\nEq(x(t), 200 - 200*exp(-t/2))\nEq(x(t), 200 - 200*exp(-t/2))\nEq(x(t), 200 - 200*exp(-t/2))\nEq(x(t), 200 - 200*exp(-t/2))\nEq(x(t), 200 - 200*exp(-t/2))\nEq(x(t), 200 - 200*exp(-t/2))\nEq(x(t), 200 - 200*exp(-t/2))\nEq(x(t), 200 - 200*exp(-t/2))\nEq(x(t), 200 - 200*exp(-t/2))\nEq(x(t), 200 - 200*exp(-t/2))\nEq(x(t), 200 - 200*exp(-t/2))\nEq(x(t), 200 - 200*exp(-t/2))\nEq(x(t), 200 - 200*exp(-t/2))\nEq(x(t), 200 - 200*exp(-t/2))\nEq(x(t), 200 - 200*exp(-t/2))\nEq(x(t), 200 - 200*exp(-t/2))\nEq(x(t), 200 - 200*exp(-t/2))\nEq(x(t), 200 - 200*exp(-t/2))\nEq(x(t), 200 - 200*exp(-t/2))\nEq(x(t), 200 - 200*exp(-t/2))\nEq(x(t), 200 - 200*exp(-t/2))\nEq(x(t), 200 - 200*exp(-t/2))\nEq(x(t), 200 - 200*exp(-t/2))\nEq(x(t), 200 - 200*exp(-t/2))\nEq(x(t), 200 - 200*exp(-t/2))\nEq(x(t), 200 - 200*exp(-t/2))\nEq(x(t), 200 - 200*exp(-t/2))\nEq(x(t), 200 - 200*exp(-t/2))\nEq(x(t), 200 - 200*exp(-t/2))\nEq(x(t), 200 - 200*exp(-t/2))\nEq(x(t), 200 - 200*exp(-t/2))\nEq(x(t), 200 - 200*exp(-t/2))\nEq(x(t), 200 - 200*exp(-t/2))\nEq(x(t), 200 - 200*exp(-t/2))\nEq(x(t), 200 - 200*exp(-t/2))\nEq(x(t), 200 - 200*exp(-t/2))\nEq(x(t), 200 - 200*exp(-t/2))\nEq(x(t), 200 - 200*exp(-t/2))\nEq(x(t), 200 - 200*exp(-t/2))\nEq(x(t), 200 - 200*exp(-t/2))\nEq(x(t), 200 - 200*exp(-t/2))\nEq(x(t), 200 - 200*exp(-t/2))\nEq(x(t), 200 - 200*exp(-t/2))\nEq(x(t), 200 - 200*exp(-t/2))\nEq(x(t), 200 - 200*exp(-t/2))\nEq(x(t), 200 - 200*exp(-t/2))\nEq(x(t), 200 - 200*exp(-t/2))\nEq(x(t), 200 - 200*exp(-t/2))\nEq(x(t), 200 - 200*exp(-t/2))\nEq(x(t), 200 - 200*exp(-t/2))\nEq(x(t), 200 - 200*exp(-t/2))\nEq(x(t), 200 - 200*exp(-t/2))\nEq(x(t), 200 - 200*exp(-t/2))\nEq(x(t), 200 - 200*exp(-t/2))\nEq(x(t), 200 - 200*exp(-t/2))\nEq(x(t), 200 - 200*exp(-t/2))\nEq(x(t), 200 - 200*exp(-t/2))\nEq(x(t), 200 - 200*exp(-t/2))\nEq(x(t), 200 - 200*exp(-t/2))\nEq(x(t), 200 - 200*exp(-t/2))\nEq(x(t), 200 - 200*exp(-t/2))\nEq(x(t), 200 - 200*exp(-t/2))\nEq(x(t), 200 - 200*exp(-t/2))\nEq(x(t), 200 - 200*exp(-t/2))\nEq(x(t), 200 - 200*exp(-t/2))\nEq(x(t), 200 - 200*exp(-t/2))\nEq(x(t), 200 - 200*exp(-t/2))\nEq(x(t), 200 - 200*exp(-t/2))\nEq(x(t), 200 - 200*exp(-t/2))\nEq(x(t), 200 - 200*exp(-t/2))\nEq(x(t), 200 - 200*exp(-t/2))\nEq(x(t), 200 - 200*exp(-t/2))\nEq(x(t), 200 - 200*exp(-t/2))\nEq(x(t), 200 - 200*exp(-t/2))\nEq(x(t), 200 - 200*exp(-t/2))\nEq(x(t), 200 - 200*exp(-t/2))\nEq(x(t), 200 - 200*exp(-t/2))\nEq(x(t), 200 - 200*exp(-t/2))\nEq(x(t), 200 - 200*exp(-t/2))\nEq(x(t), 200 - 200*exp(-t/2))\nEq(x(t), 200 - 200*exp(-t/2))\nEq(x(t), 200 - 200*exp(-t/2))\nEq(x(t), 200 - 200*exp(-t/2))\nEq(x(t), 200 - 200*exp(-t/2))\nEq(x(t), 200 - 200*exp(-t/2))\nEq(x(t), 200 - 200*exp(-t/2))\nEq(x(t), 200 - 200*exp(-t/2))\nEq(x(t), 200 - 200*exp(-t/2))\nEq(x(t), 200 - 200*exp(-t/2))\nEq(x(t), 200 - 200*exp(-t/2))\nEq(x(t), 200 - 200*exp(-t/2))\nEq(x(t), 200 - 200*exp(-t/2))\nEq(x(t), 200 - 200*exp(-t/2))\nEq(x(t), 200 - 200*exp(-t/2))\nEq(x(t), 200 - 200*exp(-t/2))\nEq(x(t), 200 - 200*exp(-t/2))\nEq(x(t), 200 - 200*exp(-t/2))\nEq(x(t), 200 - 200*exp(-t/2))\nEq(x(t), 200 - 200*exp(-t/2))\nEq(x(t), 200 - 200*exp(-t/2))\nEq(x(t), 200 - 200*exp(-t/2))\nEq(x(t), 200 - 200*exp(-t/2))\nEq(x(t), 200 - 200*exp(-t/2))\nEq(x(t), 200 - 200*exp(-t/2))\nEq(x(t), 200 - 200*exp(-t/2))\nEq(x(t), 200 - 200*exp(-t/2))\nEq(x(t), 200 - 200*exp(-t/2))\nEq(x(t), 200 - 200*exp(-t/2))\nEq(x(t), 200 - 200*exp(-t/2))\nEq(x(t), 200 - 200*exp(-t/2))\nEq(x(t), 200 - 200*exp(-t/2))\nEq(x(t), 200 - 200*exp(-t/2))\nEq(x(t), 200 - 200*exp(-t/2))\nEq(x(t), 200 - 200*exp(-t/2))\nEq(x(t), 200 - 200*exp(-t/2))\nEq(x(t), 200 - 200*exp(-t/2))\nEq(x(t), 200 - 200*exp(-t/2))\nEq(x(t), 200 - 200*exp(-t/2))\nEq(x(t), 200 - 200*exp(-t/2))\nEq(x(t), 200 - 200*exp(-t/2))\nEq(x(t), 200 - 200*exp(-t/2))\nEq(x(t), 200 - 200*exp(-t/2))\nEq(x(t), 200 - 200*exp(-t/2))\nEq(x(t), 200 - 200*exp(-t/2))\nEq(x(t), 200 - 200*exp(-t/2))\nEq(x(t), 200 - 200*exp(-t/2))\nEq(x(t), 200 - 200*exp(-t/2))\nEq(x(t), 200 - 200*exp(-t/2))\nEq(x(t), 200 - 200*exp(-t/2))\nEq(x(t), 200 - 200*exp(-t/2))\nEq(x(t), 200 - 200*exp(-t/2))\nEq(x(t), 200 - 200*exp(-t/2))\nEq(x(t), 200 - 200*exp(-t/2))\nEq(x(t), 200 - 200*exp(-t/2))\nEq(x(t), 200 - 200*exp(-t/2))\nEq(x(t), 200 - 200*exp(-t/2))\nEq(x(t), 200 - 200*exp(-t/2))\nEq(x(t), 200 - 200*exp(-t/2))\nEq(x(t), 200 - 200*exp(-t/2))\nEq(x(t), 200 - 200*exp(-t/2))\nEq(x(t), 200 - 200*exp(-t/2))\nEq(x(t), 200 - 200*exp(-t/2))\nEq(x(t), 200 - 200*exp(-t/2))\nEq(x(t), 200 - 200*exp(-t/2))\nEq(x(t), 200 - 200*exp(-t/2))\nEq(x(t), 200 - 200*exp(-t/2))\nEq(x(t), 200 - 200*exp(-t/2))\nEq(x(t), 200 - 200*exp(-t/2))\nEq(x(t), 200 - 200*exp(-t/2))\nEq(x(t), 200 - 200*exp(-t/2))\nEq(x(t), 200 - 200*exp(-t/2))\nEq(x(t), 200 - 200*exp(-t/2))\nEq(x(t), 200 - 200*exp(-t/2))\nEq(x(t), 200 - 200*exp(-t/2))\nEq(x(t), 200 - 200*exp(-t/2))\nEq(x(t), 200 - 200*exp(-t/2))\nEq(x(t), 200 - 200*exp(-t/2))\nEq(x(t), 200 - 200*exp(-t/2))\nEq(x(t), 200 - 200*exp(-t/2))\nEq(x(t), 200 - 200*exp(-t/2))\nEq(x(t), 200 - 200*exp(-t/2))\nEq(x(t), 200 - 200*exp(-t/2))\nEq(x(t), 200 - 200*exp(-t/2))\nEq(x(t), 200 - 200*exp(-t/2))\nEq(x(t), 200 - 200*exp(-t/2))\nEq(x(t), 200 - 200*exp(-t/2))\nEq(x(t), 200 - 200*exp(-t/2))\nEq(x(t), 200 - 200*exp(-t/2))\nEq(x(t), 200 - 200*exp(-t/2))\nEq(x(t), 200 - 200*exp(-t/2))\nEq(x(t), 200 - 200*exp(-t/2))\nEq(x(t), 200 - 200*exp(-t/2))\nEq(x(t), 200 - 200*exp(-t/2))\nEq(x(t), 200 - 200*exp(-t/2))\nEq(x(t), 200 - 200*exp(-t/2))\nEq(x(t), 200 - 200*exp(-t/2))\nEq(x(t), 200 - 200*exp(-t/2))\nEq(x(t), 200 - 200*exp(-t/2))\nEq(x(t), 200 - 200*exp(-t/2))\nEq(x(t), 200 - 200*exp(-t/2))\nEq(x(t), 200 - 200*exp(-t/2))\nEq(x(t), 200 - 200*exp(-t/2))\nEq(x(t), 200 - 200*exp(-t/2))\nEq(x(t), 200 - 200*exp(-t/2))\nEq(x(t), 200 - 200*exp(-t/2))\nEq(x(t), 200 - 200*exp(-t/2))\nEq(x(t), 200 - 200*exp(-t/2))\nEq(x(t), 200 - 200*exp(-t/2))\nEq(x(t), 200 - 200*exp(-t/2))\nEq(x(t), 200 - 200*exp(-t/2))\nEq(x(t), 200 - 200*exp(-t/2))\nEq(x(t), 200 - 200*exp(-t/2))\nEq(x(t), 200 - 200*exp(-t/2))\nEq(x(t), 200 - 200*exp(-t/2))\nEq(x(t), 200 - 200*exp(-t/2))\nEq(x(t), 200 - 200*exp(-t/2))\nEq(x(t), 200 - 200*exp(-t/2))\nEq(x(t), 200 - 200*exp(-t/2))\nEq(x(t), 200 - 200*exp(-t/2))\nEq(x(t), 200 - 200*exp(-t/2))\nEq(x(t), 200 - 200*exp(-t/2))\nEq(x(t), 200 - 200*exp(-t/2))\nEq(x(t), 200 - 200*exp(-t/2))\nEq(x(t), 200 - 200*exp(-t/2))\nEq(x(t), 200 - 200*exp(-t/2))\nEq(x(t), 200 - 200*exp(-t/2))\nEq(x(t), 200 - 200*exp(-t/2))\nEq(x(t), 200 - 200*exp(-t/2))\nEq(x(t), 200 - 200*exp(-t/2))\nEq(x(t), 200 - 200*exp(-t/2))\nEq(x(t), 200 - 200*exp(-t/2))\nEq(x(t), 200 - 200*exp(-t/2))\nEq(x(t), 200 - 200*exp(-t/2))\nEq(x(t), 200 - 200*exp(-t/2))\nEq(x(t), 200 - 200*exp(-t/2))\nEq(x(t), 200 - 200*exp(-t/2))\nEq(x(t), 200 - 200*exp(-t/2))\nEq(x(t), 200 - 200*exp(-t/2))\nEq(x(t), 200 - 200*exp(-t/2))\nEq(x(t), 200 - 200*exp(-t/2))\nEq(x(t), 200 - 200*exp(-t/2))\nEq(x(t), 200 - 200*exp(-t/2))\nEq(x(t), 200 - 200*exp(-t/2))\nEq(x(t), 200 - 200*exp(-t/2))\nEq(x(t), 200 - 200*exp(-t/2))\nEq(x(t), 200 - 200*exp(-t/2))\nEq(x(t), 200 - 200*exp(-t/2))\nEq(x(t), 200 - 200*exp(-t/2))\nEq(x(t), 200 - 200*exp(-t/2))\nEq(x(t), 200 - 200*exp(-t/2))\nEq(x(t), 200 - 200*exp(-t/2))\nEq(x(t), 200 - 200*exp(-t/2))\nEq(x(t), 200 - 200*exp(-t/2))\nEq(x(t), 200 - 200*exp(-t/2))\nEq(x(t), 200 - 200*exp(-t/2))\nEq(x(t), 200 - 200*exp(-t/2))\nEq(x(t), 200 - 200*exp(-t/2))\nEq(x(t), 200 - 200*exp(-t/2))\nEq(x(t), 200 - 200*exp(-t/2))\nEq(x(t), 200 - 200*exp(-t/2))\nEq(x(t), 200 - 200*exp(-t/2))\nEq(x(t), 200 - 200*exp(-t/2))\nEq(x(t), 200 - 200*exp(-t/2))\nEq(x(t), 200 - 200*exp(-t/2))\nEq(x(t), 200 - 200*exp(-t/2))\nEq(x(t), 200 - 200*exp(-t/2))\nEq(x(t), 200 - 200*exp(-t/2))\nEq(x(t), 200 - 200*exp(-t/2))\nEq(x(t), 200 - 200*exp(-t/2))\nEq(x(t), 200 - 200*exp(-t/2))\nEq(x(t), 200 - 200*exp(-t/2))\nEq(x(t), 200 - 200*exp(-t/2))\nEq(x(t), 200 - 200*exp(-t/2))\nEq(x(t), 200 - 200*exp(-t/2))\nEq(x(t), 200 - 200*exp(-t/2))\nEq(x(t), 200 - 200*exp(-t/2))\nEq(x(t), 200 - 200*exp(-t/2))\nEq(x(t), 200 - 200*exp(-t/2))\nEq(x(t), 200 - 200*exp(-t/2))\nEq(x(t), 200 - 200*exp(-t/2))\nEq(x(t), 200 - 200*exp(-t/2))\nEq(x(t), 200 - 200*exp(-t/2))\nEq(x(t), 200 - 200*exp(-t/2))\nEq(x(t), 200 - 200*exp(-t/2))\nEq(x(t), 200 - 200*exp(-t/2))\n"
        },
        {
         "name": "stdout",
         "output_type": "stream",
         "text": "Eq(x(t), 200 - 200*exp(-t/2))\nEq(x(t), 200 - 200*exp(-t/2))\nEq(x(t), 200 - 200*exp(-t/2))\nEq(x(t), 200 - 200*exp(-t/2))\nEq(x(t), 200 - 200*exp(-t/2))\nEq(x(t), 200 - 200*exp(-t/2))\nEq(x(t), 200 - 200*exp(-t/2))\nEq(x(t), 200 - 200*exp(-t/2))\nEq(x(t), 200 - 200*exp(-t/2))\nEq(x(t), 200 - 200*exp(-t/2))\nEq(x(t), 200 - 200*exp(-t/2))\nEq(x(t), 200 - 200*exp(-t/2))\nEq(x(t), 200 - 200*exp(-t/2))\nEq(x(t), 200 - 200*exp(-t/2))\nEq(x(t), 200 - 200*exp(-t/2))\nEq(x(t), 200 - 200*exp(-t/2))\nEq(x(t), 200 - 200*exp(-t/2))\nEq(x(t), 200 - 200*exp(-t/2))\nEq(x(t), 200 - 200*exp(-t/2))\nEq(x(t), 200 - 200*exp(-t/2))\nEq(x(t), 200 - 200*exp(-t/2))\nEq(x(t), 200 - 200*exp(-t/2))\nEq(x(t), 200 - 200*exp(-t/2))\nEq(x(t), 200 - 200*exp(-t/2))\nEq(x(t), 200 - 200*exp(-t/2))\nEq(x(t), 200 - 200*exp(-t/2))\nEq(x(t), 200 - 200*exp(-t/2))\nEq(x(t), 200 - 200*exp(-t/2))\nEq(x(t), 200 - 200*exp(-t/2))\nEq(x(t), 200 - 200*exp(-t/2))\nEq(x(t), 200 - 200*exp(-t/2))\nEq(x(t), 200 - 200*exp(-t/2))\nEq(x(t), 200 - 200*exp(-t/2))\nEq(x(t), 200 - 200*exp(-t/2))\nEq(x(t), 200 - 200*exp(-t/2))\nEq(x(t), 200 - 200*exp(-t/2))\nEq(x(t), 200 - 200*exp(-t/2))\nEq(x(t), 200 - 200*exp(-t/2))\nEq(x(t), 200 - 200*exp(-t/2))\nEq(x(t), 200 - 200*exp(-t/2))\nEq(x(t), 200 - 200*exp(-t/2))\nEq(x(t), 200 - 200*exp(-t/2))\nEq(x(t), 200 - 200*exp(-t/2))\nEq(x(t), 200 - 200*exp(-t/2))\nEq(x(t), 200 - 200*exp(-t/2))\nEq(x(t), 200 - 200*exp(-t/2))\nEq(x(t), 200 - 200*exp(-t/2))\nEq(x(t), 200 - 200*exp(-t/2))\nEq(x(t), 200 - 200*exp(-t/2))\nEq(x(t), 200 - 200*exp(-t/2))\nEq(x(t), 200 - 200*exp(-t/2))\nEq(x(t), 200 - 200*exp(-t/2))\nEq(x(t), 200 - 200*exp(-t/2))\nEq(x(t), 200 - 200*exp(-t/2))\nEq(x(t), 200 - 200*exp(-t/2))\nEq(x(t), 200 - 200*exp(-t/2))\nEq(x(t), 200 - 200*exp(-t/2))\nEq(x(t), 200 - 200*exp(-t/2))\nEq(x(t), 200 - 200*exp(-t/2))\nEq(x(t), 200 - 200*exp(-t/2))\nEq(x(t), 200 - 200*exp(-t/2))\nEq(x(t), 200 - 200*exp(-t/2))\nEq(x(t), 200 - 200*exp(-t/2))\nEq(x(t), 200 - 200*exp(-t/2))\nEq(x(t), 200 - 200*exp(-t/2))\nEq(x(t), 200 - 200*exp(-t/2))\nEq(x(t), 200 - 200*exp(-t/2))\nEq(x(t), 200 - 200*exp(-t/2))\nEq(x(t), 200 - 200*exp(-t/2))\nEq(x(t), 200 - 200*exp(-t/2))\nEq(x(t), 200 - 200*exp(-t/2))\nEq(x(t), 200 - 200*exp(-t/2))\nEq(x(t), 200 - 200*exp(-t/2))\nEq(x(t), 200 - 200*exp(-t/2))\nEq(x(t), 200 - 200*exp(-t/2))\nEq(x(t), 200 - 200*exp(-t/2))\nEq(x(t), 200 - 200*exp(-t/2))\nEq(x(t), 200 - 200*exp(-t/2))\nEq(x(t), 200 - 200*exp(-t/2))\nEq(x(t), 200 - 200*exp(-t/2))\nEq(x(t), 200 - 200*exp(-t/2))\nEq(x(t), 200 - 200*exp(-t/2))\nEq(x(t), 200 - 200*exp(-t/2))\nEq(x(t), 200 - 200*exp(-t/2))\nEq(x(t), 200 - 200*exp(-t/2))\nEq(x(t), 200 - 200*exp(-t/2))\nEq(x(t), 200 - 200*exp(-t/2))\nEq(x(t), 200 - 200*exp(-t/2))\nEq(x(t), 200 - 200*exp(-t/2))\nEq(x(t), 200 - 200*exp(-t/2))\nEq(x(t), 200 - 200*exp(-t/2))\nEq(x(t), 200 - 200*exp(-t/2))\nEq(x(t), 200 - 200*exp(-t/2))\nEq(x(t), 200 - 200*exp(-t/2))\nEq(x(t), 200 - 200*exp(-t/2))\nEq(x(t), 200 - 200*exp(-t/2))\nEq(x(t), 200 - 200*exp(-t/2))\nEq(x(t), 200 - 200*exp(-t/2))\nEq(x(t), 200 - 200*exp(-t/2))\nEq(x(t), 200 - 200*exp(-t/2))\nEq(x(t), 200 - 200*exp(-t/2))\nEq(x(t), 200 - 200*exp(-t/2))\nEq(x(t), 200 - 200*exp(-t/2))\nEq(x(t), 200 - 200*exp(-t/2))\nEq(x(t), 200 - 200*exp(-t/2))\nEq(x(t), 200 - 200*exp(-t/2))\nEq(x(t), 200 - 200*exp(-t/2))\nEq(x(t), 200 - 200*exp(-t/2))\nEq(x(t), 200 - 200*exp(-t/2))\nEq(x(t), 200 - 200*exp(-t/2))\nEq(x(t), 200 - 200*exp(-t/2))\nEq(x(t), 200 - 200*exp(-t/2))\nEq(x(t), 200 - 200*exp(-t/2))\nEq(x(t), 200 - 200*exp(-t/2))\nEq(x(t), 200 - 200*exp(-t/2))\nEq(x(t), 200 - 200*exp(-t/2))\nEq(x(t), 200 - 200*exp(-t/2))\nEq(x(t), 200 - 200*exp(-t/2))\nEq(x(t), 200 - 200*exp(-t/2))\nEq(x(t), 200 - 200*exp(-t/2))\nEq(x(t), 200 - 200*exp(-t/2))\nEq(x(t), 200 - 200*exp(-t/2))\nEq(x(t), 200 - 200*exp(-t/2))\nEq(x(t), 200 - 200*exp(-t/2))\nEq(x(t), 200 - 200*exp(-t/2))\nEq(x(t), 200 - 200*exp(-t/2))\nEq(x(t), 200 - 200*exp(-t/2))\nEq(x(t), 200 - 200*exp(-t/2))\nEq(x(t), 200 - 200*exp(-t/2))\nEq(x(t), 200 - 200*exp(-t/2))\nEq(x(t), 200 - 200*exp(-t/2))\nEq(x(t), 200 - 200*exp(-t/2))\nEq(x(t), 200 - 200*exp(-t/2))\nEq(x(t), 200 - 200*exp(-t/2))\nEq(x(t), 200 - 200*exp(-t/2))\nEq(x(t), 200 - 200*exp(-t/2))\nEq(x(t), 200 - 200*exp(-t/2))\nEq(x(t), 200 - 200*exp(-t/2))\nEq(x(t), 200 - 200*exp(-t/2))\nEq(x(t), 200 - 200*exp(-t/2))\nEq(x(t), 200 - 200*exp(-t/2))\nEq(x(t), 200 - 200*exp(-t/2))\nEq(x(t), 200 - 200*exp(-t/2))\nEq(x(t), 200 - 200*exp(-t/2))\nEq(x(t), 200 - 200*exp(-t/2))\nEq(x(t), 200 - 200*exp(-t/2))\nEq(x(t), 200 - 200*exp(-t/2))\nEq(x(t), 200 - 200*exp(-t/2))\nEq(x(t), 200 - 200*exp(-t/2))\nEq(x(t), 200 - 200*exp(-t/2))\nEq(x(t), 200 - 200*exp(-t/2))\nEq(x(t), 200 - 200*exp(-t/2))\nEq(x(t), 200 - 200*exp(-t/2))\nEq(x(t), 200 - 200*exp(-t/2))\nEq(x(t), 200 - 200*exp(-t/2))\nEq(x(t), 200 - 200*exp(-t/2))\nEq(x(t), 200 - 200*exp(-t/2))\nEq(x(t), 200 - 200*exp(-t/2))\nEq(x(t), 200 - 200*exp(-t/2))\nEq(x(t), 200 - 200*exp(-t/2))\nEq(x(t), 200 - 200*exp(-t/2))\nEq(x(t), 200 - 200*exp(-t/2))\nEq(x(t), 200 - 200*exp(-t/2))\nEq(x(t), 200 - 200*exp(-t/2))\nEq(x(t), 200 - 200*exp(-t/2))\nEq(x(t), 200 - 200*exp(-t/2))\nEq(x(t), 200 - 200*exp(-t/2))\nEq(x(t), 200 - 200*exp(-t/2))\nEq(x(t), 200 - 200*exp(-t/2))\nEq(x(t), 200 - 200*exp(-t/2))\nEq(x(t), 200 - 200*exp(-t/2))\nEq(x(t), 200 - 200*exp(-t/2))\nEq(x(t), 200 - 200*exp(-t/2))\nEq(x(t), 200 - 200*exp(-t/2))\nEq(x(t), 200 - 200*exp(-t/2))\nEq(x(t), 200 - 200*exp(-t/2))\nEq(x(t), 200 - 200*exp(-t/2))\nEq(x(t), 200 - 200*exp(-t/2))\nEq(x(t), 200 - 200*exp(-t/2))\nEq(x(t), 200 - 200*exp(-t/2))\nEq(x(t), 200 - 200*exp(-t/2))\nEq(x(t), 200 - 200*exp(-t/2))\nEq(x(t), 200 - 200*exp(-t/2))\nEq(x(t), 200 - 200*exp(-t/2))\nEq(x(t), 200 - 200*exp(-t/2))\nEq(x(t), 200 - 200*exp(-t/2))\nEq(x(t), 200 - 200*exp(-t/2))\nEq(x(t), 200 - 200*exp(-t/2))\nEq(x(t), 200 - 200*exp(-t/2))\nEq(x(t), 200 - 200*exp(-t/2))\nEq(x(t), 200 - 200*exp(-t/2))\nEq(x(t), 200 - 200*exp(-t/2))\nEq(x(t), 200 - 200*exp(-t/2))\nEq(x(t), 200 - 200*exp(-t/2))\nEq(x(t), 200 - 200*exp(-t/2))\nEq(x(t), 200 - 200*exp(-t/2))\nEq(x(t), 200 - 200*exp(-t/2))\nEq(x(t), 200 - 200*exp(-t/2))\nEq(x(t), 200 - 200*exp(-t/2))\nEq(x(t), 200 - 200*exp(-t/2))\nEq(x(t), 200 - 200*exp(-t/2))\nEq(x(t), 200 - 200*exp(-t/2))\nEq(x(t), 200 - 200*exp(-t/2))\nEq(x(t), 200 - 200*exp(-t/2))\nEq(x(t), 200 - 200*exp(-t/2))\nEq(x(t), 200 - 200*exp(-t/2))\nEq(x(t), 200 - 200*exp(-t/2))\nEq(x(t), 200 - 200*exp(-t/2))\nEq(x(t), 200 - 200*exp(-t/2))\nEq(x(t), 200 - 200*exp(-t/2))\nEq(x(t), 200 - 200*exp(-t/2))\nEq(x(t), 200 - 200*exp(-t/2))\nEq(x(t), 200 - 200*exp(-t/2))\nEq(x(t), 200 - 200*exp(-t/2))\nEq(x(t), 200 - 200*exp(-t/2))\nEq(x(t), 200 - 200*exp(-t/2))\nEq(x(t), 200 - 200*exp(-t/2))\nEq(x(t), 200 - 200*exp(-t/2))\nEq(x(t), 200 - 200*exp(-t/2))\nEq(x(t), 200 - 200*exp(-t/2))\nEq(x(t), 200 - 200*exp(-t/2))\nEq(x(t), 200 - 200*exp(-t/2))\nEq(x(t), 200 - 200*exp(-t/2))\nEq(x(t), 200 - 200*exp(-t/2))\nEq(x(t), 200 - 200*exp(-t/2))\nEq(x(t), 200 - 200*exp(-t/2))\nEq(x(t), 200 - 200*exp(-t/2))\nEq(x(t), 200 - 200*exp(-t/2))\nEq(x(t), 200 - 200*exp(-t/2))\nEq(x(t), 200 - 200*exp(-t/2))\nEq(x(t), 200 - 200*exp(-t/2))\nEq(x(t), 200 - 200*exp(-t/2))\nEq(x(t), 200 - 200*exp(-t/2))\nEq(x(t), 200 - 200*exp(-t/2))\nEq(x(t), 200 - 200*exp(-t/2))\nEq(x(t), 200 - 200*exp(-t/2))\nEq(x(t), 200 - 200*exp(-t/2))\nEq(x(t), 200 - 200*exp(-t/2))\nEq(x(t), 200 - 200*exp(-t/2))\nEq(x(t), 200 - 200*exp(-t/2))\nEq(x(t), 200 - 200*exp(-t/2))\nEq(x(t), 200 - 200*exp(-t/2))\nEq(x(t), 200 - 200*exp(-t/2))\nEq(x(t), 200 - 200*exp(-t/2))\nEq(x(t), 200 - 200*exp(-t/2))\nEq(x(t), 200 - 200*exp(-t/2))\nEq(x(t), 200 - 200*exp(-t/2))\nEq(x(t), 200 - 200*exp(-t/2))\nEq(x(t), 200 - 200*exp(-t/2))\nEq(x(t), 200 - 200*exp(-t/2))\nEq(x(t), 200 - 200*exp(-t/2))\nEq(x(t), 200 - 200*exp(-t/2))\nEq(x(t), 200 - 200*exp(-t/2))\nEq(x(t), 200 - 200*exp(-t/2))\nEq(x(t), 200 - 200*exp(-t/2))\nEq(x(t), 200 - 200*exp(-t/2))\nEq(x(t), 200 - 200*exp(-t/2))\nEq(x(t), 200 - 200*exp(-t/2))\nEq(x(t), 200 - 200*exp(-t/2))\nEq(x(t), 200 - 200*exp(-t/2))\nEq(x(t), 200 - 200*exp(-t/2))\nEq(x(t), 200 - 200*exp(-t/2))\nEq(x(t), 200 - 200*exp(-t/2))\nEq(x(t), 200 - 200*exp(-t/2))\nEq(x(t), 200 - 200*exp(-t/2))\nEq(x(t), 200 - 200*exp(-t/2))\nEq(x(t), 200 - 200*exp(-t/2))\nEq(x(t), 200 - 200*exp(-t/2))\nEq(x(t), 200 - 200*exp(-t/2))\nEq(x(t), 200 - 200*exp(-t/2))\nEq(x(t), 200 - 200*exp(-t/2))\nEq(x(t), 200 - 200*exp(-t/2))\nEq(x(t), 200 - 200*exp(-t/2))\nEq(x(t), 200 - 200*exp(-t/2))\nEq(x(t), 200 - 200*exp(-t/2))\nEq(x(t), 200 - 200*exp(-t/2))\nEq(x(t), 200 - 200*exp(-t/2))\nEq(x(t), 200 - 200*exp(-t/2))\nEq(x(t), 200 - 200*exp(-t/2))\nEq(x(t), 200 - 200*exp(-t/2))\nEq(x(t), 200 - 200*exp(-t/2))\nEq(x(t), 200 - 200*exp(-t/2))\nEq(x(t), 200 - 200*exp(-t/2))\nEq(x(t), 200 - 200*exp(-t/2))\nEq(x(t), 200 - 200*exp(-t/2))\nEq(x(t), 200 - 200*exp(-t/2))\nEq(x(t), 200 - 200*exp(-t/2))\nEq(x(t), 200 - 200*exp(-t/2))\nEq(x(t), 200 - 200*exp(-t/2))\nEq(x(t), 200 - 200*exp(-t/2))\nEq(x(t), 200 - 200*exp(-t/2))\nEq(x(t), 200 - 200*exp(-t/2))\nEq(x(t), 200 - 200*exp(-t/2))\nEq(x(t), 200 - 200*exp(-t/2))\nEq(x(t), 200 - 200*exp(-t/2))\nEq(x(t), 200 - 200*exp(-t/2))\nEq(x(t), 200 - 200*exp(-t/2))\nEq(x(t), 200 - 200*exp(-t/2))\nEq(x(t), 200 - 200*exp(-t/2))\nEq(x(t), 200 - 200*exp(-t/2))\nEq(x(t), 200 - 200*exp(-t/2))\nEq(x(t), 200 - 200*exp(-t/2))\nEq(x(t), 200 - 200*exp(-t/2))\nEq(x(t), 200 - 200*exp(-t/2))\nEq(x(t), 200 - 200*exp(-t/2))\nEq(x(t), 200 - 200*exp(-t/2))\nEq(x(t), 200 - 200*exp(-t/2))\nEq(x(t), 200 - 200*exp(-t/2))\nEq(x(t), 200 - 200*exp(-t/2))\nEq(x(t), 200 - 200*exp(-t/2))\nEq(x(t), 200 - 200*exp(-t/2))\nEq(x(t), 200 - 200*exp(-t/2))\nEq(x(t), 200 - 200*exp(-t/2))\nEq(x(t), 200 - 200*exp(-t/2))\nEq(x(t), 200 - 200*exp(-t/2))\nEq(x(t), 200 - 200*exp(-t/2))\nEq(x(t), 200 - 200*exp(-t/2))\nEq(x(t), 200 - 200*exp(-t/2))\nEq(x(t), 200 - 200*exp(-t/2))\nEq(x(t), 200 - 200*exp(-t/2))\nEq(x(t), 200 - 200*exp(-t/2))\nEq(x(t), 200 - 200*exp(-t/2))\nEq(x(t), 200 - 200*exp(-t/2))\nEq(x(t), 200 - 200*exp(-t/2))\nEq(x(t), 200 - 200*exp(-t/2))\nEq(x(t), 200 - 200*exp(-t/2))\nEq(x(t), 200 - 200*exp(-t/2))\nEq(x(t), 200 - 200*exp(-t/2))\nEq(x(t), 200 - 200*exp(-t/2))\nEq(x(t), 200 - 200*exp(-t/2))\nEq(x(t), 200 - 200*exp(-t/2))\nEq(x(t), 200 - 200*exp(-t/2))\nEq(x(t), 200 - 200*exp(-t/2))\nEq(x(t), 200 - 200*exp(-t/2))\nEq(x(t), 200 - 200*exp(-t/2))\nEq(x(t), 200 - 200*exp(-t/2))\nEq(x(t), 200 - 200*exp(-t/2))\nEq(x(t), 200 - 200*exp(-t/2))\nEq(x(t), 200 - 200*exp(-t/2))\nEq(x(t), 200 - 200*exp(-t/2))\nEq(x(t), 200 - 200*exp(-t/2))\nEq(x(t), 200 - 200*exp(-t/2))\nEq(x(t), 200 - 200*exp(-t/2))\nEq(x(t), 200 - 200*exp(-t/2))\nEq(x(t), 200 - 200*exp(-t/2))\nEq(x(t), 200 - 200*exp(-t/2))\nEq(x(t), 200 - 200*exp(-t/2))\nEq(x(t), 200 - 200*exp(-t/2))\nEq(x(t), 200 - 200*exp(-t/2))\nEq(x(t), 200 - 200*exp(-t/2))\nEq(x(t), 200 - 200*exp(-t/2))\nEq(x(t), 200 - 200*exp(-t/2))\nEq(x(t), 200 - 200*exp(-t/2))\nEq(x(t), 200 - 200*exp(-t/2))\nEq(x(t), 200 - 200*exp(-t/2))\nEq(x(t), 200 - 200*exp(-t/2))\nEq(x(t), 200 - 200*exp(-t/2))\nEq(x(t), 200 - 200*exp(-t/2))\nEq(x(t), 200 - 200*exp(-t/2))\nEq(x(t), 200 - 200*exp(-t/2))\nEq(x(t), 200 - 200*exp(-t/2))\nEq(x(t), 200 - 200*exp(-t/2))\nEq(x(t), 200 - 200*exp(-t/2))\nEq(x(t), 200 - 200*exp(-t/2))\nEq(x(t), 200 - 200*exp(-t/2))\nEq(x(t), 200 - 200*exp(-t/2))\nEq(x(t), 200 - 200*exp(-t/2))\nEq(x(t), 200 - 200*exp(-t/2))\nEq(x(t), 200 - 200*exp(-t/2))\nEq(x(t), 200 - 200*exp(-t/2))\nEq(x(t), 200 - 200*exp(-t/2))\nEq(x(t), 200 - 200*exp(-t/2))\nEq(x(t), 200 - 200*exp(-t/2))\nEq(x(t), 200 - 200*exp(-t/2))\nEq(x(t), 200 - 200*exp(-t/2))\nEq(x(t), 200 - 200*exp(-t/2))\nEq(x(t), 200 - 200*exp(-t/2))\nEq(x(t), 200 - 200*exp(-t/2))\nEq(x(t), 200 - 200*exp(-t/2))\nEq(x(t), 200 - 200*exp(-t/2))\nEq(x(t), 200 - 200*exp(-t/2))\nEq(x(t), 200 - 200*exp(-t/2))\nEq(x(t), 200 - 200*exp(-t/2))\nEq(x(t), 200 - 200*exp(-t/2))\nEq(x(t), 200 - 200*exp(-t/2))\nEq(x(t), 200 - 200*exp(-t/2))\nEq(x(t), 200 - 200*exp(-t/2))\nEq(x(t), 200 - 200*exp(-t/2))\nEq(x(t), 200 - 200*exp(-t/2))\nEq(x(t), 200 - 200*exp(-t/2))\nEq(x(t), 200 - 200*exp(-t/2))\nEq(x(t), 200 - 200*exp(-t/2))\nEq(x(t), 200 - 200*exp(-t/2))\nEq(x(t), 200 - 200*exp(-t/2))\nEq(x(t), 200 - 200*exp(-t/2))\nEq(x(t), 200 - 200*exp(-t/2))\nEq(x(t), 200 - 200*exp(-t/2))\nEq(x(t), 200 - 200*exp(-t/2))\nEq(x(t), 200 - 200*exp(-t/2))\nEq(x(t), 200 - 200*exp(-t/2))\nEq(x(t), 200 - 200*exp(-t/2))\nEq(x(t), 200 - 200*exp(-t/2))\nEq(x(t), 200 - 200*exp(-t/2))\nEq(x(t), 200 - 200*exp(-t/2))\nEq(x(t), 200 - 200*exp(-t/2))\nEq(x(t), 200 - 200*exp(-t/2))\nEq(x(t), 200 - 200*exp(-t/2))\nEq(x(t), 200 - 200*exp(-t/2))\nEq(x(t), 200 - 200*exp(-t/2))\nEq(x(t), 200 - 200*exp(-t/2))\nEq(x(t), 200 - 200*exp(-t/2))\nEq(x(t), 200 - 200*exp(-t/2))\nEq(x(t), 200 - 200*exp(-t/2))\nEq(x(t), 200 - 200*exp(-t/2))\nEq(x(t), 200 - 200*exp(-t/2))\nEq(x(t), 200 - 200*exp(-t/2))\nEq(x(t), 200 - 200*exp(-t/2))\nEq(x(t), 200 - 200*exp(-t/2))\nEq(x(t), 200 - 200*exp(-t/2))\nEq(x(t), 200 - 200*exp(-t/2))\nEq(x(t), 200 - 200*exp(-t/2))\nEq(x(t), 200 - 200*exp(-t/2))\nEq(x(t), 200 - 200*exp(-t/2))\nEq(x(t), 200 - 200*exp(-t/2))\nEq(x(t), 200 - 200*exp(-t/2))\nEq(x(t), 200 - 200*exp(-t/2))\nEq(x(t), 200 - 200*exp(-t/2))\nEq(x(t), 200 - 200*exp(-t/2))\nEq(x(t), 200 - 200*exp(-t/2))\nEq(x(t), 200 - 200*exp(-t/2))\nEq(x(t), 200 - 200*exp(-t/2))\nEq(x(t), 200 - 200*exp(-t/2))\nEq(x(t), 200 - 200*exp(-t/2))\nEq(x(t), 200 - 200*exp(-t/2))\nEq(x(t), 200 - 200*exp(-t/2))\nEq(x(t), 200 - 200*exp(-t/2))\nEq(x(t), 200 - 200*exp(-t/2))\nEq(x(t), 200 - 200*exp(-t/2))\nEq(x(t), 200 - 200*exp(-t/2))\nEq(x(t), 200 - 200*exp(-t/2))\nEq(x(t), 200 - 200*exp(-t/2))\nEq(x(t), 200 - 200*exp(-t/2))\nEq(x(t), 200 - 200*exp(-t/2))\nEq(x(t), 200 - 200*exp(-t/2))\nEq(x(t), 200 - 200*exp(-t/2))\nEq(x(t), 200 - 200*exp(-t/2))\nEq(x(t), 200 - 200*exp(-t/2))\nEq(x(t), 200 - 200*exp(-t/2))\nEq(x(t), 200 - 200*exp(-t/2))\nEq(x(t), 200 - 200*exp(-t/2))\nEq(x(t), 200 - 200*exp(-t/2))\nEq(x(t), 200 - 200*exp(-t/2))\nEq(x(t), 200 - 200*exp(-t/2))\nEq(x(t), 200 - 200*exp(-t/2))\nEq(x(t), 200 - 200*exp(-t/2))\nEq(x(t), 200 - 200*exp(-t/2))\nEq(x(t), 200 - 200*exp(-t/2))\nEq(x(t), 200 - 200*exp(-t/2))\nEq(x(t), 200 - 200*exp(-t/2))\nEq(x(t), 200 - 200*exp(-t/2))\nEq(x(t), 200 - 200*exp(-t/2))\nEq(x(t), 200 - 200*exp(-t/2))\nEq(x(t), 200 - 200*exp(-t/2))\nEq(x(t), 200 - 200*exp(-t/2))\nEq(x(t), 200 - 200*exp(-t/2))\nEq(x(t), 200 - 200*exp(-t/2))\nEq(x(t), 200 - 200*exp(-t/2))\nEq(x(t), 200 - 200*exp(-t/2))\nEq(x(t), 200 - 200*exp(-t/2))\nEq(x(t), 200 - 200*exp(-t/2))\nEq(x(t), 200 - 200*exp(-t/2))\nEq(x(t), 200 - 200*exp(-t/2))\nEq(x(t), 200 - 200*exp(-t/2))\nEq(x(t), 200 - 200*exp(-t/2))\nEq(x(t), 200 - 200*exp(-t/2))\nEq(x(t), 200 - 200*exp(-t/2))\nEq(x(t), 200 - 200*exp(-t/2))\nEq(x(t), 200 - 200*exp(-t/2))\nEq(x(t), 200 - 200*exp(-t/2))\nEq(x(t), 200 - 200*exp(-t/2))\nEq(x(t), 200 - 200*exp(-t/2))\nEq(x(t), 200 - 200*exp(-t/2))\nEq(x(t), 200 - 200*exp(-t/2))\nEq(x(t), 200 - 200*exp(-t/2))\nEq(x(t), 200 - 200*exp(-t/2))\nEq(x(t), 200 - 200*exp(-t/2))\nEq(x(t), 200 - 200*exp(-t/2))\nEq(x(t), 200 - 200*exp(-t/2))\nEq(x(t), 200 - 200*exp(-t/2))\nEq(x(t), 200 - 200*exp(-t/2))\nEq(x(t), 200 - 200*exp(-t/2))\nEq(x(t), 200 - 200*exp(-t/2))\nEq(x(t), 200 - 200*exp(-t/2))\nEq(x(t), 200 - 200*exp(-t/2))\nEq(x(t), 200 - 200*exp(-t/2))\nEq(x(t), 200 - 200*exp(-t/2))\nEq(x(t), 200 - 200*exp(-t/2))\nEq(x(t), 200 - 200*exp(-t/2))\nEq(x(t), 200 - 200*exp(-t/2))\nEq(x(t), 200 - 200*exp(-t/2))\nEq(x(t), 200 - 200*exp(-t/2))\nEq(x(t), 200 - 200*exp(-t/2))\nEq(x(t), 200 - 200*exp(-t/2))\nEq(x(t), 200 - 200*exp(-t/2))\nEq(x(t), 200 - 200*exp(-t/2))\nEq(x(t), 200 - 200*exp(-t/2))\nEq(x(t), 200 - 200*exp(-t/2))\nEq(x(t), 200 - 200*exp(-t/2))\nEq(x(t), 200 - 200*exp(-t/2))\nEq(x(t), 200 - 200*exp(-t/2))\nEq(x(t), 200 - 200*exp(-t/2))\nEq(x(t), 200 - 200*exp(-t/2))\nEq(x(t), 200 - 200*exp(-t/2))\nEq(x(t), 200 - 200*exp(-t/2))\nEq(x(t), 200 - 200*exp(-t/2))\nEq(x(t), 200 - 200*exp(-t/2))\nEq(x(t), 200 - 200*exp(-t/2))\nEq(x(t), 200 - 200*exp(-t/2))\nEq(x(t), 200 - 200*exp(-t/2))\nEq(x(t), 200 - 200*exp(-t/2))\nEq(x(t), 200 - 200*exp(-t/2))\nEq(x(t), 200 - 200*exp(-t/2))\nEq(x(t), 200 - 200*exp(-t/2))\nEq(x(t), 200 - 200*exp(-t/2))\nEq(x(t), 200 - 200*exp(-t/2))\nEq(x(t), 200 - 200*exp(-t/2))\nEq(x(t), 200 - 200*exp(-t/2))\nEq(x(t), 200 - 200*exp(-t/2))\nEq(x(t), 200 - 200*exp(-t/2))\nEq(x(t), 200 - 200*exp(-t/2))\nEq(x(t), 200 - 200*exp(-t/2))\nEq(x(t), 200 - 200*exp(-t/2))\nEq(x(t), 200 - 200*exp(-t/2))\nEq(x(t), 200 - 200*exp(-t/2))\nEq(x(t), 200 - 200*exp(-t/2))\nEq(x(t), 200 - 200*exp(-t/2))\nEq(x(t), 200 - 200*exp(-t/2))\nEq(x(t), 200 - 200*exp(-t/2))\nEq(x(t), 200 - 200*exp(-t/2))\nEq(x(t), 200 - 200*exp(-t/2))\nEq(x(t), 200 - 200*exp(-t/2))\nEq(x(t), 200 - 200*exp(-t/2))\nEq(x(t), 200 - 200*exp(-t/2))\nEq(x(t), 200 - 200*exp(-t/2))\nEq(x(t), 200 - 200*exp(-t/2))\nEq(x(t), 200 - 200*exp(-t/2))\nEq(x(t), 200 - 200*exp(-t/2))\nEq(x(t), 200 - 200*exp(-t/2))\nEq(x(t), 200 - 200*exp(-t/2))\nEq(x(t), 200 - 200*exp(-t/2))\nEq(x(t), 200 - 200*exp(-t/2))\nEq(x(t), 200 - 200*exp(-t/2))\nEq(x(t), 200 - 200*exp(-t/2))\nEq(x(t), 200 - 200*exp(-t/2))\nEq(x(t), 200 - 200*exp(-t/2))\nEq(x(t), 200 - 200*exp(-t/2))\nEq(x(t), 200 - 200*exp(-t/2))\nEq(x(t), 200 - 200*exp(-t/2))\nEq(x(t), 200 - 200*exp(-t/2))\nEq(x(t), 200 - 200*exp(-t/2))\nEq(x(t), 200 - 200*exp(-t/2))\nEq(x(t), 200 - 200*exp(-t/2))\nEq(x(t), 200 - 200*exp(-t/2))\nEq(x(t), 200 - 200*exp(-t/2))\nEq(x(t), 200 - 200*exp(-t/2))\nEq(x(t), 200 - 200*exp(-t/2))\nEq(x(t), 200 - 200*exp(-t/2))\nEq(x(t), 200 - 200*exp(-t/2))\nEq(x(t), 200 - 200*exp(-t/2))\nEq(x(t), 200 - 200*exp(-t/2))\nEq(x(t), 200 - 200*exp(-t/2))\nEq(x(t), 200 - 200*exp(-t/2))\nEq(x(t), 200 - 200*exp(-t/2))\nEq(x(t), 200 - 200*exp(-t/2))\nEq(x(t), 200 - 200*exp(-t/2))\nEq(x(t), 200 - 200*exp(-t/2))\nEq(x(t), 200 - 200*exp(-t/2))\nEq(x(t), 200 - 200*exp(-t/2))\nEq(x(t), 200 - 200*exp(-t/2))\nEq(x(t), 200 - 200*exp(-t/2))\nEq(x(t), 200 - 200*exp(-t/2))\nEq(x(t), 200 - 200*exp(-t/2))\nEq(x(t), 200 - 200*exp(-t/2))\nEq(x(t), 200 - 200*exp(-t/2))\nEq(x(t), 200 - 200*exp(-t/2))\nEq(x(t), 200 - 200*exp(-t/2))\nEq(x(t), 200 - 200*exp(-t/2))\nEq(x(t), 200 - 200*exp(-t/2))\nEq(x(t), 200 - 200*exp(-t/2))\nEq(x(t), 200 - 200*exp(-t/2))\nEq(x(t), 200 - 200*exp(-t/2))\nEq(x(t), 200 - 200*exp(-t/2))\nEq(x(t), 200 - 200*exp(-t/2))\nEq(x(t), 200 - 200*exp(-t/2))\nEq(x(t), 200 - 200*exp(-t/2))\nEq(x(t), 200 - 200*exp(-t/2))\nEq(x(t), 200 - 200*exp(-t/2))\nEq(x(t), 200 - 200*exp(-t/2))\nEq(x(t), 200 - 200*exp(-t/2))\nEq(x(t), 200 - 200*exp(-t/2))\nEq(x(t), 200 - 200*exp(-t/2))\nEq(x(t), 200 - 200*exp(-t/2))\nEq(x(t), 200 - 200*exp(-t/2))\nEq(x(t), 200 - 200*exp(-t/2))\nEq(x(t), 200 - 200*exp(-t/2))\nEq(x(t), 200 - 200*exp(-t/2))\nEq(x(t), 200 - 200*exp(-t/2))\nEq(x(t), 200 - 200*exp(-t/2))\nEq(x(t), 200 - 200*exp(-t/2))\nEq(x(t), 200 - 200*exp(-t/2))\nEq(x(t), 200 - 200*exp(-t/2))\nEq(x(t), 200 - 200*exp(-t/2))\nEq(x(t), 200 - 200*exp(-t/2))\nEq(x(t), 200 - 200*exp(-t/2))\nEq(x(t), 200 - 200*exp(-t/2))\nEq(x(t), 200 - 200*exp(-t/2))\nEq(x(t), 200 - 200*exp(-t/2))\nEq(x(t), 200 - 200*exp(-t/2))\nEq(x(t), 200 - 200*exp(-t/2))\nEq(x(t), 200 - 200*exp(-t/2))\nEq(x(t), 200 - 200*exp(-t/2))\nEq(x(t), 200 - 200*exp(-t/2))\nEq(x(t), 200 - 200*exp(-t/2))\nEq(x(t), 200 - 200*exp(-t/2))\nEq(x(t), 200 - 200*exp(-t/2))\nEq(x(t), 200 - 200*exp(-t/2))\nEq(x(t), 200 - 200*exp(-t/2))\nEq(x(t), 200 - 200*exp(-t/2))\nEq(x(t), 200 - 200*exp(-t/2))\nEq(x(t), 200 - 200*exp(-t/2))\nEq(x(t), 200 - 200*exp(-t/2))\nEq(x(t), 200 - 200*exp(-t/2))\nEq(x(t), 200 - 200*exp(-t/2))\nEq(x(t), 200 - 200*exp(-t/2))\nEq(x(t), 200 - 200*exp(-t/2))\nEq(x(t), 200 - 200*exp(-t/2))\nEq(x(t), 200 - 200*exp(-t/2))\nEq(x(t), 200 - 200*exp(-t/2))\nEq(x(t), 200 - 200*exp(-t/2))\nEq(x(t), 200 - 200*exp(-t/2))\nEq(x(t), 200 - 200*exp(-t/2))\nEq(x(t), 200 - 200*exp(-t/2))\nEq(x(t), 200 - 200*exp(-t/2))\nEq(x(t), 200 - 200*exp(-t/2))\nEq(x(t), 200 - 200*exp(-t/2))\nEq(x(t), 200 - 200*exp(-t/2))\nEq(x(t), 200 - 200*exp(-t/2))\nEq(x(t), 200 - 200*exp(-t/2))\nEq(x(t), 200 - 200*exp(-t/2))\nEq(x(t), 200 - 200*exp(-t/2))\nEq(x(t), 200 - 200*exp(-t/2))\nEq(x(t), 200 - 200*exp(-t/2))\nEq(x(t), 200 - 200*exp(-t/2))\nEq(x(t), 200 - 200*exp(-t/2))\nEq(x(t), 200 - 200*exp(-t/2))\nEq(x(t), 200 - 200*exp(-t/2))\nEq(x(t), 200 - 200*exp(-t/2))\nEq(x(t), 200 - 200*exp(-t/2))\nEq(x(t), 200 - 200*exp(-t/2))\nEq(x(t), 200 - 200*exp(-t/2))\nEq(x(t), 200 - 200*exp(-t/2))\nEq(x(t), 200 - 200*exp(-t/2))\nEq(x(t), 200 - 200*exp(-t/2))\nEq(x(t), 200 - 200*exp(-t/2))\nEq(x(t), 200 - 200*exp(-t/2))\nEq(x(t), 200 - 200*exp(-t/2))\nEq(x(t), 200 - 200*exp(-t/2))\nEq(x(t), 200 - 200*exp(-t/2))\nEq(x(t), 200 - 200*exp(-t/2))\nEq(x(t), 200 - 200*exp(-t/2))\nEq(x(t), 200 - 200*exp(-t/2))\nEq(x(t), 200 - 200*exp(-t/2))\nEq(x(t), 200 - 200*exp(-t/2))\nEq(x(t), 200 - 200*exp(-t/2))\nEq(x(t), 200 - 200*exp(-t/2))\nEq(x(t), 200 - 200*exp(-t/2))\nEq(x(t), 200 - 200*exp(-t/2))\nEq(x(t), 200 - 200*exp(-t/2))\nEq(x(t), 200 - 200*exp(-t/2))\nEq(x(t), 200 - 200*exp(-t/2))\nEq(x(t), 200 - 200*exp(-t/2))\nEq(x(t), 200 - 200*exp(-t/2))\nEq(x(t), 200 - 200*exp(-t/2))\nEq(x(t), 200 - 200*exp(-t/2))\nEq(x(t), 200 - 200*exp(-t/2))\nEq(x(t), 200 - 200*exp(-t/2))\nEq(x(t), 200 - 200*exp(-t/2))\nEq(x(t), 200 - 200*exp(-t/2))\nEq(x(t), 200 - 200*exp(-t/2))\nEq(x(t), 200 - 200*exp(-t/2))\nEq(x(t), 200 - 200*exp(-t/2))\nEq(x(t), 200 - 200*exp(-t/2))\nEq(x(t), 200 - 200*exp(-t/2))\nEq(x(t), 200 - 200*exp(-t/2))\nEq(x(t), 200 - 200*exp(-t/2))\nEq(x(t), 200 - 200*exp(-t/2))\nEq(x(t), 200 - 200*exp(-t/2))\nEq(x(t), 200 - 200*exp(-t/2))\nEq(x(t), 200 - 200*exp(-t/2))\nEq(x(t), 200 - 200*exp(-t/2))\nEq(x(t), 200 - 200*exp(-t/2))\nEq(x(t), 200 - 200*exp(-t/2))\nEq(x(t), 200 - 200*exp(-t/2))\nEq(x(t), 200 - 200*exp(-t/2))\nEq(x(t), 200 - 200*exp(-t/2))\nEq(x(t), 200 - 200*exp(-t/2))\nEq(x(t), 200 - 200*exp(-t/2))\nEq(x(t), 200 - 200*exp(-t/2))\nEq(x(t), 200 - 200*exp(-t/2))\nEq(x(t), 200 - 200*exp(-t/2))\nEq(x(t), 200 - 200*exp(-t/2))\nEq(x(t), 200 - 200*exp(-t/2))\nEq(x(t), 200 - 200*exp(-t/2))\nEq(x(t), 200 - 200*exp(-t/2))\nEq(x(t), 200 - 200*exp(-t/2))\nEq(x(t), 200 - 200*exp(-t/2))\nEq(x(t), 200 - 200*exp(-t/2))\nEq(x(t), 200 - 200*exp(-t/2))\nEq(x(t), 200 - 200*exp(-t/2))\nEq(x(t), 200 - 200*exp(-t/2))\nEq(x(t), 200 - 200*exp(-t/2))\nEq(x(t), 200 - 200*exp(-t/2))\nEq(x(t), 200 - 200*exp(-t/2))\nEq(x(t), 200 - 200*exp(-t/2))\nEq(x(t), 200 - 200*exp(-t/2))\nEq(x(t), 200 - 200*exp(-t/2))\nEq(x(t), 200 - 200*exp(-t/2))\nEq(x(t), 200 - 200*exp(-t/2))\nEq(x(t), 200 - 200*exp(-t/2))\nEq(x(t), 200 - 200*exp(-t/2))\nEq(x(t), 200 - 200*exp(-t/2))\nEq(x(t), 200 - 200*exp(-t/2))\nEq(x(t), 200 - 200*exp(-t/2))\nEq(x(t), 200 - 200*exp(-t/2))\nEq(x(t), 200 - 200*exp(-t/2))\nEq(x(t), 200 - 200*exp(-t/2))\nEq(x(t), 200 - 200*exp(-t/2))\nEq(x(t), 200 - 200*exp(-t/2))\nEq(x(t), 200 - 200*exp(-t/2))\nEq(x(t), 200 - 200*exp(-t/2))\nEq(x(t), 200 - 200*exp(-t/2))\nEq(x(t), 200 - 200*exp(-t/2))\nEq(x(t), 200 - 200*exp(-t/2))\nEq(x(t), 200 - 200*exp(-t/2))\nEq(x(t), 200 - 200*exp(-t/2))\nEq(x(t), 200 - 200*exp(-t/2))\nEq(x(t), 200 - 200*exp(-t/2))\nEq(x(t), 200 - 200*exp(-t/2))\nEq(x(t), 200 - 200*exp(-t/2))\nEq(x(t), 200 - 200*exp(-t/2))\nEq(x(t), 200 - 200*exp(-t/2))\nEq(x(t), 200 - 200*exp(-t/2))\nEq(x(t), 200 - 200*exp(-t/2))\nEq(x(t), 200 - 200*exp(-t/2))\nEq(x(t), 200 - 200*exp(-t/2))\nEq(x(t), 200 - 200*exp(-t/2))\nEq(x(t), 200 - 200*exp(-t/2))\nEq(x(t), 200 - 200*exp(-t/2))\nEq(x(t), 200 - 200*exp(-t/2))\nEq(x(t), 200 - 200*exp(-t/2))\nEq(x(t), 200 - 200*exp(-t/2))\nEq(x(t), 200 - 200*exp(-t/2))\nEq(x(t), 200 - 200*exp(-t/2))\nEq(x(t), 200 - 200*exp(-t/2))\nEq(x(t), 200 - 200*exp(-t/2))\nEq(x(t), 200 - 200*exp(-t/2))\nEq(x(t), 200 - 200*exp(-t/2))\nEq(x(t), 200 - 200*exp(-t/2))\nEq(x(t), 200 - 200*exp(-t/2))\nEq(x(t), 200 - 200*exp(-t/2))\nEq(x(t), 200 - 200*exp(-t/2))\nEq(x(t), 200 - 200*exp(-t/2))\nEq(x(t), 200 - 200*exp(-t/2))\nEq(x(t), 200 - 200*exp(-t/2))\nEq(x(t), 200 - 200*exp(-t/2))\nEq(x(t), 200 - 200*exp(-t/2))\nEq(x(t), 200 - 200*exp(-t/2))\nEq(x(t), 200 - 200*exp(-t/2))\nEq(x(t), 200 - 200*exp(-t/2))\nEq(x(t), 200 - 200*exp(-t/2))\nEq(x(t), 200 - 200*exp(-t/2))\nEq(x(t), 200 - 200*exp(-t/2))\nEq(x(t), 200 - 200*exp(-t/2))\nEq(x(t), 200 - 200*exp(-t/2))\nEq(x(t), 200 - 200*exp(-t/2))\nEq(x(t), 200 - 200*exp(-t/2))\nEq(x(t), 200 - 200*exp(-t/2))\nEq(x(t), 200 - 200*exp(-t/2))\nEq(x(t), 200 - 200*exp(-t/2))\nEq(x(t), 200 - 200*exp(-t/2))\nEq(x(t), 200 - 200*exp(-t/2))\nEq(x(t), 200 - 200*exp(-t/2))\nEq(x(t), 200 - 200*exp(-t/2))\nEq(x(t), 200 - 200*exp(-t/2))\nEq(x(t), 200 - 200*exp(-t/2))\nEq(x(t), 200 - 200*exp(-t/2))\nEq(x(t), 200 - 200*exp(-t/2))\nEq(x(t), 200 - 200*exp(-t/2))\nEq(x(t), 200 - 200*exp(-t/2))\nEq(x(t), 200 - 200*exp(-t/2))\nEq(x(t), 200 - 200*exp(-t/2))\nEq(x(t), 200 - 200*exp(-t/2))\nEq(x(t), 200 - 200*exp(-t/2))\nEq(x(t), 200 - 200*exp(-t/2))\nEq(x(t), 200 - 200*exp(-t/2))\nEq(x(t), 200 - 200*exp(-t/2))\nEq(x(t), 200 - 200*exp(-t/2))\nEq(x(t), 200 - 200*exp(-t/2))\nEq(x(t), 200 - 200*exp(-t/2))\nEq(x(t), 200 - 200*exp(-t/2))\nEq(x(t), 200 - 200*exp(-t/2))\nEq(x(t), 200 - 200*exp(-t/2))\nEq(x(t), 200 - 200*exp(-t/2))\nEq(x(t), 200 - 200*exp(-t/2))\nEq(x(t), 200 - 200*exp(-t/2))\nEq(x(t), 200 - 200*exp(-t/2))\nEq(x(t), 200 - 200*exp(-t/2))\nEq(x(t), 200 - 200*exp(-t/2))\nEq(x(t), 200 - 200*exp(-t/2))\nEq(x(t), 200 - 200*exp(-t/2))\nEq(x(t), 200 - 200*exp(-t/2))\nEq(x(t), 200 - 200*exp(-t/2))\nEq(x(t), 200 - 200*exp(-t/2))\nEq(x(t), 200 - 200*exp(-t/2))\nEq(x(t), 200 - 200*exp(-t/2))\nEq(x(t), 200 - 200*exp(-t/2))\nEq(x(t), 200 - 200*exp(-t/2))\nEq(x(t), 200 - 200*exp(-t/2))\nEq(x(t), 200 - 200*exp(-t/2))\nEq(x(t), 200 - 200*exp(-t/2))\nEq(x(t), 200 - 200*exp(-t/2))\nEq(x(t), 200 - 200*exp(-t/2))\nEq(x(t), 200 - 200*exp(-t/2))\nEq(x(t), 200 - 200*exp(-t/2))\nEq(x(t), 200 - 200*exp(-t/2))\nEq(x(t), 200 - 200*exp(-t/2))\nEq(x(t), 200 - 200*exp(-t/2))\nEq(x(t), 200 - 200*exp(-t/2))\nEq(x(t), 200 - 200*exp(-t/2))\nEq(x(t), 200 - 200*exp(-t/2))\nEq(x(t), 200 - 200*exp(-t/2))\nEq(x(t), 200 - 200*exp(-t/2))\nEq(x(t), 200 - 200*exp(-t/2))\nEq(x(t), 200 - 200*exp(-t/2))\nEq(x(t), 200 - 200*exp(-t/2))\nEq(x(t), 200 - 200*exp(-t/2))\nEq(x(t), 200 - 200*exp(-t/2))\nEq(x(t), 200 - 200*exp(-t/2))\nEq(x(t), 200 - 200*exp(-t/2))\nEq(x(t), 200 - 200*exp(-t/2))\nEq(x(t), 200 - 200*exp(-t/2))\nEq(x(t), 200 - 200*exp(-t/2))\nEq(x(t), 200 - 200*exp(-t/2))\nEq(x(t), 200 - 200*exp(-t/2))\nEq(x(t), 200 - 200*exp(-t/2))\nEq(x(t), 200 - 200*exp(-t/2))\nEq(x(t), 200 - 200*exp(-t/2))\nEq(x(t), 200 - 200*exp(-t/2))\nEq(x(t), 200 - 200*exp(-t/2))\nEq(x(t), 200 - 200*exp(-t/2))\nEq(x(t), 200 - 200*exp(-t/2))\nEq(x(t), 200 - 200*exp(-t/2))\nEq(x(t), 200 - 200*exp(-t/2))\nEq(x(t), 200 - 200*exp(-t/2))\nEq(x(t), 200 - 200*exp(-t/2))\nEq(x(t), 200 - 200*exp(-t/2))\nEq(x(t), 200 - 200*exp(-t/2))\nEq(x(t), 200 - 200*exp(-t/2))\nEq(x(t), 200 - 200*exp(-t/2))\nEq(x(t), 200 - 200*exp(-t/2))\nEq(x(t), 200 - 200*exp(-t/2))\nEq(x(t), 200 - 200*exp(-t/2))\nEq(x(t), 200 - 200*exp(-t/2))\nEq(x(t), 200 - 200*exp(-t/2))\nEq(x(t), 200 - 200*exp(-t/2))\nEq(x(t), 200 - 200*exp(-t/2))\nEq(x(t), 200 - 200*exp(-t/2))\nEq(x(t), 200 - 200*exp(-t/2))\nEq(x(t), 200 - 200*exp(-t/2))\nEq(x(t), 200 - 200*exp(-t/2))\nEq(x(t), 200 - 200*exp(-t/2))\nEq(x(t), 200 - 200*exp(-t/2))\nEq(x(t), 200 - 200*exp(-t/2))\nEq(x(t), 200 - 200*exp(-t/2))\nEq(x(t), 200 - 200*exp(-t/2))\nEq(x(t), 200 - 200*exp(-t/2))\nEq(x(t), 200 - 200*exp(-t/2))\nEq(x(t), 200 - 200*exp(-t/2))\nEq(x(t), 200 - 200*exp(-t/2))\nEq(x(t), 200 - 200*exp(-t/2))\n"
        },
        {
         "name": "stdout",
         "output_type": "stream",
         "text": "Eq(x(t), 200 - 200*exp(-t/2))\nEq(x(t), 200 - 200*exp(-t/2))\nEq(x(t), 200 - 200*exp(-t/2))\nEq(x(t), 200 - 200*exp(-t/2))\nEq(x(t), 200 - 200*exp(-t/2))\nEq(x(t), 200 - 200*exp(-t/2))\nEq(x(t), 200 - 200*exp(-t/2))\nEq(x(t), 200 - 200*exp(-t/2))\nEq(x(t), 200 - 200*exp(-t/2))\nEq(x(t), 200 - 200*exp(-t/2))\nEq(x(t), 200 - 200*exp(-t/2))\nEq(x(t), 200 - 200*exp(-t/2))\nEq(x(t), 200 - 200*exp(-t/2))\nEq(x(t), 200 - 200*exp(-t/2))\nEq(x(t), 200 - 200*exp(-t/2))\nEq(x(t), 200 - 200*exp(-t/2))\nEq(x(t), 200 - 200*exp(-t/2))\nEq(x(t), 200 - 200*exp(-t/2))\nEq(x(t), 200 - 200*exp(-t/2))\nEq(x(t), 200 - 200*exp(-t/2))\nEq(x(t), 200 - 200*exp(-t/2))\nEq(x(t), 200 - 200*exp(-t/2))\nEq(x(t), 200 - 200*exp(-t/2))\nEq(x(t), 200 - 200*exp(-t/2))\nEq(x(t), 200 - 200*exp(-t/2))\nEq(x(t), 200 - 200*exp(-t/2))\nEq(x(t), 200 - 200*exp(-t/2))\nEq(x(t), 200 - 200*exp(-t/2))\nEq(x(t), 200 - 200*exp(-t/2))\nEq(x(t), 200 - 200*exp(-t/2))\nEq(x(t), 200 - 200*exp(-t/2))\nEq(x(t), 200 - 200*exp(-t/2))\nEq(x(t), 200 - 200*exp(-t/2))\nEq(x(t), 200 - 200*exp(-t/2))\nEq(x(t), 200 - 200*exp(-t/2))\nEq(x(t), 200 - 200*exp(-t/2))\nEq(x(t), 200 - 200*exp(-t/2))\nEq(x(t), 200 - 200*exp(-t/2))\nEq(x(t), 200 - 200*exp(-t/2))\nEq(x(t), 200 - 200*exp(-t/2))\nEq(x(t), 200 - 200*exp(-t/2))\nEq(x(t), 200 - 200*exp(-t/2))\nEq(x(t), 200 - 200*exp(-t/2))\nEq(x(t), 200 - 200*exp(-t/2))\nEq(x(t), 200 - 200*exp(-t/2))\nEq(x(t), 200 - 200*exp(-t/2))\nEq(x(t), 200 - 200*exp(-t/2))\nEq(x(t), 200 - 200*exp(-t/2))\nEq(x(t), 200 - 200*exp(-t/2))\nEq(x(t), 200 - 200*exp(-t/2))\nEq(x(t), 200 - 200*exp(-t/2))\nEq(x(t), 200 - 200*exp(-t/2))\nEq(x(t), 200 - 200*exp(-t/2))\nEq(x(t), 200 - 200*exp(-t/2))\nEq(x(t), 200 - 200*exp(-t/2))\nEq(x(t), 200 - 200*exp(-t/2))\nEq(x(t), 200 - 200*exp(-t/2))\nEq(x(t), 200 - 200*exp(-t/2))\nEq(x(t), 200 - 200*exp(-t/2))\nEq(x(t), 200 - 200*exp(-t/2))\nEq(x(t), 200 - 200*exp(-t/2))\nEq(x(t), 200 - 200*exp(-t/2))\nEq(x(t), 200 - 200*exp(-t/2))\nEq(x(t), 200 - 200*exp(-t/2))\nEq(x(t), 200 - 200*exp(-t/2))\nEq(x(t), 200 - 200*exp(-t/2))\nEq(x(t), 200 - 200*exp(-t/2))\nEq(x(t), 200 - 200*exp(-t/2))\nEq(x(t), 200 - 200*exp(-t/2))\nEq(x(t), 200 - 200*exp(-t/2))\nEq(x(t), 200 - 200*exp(-t/2))\nEq(x(t), 200 - 200*exp(-t/2))\nEq(x(t), 200 - 200*exp(-t/2))\nEq(x(t), 200 - 200*exp(-t/2))\nEq(x(t), 200 - 200*exp(-t/2))\nEq(x(t), 200 - 200*exp(-t/2))\nEq(x(t), 200 - 200*exp(-t/2))\nEq(x(t), 200 - 200*exp(-t/2))\nEq(x(t), 200 - 200*exp(-t/2))\nEq(x(t), 200 - 200*exp(-t/2))\nEq(x(t), 200 - 200*exp(-t/2))\nEq(x(t), 200 - 200*exp(-t/2))\nEq(x(t), 200 - 200*exp(-t/2))\nEq(x(t), 200 - 200*exp(-t/2))\nEq(x(t), 200 - 200*exp(-t/2))\nEq(x(t), 200 - 200*exp(-t/2))\nEq(x(t), 200 - 200*exp(-t/2))\nEq(x(t), 200 - 200*exp(-t/2))\nEq(x(t), 200 - 200*exp(-t/2))\nEq(x(t), 200 - 200*exp(-t/2))\nEq(x(t), 200 - 200*exp(-t/2))\nEq(x(t), 200 - 200*exp(-t/2))\nEq(x(t), 200 - 200*exp(-t/2))\nEq(x(t), 200 - 200*exp(-t/2))\nEq(x(t), 200 - 200*exp(-t/2))\nEq(x(t), 200 - 200*exp(-t/2))\nEq(x(t), 200 - 200*exp(-t/2))\nEq(x(t), 200 - 200*exp(-t/2))\nEq(x(t), 200 - 200*exp(-t/2))\nEq(x(t), 200 - 200*exp(-t/2))\nEq(x(t), 200 - 200*exp(-t/2))\nEq(x(t), 200 - 200*exp(-t/2))\nEq(x(t), 200 - 200*exp(-t/2))\nEq(x(t), 200 - 200*exp(-t/2))\nEq(x(t), 200 - 200*exp(-t/2))\nEq(x(t), 200 - 200*exp(-t/2))\nEq(x(t), 200 - 200*exp(-t/2))\nEq(x(t), 200 - 200*exp(-t/2))\nEq(x(t), 200 - 200*exp(-t/2))\nEq(x(t), 200 - 200*exp(-t/2))\nEq(x(t), 200 - 200*exp(-t/2))\nEq(x(t), 200 - 200*exp(-t/2))\nEq(x(t), 200 - 200*exp(-t/2))\nEq(x(t), 200 - 200*exp(-t/2))\nEq(x(t), 200 - 200*exp(-t/2))\nEq(x(t), 200 - 200*exp(-t/2))\nEq(x(t), 200 - 200*exp(-t/2))\nEq(x(t), 200 - 200*exp(-t/2))\nEq(x(t), 200 - 200*exp(-t/2))\nEq(x(t), 200 - 200*exp(-t/2))\nEq(x(t), 200 - 200*exp(-t/2))\nEq(x(t), 200 - 200*exp(-t/2))\nEq(x(t), 200 - 200*exp(-t/2))\nEq(x(t), 200 - 200*exp(-t/2))\nEq(x(t), 200 - 200*exp(-t/2))\nEq(x(t), 200 - 200*exp(-t/2))\nEq(x(t), 200 - 200*exp(-t/2))\nEq(x(t), 200 - 200*exp(-t/2))\nEq(x(t), 200 - 200*exp(-t/2))\nEq(x(t), 200 - 200*exp(-t/2))\nEq(x(t), 200 - 200*exp(-t/2))\nEq(x(t), 200 - 200*exp(-t/2))\nEq(x(t), 200 - 200*exp(-t/2))\nEq(x(t), 200 - 200*exp(-t/2))\nEq(x(t), 200 - 200*exp(-t/2))\nEq(x(t), 200 - 200*exp(-t/2))\nEq(x(t), 200 - 200*exp(-t/2))\nEq(x(t), 200 - 200*exp(-t/2))\nEq(x(t), 200 - 200*exp(-t/2))\nEq(x(t), 200 - 200*exp(-t/2))\nEq(x(t), 200 - 200*exp(-t/2))\nEq(x(t), 200 - 200*exp(-t/2))\nEq(x(t), 200 - 200*exp(-t/2))\nEq(x(t), 200 - 200*exp(-t/2))\nEq(x(t), 200 - 200*exp(-t/2))\nEq(x(t), 200 - 200*exp(-t/2))\nEq(x(t), 200 - 200*exp(-t/2))\nEq(x(t), 200 - 200*exp(-t/2))\nEq(x(t), 200 - 200*exp(-t/2))\nEq(x(t), 200 - 200*exp(-t/2))\nEq(x(t), 200 - 200*exp(-t/2))\nEq(x(t), 200 - 200*exp(-t/2))\nEq(x(t), 200 - 200*exp(-t/2))\nEq(x(t), 200 - 200*exp(-t/2))\nEq(x(t), 200 - 200*exp(-t/2))\nEq(x(t), 200 - 200*exp(-t/2))\nEq(x(t), 200 - 200*exp(-t/2))\nEq(x(t), 200 - 200*exp(-t/2))\nEq(x(t), 200 - 200*exp(-t/2))\nEq(x(t), 200 - 200*exp(-t/2))\nEq(x(t), 200 - 200*exp(-t/2))\nEq(x(t), 200 - 200*exp(-t/2))\nEq(x(t), 200 - 200*exp(-t/2))\nEq(x(t), 200 - 200*exp(-t/2))\nEq(x(t), 200 - 200*exp(-t/2))\nEq(x(t), 200 - 200*exp(-t/2))\nEq(x(t), 200 - 200*exp(-t/2))\nEq(x(t), 200 - 200*exp(-t/2))\nEq(x(t), 200 - 200*exp(-t/2))\nEq(x(t), 200 - 200*exp(-t/2))\nEq(x(t), 200 - 200*exp(-t/2))\nEq(x(t), 200 - 200*exp(-t/2))\nEq(x(t), 200 - 200*exp(-t/2))\nEq(x(t), 200 - 200*exp(-t/2))\nEq(x(t), 200 - 200*exp(-t/2))\nEq(x(t), 200 - 200*exp(-t/2))\nEq(x(t), 200 - 200*exp(-t/2))\nEq(x(t), 200 - 200*exp(-t/2))\nEq(x(t), 200 - 200*exp(-t/2))\nEq(x(t), 200 - 200*exp(-t/2))\nEq(x(t), 200 - 200*exp(-t/2))\nEq(x(t), 200 - 200*exp(-t/2))\nEq(x(t), 200 - 200*exp(-t/2))\nEq(x(t), 200 - 200*exp(-t/2))\nEq(x(t), 200 - 200*exp(-t/2))\nEq(x(t), 200 - 200*exp(-t/2))\nEq(x(t), 200 - 200*exp(-t/2))\nEq(x(t), 200 - 200*exp(-t/2))\nEq(x(t), 200 - 200*exp(-t/2))\nEq(x(t), 200 - 200*exp(-t/2))\nEq(x(t), 200 - 200*exp(-t/2))\nEq(x(t), 200 - 200*exp(-t/2))\nEq(x(t), 200 - 200*exp(-t/2))\nEq(x(t), 200 - 200*exp(-t/2))\nEq(x(t), 200 - 200*exp(-t/2))\nEq(x(t), 200 - 200*exp(-t/2))\nEq(x(t), 200 - 200*exp(-t/2))\nEq(x(t), 200 - 200*exp(-t/2))\nEq(x(t), 200 - 200*exp(-t/2))\nEq(x(t), 200 - 200*exp(-t/2))\nEq(x(t), 200 - 200*exp(-t/2))\nEq(x(t), 200 - 200*exp(-t/2))\nEq(x(t), 200 - 200*exp(-t/2))\nEq(x(t), 200 - 200*exp(-t/2))\nEq(x(t), 200 - 200*exp(-t/2))\nEq(x(t), 200 - 200*exp(-t/2))\nEq(x(t), 200 - 200*exp(-t/2))\nEq(x(t), 200 - 200*exp(-t/2))\nEq(x(t), 200 - 200*exp(-t/2))\nEq(x(t), 200 - 200*exp(-t/2))\nEq(x(t), 200 - 200*exp(-t/2))\nEq(x(t), 200 - 200*exp(-t/2))\nEq(x(t), 200 - 200*exp(-t/2))\nEq(x(t), 200 - 200*exp(-t/2))\nEq(x(t), 200 - 200*exp(-t/2))\nEq(x(t), 200 - 200*exp(-t/2))\nEq(x(t), 200 - 200*exp(-t/2))\nEq(x(t), 200 - 200*exp(-t/2))\nEq(x(t), 200 - 200*exp(-t/2))\nEq(x(t), 200 - 200*exp(-t/2))\nEq(x(t), 200 - 200*exp(-t/2))\nEq(x(t), 200 - 200*exp(-t/2))\nEq(x(t), 200 - 200*exp(-t/2))\nEq(x(t), 200 - 200*exp(-t/2))\nEq(x(t), 200 - 200*exp(-t/2))\nEq(x(t), 200 - 200*exp(-t/2))\nEq(x(t), 200 - 200*exp(-t/2))\nEq(x(t), 200 - 200*exp(-t/2))\nEq(x(t), 200 - 200*exp(-t/2))\nEq(x(t), 200 - 200*exp(-t/2))\nEq(x(t), 200 - 200*exp(-t/2))\nEq(x(t), 200 - 200*exp(-t/2))\nEq(x(t), 200 - 200*exp(-t/2))\nEq(x(t), 200 - 200*exp(-t/2))\nEq(x(t), 200 - 200*exp(-t/2))\nEq(x(t), 200 - 200*exp(-t/2))\nEq(x(t), 200 - 200*exp(-t/2))\nEq(x(t), 200 - 200*exp(-t/2))\nEq(x(t), 200 - 200*exp(-t/2))\nEq(x(t), 200 - 200*exp(-t/2))\nEq(x(t), 200 - 200*exp(-t/2))\nEq(x(t), 200 - 200*exp(-t/2))\nEq(x(t), 200 - 200*exp(-t/2))\nEq(x(t), 200 - 200*exp(-t/2))\nEq(x(t), 200 - 200*exp(-t/2))\nEq(x(t), 200 - 200*exp(-t/2))\nEq(x(t), 200 - 200*exp(-t/2))\nEq(x(t), 200 - 200*exp(-t/2))\nEq(x(t), 200 - 200*exp(-t/2))\nEq(x(t), 200 - 200*exp(-t/2))\nEq(x(t), 200 - 200*exp(-t/2))\nEq(x(t), 200 - 200*exp(-t/2))\nEq(x(t), 200 - 200*exp(-t/2))\nEq(x(t), 200 - 200*exp(-t/2))\nEq(x(t), 200 - 200*exp(-t/2))\nEq(x(t), 200 - 200*exp(-t/2))\nEq(x(t), 200 - 200*exp(-t/2))\nEq(x(t), 200 - 200*exp(-t/2))\nEq(x(t), 200 - 200*exp(-t/2))\nEq(x(t), 200 - 200*exp(-t/2))\nEq(x(t), 200 - 200*exp(-t/2))\nEq(x(t), 200 - 200*exp(-t/2))\nEq(x(t), 200 - 200*exp(-t/2))\nEq(x(t), 200 - 200*exp(-t/2))\nEq(x(t), 200 - 200*exp(-t/2))\nEq(x(t), 200 - 200*exp(-t/2))\nEq(x(t), 200 - 200*exp(-t/2))\nEq(x(t), 200 - 200*exp(-t/2))\nEq(x(t), 200 - 200*exp(-t/2))\nEq(x(t), 200 - 200*exp(-t/2))\nEq(x(t), 200 - 200*exp(-t/2))\nEq(x(t), 200 - 200*exp(-t/2))\nEq(x(t), 200 - 200*exp(-t/2))\nEq(x(t), 200 - 200*exp(-t/2))\nEq(x(t), 200 - 200*exp(-t/2))\nEq(x(t), 200 - 200*exp(-t/2))\nEq(x(t), 200 - 200*exp(-t/2))\nEq(x(t), 200 - 200*exp(-t/2))\nEq(x(t), 200 - 200*exp(-t/2))\nEq(x(t), 200 - 200*exp(-t/2))\nEq(x(t), 200 - 200*exp(-t/2))\nEq(x(t), 200 - 200*exp(-t/2))\nEq(x(t), 200 - 200*exp(-t/2))\nEq(x(t), 200 - 200*exp(-t/2))\nEq(x(t), 200 - 200*exp(-t/2))\nEq(x(t), 200 - 200*exp(-t/2))\nEq(x(t), 200 - 200*exp(-t/2))\nEq(x(t), 200 - 200*exp(-t/2))\nEq(x(t), 200 - 200*exp(-t/2))\nEq(x(t), 200 - 200*exp(-t/2))\nEq(x(t), 200 - 200*exp(-t/2))\nEq(x(t), 200 - 200*exp(-t/2))\nEq(x(t), 200 - 200*exp(-t/2))\nEq(x(t), 200 - 200*exp(-t/2))\nEq(x(t), 200 - 200*exp(-t/2))\nEq(x(t), 200 - 200*exp(-t/2))\nEq(x(t), 200 - 200*exp(-t/2))\nEq(x(t), 200 - 200*exp(-t/2))\nEq(x(t), 200 - 200*exp(-t/2))\nEq(x(t), 200 - 200*exp(-t/2))\nEq(x(t), 200 - 200*exp(-t/2))\nEq(x(t), 200 - 200*exp(-t/2))\nEq(x(t), 200 - 200*exp(-t/2))\nEq(x(t), 200 - 200*exp(-t/2))\nEq(x(t), 200 - 200*exp(-t/2))\nEq(x(t), 200 - 200*exp(-t/2))\nEq(x(t), 200 - 200*exp(-t/2))\nEq(x(t), 200 - 200*exp(-t/2))\nEq(x(t), 200 - 200*exp(-t/2))\nEq(x(t), 200 - 200*exp(-t/2))\nEq(x(t), 200 - 200*exp(-t/2))\nEq(x(t), 200 - 200*exp(-t/2))\nEq(x(t), 200 - 200*exp(-t/2))\nEq(x(t), 200 - 200*exp(-t/2))\nEq(x(t), 200 - 200*exp(-t/2))\nEq(x(t), 200 - 200*exp(-t/2))\nEq(x(t), 200 - 200*exp(-t/2))\nEq(x(t), 200 - 200*exp(-t/2))\nEq(x(t), 200 - 200*exp(-t/2))\nEq(x(t), 200 - 200*exp(-t/2))\nEq(x(t), 200 - 200*exp(-t/2))\nEq(x(t), 200 - 200*exp(-t/2))\nEq(x(t), 200 - 200*exp(-t/2))\nEq(x(t), 200 - 200*exp(-t/2))\nEq(x(t), 200 - 200*exp(-t/2))\nEq(x(t), 200 - 200*exp(-t/2))\nEq(x(t), 200 - 200*exp(-t/2))\nEq(x(t), 200 - 200*exp(-t/2))\nEq(x(t), 200 - 200*exp(-t/2))\nEq(x(t), 200 - 200*exp(-t/2))\nEq(x(t), 200 - 200*exp(-t/2))\nEq(x(t), 200 - 200*exp(-t/2))\nEq(x(t), 200 - 200*exp(-t/2))\nEq(x(t), 200 - 200*exp(-t/2))\nEq(x(t), 200 - 200*exp(-t/2))\nEq(x(t), 200 - 200*exp(-t/2))\nEq(x(t), 200 - 200*exp(-t/2))\nEq(x(t), 200 - 200*exp(-t/2))\nEq(x(t), 200 - 200*exp(-t/2))\nEq(x(t), 200 - 200*exp(-t/2))\nEq(x(t), 200 - 200*exp(-t/2))\nEq(x(t), 200 - 200*exp(-t/2))\nEq(x(t), 200 - 200*exp(-t/2))\nEq(x(t), 200 - 200*exp(-t/2))\nEq(x(t), 200 - 200*exp(-t/2))\nEq(x(t), 200 - 200*exp(-t/2))\nEq(x(t), 200 - 200*exp(-t/2))\nEq(x(t), 200 - 200*exp(-t/2))\nEq(x(t), 200 - 200*exp(-t/2))\nEq(x(t), 200 - 200*exp(-t/2))\nEq(x(t), 200 - 200*exp(-t/2))\nEq(x(t), 200 - 200*exp(-t/2))\nEq(x(t), 200 - 200*exp(-t/2))\nEq(x(t), 200 - 200*exp(-t/2))\nEq(x(t), 200 - 200*exp(-t/2))\nEq(x(t), 200 - 200*exp(-t/2))\nEq(x(t), 200 - 200*exp(-t/2))\nEq(x(t), 200 - 200*exp(-t/2))\nEq(x(t), 200 - 200*exp(-t/2))\nEq(x(t), 200 - 200*exp(-t/2))\nEq(x(t), 200 - 200*exp(-t/2))\nEq(x(t), 200 - 200*exp(-t/2))\nEq(x(t), 200 - 200*exp(-t/2))\nEq(x(t), 200 - 200*exp(-t/2))\nEq(x(t), 200 - 200*exp(-t/2))\nEq(x(t), 200 - 200*exp(-t/2))\nEq(x(t), 200 - 200*exp(-t/2))\nEq(x(t), 200 - 200*exp(-t/2))\nEq(x(t), 200 - 200*exp(-t/2))\nEq(x(t), 200 - 200*exp(-t/2))\nEq(x(t), 200 - 200*exp(-t/2))\nEq(x(t), 200 - 200*exp(-t/2))\nEq(x(t), 200 - 200*exp(-t/2))\nEq(x(t), 200 - 200*exp(-t/2))\nEq(x(t), 200 - 200*exp(-t/2))\nEq(x(t), 200 - 200*exp(-t/2))\nEq(x(t), 200 - 200*exp(-t/2))\nEq(x(t), 200 - 200*exp(-t/2))\nEq(x(t), 200 - 200*exp(-t/2))\nEq(x(t), 200 - 200*exp(-t/2))\nEq(x(t), 200 - 200*exp(-t/2))\nEq(x(t), 200 - 200*exp(-t/2))\nEq(x(t), 200 - 200*exp(-t/2))\nEq(x(t), 200 - 200*exp(-t/2))\nEq(x(t), 200 - 200*exp(-t/2))\nEq(x(t), 200 - 200*exp(-t/2))\nEq(x(t), 200 - 200*exp(-t/2))\nEq(x(t), 200 - 200*exp(-t/2))\nEq(x(t), 200 - 200*exp(-t/2))\nEq(x(t), 200 - 200*exp(-t/2))\nEq(x(t), 200 - 200*exp(-t/2))\nEq(x(t), 200 - 200*exp(-t/2))\nEq(x(t), 200 - 200*exp(-t/2))\nEq(x(t), 200 - 200*exp(-t/2))\nEq(x(t), 200 - 200*exp(-t/2))\nEq(x(t), 200 - 200*exp(-t/2))\nEq(x(t), 200 - 200*exp(-t/2))\nEq(x(t), 200 - 200*exp(-t/2))\nEq(x(t), 200 - 200*exp(-t/2))\nEq(x(t), 200 - 200*exp(-t/2))\nEq(x(t), 200 - 200*exp(-t/2))\nEq(x(t), 200 - 200*exp(-t/2))\nEq(x(t), 200 - 200*exp(-t/2))\nEq(x(t), 200 - 200*exp(-t/2))\nEq(x(t), 200 - 200*exp(-t/2))\nEq(x(t), 200 - 200*exp(-t/2))\nEq(x(t), 200 - 200*exp(-t/2))\nEq(x(t), 200 - 200*exp(-t/2))\nEq(x(t), 200 - 200*exp(-t/2))\nEq(x(t), 200 - 200*exp(-t/2))\nEq(x(t), 200 - 200*exp(-t/2))\nEq(x(t), 200 - 200*exp(-t/2))\nEq(x(t), 200 - 200*exp(-t/2))\nEq(x(t), 200 - 200*exp(-t/2))\nEq(x(t), 200 - 200*exp(-t/2))\nEq(x(t), 200 - 200*exp(-t/2))\nEq(x(t), 200 - 200*exp(-t/2))\nEq(x(t), 200 - 200*exp(-t/2))\nEq(x(t), 200 - 200*exp(-t/2))\nEq(x(t), 200 - 200*exp(-t/2))\nEq(x(t), 200 - 200*exp(-t/2))\nEq(x(t), 200 - 200*exp(-t/2))\nEq(x(t), 200 - 200*exp(-t/2))\nEq(x(t), 200 - 200*exp(-t/2))\nEq(x(t), 200 - 200*exp(-t/2))\nEq(x(t), 200 - 200*exp(-t/2))\nEq(x(t), 200 - 200*exp(-t/2))\nEq(x(t), 200 - 200*exp(-t/2))\nEq(x(t), 200 - 200*exp(-t/2))\nEq(x(t), 200 - 200*exp(-t/2))\nEq(x(t), 200 - 200*exp(-t/2))\nEq(x(t), 200 - 200*exp(-t/2))\nEq(x(t), 200 - 200*exp(-t/2))\nEq(x(t), 200 - 200*exp(-t/2))\nEq(x(t), 200 - 200*exp(-t/2))\nEq(x(t), 200 - 200*exp(-t/2))\nEq(x(t), 200 - 200*exp(-t/2))\nEq(x(t), 200 - 200*exp(-t/2))\nEq(x(t), 200 - 200*exp(-t/2))\nEq(x(t), 200 - 200*exp(-t/2))\nEq(x(t), 200 - 200*exp(-t/2))\nEq(x(t), 200 - 200*exp(-t/2))\nEq(x(t), 200 - 200*exp(-t/2))\nEq(x(t), 200 - 200*exp(-t/2))\nEq(x(t), 200 - 200*exp(-t/2))\nEq(x(t), 200 - 200*exp(-t/2))\nEq(x(t), 200 - 200*exp(-t/2))\nEq(x(t), 200 - 200*exp(-t/2))\nEq(x(t), 200 - 200*exp(-t/2))\nEq(x(t), 200 - 200*exp(-t/2))\nEq(x(t), 200 - 200*exp(-t/2))\nEq(x(t), 200 - 200*exp(-t/2))\nEq(x(t), 200 - 200*exp(-t/2))\nEq(x(t), 200 - 200*exp(-t/2))\nEq(x(t), 200 - 200*exp(-t/2))\nEq(x(t), 200 - 200*exp(-t/2))\nEq(x(t), 200 - 200*exp(-t/2))\nEq(x(t), 200 - 200*exp(-t/2))\nEq(x(t), 200 - 200*exp(-t/2))\nEq(x(t), 200 - 200*exp(-t/2))\nEq(x(t), 200 - 200*exp(-t/2))\nEq(x(t), 200 - 200*exp(-t/2))\nEq(x(t), 200 - 200*exp(-t/2))\nEq(x(t), 200 - 200*exp(-t/2))\nEq(x(t), 200 - 200*exp(-t/2))\nEq(x(t), 200 - 200*exp(-t/2))\nEq(x(t), 200 - 200*exp(-t/2))\nEq(x(t), 200 - 200*exp(-t/2))\nEq(x(t), 200 - 200*exp(-t/2))\nEq(x(t), 200 - 200*exp(-t/2))\nEq(x(t), 200 - 200*exp(-t/2))\nEq(x(t), 200 - 200*exp(-t/2))\nEq(x(t), 200 - 200*exp(-t/2))\nEq(x(t), 200 - 200*exp(-t/2))\nEq(x(t), 200 - 200*exp(-t/2))\nEq(x(t), 200 - 200*exp(-t/2))\nEq(x(t), 200 - 200*exp(-t/2))\nEq(x(t), 200 - 200*exp(-t/2))\nEq(x(t), 200 - 200*exp(-t/2))\nEq(x(t), 200 - 200*exp(-t/2))\nEq(x(t), 200 - 200*exp(-t/2))\nEq(x(t), 200 - 200*exp(-t/2))\nEq(x(t), 200 - 200*exp(-t/2))\nEq(x(t), 200 - 200*exp(-t/2))\nEq(x(t), 200 - 200*exp(-t/2))\nEq(x(t), 200 - 200*exp(-t/2))\nEq(x(t), 200 - 200*exp(-t/2))\nEq(x(t), 200 - 200*exp(-t/2))\nEq(x(t), 200 - 200*exp(-t/2))\nEq(x(t), 200 - 200*exp(-t/2))\nEq(x(t), 200 - 200*exp(-t/2))\nEq(x(t), 200 - 200*exp(-t/2))\nEq(x(t), 200 - 200*exp(-t/2))\nEq(x(t), 200 - 200*exp(-t/2))\nEq(x(t), 200 - 200*exp(-t/2))\nEq(x(t), 200 - 200*exp(-t/2))\nEq(x(t), 200 - 200*exp(-t/2))\nEq(x(t), 200 - 200*exp(-t/2))\nEq(x(t), 200 - 200*exp(-t/2))\nEq(x(t), 200 - 200*exp(-t/2))\nEq(x(t), 200 - 200*exp(-t/2))\nEq(x(t), 200 - 200*exp(-t/2))\nEq(x(t), 200 - 200*exp(-t/2))\nEq(x(t), 200 - 200*exp(-t/2))\nEq(x(t), 200 - 200*exp(-t/2))\nEq(x(t), 200 - 200*exp(-t/2))\nEq(x(t), 200 - 200*exp(-t/2))\nEq(x(t), 200 - 200*exp(-t/2))\nEq(x(t), 200 - 200*exp(-t/2))\nEq(x(t), 200 - 200*exp(-t/2))\nEq(x(t), 200 - 200*exp(-t/2))\nEq(x(t), 200 - 200*exp(-t/2))\nEq(x(t), 200 - 200*exp(-t/2))\nEq(x(t), 200 - 200*exp(-t/2))\nEq(x(t), 200 - 200*exp(-t/2))\nEq(x(t), 200 - 200*exp(-t/2))\nEq(x(t), 200 - 200*exp(-t/2))\nEq(x(t), 200 - 200*exp(-t/2))\nEq(x(t), 200 - 200*exp(-t/2))\nEq(x(t), 200 - 200*exp(-t/2))\nEq(x(t), 200 - 200*exp(-t/2))\nEq(x(t), 200 - 200*exp(-t/2))\nEq(x(t), 200 - 200*exp(-t/2))\nEq(x(t), 200 - 200*exp(-t/2))\nEq(x(t), 200 - 200*exp(-t/2))\nEq(x(t), 200 - 200*exp(-t/2))\nEq(x(t), 200 - 200*exp(-t/2))\nEq(x(t), 200 - 200*exp(-t/2))\nEq(x(t), 200 - 200*exp(-t/2))\nEq(x(t), 200 - 200*exp(-t/2))\nEq(x(t), 200 - 200*exp(-t/2))\nEq(x(t), 200 - 200*exp(-t/2))\nEq(x(t), 200 - 200*exp(-t/2))\nEq(x(t), 200 - 200*exp(-t/2))\nEq(x(t), 200 - 200*exp(-t/2))\nEq(x(t), 200 - 200*exp(-t/2))\nEq(x(t), 200 - 200*exp(-t/2))\nEq(x(t), 200 - 200*exp(-t/2))\nEq(x(t), 200 - 200*exp(-t/2))\nEq(x(t), 200 - 200*exp(-t/2))\nEq(x(t), 200 - 200*exp(-t/2))\nEq(x(t), 200 - 200*exp(-t/2))\nEq(x(t), 200 - 200*exp(-t/2))\nEq(x(t), 200 - 200*exp(-t/2))\nEq(x(t), 200 - 200*exp(-t/2))\nEq(x(t), 200 - 200*exp(-t/2))\nEq(x(t), 200 - 200*exp(-t/2))\nEq(x(t), 200 - 200*exp(-t/2))\nEq(x(t), 200 - 200*exp(-t/2))\nEq(x(t), 200 - 200*exp(-t/2))\nEq(x(t), 200 - 200*exp(-t/2))\nEq(x(t), 200 - 200*exp(-t/2))\nEq(x(t), 200 - 200*exp(-t/2))\nEq(x(t), 200 - 200*exp(-t/2))\nEq(x(t), 200 - 200*exp(-t/2))\nEq(x(t), 200 - 200*exp(-t/2))\nEq(x(t), 200 - 200*exp(-t/2))\nEq(x(t), 200 - 200*exp(-t/2))\nEq(x(t), 200 - 200*exp(-t/2))\nEq(x(t), 200 - 200*exp(-t/2))\nEq(x(t), 200 - 200*exp(-t/2))\nEq(x(t), 200 - 200*exp(-t/2))\nEq(x(t), 200 - 200*exp(-t/2))\nEq(x(t), 200 - 200*exp(-t/2))\nEq(x(t), 200 - 200*exp(-t/2))\nEq(x(t), 200 - 200*exp(-t/2))\nEq(x(t), 200 - 200*exp(-t/2))\nEq(x(t), 200 - 200*exp(-t/2))\nEq(x(t), 200 - 200*exp(-t/2))\nEq(x(t), 200 - 200*exp(-t/2))\nEq(x(t), 200 - 200*exp(-t/2))\nEq(x(t), 200 - 200*exp(-t/2))\nEq(x(t), 200 - 200*exp(-t/2))\nEq(x(t), 200 - 200*exp(-t/2))\nEq(x(t), 200 - 200*exp(-t/2))\nEq(x(t), 200 - 200*exp(-t/2))\nEq(x(t), 200 - 200*exp(-t/2))\nEq(x(t), 200 - 200*exp(-t/2))\nEq(x(t), 200 - 200*exp(-t/2))\nEq(x(t), 200 - 200*exp(-t/2))\nEq(x(t), 200 - 200*exp(-t/2))\nEq(x(t), 200 - 200*exp(-t/2))\nEq(x(t), 200 - 200*exp(-t/2))\nEq(x(t), 200 - 200*exp(-t/2))\nEq(x(t), 200 - 200*exp(-t/2))\nEq(x(t), 200 - 200*exp(-t/2))\nEq(x(t), 200 - 200*exp(-t/2))\nEq(x(t), 200 - 200*exp(-t/2))\nEq(x(t), 200 - 200*exp(-t/2))\nEq(x(t), 200 - 200*exp(-t/2))\nEq(x(t), 200 - 200*exp(-t/2))\nEq(x(t), 200 - 200*exp(-t/2))\nEq(x(t), 200 - 200*exp(-t/2))\nEq(x(t), 200 - 200*exp(-t/2))\nEq(x(t), 200 - 200*exp(-t/2))\nEq(x(t), 200 - 200*exp(-t/2))\nEq(x(t), 200 - 200*exp(-t/2))\nEq(x(t), 200 - 200*exp(-t/2))\nEq(x(t), 200 - 200*exp(-t/2))\nEq(x(t), 200 - 200*exp(-t/2))\nEq(x(t), 200 - 200*exp(-t/2))\nEq(x(t), 200 - 200*exp(-t/2))\nEq(x(t), 200 - 200*exp(-t/2))\nEq(x(t), 200 - 200*exp(-t/2))\nEq(x(t), 200 - 200*exp(-t/2))\nEq(x(t), 200 - 200*exp(-t/2))\nEq(x(t), 200 - 200*exp(-t/2))\nEq(x(t), 200 - 200*exp(-t/2))\nEq(x(t), 200 - 200*exp(-t/2))\nEq(x(t), 200 - 200*exp(-t/2))\nEq(x(t), 200 - 200*exp(-t/2))\nEq(x(t), 200 - 200*exp(-t/2))\nEq(x(t), 200 - 200*exp(-t/2))\nEq(x(t), 200 - 200*exp(-t/2))\nEq(x(t), 200 - 200*exp(-t/2))\nEq(x(t), 200 - 200*exp(-t/2))\nEq(x(t), 200 - 200*exp(-t/2))\nEq(x(t), 200 - 200*exp(-t/2))\nEq(x(t), 200 - 200*exp(-t/2))\nEq(x(t), 200 - 200*exp(-t/2))\nEq(x(t), 200 - 200*exp(-t/2))\nEq(x(t), 200 - 200*exp(-t/2))\nEq(x(t), 200 - 200*exp(-t/2))\nEq(x(t), 200 - 200*exp(-t/2))\nEq(x(t), 200 - 200*exp(-t/2))\nEq(x(t), 200 - 200*exp(-t/2))\nEq(x(t), 200 - 200*exp(-t/2))\nEq(x(t), 200 - 200*exp(-t/2))\nEq(x(t), 200 - 200*exp(-t/2))\nEq(x(t), 200 - 200*exp(-t/2))\nEq(x(t), 200 - 200*exp(-t/2))\nEq(x(t), 200 - 200*exp(-t/2))\nEq(x(t), 200 - 200*exp(-t/2))\nEq(x(t), 200 - 200*exp(-t/2))\nEq(x(t), 200 - 200*exp(-t/2))\nEq(x(t), 200 - 200*exp(-t/2))\nEq(x(t), 200 - 200*exp(-t/2))\nEq(x(t), 200 - 200*exp(-t/2))\nEq(x(t), 200 - 200*exp(-t/2))\nEq(x(t), 200 - 200*exp(-t/2))\nEq(x(t), 200 - 200*exp(-t/2))\nEq(x(t), 200 - 200*exp(-t/2))\nEq(x(t), 200 - 200*exp(-t/2))\nEq(x(t), 200 - 200*exp(-t/2))\nEq(x(t), 200 - 200*exp(-t/2))\nEq(x(t), 200 - 200*exp(-t/2))\nEq(x(t), 200 - 200*exp(-t/2))\nEq(x(t), 200 - 200*exp(-t/2))\nEq(x(t), 200 - 200*exp(-t/2))\nEq(x(t), 200 - 200*exp(-t/2))\nEq(x(t), 200 - 200*exp(-t/2))\nEq(x(t), 200 - 200*exp(-t/2))\nEq(x(t), 200 - 200*exp(-t/2))\nEq(x(t), 200 - 200*exp(-t/2))\nEq(x(t), 200 - 200*exp(-t/2))\nEq(x(t), 200 - 200*exp(-t/2))\nEq(x(t), 200 - 200*exp(-t/2))\nEq(x(t), 200 - 200*exp(-t/2))\nEq(x(t), 200 - 200*exp(-t/2))\nEq(x(t), 200 - 200*exp(-t/2))\nEq(x(t), 200 - 200*exp(-t/2))\nEq(x(t), 200 - 200*exp(-t/2))\nEq(x(t), 200 - 200*exp(-t/2))\nEq(x(t), 200 - 200*exp(-t/2))\nEq(x(t), 200 - 200*exp(-t/2))\nEq(x(t), 200 - 200*exp(-t/2))\nEq(x(t), 200 - 200*exp(-t/2))\nEq(x(t), 200 - 200*exp(-t/2))\nEq(x(t), 200 - 200*exp(-t/2))\nEq(x(t), 200 - 200*exp(-t/2))\nEq(x(t), 200 - 200*exp(-t/2))\nEq(x(t), 200 - 200*exp(-t/2))\nEq(x(t), 200 - 200*exp(-t/2))\nEq(x(t), 200 - 200*exp(-t/2))\nEq(x(t), 200 - 200*exp(-t/2))\nEq(x(t), 200 - 200*exp(-t/2))\nEq(x(t), 200 - 200*exp(-t/2))\nEq(x(t), 200 - 200*exp(-t/2))\nEq(x(t), 200 - 200*exp(-t/2))\nEq(x(t), 200 - 200*exp(-t/2))\nEq(x(t), 200 - 200*exp(-t/2))\nEq(x(t), 200 - 200*exp(-t/2))\nEq(x(t), 200 - 200*exp(-t/2))\nEq(x(t), 200 - 200*exp(-t/2))\nEq(x(t), 200 - 200*exp(-t/2))\nEq(x(t), 200 - 200*exp(-t/2))\nEq(x(t), 200 - 200*exp(-t/2))\nEq(x(t), 200 - 200*exp(-t/2))\nEq(x(t), 200 - 200*exp(-t/2))\nEq(x(t), 200 - 200*exp(-t/2))\nEq(x(t), 200 - 200*exp(-t/2))\nEq(x(t), 200 - 200*exp(-t/2))\nEq(x(t), 200 - 200*exp(-t/2))\nEq(x(t), 200 - 200*exp(-t/2))\nEq(x(t), 200 - 200*exp(-t/2))\nEq(x(t), 200 - 200*exp(-t/2))\nEq(x(t), 200 - 200*exp(-t/2))\nEq(x(t), 200 - 200*exp(-t/2))\nEq(x(t), 200 - 200*exp(-t/2))\nEq(x(t), 200 - 200*exp(-t/2))\nEq(x(t), 200 - 200*exp(-t/2))\nEq(x(t), 200 - 200*exp(-t/2))\nEq(x(t), 200 - 200*exp(-t/2))\nEq(x(t), 200 - 200*exp(-t/2))\nEq(x(t), 200 - 200*exp(-t/2))\nEq(x(t), 200 - 200*exp(-t/2))\nEq(x(t), 200 - 200*exp(-t/2))\nEq(x(t), 200 - 200*exp(-t/2))\nEq(x(t), 200 - 200*exp(-t/2))\nEq(x(t), 200 - 200*exp(-t/2))\nEq(x(t), 200 - 200*exp(-t/2))\nEq(x(t), 200 - 200*exp(-t/2))\nEq(x(t), 200 - 200*exp(-t/2))\nEq(x(t), 200 - 200*exp(-t/2))\nEq(x(t), 200 - 200*exp(-t/2))\nEq(x(t), 200 - 200*exp(-t/2))\nEq(x(t), 200 - 200*exp(-t/2))\nEq(x(t), 200 - 200*exp(-t/2))\nEq(x(t), 200 - 200*exp(-t/2))\nEq(x(t), 200 - 200*exp(-t/2))\nEq(x(t), 200 - 200*exp(-t/2))\nEq(x(t), 200 - 200*exp(-t/2))\nEq(x(t), 200 - 200*exp(-t/2))\nEq(x(t), 200 - 200*exp(-t/2))\nEq(x(t), 200 - 200*exp(-t/2))\nEq(x(t), 200 - 200*exp(-t/2))\nEq(x(t), 200 - 200*exp(-t/2))\nEq(x(t), 200 - 200*exp(-t/2))\nEq(x(t), 200 - 200*exp(-t/2))\nEq(x(t), 200 - 200*exp(-t/2))\nEq(x(t), 200 - 200*exp(-t/2))\nEq(x(t), 200 - 200*exp(-t/2))\nEq(x(t), 200 - 200*exp(-t/2))\nEq(x(t), 200 - 200*exp(-t/2))\nEq(x(t), 200 - 200*exp(-t/2))\nEq(x(t), 200 - 200*exp(-t/2))\nEq(x(t), 200 - 200*exp(-t/2))\nEq(x(t), 200 - 200*exp(-t/2))\nEq(x(t), 200 - 200*exp(-t/2))\nEq(x(t), 200 - 200*exp(-t/2))\nEq(x(t), 200 - 200*exp(-t/2))\nEq(x(t), 200 - 200*exp(-t/2))\nEq(x(t), 200 - 200*exp(-t/2))\nEq(x(t), 200 - 200*exp(-t/2))\nEq(x(t), 200 - 200*exp(-t/2))\nEq(x(t), 200 - 200*exp(-t/2))\nEq(x(t), 200 - 200*exp(-t/2))\nEq(x(t), 200 - 200*exp(-t/2))\nEq(x(t), 200 - 200*exp(-t/2))\nEq(x(t), 200 - 200*exp(-t/2))\nEq(x(t), 200 - 200*exp(-t/2))\nEq(x(t), 200 - 200*exp(-t/2))\nEq(x(t), 200 - 200*exp(-t/2))\nEq(x(t), 200 - 200*exp(-t/2))\nEq(x(t), 200 - 200*exp(-t/2))\nEq(x(t), 200 - 200*exp(-t/2))\nEq(x(t), 200 - 200*exp(-t/2))\nEq(x(t), 200 - 200*exp(-t/2))\nEq(x(t), 200 - 200*exp(-t/2))\nEq(x(t), 200 - 200*exp(-t/2))\nEq(x(t), 200 - 200*exp(-t/2))\nEq(x(t), 200 - 200*exp(-t/2))\nEq(x(t), 200 - 200*exp(-t/2))\nEq(x(t), 200 - 200*exp(-t/2))\nEq(x(t), 200 - 200*exp(-t/2))\nEq(x(t), 200 - 200*exp(-t/2))\nEq(x(t), 200 - 200*exp(-t/2))\nEq(x(t), 200 - 200*exp(-t/2))\nEq(x(t), 200 - 200*exp(-t/2))\nEq(x(t), 200 - 200*exp(-t/2))\nEq(x(t), 200 - 200*exp(-t/2))\nEq(x(t), 200 - 200*exp(-t/2))\nEq(x(t), 200 - 200*exp(-t/2))\nEq(x(t), 200 - 200*exp(-t/2))\nEq(x(t), 200 - 200*exp(-t/2))\nEq(x(t), 200 - 200*exp(-t/2))\nEq(x(t), 200 - 200*exp(-t/2))\nEq(x(t), 200 - 200*exp(-t/2))\nEq(x(t), 200 - 200*exp(-t/2))\nEq(x(t), 200 - 200*exp(-t/2))\nEq(x(t), 200 - 200*exp(-t/2))\nEq(x(t), 200 - 200*exp(-t/2))\nEq(x(t), 200 - 200*exp(-t/2))\nEq(x(t), 200 - 200*exp(-t/2))\nEq(x(t), 200 - 200*exp(-t/2))\nEq(x(t), 200 - 200*exp(-t/2))\nEq(x(t), 200 - 200*exp(-t/2))\nEq(x(t), 200 - 200*exp(-t/2))\nEq(x(t), 200 - 200*exp(-t/2))\nEq(x(t), 200 - 200*exp(-t/2))\nEq(x(t), 200 - 200*exp(-t/2))\nEq(x(t), 200 - 200*exp(-t/2))\nEq(x(t), 200 - 200*exp(-t/2))\nEq(x(t), 200 - 200*exp(-t/2))\nEq(x(t), 200 - 200*exp(-t/2))\nEq(x(t), 200 - 200*exp(-t/2))\nEq(x(t), 200 - 200*exp(-t/2))\nEq(x(t), 200 - 200*exp(-t/2))\nEq(x(t), 200 - 200*exp(-t/2))\nEq(x(t), 200 - 200*exp(-t/2))\nEq(x(t), 200 - 200*exp(-t/2))\nEq(x(t), 200 - 200*exp(-t/2))\nEq(x(t), 200 - 200*exp(-t/2))\nEq(x(t), 200 - 200*exp(-t/2))\nEq(x(t), 200 - 200*exp(-t/2))\nEq(x(t), 200 - 200*exp(-t/2))\nEq(x(t), 200 - 200*exp(-t/2))\nEq(x(t), 200 - 200*exp(-t/2))\nEq(x(t), 200 - 200*exp(-t/2))\nEq(x(t), 200 - 200*exp(-t/2))\nEq(x(t), 200 - 200*exp(-t/2))\nEq(x(t), 200 - 200*exp(-t/2))\nEq(x(t), 200 - 200*exp(-t/2))\nEq(x(t), 200 - 200*exp(-t/2))\nEq(x(t), 200 - 200*exp(-t/2))\nEq(x(t), 200 - 200*exp(-t/2))\nEq(x(t), 200 - 200*exp(-t/2))\nEq(x(t), 200 - 200*exp(-t/2))\nEq(x(t), 200 - 200*exp(-t/2))\nEq(x(t), 200 - 200*exp(-t/2))\nEq(x(t), 200 - 200*exp(-t/2))\nEq(x(t), 200 - 200*exp(-t/2))\nEq(x(t), 200 - 200*exp(-t/2))\nEq(x(t), 200 - 200*exp(-t/2))\nEq(x(t), 200 - 200*exp(-t/2))\nEq(x(t), 200 - 200*exp(-t/2))\nEq(x(t), 200 - 200*exp(-t/2))\nEq(x(t), 200 - 200*exp(-t/2))\nEq(x(t), 200 - 200*exp(-t/2))\nEq(x(t), 200 - 200*exp(-t/2))\nEq(x(t), 200 - 200*exp(-t/2))\nEq(x(t), 200 - 200*exp(-t/2))\nEq(x(t), 200 - 200*exp(-t/2))\nEq(x(t), 200 - 200*exp(-t/2))\nEq(x(t), 200 - 200*exp(-t/2))\nEq(x(t), 200 - 200*exp(-t/2))\nEq(x(t), 200 - 200*exp(-t/2))\nEq(x(t), 200 - 200*exp(-t/2))\nEq(x(t), 200 - 200*exp(-t/2))\nEq(x(t), 200 - 200*exp(-t/2))\nEq(x(t), 200 - 200*exp(-t/2))\nEq(x(t), 200 - 200*exp(-t/2))\nEq(x(t), 200 - 200*exp(-t/2))\nEq(x(t), 200 - 200*exp(-t/2))\nEq(x(t), 200 - 200*exp(-t/2))\nEq(x(t), 200 - 200*exp(-t/2))\nEq(x(t), 200 - 200*exp(-t/2))\nEq(x(t), 200 - 200*exp(-t/2))\nEq(x(t), 200 - 200*exp(-t/2))\nEq(x(t), 200 - 200*exp(-t/2))\nEq(x(t), 200 - 200*exp(-t/2))\nEq(x(t), 200 - 200*exp(-t/2))\nEq(x(t), 200 - 200*exp(-t/2))\nEq(x(t), 200 - 200*exp(-t/2))\nEq(x(t), 200 - 200*exp(-t/2))\nEq(x(t), 200 - 200*exp(-t/2))\nEq(x(t), 200 - 200*exp(-t/2))\nEq(x(t), 200 - 200*exp(-t/2))\nEq(x(t), 200 - 200*exp(-t/2))\nEq(x(t), 200 - 200*exp(-t/2))\nEq(x(t), 200 - 200*exp(-t/2))\nEq(x(t), 200 - 200*exp(-t/2))\nEq(x(t), 200 - 200*exp(-t/2))\nEq(x(t), 200 - 200*exp(-t/2))\nEq(x(t), 200 - 200*exp(-t/2))\nEq(x(t), 200 - 200*exp(-t/2))\nEq(x(t), 200 - 200*exp(-t/2))\nEq(x(t), 200 - 200*exp(-t/2))\nEq(x(t), 200 - 200*exp(-t/2))\nEq(x(t), 200 - 200*exp(-t/2))\nEq(x(t), 200 - 200*exp(-t/2))\nEq(x(t), 200 - 200*exp(-t/2))\nEq(x(t), 200 - 200*exp(-t/2))\nEq(x(t), 200 - 200*exp(-t/2))\nEq(x(t), 200 - 200*exp(-t/2))\nEq(x(t), 200 - 200*exp(-t/2))\nEq(x(t), 200 - 200*exp(-t/2))\nEq(x(t), 200 - 200*exp(-t/2))\nEq(x(t), 200 - 200*exp(-t/2))\nEq(x(t), 200 - 200*exp(-t/2))\nEq(x(t), 200 - 200*exp(-t/2))\nEq(x(t), 200 - 200*exp(-t/2))\nEq(x(t), 200 - 200*exp(-t/2))\nEq(x(t), 200 - 200*exp(-t/2))\nEq(x(t), 200 - 200*exp(-t/2))\nEq(x(t), 200 - 200*exp(-t/2))\nEq(x(t), 200 - 200*exp(-t/2))\nEq(x(t), 200 - 200*exp(-t/2))\nEq(x(t), 200 - 200*exp(-t/2))\nEq(x(t), 200 - 200*exp(-t/2))\nEq(x(t), 200 - 200*exp(-t/2))\nEq(x(t), 200 - 200*exp(-t/2))\nEq(x(t), 200 - 200*exp(-t/2))\nEq(x(t), 200 - 200*exp(-t/2))\nEq(x(t), 200 - 200*exp(-t/2))\nEq(x(t), 200 - 200*exp(-t/2))\nEq(x(t), 200 - 200*exp(-t/2))\nEq(x(t), 200 - 200*exp(-t/2))\nEq(x(t), 200 - 200*exp(-t/2))\nEq(x(t), 200 - 200*exp(-t/2))\nEq(x(t), 200 - 200*exp(-t/2))\nEq(x(t), 200 - 200*exp(-t/2))\nEq(x(t), 200 - 200*exp(-t/2))\nEq(x(t), 200 - 200*exp(-t/2))\nEq(x(t), 200 - 200*exp(-t/2))\nEq(x(t), 200 - 200*exp(-t/2))\nEq(x(t), 200 - 200*exp(-t/2))\nEq(x(t), 200 - 200*exp(-t/2))\nEq(x(t), 200 - 200*exp(-t/2))\nEq(x(t), 200 - 200*exp(-t/2))\nEq(x(t), 200 - 200*exp(-t/2))\nEq(x(t), 200 - 200*exp(-t/2))\nEq(x(t), 200 - 200*exp(-t/2))\nEq(x(t), 200 - 200*exp(-t/2))\nEq(x(t), 200 - 200*exp(-t/2))\nEq(x(t), 200 - 200*exp(-t/2))\nEq(x(t), 200 - 200*exp(-t/2))\nEq(x(t), 200 - 200*exp(-t/2))\nEq(x(t), 200 - 200*exp(-t/2))\nEq(x(t), 200 - 200*exp(-t/2))\nEq(x(t), 200 - 200*exp(-t/2))\nEq(x(t), 200 - 200*exp(-t/2))\nEq(x(t), 200 - 200*exp(-t/2))\nEq(x(t), 200 - 200*exp(-t/2))\nEq(x(t), 200 - 200*exp(-t/2))\nEq(x(t), 200 - 200*exp(-t/2))\nEq(x(t), 200 - 200*exp(-t/2))\nEq(x(t), 200 - 200*exp(-t/2))\nEq(x(t), 200 - 200*exp(-t/2))\nEq(x(t), 200 - 200*exp(-t/2))\nEq(x(t), 200 - 200*exp(-t/2))\nEq(x(t), 200 - 200*exp(-t/2))\nEq(x(t), 200 - 200*exp(-t/2))\nEq(x(t), 200 - 200*exp(-t/2))\nEq(x(t), 200 - 200*exp(-t/2))\nEq(x(t), 200 - 200*exp(-t/2))\nEq(x(t), 200 - 200*exp(-t/2))\nEq(x(t), 200 - 200*exp(-t/2))\nEq(x(t), 200 - 200*exp(-t/2))\nEq(x(t), 200 - 200*exp(-t/2))\nEq(x(t), 200 - 200*exp(-t/2))\nEq(x(t), 200 - 200*exp(-t/2))\nEq(x(t), 200 - 200*exp(-t/2))\nEq(x(t), 200 - 200*exp(-t/2))\nEq(x(t), 200 - 200*exp(-t/2))\nEq(x(t), 200 - 200*exp(-t/2))\nEq(x(t), 200 - 200*exp(-t/2))\nEq(x(t), 200 - 200*exp(-t/2))\nEq(x(t), 200 - 200*exp(-t/2))\nEq(x(t), 200 - 200*exp(-t/2))\nEq(x(t), 200 - 200*exp(-t/2))\nEq(x(t), 200 - 200*exp(-t/2))\nEq(x(t), 200 - 200*exp(-t/2))\nEq(x(t), 200 - 200*exp(-t/2))\nEq(x(t), 200 - 200*exp(-t/2))\nEq(x(t), 200 - 200*exp(-t/2))\nEq(x(t), 200 - 200*exp(-t/2))\nEq(x(t), 200 - 200*exp(-t/2))\nEq(x(t), 200 - 200*exp(-t/2))\nEq(x(t), 200 - 200*exp(-t/2))\nEq(x(t), 200 - 200*exp(-t/2))\nEq(x(t), 200 - 200*exp(-t/2))\nEq(x(t), 200 - 200*exp(-t/2))\nEq(x(t), 200 - 200*exp(-t/2))\nEq(x(t), 200 - 200*exp(-t/2))\nEq(x(t), 200 - 200*exp(-t/2))\nEq(x(t), 200 - 200*exp(-t/2))\nEq(x(t), 200 - 200*exp(-t/2))\nEq(x(t), 200 - 200*exp(-t/2))\nEq(x(t), 200 - 200*exp(-t/2))\nEq(x(t), 200 - 200*exp(-t/2))\nEq(x(t), 200 - 200*exp(-t/2))\nEq(x(t), 200 - 200*exp(-t/2))\nEq(x(t), 200 - 200*exp(-t/2))\nEq(x(t), 200 - 200*exp(-t/2))\nEq(x(t), 200 - 200*exp(-t/2))\nEq(x(t), 200 - 200*exp(-t/2))\nEq(x(t), 200 - 200*exp(-t/2))\nEq(x(t), 200 - 200*exp(-t/2))\nEq(x(t), 200 - 200*exp(-t/2))\nEq(x(t), 200 - 200*exp(-t/2))\nEq(x(t), 200 - 200*exp(-t/2))\nEq(x(t), 200 - 200*exp(-t/2))\nEq(x(t), 200 - 200*exp(-t/2))\nEq(x(t), 200 - 200*exp(-t/2))\nEq(x(t), 200 - 200*exp(-t/2))\nEq(x(t), 200 - 200*exp(-t/2))\nEq(x(t), 200 - 200*exp(-t/2))\nEq(x(t), 200 - 200*exp(-t/2))\nEq(x(t), 200 - 200*exp(-t/2))\nEq(x(t), 200 - 200*exp(-t/2))\nEq(x(t), 200 - 200*exp(-t/2))\nEq(x(t), 200 - 200*exp(-t/2))\nEq(x(t), 200 - 200*exp(-t/2))\nEq(x(t), 200 - 200*exp(-t/2))\nEq(x(t), 200 - 200*exp(-t/2))\nEq(x(t), 200 - 200*exp(-t/2))\nEq(x(t), 200 - 200*exp(-t/2))\nEq(x(t), 200 - 200*exp(-t/2))\nEq(x(t), 200 - 200*exp(-t/2))\nEq(x(t), 200 - 200*exp(-t/2))\nEq(x(t), 200 - 200*exp(-t/2))\nEq(x(t), 200 - 200*exp(-t/2))\nEq(x(t), 200 - 200*exp(-t/2))\nEq(x(t), 200 - 200*exp(-t/2))\nEq(x(t), 200 - 200*exp(-t/2))\nEq(x(t), 200 - 200*exp(-t/2))\nEq(x(t), 200 - 200*exp(-t/2))\nEq(x(t), 200 - 200*exp(-t/2))\nEq(x(t), 200 - 200*exp(-t/2))\nEq(x(t), 200 - 200*exp(-t/2))\nEq(x(t), 200 - 200*exp(-t/2))\nEq(x(t), 200 - 200*exp(-t/2))\nEq(x(t), 200 - 200*exp(-t/2))\nEq(x(t), 200 - 200*exp(-t/2))\nEq(x(t), 200 - 200*exp(-t/2))\nEq(x(t), 200 - 200*exp(-t/2))\nEq(x(t), 200 - 200*exp(-t/2))\nEq(x(t), 200 - 200*exp(-t/2))\nEq(x(t), 200 - 200*exp(-t/2))\nEq(x(t), 200 - 200*exp(-t/2))\nEq(x(t), 200 - 200*exp(-t/2))\nEq(x(t), 200 - 200*exp(-t/2))\nEq(x(t), 200 - 200*exp(-t/2))\nEq(x(t), 200 - 200*exp(-t/2))\nEq(x(t), 200 - 200*exp(-t/2))\nEq(x(t), 200 - 200*exp(-t/2))\nEq(x(t), 200 - 200*exp(-t/2))\nEq(x(t), 200 - 200*exp(-t/2))\nEq(x(t), 200 - 200*exp(-t/2))\nEq(x(t), 200 - 200*exp(-t/2))\nEq(x(t), 200 - 200*exp(-t/2))\nEq(x(t), 200 - 200*exp(-t/2))\nEq(x(t), 200 - 200*exp(-t/2))\nEq(x(t), 200 - 200*exp(-t/2))\nEq(x(t), 200 - 200*exp(-t/2))\nEq(x(t), 200 - 200*exp(-t/2))\nEq(x(t), 200 - 200*exp(-t/2))\nEq(x(t), 200 - 200*exp(-t/2))\nEq(x(t), 200 - 200*exp(-t/2))\nEq(x(t), 200 - 200*exp(-t/2))\nEq(x(t), 200 - 200*exp(-t/2))\nEq(x(t), 200 - 200*exp(-t/2))\nEq(x(t), 200 - 200*exp(-t/2))\nEq(x(t), 200 - 200*exp(-t/2))\nEq(x(t), 200 - 200*exp(-t/2))\nEq(x(t), 200 - 200*exp(-t/2))\nEq(x(t), 200 - 200*exp(-t/2))\nEq(x(t), 200 - 200*exp(-t/2))\nEq(x(t), 200 - 200*exp(-t/2))\nEq(x(t), 200 - 200*exp(-t/2))\nEq(x(t), 200 - 200*exp(-t/2))\nEq(x(t), 200 - 200*exp(-t/2))\nEq(x(t), 200 - 200*exp(-t/2))\nEq(x(t), 200 - 200*exp(-t/2))\nEq(x(t), 200 - 200*exp(-t/2))\nEq(x(t), 200 - 200*exp(-t/2))\nEq(x(t), 200 - 200*exp(-t/2))\nEq(x(t), 200 - 200*exp(-t/2))\nEq(x(t), 200 - 200*exp(-t/2))\nEq(x(t), 200 - 200*exp(-t/2))\nEq(x(t), 200 - 200*exp(-t/2))\nEq(x(t), 200 - 200*exp(-t/2))\nEq(x(t), 200 - 200*exp(-t/2))\nEq(x(t), 200 - 200*exp(-t/2))\nEq(x(t), 200 - 200*exp(-t/2))\nEq(x(t), 200 - 200*exp(-t/2))\nEq(x(t), 200 - 200*exp(-t/2))\nEq(x(t), 200 - 200*exp(-t/2))\nEq(x(t), 200 - 200*exp(-t/2))\nEq(x(t), 200 - 200*exp(-t/2))\nEq(x(t), 200 - 200*exp(-t/2))\nEq(x(t), 200 - 200*exp(-t/2))\nEq(x(t), 200 - 200*exp(-t/2))\nEq(x(t), 200 - 200*exp(-t/2))\nEq(x(t), 200 - 200*exp(-t/2))\nEq(x(t), 200 - 200*exp(-t/2))\nEq(x(t), 200 - 200*exp(-t/2))\nEq(x(t), 200 - 200*exp(-t/2))\nEq(x(t), 200 - 200*exp(-t/2))\nEq(x(t), 200 - 200*exp(-t/2))\nEq(x(t), 200 - 200*exp(-t/2))\nEq(x(t), 200 - 200*exp(-t/2))\nEq(x(t), 200 - 200*exp(-t/2))\nEq(x(t), 200 - 200*exp(-t/2))\nEq(x(t), 200 - 200*exp(-t/2))\nEq(x(t), 200 - 200*exp(-t/2))\nEq(x(t), 200 - 200*exp(-t/2))\nEq(x(t), 200 - 200*exp(-t/2))\nEq(x(t), 200 - 200*exp(-t/2))\nEq(x(t), 200 - 200*exp(-t/2))\nEq(x(t), 200 - 200*exp(-t/2))\nEq(x(t), 200 - 200*exp(-t/2))\nEq(x(t), 200 - 200*exp(-t/2))\nEq(x(t), 200 - 200*exp(-t/2))\nEq(x(t), 200 - 200*exp(-t/2))\nEq(x(t), 200 - 200*exp(-t/2))\nEq(x(t), 200 - 200*exp(-t/2))\nEq(x(t), 200 - 200*exp(-t/2))\nEq(x(t), 200 - 200*exp(-t/2))\nEq(x(t), 200 - 200*exp(-t/2))\nEq(x(t), 200 - 200*exp(-t/2))\nEq(x(t), 200 - 200*exp(-t/2))\nEq(x(t), 200 - 200*exp(-t/2))\nEq(x(t), 200 - 200*exp(-t/2))\nEq(x(t), 200 - 200*exp(-t/2))\nEq(x(t), 200 - 200*exp(-t/2))\nEq(x(t), 200 - 200*exp(-t/2))\nEq(x(t), 200 - 200*exp(-t/2))\nEq(x(t), 200 - 200*exp(-t/2))\nEq(x(t), 200 - 200*exp(-t/2))\nEq(x(t), 200 - 200*exp(-t/2))\nEq(x(t), 200 - 200*exp(-t/2))\nEq(x(t), 200 - 200*exp(-t/2))\nEq(x(t), 200 - 200*exp(-t/2))\nEq(x(t), 200 - 200*exp(-t/2))\nEq(x(t), 200 - 200*exp(-t/2))\nEq(x(t), 200 - 200*exp(-t/2))\nEq(x(t), 200 - 200*exp(-t/2))\nEq(x(t), 200 - 200*exp(-t/2))\nEq(x(t), 200 - 200*exp(-t/2))\nEq(x(t), 200 - 200*exp(-t/2))\nEq(x(t), 200 - 200*exp(-t/2))\nEq(x(t), 200 - 200*exp(-t/2))\nEq(x(t), 200 - 200*exp(-t/2))\nEq(x(t), 200 - 200*exp(-t/2))\nEq(x(t), 200 - 200*exp(-t/2))\nEq(x(t), 200 - 200*exp(-t/2))\nEq(x(t), 200 - 200*exp(-t/2))\nEq(x(t), 200 - 200*exp(-t/2))\nEq(x(t), 200 - 200*exp(-t/2))\nEq(x(t), 200 - 200*exp(-t/2))\nEq(x(t), 200 - 200*exp(-t/2))\nEq(x(t), 200 - 200*exp(-t/2))\nEq(x(t), 200 - 200*exp(-t/2))\nEq(x(t), 200 - 200*exp(-t/2))\nEq(x(t), 200 - 200*exp(-t/2))\nEq(x(t), 200 - 200*exp(-t/2))\nEq(x(t), 200 - 200*exp(-t/2))\nEq(x(t), 200 - 200*exp(-t/2))\nEq(x(t), 200 - 200*exp(-t/2))\nEq(x(t), 200 - 200*exp(-t/2))\nEq(x(t), 200 - 200*exp(-t/2))\nEq(x(t), 200 - 200*exp(-t/2))\nEq(x(t), 200 - 200*exp(-t/2))\nEq(x(t), 200 - 200*exp(-t/2))\nEq(x(t), 200 - 200*exp(-t/2))\nEq(x(t), 200 - 200*exp(-t/2))\nEq(x(t), 200 - 200*exp(-t/2))\nEq(x(t), 200 - 200*exp(-t/2))\nEq(x(t), 200 - 200*exp(-t/2))\nEq(x(t), 200 - 200*exp(-t/2))\nEq(x(t), 200 - 200*exp(-t/2))\nEq(x(t), 200 - 200*exp(-t/2))\nEq(x(t), 200 - 200*exp(-t/2))\nEq(x(t), 200 - 200*exp(-t/2))\nEq(x(t), 200 - 200*exp(-t/2))\nEq(x(t), 200 - 200*exp(-t/2))\nEq(x(t), 200 - 200*exp(-t/2))\nEq(x(t), 200 - 200*exp(-t/2))\nEq(x(t), 200 - 200*exp(-t/2))\nEq(x(t), 200 - 200*exp(-t/2))\nEq(x(t), 200 - 200*exp(-t/2))\nEq(x(t), 200 - 200*exp(-t/2))\nEq(x(t), 200 - 200*exp(-t/2))\nEq(x(t), 200 - 200*exp(-t/2))\nEq(x(t), 200 - 200*exp(-t/2))\nEq(x(t), 200 - 200*exp(-t/2))\nEq(x(t), 200 - 200*exp(-t/2))\nEq(x(t), 200 - 200*exp(-t/2))\nEq(x(t), 200 - 200*exp(-t/2))\nEq(x(t), 200 - 200*exp(-t/2))\nEq(x(t), 200 - 200*exp(-t/2))\nEq(x(t), 200 - 200*exp(-t/2))\nEq(x(t), 200 - 200*exp(-t/2))\nEq(x(t), 200 - 200*exp(-t/2))\nEq(x(t), 200 - 200*exp(-t/2))\nEq(x(t), 200 - 200*exp(-t/2))\nEq(x(t), 200 - 200*exp(-t/2))\nEq(x(t), 200 - 200*exp(-t/2))\nEq(x(t), 200 - 200*exp(-t/2))\nEq(x(t), 200 - 200*exp(-t/2))\nEq(x(t), 200 - 200*exp(-t/2))\nEq(x(t), 200 - 200*exp(-t/2))\nEq(x(t), 200 - 200*exp(-t/2))\nEq(x(t), 200 - 200*exp(-t/2))\nEq(x(t), 200 - 200*exp(-t/2))\nEq(x(t), 200 - 200*exp(-t/2))\nEq(x(t), 200 - 200*exp(-t/2))\nEq(x(t), 200 - 200*exp(-t/2))\nEq(x(t), 200 - 200*exp(-t/2))\nEq(x(t), 200 - 200*exp(-t/2))\nEq(x(t), 200 - 200*exp(-t/2))\nEq(x(t), 200 - 200*exp(-t/2))\nEq(x(t), 200 - 200*exp(-t/2))\nEq(x(t), 200 - 200*exp(-t/2))\nEq(x(t), 200 - 200*exp(-t/2))\nEq(x(t), 200 - 200*exp(-t/2))\nEq(x(t), 200 - 200*exp(-t/2))\nEq(x(t), 200 - 200*exp(-t/2))\nEq(x(t), 200 - 200*exp(-t/2))\nEq(x(t), 200 - 200*exp(-t/2))\nEq(x(t), 200 - 200*exp(-t/2))\nEq(x(t), 200 - 200*exp(-t/2))\nEq(x(t), 200 - 200*exp(-t/2))\nEq(x(t), 200 - 200*exp(-t/2))\nEq(x(t), 200 - 200*exp(-t/2))\nEq(x(t), 200 - 200*exp(-t/2))\nEq(x(t), 200 - 200*exp(-t/2))\nEq(x(t), 200 - 200*exp(-t/2))\nEq(x(t), 200 - 200*exp(-t/2))\nEq(x(t), 200 - 200*exp(-t/2))\nEq(x(t), 200 - 200*exp(-t/2))\nEq(x(t), 200 - 200*exp(-t/2))\nEq(x(t), 200 - 200*exp(-t/2))\nEq(x(t), 200 - 200*exp(-t/2))\nEq(x(t), 200 - 200*exp(-t/2))\nEq(x(t), 200 - 200*exp(-t/2))\nEq(x(t), 200 - 200*exp(-t/2))\nEq(x(t), 200 - 200*exp(-t/2))\nEq(x(t), 200 - 200*exp(-t/2))\nEq(x(t), 200 - 200*exp(-t/2))\nEq(x(t), 200 - 200*exp(-t/2))\nEq(x(t), 200 - 200*exp(-t/2))\nEq(x(t), 200 - 200*exp(-t/2))\nEq(x(t), 200 - 200*exp(-t/2))\nEq(x(t), 200 - 200*exp(-t/2))\nEq(x(t), 200 - 200*exp(-t/2))\nEq(x(t), 200 - 200*exp(-t/2))\nEq(x(t), 200 - 200*exp(-t/2))\nEq(x(t), 200 - 200*exp(-t/2))\nEq(x(t), 200 - 200*exp(-t/2))\nEq(x(t), 200 - 200*exp(-t/2))\nEq(x(t), 200 - 200*exp(-t/2))\nEq(x(t), 200 - 200*exp(-t/2))\nEq(x(t), 200 - 200*exp(-t/2))\nEq(x(t), 200 - 200*exp(-t/2))\nEq(x(t), 200 - 200*exp(-t/2))\nEq(x(t), 200 - 200*exp(-t/2))\nEq(x(t), 200 - 200*exp(-t/2))\nEq(x(t), 200 - 200*exp(-t/2))\nEq(x(t), 200 - 200*exp(-t/2))\nEq(x(t), 200 - 200*exp(-t/2))\nEq(x(t), 200 - 200*exp(-t/2))\nEq(x(t), 200 - 200*exp(-t/2))\nEq(x(t), 200 - 200*exp(-t/2))\nEq(x(t), 200 - 200*exp(-t/2))\nEq(x(t), 200 - 200*exp(-t/2))\nEq(x(t), 200 - 200*exp(-t/2))\nEq(x(t), 200 - 200*exp(-t/2))\nEq(x(t), 200 - 200*exp(-t/2))\nEq(x(t), 200 - 200*exp(-t/2))\nEq(x(t), 200 - 200*exp(-t/2))\nEq(x(t), 200 - 200*exp(-t/2))\nEq(x(t), 200 - 200*exp(-t/2))\nEq(x(t), 200 - 200*exp(-t/2))\nEq(x(t), 200 - 200*exp(-t/2))\nEq(x(t), 200 - 200*exp(-t/2))\nEq(x(t), 200 - 200*exp(-t/2))\nEq(x(t), 200 - 200*exp(-t/2))\nEq(x(t), 200 - 200*exp(-t/2))\nEq(x(t), 200 - 200*exp(-t/2))\nEq(x(t), 200 - 200*exp(-t/2))\nEq(x(t), 200 - 200*exp(-t/2))\nEq(x(t), 200 - 200*exp(-t/2))\nEq(x(t), 200 - 200*exp(-t/2))\nEq(x(t), 200 - 200*exp(-t/2))\nEq(x(t), 200 - 200*exp(-t/2))\nEq(x(t), 200 - 200*exp(-t/2))\nEq(x(t), 200 - 200*exp(-t/2))\nEq(x(t), 200 - 200*exp(-t/2))\nEq(x(t), 200 - 200*exp(-t/2))\nEq(x(t), 200 - 200*exp(-t/2))\nEq(x(t), 200 - 200*exp(-t/2))\nEq(x(t), 200 - 200*exp(-t/2))\nEq(x(t), 200 - 200*exp(-t/2))\nEq(x(t), 200 - 200*exp(-t/2))\nEq(x(t), 200 - 200*exp(-t/2))\nEq(x(t), 200 - 200*exp(-t/2))\nEq(x(t), 200 - 200*exp(-t/2))\nEq(x(t), 200 - 200*exp(-t/2))\nEq(x(t), 200 - 200*exp(-t/2))\nEq(x(t), 200 - 200*exp(-t/2))\nEq(x(t), 200 - 200*exp(-t/2))\nEq(x(t), 200 - 200*exp(-t/2))\nEq(x(t), 200 - 200*exp(-t/2))\nEq(x(t), 200 - 200*exp(-t/2))\nEq(x(t), 200 - 200*exp(-t/2))\nEq(x(t), 200 - 200*exp(-t/2))\nEq(x(t), 200 - 200*exp(-t/2))\nEq(x(t), 200 - 200*exp(-t/2))\nEq(x(t), 200 - 200*exp(-t/2))\n"
        },
        {
         "ename": "RecursionError",
         "evalue": "maximum recursion depth exceeded while calling a Python object",
         "output_type": "error",
         "traceback": [
          "\u001b[0;31m---------------------------------------------------------------------------\u001b[0m",
          "\u001b[0;31mRecursionError\u001b[0m                            Traceback (most recent call last)",
          "\u001b[0;32m~/.local/lib/python3.6/site-packages/ipywidgets/widgets/interaction.py\u001b[0m in \u001b[0;36mupdate\u001b[0;34m(self, *args)\u001b[0m\n\u001b[1;32m    248\u001b[0m                     \u001b[0mvalue\u001b[0m \u001b[0;34m=\u001b[0m \u001b[0mwidget\u001b[0m\u001b[0;34m.\u001b[0m\u001b[0mget_interact_value\u001b[0m\u001b[0;34m(\u001b[0m\u001b[0;34m)\u001b[0m\u001b[0;34m\u001b[0m\u001b[0m\n\u001b[1;32m    249\u001b[0m                     \u001b[0mself\u001b[0m\u001b[0;34m.\u001b[0m\u001b[0mkwargs\u001b[0m\u001b[0;34m[\u001b[0m\u001b[0mwidget\u001b[0m\u001b[0;34m.\u001b[0m\u001b[0m_kwarg\u001b[0m\u001b[0;34m]\u001b[0m \u001b[0;34m=\u001b[0m \u001b[0mvalue\u001b[0m\u001b[0;34m\u001b[0m\u001b[0m\n\u001b[0;32m--> 250\u001b[0;31m                 \u001b[0mself\u001b[0m\u001b[0;34m.\u001b[0m\u001b[0mresult\u001b[0m \u001b[0;34m=\u001b[0m \u001b[0mself\u001b[0m\u001b[0;34m.\u001b[0m\u001b[0mf\u001b[0m\u001b[0;34m(\u001b[0m\u001b[0;34m**\u001b[0m\u001b[0mself\u001b[0m\u001b[0;34m.\u001b[0m\u001b[0mkwargs\u001b[0m\u001b[0;34m)\u001b[0m\u001b[0;34m\u001b[0m\u001b[0m\n\u001b[0m\u001b[1;32m    251\u001b[0m                 \u001b[0mshow_inline_matplotlib_plots\u001b[0m\u001b[0;34m(\u001b[0m\u001b[0;34m)\u001b[0m\u001b[0;34m\u001b[0m\u001b[0m\n\u001b[1;32m    252\u001b[0m                 \u001b[0;32mif\u001b[0m \u001b[0mself\u001b[0m\u001b[0;34m.\u001b[0m\u001b[0mauto_display\u001b[0m \u001b[0;32mand\u001b[0m \u001b[0mself\u001b[0m\u001b[0;34m.\u001b[0m\u001b[0mresult\u001b[0m \u001b[0;32mis\u001b[0m \u001b[0;32mnot\u001b[0m \u001b[0;32mNone\u001b[0m\u001b[0;34m:\u001b[0m\u001b[0;34m\u001b[0m\u001b[0m\n",
          "\u001b[0;32m<ipython-input-15-c9e266be32ab>\u001b[0m in \u001b[0;36mplot_f\u001b[0;34m(ω, α)\u001b[0m\n\u001b[1;32m     15\u001b[0m \u001b[0;34m\u001b[0m\u001b[0m\n\u001b[1;32m     16\u001b[0m     \u001b[0;31m# Plot position vs time\u001b[0m\u001b[0;34m\u001b[0m\u001b[0;34m\u001b[0m\u001b[0m\n\u001b[0;32m---> 17\u001b[0;31m     \u001b[0mplot\u001b[0m\u001b[0;34m(\u001b[0m\u001b[0mx1\u001b[0m\u001b[0;34m.\u001b[0m\u001b[0margs\u001b[0m\u001b[0;34m[\u001b[0m\u001b[0;36m1\u001b[0m\u001b[0;34m]\u001b[0m\u001b[0;34m,\u001b[0m \u001b[0;34m(\u001b[0m\u001b[0mt\u001b[0m\u001b[0;34m,\u001b[0m \u001b[0;36m0.0\u001b[0m\u001b[0;34m,\u001b[0m \u001b[0;36m10.0\u001b[0m\u001b[0;34m)\u001b[0m\u001b[0;34m)\u001b[0m\u001b[0;34m;\u001b[0m\u001b[0;34m\u001b[0m\u001b[0m\n\u001b[0m\u001b[1;32m     18\u001b[0m \u001b[0;34m\u001b[0m\u001b[0m\n\u001b[1;32m     19\u001b[0m     \u001b[0;31m#t = np.linspace(0, 2*np.pi, 200)\u001b[0m\u001b[0;34m\u001b[0m\u001b[0;34m\u001b[0m\u001b[0m\n",
          "\u001b[0;32m<ipython-input-13-8beef1da2943>\u001b[0m in \u001b[0;36mplot\u001b[0;34m(ω, α)\u001b[0m\n\u001b[1;32m     16\u001b[0m     \u001b[0;31m# Plot position vs time\u001b[0m\u001b[0;34m\u001b[0m\u001b[0;34m\u001b[0m\u001b[0m\n\u001b[1;32m     17\u001b[0m     \u001b[0mprint\u001b[0m\u001b[0;34m(\u001b[0m\u001b[0mx1\u001b[0m\u001b[0;34m)\u001b[0m\u001b[0;34m\u001b[0m\u001b[0m\n\u001b[0;32m---> 18\u001b[0;31m     \u001b[0mplot\u001b[0m\u001b[0;34m(\u001b[0m\u001b[0mx1\u001b[0m\u001b[0;34m.\u001b[0m\u001b[0margs\u001b[0m\u001b[0;34m[\u001b[0m\u001b[0;36m1\u001b[0m\u001b[0;34m]\u001b[0m\u001b[0;34m,\u001b[0m \u001b[0;34m(\u001b[0m\u001b[0mt\u001b[0m\u001b[0;34m,\u001b[0m \u001b[0;36m0.0\u001b[0m\u001b[0;34m,\u001b[0m \u001b[0;36m10.0\u001b[0m\u001b[0;34m)\u001b[0m\u001b[0;34m)\u001b[0m\u001b[0;34m;\u001b[0m\u001b[0;34m\u001b[0m\u001b[0m\n\u001b[0m\u001b[1;32m     19\u001b[0m \u001b[0;34m\u001b[0m\u001b[0m\n\u001b[1;32m     20\u001b[0m     \u001b[0;31m#t = np.linspace(0, 2*np.pi, 200)\u001b[0m\u001b[0;34m\u001b[0m\u001b[0;34m\u001b[0m\u001b[0m\n",
          "\u001b[0;32m<ipython-input-13-8beef1da2943>\u001b[0m in \u001b[0;36mplot\u001b[0;34m(ω, α)\u001b[0m\n\u001b[1;32m     16\u001b[0m     \u001b[0;31m# Plot position vs time\u001b[0m\u001b[0;34m\u001b[0m\u001b[0;34m\u001b[0m\u001b[0m\n\u001b[1;32m     17\u001b[0m     \u001b[0mprint\u001b[0m\u001b[0;34m(\u001b[0m\u001b[0mx1\u001b[0m\u001b[0;34m)\u001b[0m\u001b[0;34m\u001b[0m\u001b[0m\n\u001b[0;32m---> 18\u001b[0;31m     \u001b[0mplot\u001b[0m\u001b[0;34m(\u001b[0m\u001b[0mx1\u001b[0m\u001b[0;34m.\u001b[0m\u001b[0margs\u001b[0m\u001b[0;34m[\u001b[0m\u001b[0;36m1\u001b[0m\u001b[0;34m]\u001b[0m\u001b[0;34m,\u001b[0m \u001b[0;34m(\u001b[0m\u001b[0mt\u001b[0m\u001b[0;34m,\u001b[0m \u001b[0;36m0.0\u001b[0m\u001b[0;34m,\u001b[0m \u001b[0;36m10.0\u001b[0m\u001b[0;34m)\u001b[0m\u001b[0;34m)\u001b[0m\u001b[0;34m;\u001b[0m\u001b[0;34m\u001b[0m\u001b[0m\n\u001b[0m\u001b[1;32m     19\u001b[0m \u001b[0;34m\u001b[0m\u001b[0m\n\u001b[1;32m     20\u001b[0m     \u001b[0;31m#t = np.linspace(0, 2*np.pi, 200)\u001b[0m\u001b[0;34m\u001b[0m\u001b[0;34m\u001b[0m\u001b[0m\n",
          "\u001b[0;32m<ipython-input-13-8beef1da2943>\u001b[0m in \u001b[0;36mplot\u001b[0;34m(ω, α)\u001b[0m\n\u001b[1;32m     16\u001b[0m     \u001b[0;31m# Plot position vs time\u001b[0m\u001b[0;34m\u001b[0m\u001b[0;34m\u001b[0m\u001b[0m\n\u001b[1;32m     17\u001b[0m     \u001b[0mprint\u001b[0m\u001b[0;34m(\u001b[0m\u001b[0mx1\u001b[0m\u001b[0;34m)\u001b[0m\u001b[0;34m\u001b[0m\u001b[0m\n\u001b[0;32m---> 18\u001b[0;31m     \u001b[0mplot\u001b[0m\u001b[0;34m(\u001b[0m\u001b[0mx1\u001b[0m\u001b[0;34m.\u001b[0m\u001b[0margs\u001b[0m\u001b[0;34m[\u001b[0m\u001b[0;36m1\u001b[0m\u001b[0;34m]\u001b[0m\u001b[0;34m,\u001b[0m \u001b[0;34m(\u001b[0m\u001b[0mt\u001b[0m\u001b[0;34m,\u001b[0m \u001b[0;36m0.0\u001b[0m\u001b[0;34m,\u001b[0m \u001b[0;36m10.0\u001b[0m\u001b[0;34m)\u001b[0m\u001b[0;34m)\u001b[0m\u001b[0;34m;\u001b[0m\u001b[0;34m\u001b[0m\u001b[0m\n\u001b[0m\u001b[1;32m     19\u001b[0m \u001b[0;34m\u001b[0m\u001b[0m\n\u001b[1;32m     20\u001b[0m     \u001b[0;31m#t = np.linspace(0, 2*np.pi, 200)\u001b[0m\u001b[0;34m\u001b[0m\u001b[0;34m\u001b[0m\u001b[0m\n",
          "\u001b[0;32m<ipython-input-13-8beef1da2943>\u001b[0m in \u001b[0;36mplot\u001b[0;34m(ω, α)\u001b[0m\n\u001b[1;32m     16\u001b[0m     \u001b[0;31m# Plot position vs time\u001b[0m\u001b[0;34m\u001b[0m\u001b[0;34m\u001b[0m\u001b[0m\n\u001b[1;32m     17\u001b[0m     \u001b[0mprint\u001b[0m\u001b[0;34m(\u001b[0m\u001b[0mx1\u001b[0m\u001b[0;34m)\u001b[0m\u001b[0;34m\u001b[0m\u001b[0m\n\u001b[0;32m---> 18\u001b[0;31m     \u001b[0mplot\u001b[0m\u001b[0;34m(\u001b[0m\u001b[0mx1\u001b[0m\u001b[0;34m.\u001b[0m\u001b[0margs\u001b[0m\u001b[0;34m[\u001b[0m\u001b[0;36m1\u001b[0m\u001b[0;34m]\u001b[0m\u001b[0;34m,\u001b[0m \u001b[0;34m(\u001b[0m\u001b[0mt\u001b[0m\u001b[0;34m,\u001b[0m \u001b[0;36m0.0\u001b[0m\u001b[0;34m,\u001b[0m \u001b[0;36m10.0\u001b[0m\u001b[0;34m)\u001b[0m\u001b[0;34m)\u001b[0m\u001b[0;34m;\u001b[0m\u001b[0;34m\u001b[0m\u001b[0m\n\u001b[0m\u001b[1;32m     19\u001b[0m \u001b[0;34m\u001b[0m\u001b[0m\n\u001b[1;32m     20\u001b[0m     \u001b[0;31m#t = np.linspace(0, 2*np.pi, 200)\u001b[0m\u001b[0;34m\u001b[0m\u001b[0;34m\u001b[0m\u001b[0m\n",
          "\u001b[0;32m<ipython-input-13-8beef1da2943>\u001b[0m in \u001b[0;36mplot\u001b[0;34m(ω, α)\u001b[0m\n\u001b[1;32m     16\u001b[0m     \u001b[0;31m# Plot position vs time\u001b[0m\u001b[0;34m\u001b[0m\u001b[0;34m\u001b[0m\u001b[0m\n\u001b[1;32m     17\u001b[0m     \u001b[0mprint\u001b[0m\u001b[0;34m(\u001b[0m\u001b[0mx1\u001b[0m\u001b[0;34m)\u001b[0m\u001b[0;34m\u001b[0m\u001b[0m\n\u001b[0;32m---> 18\u001b[0;31m     \u001b[0mplot\u001b[0m\u001b[0;34m(\u001b[0m\u001b[0mx1\u001b[0m\u001b[0;34m.\u001b[0m\u001b[0margs\u001b[0m\u001b[0;34m[\u001b[0m\u001b[0;36m1\u001b[0m\u001b[0;34m]\u001b[0m\u001b[0;34m,\u001b[0m \u001b[0;34m(\u001b[0m\u001b[0mt\u001b[0m\u001b[0;34m,\u001b[0m \u001b[0;36m0.0\u001b[0m\u001b[0;34m,\u001b[0m \u001b[0;36m10.0\u001b[0m\u001b[0;34m)\u001b[0m\u001b[0;34m)\u001b[0m\u001b[0;34m;\u001b[0m\u001b[0;34m\u001b[0m\u001b[0m\n\u001b[0m\u001b[1;32m     19\u001b[0m \u001b[0;34m\u001b[0m\u001b[0m\n\u001b[1;32m     20\u001b[0m     \u001b[0;31m#t = np.linspace(0, 2*np.pi, 200)\u001b[0m\u001b[0;34m\u001b[0m\u001b[0;34m\u001b[0m\u001b[0m\n",
          "... last 5 frames repeated, from the frame below ...\n",
          "\u001b[0;32m<ipython-input-13-8beef1da2943>\u001b[0m in \u001b[0;36mplot\u001b[0;34m(ω, α)\u001b[0m\n\u001b[1;32m     16\u001b[0m     \u001b[0;31m# Plot position vs time\u001b[0m\u001b[0;34m\u001b[0m\u001b[0;34m\u001b[0m\u001b[0m\n\u001b[1;32m     17\u001b[0m     \u001b[0mprint\u001b[0m\u001b[0;34m(\u001b[0m\u001b[0mx1\u001b[0m\u001b[0;34m)\u001b[0m\u001b[0;34m\u001b[0m\u001b[0m\n\u001b[0;32m---> 18\u001b[0;31m     \u001b[0mplot\u001b[0m\u001b[0;34m(\u001b[0m\u001b[0mx1\u001b[0m\u001b[0;34m.\u001b[0m\u001b[0margs\u001b[0m\u001b[0;34m[\u001b[0m\u001b[0;36m1\u001b[0m\u001b[0;34m]\u001b[0m\u001b[0;34m,\u001b[0m \u001b[0;34m(\u001b[0m\u001b[0mt\u001b[0m\u001b[0;34m,\u001b[0m \u001b[0;36m0.0\u001b[0m\u001b[0;34m,\u001b[0m \u001b[0;36m10.0\u001b[0m\u001b[0;34m)\u001b[0m\u001b[0;34m)\u001b[0m\u001b[0;34m;\u001b[0m\u001b[0;34m\u001b[0m\u001b[0m\n\u001b[0m\u001b[1;32m     19\u001b[0m \u001b[0;34m\u001b[0m\u001b[0m\n\u001b[1;32m     20\u001b[0m     \u001b[0;31m#t = np.linspace(0, 2*np.pi, 200)\u001b[0m\u001b[0;34m\u001b[0m\u001b[0;34m\u001b[0m\u001b[0m\n",
          "\u001b[0;31mRecursionError\u001b[0m: maximum recursion depth exceeded while calling a Python object"
         ]
        }
       ]
      }
     },
     "cd870c5a2d8e4a8ba52ca7baaa5122ac": {
      "model_module": "@jupyter-widgets/base",
      "model_module_version": "1.0.0",
      "model_name": "LayoutModel",
      "state": {}
     },
     "cdf36ae511054b3e8de87994412948f8": {
      "model_module": "@jupyter-widgets/base",
      "model_module_version": "1.0.0",
      "model_name": "LayoutModel",
      "state": {}
     },
     "ce4f05db897247a8b4dc1ca16383d32a": {
      "model_module": "@jupyter-widgets/controls",
      "model_module_version": "1.0.0",
      "model_name": "SliderStyleModel",
      "state": {
       "description_width": ""
      }
     },
     "cf91d3086dc94c81bdbd25a953897442": {
      "model_module": "@jupyter-widgets/base",
      "model_module_version": "1.0.0",
      "model_name": "LayoutModel",
      "state": {}
     },
     "cff3499a39894f22a4d1b00b4a121427": {
      "model_module": "@jupyter-widgets/controls",
      "model_module_version": "1.0.0",
      "model_name": "VBoxModel",
      "state": {
       "_dom_classes": [
        "widget-interact"
       ],
       "children": [
        "IPY_MODEL_84b7de7618924eabb6988bf769352dee",
        "IPY_MODEL_6cf69700afe548c780e7b85cd19e8726",
        "IPY_MODEL_bc570f771a7e421ea5de177f0518c8f3"
       ],
       "layout": "IPY_MODEL_3b02eda6256d455789485fa42b505ea9"
      }
     },
     "d129db1065bc4c8baa2db5b401a5776e": {
      "model_module": "@jupyter-widgets/base",
      "model_module_version": "1.0.0",
      "model_name": "LayoutModel",
      "state": {}
     },
     "d1b40c428abd43c1b963a323b1364dbc": {
      "model_module": "@jupyter-widgets/base",
      "model_module_version": "1.0.0",
      "model_name": "LayoutModel",
      "state": {}
     },
     "d23f5b8423a740a485f5bdc158bdccbb": {
      "model_module": "@jupyter-widgets/controls",
      "model_module_version": "1.0.0",
      "model_name": "VBoxModel",
      "state": {
       "_dom_classes": [
        "widget-interact"
       ],
       "children": [
        "IPY_MODEL_247ea8fbff9b4f56bd94d55b70f51239",
        "IPY_MODEL_43f35f2a83bb44aab5b3ecadac0fdb5e",
        "IPY_MODEL_cd54a828f385466cbeb2946d41e90075"
       ],
       "layout": "IPY_MODEL_f45f2bf6718a485ea3bfe3d086b962d8"
      }
     },
     "d2e22ba3293b4be29a794366a93f0fe1": {
      "model_module": "@jupyter-widgets/base",
      "model_module_version": "1.0.0",
      "model_name": "LayoutModel",
      "state": {}
     },
     "d397495e99a9464a824c3e078e0da7b7": {
      "model_module": "@jupyter-widgets/output",
      "model_module_version": "1.0.0",
      "model_name": "OutputModel",
      "state": {
       "layout": "IPY_MODEL_e92f12fab2644d7daafdc3cde42cdf05"
      }
     },
     "d417de3525cc41988f0ebaf4b0273bd7": {
      "model_module": "@jupyter-widgets/base",
      "model_module_version": "1.0.0",
      "model_name": "LayoutModel",
      "state": {}
     },
     "d600f0753e304f85a7be419d07fb84c4": {
      "model_module": "@jupyter-widgets/base",
      "model_module_version": "1.0.0",
      "model_name": "LayoutModel",
      "state": {}
     },
     "d6295fa6efc0451188033207b425e6a4": {
      "model_module": "@jupyter-widgets/output",
      "model_module_version": "1.0.0",
      "model_name": "OutputModel",
      "state": {
       "layout": "IPY_MODEL_afd173138f4743a5a0eb75de5caad1f4",
       "outputs": [
        {
         "ename": "NameError",
         "evalue": "name 'tau0' is not defined",
         "output_type": "error",
         "traceback": [
          "\u001b[0;31m---------------------------------------------------------------------------\u001b[0m",
          "\u001b[0;31mNameError\u001b[0m                                 Traceback (most recent call last)",
          "\u001b[0;32m~/.local/lib/python3.6/site-packages/ipywidgets/widgets/interaction.py\u001b[0m in \u001b[0;36mupdate\u001b[0;34m(self, *args)\u001b[0m\n\u001b[1;32m    248\u001b[0m                     \u001b[0mvalue\u001b[0m \u001b[0;34m=\u001b[0m \u001b[0mwidget\u001b[0m\u001b[0;34m.\u001b[0m\u001b[0mget_interact_value\u001b[0m\u001b[0;34m(\u001b[0m\u001b[0;34m)\u001b[0m\u001b[0;34m\u001b[0m\u001b[0m\n\u001b[1;32m    249\u001b[0m                     \u001b[0mself\u001b[0m\u001b[0;34m.\u001b[0m\u001b[0mkwargs\u001b[0m\u001b[0;34m[\u001b[0m\u001b[0mwidget\u001b[0m\u001b[0;34m.\u001b[0m\u001b[0m_kwarg\u001b[0m\u001b[0;34m]\u001b[0m \u001b[0;34m=\u001b[0m \u001b[0mvalue\u001b[0m\u001b[0;34m\u001b[0m\u001b[0m\n\u001b[0;32m--> 250\u001b[0;31m                 \u001b[0mself\u001b[0m\u001b[0;34m.\u001b[0m\u001b[0mresult\u001b[0m \u001b[0;34m=\u001b[0m \u001b[0mself\u001b[0m\u001b[0;34m.\u001b[0m\u001b[0mf\u001b[0m\u001b[0;34m(\u001b[0m\u001b[0;34m**\u001b[0m\u001b[0mself\u001b[0m\u001b[0;34m.\u001b[0m\u001b[0mkwargs\u001b[0m\u001b[0;34m)\u001b[0m\u001b[0;34m\u001b[0m\u001b[0m\n\u001b[0m\u001b[1;32m    251\u001b[0m                 \u001b[0mshow_inline_matplotlib_plots\u001b[0m\u001b[0;34m(\u001b[0m\u001b[0;34m)\u001b[0m\u001b[0;34m\u001b[0m\u001b[0m\n\u001b[1;32m    252\u001b[0m                 \u001b[0;32mif\u001b[0m \u001b[0mself\u001b[0m\u001b[0;34m.\u001b[0m\u001b[0mauto_display\u001b[0m \u001b[0;32mand\u001b[0m \u001b[0mself\u001b[0m\u001b[0;34m.\u001b[0m\u001b[0mresult\u001b[0m \u001b[0;32mis\u001b[0m \u001b[0;32mnot\u001b[0m \u001b[0;32mNone\u001b[0m\u001b[0;34m:\u001b[0m\u001b[0;34m\u001b[0m\u001b[0m\n",
          "\u001b[0;32m<ipython-input-30-b50d95c663af>\u001b[0m in \u001b[0;36mplot\u001b[0;34m(v, τ)\u001b[0m\n\u001b[1;32m     12\u001b[0m \u001b[0;32mdef\u001b[0m \u001b[0mplot\u001b[0m\u001b[0;34m(\u001b[0m\u001b[0mv\u001b[0m\u001b[0;34m=\u001b[0m\u001b[0;36m1\u001b[0m\u001b[0;34m,\u001b[0m \u001b[0mτ\u001b[0m\u001b[0;34m=\u001b[0m\u001b[0;36m0\u001b[0m\u001b[0;34m)\u001b[0m\u001b[0;34m:\u001b[0m\u001b[0;34m\u001b[0m\u001b[0m\n\u001b[1;32m     13\u001b[0m     \u001b[0mx1\u001b[0m \u001b[0;34m=\u001b[0m \u001b[0mx\u001b[0m\u001b[0;34m.\u001b[0m\u001b[0msubs\u001b[0m\u001b[0;34m(\u001b[0m\u001b[0mv0\u001b[0m\u001b[0;34m,\u001b[0m \u001b[0mv\u001b[0m\u001b[0;34m)\u001b[0m\u001b[0;34m\u001b[0m\u001b[0m\n\u001b[0;32m---> 14\u001b[0;31m     \u001b[0mx1\u001b[0m \u001b[0;34m=\u001b[0m \u001b[0mx1\u001b[0m\u001b[0;34m.\u001b[0m\u001b[0msubs\u001b[0m\u001b[0;34m(\u001b[0m\u001b[0mtau\u001b[0m\u001b[0;34m,\u001b[0m \u001b[0mtau0\u001b[0m\u001b[0;34m)\u001b[0m\u001b[0;34m\u001b[0m\u001b[0m\n\u001b[0m\u001b[1;32m     15\u001b[0m \u001b[0;34m\u001b[0m\u001b[0m\n\u001b[1;32m     16\u001b[0m     \u001b[0;31m# Plot position vs time\u001b[0m\u001b[0;34m\u001b[0m\u001b[0;34m\u001b[0m\u001b[0m\n",
          "\u001b[0;31mNameError\u001b[0m: name 'tau0' is not defined"
         ]
        }
       ]
      }
     },
     "d6979b5e37874255beb3db9037ebb30a": {
      "model_module": "@jupyter-widgets/base",
      "model_module_version": "1.0.0",
      "model_name": "LayoutModel",
      "state": {}
     },
     "d74bdafb8a4d4198ae64262e0850c865": {
      "model_module": "@jupyter-widgets/controls",
      "model_module_version": "1.0.0",
      "model_name": "FloatSliderModel",
      "state": {
       "description": "ω",
       "layout": "IPY_MODEL_9847bbac90d749129b186c2d7a01751e",
       "max": 10,
       "min": -10,
       "step": 0.25,
       "style": "IPY_MODEL_f4d3f700312f4a9d8a38c57d63aad21b",
       "value": 1
      }
     },
     "d7ecedb72fd84bf19a978fc80dfb28ca": {
      "model_module": "@jupyter-widgets/base",
      "model_module_version": "1.0.0",
      "model_name": "LayoutModel",
      "state": {}
     },
     "d7ed453844884f66b5c418ba55e33542": {
      "model_module": "@jupyter-widgets/base",
      "model_module_version": "1.0.0",
      "model_name": "LayoutModel",
      "state": {}
     },
     "d88a765b8d1f475f8e4b5ea5cb38121f": {
      "model_module": "@jupyter-widgets/controls",
      "model_module_version": "1.0.0",
      "model_name": "SliderStyleModel",
      "state": {
       "description_width": ""
      }
     },
     "d8e095c8b7d147b5be81e8c540340dcf": {
      "model_module": "@jupyter-widgets/base",
      "model_module_version": "1.0.0",
      "model_name": "LayoutModel",
      "state": {}
     },
     "db5c6fe9ec8b4a0683e2a50d0bcb995c": {
      "model_module": "@jupyter-widgets/controls",
      "model_module_version": "1.0.0",
      "model_name": "SliderStyleModel",
      "state": {
       "description_width": ""
      }
     },
     "dc03c8216c41492a8370fd797388e31e": {
      "model_module": "@jupyter-widgets/base",
      "model_module_version": "1.0.0",
      "model_name": "LayoutModel",
      "state": {}
     },
     "dc2b25f4264c4608a9fdc160c9683a3f": {
      "model_module": "@jupyter-widgets/base",
      "model_module_version": "1.0.0",
      "model_name": "LayoutModel",
      "state": {}
     },
     "dc627d59dd0e4810a2d7dceb6164d0cb": {
      "model_module": "@jupyter-widgets/controls",
      "model_module_version": "1.0.0",
      "model_name": "SliderStyleModel",
      "state": {
       "description_width": ""
      }
     },
     "dc7c295ff99d49a09df448f16d40b7d7": {
      "model_module": "@jupyter-widgets/controls",
      "model_module_version": "1.0.0",
      "model_name": "FloatSliderModel",
      "state": {
       "description": "xtau",
       "layout": "IPY_MODEL_ebdc344eb0094f30a46792ee250f5087",
       "max": 2,
       "step": 0.25,
       "style": "IPY_MODEL_f7add81e14334f808e80bda299842955",
       "value": 0.1
      }
     },
     "dda7edcec6394d4ab3b7c4ece98743f0": {
      "model_module": "@jupyter-widgets/controls",
      "model_module_version": "1.0.0",
      "model_name": "SliderStyleModel",
      "state": {
       "description_width": ""
      }
     },
     "ddbd4f28d2654195bf15c7d24b8c8c8f": {
      "model_module": "@jupyter-widgets/output",
      "model_module_version": "1.0.0",
      "model_name": "OutputModel",
      "state": {
       "layout": "IPY_MODEL_212cdab2040346d7915a5e685fb863a5",
       "outputs": [
        {
         "ename": "ValueError",
         "evalue": "The same variable should be used in all univariate expressions being plotted.",
         "output_type": "error",
         "traceback": [
          "\u001b[0;31m---------------------------------------------------------------------------\u001b[0m",
          "\u001b[0;31mValueError\u001b[0m                                Traceback (most recent call last)",
          "\u001b[0;32m~/.local/lib/python3.6/site-packages/ipywidgets/widgets/interaction.py\u001b[0m in \u001b[0;36mupdate\u001b[0;34m(self, *args)\u001b[0m\n\u001b[1;32m    248\u001b[0m                     \u001b[0mvalue\u001b[0m \u001b[0;34m=\u001b[0m \u001b[0mwidget\u001b[0m\u001b[0;34m.\u001b[0m\u001b[0mget_interact_value\u001b[0m\u001b[0;34m(\u001b[0m\u001b[0;34m)\u001b[0m\u001b[0;34m\u001b[0m\u001b[0m\n\u001b[1;32m    249\u001b[0m                     \u001b[0mself\u001b[0m\u001b[0;34m.\u001b[0m\u001b[0mkwargs\u001b[0m\u001b[0;34m[\u001b[0m\u001b[0mwidget\u001b[0m\u001b[0;34m.\u001b[0m\u001b[0m_kwarg\u001b[0m\u001b[0;34m]\u001b[0m \u001b[0;34m=\u001b[0m \u001b[0mvalue\u001b[0m\u001b[0;34m\u001b[0m\u001b[0m\n\u001b[0;32m--> 250\u001b[0;31m                 \u001b[0mself\u001b[0m\u001b[0;34m.\u001b[0m\u001b[0mresult\u001b[0m \u001b[0;34m=\u001b[0m \u001b[0mself\u001b[0m\u001b[0;34m.\u001b[0m\u001b[0mf\u001b[0m\u001b[0;34m(\u001b[0m\u001b[0;34m**\u001b[0m\u001b[0mself\u001b[0m\u001b[0;34m.\u001b[0m\u001b[0mkwargs\u001b[0m\u001b[0;34m)\u001b[0m\u001b[0;34m\u001b[0m\u001b[0m\n\u001b[0m\u001b[1;32m    251\u001b[0m                 \u001b[0mshow_inline_matplotlib_plots\u001b[0m\u001b[0;34m(\u001b[0m\u001b[0;34m)\u001b[0m\u001b[0;34m\u001b[0m\u001b[0m\n\u001b[1;32m    252\u001b[0m                 \u001b[0;32mif\u001b[0m \u001b[0mself\u001b[0m\u001b[0;34m.\u001b[0m\u001b[0mauto_display\u001b[0m \u001b[0;32mand\u001b[0m \u001b[0mself\u001b[0m\u001b[0;34m.\u001b[0m\u001b[0mresult\u001b[0m \u001b[0;32mis\u001b[0m \u001b[0;32mnot\u001b[0m \u001b[0;32mNone\u001b[0m\u001b[0;34m:\u001b[0m\u001b[0;34m\u001b[0m\u001b[0m\n",
          "\u001b[0;32m<ipython-input-27-6ac2557dc740>\u001b[0m in \u001b[0;36mplot\u001b[0;34m(v0, tau)\u001b[0m\n\u001b[1;32m     15\u001b[0m \u001b[0;34m\u001b[0m\u001b[0m\n\u001b[1;32m     16\u001b[0m     \u001b[0;31m# Plot position vs time\u001b[0m\u001b[0;34m\u001b[0m\u001b[0;34m\u001b[0m\u001b[0m\n\u001b[0;32m---> 17\u001b[0;31m     \u001b[0msympy\u001b[0m\u001b[0;34m.\u001b[0m\u001b[0mplot\u001b[0m\u001b[0;34m(\u001b[0m\u001b[0mx1\u001b[0m\u001b[0;34m.\u001b[0m\u001b[0margs\u001b[0m\u001b[0;34m[\u001b[0m\u001b[0;36m1\u001b[0m\u001b[0;34m]\u001b[0m\u001b[0;34m,\u001b[0m \u001b[0;34m(\u001b[0m\u001b[0mt\u001b[0m\u001b[0;34m,\u001b[0m \u001b[0;36m0.0\u001b[0m\u001b[0;34m,\u001b[0m \u001b[0;36m10.0\u001b[0m\u001b[0;34m)\u001b[0m\u001b[0;34m)\u001b[0m\u001b[0;34m;\u001b[0m\u001b[0;34m\u001b[0m\u001b[0m\n\u001b[0m\u001b[1;32m     18\u001b[0m \u001b[0;34m\u001b[0m\u001b[0m\n\u001b[1;32m     19\u001b[0m     \u001b[0;31m#t = np.linspace(0, 2*np.pi, 200)\u001b[0m\u001b[0;34m\u001b[0m\u001b[0;34m\u001b[0m\u001b[0m\n",
          "\u001b[0;32m~/.local/lib/python3.6/site-packages/sympy/plotting/plot.py\u001b[0m in \u001b[0;36mplot\u001b[0;34m(*args, **kwargs)\u001b[0m\n\u001b[1;32m   1281\u001b[0m             \u001b[0;32mif\u001b[0m \u001b[0mlen\u001b[0m\u001b[0;34m(\u001b[0m\u001b[0mfree\u001b[0m\u001b[0;34m)\u001b[0m \u001b[0;34m>\u001b[0m \u001b[0;36m1\u001b[0m\u001b[0;34m:\u001b[0m\u001b[0;34m\u001b[0m\u001b[0m\n\u001b[1;32m   1282\u001b[0m                 raise ValueError(\n\u001b[0;32m-> 1283\u001b[0;31m                     \u001b[0;34m'The same variable should be used in all '\u001b[0m\u001b[0;34m\u001b[0m\u001b[0m\n\u001b[0m\u001b[1;32m   1284\u001b[0m                     'univariate expressions being plotted.')\n\u001b[1;32m   1285\u001b[0m     \u001b[0mx\u001b[0m \u001b[0;34m=\u001b[0m \u001b[0mfree\u001b[0m\u001b[0;34m.\u001b[0m\u001b[0mpop\u001b[0m\u001b[0;34m(\u001b[0m\u001b[0;34m)\u001b[0m \u001b[0;32mif\u001b[0m \u001b[0mfree\u001b[0m \u001b[0;32melse\u001b[0m \u001b[0mSymbol\u001b[0m\u001b[0;34m(\u001b[0m\u001b[0;34m'x'\u001b[0m\u001b[0;34m)\u001b[0m\u001b[0;34m\u001b[0m\u001b[0m\n",
          "\u001b[0;31mValueError\u001b[0m: The same variable should be used in all univariate expressions being plotted."
         ]
        }
       ]
      }
     },
     "de7fb4a231584890bbb14f9151c6d64b": {
      "model_module": "@jupyter-widgets/controls",
      "model_module_version": "1.0.0",
      "model_name": "FloatSliderModel",
      "state": {
       "description": "ω",
       "layout": "IPY_MODEL_5b0f96d2fc94423f828c2707d57e9814",
       "max": 10,
       "min": -10,
       "step": 0.25,
       "style": "IPY_MODEL_3565af44bac24a3cba31e7ba49ee470b",
       "value": 1
      }
     },
     "df7b50d567c64025971ec8b9b51212d7": {
      "model_module": "@jupyter-widgets/output",
      "model_module_version": "1.0.0",
      "model_name": "OutputModel",
      "state": {
       "layout": "IPY_MODEL_633730c7c07444e3a8cc538a3e6f98c8"
      }
     },
     "df9edc910b7c452ab0f33b34fcdb43ac": {
      "model_module": "@jupyter-widgets/controls",
      "model_module_version": "1.0.0",
      "model_name": "VBoxModel",
      "state": {
       "_dom_classes": [
        "widget-interact"
       ],
       "children": [
        "IPY_MODEL_2f028770b02d49a5938a4652ae468436",
        "IPY_MODEL_9201bf64722e45d8b36d90b06d2febff",
        "IPY_MODEL_b2e45b9a4d7e4a6d8800fe5bee95d604"
       ],
       "layout": "IPY_MODEL_e5c43b62747c4f3e9e4de74580cf25c6"
      }
     },
     "e07f8925cee54fbb9820e5098ca569b3": {
      "model_module": "@jupyter-widgets/controls",
      "model_module_version": "1.0.0",
      "model_name": "FloatSliderModel",
      "state": {
       "description": "tau",
       "layout": "IPY_MODEL_bb8b324be4154d918ce6c32f773e3d26",
       "max": 2,
       "step": 0.25,
       "style": "IPY_MODEL_c65099674f794db7acc5102992afff7d",
       "value": 1
      }
     },
     "e14a21659b4c4a218702e70405881827": {
      "model_module": "@jupyter-widgets/base",
      "model_module_version": "1.0.0",
      "model_name": "LayoutModel",
      "state": {}
     },
     "e1a2687003614fd187b4f90ef41feb9d": {
      "model_module": "@jupyter-widgets/controls",
      "model_module_version": "1.0.0",
      "model_name": "SliderStyleModel",
      "state": {
       "description_width": ""
      }
     },
     "e1ae28d8ddd04a5088d2e188346e5254": {
      "model_module": "@jupyter-widgets/controls",
      "model_module_version": "1.0.0",
      "model_name": "IntSliderModel",
      "state": {
       "description": "v",
       "layout": "IPY_MODEL_d600f0753e304f85a7be419d07fb84c4",
       "max": 3,
       "min": -1,
       "style": "IPY_MODEL_58744959060845f399badd83d3df5168",
       "value": 1
      }
     },
     "e2e71d9228214b358208ab5ca5364019": {
      "model_module": "@jupyter-widgets/base",
      "model_module_version": "1.0.0",
      "model_name": "LayoutModel",
      "state": {}
     },
     "e2fde16287e941a99cc155ba59210d44": {
      "model_module": "@jupyter-widgets/base",
      "model_module_version": "1.0.0",
      "model_name": "LayoutModel",
      "state": {}
     },
     "e506bfd410074302b7aa7b7580a67c03": {
      "model_module": "@jupyter-widgets/controls",
      "model_module_version": "1.0.0",
      "model_name": "VBoxModel",
      "state": {
       "_dom_classes": [
        "widget-interact"
       ],
       "children": [
        "IPY_MODEL_f523f88f7566493895b68e9eeab57586",
        "IPY_MODEL_3e9f33f881a44f11988943e71e700d2c"
       ],
       "layout": "IPY_MODEL_a979b072bf98410cb81170a3b985a4bb"
      }
     },
     "e5c43b62747c4f3e9e4de74580cf25c6": {
      "model_module": "@jupyter-widgets/base",
      "model_module_version": "1.0.0",
      "model_name": "LayoutModel",
      "state": {}
     },
     "e75097d3bec943bb85d9dbaee971a49e": {
      "model_module": "@jupyter-widgets/controls",
      "model_module_version": "1.0.0",
      "model_name": "SliderStyleModel",
      "state": {
       "description_width": ""
      }
     },
     "e806e4e36aef4e17837cacbda5f56e31": {
      "model_module": "@jupyter-widgets/base",
      "model_module_version": "1.0.0",
      "model_name": "LayoutModel",
      "state": {}
     },
     "e92f12fab2644d7daafdc3cde42cdf05": {
      "model_module": "@jupyter-widgets/base",
      "model_module_version": "1.0.0",
      "model_name": "LayoutModel",
      "state": {}
     },
     "eb076ee42a234122860008f2543968b4": {
      "model_module": "@jupyter-widgets/controls",
      "model_module_version": "1.0.0",
      "model_name": "IntSliderModel",
      "state": {
       "description": "τ",
       "layout": "IPY_MODEL_b4c95ebdd2d549de87543a0347333593",
       "max": 1,
       "style": "IPY_MODEL_50d76727251d429b94bdd4d9957c68a6"
      }
     },
     "eb1747a28bef45f09503dc7b9e5fee3c": {
      "model_module": "@jupyter-widgets/controls",
      "model_module_version": "1.0.0",
      "model_name": "SliderStyleModel",
      "state": {
       "description_width": ""
      }
     },
     "ebdc344eb0094f30a46792ee250f5087": {
      "model_module": "@jupyter-widgets/base",
      "model_module_version": "1.0.0",
      "model_name": "LayoutModel",
      "state": {}
     },
     "ebe0151631134defa791f83073ad18a5": {
      "model_module": "@jupyter-widgets/controls",
      "model_module_version": "1.0.0",
      "model_name": "SliderStyleModel",
      "state": {
       "description_width": ""
      }
     },
     "eed041245e634e7eb384e76d4197e573": {
      "model_module": "@jupyter-widgets/base",
      "model_module_version": "1.0.0",
      "model_name": "LayoutModel",
      "state": {}
     },
     "efbd7d2575c944a7905e40a89a46404b": {
      "model_module": "@jupyter-widgets/controls",
      "model_module_version": "1.0.0",
      "model_name": "FloatSliderModel",
      "state": {
       "description": "ω",
       "layout": "IPY_MODEL_a5331b8c9f8948a4b1f5aace9ec3ad27",
       "max": 10,
       "min": -10,
       "step": 0.25,
       "style": "IPY_MODEL_c297a5d53e57455bad1ffde3865b0c60",
       "value": 1
      }
     },
     "f1da5098febe443991daeb921e7c3e6f": {
      "model_module": "@jupyter-widgets/controls",
      "model_module_version": "1.0.0",
      "model_name": "FloatSliderModel",
      "state": {
       "description": "α",
       "layout": "IPY_MODEL_9e3629772d6c45d3aafb7a325e663c9d",
       "max": 2,
       "step": 0.25,
       "style": "IPY_MODEL_dc627d59dd0e4810a2d7dceb6164d0cb"
      }
     },
     "f21556635f89404aac34c8fe6de32089": {
      "model_module": "@jupyter-widgets/controls",
      "model_module_version": "1.0.0",
      "model_name": "FloatSliderModel",
      "state": {
       "description": "v0",
       "layout": "IPY_MODEL_21f14fac04b3426e999097f3908d495f",
       "max": 10,
       "min": -10,
       "step": 0.25,
       "style": "IPY_MODEL_dda7edcec6394d4ab3b7c4ece98743f0",
       "value": 1
      }
     },
     "f21be3d747d349d9a18606510fb3be09": {
      "model_module": "@jupyter-widgets/controls",
      "model_module_version": "1.0.0",
      "model_name": "SliderStyleModel",
      "state": {
       "description_width": ""
      }
     },
     "f2bf38e70a6343ffb7b6499f6c273338": {
      "model_module": "@jupyter-widgets/controls",
      "model_module_version": "1.0.0",
      "model_name": "VBoxModel",
      "state": {
       "_dom_classes": [
        "widget-interact"
       ],
       "children": [
        "IPY_MODEL_efbd7d2575c944a7905e40a89a46404b",
        "IPY_MODEL_ff3b6f3ebd624952b1fac08e1c21491b",
        "IPY_MODEL_881c161dad434657ba49e353513646e1"
       ],
       "layout": "IPY_MODEL_3ad200a709274be3ba1165cd91aebbd8"
      }
     },
     "f3428ab41f594fb9ac5913654cab741f": {
      "model_module": "@jupyter-widgets/controls",
      "model_module_version": "1.0.0",
      "model_name": "FloatSliderModel",
      "state": {
       "description": "ω",
       "layout": "IPY_MODEL_d6979b5e37874255beb3db9037ebb30a",
       "max": 10,
       "min": -10,
       "step": 0.25,
       "style": "IPY_MODEL_5c1eb075bb7a4fe288d6d52e2b225b38",
       "value": 1
      }
     },
     "f3d1689cce5b40518007da94d6096183": {
      "model_module": "@jupyter-widgets/base",
      "model_module_version": "1.0.0",
      "model_name": "LayoutModel",
      "state": {}
     },
     "f416bdb911b445a5a316becf00d59e7c": {
      "model_module": "@jupyter-widgets/controls",
      "model_module_version": "1.0.0",
      "model_name": "VBoxModel",
      "state": {
       "_dom_classes": [
        "widget-interact"
       ],
       "children": [
        "IPY_MODEL_48f9c2f5548e45b4aa9fbb1424b9f8f0",
        "IPY_MODEL_27ca3ece8a484b7b8dcc99a3377959bb"
       ],
       "layout": "IPY_MODEL_b9590390b77845b4ad8f150e99d5412e"
      }
     },
     "f425fb396a4b4a28b5aec11ec91eeb61": {
      "model_module": "@jupyter-widgets/base",
      "model_module_version": "1.0.0",
      "model_name": "LayoutModel",
      "state": {}
     },
     "f45f2bf6718a485ea3bfe3d086b962d8": {
      "model_module": "@jupyter-widgets/base",
      "model_module_version": "1.0.0",
      "model_name": "LayoutModel",
      "state": {}
     },
     "f483164063b84f1eb3c8e9091e09e408": {
      "model_module": "@jupyter-widgets/controls",
      "model_module_version": "1.0.0",
      "model_name": "FloatSliderModel",
      "state": {
       "description": "tau",
       "layout": "IPY_MODEL_a0a97a5711f748178338399fcb0cac20",
       "max": 2,
       "step": 0.25,
       "style": "IPY_MODEL_4583c66bb0784b54a78bfce0c519e330",
       "value": 0.1
      }
     },
     "f4d3f700312f4a9d8a38c57d63aad21b": {
      "model_module": "@jupyter-widgets/controls",
      "model_module_version": "1.0.0",
      "model_name": "SliderStyleModel",
      "state": {
       "description_width": ""
      }
     },
     "f523f88f7566493895b68e9eeab57586": {
      "model_module": "@jupyter-widgets/controls",
      "model_module_version": "1.0.0",
      "model_name": "FloatSliderModel",
      "state": {
       "description": "τ",
       "layout": "IPY_MODEL_fdbc697a3e6a4261a7ee77336fc8145e",
       "max": 10,
       "step": 0.2,
       "style": "IPY_MODEL_85744dcfbc9349f88ce51cfeff7f5de6",
       "value": 1
      }
     },
     "f5361f001ec94c0db4077322fc9fa627": {
      "model_module": "@jupyter-widgets/controls",
      "model_module_version": "1.0.0",
      "model_name": "VBoxModel",
      "state": {
       "_dom_classes": [
        "widget-interact"
       ],
       "children": [
        "IPY_MODEL_65ff7b9d3a4c4b93bf9adcf63870ebde",
        "IPY_MODEL_3ca52ce0ec254e428ae66cb4bfc54664",
        "IPY_MODEL_9aad4e866afc4244aef2866b80ac6e82"
       ],
       "layout": "IPY_MODEL_4efbf7d6ed2146dfb523e1a299063601"
      }
     },
     "f55f138529614a9b9f1fc797c0fc35a5": {
      "model_module": "@jupyter-widgets/base",
      "model_module_version": "1.0.0",
      "model_name": "LayoutModel",
      "state": {}
     },
     "f5ffe8ab94fc433e949c4ce5dda04e4e": {
      "model_module": "@jupyter-widgets/controls",
      "model_module_version": "1.0.0",
      "model_name": "SliderStyleModel",
      "state": {
       "description_width": ""
      }
     },
     "f61e15b577db48479cdc9d8320b44942": {
      "model_module": "@jupyter-widgets/base",
      "model_module_version": "1.0.0",
      "model_name": "LayoutModel",
      "state": {}
     },
     "f6d8a110b18a4c549b2a3f680d4f51a3": {
      "model_module": "@jupyter-widgets/base",
      "model_module_version": "1.0.0",
      "model_name": "LayoutModel",
      "state": {}
     },
     "f6fdf9eb289448949e8444bdcefce6d9": {
      "model_module": "@jupyter-widgets/controls",
      "model_module_version": "1.0.0",
      "model_name": "FloatSliderModel",
      "state": {
       "description": "xtau",
       "layout": "IPY_MODEL_cb874c764dde4c8e8896226bd0346212",
       "max": 2,
       "step": 0.25,
       "style": "IPY_MODEL_eb1747a28bef45f09503dc7b9e5fee3c",
       "value": 0.1
      }
     },
     "f7add81e14334f808e80bda299842955": {
      "model_module": "@jupyter-widgets/controls",
      "model_module_version": "1.0.0",
      "model_name": "SliderStyleModel",
      "state": {
       "description_width": ""
      }
     },
     "f959f9b0e0634d84b1daf853617c13b7": {
      "model_module": "@jupyter-widgets/controls",
      "model_module_version": "1.0.0",
      "model_name": "FloatSliderModel",
      "state": {
       "description": "α",
       "layout": "IPY_MODEL_c7576c8412d34cb9a5b0be148a044e5a",
       "max": 2,
       "step": 0.25,
       "style": "IPY_MODEL_fa5f19082c484e9b9eef977326e8372d"
      }
     },
     "f95fd867a1304ff2854e240b25151bce": {
      "model_module": "@jupyter-widgets/base",
      "model_module_version": "1.0.0",
      "model_name": "LayoutModel",
      "state": {}
     },
     "f9ae6999c3c4466f9e4ff57ef12b4f5c": {
      "model_module": "@jupyter-widgets/output",
      "model_module_version": "1.0.0",
      "model_name": "OutputModel",
      "state": {
       "layout": "IPY_MODEL_384b1a08373340488126a9dfdaf32e50"
      }
     },
     "fa4eee88a5844b4f8e24532d6046041a": {
      "model_module": "@jupyter-widgets/base",
      "model_module_version": "1.0.0",
      "model_name": "LayoutModel",
      "state": {}
     },
     "fa5f19082c484e9b9eef977326e8372d": {
      "model_module": "@jupyter-widgets/controls",
      "model_module_version": "1.0.0",
      "model_name": "SliderStyleModel",
      "state": {
       "description_width": ""
      }
     },
     "fc52ae63a41e4da2a587e49c285c6887": {
      "model_module": "@jupyter-widgets/base",
      "model_module_version": "1.0.0",
      "model_name": "LayoutModel",
      "state": {}
     },
     "fc689f894cb34a8db1e3796b39404a8b": {
      "model_module": "@jupyter-widgets/controls",
      "model_module_version": "1.0.0",
      "model_name": "FloatSliderModel",
      "state": {
       "description": "ω",
       "layout": "IPY_MODEL_6e78cd3eec5046959ee4ab51c0b7c1cf",
       "max": 10,
       "min": -10,
       "step": 0.25,
       "style": "IPY_MODEL_256b5a62515048e7957e4f73fe1963e6",
       "value": 1
      }
     },
     "fd8e97d68227408a803709a1a3b08248": {
      "model_module": "@jupyter-widgets/output",
      "model_module_version": "1.0.0",
      "model_name": "OutputModel",
      "state": {
       "layout": "IPY_MODEL_7df6d508d4e44a4085ce7b98e60bc7cb",
       "outputs": [
        {
         "ename": "NameError",
         "evalue": "name 'v' is not defined",
         "output_type": "error",
         "traceback": [
          "\u001b[0;31m---------------------------------------------------------------------------\u001b[0m",
          "\u001b[0;31mNameError\u001b[0m                                 Traceback (most recent call last)",
          "\u001b[0;32m~/.local/lib/python3.6/site-packages/ipywidgets/widgets/interaction.py\u001b[0m in \u001b[0;36mupdate\u001b[0;34m(self, *args)\u001b[0m\n\u001b[1;32m    248\u001b[0m                     \u001b[0mvalue\u001b[0m \u001b[0;34m=\u001b[0m \u001b[0mwidget\u001b[0m\u001b[0;34m.\u001b[0m\u001b[0mget_interact_value\u001b[0m\u001b[0;34m(\u001b[0m\u001b[0;34m)\u001b[0m\u001b[0;34m\u001b[0m\u001b[0m\n\u001b[1;32m    249\u001b[0m                     \u001b[0mself\u001b[0m\u001b[0;34m.\u001b[0m\u001b[0mkwargs\u001b[0m\u001b[0;34m[\u001b[0m\u001b[0mwidget\u001b[0m\u001b[0;34m.\u001b[0m\u001b[0m_kwarg\u001b[0m\u001b[0;34m]\u001b[0m \u001b[0;34m=\u001b[0m \u001b[0mvalue\u001b[0m\u001b[0;34m\u001b[0m\u001b[0m\n\u001b[0;32m--> 250\u001b[0;31m                 \u001b[0mself\u001b[0m\u001b[0;34m.\u001b[0m\u001b[0mresult\u001b[0m \u001b[0;34m=\u001b[0m \u001b[0mself\u001b[0m\u001b[0;34m.\u001b[0m\u001b[0mf\u001b[0m\u001b[0;34m(\u001b[0m\u001b[0;34m**\u001b[0m\u001b[0mself\u001b[0m\u001b[0;34m.\u001b[0m\u001b[0mkwargs\u001b[0m\u001b[0;34m)\u001b[0m\u001b[0;34m\u001b[0m\u001b[0m\n\u001b[0m\u001b[1;32m    251\u001b[0m                 \u001b[0mshow_inline_matplotlib_plots\u001b[0m\u001b[0;34m(\u001b[0m\u001b[0;34m)\u001b[0m\u001b[0;34m\u001b[0m\u001b[0m\n\u001b[1;32m    252\u001b[0m                 \u001b[0;32mif\u001b[0m \u001b[0mself\u001b[0m\u001b[0;34m.\u001b[0m\u001b[0mauto_display\u001b[0m \u001b[0;32mand\u001b[0m \u001b[0mself\u001b[0m\u001b[0;34m.\u001b[0m\u001b[0mresult\u001b[0m \u001b[0;32mis\u001b[0m \u001b[0;32mnot\u001b[0m \u001b[0;32mNone\u001b[0m\u001b[0;34m:\u001b[0m\u001b[0;34m\u001b[0m\u001b[0m\n",
          "\u001b[0;32m<ipython-input-34-2f31f444d690>\u001b[0m in \u001b[0;36mplot\u001b[0;34m(τ)\u001b[0m\n\u001b[1;32m      5\u001b[0m \u001b[0;31m#import numpy as np\u001b[0m\u001b[0;34m\u001b[0m\u001b[0;34m\u001b[0m\u001b[0m\n\u001b[1;32m      6\u001b[0m \u001b[0;32mdef\u001b[0m \u001b[0mplot\u001b[0m\u001b[0;34m(\u001b[0m\u001b[0mτ\u001b[0m\u001b[0;34m=\u001b[0m\u001b[0;36m0.1\u001b[0m\u001b[0;34m)\u001b[0m\u001b[0;34m:\u001b[0m\u001b[0;34m\u001b[0m\u001b[0m\n\u001b[0;32m----> 7\u001b[0;31m     \u001b[0mx1\u001b[0m \u001b[0;34m=\u001b[0m \u001b[0mx\u001b[0m\u001b[0;34m.\u001b[0m\u001b[0msubs\u001b[0m\u001b[0;34m(\u001b[0m\u001b[0mv0\u001b[0m\u001b[0;34m,\u001b[0m \u001b[0mv\u001b[0m\u001b[0;34m)\u001b[0m\u001b[0;34m\u001b[0m\u001b[0m\n\u001b[0m\u001b[1;32m      8\u001b[0m     \u001b[0mx1\u001b[0m \u001b[0;34m=\u001b[0m \u001b[0mx1\u001b[0m\u001b[0;34m.\u001b[0m\u001b[0msubs\u001b[0m\u001b[0;34m(\u001b[0m\u001b[0mtau\u001b[0m\u001b[0;34m,\u001b[0m \u001b[0mτ\u001b[0m\u001b[0;34m)\u001b[0m\u001b[0;34m\u001b[0m\u001b[0m\n\u001b[1;32m      9\u001b[0m \u001b[0;34m\u001b[0m\u001b[0m\n",
          "\u001b[0;31mNameError\u001b[0m: name 'v' is not defined"
         ]
        }
       ]
      }
     },
     "fdbc697a3e6a4261a7ee77336fc8145e": {
      "model_module": "@jupyter-widgets/base",
      "model_module_version": "1.0.0",
      "model_name": "LayoutModel",
      "state": {}
     },
     "fed43b563b59467a9a62da44b40621bb": {
      "model_module": "@jupyter-widgets/base",
      "model_module_version": "1.0.0",
      "model_name": "LayoutModel",
      "state": {}
     },
     "fedbd61dfe3b4fc288bcc2115c2ac9d9": {
      "model_module": "@jupyter-widgets/base",
      "model_module_version": "1.0.0",
      "model_name": "LayoutModel",
      "state": {}
     },
     "feec41c10e884903baafaa697283801c": {
      "model_module": "@jupyter-widgets/controls",
      "model_module_version": "1.0.0",
      "model_name": "VBoxModel",
      "state": {
       "_dom_classes": [
        "widget-interact"
       ],
       "children": [
        "IPY_MODEL_f3428ab41f594fb9ac5913654cab741f",
        "IPY_MODEL_bb78ba9fce5a44c28c544b80c2911bda",
        "IPY_MODEL_324c16796dd54cc68e3a5881660b216a"
       ],
       "layout": "IPY_MODEL_a395e7c50f404c3388902a8e692afcde"
      }
     },
     "ff3093192fbb4fc89028bf05007cf867": {
      "model_module": "@jupyter-widgets/controls",
      "model_module_version": "1.0.0",
      "model_name": "FloatSliderModel",
      "state": {
       "description": "v0",
       "layout": "IPY_MODEL_7405792ffafa4a1fa52ed63a8bc993b1",
       "max": 10,
       "min": -10,
       "step": 0.25,
       "style": "IPY_MODEL_d88a765b8d1f475f8e4b5ea5cb38121f"
      }
     },
     "ff3b6f3ebd624952b1fac08e1c21491b": {
      "model_module": "@jupyter-widgets/controls",
      "model_module_version": "1.0.0",
      "model_name": "FloatSliderModel",
      "state": {
       "description": "α",
       "layout": "IPY_MODEL_bb5277cf106f4179966914a945252067",
       "max": 2,
       "step": 0.25,
       "style": "IPY_MODEL_87f0625dd5e34524af68ac4207ad8419"
      }
     },
     "ff9b7a3ae0184acbaffdc54ba8df8866": {
      "model_module": "@jupyter-widgets/base",
      "model_module_version": "1.0.0",
      "model_name": "LayoutModel",
      "state": {}
     }
    },
    "version_major": 2,
    "version_minor": 0
   }
  }
 },
 "nbformat": 4,
 "nbformat_minor": 1
}
