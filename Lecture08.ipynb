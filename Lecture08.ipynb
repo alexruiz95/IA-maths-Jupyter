{
 "cells": [
  {
   "cell_type": "markdown",
   "metadata": {},
   "source": [
    "# Lecture 8 - rotations and orthogonal matrices\n",
    "\n",
    "This lecture considered rotation matrices, which led naturally to the topic on orthogonal matrices.\n",
    "\n",
    "## Orthogonal matrices\n",
    "\n",
    "A matrix $\\boldsymbol{A}$ is orthogonal if $\\boldsymbol{A}^{-1} = \\boldsymbol{A}^{T}$. A $n \\times n$ matrix is orthogonal if its columns form and orthonormal basis. \n"
   ]
  },
  {
   "cell_type": "code",
   "execution_count": 1,
   "metadata": {
    "collapsed": false
   },
   "outputs": [],
   "source": [
    "# Import NumPy and seed random number generator to make generated matrices deterministic\n",
    "import numpy as np\n",
    "np.random.seed(1)\n",
    "\n",
    "# Create a matrix with random entries\n",
    "A = np.random.rand(4, 4)\n",
    "\n",
    "# Use QR factorisation of A to create an orthogonal matrix Q (QR is covered in IB)\n",
    "Q, R = np.linalg.qr(A, mode='complete')"
   ]
  },
  {
   "cell_type": "markdown",
   "metadata": {},
   "source": [
    "We can now verify that Q is an orthognal matrix. We first check that $\\boldsymbol{Q}^{-1} = \\boldsymbol{Q}^{T}$ by computing $\\boldsymbol{Q}\\boldsymbol{Q}^{-1}$ "
   ]
  },
  {
   "cell_type": "code",
   "execution_count": 2,
   "metadata": {
    "collapsed": false
   },
   "outputs": [
    {
     "name": "stdout",
     "output_type": "stream",
     "text": [
      "[[  1.00000000e+00   4.33680869e-17   4.64038530e-17   9.48676901e-17]\n",
      " [  4.33680869e-17   1.00000000e+00   0.00000000e+00  -1.94289029e-16]\n",
      " [  4.64038530e-17   0.00000000e+00   1.00000000e+00   0.00000000e+00]\n",
      " [  9.48676901e-17  -1.94289029e-16   0.00000000e+00   1.00000000e+00]]\n"
     ]
    }
   ],
   "source": [
    "print(Q.dot(Q.T))"
   ]
  },
  {
   "cell_type": "markdown",
   "metadata": {},
   "source": [
    "We can see that $\\boldsymbol{Q}\\boldsymbol{Q}^{-1} = \\boldsymbol{I}$ (within numerical precision). We can check that the colums of $\\boldsymbol{Q}$ are orthonormal"
   ]
  },
  {
   "cell_type": "code",
   "execution_count": 3,
   "metadata": {
    "collapsed": false
   },
   "outputs": [
    {
     "name": "stdout",
     "output_type": "stream",
     "text": [
      "Dot product of column vectors 0, 0: 1.0000000000000002\n",
      "Dot product of column vectors 0, 1: -5.551115123125783e-17\n",
      "Dot product of column vectors 0, 2: -1.3877787807814457e-16\n",
      "Dot product of column vectors 0, 3: -6.938893903907228e-18\n",
      "Dot product of column vectors 1, 1: 1.0000000000000002\n",
      "Dot product of column vectors 1, 2: 5.551115123125783e-17\n",
      "Dot product of column vectors 1, 3: -1.942890293094024e-16\n",
      "Dot product of column vectors 2, 2: 1.0000000000000002\n",
      "Dot product of column vectors 2, 3: 1.3877787807814457e-17\n",
      "Dot product of column vectors 3, 3: 1.0000000000000002\n"
     ]
    }
   ],
   "source": [
    "import itertools\n",
    "\n",
    "# Build pairs (0,0), (0,1), . . . (0, n-1), (1, 2), (1, 3), . . . \n",
    "pairs = itertools.combinations_with_replacement(range(len(Q)), 2)\n",
    "\n",
    "# Compute dot product of column vectors q_{i} \\cdot q_{j}\n",
    "for p in pairs:\n",
    "    col0, col1 = p[0], p[1]\n",
    "    print (\"Dot product of column vectors {}, {}: {}\".format(col0, col1, Q[:, col0].dot(Q[:, col1])))"
   ]
  },
  {
   "cell_type": "markdown",
   "metadata": {},
   "source": [
    "The columns of $\\boldsymbol{Q}$ are orthonormal, and $\\boldsymbol{Q}^{T}$ is also a rotation matrix and has orthonormal columns. Therefore, the rows of $\\boldsymbol{Q}$ are also orthonormal."
   ]
  },
  {
   "cell_type": "code",
   "execution_count": 4,
   "metadata": {
    "collapsed": false
   },
   "outputs": [
    {
     "name": "stdout",
     "output_type": "stream",
     "text": [
      "Dot product of row vectors 0, 0: 1.0000000000000002\n",
      "Dot product of row vectors 0, 1: 4.336808689942018e-17\n",
      "Dot product of row vectors 0, 2: 4.640385298237959e-17\n",
      "Dot product of row vectors 0, 3: 9.486769009248164e-17\n",
      "Dot product of row vectors 1, 1: 1.0000000000000002\n",
      "Dot product of row vectors 1, 2: 0.0\n",
      "Dot product of row vectors 1, 3: -1.942890293094024e-16\n",
      "Dot product of row vectors 2, 2: 1.0\n",
      "Dot product of row vectors 2, 3: 0.0\n",
      "Dot product of row vectors 3, 3: 1.0000000000000002\n"
     ]
    }
   ],
   "source": [
    "# Compute dot product of row vectors q_{i} \\cdot q_{j}\n",
    "pairs = itertools.combinations_with_replacement(range(len(Q)), 2)\n",
    "for p in pairs:\n",
    "    row0, row1 = p[0], p[1]\n",
    "    print (\"Dot product of row vectors {}, {}: {}\".format(row0, row1, Q[row0, :].dot(Q[row1, :])))"
   ]
  },
  {
   "cell_type": "markdown",
   "metadata": {},
   "source": [
    "Finally, we check the determinant of $\\boldsymbol{Q}$:"
   ]
  },
  {
   "cell_type": "code",
   "execution_count": 5,
   "metadata": {
    "collapsed": false
   },
   "outputs": [
    {
     "name": "stdout",
     "output_type": "stream",
     "text": [
      "Determinant of Q: -1.0000000000000002\n"
     ]
    }
   ],
   "source": [
    "print(\"Determinant of Q: {}\".format(np.linalg.det(Q)))"
   ]
  }
 ],
 "metadata": {
  "kernelspec": {
   "display_name": "Python 3",
   "language": "python",
   "name": "python3"
  },
  "language_info": {
   "codemirror_mode": {
    "name": "ipython",
    "version": 3
   },
   "file_extension": ".py",
   "mimetype": "text/x-python",
   "name": "python",
   "nbconvert_exporter": "python",
   "pygments_lexer": "ipython3",
   "version": "3.5.0+"
  }
 },
 "nbformat": 4,
 "nbformat_minor": 0
}
