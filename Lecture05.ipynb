{
 "cells": [
  {
   "cell_type": "markdown",
   "metadata": {},
   "source": [
    "# Lecture 5\n",
    "\n",
    "This lecture covers linear difference equations (recurrence equations). Below are some examples solved using SymPy.\n",
    "\n",
    "We first import the necessary modules:"
   ]
  },
  {
   "cell_type": "code",
   "execution_count": 1,
   "metadata": {},
   "outputs": [],
   "source": [
    "from sympy import *\n",
    "init_printing()\n",
    "from IPython.display import display\n",
    "\n",
    "from fractions import Fraction\n",
    "\n",
    "# Support for interactive plots\n",
    "from ipywidgets import interact\n",
    "\n",
    "%matplotlib inline"
   ]
  },
  {
   "cell_type": "markdown",
   "metadata": {},
   "source": [
    "## Student grant example\n",
    "\n",
    "This example is covered in the lecture (solved by hand). Here it is solved using SymPy.\n",
    "\n",
    "The difference equation (non-homegeneous case) for the student grant example from the lecture notes has the form\n",
    "\n",
    "$$\n",
    "y_{n} - 2.95 y_{n-1} + 2 y_{n-2} = −(63.685)(1.07^{n})\n",
    "$$"
   ]
  },
  {
   "cell_type": "markdown",
   "metadata": {},
   "source": [
    "We first define $n$ as an integer symbol and $y$ as a function:"
   ]
  },
  {
   "cell_type": "code",
   "execution_count": 2,
   "metadata": {},
   "outputs": [],
   "source": [
    "n = Symbol(\"n\", integer=True)\n",
    "y = Function(\"y\")"
   ]
  },
  {
   "cell_type": "markdown",
   "metadata": {},
   "source": [
    "Now, we define the difference equation:"
   ]
  },
  {
   "cell_type": "code",
   "execution_count": 3,
   "metadata": {},
   "outputs": [
    {
     "data": {
      "image/png": "[encoded data removed]",
      "text/latex": [
       "$$y{\\left (n \\right )} + 2 y{\\left (n - 2 \\right )} - \\frac{59}{20} y{\\left (n - 1 \\right )}$$"
      ],
      "text/plain": [
       "                    59⋅y(n - 1)\n",
       "y(n) + 2⋅y(n - 2) - ───────────\n",
       "                         20    "
      ]
     },
     "metadata": {},
     "output_type": "display_data"
    }
   ],
   "source": [
    "f = y(n) - Fraction(295, 100)*y(n - 1) + 2*y(n - 2)\n",
    "display(f)"
   ]
  },
  {
   "cell_type": "markdown",
   "metadata": {},
   "source": [
    "We'll solve the homogeneous version of the equation using `rsolve`. To compare to the solution in the lecture notes, we'll also evaluate the the solution in floating point:"
   ]
  },
  {
   "cell_type": "code",
   "execution_count": 4,
   "metadata": {},
   "outputs": [
    {
     "data": {
      "image/png": "[encoded data removed]",
      "text/latex": [
       "$$C_{0} \\left(- \\frac{\\sqrt{281}}{40} + \\frac{59}{40}\\right)^{n} + C_{1} \\left(\\frac{\\sqrt{281}}{40} + \\frac{59}{40}\\right)^{n}$$"
      ],
      "text/plain": [
       "                n                 n\n",
       "   ⎛  √281   59⎞       ⎛√281   59⎞ \n",
       "C₀⋅⎜- ──── + ──⎟  + C₁⋅⎜──── + ──⎟ \n",
       "   ⎝   40    40⎠       ⎝ 40    40⎠ "
      ]
     },
     "metadata": {},
     "output_type": "display_data"
    },
    {
     "data": {
      "image/png": "[encoded data removed]",
      "text/latex": [
       "$$1.05592363464399^{n} C_{0} + 1.89407636535601^{n} C_{1}$$"
      ],
      "text/plain": [
       "                n                      n   \n",
       "1.05592363464399 ⋅C₀ + 1.89407636535601 ⋅C₁"
      ]
     },
     "execution_count": 4,
     "metadata": {},
     "output_type": "execute_result"
    }
   ],
   "source": [
    "eqn = Eq(f, 0)\n",
    "soln = rsolve(eqn, y(n))\n",
    "display(soln)\n",
    "soln.evalf()"
   ]
  },
  {
   "cell_type": "markdown",
   "metadata": {},
   "source": [
    "The solution is the same as in the lecture notes.\n",
    "\n",
    "We now consider the non-homogeneous case:"
   ]
  },
  {
   "cell_type": "code",
   "execution_count": 5,
   "metadata": {},
   "outputs": [
    {
     "data": {
      "image/png": "[encoded data removed]",
      "text/latex": [
       "$$y{\\left (n \\right )} + 2 y{\\left (n - 2 \\right )} - \\frac{59}{20} y{\\left (n - 1 \\right )} = - 63.685 \\cdot 1.07^{n}$$"
      ],
      "text/plain": [
       "                    59⋅y(n - 1)               n\n",
       "y(n) + 2⋅y(n - 2) - ─────────── = -63.685⋅1.07 \n",
       "                         20                    "
      ]
     },
     "metadata": {},
     "output_type": "display_data"
    }
   ],
   "source": [
    "# Create non-homogeneous equation\n",
    "eqn = Eq(f, -63.685*(1.07**n))\n",
    "display(eqn)"
   ]
  },
  {
   "cell_type": "markdown",
   "metadata": {},
   "source": [
    "Solving the non-homogeneous equation, on this occasion providing the initial conditions $y(0) = 2000$ and $y(1) = 2200$,"
   ]
  },
  {
   "cell_type": "code",
   "execution_count": 6,
   "metadata": {},
   "outputs": [
    {
     "data": {
      "image/png": "[encoded data removed]",
      "text/latex": [
       "$$6285.5996982757 \\cdot 1.07^{n} - 4285.21114484077 \\left(- \\frac{\\sqrt{281}}{40} + \\frac{59}{40}\\right)^{n} - 0.388553434931812 \\left(\\frac{\\sqrt{281}}{40} + \\frac{59}{40}\\right)^{n}$$"
      ],
      "text/plain": [
       "                                                      n                       \n",
       "                    n                    ⎛  √281   59⎞                      ⎛√\n",
       "6285.5996982757⋅1.07  - 4285.21114484077⋅⎜- ──── + ──⎟  - 0.388553434931812⋅⎜─\n",
       "                                         ⎝   40    40⎠                      ⎝ \n",
       "\n",
       "         n\n",
       "281   59⎞ \n",
       "─── + ──⎟ \n",
       "40    40⎠ "
      ]
     },
     "metadata": {},
     "output_type": "display_data"
    },
    {
     "data": {
      "image/png": "[encoded data removed]",
      "text/latex": [
       "$$- 4285.21114484077 \\cdot 1.05592363464399^{n} + 6285.5996982757 \\cdot 1.07^{n} - 0.388553434931812 \\cdot 1.89407636535601^{n}$$"
      ],
      "text/plain": [
       "                                   n                       n                  \n",
       "- 4285.21114484077⋅1.05592363464399  + 6285.5996982757⋅1.07  - 0.3885534349318\n",
       "\n",
       "                   n\n",
       "12⋅1.89407636535601 "
      ]
     },
     "execution_count": 6,
     "metadata": {},
     "output_type": "execute_result"
    }
   ],
   "source": [
    "soln = rsolve(eqn, y(n), init={y(0) : 2000, y(1) : 2200})\n",
    "display(soln)\n",
    "soln.evalf()"
   ]
  },
  {
   "cell_type": "code",
   "execution_count": 7,
   "metadata": {},
   "outputs": [
    {
     "data": {
      "image/png": "[encoded data removed]",
      "text/plain": [
       "<matplotlib.figure.Figure at 0x7f0864b49518>"
      ]
     },
     "metadata": {},
     "output_type": "display_data"
    },
    {
     "name": "stdout",
     "output_type": "stream",
     "text": [
      "Fee after 10 years (n=10): 4749.72910622520\n"
     ]
    }
   ],
   "source": [
    "# Plot\n",
    "plot(soln, (n, 0, 12), xlabel=\"year (n)\", ylabel=\"fee\")\n",
    "\n",
    "# Evaluate fee at 10 years\n",
    "print(\"Fee after 10 years (n=10): {}\".format(soln.subs(n, 10).evalf()))"
   ]
  },
  {
   "cell_type": "markdown",
   "metadata": {},
   "source": [
    "## General case\n",
    "\n",
    "Below is the general case for a constant coefficient, second-order difference equation."
   ]
  },
  {
   "cell_type": "code",
   "execution_count": 8,
   "metadata": {},
   "outputs": [
    {
     "data": {
      "image/png": "[encoded data removed]",
      "text/latex": [
       "$$a y{\\left (n \\right )} - b y{\\left (n - 1 \\right )} + c y{\\left (n - 2 \\right )}$$"
      ],
      "text/plain": [
       "a⋅y(n) - b⋅y(n - 1) + c⋅y(n - 2)"
      ]
     },
     "metadata": {},
     "output_type": "display_data"
    }
   ],
   "source": [
    "n = Symbol(\"n\", integer=True)\n",
    "y = Function(\"y\")\n",
    "\n",
    "a, b, c = symbols(\"a b c\")\n",
    "\n",
    "f = a*y(n) - b*y(n - 1) + c*y(n - 2)\n",
    "display(f)"
   ]
  },
  {
   "cell_type": "markdown",
   "metadata": {},
   "source": [
    "Solving for the homogeneous case,"
   ]
  },
  {
   "cell_type": "code",
   "execution_count": 9,
   "metadata": {},
   "outputs": [
    {
     "data": {
      "image/png": "[encoded data removed]",
      "text/latex": [
       "$$C_{0} \\left(\\frac{1}{2 a} \\left(b - \\sqrt{- 4 a c + b^{2}}\\right)\\right)^{n} + C_{1} \\left(\\frac{1}{2 a} \\left(b + \\sqrt{- 4 a c + b^{2}}\\right)\\right)^{n}$$"
      ],
      "text/plain": [
       "                         n                            n\n",
       "   ⎛       _____________⎞       ⎛       _____________⎞ \n",
       "   ⎜      ╱           2 ⎟       ⎜      ╱           2 ⎟ \n",
       "   ⎜b - ╲╱  -4⋅a⋅c + b  ⎟       ⎜b + ╲╱  -4⋅a⋅c + b  ⎟ \n",
       "C₀⋅⎜────────────────────⎟  + C₁⋅⎜────────────────────⎟ \n",
       "   ⎝        2⋅a         ⎠       ⎝        2⋅a         ⎠ "
      ]
     },
     "metadata": {},
     "output_type": "display_data"
    }
   ],
   "source": [
    "eqn = Eq(f, 0)\n",
    "soln = rsolve(eqn, y(n))\n",
    "display(soln)"
   ]
  },
  {
   "cell_type": "markdown",
   "metadata": {},
   "source": [
    "The above is a general solution. Solving for some initial conditions,"
   ]
  },
  {
   "cell_type": "code",
   "execution_count": 10,
   "metadata": {},
   "outputs": [
    {
     "data": {
      "image/png": "[encoded data removed]",
      "text/latex": [
       "$$\\frac{\\left(\\frac{1}{2 a} \\left(b - \\sqrt{- 4 a c + b^{2}}\\right)\\right)^{n}}{\\sqrt{- 4 a c + b^{2}}} \\left(- a + b + \\sqrt{- 4 a c + b^{2}}\\right) + \\frac{\\left(\\frac{1}{2 a} \\left(b + \\sqrt{- 4 a c + b^{2}}\\right)\\right)^{n}}{\\sqrt{- 4 a c + b^{2}}} \\left(a - b + \\sqrt{- 4 a c + b^{2}}\\right)$$"
      ],
      "text/plain": [
       "                      n                                                     n \n",
       "⎛       _____________⎞                                ⎛       _____________⎞  \n",
       "⎜      ╱           2 ⎟  ⎛            _____________⎞   ⎜      ╱           2 ⎟  \n",
       "⎜b - ╲╱  -4⋅a⋅c + b  ⎟  ⎜           ╱           2 ⎟   ⎜b + ╲╱  -4⋅a⋅c + b  ⎟  \n",
       "⎜────────────────────⎟ ⋅⎝-a + b + ╲╱  -4⋅a⋅c + b  ⎠   ⎜────────────────────⎟ ⋅\n",
       "⎝        2⋅a         ⎠                                ⎝        2⋅a         ⎠  \n",
       "─────────────────────────────────────────────────── + ────────────────────────\n",
       "                     _____________                                        ____\n",
       "                    ╱           2                                        ╱    \n",
       "                  ╲╱  -4⋅a⋅c + b                                       ╲╱  -4⋅\n",
       "\n",
       "                          \n",
       "                          \n",
       "⎛           _____________⎞\n",
       "⎜          ╱           2 ⎟\n",
       "⎝a - b + ╲╱  -4⋅a⋅c + b  ⎠\n",
       "                          \n",
       "──────────────────────────\n",
       "_________                 \n",
       "       2                  \n",
       "a⋅c + b                   "
      ]
     },
     "metadata": {},
     "output_type": "display_data"
    }
   ],
   "source": [
    "soln = rsolve(eqn, y(n), init={y(0) : 2, y(1) : 1})\n",
    "display(soln)"
   ]
  },
  {
   "cell_type": "markdown",
   "metadata": {},
   "source": [
    "If we now specify the values for the constants, the solution can be plotted:"
   ]
  },
  {
   "cell_type": "code",
   "execution_count": 11,
   "metadata": {},
   "outputs": [
    {
     "data": {
      "image/png": "[encoded data removed]",
      "text/latex": [
       "$$\\left(\\frac{1}{8} - \\frac{\\sqrt{31} i}{8}\\right)^{n} \\left(\\frac{1}{2} + \\frac{15 i}{62} \\sqrt{31}\\right) + \\left(\\frac{1}{8} + \\frac{\\sqrt{31} i}{8}\\right)^{n} \\left(\\frac{1}{2} - \\frac{15 i}{62} \\sqrt{31}\\right)$$"
      ],
      "text/plain": [
       "           n                             n               \n",
       "⎛1   √31⋅ⅈ⎞  ⎛1   15⋅√31⋅ⅈ⎞   ⎛1   √31⋅ⅈ⎞  ⎛1   15⋅√31⋅ⅈ⎞\n",
       "⎜─ - ─────⎟ ⋅⎜─ + ────────⎟ + ⎜─ + ─────⎟ ⋅⎜─ - ────────⎟\n",
       "⎝8     8  ⎠  ⎝2      62   ⎠   ⎝8     8  ⎠  ⎝2      62   ⎠"
      ]
     },
     "metadata": {},
     "output_type": "display_data"
    },
    {
     "data": {
      "image/png": "[encoded data removed]",
      "text/plain": [
       "<matplotlib.figure.Figure at 0x7f08629e5390>"
      ]
     },
     "metadata": {},
     "output_type": "display_data"
    }
   ],
   "source": [
    "eqn1 = eqn.subs('a', 4).subs('b', 1).subs('c', 2)\n",
    "soln = rsolve(eqn1, y(n), init={y(0) : 1, y(1) : 2})\n",
    "display(soln)\n",
    "\n",
    "plot(soln, (n, 0, 12), xlabel=\"$n$\", ylabel=\"$y_{n}$\");"
   ]
  },
  {
   "cell_type": "markdown",
   "metadata": {},
   "source": [
    "## Interactive solution\n",
    "\n",
    "With an interactive plot, we can see how the form of the solution changes with changing constants in the difference equation.\n",
    "\n",
    "We first define the difference equation:"
   ]
  },
  {
   "cell_type": "code",
   "execution_count": 12,
   "metadata": {},
   "outputs": [
    {
     "data": {
      "image/png": "[encoded data removed]",
      "text/latex": [
       "$$a y{\\left (n \\right )} - b y{\\left (n - 1 \\right )} + c y{\\left (n - 2 \\right )} = 0$$"
      ],
      "text/plain": [
       "a⋅y(n) - b⋅y(n - 1) + c⋅y(n - 2) = 0"
      ]
     },
     "metadata": {},
     "output_type": "display_data"
    }
   ],
   "source": [
    "f = a*y(n) - b*y(n - 1) + c*y(n - 2)\n",
    "eqn = Eq(f, 0)\n",
    "display(eqn)"
   ]
  },
  {
   "cell_type": "markdown",
   "metadata": {},
   "source": [
    "Solving and plotting:"
   ]
  },
  {
   "cell_type": "code",
   "execution_count": 13,
   "metadata": {},
   "outputs": [
    {
     "data": {
      "application/vnd.jupyter.widget-view+json": {
       "model_id": "fc5ff23b5ab043018d75418757a30b32",
       "version_major": 2,
       "version_minor": 0
      },
      "text/html": [
       "<p>Failed to display Jupyter Widget of type <code>interactive</code>.</p>\n",
       "<p>\n",
       "  If you're reading this message in Jupyter Notebook or JupyterLab, it may mean\n",
       "  that the widgets JavaScript is still loading. If this message persists, it\n",
       "  likely means that the widgets JavaScript library is either not installed or\n",
       "  not enabled. See the <a href=\"https://ipywidgets.readthedocs.io/en/stable/user_install.html\">Jupyter\n",
       "  Widgets Documentation</a> for setup instructions.\n",
       "</p>\n",
       "<p>\n",
       "  If you're reading this message in another notebook frontend (for example, a static\n",
       "  rendering on GitHub or <a href=\"https://nbviewer.jupyter.org/\">NBViewer</a>),\n",
       "  it may mean that your frontend doesn't currently support widgets.\n",
       "</p>\n"
      ],
      "text/plain": [
       "interactive(children=(IntSlider(value=1, description='a', max=11, min=-10, step=2), IntSlider(value=3, description='b', max=20, min=-2), IntSlider(value=3, description='c', max=10, min=1), Output()), _dom_classes=('widget-interact',))"
      ]
     },
     "metadata": {},
     "output_type": "display_data"
    }
   ],
   "source": [
    "def plot_solution(a=1, b=3, c=3):\n",
    "    # Substitute in parameters\n",
    "    eqn1 = eqn.subs('a', a).subs('b', b).subs('c', c)\n",
    "    \n",
    "    # Check roots\n",
    "    roots = ((-b - sqrt(b**2 - 4*a*c))/(2*a), (-b + sqrt(b**2 - 4*a*c))/(2*a))\n",
    "    print(\"Roots of characteristic eqn:\")\n",
    "    display(roots)\n",
    "\n",
    "    # Solve\n",
    "    soln = rsolve(eqn1, y(n), init={y(0) : 1, y(1) : 2})\n",
    "    print(\"Solution:\")\n",
    "    display(soln)\n",
    "    \n",
    "    # Plot\n",
    "    plot(soln, (n, 0, 10), xlabel=\"year (n)\", axis_center=\"auto\")\n",
    "\n",
    "    \n",
    "interact(plot_solution, a=(-10, 11, 2), b=(-2, 20, 1), c=(1, 10, 1), continuous_update=False);"
   ]
  }
 ],
 "metadata": {
  "kernelspec": {
   "display_name": "Python 3",
   "language": "python",
   "name": "python3"
  },
  "language_info": {
   "codemirror_mode": {
    "name": "ipython",
    "version": 3
   },
   "file_extension": ".py",
   "mimetype": "text/x-python",
   "name": "python",
   "nbconvert_exporter": "python",
   "pygments_lexer": "ipython3",
   "version": "3.6.3"
  }
 },
 "nbformat": 4,
 "nbformat_minor": 1
}
