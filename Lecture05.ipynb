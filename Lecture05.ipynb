{
 "cells": [
  {
   "cell_type": "markdown",
   "metadata": {},
   "source": [
    "# Lecture 5\n",
    "\n",
    "This lecture covered linear difference equations (recurrence equations). Below one of the examples from the lecture is solved using SymPy.\n",
    "\n",
    "\n",
    "## Student grant example\n",
    "\n",
    "The difference equation for the student grant example from the lecture notes has the form\n",
    "\n",
    "$$\n",
    "y_{n} - 2.95 y_{n-1} + 2 y_{n-2} = −(63.685)(1.07^{n})\n",
    "$$\n",
    "\n",
    "We investigate and solve this equation using SymPy. As before, we first need to import SymPy. We will also import a `Fraction` object to represent fractions without Python evaluating fractions numerically."
   ]
  },
  {
   "cell_type": "code",
   "execution_count": 1,
   "metadata": {},
   "outputs": [],
   "source": [
    "from sympy import *\n",
    "init_printing()\n",
    "from IPython.display import display\n",
    "\n",
    "from fractions import Fraction"
   ]
  },
  {
   "cell_type": "markdown",
   "metadata": {},
   "source": [
    "We now define $n$ as an integer symbol and $y$ as a function:"
   ]
  },
  {
   "cell_type": "code",
   "execution_count": 2,
   "metadata": {},
   "outputs": [],
   "source": [
    "n = Symbol(\"n\", integer=True)\n",
    "y = Function(\"y\")"
   ]
  },
  {
   "cell_type": "markdown",
   "metadata": {},
   "source": [
    "Now, we define the RHS of the difference equation:"
   ]
  },
  {
   "cell_type": "code",
   "execution_count": 3,
   "metadata": {},
   "outputs": [
    {
     "data": {
      "image/png": "[encoded data removed]",
      "text/latex": [
       "$$y{\\left (n \\right )} + 2 y{\\left (n - 2 \\right )} - \\frac{59}{20} y{\\left (n - 1 \\right )}$$"
      ],
      "text/plain": [
       "                    59⋅y(n - 1)\n",
       "y(n) + 2⋅y(n - 2) - ───────────\n",
       "                         20    "
      ]
     },
     "metadata": {},
     "output_type": "display_data"
    }
   ],
   "source": [
    "f = y(n) - Fraction(295, 100)*y(n - 1) + 2*y(n - 2)\n",
    "display(f)"
   ]
  },
  {
   "cell_type": "markdown",
   "metadata": {},
   "source": [
    "We'll now solve the homogeneous version of the equation using `rsolve`. To compare to the solution in the lecture notes, we'll also evaluate the the solution in floating point: "
   ]
  },
  {
   "cell_type": "code",
   "execution_count": 4,
   "metadata": {},
   "outputs": [
    {
     "data": {
      "image/png": "[encoded data removed]",
      "text/latex": [
       "$$C_{0} \\left(- \\frac{\\sqrt{281}}{40} + \\frac{59}{40}\\right)^{n} + C_{1} \\left(\\frac{\\sqrt{281}}{40} + \\frac{59}{40}\\right)^{n}$$"
      ],
      "text/plain": [
       "                n                 n\n",
       "   ⎛  √281   59⎞       ⎛√281   59⎞ \n",
       "C₀⋅⎜- ──── + ──⎟  + C₁⋅⎜──── + ──⎟ \n",
       "   ⎝   40    40⎠       ⎝ 40    40⎠ "
      ]
     },
     "metadata": {},
     "output_type": "display_data"
    },
    {
     "data": {
      "image/png": "[encoded data removed]",
      "text/latex": [
       "$$1.05592363464399^{n} C_{0} + 1.89407636535601^{n} C_{1}$$"
      ],
      "text/plain": [
       "                n                      n   \n",
       "1.05592363464399 ⋅C₀ + 1.89407636535601 ⋅C₁"
      ]
     },
     "execution_count": 4,
     "metadata": {},
     "output_type": "execute_result"
    }
   ],
   "source": [
    "eqn = Eq(f, 0)\n",
    "soln = rsolve(eqn, y(n))\n",
    "display(soln)\n",
    "soln.evalf()"
   ]
  },
  {
   "cell_type": "markdown",
   "metadata": {},
   "source": [
    "The solution is the same as in the lecture notes.\n",
    "\n",
    "We now consider the non-homogeneous case:"
   ]
  },
  {
   "cell_type": "code",
   "execution_count": 5,
   "metadata": {},
   "outputs": [
    {
     "data": {
      "image/png": "[encoded data removed]",
      "text/latex": [
       "$$y{\\left (n \\right )} + 2 y{\\left (n - 2 \\right )} - \\frac{59}{20} y{\\left (n - 1 \\right )} = - 63.685 \\cdot 1.07^{n}$$"
      ],
      "text/plain": [
       "                    59⋅y(n - 1)               n\n",
       "y(n) + 2⋅y(n - 2) - ─────────── = -63.685⋅1.07 \n",
       "                         20                    "
      ]
     },
     "metadata": {},
     "output_type": "display_data"
    }
   ],
   "source": [
    "# Create non-homogeneous equation\n",
    "eqn = Eq(f, -63.685*(1.07**n))\n",
    "display(eqn)"
   ]
  },
  {
   "cell_type": "markdown",
   "metadata": {},
   "source": [
    "We now solve the non-homogeneous equation, on this occasion providing the initial conditions $y(0) = 2000$ and $y(1) = 2200$:"
   ]
  },
  {
   "cell_type": "code",
   "execution_count": 6,
   "metadata": {},
   "outputs": [
    {
     "data": {
      "image/png": "[encoded data removed]",
      "text/latex": [
       "$$6285.5996982757 \\cdot 1.07^{n} - 4285.21114484077 \\left(- \\frac{\\sqrt{281}}{40} + \\frac{59}{40}\\right)^{n} - 0.388553434931812 \\left(\\frac{\\sqrt{281}}{40} + \\frac{59}{40}\\right)^{n}$$"
      ],
      "text/plain": [
       "                                                      n                       \n",
       "                    n                    ⎛  √281   59⎞                      ⎛√\n",
       "6285.5996982757⋅1.07  - 4285.21114484077⋅⎜- ──── + ──⎟  - 0.388553434931812⋅⎜─\n",
       "                                         ⎝   40    40⎠                      ⎝ \n",
       "\n",
       "         n\n",
       "281   59⎞ \n",
       "─── + ──⎟ \n",
       "40    40⎠ "
      ]
     },
     "metadata": {},
     "output_type": "display_data"
    },
    {
     "data": {
      "image/png": "[encoded data removed]",
      "text/latex": [
       "$$- 4285.21114484077 \\cdot 1.05592363464399^{n} + 6285.5996982757 \\cdot 1.07^{n} - 0.388553434931812 \\cdot 1.89407636535601^{n}$$"
      ],
      "text/plain": [
       "                                   n                       n                  \n",
       "- 4285.21114484077⋅1.05592363464399  + 6285.5996982757⋅1.07  - 0.3885534349318\n",
       "\n",
       "                   n\n",
       "12⋅1.89407636535601 "
      ]
     },
     "execution_count": 6,
     "metadata": {},
     "output_type": "execute_result"
    }
   ],
   "source": [
    "soln = rsolve(eqn, y(n), init={y(0) : 2000, y(1) : 2200})\n",
    "display(soln)\n",
    "soln.evalf()"
   ]
  },
  {
   "cell_type": "code",
   "execution_count": 7,
   "metadata": {},
   "outputs": [
    {
     "data": {
      "image/png": "[encoded data removed]",
      "text/plain": [
       "<matplotlib.figure.Figure at 0x7f3a79a549e8>"
      ]
     },
     "metadata": {},
     "output_type": "display_data"
    },
    {
     "name": "stdout",
     "output_type": "stream",
     "text": [
      "Fee after 10 years (n=10): 4749.72910622520\n"
     ]
    }
   ],
   "source": [
    "# Plot\n",
    "%matplotlib inline\n",
    "plot(soln, (n, 0, 12), xlabel=\"year (n)\", ylabel=\"fee\")\n",
    "\n",
    "# Evaluate fee at 10 years\n",
    "print(\"Fee after 10 years (n=10): {}\".format(soln.subs(n, 10).evalf()))"
   ]
  }
 ],
 "metadata": {
  "kernelspec": {
   "display_name": "Python 3",
   "language": "python",
   "name": "python3"
  },
  "language_info": {
   "codemirror_mode": {
    "name": "ipython",
    "version": 3
   },
   "file_extension": ".py",
   "mimetype": "text/x-python",
   "name": "python",
   "nbconvert_exporter": "python",
   "pygments_lexer": "ipython3",
   "version": "3.6.3"
  }
 },
 "nbformat": 4,
 "nbformat_minor": 1
}
