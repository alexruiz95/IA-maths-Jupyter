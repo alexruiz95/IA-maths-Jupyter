{
 "cells": [
  {
   "cell_type": "markdown",
   "metadata": {},
   "source": [
    "# Lecture 2\n",
    "\n",
    "We now look at solving second-order ordinary differential equations using a computer algebra system."
   ]
  },
  {
   "cell_type": "markdown",
   "metadata": {},
   "source": [
    "### Initialising SymPy\n",
    "\n",
    "To use SymPy, we first need to import it and call `init_printing()` to get nicely typeset equations:"
   ]
  },
  {
   "cell_type": "code",
   "execution_count": 1,
   "metadata": {
    "collapsed": false
   },
   "outputs": [],
   "source": [
    "from sympy import *\n",
    "\n",
    "# This initialises pretty printing\n",
    "init_printing()\n",
    "from IPython.display import display\n",
    "\n",
    "# This command makes plots appear inside the browser window\n",
    "%matplotlib inline"
   ]
  },
  {
   "cell_type": "markdown",
   "metadata": {},
   "source": [
    "## Mass-spring-damper system\n",
    "\n",
    "The differential equation that governs an unforced, single degree-of-freedom mass-spring-damper system is\n",
    "\n",
    "$$\n",
    "m \\frac{d^{2}y}{dt^{2}} + \\lambda \\frac{dy}{dt} + ky = 0\n",
    "$$\n",
    "\n",
    "To solve this problem using SymPy, we first define the symbols $t$ (time), $m$ (mass), $\\lambda$ (damper coefficient) and $k$ (spring stiffness), and the function $y$ (displacement): "
   ]
  },
  {
   "cell_type": "code",
   "execution_count": 2,
   "metadata": {
    "collapsed": false
   },
   "outputs": [],
   "source": [
    "t, m, lmbda, k = symbols(\"t m lambda k\")\n",
    "y = Function(\"y\")"
   ]
  },
  {
   "cell_type": "markdown",
   "metadata": {},
   "source": [
    "Note that we mis-spell $\\lambda$ as `lmbda` because `lambda` is a protected keyword in Python.\n",
    "\n",
    "Next, we define the differential equation, and print it to the screen:"
   ]
  },
  {
   "cell_type": "code",
   "execution_count": 3,
   "metadata": {
    "collapsed": false
   },
   "outputs": [
    {
     "data": {
      "image/png": "[encoded data removed]",
      "text/latex": [
       "$$k y{\\left (t \\right )} + \\lambda \\frac{d}{d t} y{\\left (t \\right )} + m \\frac{d^{2}}{d t^{2}}  y{\\left (t \\right )} = 0$$"
      ],
      "text/plain": [
       "                          2          \n",
       "           d             d           \n",
       "k⋅y(t) + λ⋅──(y(t)) + m⋅───(y(t)) = 0\n",
       "           dt             2          \n",
       "                        dt           "
      ]
     },
     "metadata": {},
     "output_type": "display_data"
    }
   ],
   "source": [
    "eqn = Eq(m*Derivative(y(t), t, t) + lmbda*Derivative(y(t), t) + k*y(t), 0)\n",
    "display(eqn)"
   ]
  },
  {
   "cell_type": "markdown",
   "metadata": {},
   "source": [
    "Checking the order of the ODE:"
   ]
  },
  {
   "cell_type": "code",
   "execution_count": 4,
   "metadata": {
    "collapsed": false
   },
   "outputs": [
    {
     "name": "stdout",
     "output_type": "stream",
     "text": [
      "This order of the ODE is: 2\n"
     ]
    }
   ],
   "source": [
    "print(\"This order of the ODE is: {}\".format(ode_order(eqn, y(t))))"
   ]
  },
  {
   "cell_type": "markdown",
   "metadata": {},
   "source": [
    "and now classifying the ODE:"
   ]
  },
  {
   "cell_type": "code",
   "execution_count": 5,
   "metadata": {
    "collapsed": false
   },
   "outputs": [
    {
     "name": "stdout",
     "output_type": "stream",
     "text": [
      "Properties of the ODE are: ('nth_linear_constant_coeff_homogeneous', '2nd_power_series_ordinary')\n"
     ]
    }
   ],
   "source": [
    "print(\"Properties of the ODE are: {}\".format(classify_ode(eqn)))"
   ]
  },
  {
   "cell_type": "markdown",
   "metadata": {},
   "source": [
    "we see as expected that the equation is linear, constant coefficient, homogeneous and second order."
   ]
  },
  {
   "cell_type": "markdown",
   "metadata": {},
   "source": [
    "The `dsolve` function solves the differential equation:"
   ]
  },
  {
   "cell_type": "code",
   "execution_count": 6,
   "metadata": {
    "collapsed": false
   },
   "outputs": [
    {
     "data": {
      "image/png": "[encoded data removed]",
      "text/latex": [
       "$$y{\\left (t \\right )} = C_{1} e^{\\frac{t}{2 m} \\left(- \\lambda - \\sqrt{- 4 k m + \\lambda^{2}}\\right)} + C_{2} e^{\\frac{t}{2 m} \\left(- \\lambda + \\sqrt{- 4 k m + \\lambda^{2}}\\right)}$$"
      ],
      "text/plain": [
       "             ⎛        _____________⎞         ⎛        _____________⎞\n",
       "             ⎜       ╱           2 ⎟         ⎜       ╱           2 ⎟\n",
       "           t⋅⎝-λ - ╲╱  -4⋅k⋅m + λ  ⎠       t⋅⎝-λ + ╲╱  -4⋅k⋅m + λ  ⎠\n",
       "           ─────────────────────────       ─────────────────────────\n",
       "                      2⋅m                             2⋅m           \n",
       "y(t) = C₁⋅ℯ                          + C₂⋅ℯ                         "
      ]
     },
     "metadata": {},
     "output_type": "display_data"
    }
   ],
   "source": [
    "y = dsolve(eqn, y(t))\n",
    "display(y)"
   ]
  },
  {
   "cell_type": "markdown",
   "metadata": {},
   "source": [
    "The solution looks very complicated because we have not specified values for the constants $m$, $\\lambda$ and $k$. The nature of the solution depends heavily on the relative values of the coefficients, as we will see later. We have four constants because the most general case the solution is complex, with two complex constants having four real coefficients.\n",
    "\n",
    "Note that the solution is make up of expoential functions and sinusoidal functions. This is typical of second-order ODEs."
   ]
  },
  {
   "cell_type": "markdown",
   "metadata": {},
   "source": [
    "## Second order, constant coefficient equation\n",
    "\n",
    "We'll now solve \n",
    "\n",
    "$$\n",
    "\\frac{d^{2}y}{dx^{2}} + 2 \\frac{dy}{dx} - 3 y = 0\n",
    "$$\n",
    "\n",
    "The solution for this problem will appear simpler because we have concrete values for the coefficients.\n",
    "\n",
    "Entering the differential equation:"
   ]
  },
  {
   "cell_type": "code",
   "execution_count": 7,
   "metadata": {
    "collapsed": false
   },
   "outputs": [
    {
     "data": {
      "image/png": "[encoded data removed]",
      "text/latex": [
       "$$- 3 y{\\left (x \\right )} + 2 \\frac{d}{d x} y{\\left (x \\right )} + \\frac{d^{2}}{d x^{2}}  y{\\left (x \\right )} = 0$$"
      ],
      "text/plain": [
       "                         2          \n",
       "            d           d           \n",
       "-3⋅y(x) + 2⋅──(y(x)) + ───(y(x)) = 0\n",
       "            dx           2          \n",
       "                       dx           "
      ]
     },
     "metadata": {},
     "output_type": "display_data"
    }
   ],
   "source": [
    "y = Function(\"y\")\n",
    "x = symbols(\"x\")\n",
    "eqn = Eq(Derivative(y(x), x, x) + 2*Derivative(y(x), x) - 3*y(x), 0)\n",
    "display(eqn)"
   ]
  },
  {
   "cell_type": "markdown",
   "metadata": {},
   "source": [
    "Solving this equation,"
   ]
  },
  {
   "cell_type": "code",
   "execution_count": 8,
   "metadata": {
    "collapsed": false
   },
   "outputs": [
    {
     "data": {
      "image/png": "[encoded data removed]",
      "text/latex": [
       "$$y{\\left (x \\right )} = C_{1} e^{- 3 x} + C_{2} e^{x}$$"
      ],
      "text/plain": [
       "           -3⋅x       x\n",
       "y(x) = C₁⋅ℯ     + C₂⋅ℯ "
      ]
     },
     "metadata": {},
     "output_type": "display_data"
    }
   ],
   "source": [
    "y1 = dsolve(eqn)\n",
    "display(y1)"
   ]
  },
  {
   "cell_type": "markdown",
   "metadata": {},
   "source": [
    "which is the general solution. As expected for a second-order equation, there are two constants."
   ]
  },
  {
   "cell_type": "markdown",
   "metadata": {},
   "source": [
    "Note that the general solution is of the form\n",
    "\n",
    "$$\n",
    "y = C_{1} e^{\\lambda_{1} x} + C_{2} e^{\\lambda_{2} x}\n",
    "$$\n",
    "\n",
    "The constants $\\lambda_{1}$ and $\\lambda_{2}$ are roots of the \\emph{characteristic} equation\n",
    "\n",
    "$$\n",
    "\\lambda^{2} + 2\\lambda - 3 = 0\n",
    "$$\n",
    "\n",
    "This quadratic equation is trivial to solve, but for completeness we'll look at how to solve it using SymPy. We first define the quadratic equation:"
   ]
  },
  {
   "cell_type": "code",
   "execution_count": 9,
   "metadata": {
    "collapsed": false
   },
   "outputs": [
    {
     "data": {
      "image/png": "[encoded data removed]",
      "text/latex": [
       "$$\\lambda^{2} + 2 \\lambda - 3 = 0$$"
      ],
      "text/plain": [
       " 2              \n",
       "λ  + 2⋅λ - 3 = 0"
      ]
     },
     "metadata": {},
     "output_type": "display_data"
    }
   ],
   "source": [
    "eqn = Eq(lmbda**2 + 2*lmbda -3, 0)\n",
    "display(eqn)"
   ]
  },
  {
   "cell_type": "markdown",
   "metadata": {},
   "source": [
    "and then compute the roots:"
   ]
  },
  {
   "cell_type": "code",
   "execution_count": 10,
   "metadata": {
    "collapsed": false
   },
   "outputs": [
    {
     "data": {
      "image/png": "[encoded data removed]",
      "text/latex": [
       "$$\\left [ -3, \\quad 1\\right ]$$"
      ],
      "text/plain": [
       "[-3, 1]"
      ]
     },
     "execution_count": 10,
     "metadata": {},
     "output_type": "execute_result"
    }
   ],
   "source": [
    "solve(eqn)"
   ]
  },
  {
   "cell_type": "markdown",
   "metadata": {},
   "source": [
    "which as expected are the two exponents in the solution to the differential equattion."
   ]
  }
 ],
 "metadata": {
  "kernelspec": {
   "display_name": "Python 3",
   "language": "python",
   "name": "python3"
  },
  "language_info": {
   "codemirror_mode": {
    "name": "ipython",
    "version": 3
   },
   "file_extension": ".py",
   "mimetype": "text/x-python",
   "name": "python",
   "nbconvert_exporter": "python",
   "pygments_lexer": "ipython3",
   "version": "3.5.2+"
  }
 },
 "nbformat": 4,
 "nbformat_minor": 0
}
