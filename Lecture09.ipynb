{
 "cells": [
  {
   "cell_type": "markdown",
   "metadata": {},
   "source": [
    "# Lecture 9 - change of basis\n",
    "\n",
    "This lecture considered a change of basis for vectors and matrices (tensors)\n",
    "\n",
    "## Vectors and bases\n",
    "\n",
    "A vector $\\boldsymbol{a}$ is represented in terms of its components $a_{i}$with respect to a given basis, e.g.\n",
    "\n",
    "$$\n",
    "\\boldsymbol{a} = a_{1} \\boldsymbol{e}_{1} + a_{2} \\boldsymbol{e}_{2} + a_{3} \\boldsymbol{e}_{3}\n",
    "$$\n",
    "\n",
    "(in old-fashioned notation for the canonical basis $\\boldsymbol{i}$, $\\boldsymbol{j}$, $\\boldsymbol{k}$ is used). Using a suitable basis can sometimes simply construction and/or manipulations, but the 'physical' meaning to the vector is unchanged. With respect to a new basis, say ${\\boldsymbol{e}^{\\prime}_{i}}$, the coefficients will change:\n",
    "\n",
    "$$\n",
    "\\boldsymbol{a} = a^{\\prime}_{1} \\boldsymbol{e}^{\\prime}_{1} + a^{\\prime}_{2} \\boldsymbol{e}^{\\prime}_{2} \n",
    "+ a^{\\prime}_{3} \\boldsymbol{e}^{\\prime}_{3}\n",
    "$$\n",
    "\n",
    "In an attempt at simplicity, in the notes we drop the vector basis and consider the somewhat imprecise concept of rotating the coordinate system.\n",
    "\n",
    "\n",
    "## Coordinate rotations\n",
    "\n",
    "When considering the rotation of vectors, we looked at the rotation of the unit coordinate vectors, $[1, 0, 0]$, $[0, 1, 0]$ and $[0, 0, 1]$ to $\\boldsymbol{q}_{1}$, $\\boldsymbol{q}_{2}$ and $\\boldsymbol{q}_{3}$, respectively. From this, the matrix $\\boldsymbol{Q}$ can be formed:\n",
    "\n",
    "$$\n",
    "\\boldsymbol{Q} =\n",
    "\\begin{bmatrix}\n",
    "\\uparrow & \\uparrow & \\uparrow\n",
    "\\\\\n",
    "\\boldsymbol{q}_{1}  &\n",
    "\\boldsymbol{q}_{2}  &\n",
    "\\boldsymbol{q}_{3} \n",
    "\\\\\n",
    "\\downarrow & \\downarrow & \\downarrow\n",
    "\\end{bmatrix}\n",
    "$$\n",
    "\n",
    "When changing the coordinate system, the vector remains fixed but we rotate the basis. As a consequence, its components will change. If the basis $[1, 0, 0]$, $[0, 1, 0]$ and $[0, 0, 1]$ is rotated to $\\boldsymbol{q}_{1}$, $\\boldsymbol{q}_{2}$ and $\\boldsymbol{q}_{3}$, respectively, the coefficients of a vector $\\boldsymbol{a}$ in the rotated coordinate system are $\\boldsymbol{a}^{\\prime}$ \n",
    "\n",
    "$$\n",
    "\\boldsymbol{a}^{\\prime} = \\boldsymbol{Q}^{T} \\boldsymbol{a} = \\boldsymbol{R} \\boldsymbol{a}\n",
    "$$\n",
    "\n",
    "Matrices that operate on vectors with an associated basis are in fact *tensors*, and can also be rotated:\n",
    "\n",
    "$$\n",
    "\\boldsymbol{A}^{\\prime} = \\boldsymbol{R} \\boldsymbol{A} \\boldsymbol{R}^{T}\n",
    "$$\n",
    "\n",
    "\n",
    "### Example\n",
    "\n",
    "We illustrate now a transformation of an $n \\times n$  matrix $\\boldsymbol{A}$ that will make the matrix particularly simple. We first create a symmetric matrix $\\boldsymbol{A}$  (it will be become clearer later why we consider a symmetric matrix)."
   ]
  },
  {
   "cell_type": "code",
   "execution_count": 1,
   "metadata": {},
   "outputs": [
    {
     "name": "stdout",
     "output_type": "stream",
     "text": [
      "[[0.83404401 0.86708038 0.39688185 0.50678482]\n",
      " [0.86708038 0.18467719 0.72507695 1.22367816]\n",
      " [0.39688185 0.72507695 0.83838903 0.71260709]\n",
      " [0.50678482 1.22367816 0.71260709 1.34093502]]\n"
     ]
    }
   ],
   "source": [
    "# Import NumPy and seed random number generator to make generated matrices deterministic\n",
    "import numpy as np\n",
    "np.random.seed(1)\n",
    "\n",
    "# Create a symmetric matrix with random entries\n",
    "A = np.random.rand(4, 4)\n",
    "A = A + A.T\n",
    "print(A)"
   ]
  },
  {
   "cell_type": "markdown",
   "metadata": {},
   "source": [
    "We need to create a rotation matrix $\\boldsymbol{R}$, which we will do via computation of the eigenvectors (eigenvectors are covered in the next lecture). The details are not so important here; we just need an orthogonal matrix. Computing the eigenvectors of $\\boldsymbol{A}$ and checking that the eigenvectors are orthonormal:"
   ]
  },
  {
   "cell_type": "code",
   "execution_count": 2,
   "metadata": {},
   "outputs": [
    {
     "name": "stdout",
     "output_type": "stream",
     "text": [
      "Dot product of eigenvectors vectors 0, 0: 1.0\n",
      "Dot product of eigenvectors vectors 0, 1: -1.1102230246251565e-16\n",
      "Dot product of eigenvectors vectors 0, 2: 1.6653345369377348e-16\n",
      "Dot product of eigenvectors vectors 0, 3: 1.1102230246251565e-16\n",
      "Dot product of eigenvectors vectors 1, 1: 1.0\n",
      "Dot product of eigenvectors vectors 1, 2: -3.0531133177191805e-16\n",
      "Dot product of eigenvectors vectors 1, 3: -1.249000902703301e-16\n",
      "Dot product of eigenvectors vectors 2, 2: 1.0\n",
      "Dot product of eigenvectors vectors 2, 3: -5.551115123125783e-16\n",
      "Dot product of eigenvectors vectors 3, 3: 1.0\n"
     ]
    }
   ],
   "source": [
    "# Compute eigenvectors to generate a set of orthonormal vector\n",
    "evalues, evectors = np.linalg.eig(A)\n",
    "\n",
    "# Verify that eigenvectors R[i] are orthogonal (see Lecture 8 notebook)\n",
    "import itertools\n",
    "pairs = itertools.combinations_with_replacement(range(np.size(evectors, 0)), 2)\n",
    "for p in pairs:\n",
    "    e0, e1 = p[0], p[1]\n",
    "    print(\"Dot product of eigenvectors vectors {}, {}: {}\".format(e0, e1, evectors[:, e0].dot(evectors[:, e1])))"
   ]
  },
  {
   "cell_type": "markdown",
   "metadata": {},
   "source": [
    "We have verified that the eigenvectors form an orthonormal set, and hence can be used to construct a rotation transformation matrix $\\boldsymbol{R}$. For reasons that will become apparent later, we choose $\\boldsymbol{R}$ to be a matrix whose rows are the eigenvectors of $\\boldsymbol{A}$:"
   ]
  },
  {
   "cell_type": "code",
   "execution_count": 3,
   "metadata": {},
   "outputs": [],
   "source": [
    "R = evectors.T"
   ]
  },
  {
   "cell_type": "markdown",
   "metadata": {},
   "source": [
    "We now apply the transformation defined by $\\boldsymbol{R}$ to $\\boldsymbol{A}$:"
   ]
  },
  {
   "cell_type": "code",
   "execution_count": 4,
   "metadata": {},
   "outputs": [
    {
     "name": "stdout",
     "output_type": "stream",
     "text": [
      "[[ 3.10017696e+00  8.64595847e-16 -9.92371012e-17 -1.78760384e-16]\n",
      " [ 6.79950385e-16 -7.80572081e-01  1.25383421e-16  1.54914387e-16]\n",
      " [-2.03328712e-16  1.02480336e-16  5.36007487e-01 -2.02106068e-16]\n",
      " [-6.91992102e-18  1.51717520e-16 -1.76476911e-16  3.42432883e-01]]\n"
     ]
    }
   ],
   "source": [
    "Ap = (R).dot(A.dot(R.T))\n",
    "print(Ap)"
   ]
  },
  {
   "cell_type": "markdown",
   "metadata": {},
   "source": [
    "Note that the transformed matrix is diagonal. We will investigate this further in following lectures.\n",
    "\n",
    "We can reverse the transformation by exploiting the fact that $\\boldsymbol{R}$ is an orthogonal matrix:"
   ]
  },
  {
   "cell_type": "code",
   "execution_count": 5,
   "metadata": {},
   "outputs": [
    {
     "name": "stdout",
     "output_type": "stream",
     "text": [
      "[[0.83404401 0.86708038 0.39688185 0.50678482]\n",
      " [0.86708038 0.18467719 0.72507695 1.22367816]\n",
      " [0.39688185 0.72507695 0.83838903 0.71260709]\n",
      " [0.50678482 1.22367816 0.71260709 1.34093502]]\n"
     ]
    }
   ],
   "source": [
    "print((R.T).dot(Ap.dot(R)))"
   ]
  },
  {
   "cell_type": "markdown",
   "metadata": {},
   "source": [
    "which is the same as the original matrix."
   ]
  }
 ],
 "metadata": {
  "kernelspec": {
   "display_name": "Python 3",
   "language": "python",
   "name": "python3"
  },
  "language_info": {
   "codemirror_mode": {
    "name": "ipython",
    "version": 3
   },
   "file_extension": ".py",
   "mimetype": "text/x-python",
   "name": "python",
   "nbconvert_exporter": "python",
   "pygments_lexer": "ipython3",
   "version": "3.6.7"
  }
 },
 "nbformat": 4,
 "nbformat_minor": 1
}
